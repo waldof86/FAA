{
 "cells": [
  {
   "cell_type": "code",
   "execution_count": 1,
   "metadata": {},
   "outputs": [],
   "source": [
    "import warnings\n",
    "warnings.filterwarnings(\"ignore\", category=Warning)"
   ]
  },
  {
   "cell_type": "code",
   "execution_count": 2,
   "metadata": {},
   "outputs": [
    {
     "name": "stdout",
     "output_type": "stream",
     "text": [
      "Numpy version: 1.26.4\n"
     ]
    }
   ],
   "source": [
    "import numpy as np\n",
    "np.set_printoptions(suppress=True)\n",
    "\n",
    "# En produccion eliminar, se incluye por información\n",
    "print(f'Numpy version: {np.__version__}')"
   ]
  },
  {
   "cell_type": "code",
   "execution_count": 3,
   "metadata": {},
   "outputs": [
    {
     "name": "stdout",
     "output_type": "stream",
     "text": [
      "Pandas Version: 2.2.2\n"
     ]
    }
   ],
   "source": [
    "import pandas as pd\n",
    "#Configuración de parametros de Pandas para mejor visualización\n",
    "pd.set_option('display.max_columns' , None)\n",
    "pd.set_option('display.max_rows'    , None)\n",
    "pd.set_option('display.max_colwidth', None)\n",
    "pd.set_option('display.precision'   , 3)\n",
    "pd.set_option('plotting.backend'    , 'matplotlib') \n",
    "pd.options.mode.chained_assignment = None\n",
    "\n",
    "# En produccion eliminar, se incluye por informacion\n",
    "print(f'Pandas Version: {pd.__version__}') "
   ]
  },
  {
   "cell_type": "code",
   "execution_count": 4,
   "metadata": {},
   "outputs": [
    {
     "name": "stdout",
     "output_type": "stream",
     "text": [
      "Matplotlib Version: 3.7.3\n"
     ]
    }
   ],
   "source": [
    "import matplotlib\n",
    "# En produccion eliminar, se incluye por informacion\n",
    "print(f'Matplotlib Version: {matplotlib.__version__}') \n",
    "\n",
    "import matplotlib.pyplot as plt\n",
    "%matplotlib inline"
   ]
  },
  {
   "cell_type": "code",
   "execution_count": 5,
   "metadata": {},
   "outputs": [
    {
     "name": "stdout",
     "output_type": "stream",
     "text": [
      "Sklearn Version: 1.4.2\n"
     ]
    }
   ],
   "source": [
    "import sklearn\n",
    "# En produccion eliminar, se incluye por informacion\n",
    "print(f'Sklearn Version: {sklearn.__version__}') \n",
    "\n",
    "from sklearn.model_selection import train_test_split"
   ]
  },
  {
   "cell_type": "markdown",
   "metadata": {},
   "source": [
    "<a id = \"1.0\"></a>\n",
    "<p style=\"font-size:15px;color:#34656d;font-family:'Comic Sans MS';text-align:left;border-radius:5px 5px;\">\n",
    "<strong>Cargar librería autofeat</strong></p> "
   ]
  },
  {
   "cell_type": "code",
   "execution_count": 6,
   "metadata": {},
   "outputs": [
    {
     "name": "stdout",
     "output_type": "stream",
     "text": [
      "Autofeat Version: 2.1.2\n"
     ]
    }
   ],
   "source": [
    "import autofeat\n",
    "# En produccion eliminar, se incluye por informacion\n",
    "print(f'Autofeat Version: {autofeat.__version__}') \n",
    "\n",
    "from autofeat import FeatureSelector\n",
    "\n",
    "%load_ext autoreload\n",
    "%autoreload 2"
   ]
  },
  {
   "cell_type": "markdown",
   "metadata": {},
   "source": [
    "<a id = \"1.0\"></a>\n",
    "<p style=\"font-size:15px;color:#34656d;font-family:'Comic Sans MS';text-align:left;border-radius:5px 5px;\">\n",
    "<strong>Carga de conjunto de datos</strong></p> "
   ]
  },
  {
   "cell_type": "code",
   "execution_count": 7,
   "metadata": {},
   "outputs": [
    {
     "data": {
      "text/plain": [
       "(56935, 83)"
      ]
     },
     "execution_count": 7,
     "metadata": {},
     "output_type": "execute_result"
    }
   ],
   "source": [
    "import joblib as jb\n",
    "df = pd.DataFrame(jb.load('01_EDA_Cleanup.bin'))\n",
    "df = df.dropna()\n",
    "df.shape"
   ]
  },
  {
   "cell_type": "code",
   "execution_count": 8,
   "metadata": {},
   "outputs": [],
   "source": [
    "X = pd.DataFrame(df.drop(columns=['hospital_death']))\n",
    "y = df['hospital_death']\n",
    "X_train, X_test, y_train, y_test = train_test_split(X, y,test_size=.3,random_state =0)"
   ]
  },
  {
   "cell_type": "code",
   "execution_count": 14,
   "metadata": {},
   "outputs": [],
   "source": [
    "fsel = FeatureSelector(\n",
    "    #problem_type='classification',\n",
    "    verbose=1)"
   ]
  },
  {
   "cell_type": "code",
   "execution_count": 23,
   "metadata": {},
   "outputs": [],
   "source": [
    "float64_columns = X.select_dtypes(include=['category']).columns\n",
    "X = X.drop(columns=float64_columns)\n",
    "\n",
    "float64_columns = X.select_dtypes(include=['bool']).columns\n",
    "X = X.drop(columns=float64_columns)"
   ]
  },
  {
   "cell_type": "code",
   "execution_count": 24,
   "metadata": {},
   "outputs": [
    {
     "name": "stderr",
     "output_type": "stream",
     "text": [
      "2024-05-04 16:48:37,434 INFO: [featsel] Feature selection run 1/5\n"
     ]
    },
    {
     "name": "stdout",
     "output_type": "stream",
     "text": [
      "[featsel] Scaling data...done.\n"
     ]
    },
    {
     "name": "stderr",
     "output_type": "stream",
     "text": [
      "2024-05-04 16:48:40,451 INFO: [featsel] Feature selection run 2/5\n",
      "2024-05-04 16:48:43,129 INFO: [featsel] Feature selection run 3/5\n",
      "2024-05-04 16:48:46,030 INFO: [featsel] Feature selection run 4/5\n",
      "2024-05-04 16:48:49,017 INFO: [featsel] Feature selection run 5/5\n",
      "2024-05-04 16:48:51,899 INFO: [featsel] 38 features after 5 feature selection runs\n",
      "2024-05-04 16:48:52,526 INFO: [featsel] 36 features after correlation filtering\n",
      "2024-05-04 16:48:53,358 INFO: [featsel] 26 features after noise filtering\n"
     ]
    }
   ],
   "source": [
    "new_X = fsel.fit_transform(X, pd.DataFrame(y))"
   ]
  },
  {
   "cell_type": "code",
   "execution_count": 27,
   "metadata": {},
   "outputs": [
    {
     "name": "stdout",
     "output_type": "stream",
     "text": [
      "encounter_id                       Int64\n",
      "hospital_id                        Int64\n",
      "age                                Int64\n",
      "bmi                              Float64\n",
      "height                           Float64\n",
      "icu_id                             Int64\n",
      "pre_icu_los_days                 Float64\n",
      "weight                           Float64\n",
      "apache_2_diagnosis                 Int64\n",
      "apache_3j_diagnosis              Float64\n",
      "gcs_eyes_apache                    Int64\n",
      "gcs_motor_apache                   Int64\n",
      "gcs_verbal_apache                  Int64\n",
      "heart_rate_apache                  Int64\n",
      "map_apache                         Int64\n",
      "resprate_apache                  Float64\n",
      "temp_apache                      Float64\n",
      "d1_diasbp_max                      Int64\n",
      "d1_diasbp_min                      Int64\n",
      "d1_diasbp_noninvasive_max          Int64\n",
      "d1_diasbp_noninvasive_min          Int64\n",
      "d1_heartrate_max                   Int64\n",
      "d1_heartrate_min                   Int64\n",
      "d1_mbp_max                         Int64\n",
      "d1_mbp_min                         Int64\n",
      "d1_mbp_noninvasive_max             Int64\n",
      "d1_mbp_noninvasive_min             Int64\n",
      "d1_resprate_max                    Int64\n",
      "d1_resprate_min                    Int64\n",
      "d1_spo2_max                        Int64\n",
      "d1_spo2_min                        Int64\n",
      "d1_sysbp_max                       Int64\n",
      "d1_sysbp_min                       Int64\n",
      "d1_sysbp_noninvasive_max         Float64\n",
      "d1_sysbp_noninvasive_min         Float64\n",
      "d1_temp_max                      Float64\n",
      "d1_temp_min                      Float64\n",
      "h1_diasbp_max                      Int64\n",
      "h1_diasbp_min                      Int64\n",
      "h1_diasbp_noninvasive_max        Float64\n",
      "h1_diasbp_noninvasive_min        Float64\n",
      "h1_heartrate_max                   Int64\n",
      "h1_heartrate_min                   Int64\n",
      "h1_mbp_max                         Int64\n",
      "h1_mbp_min                         Int64\n",
      "h1_mbp_noninvasive_max             Int64\n",
      "h1_mbp_noninvasive_min             Int64\n",
      "h1_resprate_max                    Int64\n",
      "h1_resprate_min                    Int64\n",
      "h1_spo2_max                        Int64\n",
      "h1_spo2_min                        Int64\n",
      "h1_sysbp_max                       Int64\n",
      "h1_sysbp_min                       Int64\n",
      "h1_sysbp_noninvasive_max           Int64\n",
      "h1_sysbp_noninvasive_min           Int64\n",
      "d1_glucose_max                     Int64\n",
      "d1_glucose_min                     Int64\n",
      "d1_potassium_max                 Float64\n",
      "d1_potassium_min                 Float64\n",
      "apache_4a_hospital_death_prob    Float64\n",
      "apache_4a_icu_death_prob         Float64\n",
      "dtype: object\n",
      "age                              float64\n",
      "weight                           float64\n",
      "d1_mbp_min                       float64\n",
      "d1_spo2_min                      float64\n",
      "d1_spo2_max                      float64\n",
      "d1_temp_min                      float64\n",
      "d1_sysbp_min                     float64\n",
      "d1_diasbp_min                    float64\n",
      "d1_glucose_min                   float64\n",
      "d1_resprate_min                  float64\n",
      "resprate_apache                  float64\n",
      "h1_resprate_min                  float64\n",
      "gcs_eyes_apache                  float64\n",
      "d1_heartrate_max                 float64\n",
      "pre_icu_los_days                 float64\n",
      "d1_potassium_max                 float64\n",
      "gcs_motor_apache                 float64\n",
      "apache_3j_diagnosis              float64\n",
      "apache_4a_icu_death_prob         float64\n",
      "apache_4a_hospital_death_prob    float64\n",
      "h1_mbp_min                       float64\n",
      "temp_apache                      float64\n",
      "gcs_verbal_apache                float64\n",
      "h1_resprate_max                  float64\n",
      "d1_glucose_max                   float64\n",
      "apache_2_diagnosis               float64\n",
      "dtype: object\n"
     ]
    }
   ],
   "source": [
    "print(X.dtypes)\n",
    "print(new_X.dtypes)\n",
    "#new_X.head(5)"
   ]
  },
  {
   "cell_type": "code",
   "execution_count": 37,
   "metadata": {},
   "outputs": [],
   "source": [
    "buenas = new_X.columns\n",
    "todas = X.columns\n",
    "malas = [item for item in todas if item not in buenas]\n",
    "\n",
    "df = df.drop(columns=malas)"
   ]
  },
  {
   "cell_type": "code",
   "execution_count": 38,
   "metadata": {},
   "outputs": [
    {
     "name": "stdout",
     "output_type": "stream",
     "text": [
      "Joblib Version: 1.3.2\n"
     ]
    }
   ],
   "source": [
    "import joblib as jb\n",
    "print(f'Joblib Version: {jb.__version__}') "
   ]
  },
  {
   "cell_type": "code",
   "execution_count": 39,
   "metadata": {},
   "outputs": [
    {
     "data": {
      "text/plain": [
       "['03_FE.bin']"
      ]
     },
     "execution_count": 39,
     "metadata": {},
     "output_type": "execute_result"
    }
   ],
   "source": [
    "jb.dump(value=df, filename='03_FE.bin')"
   ]
  }
 ],
 "metadata": {
  "kernelspec": {
   "display_name": "faa",
   "language": "python",
   "name": "python3"
  },
  "language_info": {
   "codemirror_mode": {
    "name": "ipython",
    "version": 3
   },
   "file_extension": ".py",
   "mimetype": "text/x-python",
   "name": "python",
   "nbconvert_exporter": "python",
   "pygments_lexer": "ipython3",
   "version": "3.10.14"
  }
 },
 "nbformat": 4,
 "nbformat_minor": 4
}

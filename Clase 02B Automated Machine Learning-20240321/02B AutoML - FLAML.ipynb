{
 "cells": [
  {
   "cell_type": "markdown",
   "metadata": {},
   "source": [
    "<a id = \"1.0\"></a>\n",
    "<p style=\"font-size:25px;color:#34656d;font-family:'Comic Sans MS';text-align:center;border-radius:5px 5px;\">\n",
    "<strong>FLAML</strong></p> "
   ]
  },
  {
   "cell_type": "markdown",
   "metadata": {},
   "source": [
    "<a id = \"1.0\"></a>\n",
    "<p style=\"font-size:15px;color:#34656d;font-family:'Comic Sans MS';text-align:left;border-radius:5px 5px;\">\n",
    "<strong>FLAML es una biblioteca de Python liviana que encuentra modelos precisos de aprendizaje automático de manera automática, eficiente y económica\n",
    "</strong></p> "
   ]
  },
  {
   "cell_type": "markdown",
   "metadata": {},
   "source": [
    "<a id = \"1.0\"></a>\n",
    "<p style=\"font-size:10px;color:#34656d;font-family:'Comic Sans MS';text-align:right;border-radius:5px 5px;\">\n",
    "<strong>\n",
    "<a href=\"https://microsoft.github.io/FLAML/#automl\" target=\\\"_blank\\\">FLAML API Documentation</a>\n",
    "</strong></p> "
   ]
  },
  {
   "cell_type": "markdown",
   "metadata": {},
   "source": [
    "<a id = \"1.0\"></a>\n",
    "<p style=\"font-size:10px;color:#34656d;font-family:'Comic Sans MS';text-align:right;border-radius:5px 5px;\">\n",
    "<strong>\n",
    "<a href=\"https://www.microsoft.com/en-us/research/publication/flaml-a-fast-and-lightweight-automl-library/\" target=\\\"_blank\\\">FLAML: A Fast and Lightweight AutoML Library</a>\n",
    "</strong></p> "
   ]
  },
  {
   "cell_type": "markdown",
   "metadata": {},
   "source": [
    "<a id = \"1.0\"></a>\n",
    "<p style=\"font-size:15px;color:#34656d;font-family:'Comic Sans MS';text-align:center;border-radius:5px 5px;\">\n",
    "<strong>_____________________________________________________________</strong></p> "
   ]
  },
  {
   "cell_type": "markdown",
   "metadata": {},
   "source": [
    "<a id = \"1.0\"></a>\n",
    "<p style=\"font-size:15px;color:#34656d;font-family:'Comic Sans MS';text-align:left;border-radius:5px 5px;\">\n",
    "<strong>Classification</strong></p> "
   ]
  },
  {
   "cell_type": "code",
   "execution_count": 4,
   "metadata": {},
   "outputs": [],
   "source": [
    "#! pip install FLAML"
   ]
  },
  {
   "cell_type": "code",
   "execution_count": 3,
   "metadata": {},
   "outputs": [],
   "source": [
    "from flaml import AutoML"
   ]
  },
  {
   "cell_type": "code",
   "execution_count": 5,
   "metadata": {},
   "outputs": [],
   "source": [
    "from sklearn.datasets import load_iris"
   ]
  },
  {
   "cell_type": "code",
   "execution_count": 6,
   "metadata": {},
   "outputs": [],
   "source": [
    "automl = AutoML()"
   ]
  },
  {
   "cell_type": "code",
   "execution_count": 7,
   "metadata": {},
   "outputs": [],
   "source": [
    "automl_settings = {\n",
    "    \"time_budget\": 10,        # seconds\n",
    "    \"metric\": 'accuracy',\n",
    "    \"task\": 'classification'\n",
    "}"
   ]
  },
  {
   "cell_type": "code",
   "execution_count": 8,
   "metadata": {},
   "outputs": [],
   "source": [
    "X_train, y_train = load_iris(return_X_y=True)"
   ]
  },
  {
   "cell_type": "code",
   "execution_count": 9,
   "metadata": {},
   "outputs": [
    {
     "name": "stderr",
     "output_type": "stream",
     "text": [
      "[flaml.automl: 11-03 20:05:34] {1463} INFO - Data split method: stratified\n",
      "[flaml.automl: 11-03 20:05:34] {1467} INFO - Evaluation method: cv\n",
      "[flaml.automl: 11-03 20:05:34] {1515} INFO - Minimizing error metric: 1-accuracy\n",
      "[flaml.automl: 11-03 20:05:34] {1552} INFO - List of ML learners in AutoML Run: ['lgbm', 'rf', 'catboost', 'xgboost', 'extra_tree', 'lrl1']\n",
      "[flaml.automl: 11-03 20:05:34] {1793} INFO - iteration 0, current learner lgbm\n",
      "[flaml.automl: 11-03 20:05:35] {1910} INFO - Estimated sufficient time budget=2077s. Estimated necessary time budget=38s.\n",
      "[flaml.automl: 11-03 20:05:35] {1981} INFO -  at 0.3s,\testimator lgbm's best error=0.0733,\tbest estimator lgbm's best error=0.0733\n",
      "[flaml.automl: 11-03 20:05:35] {1793} INFO - iteration 1, current learner lgbm\n",
      "[flaml.automl: 11-03 20:05:35] {1981} INFO -  at 0.3s,\testimator lgbm's best error=0.0733,\tbest estimator lgbm's best error=0.0733\n",
      "[flaml.automl: 11-03 20:05:35] {1793} INFO - iteration 2, current learner lgbm\n",
      "[flaml.automl: 11-03 20:05:35] {1981} INFO -  at 0.4s,\testimator lgbm's best error=0.0733,\tbest estimator lgbm's best error=0.0733\n",
      "[flaml.automl: 11-03 20:05:35] {1793} INFO - iteration 3, current learner lgbm\n",
      "[flaml.automl: 11-03 20:05:35] {1981} INFO -  at 0.5s,\testimator lgbm's best error=0.0400,\tbest estimator lgbm's best error=0.0400\n",
      "[flaml.automl: 11-03 20:05:35] {1793} INFO - iteration 4, current learner lgbm\n",
      "[flaml.automl: 11-03 20:05:35] {1981} INFO -  at 0.5s,\testimator lgbm's best error=0.0400,\tbest estimator lgbm's best error=0.0400\n",
      "[flaml.automl: 11-03 20:05:35] {1793} INFO - iteration 5, current learner lgbm\n",
      "[flaml.automl: 11-03 20:05:35] {1981} INFO -  at 0.6s,\testimator lgbm's best error=0.0400,\tbest estimator lgbm's best error=0.0400\n",
      "[flaml.automl: 11-03 20:05:35] {1793} INFO - iteration 6, current learner lgbm\n",
      "[flaml.automl: 11-03 20:05:35] {1981} INFO -  at 0.6s,\testimator lgbm's best error=0.0400,\tbest estimator lgbm's best error=0.0400\n",
      "[flaml.automl: 11-03 20:05:35] {1793} INFO - iteration 7, current learner lgbm\n",
      "[flaml.automl: 11-03 20:05:35] {1981} INFO -  at 0.7s,\testimator lgbm's best error=0.0400,\tbest estimator lgbm's best error=0.0400\n",
      "[flaml.automl: 11-03 20:05:35] {1793} INFO - iteration 8, current learner lgbm\n",
      "[flaml.automl: 11-03 20:05:35] {1981} INFO -  at 0.7s,\testimator lgbm's best error=0.0400,\tbest estimator lgbm's best error=0.0400\n",
      "[flaml.automl: 11-03 20:05:35] {1793} INFO - iteration 9, current learner lgbm\n",
      "[flaml.automl: 11-03 20:05:35] {1981} INFO -  at 0.8s,\testimator lgbm's best error=0.0400,\tbest estimator lgbm's best error=0.0400\n",
      "[flaml.automl: 11-03 20:05:35] {1793} INFO - iteration 10, current learner lgbm\n",
      "[flaml.automl: 11-03 20:05:35] {1981} INFO -  at 0.9s,\testimator lgbm's best error=0.0400,\tbest estimator lgbm's best error=0.0400\n",
      "[flaml.automl: 11-03 20:05:35] {1793} INFO - iteration 11, current learner xgboost\n",
      "[flaml.automl: 11-03 20:05:36] {1981} INFO -  at 1.4s,\testimator xgboost's best error=0.0600,\tbest estimator lgbm's best error=0.0400\n",
      "[flaml.automl: 11-03 20:05:36] {1793} INFO - iteration 12, current learner lgbm\n",
      "[flaml.automl: 11-03 20:05:36] {1981} INFO -  at 1.5s,\testimator lgbm's best error=0.0400,\tbest estimator lgbm's best error=0.0400\n",
      "[flaml.automl: 11-03 20:05:36] {1793} INFO - iteration 13, current learner extra_tree\n",
      "[flaml.automl: 11-03 20:05:36] {1981} INFO -  at 1.6s,\testimator extra_tree's best error=0.0467,\tbest estimator lgbm's best error=0.0400\n",
      "[flaml.automl: 11-03 20:05:36] {1793} INFO - iteration 14, current learner extra_tree\n",
      "[flaml.automl: 11-03 20:05:36] {1981} INFO -  at 1.7s,\testimator extra_tree's best error=0.0333,\tbest estimator extra_tree's best error=0.0333\n",
      "[flaml.automl: 11-03 20:05:36] {1793} INFO - iteration 15, current learner xgboost\n",
      "[flaml.automl: 11-03 20:05:36] {1981} INFO -  at 1.7s,\testimator xgboost's best error=0.0600,\tbest estimator extra_tree's best error=0.0333\n",
      "[flaml.automl: 11-03 20:05:36] {1793} INFO - iteration 16, current learner extra_tree\n",
      "[flaml.automl: 11-03 20:05:36] {1981} INFO -  at 1.9s,\testimator extra_tree's best error=0.0333,\tbest estimator extra_tree's best error=0.0333\n",
      "[flaml.automl: 11-03 20:05:36] {1793} INFO - iteration 17, current learner lgbm\n",
      "[flaml.automl: 11-03 20:05:36] {1981} INFO -  at 1.9s,\testimator lgbm's best error=0.0400,\tbest estimator extra_tree's best error=0.0333\n",
      "[flaml.automl: 11-03 20:05:36] {1793} INFO - iteration 18, current learner extra_tree\n",
      "[flaml.automl: 11-03 20:05:36] {1981} INFO -  at 2.1s,\testimator extra_tree's best error=0.0333,\tbest estimator extra_tree's best error=0.0333\n",
      "[flaml.automl: 11-03 20:05:36] {1793} INFO - iteration 19, current learner xgboost\n",
      "[flaml.automl: 11-03 20:05:36] {1981} INFO -  at 2.1s,\testimator xgboost's best error=0.0600,\tbest estimator extra_tree's best error=0.0333\n",
      "[flaml.automl: 11-03 20:05:36] {1793} INFO - iteration 20, current learner extra_tree\n",
      "[flaml.automl: 11-03 20:05:37] {1981} INFO -  at 2.2s,\testimator extra_tree's best error=0.0333,\tbest estimator extra_tree's best error=0.0333\n",
      "[flaml.automl: 11-03 20:05:37] {1793} INFO - iteration 21, current learner lgbm\n",
      "[flaml.automl: 11-03 20:05:37] {1981} INFO -  at 2.3s,\testimator lgbm's best error=0.0400,\tbest estimator extra_tree's best error=0.0333\n",
      "[flaml.automl: 11-03 20:05:37] {1793} INFO - iteration 22, current learner lgbm\n",
      "[flaml.automl: 11-03 20:05:37] {1981} INFO -  at 2.4s,\testimator lgbm's best error=0.0400,\tbest estimator extra_tree's best error=0.0333\n",
      "[flaml.automl: 11-03 20:05:37] {1793} INFO - iteration 23, current learner extra_tree\n",
      "[flaml.automl: 11-03 20:05:37] {1981} INFO -  at 2.5s,\testimator extra_tree's best error=0.0333,\tbest estimator extra_tree's best error=0.0333\n",
      "[flaml.automl: 11-03 20:05:37] {1793} INFO - iteration 24, current learner rf\n",
      "[flaml.automl: 11-03 20:05:37] {1981} INFO -  at 2.6s,\testimator rf's best error=0.0267,\tbest estimator rf's best error=0.0267\n",
      "[flaml.automl: 11-03 20:05:37] {1793} INFO - iteration 25, current learner extra_tree\n",
      "[flaml.automl: 11-03 20:05:37] {1981} INFO -  at 2.7s,\testimator extra_tree's best error=0.0333,\tbest estimator rf's best error=0.0267\n",
      "[flaml.automl: 11-03 20:05:37] {1793} INFO - iteration 26, current learner rf\n",
      "[flaml.automl: 11-03 20:05:37] {1981} INFO -  at 2.8s,\testimator rf's best error=0.0267,\tbest estimator rf's best error=0.0267\n",
      "[flaml.automl: 11-03 20:05:37] {1793} INFO - iteration 27, current learner rf\n",
      "[flaml.automl: 11-03 20:05:37] {1981} INFO -  at 2.9s,\testimator rf's best error=0.0267,\tbest estimator rf's best error=0.0267\n",
      "[flaml.automl: 11-03 20:05:37] {1793} INFO - iteration 28, current learner extra_tree\n",
      "[flaml.automl: 11-03 20:05:37] {1981} INFO -  at 3.1s,\testimator extra_tree's best error=0.0333,\tbest estimator rf's best error=0.0267\n",
      "[flaml.automl: 11-03 20:05:37] {1793} INFO - iteration 29, current learner extra_tree\n",
      "[flaml.automl: 11-03 20:05:37] {1981} INFO -  at 3.2s,\testimator extra_tree's best error=0.0333,\tbest estimator rf's best error=0.0267\n",
      "[flaml.automl: 11-03 20:05:37] {1793} INFO - iteration 30, current learner lgbm\n",
      "[flaml.automl: 11-03 20:05:37] {1981} INFO -  at 3.2s,\testimator lgbm's best error=0.0400,\tbest estimator rf's best error=0.0267\n",
      "[flaml.automl: 11-03 20:05:38] {1793} INFO - iteration 31, current learner lgbm\n",
      "[flaml.automl: 11-03 20:05:38] {1981} INFO -  at 3.3s,\testimator lgbm's best error=0.0400,\tbest estimator rf's best error=0.0267\n",
      "[flaml.automl: 11-03 20:05:38] {1793} INFO - iteration 32, current learner rf\n",
      "[flaml.automl: 11-03 20:05:38] {1981} INFO -  at 3.4s,\testimator rf's best error=0.0267,\tbest estimator rf's best error=0.0267\n",
      "[flaml.automl: 11-03 20:05:38] {1793} INFO - iteration 33, current learner extra_tree\n",
      "[flaml.automl: 11-03 20:05:38] {1981} INFO -  at 3.5s,\testimator extra_tree's best error=0.0333,\tbest estimator rf's best error=0.0267\n",
      "[flaml.automl: 11-03 20:05:38] {1793} INFO - iteration 34, current learner lgbm\n",
      "[flaml.automl: 11-03 20:05:38] {1981} INFO -  at 3.6s,\testimator lgbm's best error=0.0400,\tbest estimator rf's best error=0.0267\n",
      "[flaml.automl: 11-03 20:05:38] {1793} INFO - iteration 35, current learner rf\n",
      "[flaml.automl: 11-03 20:05:38] {1981} INFO -  at 3.7s,\testimator rf's best error=0.0267,\tbest estimator rf's best error=0.0267\n"
     ]
    },
    {
     "name": "stderr",
     "output_type": "stream",
     "text": [
      "[flaml.automl: 11-03 20:05:38] {1793} INFO - iteration 36, current learner extra_tree\n",
      "[flaml.automl: 11-03 20:05:38] {1981} INFO -  at 3.8s,\testimator extra_tree's best error=0.0333,\tbest estimator rf's best error=0.0267\n",
      "[flaml.automl: 11-03 20:05:38] {1793} INFO - iteration 37, current learner rf\n",
      "[flaml.automl: 11-03 20:05:38] {1981} INFO -  at 4.0s,\testimator rf's best error=0.0267,\tbest estimator rf's best error=0.0267\n",
      "[flaml.automl: 11-03 20:05:38] {1793} INFO - iteration 38, current learner xgboost\n",
      "[flaml.automl: 11-03 20:05:38] {1981} INFO -  at 4.0s,\testimator xgboost's best error=0.0600,\tbest estimator rf's best error=0.0267\n",
      "[flaml.automl: 11-03 20:05:38] {1793} INFO - iteration 39, current learner rf\n",
      "[flaml.automl: 11-03 20:05:38] {1981} INFO -  at 4.1s,\testimator rf's best error=0.0267,\tbest estimator rf's best error=0.0267\n",
      "[flaml.automl: 11-03 20:05:38] {1793} INFO - iteration 40, current learner xgboost\n",
      "[flaml.automl: 11-03 20:05:38] {1981} INFO -  at 4.2s,\testimator xgboost's best error=0.0600,\tbest estimator rf's best error=0.0267\n",
      "[flaml.automl: 11-03 20:05:38] {1793} INFO - iteration 41, current learner extra_tree\n",
      "[flaml.automl: 11-03 20:05:39] {1981} INFO -  at 4.3s,\testimator extra_tree's best error=0.0333,\tbest estimator rf's best error=0.0267\n",
      "[flaml.automl: 11-03 20:05:39] {1793} INFO - iteration 42, current learner lgbm\n",
      "[flaml.automl: 11-03 20:05:39] {1981} INFO -  at 4.4s,\testimator lgbm's best error=0.0400,\tbest estimator rf's best error=0.0267\n",
      "[flaml.automl: 11-03 20:05:39] {1793} INFO - iteration 43, current learner xgboost\n",
      "[flaml.automl: 11-03 20:05:39] {1981} INFO -  at 4.4s,\testimator xgboost's best error=0.0600,\tbest estimator rf's best error=0.0267\n",
      "[flaml.automl: 11-03 20:05:39] {1793} INFO - iteration 44, current learner extra_tree\n",
      "[flaml.automl: 11-03 20:05:39] {1981} INFO -  at 4.6s,\testimator extra_tree's best error=0.0333,\tbest estimator rf's best error=0.0267\n",
      "[flaml.automl: 11-03 20:05:39] {1793} INFO - iteration 45, current learner xgboost\n",
      "[flaml.automl: 11-03 20:05:39] {1981} INFO -  at 4.6s,\testimator xgboost's best error=0.0600,\tbest estimator rf's best error=0.0267\n",
      "[flaml.automl: 11-03 20:05:39] {1793} INFO - iteration 46, current learner rf\n",
      "[flaml.automl: 11-03 20:05:39] {1981} INFO -  at 4.7s,\testimator rf's best error=0.0267,\tbest estimator rf's best error=0.0267\n",
      "[flaml.automl: 11-03 20:05:39] {1793} INFO - iteration 47, current learner xgboost\n",
      "[flaml.automl: 11-03 20:05:39] {1981} INFO -  at 4.8s,\testimator xgboost's best error=0.0600,\tbest estimator rf's best error=0.0267\n",
      "[flaml.automl: 11-03 20:05:39] {1793} INFO - iteration 48, current learner lgbm\n",
      "[flaml.automl: 11-03 20:05:39] {1981} INFO -  at 4.8s,\testimator lgbm's best error=0.0400,\tbest estimator rf's best error=0.0267\n",
      "[flaml.automl: 11-03 20:05:39] {1793} INFO - iteration 49, current learner rf\n",
      "[flaml.automl: 11-03 20:05:39] {1981} INFO -  at 5.0s,\testimator rf's best error=0.0267,\tbest estimator rf's best error=0.0267\n",
      "[flaml.automl: 11-03 20:05:39] {1793} INFO - iteration 50, current learner extra_tree\n",
      "[flaml.automl: 11-03 20:05:39] {1981} INFO -  at 5.1s,\testimator extra_tree's best error=0.0333,\tbest estimator rf's best error=0.0267\n",
      "[flaml.automl: 11-03 20:05:39] {1793} INFO - iteration 51, current learner lgbm\n",
      "[flaml.automl: 11-03 20:05:39] {1981} INFO -  at 5.1s,\testimator lgbm's best error=0.0400,\tbest estimator rf's best error=0.0267\n",
      "[flaml.automl: 11-03 20:05:39] {1793} INFO - iteration 52, current learner rf\n",
      "[flaml.automl: 11-03 20:05:40] {1981} INFO -  at 5.3s,\testimator rf's best error=0.0267,\tbest estimator rf's best error=0.0267\n",
      "[flaml.automl: 11-03 20:05:40] {1793} INFO - iteration 53, current learner lgbm\n",
      "[flaml.automl: 11-03 20:05:40] {1981} INFO -  at 5.3s,\testimator lgbm's best error=0.0400,\tbest estimator rf's best error=0.0267\n",
      "[flaml.automl: 11-03 20:05:40] {1793} INFO - iteration 54, current learner lgbm\n",
      "[flaml.automl: 11-03 20:05:40] {1981} INFO -  at 5.4s,\testimator lgbm's best error=0.0400,\tbest estimator rf's best error=0.0267\n",
      "[flaml.automl: 11-03 20:05:40] {1793} INFO - iteration 55, current learner xgboost\n",
      "[flaml.automl: 11-03 20:05:40] {1981} INFO -  at 5.5s,\testimator xgboost's best error=0.0533,\tbest estimator rf's best error=0.0267\n",
      "[flaml.automl: 11-03 20:05:40] {1793} INFO - iteration 56, current learner lgbm\n",
      "[flaml.automl: 11-03 20:05:40] {1981} INFO -  at 5.5s,\testimator lgbm's best error=0.0400,\tbest estimator rf's best error=0.0267\n",
      "[flaml.automl: 11-03 20:05:40] {1793} INFO - iteration 57, current learner lgbm\n",
      "[flaml.automl: 11-03 20:05:40] {1981} INFO -  at 5.6s,\testimator lgbm's best error=0.0400,\tbest estimator rf's best error=0.0267\n",
      "[flaml.automl: 11-03 20:05:40] {1793} INFO - iteration 58, current learner rf\n",
      "[flaml.automl: 11-03 20:05:40] {1981} INFO -  at 5.7s,\testimator rf's best error=0.0267,\tbest estimator rf's best error=0.0267\n",
      "[flaml.automl: 11-03 20:05:40] {1793} INFO - iteration 59, current learner lgbm\n",
      "[flaml.automl: 11-03 20:05:40] {1981} INFO -  at 5.8s,\testimator lgbm's best error=0.0333,\tbest estimator rf's best error=0.0267\n",
      "[flaml.automl: 11-03 20:05:40] {1793} INFO - iteration 60, current learner xgboost\n",
      "[flaml.automl: 11-03 20:05:40] {1981} INFO -  at 5.8s,\testimator xgboost's best error=0.0533,\tbest estimator rf's best error=0.0267\n",
      "[flaml.automl: 11-03 20:05:40] {1793} INFO - iteration 61, current learner lgbm\n",
      "[flaml.automl: 11-03 20:05:40] {1981} INFO -  at 5.9s,\testimator lgbm's best error=0.0333,\tbest estimator rf's best error=0.0267\n",
      "[flaml.automl: 11-03 20:05:40] {1793} INFO - iteration 62, current learner xgboost\n",
      "[flaml.automl: 11-03 20:05:40] {1981} INFO -  at 6.0s,\testimator xgboost's best error=0.0533,\tbest estimator rf's best error=0.0267\n",
      "[flaml.automl: 11-03 20:05:40] {1793} INFO - iteration 63, current learner extra_tree\n",
      "[flaml.automl: 11-03 20:05:40] {1981} INFO -  at 6.1s,\testimator extra_tree's best error=0.0333,\tbest estimator rf's best error=0.0267\n",
      "[flaml.automl: 11-03 20:05:40] {1793} INFO - iteration 64, current learner lgbm\n",
      "[flaml.automl: 11-03 20:05:40] {1981} INFO -  at 6.2s,\testimator lgbm's best error=0.0333,\tbest estimator rf's best error=0.0267\n",
      "[flaml.automl: 11-03 20:05:40] {1793} INFO - iteration 65, current learner rf\n",
      "[flaml.automl: 11-03 20:05:41] {1981} INFO -  at 6.3s,\testimator rf's best error=0.0267,\tbest estimator rf's best error=0.0267\n",
      "[flaml.automl: 11-03 20:05:41] {1793} INFO - iteration 66, current learner extra_tree\n",
      "[flaml.automl: 11-03 20:05:41] {1981} INFO -  at 6.4s,\testimator extra_tree's best error=0.0333,\tbest estimator rf's best error=0.0267\n",
      "[flaml.automl: 11-03 20:05:41] {1793} INFO - iteration 67, current learner rf\n",
      "[flaml.automl: 11-03 20:05:41] {1981} INFO -  at 6.5s,\testimator rf's best error=0.0267,\tbest estimator rf's best error=0.0267\n",
      "[flaml.automl: 11-03 20:05:41] {1793} INFO - iteration 68, current learner lgbm\n",
      "[flaml.automl: 11-03 20:05:41] {1981} INFO -  at 6.5s,\testimator lgbm's best error=0.0333,\tbest estimator rf's best error=0.0267\n",
      "[flaml.automl: 11-03 20:05:41] {1793} INFO - iteration 69, current learner rf\n",
      "[flaml.automl: 11-03 20:05:41] {1981} INFO -  at 6.7s,\testimator rf's best error=0.0267,\tbest estimator rf's best error=0.0267\n",
      "[flaml.automl: 11-03 20:05:41] {1793} INFO - iteration 70, current learner extra_tree\n",
      "[flaml.automl: 11-03 20:05:41] {1981} INFO -  at 6.8s,\testimator extra_tree's best error=0.0333,\tbest estimator rf's best error=0.0267\n",
      "[flaml.automl: 11-03 20:05:41] {1793} INFO - iteration 71, current learner rf\n",
      "[flaml.automl: 11-03 20:05:41] {1981} INFO -  at 6.9s,\testimator rf's best error=0.0267,\tbest estimator rf's best error=0.0267\n",
      "[flaml.automl: 11-03 20:05:41] {1793} INFO - iteration 72, current learner extra_tree\n",
      "[flaml.automl: 11-03 20:05:41] {1981} INFO -  at 7.0s,\testimator extra_tree's best error=0.0333,\tbest estimator rf's best error=0.0267\n",
      "[flaml.automl: 11-03 20:05:41] {1793} INFO - iteration 73, current learner xgboost\n",
      "[flaml.automl: 11-03 20:05:41] {1981} INFO -  at 7.0s,\testimator xgboost's best error=0.0533,\tbest estimator rf's best error=0.0267\n",
      "[flaml.automl: 11-03 20:05:41] {1793} INFO - iteration 74, current learner extra_tree\n",
      "[flaml.automl: 11-03 20:05:41] {1981} INFO -  at 7.1s,\testimator extra_tree's best error=0.0333,\tbest estimator rf's best error=0.0267\n"
     ]
    },
    {
     "name": "stderr",
     "output_type": "stream",
     "text": [
      "[flaml.automl: 11-03 20:05:41] {1793} INFO - iteration 75, current learner lgbm\n",
      "[flaml.automl: 11-03 20:05:41] {1981} INFO -  at 7.2s,\testimator lgbm's best error=0.0333,\tbest estimator rf's best error=0.0267\n",
      "[flaml.automl: 11-03 20:05:41] {1793} INFO - iteration 76, current learner lgbm\n",
      "[flaml.automl: 11-03 20:05:42] {1981} INFO -  at 7.3s,\testimator lgbm's best error=0.0333,\tbest estimator rf's best error=0.0267\n",
      "[flaml.automl: 11-03 20:05:42] {1793} INFO - iteration 77, current learner extra_tree\n",
      "[flaml.automl: 11-03 20:05:42] {1981} INFO -  at 7.4s,\testimator extra_tree's best error=0.0333,\tbest estimator rf's best error=0.0267\n",
      "[flaml.automl: 11-03 20:05:42] {1793} INFO - iteration 78, current learner rf\n",
      "[flaml.automl: 11-03 20:05:42] {1981} INFO -  at 7.5s,\testimator rf's best error=0.0267,\tbest estimator rf's best error=0.0267\n",
      "[flaml.automl: 11-03 20:05:42] {1793} INFO - iteration 79, current learner lgbm\n",
      "[flaml.automl: 11-03 20:05:42] {1981} INFO -  at 7.5s,\testimator lgbm's best error=0.0333,\tbest estimator rf's best error=0.0267\n",
      "[flaml.automl: 11-03 20:05:42] {1793} INFO - iteration 80, current learner extra_tree\n",
      "[flaml.automl: 11-03 20:05:42] {1981} INFO -  at 7.7s,\testimator extra_tree's best error=0.0333,\tbest estimator rf's best error=0.0267\n",
      "[flaml.automl: 11-03 20:05:42] {1793} INFO - iteration 81, current learner rf\n",
      "[flaml.automl: 11-03 20:05:42] {1981} INFO -  at 7.7s,\testimator rf's best error=0.0267,\tbest estimator rf's best error=0.0267\n",
      "[flaml.automl: 11-03 20:05:42] {1793} INFO - iteration 82, current learner extra_tree\n",
      "[flaml.automl: 11-03 20:05:42] {1981} INFO -  at 7.8s,\testimator extra_tree's best error=0.0333,\tbest estimator rf's best error=0.0267\n",
      "[flaml.automl: 11-03 20:05:42] {1793} INFO - iteration 83, current learner extra_tree\n",
      "[flaml.automl: 11-03 20:05:42] {1981} INFO -  at 7.9s,\testimator extra_tree's best error=0.0333,\tbest estimator rf's best error=0.0267\n",
      "[flaml.automl: 11-03 20:05:42] {1793} INFO - iteration 84, current learner extra_tree\n",
      "[flaml.automl: 11-03 20:05:42] {1981} INFO -  at 8.1s,\testimator extra_tree's best error=0.0333,\tbest estimator rf's best error=0.0267\n",
      "[flaml.automl: 11-03 20:05:42] {1793} INFO - iteration 85, current learner xgboost\n",
      "[flaml.automl: 11-03 20:05:42] {1981} INFO -  at 8.1s,\testimator xgboost's best error=0.0533,\tbest estimator rf's best error=0.0267\n",
      "[flaml.automl: 11-03 20:05:42] {1793} INFO - iteration 86, current learner extra_tree\n",
      "[flaml.automl: 11-03 20:05:43] {1981} INFO -  at 8.3s,\testimator extra_tree's best error=0.0333,\tbest estimator rf's best error=0.0267\n",
      "[flaml.automl: 11-03 20:05:43] {1793} INFO - iteration 87, current learner rf\n",
      "[flaml.automl: 11-03 20:05:43] {1981} INFO -  at 8.4s,\testimator rf's best error=0.0267,\tbest estimator rf's best error=0.0267\n",
      "[flaml.automl: 11-03 20:05:43] {1793} INFO - iteration 88, current learner rf\n",
      "[flaml.automl: 11-03 20:05:43] {1981} INFO -  at 8.5s,\testimator rf's best error=0.0267,\tbest estimator rf's best error=0.0267\n",
      "[flaml.automl: 11-03 20:05:43] {1793} INFO - iteration 89, current learner extra_tree\n",
      "[flaml.automl: 11-03 20:05:43] {1981} INFO -  at 8.6s,\testimator extra_tree's best error=0.0333,\tbest estimator rf's best error=0.0267\n",
      "[flaml.automl: 11-03 20:05:43] {1793} INFO - iteration 90, current learner rf\n",
      "[flaml.automl: 11-03 20:05:43] {1981} INFO -  at 8.7s,\testimator rf's best error=0.0267,\tbest estimator rf's best error=0.0267\n",
      "[flaml.automl: 11-03 20:05:43] {1793} INFO - iteration 91, current learner extra_tree\n",
      "[flaml.automl: 11-03 20:05:43] {1981} INFO -  at 8.8s,\testimator extra_tree's best error=0.0333,\tbest estimator rf's best error=0.0267\n",
      "[flaml.automl: 11-03 20:05:43] {1793} INFO - iteration 92, current learner xgboost\n",
      "[flaml.automl: 11-03 20:05:43] {1981} INFO -  at 8.9s,\testimator xgboost's best error=0.0533,\tbest estimator rf's best error=0.0267\n",
      "[flaml.automl: 11-03 20:05:43] {1793} INFO - iteration 93, current learner xgboost\n",
      "[flaml.automl: 11-03 20:05:43] {1981} INFO -  at 8.9s,\testimator xgboost's best error=0.0533,\tbest estimator rf's best error=0.0267\n",
      "[flaml.automl: 11-03 20:05:43] {1793} INFO - iteration 94, current learner lgbm\n",
      "[flaml.automl: 11-03 20:05:43] {1981} INFO -  at 9.0s,\testimator lgbm's best error=0.0333,\tbest estimator rf's best error=0.0267\n",
      "[flaml.automl: 11-03 20:05:43] {1793} INFO - iteration 95, current learner extra_tree\n",
      "[flaml.automl: 11-03 20:05:43] {1981} INFO -  at 9.1s,\testimator extra_tree's best error=0.0333,\tbest estimator rf's best error=0.0267\n",
      "[flaml.automl: 11-03 20:05:43] {1793} INFO - iteration 96, current learner rf\n",
      "[flaml.automl: 11-03 20:05:44] {1981} INFO -  at 9.3s,\testimator rf's best error=0.0267,\tbest estimator rf's best error=0.0267\n",
      "[flaml.automl: 11-03 20:05:44] {1793} INFO - iteration 97, current learner rf\n",
      "[flaml.automl: 11-03 20:05:44] {1981} INFO -  at 9.4s,\testimator rf's best error=0.0267,\tbest estimator rf's best error=0.0267\n",
      "[flaml.automl: 11-03 20:05:44] {1793} INFO - iteration 98, current learner rf\n",
      "[flaml.automl: 11-03 20:05:44] {1981} INFO -  at 9.6s,\testimator rf's best error=0.0267,\tbest estimator rf's best error=0.0267\n",
      "[flaml.automl: 11-03 20:05:44] {1793} INFO - iteration 99, current learner lgbm\n",
      "[flaml.automl: 11-03 20:05:44] {1981} INFO -  at 9.6s,\testimator lgbm's best error=0.0333,\tbest estimator rf's best error=0.0267\n",
      "[flaml.automl: 11-03 20:05:44] {1793} INFO - iteration 100, current learner extra_tree\n",
      "[flaml.automl: 11-03 20:05:44] {1981} INFO -  at 9.7s,\testimator extra_tree's best error=0.0333,\tbest estimator rf's best error=0.0267\n",
      "[flaml.automl: 11-03 20:05:44] {1793} INFO - iteration 101, current learner rf\n",
      "[flaml.automl: 11-03 20:05:44] {1981} INFO -  at 9.8s,\testimator rf's best error=0.0267,\tbest estimator rf's best error=0.0267\n",
      "[flaml.automl: 11-03 20:05:44] {1793} INFO - iteration 102, current learner lgbm\n",
      "[flaml.automl: 11-03 20:05:44] {1981} INFO -  at 9.9s,\testimator lgbm's best error=0.0333,\tbest estimator rf's best error=0.0267\n",
      "[flaml.automl: 11-03 20:05:44] {1793} INFO - iteration 103, current learner xgboost\n",
      "[flaml.automl: 11-03 20:05:44] {1981} INFO -  at 9.9s,\testimator xgboost's best error=0.0533,\tbest estimator rf's best error=0.0267\n",
      "[flaml.automl: 11-03 20:05:44] {1793} INFO - iteration 104, current learner catboost\n",
      "[flaml.automl: 11-03 20:05:45] {1981} INFO -  at 10.4s,\testimator catboost's best error=0.0333,\tbest estimator rf's best error=0.0267\n",
      "[flaml.automl: 11-03 20:05:45] {2087} INFO - selected model: RandomForestClassifier(max_features=1.0, max_leaf_nodes=4, n_estimators=4,\n",
      "                       n_jobs=-1)\n",
      "[flaml.automl: 11-03 20:05:45] {2149} INFO - retrain rf for 0.0s\n",
      "[flaml.automl: 11-03 20:05:45] {2155} INFO - retrained model: RandomForestClassifier(max_features=1.0, max_leaf_nodes=4, n_estimators=4,\n",
      "                       n_jobs=-1)\n",
      "[flaml.automl: 11-03 20:05:45] {1576} INFO - fit succeeded\n",
      "[flaml.automl: 11-03 20:05:45] {1577} INFO - Time taken to find the best model: 2.6217663288116455\n"
     ]
    }
   ],
   "source": [
    "automl.fit(X_train=X_train, y_train=y_train,**automl_settings)"
   ]
  },
  {
   "cell_type": "code",
   "execution_count": 10,
   "metadata": {},
   "outputs": [
    {
     "name": "stdout",
     "output_type": "stream",
     "text": [
      "(150, 3)\n"
     ]
    }
   ],
   "source": [
    "print(automl.predict_proba(X_train).shape)"
   ]
  },
  {
   "cell_type": "code",
   "execution_count": 11,
   "metadata": {},
   "outputs": [
    {
     "name": "stdout",
     "output_type": "stream",
     "text": [
      "<flaml.model.RandomForestEstimator object at 0x0000010C4F36D850>\n"
     ]
    }
   ],
   "source": [
    "print(automl.model)"
   ]
  },
  {
   "cell_type": "code",
   "execution_count": 12,
   "metadata": {},
   "outputs": [
    {
     "name": "stdout",
     "output_type": "stream",
     "text": [
      "Best ML leaner: rf\n",
      "Best hyperparmeter config: {'n_estimators': 4, 'max_features': 1.0, 'max_leaves': 4, 'criterion': 'gini'}\n",
      "Best accuracy on validation data: 0.9733\n",
      "Training duration of best run: 0.1037 s\n"
     ]
    }
   ],
   "source": [
    "print('Best ML leaner:', automl.best_estimator)\n",
    "print('Best hyperparmeter config:', automl.best_config)\n",
    "print('Best accuracy on validation data: {0:.4g}'.format(1-automl.best_loss))\n",
    "print('Training duration of best run: {0:.4g} s'.format(automl.best_config_train_time))"
   ]
  },
  {
   "cell_type": "markdown",
   "metadata": {},
   "source": [
    "<a id = \"1.0\"></a>\n",
    "<p style=\"font-size:15px;color:#34656d;font-family:'Comic Sans MS';text-align:center;border-radius:5px 5px;\">\n",
    "<strong>_____________________________________________________________</strong></p> "
   ]
  },
  {
   "cell_type": "markdown",
   "metadata": {},
   "source": [
    "<a id = \"1.0\"></a>\n",
    "<p style=\"font-size:15px;color:#34656d;font-family:'Comic Sans MS';text-align:left;border-radius:5px 5px;\">\n",
    "<strong>Regression</strong></p> "
   ]
  },
  {
   "cell_type": "code",
   "execution_count": 13,
   "metadata": {},
   "outputs": [],
   "source": [
    "from sklearn.datasets import load_boston"
   ]
  },
  {
   "cell_type": "code",
   "execution_count": 14,
   "metadata": {},
   "outputs": [],
   "source": [
    "automl = AutoML()"
   ]
  },
  {
   "cell_type": "code",
   "execution_count": 15,
   "metadata": {},
   "outputs": [],
   "source": [
    "automl_settings = {\n",
    "    \"time_budget\": 20,  # in seconds\n",
    "    \"metric\": 'r2',\n",
    "    \"task\": 'regression'\n",
    "}"
   ]
  },
  {
   "cell_type": "code",
   "execution_count": 16,
   "metadata": {},
   "outputs": [],
   "source": [
    "X_train, y_train = load_boston(return_X_y=True)"
   ]
  },
  {
   "cell_type": "code",
   "execution_count": 17,
   "metadata": {},
   "outputs": [
    {
     "name": "stderr",
     "output_type": "stream",
     "text": [
      "[flaml.automl: 11-03 20:05:54] {1463} INFO - Data split method: uniform\n",
      "[flaml.automl: 11-03 20:05:54] {1467} INFO - Evaluation method: cv\n",
      "[flaml.automl: 11-03 20:05:54] {1515} INFO - Minimizing error metric: 1-r2\n",
      "[flaml.automl: 11-03 20:05:54] {1552} INFO - List of ML learners in AutoML Run: ['lgbm', 'rf', 'catboost', 'xgboost', 'extra_tree']\n",
      "[flaml.automl: 11-03 20:05:54] {1793} INFO - iteration 0, current learner lgbm\n",
      "[flaml.automl: 11-03 20:05:54] {1910} INFO - Estimated sufficient time budget=440s. Estimated necessary time budget=1s.\n",
      "[flaml.automl: 11-03 20:05:54] {1981} INFO -  at 0.1s,\testimator lgbm's best error=0.6237,\tbest estimator lgbm's best error=0.6237\n",
      "[flaml.automl: 11-03 20:05:54] {1793} INFO - iteration 1, current learner lgbm\n",
      "[flaml.automl: 11-03 20:05:54] {1981} INFO -  at 0.1s,\testimator lgbm's best error=0.6237,\tbest estimator lgbm's best error=0.6237\n",
      "[flaml.automl: 11-03 20:05:54] {1793} INFO - iteration 2, current learner lgbm\n",
      "[flaml.automl: 11-03 20:05:55] {1981} INFO -  at 0.2s,\testimator lgbm's best error=0.3431,\tbest estimator lgbm's best error=0.3431\n",
      "[flaml.automl: 11-03 20:05:55] {1793} INFO - iteration 3, current learner xgboost\n",
      "[flaml.automl: 11-03 20:05:55] {1981} INFO -  at 0.2s,\testimator xgboost's best error=3.1930,\tbest estimator lgbm's best error=0.3431\n",
      "[flaml.automl: 11-03 20:05:55] {1793} INFO - iteration 4, current learner extra_tree\n",
      "[flaml.automl: 11-03 20:05:55] {1981} INFO -  at 0.3s,\testimator extra_tree's best error=0.3587,\tbest estimator lgbm's best error=0.3431\n",
      "[flaml.automl: 11-03 20:05:55] {1793} INFO - iteration 5, current learner rf\n",
      "[flaml.automl: 11-03 20:05:55] {1981} INFO -  at 0.4s,\testimator rf's best error=0.2869,\tbest estimator rf's best error=0.2869\n",
      "[flaml.automl: 11-03 20:05:55] {1793} INFO - iteration 6, current learner lgbm\n",
      "[flaml.automl: 11-03 20:05:55] {1981} INFO -  at 0.5s,\testimator lgbm's best error=0.2316,\tbest estimator lgbm's best error=0.2316\n",
      "[flaml.automl: 11-03 20:05:55] {1793} INFO - iteration 7, current learner lgbm\n",
      "[flaml.automl: 11-03 20:05:55] {1981} INFO -  at 0.5s,\testimator lgbm's best error=0.2316,\tbest estimator lgbm's best error=0.2316\n",
      "[flaml.automl: 11-03 20:05:55] {1793} INFO - iteration 8, current learner lgbm\n",
      "[flaml.automl: 11-03 20:05:55] {1981} INFO -  at 0.6s,\testimator lgbm's best error=0.2160,\tbest estimator lgbm's best error=0.2160\n",
      "[flaml.automl: 11-03 20:05:55] {1793} INFO - iteration 9, current learner lgbm\n",
      "[flaml.automl: 11-03 20:05:55] {1981} INFO -  at 0.7s,\testimator lgbm's best error=0.2160,\tbest estimator lgbm's best error=0.2160\n",
      "[flaml.automl: 11-03 20:05:55] {1793} INFO - iteration 10, current learner lgbm\n",
      "[flaml.automl: 11-03 20:05:55] {1981} INFO -  at 0.7s,\testimator lgbm's best error=0.2160,\tbest estimator lgbm's best error=0.2160\n",
      "[flaml.automl: 11-03 20:05:55] {1793} INFO - iteration 11, current learner rf\n",
      "[flaml.automl: 11-03 20:05:55] {1981} INFO -  at 0.8s,\testimator rf's best error=0.2237,\tbest estimator lgbm's best error=0.2160\n",
      "[flaml.automl: 11-03 20:05:55] {1793} INFO - iteration 12, current learner rf\n",
      "[flaml.automl: 11-03 20:05:55] {1981} INFO -  at 0.9s,\testimator rf's best error=0.2237,\tbest estimator lgbm's best error=0.2160\n",
      "[flaml.automl: 11-03 20:05:55] {1793} INFO - iteration 13, current learner xgboost\n",
      "[flaml.automl: 11-03 20:05:55] {1981} INFO -  at 1.0s,\testimator xgboost's best error=3.1930,\tbest estimator lgbm's best error=0.2160\n",
      "[flaml.automl: 11-03 20:05:55] {1793} INFO - iteration 14, current learner rf\n",
      "[flaml.automl: 11-03 20:05:56] {1981} INFO -  at 1.2s,\testimator rf's best error=0.1882,\tbest estimator rf's best error=0.1882\n",
      "[flaml.automl: 11-03 20:05:56] {1793} INFO - iteration 15, current learner extra_tree\n",
      "[flaml.automl: 11-03 20:05:56] {1981} INFO -  at 1.3s,\testimator extra_tree's best error=0.2527,\tbest estimator rf's best error=0.1882\n",
      "[flaml.automl: 11-03 20:05:56] {1793} INFO - iteration 16, current learner rf\n",
      "[flaml.automl: 11-03 20:05:56] {1981} INFO -  at 1.4s,\testimator rf's best error=0.1850,\tbest estimator rf's best error=0.1850\n",
      "[flaml.automl: 11-03 20:05:56] {1793} INFO - iteration 17, current learner extra_tree\n",
      "[flaml.automl: 11-03 20:05:56] {1981} INFO -  at 1.5s,\testimator extra_tree's best error=0.2527,\tbest estimator rf's best error=0.1850\n",
      "[flaml.automl: 11-03 20:05:56] {1793} INFO - iteration 18, current learner lgbm\n",
      "[flaml.automl: 11-03 20:05:56] {1981} INFO -  at 1.5s,\testimator lgbm's best error=0.1797,\tbest estimator lgbm's best error=0.1797\n",
      "[flaml.automl: 11-03 20:05:56] {1793} INFO - iteration 19, current learner xgboost\n",
      "[flaml.automl: 11-03 20:05:56] {1981} INFO -  at 1.6s,\testimator xgboost's best error=0.8686,\tbest estimator lgbm's best error=0.1797\n",
      "[flaml.automl: 11-03 20:05:56] {1793} INFO - iteration 20, current learner xgboost\n",
      "[flaml.automl: 11-03 20:05:56] {1981} INFO -  at 1.7s,\testimator xgboost's best error=0.2853,\tbest estimator lgbm's best error=0.1797\n",
      "[flaml.automl: 11-03 20:05:56] {1793} INFO - iteration 21, current learner xgboost\n",
      "[flaml.automl: 11-03 20:05:56] {1981} INFO -  at 1.7s,\testimator xgboost's best error=0.2853,\tbest estimator lgbm's best error=0.1797\n",
      "[flaml.automl: 11-03 20:05:56] {1793} INFO - iteration 22, current learner lgbm\n",
      "[flaml.automl: 11-03 20:05:56] {1981} INFO -  at 1.8s,\testimator lgbm's best error=0.1797,\tbest estimator lgbm's best error=0.1797\n",
      "[flaml.automl: 11-03 20:05:56] {1793} INFO - iteration 23, current learner lgbm\n",
      "[flaml.automl: 11-03 20:05:56] {1981} INFO -  at 1.9s,\testimator lgbm's best error=0.1351,\tbest estimator lgbm's best error=0.1351\n",
      "[flaml.automl: 11-03 20:05:56] {1793} INFO - iteration 24, current learner xgboost\n",
      "[flaml.automl: 11-03 20:05:56] {1981} INFO -  at 2.0s,\testimator xgboost's best error=0.2722,\tbest estimator lgbm's best error=0.1351\n",
      "[flaml.automl: 11-03 20:05:56] {1793} INFO - iteration 25, current learner extra_tree\n",
      "[flaml.automl: 11-03 20:05:56] {1981} INFO -  at 2.1s,\testimator extra_tree's best error=0.2058,\tbest estimator lgbm's best error=0.1351\n",
      "[flaml.automl: 11-03 20:05:56] {1793} INFO - iteration 26, current learner lgbm\n",
      "[flaml.automl: 11-03 20:05:57] {1981} INFO -  at 2.2s,\testimator lgbm's best error=0.1351,\tbest estimator lgbm's best error=0.1351\n",
      "[flaml.automl: 11-03 20:05:57] {1793} INFO - iteration 27, current learner lgbm\n",
      "[flaml.automl: 11-03 20:05:57] {1981} INFO -  at 2.4s,\testimator lgbm's best error=0.1351,\tbest estimator lgbm's best error=0.1351\n",
      "[flaml.automl: 11-03 20:05:57] {1793} INFO - iteration 28, current learner extra_tree\n",
      "[flaml.automl: 11-03 20:05:57] {1981} INFO -  at 2.5s,\testimator extra_tree's best error=0.1796,\tbest estimator lgbm's best error=0.1351\n",
      "[flaml.automl: 11-03 20:05:57] {1793} INFO - iteration 29, current learner extra_tree\n",
      "[flaml.automl: 11-03 20:05:57] {1981} INFO -  at 2.6s,\testimator extra_tree's best error=0.1796,\tbest estimator lgbm's best error=0.1351\n",
      "[flaml.automl: 11-03 20:05:57] {1793} INFO - iteration 30, current learner lgbm\n",
      "[flaml.automl: 11-03 20:05:57] {1981} INFO -  at 2.7s,\testimator lgbm's best error=0.1351,\tbest estimator lgbm's best error=0.1351\n",
      "[flaml.automl: 11-03 20:05:57] {1793} INFO - iteration 31, current learner lgbm\n",
      "[flaml.automl: 11-03 20:05:57] {1981} INFO -  at 2.9s,\testimator lgbm's best error=0.1351,\tbest estimator lgbm's best error=0.1351\n",
      "[flaml.automl: 11-03 20:05:57] {1793} INFO - iteration 32, current learner lgbm\n",
      "[flaml.automl: 11-03 20:05:57] {1981} INFO -  at 3.0s,\testimator lgbm's best error=0.1351,\tbest estimator lgbm's best error=0.1351\n",
      "[flaml.automl: 11-03 20:05:57] {1793} INFO - iteration 33, current learner extra_tree\n",
      "[flaml.automl: 11-03 20:05:58] {1981} INFO -  at 3.2s,\testimator extra_tree's best error=0.1436,\tbest estimator lgbm's best error=0.1351\n",
      "[flaml.automl: 11-03 20:05:58] {1793} INFO - iteration 34, current learner lgbm\n",
      "[flaml.automl: 11-03 20:05:58] {1981} INFO -  at 3.3s,\testimator lgbm's best error=0.1351,\tbest estimator lgbm's best error=0.1351\n",
      "[flaml.automl: 11-03 20:05:58] {1793} INFO - iteration 35, current learner extra_tree\n",
      "[flaml.automl: 11-03 20:05:58] {1981} INFO -  at 3.4s,\testimator extra_tree's best error=0.1436,\tbest estimator lgbm's best error=0.1351\n",
      "[flaml.automl: 11-03 20:05:58] {1793} INFO - iteration 36, current learner extra_tree\n"
     ]
    },
    {
     "name": "stderr",
     "output_type": "stream",
     "text": [
      "[flaml.automl: 11-03 20:05:58] {1981} INFO -  at 3.5s,\testimator extra_tree's best error=0.1323,\tbest estimator extra_tree's best error=0.1323\n",
      "[flaml.automl: 11-03 20:05:58] {1793} INFO - iteration 37, current learner extra_tree\n",
      "[flaml.automl: 11-03 20:05:58] {1981} INFO -  at 3.6s,\testimator extra_tree's best error=0.1323,\tbest estimator extra_tree's best error=0.1323\n",
      "[flaml.automl: 11-03 20:05:58] {1793} INFO - iteration 38, current learner extra_tree\n",
      "[flaml.automl: 11-03 20:05:58] {1981} INFO -  at 3.8s,\testimator extra_tree's best error=0.1323,\tbest estimator extra_tree's best error=0.1323\n",
      "[flaml.automl: 11-03 20:05:58] {1793} INFO - iteration 39, current learner xgboost\n",
      "[flaml.automl: 11-03 20:05:58] {1981} INFO -  at 3.8s,\testimator xgboost's best error=0.2510,\tbest estimator extra_tree's best error=0.1323\n",
      "[flaml.automl: 11-03 20:05:58] {1793} INFO - iteration 40, current learner extra_tree\n",
      "[flaml.automl: 11-03 20:05:58] {1981} INFO -  at 4.1s,\testimator extra_tree's best error=0.1323,\tbest estimator extra_tree's best error=0.1323\n",
      "[flaml.automl: 11-03 20:05:58] {1793} INFO - iteration 41, current learner extra_tree\n",
      "[flaml.automl: 11-03 20:05:59] {1981} INFO -  at 4.2s,\testimator extra_tree's best error=0.1323,\tbest estimator extra_tree's best error=0.1323\n",
      "[flaml.automl: 11-03 20:05:59] {1793} INFO - iteration 42, current learner lgbm\n",
      "[flaml.automl: 11-03 20:05:59] {1981} INFO -  at 4.3s,\testimator lgbm's best error=0.1351,\tbest estimator extra_tree's best error=0.1323\n",
      "[flaml.automl: 11-03 20:05:59] {1793} INFO - iteration 43, current learner extra_tree\n",
      "[flaml.automl: 11-03 20:05:59] {1981} INFO -  at 4.5s,\testimator extra_tree's best error=0.1114,\tbest estimator extra_tree's best error=0.1114\n",
      "[flaml.automl: 11-03 20:05:59] {1793} INFO - iteration 44, current learner catboost\n",
      "[flaml.automl: 11-03 20:06:01] {1981} INFO -  at 6.9s,\testimator catboost's best error=0.2062,\tbest estimator extra_tree's best error=0.1114\n",
      "[flaml.automl: 11-03 20:06:01] {1793} INFO - iteration 45, current learner extra_tree\n",
      "[flaml.automl: 11-03 20:06:01] {1981} INFO -  at 7.1s,\testimator extra_tree's best error=0.1114,\tbest estimator extra_tree's best error=0.1114\n",
      "[flaml.automl: 11-03 20:06:01] {1793} INFO - iteration 46, current learner extra_tree\n",
      "[flaml.automl: 11-03 20:06:02] {1981} INFO -  at 7.3s,\testimator extra_tree's best error=0.1114,\tbest estimator extra_tree's best error=0.1114\n",
      "[flaml.automl: 11-03 20:06:02] {1793} INFO - iteration 47, current learner catboost\n",
      "[flaml.automl: 11-03 20:06:03] {1981} INFO -  at 9.0s,\testimator catboost's best error=0.2062,\tbest estimator extra_tree's best error=0.1114\n",
      "[flaml.automl: 11-03 20:06:03] {1793} INFO - iteration 48, current learner extra_tree\n",
      "[flaml.automl: 11-03 20:06:04] {1981} INFO -  at 9.2s,\testimator extra_tree's best error=0.1114,\tbest estimator extra_tree's best error=0.1114\n",
      "[flaml.automl: 11-03 20:06:04] {1793} INFO - iteration 49, current learner lgbm\n",
      "[flaml.automl: 11-03 20:06:04] {1981} INFO -  at 9.3s,\testimator lgbm's best error=0.1351,\tbest estimator extra_tree's best error=0.1114\n",
      "[flaml.automl: 11-03 20:06:04] {1793} INFO - iteration 50, current learner xgboost\n",
      "[flaml.automl: 11-03 20:06:04] {1981} INFO -  at 9.4s,\testimator xgboost's best error=0.2510,\tbest estimator extra_tree's best error=0.1114\n",
      "[flaml.automl: 11-03 20:06:04] {1793} INFO - iteration 51, current learner extra_tree\n",
      "[flaml.automl: 11-03 20:06:04] {1981} INFO -  at 9.7s,\testimator extra_tree's best error=0.1114,\tbest estimator extra_tree's best error=0.1114\n",
      "[flaml.automl: 11-03 20:06:04] {1793} INFO - iteration 52, current learner rf\n",
      "[flaml.automl: 11-03 20:06:04] {1981} INFO -  at 9.8s,\testimator rf's best error=0.1850,\tbest estimator extra_tree's best error=0.1114\n",
      "[flaml.automl: 11-03 20:06:04] {1793} INFO - iteration 53, current learner lgbm\n",
      "[flaml.automl: 11-03 20:06:04] {1981} INFO -  at 9.9s,\testimator lgbm's best error=0.1351,\tbest estimator extra_tree's best error=0.1114\n",
      "[flaml.automl: 11-03 20:06:04] {1793} INFO - iteration 54, current learner lgbm\n",
      "[flaml.automl: 11-03 20:06:04] {1981} INFO -  at 10.0s,\testimator lgbm's best error=0.1351,\tbest estimator extra_tree's best error=0.1114\n",
      "[flaml.automl: 11-03 20:06:04] {1793} INFO - iteration 55, current learner lgbm\n",
      "[flaml.automl: 11-03 20:06:05] {1981} INFO -  at 10.2s,\testimator lgbm's best error=0.1334,\tbest estimator extra_tree's best error=0.1114\n",
      "[flaml.automl: 11-03 20:06:05] {1793} INFO - iteration 56, current learner extra_tree\n",
      "[flaml.automl: 11-03 20:06:05] {1981} INFO -  at 10.5s,\testimator extra_tree's best error=0.1114,\tbest estimator extra_tree's best error=0.1114\n",
      "[flaml.automl: 11-03 20:06:05] {1793} INFO - iteration 57, current learner xgboost\n",
      "[flaml.automl: 11-03 20:06:05] {1981} INFO -  at 10.5s,\testimator xgboost's best error=0.2510,\tbest estimator extra_tree's best error=0.1114\n",
      "[flaml.automl: 11-03 20:06:05] {1793} INFO - iteration 58, current learner xgboost\n",
      "[flaml.automl: 11-03 20:06:05] {1981} INFO -  at 10.6s,\testimator xgboost's best error=0.2328,\tbest estimator extra_tree's best error=0.1114\n",
      "[flaml.automl: 11-03 20:06:05] {1793} INFO - iteration 59, current learner extra_tree\n",
      "[flaml.automl: 11-03 20:06:05] {1981} INFO -  at 10.8s,\testimator extra_tree's best error=0.1114,\tbest estimator extra_tree's best error=0.1114\n",
      "[flaml.automl: 11-03 20:06:05] {1793} INFO - iteration 60, current learner rf\n",
      "[flaml.automl: 11-03 20:06:05] {1981} INFO -  at 10.9s,\testimator rf's best error=0.1680,\tbest estimator extra_tree's best error=0.1114\n",
      "[flaml.automl: 11-03 20:06:05] {1793} INFO - iteration 61, current learner xgboost\n",
      "[flaml.automl: 11-03 20:06:05] {1981} INFO -  at 11.0s,\testimator xgboost's best error=0.2180,\tbest estimator extra_tree's best error=0.1114\n",
      "[flaml.automl: 11-03 20:06:05] {1793} INFO - iteration 62, current learner rf\n",
      "[flaml.automl: 11-03 20:06:05] {1981} INFO -  at 11.1s,\testimator rf's best error=0.1680,\tbest estimator extra_tree's best error=0.1114\n",
      "[flaml.automl: 11-03 20:06:05] {1793} INFO - iteration 63, current learner xgboost\n",
      "[flaml.automl: 11-03 20:06:06] {1981} INFO -  at 11.2s,\testimator xgboost's best error=0.2180,\tbest estimator extra_tree's best error=0.1114\n",
      "[flaml.automl: 11-03 20:06:06] {1793} INFO - iteration 64, current learner extra_tree\n",
      "[flaml.automl: 11-03 20:06:06] {1981} INFO -  at 11.5s,\testimator extra_tree's best error=0.1114,\tbest estimator extra_tree's best error=0.1114\n",
      "[flaml.automl: 11-03 20:06:06] {1793} INFO - iteration 65, current learner rf\n",
      "[flaml.automl: 11-03 20:06:06] {1981} INFO -  at 11.6s,\testimator rf's best error=0.1583,\tbest estimator extra_tree's best error=0.1114\n",
      "[flaml.automl: 11-03 20:06:06] {1793} INFO - iteration 66, current learner xgboost\n",
      "[flaml.automl: 11-03 20:06:06] {1981} INFO -  at 11.7s,\testimator xgboost's best error=0.1882,\tbest estimator extra_tree's best error=0.1114\n",
      "[flaml.automl: 11-03 20:06:06] {1793} INFO - iteration 67, current learner xgboost\n",
      "[flaml.automl: 11-03 20:06:06] {1981} INFO -  at 11.8s,\testimator xgboost's best error=0.1882,\tbest estimator extra_tree's best error=0.1114\n",
      "[flaml.automl: 11-03 20:06:06] {1793} INFO - iteration 68, current learner xgboost\n",
      "[flaml.automl: 11-03 20:06:06] {1981} INFO -  at 11.8s,\testimator xgboost's best error=0.1822,\tbest estimator extra_tree's best error=0.1114\n",
      "[flaml.automl: 11-03 20:06:06] {1793} INFO - iteration 69, current learner rf\n",
      "[flaml.automl: 11-03 20:06:06] {1981} INFO -  at 12.0s,\testimator rf's best error=0.1583,\tbest estimator extra_tree's best error=0.1114\n",
      "[flaml.automl: 11-03 20:06:06] {1793} INFO - iteration 70, current learner xgboost\n",
      "[flaml.automl: 11-03 20:06:06] {1981} INFO -  at 12.1s,\testimator xgboost's best error=0.1822,\tbest estimator extra_tree's best error=0.1114\n",
      "[flaml.automl: 11-03 20:06:06] {1793} INFO - iteration 71, current learner extra_tree\n",
      "[flaml.automl: 11-03 20:06:07] {1981} INFO -  at 12.2s,\testimator extra_tree's best error=0.1114,\tbest estimator extra_tree's best error=0.1114\n",
      "[flaml.automl: 11-03 20:06:07] {1793} INFO - iteration 72, current learner xgboost\n",
      "[flaml.automl: 11-03 20:06:07] {1981} INFO -  at 12.3s,\testimator xgboost's best error=0.1621,\tbest estimator extra_tree's best error=0.1114\n",
      "[flaml.automl: 11-03 20:06:07] {1793} INFO - iteration 73, current learner extra_tree\n"
     ]
    },
    {
     "name": "stderr",
     "output_type": "stream",
     "text": [
      "[flaml.automl: 11-03 20:06:07] {1981} INFO -  at 12.5s,\testimator extra_tree's best error=0.1114,\tbest estimator extra_tree's best error=0.1114\n",
      "[flaml.automl: 11-03 20:06:07] {1793} INFO - iteration 74, current learner xgboost\n",
      "[flaml.automl: 11-03 20:06:07] {1981} INFO -  at 12.6s,\testimator xgboost's best error=0.1621,\tbest estimator extra_tree's best error=0.1114\n",
      "[flaml.automl: 11-03 20:06:07] {1793} INFO - iteration 75, current learner extra_tree\n",
      "[flaml.automl: 11-03 20:06:07] {1981} INFO -  at 12.8s,\testimator extra_tree's best error=0.1114,\tbest estimator extra_tree's best error=0.1114\n",
      "[flaml.automl: 11-03 20:06:07] {1793} INFO - iteration 76, current learner rf\n",
      "[flaml.automl: 11-03 20:06:07] {1981} INFO -  at 13.0s,\testimator rf's best error=0.1583,\tbest estimator extra_tree's best error=0.1114\n",
      "[flaml.automl: 11-03 20:06:07] {1793} INFO - iteration 77, current learner catboost\n",
      "[flaml.automl: 11-03 20:06:09] {1981} INFO -  at 14.7s,\testimator catboost's best error=0.2062,\tbest estimator extra_tree's best error=0.1114\n",
      "[flaml.automl: 11-03 20:06:09] {1793} INFO - iteration 78, current learner extra_tree\n",
      "[flaml.automl: 11-03 20:06:09] {1981} INFO -  at 14.9s,\testimator extra_tree's best error=0.1114,\tbest estimator extra_tree's best error=0.1114\n",
      "[flaml.automl: 11-03 20:06:09] {1793} INFO - iteration 79, current learner xgboost\n",
      "[flaml.automl: 11-03 20:06:09] {1981} INFO -  at 15.0s,\testimator xgboost's best error=0.1514,\tbest estimator extra_tree's best error=0.1114\n",
      "[flaml.automl: 11-03 20:06:09] {1793} INFO - iteration 80, current learner catboost\n",
      "[flaml.automl: 11-03 20:06:11] {1981} INFO -  at 16.9s,\testimator catboost's best error=0.2062,\tbest estimator extra_tree's best error=0.1114\n",
      "[flaml.automl: 11-03 20:06:11] {1793} INFO - iteration 81, current learner extra_tree\n",
      "[flaml.automl: 11-03 20:06:11] {1981} INFO -  at 17.1s,\testimator extra_tree's best error=0.1114,\tbest estimator extra_tree's best error=0.1114\n",
      "[flaml.automl: 11-03 20:06:11] {1793} INFO - iteration 82, current learner xgboost\n",
      "[flaml.automl: 11-03 20:06:12] {1981} INFO -  at 17.2s,\testimator xgboost's best error=0.1514,\tbest estimator extra_tree's best error=0.1114\n",
      "[flaml.automl: 11-03 20:06:12] {1793} INFO - iteration 83, current learner extra_tree\n",
      "[flaml.automl: 11-03 20:06:12] {1981} INFO -  at 17.5s,\testimator extra_tree's best error=0.1114,\tbest estimator extra_tree's best error=0.1114\n",
      "[flaml.automl: 11-03 20:06:12] {1793} INFO - iteration 84, current learner extra_tree\n",
      "[flaml.automl: 11-03 20:06:12] {1981} INFO -  at 17.6s,\testimator extra_tree's best error=0.1114,\tbest estimator extra_tree's best error=0.1114\n",
      "[flaml.automl: 11-03 20:06:12] {1793} INFO - iteration 85, current learner extra_tree\n",
      "[flaml.automl: 11-03 20:06:12] {1981} INFO -  at 17.8s,\testimator extra_tree's best error=0.1114,\tbest estimator extra_tree's best error=0.1114\n",
      "[flaml.automl: 11-03 20:06:12] {1793} INFO - iteration 86, current learner xgboost\n",
      "[flaml.automl: 11-03 20:06:13] {1981} INFO -  at 18.2s,\testimator xgboost's best error=0.1514,\tbest estimator extra_tree's best error=0.1114\n",
      "[flaml.automl: 11-03 20:06:13] {1793} INFO - iteration 87, current learner extra_tree\n",
      "[flaml.automl: 11-03 20:06:13] {1981} INFO -  at 18.4s,\testimator extra_tree's best error=0.1114,\tbest estimator extra_tree's best error=0.1114\n",
      "[flaml.automl: 11-03 20:06:13] {1793} INFO - iteration 88, current learner xgboost\n",
      "[flaml.automl: 11-03 20:06:13] {1981} INFO -  at 18.5s,\testimator xgboost's best error=0.1514,\tbest estimator extra_tree's best error=0.1114\n",
      "[flaml.automl: 11-03 20:06:13] {1793} INFO - iteration 89, current learner rf\n",
      "[flaml.automl: 11-03 20:06:13] {1981} INFO -  at 18.8s,\testimator rf's best error=0.1520,\tbest estimator extra_tree's best error=0.1114\n",
      "[flaml.automl: 11-03 20:06:13] {1793} INFO - iteration 90, current learner extra_tree\n",
      "[flaml.automl: 11-03 20:06:13] {1981} INFO -  at 19.0s,\testimator extra_tree's best error=0.1114,\tbest estimator extra_tree's best error=0.1114\n",
      "[flaml.automl: 11-03 20:06:13] {1793} INFO - iteration 91, current learner xgboost\n",
      "[flaml.automl: 11-03 20:06:14] {1981} INFO -  at 19.2s,\testimator xgboost's best error=0.1514,\tbest estimator extra_tree's best error=0.1114\n",
      "[flaml.automl: 11-03 20:06:14] {1793} INFO - iteration 92, current learner extra_tree\n",
      "[flaml.automl: 11-03 20:06:14] {1981} INFO -  at 19.4s,\testimator extra_tree's best error=0.1114,\tbest estimator extra_tree's best error=0.1114\n",
      "[flaml.automl: 11-03 20:06:14] {1793} INFO - iteration 93, current learner extra_tree\n",
      "[flaml.automl: 11-03 20:06:14] {1981} INFO -  at 19.6s,\testimator extra_tree's best error=0.1114,\tbest estimator extra_tree's best error=0.1114\n",
      "[flaml.automl: 11-03 20:06:14] {1793} INFO - iteration 94, current learner extra_tree\n",
      "[flaml.automl: 11-03 20:06:14] {1981} INFO -  at 19.8s,\testimator extra_tree's best error=0.1114,\tbest estimator extra_tree's best error=0.1114\n",
      "[flaml.automl: 11-03 20:06:14] {1793} INFO - iteration 95, current learner lgbm\n",
      "[flaml.automl: 11-03 20:06:14] {1981} INFO -  at 19.9s,\testimator lgbm's best error=0.1334,\tbest estimator extra_tree's best error=0.1114\n",
      "[flaml.automl: 11-03 20:06:14] {1793} INFO - iteration 96, current learner lgbm\n",
      "[flaml.automl: 11-03 20:06:14] {1981} INFO -  at 19.9s,\testimator lgbm's best error=0.1334,\tbest estimator extra_tree's best error=0.1114\n",
      "[flaml.automl: 11-03 20:06:14] {2087} INFO - selected model: ExtraTreesRegressor(max_features=0.5609306919811571, max_leaf_nodes=191,\n",
      "                    n_estimators=19, n_jobs=-1)\n",
      "[flaml.automl: 11-03 20:06:14] {2149} INFO - retrain extra_tree for 0.1s\n",
      "[flaml.automl: 11-03 20:06:14] {2155} INFO - retrained model: ExtraTreesRegressor(max_features=0.5609306919811571, max_leaf_nodes=191,\n",
      "                    n_estimators=19, n_jobs=-1)\n",
      "[flaml.automl: 11-03 20:06:14] {1576} INFO - fit succeeded\n",
      "[flaml.automl: 11-03 20:06:14] {1577} INFO - Time taken to find the best model: 4.525413990020752\n"
     ]
    }
   ],
   "source": [
    "automl.fit(X_train=X_train, y_train=y_train,**automl_settings)"
   ]
  },
  {
   "cell_type": "code",
   "execution_count": 27,
   "metadata": {},
   "outputs": [
    {
     "name": "stdout",
     "output_type": "stream",
     "text": [
      "(506,)\n"
     ]
    }
   ],
   "source": [
    "print(automl.predict(X_train).shape)"
   ]
  },
  {
   "cell_type": "code",
   "execution_count": 28,
   "metadata": {},
   "outputs": [
    {
     "name": "stdout",
     "output_type": "stream",
     "text": [
      "<flaml.model.ExtraTreeEstimator object at 0x0000013A453CDB20>\n"
     ]
    }
   ],
   "source": [
    "print(automl.model)"
   ]
  },
  {
   "cell_type": "markdown",
   "metadata": {},
   "source": [
    "<a id = \"1.0\"></a>\n",
    "<p style=\"font-size:15px;color:#34656d;font-family:'Comic Sans MS';text-align:center;border-radius:5px 5px;\">\n",
    "<strong>_____________________________________________________________</strong></p> "
   ]
  },
  {
   "cell_type": "markdown",
   "metadata": {},
   "source": [
    "<a id = \"1.0\"></a>\n",
    "<p style=\"font-size:15px;color:#34656d;font-family:'Comic Sans MS';text-align:left;border-radius:5px 5px;\">\n",
    "<strong>Time Series</strong></p> "
   ]
  },
  {
   "cell_type": "code",
   "execution_count": 29,
   "metadata": {},
   "outputs": [],
   "source": [
    "import numpy as np"
   ]
  },
  {
   "cell_type": "code",
   "execution_count": 30,
   "metadata": {},
   "outputs": [],
   "source": [
    "from flaml import AutoML"
   ]
  },
  {
   "cell_type": "code",
   "execution_count": 31,
   "metadata": {},
   "outputs": [],
   "source": [
    "X_train = np.arange('2014-01', '2021-01', dtype='datetime64[M]')"
   ]
  },
  {
   "cell_type": "code",
   "execution_count": 32,
   "metadata": {},
   "outputs": [],
   "source": [
    "y_train = np.random.random(size=72)"
   ]
  },
  {
   "cell_type": "code",
   "execution_count": 33,
   "metadata": {},
   "outputs": [],
   "source": [
    "automl = AutoML()"
   ]
  },
  {
   "cell_type": "code",
   "execution_count": 34,
   "metadata": {},
   "outputs": [
    {
     "name": "stderr",
     "output_type": "stream",
     "text": [
      "[flaml.automl: 09-24 17:37:00] {1431} INFO - Evaluation method: cv\n",
      "[flaml.automl: 09-24 17:37:00] {1477} INFO - Minimizing error metric: mape\n",
      "[flaml.automl: 09-24 17:37:00] {1514} INFO - List of ML learners in AutoML Run: ['arima', 'sarimax']\n",
      "[flaml.automl: 09-24 17:37:00] {1746} INFO - iteration 0, current learner arima\n",
      "C:\\Users\\Admin\\.conda\\envs\\eda\\lib\\site-packages\\statsmodels\\tsa\\base\\tsa_model.py:524: ValueWarning: No frequency information was provided, so inferred frequency MS will be used.\n",
      "  warnings.warn('No frequency information was'\n",
      "C:\\Users\\Admin\\.conda\\envs\\eda\\lib\\site-packages\\statsmodels\\tsa\\base\\tsa_model.py:524: ValueWarning: No frequency information was provided, so inferred frequency MS will be used.\n",
      "  warnings.warn('No frequency information was'\n",
      "C:\\Users\\Admin\\.conda\\envs\\eda\\lib\\site-packages\\statsmodels\\tsa\\base\\tsa_model.py:524: ValueWarning: No frequency information was provided, so inferred frequency MS will be used.\n",
      "  warnings.warn('No frequency information was'\n",
      "[flaml.automl: 09-24 17:37:05] {1925} INFO -  at 5.1s,\tbest arima's error=306723976570.3541,\tbest arima's error=306723976570.3541\n",
      "[flaml.automl: 09-24 17:37:05] {1746} INFO - iteration 1, current learner arima\n",
      "[flaml.automl: 09-24 17:37:06] {1925} INFO -  at 6.1s,\tbest arima's error=1.2443,\tbest arima's error=1.2443\n",
      "[flaml.automl: 09-24 17:37:06] {1746} INFO - iteration 2, current learner arima\n",
      "[flaml.automl: 09-24 17:37:07] {1925} INFO -  at 6.6s,\tbest arima's error=1.2443,\tbest arima's error=1.2443\n",
      "[flaml.automl: 09-24 17:37:07] {1746} INFO - iteration 3, current learner arima\n",
      "[flaml.automl: 09-24 17:37:08] {1925} INFO -  at 7.6s,\tbest arima's error=1.2443,\tbest arima's error=1.2443\n",
      "[flaml.automl: 09-24 17:37:08] {1746} INFO - iteration 4, current learner arima\n",
      "[flaml.automl: 09-24 17:37:09] {1925} INFO -  at 8.6s,\tbest arima's error=1.2443,\tbest arima's error=1.2443\n",
      "[flaml.automl: 09-24 17:37:09] {1746} INFO - iteration 5, current learner arima\n",
      "[flaml.automl: 09-24 17:37:09] {1925} INFO -  at 9.4s,\tbest arima's error=1.2443,\tbest arima's error=1.2443\n",
      "[flaml.automl: 09-24 17:37:09] {1746} INFO - iteration 6, current learner arima\n",
      "[flaml.automl: 09-24 17:37:10] {1925} INFO -  at 9.8s,\tbest arima's error=1.2443,\tbest arima's error=1.2443\n",
      "[flaml.automl: 09-24 17:37:10] {1746} INFO - iteration 7, current learner arima\n",
      "[flaml.automl: 09-24 17:37:10] {1925} INFO -  at 10.1s,\tbest arima's error=1.2118,\tbest arima's error=1.2118\n",
      "[flaml.automl: 09-24 17:37:10] {1746} INFO - iteration 8, current learner arima\n",
      "[flaml.automl: 09-24 17:37:10] {1925} INFO -  at 10.3s,\tbest arima's error=1.2118,\tbest arima's error=1.2118\n",
      "[flaml.automl: 09-24 17:37:10] {1746} INFO - iteration 9, current learner arima\n",
      "[flaml.automl: 09-24 17:37:10] {1925} INFO -  at 10.4s,\tbest arima's error=1.2118,\tbest arima's error=1.2118\n",
      "[flaml.automl: 09-24 17:37:10] {1746} INFO - iteration 10, current learner arima\n",
      "[flaml.automl: 09-24 17:37:11] {1925} INFO -  at 10.7s,\tbest arima's error=1.2118,\tbest arima's error=1.2118\n",
      "[flaml.automl: 09-24 17:37:11] {1746} INFO - iteration 11, current learner arima\n",
      "[flaml.automl: 09-24 17:37:11] {1925} INFO -  at 10.9s,\tbest arima's error=1.2118,\tbest arima's error=1.2118\n",
      "[flaml.automl: 09-24 17:37:11] {1746} INFO - iteration 12, current learner arima\n",
      "[flaml.automl: 09-24 17:37:11] {1925} INFO -  at 11.2s,\tbest arima's error=1.2118,\tbest arima's error=1.2118\n",
      "[flaml.automl: 09-24 17:37:11] {1746} INFO - iteration 13, current learner arima\n",
      "[flaml.automl: 09-24 17:37:13] {1925} INFO -  at 12.6s,\tbest arima's error=1.2118,\tbest arima's error=1.2118\n",
      "[flaml.automl: 09-24 17:37:13] {1746} INFO - iteration 14, current learner arima\n",
      "[flaml.automl: 09-24 17:37:14] {1925} INFO -  at 13.7s,\tbest arima's error=1.2118,\tbest arima's error=1.2118\n",
      "[flaml.automl: 09-24 17:37:14] {1746} INFO - iteration 15, current learner arima\n",
      "[flaml.automl: 09-24 17:37:15] {1925} INFO -  at 14.8s,\tbest arima's error=1.2118,\tbest arima's error=1.2118\n",
      "[flaml.automl: 09-24 17:37:15] {1746} INFO - iteration 16, current learner sarimax\n",
      "[flaml.automl: 09-24 17:37:15] {1925} INFO -  at 15.0s,\tbest sarimax's error=1533619882847.0471,\tbest arima's error=1.2118\n",
      "[flaml.automl: 09-24 17:37:15] {2032} INFO - selected model: <statsmodels.tsa.arima.model.ARIMAResultsWrapper object at 0x0000013A480C7310>\n",
      "[flaml.automl: 09-24 17:37:15] {2093} INFO - retrain arima for 0.1s\n",
      "[flaml.automl: 09-24 17:37:15] {2099} INFO - retrained model: <statsmodels.tsa.arima.model.ARIMAResultsWrapper object at 0x0000013A47C8E430>\n",
      "[flaml.automl: 09-24 17:37:15] {1538} INFO - fit succeeded\n",
      "[flaml.automl: 09-24 17:37:15] {1539} INFO - Time taken to find the best model: 10.061192750930786\n"
     ]
    }
   ],
   "source": [
    "automl.fit(X_train=X_train[:72],             # a single column of timestamp\n",
    "           y_train=y_train,                  # value for each timestamp\n",
    "           period=12,                        # time horizon to forecast, e.g., 12 months\n",
    "           task='forecast', \n",
    "           time_budget=15,                   # time budget in seconds\n",
    "           log_file_name=\"data/forecast.log\",\n",
    "          )"
   ]
  },
  {
   "cell_type": "code",
   "execution_count": 18,
   "metadata": {},
   "outputs": [
    {
     "name": "stdout",
     "output_type": "stream",
     "text": [
      "[23.15307253 23.64055088 23.78089416 21.54223226 20.65999165 21.33257479\n",
      " 21.18495301 20.79935673 27.60884085 23.69779995 23.83860325 23.11809403\n",
      " 23.22799819 26.21145701 21.7036812  22.25048659 23.93877193 28.74491228\n",
      " 22.65229247 22.43680086 23.13813366 24.25025599 21.64059797 28.18425439\n",
      " 21.80429315 38.80052632 43.91982456 33.0981203  27.08263158 26.50280702\n",
      " 19.03357502 19.86474197 19.69988245 19.16591553 19.38414653 19.88701753\n",
      " 19.71845597 19.52348863 20.55337565 22.72266082 19.08968784 18.84224423\n",
      " 19.85637073 19.2196586  20.35809106 19.82870574 19.28653412 19.44682957\n",
      " 20.86908863 20.53433584 20.17076023 17.25096491 19.74087719 20.47713792\n",
      " 16.09453748 16.42120301 17.73190894 14.86863826 19.4755206  19.79167445\n",
      " 21.67074295 17.56912072 15.77951128 17.54426483 17.09288012 17.54638262\n",
      " 14.73068087 16.47509607 14.5387218  14.32218672 14.18750627 14.66236956\n",
      " 13.90579061 14.68441103 15.71604845 14.52988836 15.79282069 14.92392344\n",
      " 20.48790727 19.75220551 15.52374687 18.61080409 16.77224937 15.51938596\n",
      " 14.60532581 41.3        23.89600877 23.21214912 26.56561404 50.\n",
      " 49.99097744 49.9593985  22.38008233 23.84263519 49.86150376 23.19730456\n",
      " 23.33547145 22.93126092 18.33480898 20.23186596 22.57791069 22.91642451\n",
      " 22.5245226  29.16239766 22.8670302  24.02332585 30.36763158 36.90464912\n",
      " 39.15578947 35.93736842 37.1435589  32.77315789 27.115      29.16236842\n",
      " 49.79342105 31.50736842 29.96666667 34.9712782  36.63491228 30.78657895\n",
      " 35.96892857 30.82052632 29.6622807  49.71988722 33.64230576 30.68464912\n",
      " 34.19008772 34.22537594 33.63809524 23.59099966 42.78824561 49.10417293\n",
      " 49.65654135 22.38752089 23.53777716 21.54629414 23.25839523 19.9617185\n",
      " 21.61531632 19.71820973 22.09769348 26.52633314 23.55530493 23.80143422\n",
      " 22.66599415 27.89736842 21.68549841 22.80610428 26.82631579 21.71671679\n",
      " 26.85087719 29.73578947 45.02526316 49.42526316 38.04894737 31.54008772\n",
      " 46.36052632 30.93815789 23.42717924 31.64885965 42.23631579 47.74368421\n",
      " 28.82701754 23.15838984 25.47330827 31.57078947 23.53136858 23.62766105\n",
      " 21.8768254  21.07172662 22.19011442 23.83088912 17.95537385 18.48660002\n",
      " 23.45441062 21.74144243 23.52209615 25.40284413 24.1299413  24.57792603\n",
      " 29.89940476 42.91105263 22.43948337 20.48535926 43.80701754 49.67383459\n",
      " 35.7604386  30.32210526 33.42622807 43.13333333 49.55804511 31.57763158\n",
      " 35.59201754 23.16199248 31.0422807  49.70330827 43.3        21.11505848\n",
      " 21.04501149 24.8016099  24.2248183  34.64070175 32.51921053 32.37607143\n",
      " 33.78596491 32.91473684 28.80815789 35.13385965 45.84026316 35.19406015\n",
      " 45.90526316 49.75443609 32.23578947 22.61967684 20.81512968 23.14004601\n",
      " 22.83081779 24.37068505 29.60782581 36.26723684 28.42342105 23.55502111\n",
      " 21.99843703 28.38195489 27.01622807 20.24347953 23.45235225 29.01710526\n",
      " 24.60793651 23.00059467 24.99309194 32.9654386  35.04052632 28.32061404\n",
      " 33.95601504 28.48491228 22.87109649 20.39467419 16.37397661 22.5016357\n",
      " 19.79351986 21.9744785  23.19368421 18.72524018 18.6175188  19.79909698\n",
      " 22.36538494 20.91349415 23.55401147 23.43015182 21.39024123 18.98564327\n",
      " 23.8064642  24.18717206 23.55808387 21.86325612 19.85289353 22.64227151\n",
      " 20.35239633 18.1418047  20.13587494 21.7629329  21.66099215 20.50339426\n",
      " 19.68589027 19.38056674 20.39602584 19.85076268 19.5836409  33.16452381\n",
      " 16.72894737 24.01680403 31.04058897 18.50580125 17.87562657 23.59330805\n",
      " 24.23415888 26.28647034 23.24047725 24.05866332 19.05920008 30.30067669\n",
      " 18.91432803 20.43749241 17.63533835 21.65471805 22.46498458 21.97225628\n",
      " 23.85138809 19.84525898 21.15146199 17.36184211 22.12419028 27.38947368\n",
      " 21.46282164 22.64593455 50.         50.         50.         50.\n",
      " 50.         13.47946489 13.01757371 15.34342105 12.83352922 12.54231377\n",
      " 12.04207398 11.47914262 10.01573774 10.94767082 11.15860013 11.15860013\n",
      "  8.63328426  7.88472488  9.05642962  8.17265769  9.21071172 11.41666404\n",
      " 13.99960257 21.27634712 10.56562071 13.79042651 12.76446359 13.09082084\n",
      " 12.43259085 10.25468409  6.9643593   7.38696742  7.63712239  9.32348684\n",
      " 11.7252549   9.37723669  7.84922772  6.66108235 12.20296515 27.54210526\n",
      " 16.61901522 26.52973223 14.89064327 16.46715143 17.42271468 16.15686673\n",
      "  7.56261696  8.39239471  8.73569615  9.63492604  8.8227924   9.20208713\n",
      " 16.10544376 14.26103    20.25226608 13.10396221 12.26457042  9.5329052\n",
      " 11.42030141 10.52490459 11.13507009 10.35272319 14.08211428 13.90352361\n",
      " 15.81102339 14.06943191 12.05225564 12.44666106 10.14827134  9.10040577\n",
      "  8.6820877  11.84013094 10.00531313 15.16399749 17.34156218 15.41368937\n",
      " 10.8730591  11.78742547 14.77707596 14.04769    14.63866744 13.78643066\n",
      " 13.70127402 15.21058473 15.93040414 16.62638158 13.78078112 14.00785297\n",
      " 13.20690058 13.82076023 15.43496554 19.70551435 15.96760965 18.71815789\n",
      " 20.31897509 20.69243888 20.92700928 19.84279487 19.19213033 18.61932287\n",
      " 19.48072682 20.14151895 19.94011278 20.48432351 21.30767392 28.64041835\n",
      " 14.55695691 13.66823891 16.0067236  12.43571489 15.04760959 21.05704004\n",
      " 21.98907702 23.90543185 24.36717274 21.34713592 20.80229458 21.31231694\n",
      " 19.95441369 21.0694132  14.77824492  7.5875286   7.70263158 14.23600599\n",
      " 20.2405903  21.6399906  22.73556287 22.58315789 19.16357046 18.95614356\n",
      " 20.51107769 18.6285997  18.2900784  22.17949761 20.08171565 23.08063796\n",
      " 22.5699362  13.03133971]\n"
     ]
    }
   ],
   "source": [
    "print(automl.predict(X_train[72:]))"
   ]
  },
  {
   "cell_type": "markdown",
   "metadata": {},
   "source": [
    "<a id = \"1.0\"></a>\n",
    "<p style=\"font-size:15px;color:#34656d;font-family:'Comic Sans MS';text-align:center;border-radius:5px 5px;\">\n",
    "<strong>_____________________________________________________________</strong></p> "
   ]
  }
 ],
 "metadata": {
  "kernelspec": {
   "display_name": "Austral",
   "language": "python",
   "name": "austral"
  },
  "language_info": {
   "codemirror_mode": {
    "name": "ipython",
    "version": 3
   },
   "file_extension": ".py",
   "mimetype": "text/x-python",
   "name": "python",
   "nbconvert_exporter": "python",
   "pygments_lexer": "ipython3",
   "version": "3.8.5"
  }
 },
 "nbformat": 4,
 "nbformat_minor": 4
}

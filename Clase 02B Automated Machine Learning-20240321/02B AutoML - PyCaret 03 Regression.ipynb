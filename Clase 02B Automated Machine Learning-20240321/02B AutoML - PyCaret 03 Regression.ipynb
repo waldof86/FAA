{
 "cells": [
  {
   "cell_type": "markdown",
   "metadata": {},
   "source": [
    "# AutoML Regressor"
   ]
  },
  {
   "cell_type": "markdown",
   "metadata": {},
   "source": [
    "**Toda la información presentada en este trabajo fue extraída de**:<BR>\n",
    "* [PyCaret](https://pycaret.org/)\n",
    "* [Automated Machine Learning](https://www.packtpub.com/product/automated-machine-learning/9781800567689)\n",
    "* [Hands-On Automated Machine Learning](https://www.packtpub.com/product/hands-on-automated-machine-learning/9781788629898)"
   ]
  },
  {
   "cell_type": "markdown",
   "metadata": {},
   "source": [
    "__________________________"
   ]
  },
  {
   "cell_type": "markdown",
   "metadata": {},
   "source": [
    "Concepto importante para el futuro científico de datos:<BR>\n",
    "***Subject-matter expert***: Un experto en la materia es una persona que es una autoridad en un área o tema en particular (Wikipedia)"
   ]
  },
  {
   "cell_type": "markdown",
   "metadata": {},
   "source": [
    "Excelentes artículos para entender la validez del Automated Machine Learning:<BR>\n",
    "[A Few Useful Things to Know About Machine Learning](https://homes.cs.washington.edu/~pedrod/papers/cacm12.pdf) <BR>\n",
    "[Automated Machine Learning vs Automated Data Science](https://www.kdnuggets.com/2018/07/automated-machine-learning-vs-automated-data-science.html)"
   ]
  },
  {
   "cell_type": "markdown",
   "metadata": {},
   "source": [
    "___________________________"
   ]
  },
  {
   "cell_type": "markdown",
   "metadata": {},
   "source": [
    "Vocabulario técnico: <BR>\n",
    "* ***FMS***: Full Model Selection<BR>\n",
    "* ***CASH***: Combined Algorithm Selection and Hyperparameter<BR>\n",
    "* ***AutoDL***: automated deep learning <BR>\n",
    "* ***DARTS***: Differentiable Architecture Search<BR>\n",
    "* ***Hyperparameter optimization***:  hyperparameter tuning / hyperparameter learning / automated pipeline learning."
   ]
  },
  {
   "cell_type": "markdown",
   "metadata": {},
   "source": [
    "_______________________"
   ]
  },
  {
   "cell_type": "markdown",
   "metadata": {},
   "source": [
    "### The ML life cycle"
   ]
  },
  {
   "cell_type": "markdown",
   "metadata": {},
   "source": [
    "![ML life cycle](./img/mlcl.png)"
   ]
  },
  {
   "cell_type": "markdown",
   "metadata": {},
   "source": [
    "_________________________"
   ]
  },
  {
   "cell_type": "markdown",
   "metadata": {},
   "source": [
    "### AutoML pipeline by Waring et al"
   ]
  },
  {
   "cell_type": "markdown",
   "metadata": {},
   "source": [
    "![Auto ML life cycle](./img/amlcl.png)"
   ]
  },
  {
   "cell_type": "markdown",
   "metadata": {},
   "source": [
    "____________________"
   ]
  },
  {
   "cell_type": "markdown",
   "metadata": {},
   "source": [
    "### Automated ML pipeline. He, et al., 2019"
   ]
  },
  {
   "cell_type": "markdown",
   "metadata": {},
   "source": [
    "![GitHub Logo](./img/amlcl1.png)"
   ]
  },
  {
   "cell_type": "markdown",
   "metadata": {},
   "source": [
    "_______________"
   ]
  },
  {
   "cell_type": "markdown",
   "metadata": {},
   "source": [
    "## Regresión"
   ]
  },
  {
   "cell_type": "code",
   "execution_count": 6,
   "metadata": {},
   "outputs": [
    {
     "data": {
      "text/html": [
       "<div>\n",
       "<style scoped>\n",
       "    .dataframe tbody tr th:only-of-type {\n",
       "        vertical-align: middle;\n",
       "    }\n",
       "\n",
       "    .dataframe tbody tr th {\n",
       "        vertical-align: top;\n",
       "    }\n",
       "\n",
       "    .dataframe thead th {\n",
       "        text-align: right;\n",
       "    }\n",
       "</style>\n",
       "<table border=\"1\" class=\"dataframe\">\n",
       "  <thead>\n",
       "    <tr style=\"text-align: right;\">\n",
       "      <th></th>\n",
       "      <th>Carat Weight</th>\n",
       "      <th>Cut</th>\n",
       "      <th>Color</th>\n",
       "      <th>Clarity</th>\n",
       "      <th>Polish</th>\n",
       "      <th>Symmetry</th>\n",
       "      <th>Report</th>\n",
       "      <th>Price</th>\n",
       "    </tr>\n",
       "  </thead>\n",
       "  <tbody>\n",
       "    <tr>\n",
       "      <th>0</th>\n",
       "      <td>1.10</td>\n",
       "      <td>Ideal</td>\n",
       "      <td>H</td>\n",
       "      <td>SI1</td>\n",
       "      <td>VG</td>\n",
       "      <td>EX</td>\n",
       "      <td>GIA</td>\n",
       "      <td>5169</td>\n",
       "    </tr>\n",
       "    <tr>\n",
       "      <th>1</th>\n",
       "      <td>0.83</td>\n",
       "      <td>Ideal</td>\n",
       "      <td>H</td>\n",
       "      <td>VS1</td>\n",
       "      <td>ID</td>\n",
       "      <td>ID</td>\n",
       "      <td>AGSL</td>\n",
       "      <td>3470</td>\n",
       "    </tr>\n",
       "    <tr>\n",
       "      <th>2</th>\n",
       "      <td>0.85</td>\n",
       "      <td>Ideal</td>\n",
       "      <td>H</td>\n",
       "      <td>SI1</td>\n",
       "      <td>EX</td>\n",
       "      <td>EX</td>\n",
       "      <td>GIA</td>\n",
       "      <td>3183</td>\n",
       "    </tr>\n",
       "    <tr>\n",
       "      <th>3</th>\n",
       "      <td>0.91</td>\n",
       "      <td>Ideal</td>\n",
       "      <td>E</td>\n",
       "      <td>SI1</td>\n",
       "      <td>VG</td>\n",
       "      <td>VG</td>\n",
       "      <td>GIA</td>\n",
       "      <td>4370</td>\n",
       "    </tr>\n",
       "    <tr>\n",
       "      <th>4</th>\n",
       "      <td>0.83</td>\n",
       "      <td>Ideal</td>\n",
       "      <td>G</td>\n",
       "      <td>SI1</td>\n",
       "      <td>EX</td>\n",
       "      <td>EX</td>\n",
       "      <td>GIA</td>\n",
       "      <td>3171</td>\n",
       "    </tr>\n",
       "  </tbody>\n",
       "</table>\n",
       "</div>"
      ],
      "text/plain": [
       "   Carat Weight    Cut Color Clarity Polish Symmetry Report  Price\n",
       "0          1.10  Ideal     H     SI1     VG       EX    GIA   5169\n",
       "1          0.83  Ideal     H     VS1     ID       ID   AGSL   3470\n",
       "2          0.85  Ideal     H     SI1     EX       EX    GIA   3183\n",
       "3          0.91  Ideal     E     SI1     VG       VG    GIA   4370\n",
       "4          0.83  Ideal     G     SI1     EX       EX    GIA   3171"
      ]
     },
     "metadata": {},
     "output_type": "display_data"
    }
   ],
   "source": [
    "from pycaret.datasets import get_data\n",
    "dataset = get_data('diamond')"
   ]
  },
  {
   "cell_type": "code",
   "execution_count": 7,
   "metadata": {},
   "outputs": [
    {
     "name": "stdout",
     "output_type": "stream",
     "text": [
      "Data for Modeling: (5400, 8)\n",
      "Unseen Data For Predictions: (600, 8)\n"
     ]
    }
   ],
   "source": [
    "data = dataset.sample(frac=0.9, random_state=786)\n",
    "data_unseen = dataset.drop(data.index)\n",
    "\n",
    "data.reset_index(drop=True, inplace=True)\n",
    "data_unseen.reset_index(drop=True, inplace=True)\n",
    "\n",
    "print('Data for Modeling: ' + str(data.shape))\n",
    "print('Unseen Data For Predictions: ' + str(data_unseen.shape))"
   ]
  },
  {
   "cell_type": "code",
   "execution_count": 8,
   "metadata": {},
   "outputs": [],
   "source": [
    "from pycaret.regression import *"
   ]
  },
  {
   "cell_type": "code",
   "execution_count": 9,
   "metadata": {},
   "outputs": [
    {
     "data": {
      "text/html": [
       "<style  type=\"text/css\" >\n",
       "</style><table id=\"T_9888df9d_0765_11ec_ae8c_80c5f20e49e9\" ><thead>    <tr>        <th class=\"blank level0\" ></th>        <th class=\"col_heading level0 col0\" >Description</th>        <th class=\"col_heading level0 col1\" >Value</th>    </tr></thead><tbody>\n",
       "                <tr>\n",
       "                        <th id=\"T_9888df9d_0765_11ec_ae8c_80c5f20e49e9level0_row0\" class=\"row_heading level0 row0\" >0</th>\n",
       "                        <td id=\"T_9888df9d_0765_11ec_ae8c_80c5f20e49e9row0_col0\" class=\"data row0 col0\" >session_id</td>\n",
       "                        <td id=\"T_9888df9d_0765_11ec_ae8c_80c5f20e49e9row0_col1\" class=\"data row0 col1\" >1002</td>\n",
       "            </tr>\n",
       "            <tr>\n",
       "                        <th id=\"T_9888df9d_0765_11ec_ae8c_80c5f20e49e9level0_row1\" class=\"row_heading level0 row1\" >1</th>\n",
       "                        <td id=\"T_9888df9d_0765_11ec_ae8c_80c5f20e49e9row1_col0\" class=\"data row1 col0\" >Target</td>\n",
       "                        <td id=\"T_9888df9d_0765_11ec_ae8c_80c5f20e49e9row1_col1\" class=\"data row1 col1\" >Price</td>\n",
       "            </tr>\n",
       "            <tr>\n",
       "                        <th id=\"T_9888df9d_0765_11ec_ae8c_80c5f20e49e9level0_row2\" class=\"row_heading level0 row2\" >2</th>\n",
       "                        <td id=\"T_9888df9d_0765_11ec_ae8c_80c5f20e49e9row2_col0\" class=\"data row2 col0\" >Original Data</td>\n",
       "                        <td id=\"T_9888df9d_0765_11ec_ae8c_80c5f20e49e9row2_col1\" class=\"data row2 col1\" >(5400, 8)</td>\n",
       "            </tr>\n",
       "            <tr>\n",
       "                        <th id=\"T_9888df9d_0765_11ec_ae8c_80c5f20e49e9level0_row3\" class=\"row_heading level0 row3\" >3</th>\n",
       "                        <td id=\"T_9888df9d_0765_11ec_ae8c_80c5f20e49e9row3_col0\" class=\"data row3 col0\" >Missing Values</td>\n",
       "                        <td id=\"T_9888df9d_0765_11ec_ae8c_80c5f20e49e9row3_col1\" class=\"data row3 col1\" >False</td>\n",
       "            </tr>\n",
       "            <tr>\n",
       "                        <th id=\"T_9888df9d_0765_11ec_ae8c_80c5f20e49e9level0_row4\" class=\"row_heading level0 row4\" >4</th>\n",
       "                        <td id=\"T_9888df9d_0765_11ec_ae8c_80c5f20e49e9row4_col0\" class=\"data row4 col0\" >Numeric Features</td>\n",
       "                        <td id=\"T_9888df9d_0765_11ec_ae8c_80c5f20e49e9row4_col1\" class=\"data row4 col1\" >1</td>\n",
       "            </tr>\n",
       "            <tr>\n",
       "                        <th id=\"T_9888df9d_0765_11ec_ae8c_80c5f20e49e9level0_row5\" class=\"row_heading level0 row5\" >5</th>\n",
       "                        <td id=\"T_9888df9d_0765_11ec_ae8c_80c5f20e49e9row5_col0\" class=\"data row5 col0\" >Categorical Features</td>\n",
       "                        <td id=\"T_9888df9d_0765_11ec_ae8c_80c5f20e49e9row5_col1\" class=\"data row5 col1\" >6</td>\n",
       "            </tr>\n",
       "            <tr>\n",
       "                        <th id=\"T_9888df9d_0765_11ec_ae8c_80c5f20e49e9level0_row6\" class=\"row_heading level0 row6\" >6</th>\n",
       "                        <td id=\"T_9888df9d_0765_11ec_ae8c_80c5f20e49e9row6_col0\" class=\"data row6 col0\" >Ordinal Features</td>\n",
       "                        <td id=\"T_9888df9d_0765_11ec_ae8c_80c5f20e49e9row6_col1\" class=\"data row6 col1\" >False</td>\n",
       "            </tr>\n",
       "            <tr>\n",
       "                        <th id=\"T_9888df9d_0765_11ec_ae8c_80c5f20e49e9level0_row7\" class=\"row_heading level0 row7\" >7</th>\n",
       "                        <td id=\"T_9888df9d_0765_11ec_ae8c_80c5f20e49e9row7_col0\" class=\"data row7 col0\" >High Cardinality Features</td>\n",
       "                        <td id=\"T_9888df9d_0765_11ec_ae8c_80c5f20e49e9row7_col1\" class=\"data row7 col1\" >False</td>\n",
       "            </tr>\n",
       "            <tr>\n",
       "                        <th id=\"T_9888df9d_0765_11ec_ae8c_80c5f20e49e9level0_row8\" class=\"row_heading level0 row8\" >8</th>\n",
       "                        <td id=\"T_9888df9d_0765_11ec_ae8c_80c5f20e49e9row8_col0\" class=\"data row8 col0\" >High Cardinality Method</td>\n",
       "                        <td id=\"T_9888df9d_0765_11ec_ae8c_80c5f20e49e9row8_col1\" class=\"data row8 col1\" >None</td>\n",
       "            </tr>\n",
       "            <tr>\n",
       "                        <th id=\"T_9888df9d_0765_11ec_ae8c_80c5f20e49e9level0_row9\" class=\"row_heading level0 row9\" >9</th>\n",
       "                        <td id=\"T_9888df9d_0765_11ec_ae8c_80c5f20e49e9row9_col0\" class=\"data row9 col0\" >Transformed Train Set</td>\n",
       "                        <td id=\"T_9888df9d_0765_11ec_ae8c_80c5f20e49e9row9_col1\" class=\"data row9 col1\" >(3779, 28)</td>\n",
       "            </tr>\n",
       "            <tr>\n",
       "                        <th id=\"T_9888df9d_0765_11ec_ae8c_80c5f20e49e9level0_row10\" class=\"row_heading level0 row10\" >10</th>\n",
       "                        <td id=\"T_9888df9d_0765_11ec_ae8c_80c5f20e49e9row10_col0\" class=\"data row10 col0\" >Transformed Test Set</td>\n",
       "                        <td id=\"T_9888df9d_0765_11ec_ae8c_80c5f20e49e9row10_col1\" class=\"data row10 col1\" >(1621, 28)</td>\n",
       "            </tr>\n",
       "            <tr>\n",
       "                        <th id=\"T_9888df9d_0765_11ec_ae8c_80c5f20e49e9level0_row11\" class=\"row_heading level0 row11\" >11</th>\n",
       "                        <td id=\"T_9888df9d_0765_11ec_ae8c_80c5f20e49e9row11_col0\" class=\"data row11 col0\" >Shuffle Train-Test</td>\n",
       "                        <td id=\"T_9888df9d_0765_11ec_ae8c_80c5f20e49e9row11_col1\" class=\"data row11 col1\" >True</td>\n",
       "            </tr>\n",
       "            <tr>\n",
       "                        <th id=\"T_9888df9d_0765_11ec_ae8c_80c5f20e49e9level0_row12\" class=\"row_heading level0 row12\" >12</th>\n",
       "                        <td id=\"T_9888df9d_0765_11ec_ae8c_80c5f20e49e9row12_col0\" class=\"data row12 col0\" >Stratify Train-Test</td>\n",
       "                        <td id=\"T_9888df9d_0765_11ec_ae8c_80c5f20e49e9row12_col1\" class=\"data row12 col1\" >False</td>\n",
       "            </tr>\n",
       "            <tr>\n",
       "                        <th id=\"T_9888df9d_0765_11ec_ae8c_80c5f20e49e9level0_row13\" class=\"row_heading level0 row13\" >13</th>\n",
       "                        <td id=\"T_9888df9d_0765_11ec_ae8c_80c5f20e49e9row13_col0\" class=\"data row13 col0\" >Fold Generator</td>\n",
       "                        <td id=\"T_9888df9d_0765_11ec_ae8c_80c5f20e49e9row13_col1\" class=\"data row13 col1\" >KFold</td>\n",
       "            </tr>\n",
       "            <tr>\n",
       "                        <th id=\"T_9888df9d_0765_11ec_ae8c_80c5f20e49e9level0_row14\" class=\"row_heading level0 row14\" >14</th>\n",
       "                        <td id=\"T_9888df9d_0765_11ec_ae8c_80c5f20e49e9row14_col0\" class=\"data row14 col0\" >Fold Number</td>\n",
       "                        <td id=\"T_9888df9d_0765_11ec_ae8c_80c5f20e49e9row14_col1\" class=\"data row14 col1\" >10</td>\n",
       "            </tr>\n",
       "            <tr>\n",
       "                        <th id=\"T_9888df9d_0765_11ec_ae8c_80c5f20e49e9level0_row15\" class=\"row_heading level0 row15\" >15</th>\n",
       "                        <td id=\"T_9888df9d_0765_11ec_ae8c_80c5f20e49e9row15_col0\" class=\"data row15 col0\" >CPU Jobs</td>\n",
       "                        <td id=\"T_9888df9d_0765_11ec_ae8c_80c5f20e49e9row15_col1\" class=\"data row15 col1\" >-1</td>\n",
       "            </tr>\n",
       "            <tr>\n",
       "                        <th id=\"T_9888df9d_0765_11ec_ae8c_80c5f20e49e9level0_row16\" class=\"row_heading level0 row16\" >16</th>\n",
       "                        <td id=\"T_9888df9d_0765_11ec_ae8c_80c5f20e49e9row16_col0\" class=\"data row16 col0\" >Use GPU</td>\n",
       "                        <td id=\"T_9888df9d_0765_11ec_ae8c_80c5f20e49e9row16_col1\" class=\"data row16 col1\" >False</td>\n",
       "            </tr>\n",
       "            <tr>\n",
       "                        <th id=\"T_9888df9d_0765_11ec_ae8c_80c5f20e49e9level0_row17\" class=\"row_heading level0 row17\" >17</th>\n",
       "                        <td id=\"T_9888df9d_0765_11ec_ae8c_80c5f20e49e9row17_col0\" class=\"data row17 col0\" >Log Experiment</td>\n",
       "                        <td id=\"T_9888df9d_0765_11ec_ae8c_80c5f20e49e9row17_col1\" class=\"data row17 col1\" >False</td>\n",
       "            </tr>\n",
       "            <tr>\n",
       "                        <th id=\"T_9888df9d_0765_11ec_ae8c_80c5f20e49e9level0_row18\" class=\"row_heading level0 row18\" >18</th>\n",
       "                        <td id=\"T_9888df9d_0765_11ec_ae8c_80c5f20e49e9row18_col0\" class=\"data row18 col0\" >Experiment Name</td>\n",
       "                        <td id=\"T_9888df9d_0765_11ec_ae8c_80c5f20e49e9row18_col1\" class=\"data row18 col1\" >reg-default-name</td>\n",
       "            </tr>\n",
       "            <tr>\n",
       "                        <th id=\"T_9888df9d_0765_11ec_ae8c_80c5f20e49e9level0_row19\" class=\"row_heading level0 row19\" >19</th>\n",
       "                        <td id=\"T_9888df9d_0765_11ec_ae8c_80c5f20e49e9row19_col0\" class=\"data row19 col0\" >USI</td>\n",
       "                        <td id=\"T_9888df9d_0765_11ec_ae8c_80c5f20e49e9row19_col1\" class=\"data row19 col1\" >8b0b</td>\n",
       "            </tr>\n",
       "            <tr>\n",
       "                        <th id=\"T_9888df9d_0765_11ec_ae8c_80c5f20e49e9level0_row20\" class=\"row_heading level0 row20\" >20</th>\n",
       "                        <td id=\"T_9888df9d_0765_11ec_ae8c_80c5f20e49e9row20_col0\" class=\"data row20 col0\" >Imputation Type</td>\n",
       "                        <td id=\"T_9888df9d_0765_11ec_ae8c_80c5f20e49e9row20_col1\" class=\"data row20 col1\" >simple</td>\n",
       "            </tr>\n",
       "            <tr>\n",
       "                        <th id=\"T_9888df9d_0765_11ec_ae8c_80c5f20e49e9level0_row21\" class=\"row_heading level0 row21\" >21</th>\n",
       "                        <td id=\"T_9888df9d_0765_11ec_ae8c_80c5f20e49e9row21_col0\" class=\"data row21 col0\" >Iterative Imputation Iteration</td>\n",
       "                        <td id=\"T_9888df9d_0765_11ec_ae8c_80c5f20e49e9row21_col1\" class=\"data row21 col1\" >None</td>\n",
       "            </tr>\n",
       "            <tr>\n",
       "                        <th id=\"T_9888df9d_0765_11ec_ae8c_80c5f20e49e9level0_row22\" class=\"row_heading level0 row22\" >22</th>\n",
       "                        <td id=\"T_9888df9d_0765_11ec_ae8c_80c5f20e49e9row22_col0\" class=\"data row22 col0\" >Numeric Imputer</td>\n",
       "                        <td id=\"T_9888df9d_0765_11ec_ae8c_80c5f20e49e9row22_col1\" class=\"data row22 col1\" >mean</td>\n",
       "            </tr>\n",
       "            <tr>\n",
       "                        <th id=\"T_9888df9d_0765_11ec_ae8c_80c5f20e49e9level0_row23\" class=\"row_heading level0 row23\" >23</th>\n",
       "                        <td id=\"T_9888df9d_0765_11ec_ae8c_80c5f20e49e9row23_col0\" class=\"data row23 col0\" >Iterative Imputation Numeric Model</td>\n",
       "                        <td id=\"T_9888df9d_0765_11ec_ae8c_80c5f20e49e9row23_col1\" class=\"data row23 col1\" >None</td>\n",
       "            </tr>\n",
       "            <tr>\n",
       "                        <th id=\"T_9888df9d_0765_11ec_ae8c_80c5f20e49e9level0_row24\" class=\"row_heading level0 row24\" >24</th>\n",
       "                        <td id=\"T_9888df9d_0765_11ec_ae8c_80c5f20e49e9row24_col0\" class=\"data row24 col0\" >Categorical Imputer</td>\n",
       "                        <td id=\"T_9888df9d_0765_11ec_ae8c_80c5f20e49e9row24_col1\" class=\"data row24 col1\" >constant</td>\n",
       "            </tr>\n",
       "            <tr>\n",
       "                        <th id=\"T_9888df9d_0765_11ec_ae8c_80c5f20e49e9level0_row25\" class=\"row_heading level0 row25\" >25</th>\n",
       "                        <td id=\"T_9888df9d_0765_11ec_ae8c_80c5f20e49e9row25_col0\" class=\"data row25 col0\" >Iterative Imputation Categorical Model</td>\n",
       "                        <td id=\"T_9888df9d_0765_11ec_ae8c_80c5f20e49e9row25_col1\" class=\"data row25 col1\" >None</td>\n",
       "            </tr>\n",
       "            <tr>\n",
       "                        <th id=\"T_9888df9d_0765_11ec_ae8c_80c5f20e49e9level0_row26\" class=\"row_heading level0 row26\" >26</th>\n",
       "                        <td id=\"T_9888df9d_0765_11ec_ae8c_80c5f20e49e9row26_col0\" class=\"data row26 col0\" >Unknown Categoricals Handling</td>\n",
       "                        <td id=\"T_9888df9d_0765_11ec_ae8c_80c5f20e49e9row26_col1\" class=\"data row26 col1\" >least_frequent</td>\n",
       "            </tr>\n",
       "            <tr>\n",
       "                        <th id=\"T_9888df9d_0765_11ec_ae8c_80c5f20e49e9level0_row27\" class=\"row_heading level0 row27\" >27</th>\n",
       "                        <td id=\"T_9888df9d_0765_11ec_ae8c_80c5f20e49e9row27_col0\" class=\"data row27 col0\" >Normalize</td>\n",
       "                        <td id=\"T_9888df9d_0765_11ec_ae8c_80c5f20e49e9row27_col1\" class=\"data row27 col1\" >False</td>\n",
       "            </tr>\n",
       "            <tr>\n",
       "                        <th id=\"T_9888df9d_0765_11ec_ae8c_80c5f20e49e9level0_row28\" class=\"row_heading level0 row28\" >28</th>\n",
       "                        <td id=\"T_9888df9d_0765_11ec_ae8c_80c5f20e49e9row28_col0\" class=\"data row28 col0\" >Normalize Method</td>\n",
       "                        <td id=\"T_9888df9d_0765_11ec_ae8c_80c5f20e49e9row28_col1\" class=\"data row28 col1\" >None</td>\n",
       "            </tr>\n",
       "            <tr>\n",
       "                        <th id=\"T_9888df9d_0765_11ec_ae8c_80c5f20e49e9level0_row29\" class=\"row_heading level0 row29\" >29</th>\n",
       "                        <td id=\"T_9888df9d_0765_11ec_ae8c_80c5f20e49e9row29_col0\" class=\"data row29 col0\" >Transformation</td>\n",
       "                        <td id=\"T_9888df9d_0765_11ec_ae8c_80c5f20e49e9row29_col1\" class=\"data row29 col1\" >False</td>\n",
       "            </tr>\n",
       "            <tr>\n",
       "                        <th id=\"T_9888df9d_0765_11ec_ae8c_80c5f20e49e9level0_row30\" class=\"row_heading level0 row30\" >30</th>\n",
       "                        <td id=\"T_9888df9d_0765_11ec_ae8c_80c5f20e49e9row30_col0\" class=\"data row30 col0\" >Transformation Method</td>\n",
       "                        <td id=\"T_9888df9d_0765_11ec_ae8c_80c5f20e49e9row30_col1\" class=\"data row30 col1\" >None</td>\n",
       "            </tr>\n",
       "            <tr>\n",
       "                        <th id=\"T_9888df9d_0765_11ec_ae8c_80c5f20e49e9level0_row31\" class=\"row_heading level0 row31\" >31</th>\n",
       "                        <td id=\"T_9888df9d_0765_11ec_ae8c_80c5f20e49e9row31_col0\" class=\"data row31 col0\" >PCA</td>\n",
       "                        <td id=\"T_9888df9d_0765_11ec_ae8c_80c5f20e49e9row31_col1\" class=\"data row31 col1\" >False</td>\n",
       "            </tr>\n",
       "            <tr>\n",
       "                        <th id=\"T_9888df9d_0765_11ec_ae8c_80c5f20e49e9level0_row32\" class=\"row_heading level0 row32\" >32</th>\n",
       "                        <td id=\"T_9888df9d_0765_11ec_ae8c_80c5f20e49e9row32_col0\" class=\"data row32 col0\" >PCA Method</td>\n",
       "                        <td id=\"T_9888df9d_0765_11ec_ae8c_80c5f20e49e9row32_col1\" class=\"data row32 col1\" >None</td>\n",
       "            </tr>\n",
       "            <tr>\n",
       "                        <th id=\"T_9888df9d_0765_11ec_ae8c_80c5f20e49e9level0_row33\" class=\"row_heading level0 row33\" >33</th>\n",
       "                        <td id=\"T_9888df9d_0765_11ec_ae8c_80c5f20e49e9row33_col0\" class=\"data row33 col0\" >PCA Components</td>\n",
       "                        <td id=\"T_9888df9d_0765_11ec_ae8c_80c5f20e49e9row33_col1\" class=\"data row33 col1\" >None</td>\n",
       "            </tr>\n",
       "            <tr>\n",
       "                        <th id=\"T_9888df9d_0765_11ec_ae8c_80c5f20e49e9level0_row34\" class=\"row_heading level0 row34\" >34</th>\n",
       "                        <td id=\"T_9888df9d_0765_11ec_ae8c_80c5f20e49e9row34_col0\" class=\"data row34 col0\" >Ignore Low Variance</td>\n",
       "                        <td id=\"T_9888df9d_0765_11ec_ae8c_80c5f20e49e9row34_col1\" class=\"data row34 col1\" >False</td>\n",
       "            </tr>\n",
       "            <tr>\n",
       "                        <th id=\"T_9888df9d_0765_11ec_ae8c_80c5f20e49e9level0_row35\" class=\"row_heading level0 row35\" >35</th>\n",
       "                        <td id=\"T_9888df9d_0765_11ec_ae8c_80c5f20e49e9row35_col0\" class=\"data row35 col0\" >Combine Rare Levels</td>\n",
       "                        <td id=\"T_9888df9d_0765_11ec_ae8c_80c5f20e49e9row35_col1\" class=\"data row35 col1\" >False</td>\n",
       "            </tr>\n",
       "            <tr>\n",
       "                        <th id=\"T_9888df9d_0765_11ec_ae8c_80c5f20e49e9level0_row36\" class=\"row_heading level0 row36\" >36</th>\n",
       "                        <td id=\"T_9888df9d_0765_11ec_ae8c_80c5f20e49e9row36_col0\" class=\"data row36 col0\" >Rare Level Threshold</td>\n",
       "                        <td id=\"T_9888df9d_0765_11ec_ae8c_80c5f20e49e9row36_col1\" class=\"data row36 col1\" >None</td>\n",
       "            </tr>\n",
       "            <tr>\n",
       "                        <th id=\"T_9888df9d_0765_11ec_ae8c_80c5f20e49e9level0_row37\" class=\"row_heading level0 row37\" >37</th>\n",
       "                        <td id=\"T_9888df9d_0765_11ec_ae8c_80c5f20e49e9row37_col0\" class=\"data row37 col0\" >Numeric Binning</td>\n",
       "                        <td id=\"T_9888df9d_0765_11ec_ae8c_80c5f20e49e9row37_col1\" class=\"data row37 col1\" >False</td>\n",
       "            </tr>\n",
       "            <tr>\n",
       "                        <th id=\"T_9888df9d_0765_11ec_ae8c_80c5f20e49e9level0_row38\" class=\"row_heading level0 row38\" >38</th>\n",
       "                        <td id=\"T_9888df9d_0765_11ec_ae8c_80c5f20e49e9row38_col0\" class=\"data row38 col0\" >Remove Outliers</td>\n",
       "                        <td id=\"T_9888df9d_0765_11ec_ae8c_80c5f20e49e9row38_col1\" class=\"data row38 col1\" >False</td>\n",
       "            </tr>\n",
       "            <tr>\n",
       "                        <th id=\"T_9888df9d_0765_11ec_ae8c_80c5f20e49e9level0_row39\" class=\"row_heading level0 row39\" >39</th>\n",
       "                        <td id=\"T_9888df9d_0765_11ec_ae8c_80c5f20e49e9row39_col0\" class=\"data row39 col0\" >Outliers Threshold</td>\n",
       "                        <td id=\"T_9888df9d_0765_11ec_ae8c_80c5f20e49e9row39_col1\" class=\"data row39 col1\" >None</td>\n",
       "            </tr>\n",
       "            <tr>\n",
       "                        <th id=\"T_9888df9d_0765_11ec_ae8c_80c5f20e49e9level0_row40\" class=\"row_heading level0 row40\" >40</th>\n",
       "                        <td id=\"T_9888df9d_0765_11ec_ae8c_80c5f20e49e9row40_col0\" class=\"data row40 col0\" >Remove Multicollinearity</td>\n",
       "                        <td id=\"T_9888df9d_0765_11ec_ae8c_80c5f20e49e9row40_col1\" class=\"data row40 col1\" >False</td>\n",
       "            </tr>\n",
       "            <tr>\n",
       "                        <th id=\"T_9888df9d_0765_11ec_ae8c_80c5f20e49e9level0_row41\" class=\"row_heading level0 row41\" >41</th>\n",
       "                        <td id=\"T_9888df9d_0765_11ec_ae8c_80c5f20e49e9row41_col0\" class=\"data row41 col0\" >Multicollinearity Threshold</td>\n",
       "                        <td id=\"T_9888df9d_0765_11ec_ae8c_80c5f20e49e9row41_col1\" class=\"data row41 col1\" >None</td>\n",
       "            </tr>\n",
       "            <tr>\n",
       "                        <th id=\"T_9888df9d_0765_11ec_ae8c_80c5f20e49e9level0_row42\" class=\"row_heading level0 row42\" >42</th>\n",
       "                        <td id=\"T_9888df9d_0765_11ec_ae8c_80c5f20e49e9row42_col0\" class=\"data row42 col0\" >Clustering</td>\n",
       "                        <td id=\"T_9888df9d_0765_11ec_ae8c_80c5f20e49e9row42_col1\" class=\"data row42 col1\" >False</td>\n",
       "            </tr>\n",
       "            <tr>\n",
       "                        <th id=\"T_9888df9d_0765_11ec_ae8c_80c5f20e49e9level0_row43\" class=\"row_heading level0 row43\" >43</th>\n",
       "                        <td id=\"T_9888df9d_0765_11ec_ae8c_80c5f20e49e9row43_col0\" class=\"data row43 col0\" >Clustering Iteration</td>\n",
       "                        <td id=\"T_9888df9d_0765_11ec_ae8c_80c5f20e49e9row43_col1\" class=\"data row43 col1\" >None</td>\n",
       "            </tr>\n",
       "            <tr>\n",
       "                        <th id=\"T_9888df9d_0765_11ec_ae8c_80c5f20e49e9level0_row44\" class=\"row_heading level0 row44\" >44</th>\n",
       "                        <td id=\"T_9888df9d_0765_11ec_ae8c_80c5f20e49e9row44_col0\" class=\"data row44 col0\" >Polynomial Features</td>\n",
       "                        <td id=\"T_9888df9d_0765_11ec_ae8c_80c5f20e49e9row44_col1\" class=\"data row44 col1\" >False</td>\n",
       "            </tr>\n",
       "            <tr>\n",
       "                        <th id=\"T_9888df9d_0765_11ec_ae8c_80c5f20e49e9level0_row45\" class=\"row_heading level0 row45\" >45</th>\n",
       "                        <td id=\"T_9888df9d_0765_11ec_ae8c_80c5f20e49e9row45_col0\" class=\"data row45 col0\" >Polynomial Degree</td>\n",
       "                        <td id=\"T_9888df9d_0765_11ec_ae8c_80c5f20e49e9row45_col1\" class=\"data row45 col1\" >None</td>\n",
       "            </tr>\n",
       "            <tr>\n",
       "                        <th id=\"T_9888df9d_0765_11ec_ae8c_80c5f20e49e9level0_row46\" class=\"row_heading level0 row46\" >46</th>\n",
       "                        <td id=\"T_9888df9d_0765_11ec_ae8c_80c5f20e49e9row46_col0\" class=\"data row46 col0\" >Trignometry Features</td>\n",
       "                        <td id=\"T_9888df9d_0765_11ec_ae8c_80c5f20e49e9row46_col1\" class=\"data row46 col1\" >False</td>\n",
       "            </tr>\n",
       "            <tr>\n",
       "                        <th id=\"T_9888df9d_0765_11ec_ae8c_80c5f20e49e9level0_row47\" class=\"row_heading level0 row47\" >47</th>\n",
       "                        <td id=\"T_9888df9d_0765_11ec_ae8c_80c5f20e49e9row47_col0\" class=\"data row47 col0\" >Polynomial Threshold</td>\n",
       "                        <td id=\"T_9888df9d_0765_11ec_ae8c_80c5f20e49e9row47_col1\" class=\"data row47 col1\" >None</td>\n",
       "            </tr>\n",
       "            <tr>\n",
       "                        <th id=\"T_9888df9d_0765_11ec_ae8c_80c5f20e49e9level0_row48\" class=\"row_heading level0 row48\" >48</th>\n",
       "                        <td id=\"T_9888df9d_0765_11ec_ae8c_80c5f20e49e9row48_col0\" class=\"data row48 col0\" >Group Features</td>\n",
       "                        <td id=\"T_9888df9d_0765_11ec_ae8c_80c5f20e49e9row48_col1\" class=\"data row48 col1\" >False</td>\n",
       "            </tr>\n",
       "            <tr>\n",
       "                        <th id=\"T_9888df9d_0765_11ec_ae8c_80c5f20e49e9level0_row49\" class=\"row_heading level0 row49\" >49</th>\n",
       "                        <td id=\"T_9888df9d_0765_11ec_ae8c_80c5f20e49e9row49_col0\" class=\"data row49 col0\" >Feature Selection</td>\n",
       "                        <td id=\"T_9888df9d_0765_11ec_ae8c_80c5f20e49e9row49_col1\" class=\"data row49 col1\" >False</td>\n",
       "            </tr>\n",
       "            <tr>\n",
       "                        <th id=\"T_9888df9d_0765_11ec_ae8c_80c5f20e49e9level0_row50\" class=\"row_heading level0 row50\" >50</th>\n",
       "                        <td id=\"T_9888df9d_0765_11ec_ae8c_80c5f20e49e9row50_col0\" class=\"data row50 col0\" >Feature Selection Method</td>\n",
       "                        <td id=\"T_9888df9d_0765_11ec_ae8c_80c5f20e49e9row50_col1\" class=\"data row50 col1\" >classic</td>\n",
       "            </tr>\n",
       "            <tr>\n",
       "                        <th id=\"T_9888df9d_0765_11ec_ae8c_80c5f20e49e9level0_row51\" class=\"row_heading level0 row51\" >51</th>\n",
       "                        <td id=\"T_9888df9d_0765_11ec_ae8c_80c5f20e49e9row51_col0\" class=\"data row51 col0\" >Features Selection Threshold</td>\n",
       "                        <td id=\"T_9888df9d_0765_11ec_ae8c_80c5f20e49e9row51_col1\" class=\"data row51 col1\" >None</td>\n",
       "            </tr>\n",
       "            <tr>\n",
       "                        <th id=\"T_9888df9d_0765_11ec_ae8c_80c5f20e49e9level0_row52\" class=\"row_heading level0 row52\" >52</th>\n",
       "                        <td id=\"T_9888df9d_0765_11ec_ae8c_80c5f20e49e9row52_col0\" class=\"data row52 col0\" >Feature Interaction</td>\n",
       "                        <td id=\"T_9888df9d_0765_11ec_ae8c_80c5f20e49e9row52_col1\" class=\"data row52 col1\" >False</td>\n",
       "            </tr>\n",
       "            <tr>\n",
       "                        <th id=\"T_9888df9d_0765_11ec_ae8c_80c5f20e49e9level0_row53\" class=\"row_heading level0 row53\" >53</th>\n",
       "                        <td id=\"T_9888df9d_0765_11ec_ae8c_80c5f20e49e9row53_col0\" class=\"data row53 col0\" >Feature Ratio</td>\n",
       "                        <td id=\"T_9888df9d_0765_11ec_ae8c_80c5f20e49e9row53_col1\" class=\"data row53 col1\" >False</td>\n",
       "            </tr>\n",
       "            <tr>\n",
       "                        <th id=\"T_9888df9d_0765_11ec_ae8c_80c5f20e49e9level0_row54\" class=\"row_heading level0 row54\" >54</th>\n",
       "                        <td id=\"T_9888df9d_0765_11ec_ae8c_80c5f20e49e9row54_col0\" class=\"data row54 col0\" >Interaction Threshold</td>\n",
       "                        <td id=\"T_9888df9d_0765_11ec_ae8c_80c5f20e49e9row54_col1\" class=\"data row54 col1\" >None</td>\n",
       "            </tr>\n",
       "            <tr>\n",
       "                        <th id=\"T_9888df9d_0765_11ec_ae8c_80c5f20e49e9level0_row55\" class=\"row_heading level0 row55\" >55</th>\n",
       "                        <td id=\"T_9888df9d_0765_11ec_ae8c_80c5f20e49e9row55_col0\" class=\"data row55 col0\" >Transform Target</td>\n",
       "                        <td id=\"T_9888df9d_0765_11ec_ae8c_80c5f20e49e9row55_col1\" class=\"data row55 col1\" >False</td>\n",
       "            </tr>\n",
       "            <tr>\n",
       "                        <th id=\"T_9888df9d_0765_11ec_ae8c_80c5f20e49e9level0_row56\" class=\"row_heading level0 row56\" >56</th>\n",
       "                        <td id=\"T_9888df9d_0765_11ec_ae8c_80c5f20e49e9row56_col0\" class=\"data row56 col0\" >Transform Target Method</td>\n",
       "                        <td id=\"T_9888df9d_0765_11ec_ae8c_80c5f20e49e9row56_col1\" class=\"data row56 col1\" >box-cox</td>\n",
       "            </tr>\n",
       "    </tbody></table>"
      ],
      "text/plain": [
       "<pandas.io.formats.style.Styler at 0x25f05177b20>"
      ]
     },
     "metadata": {},
     "output_type": "display_data"
    }
   ],
   "source": [
    "exp_reg101 = setup(data = data, target = 'Price', session_id=1002)"
   ]
  },
  {
   "cell_type": "code",
   "execution_count": 10,
   "metadata": {},
   "outputs": [
    {
     "data": {
      "text/html": [
       "<style  type=\"text/css\" >\n",
       "    #T_b87c42f2_0765_11ec_86eb_80c5f20e49e9 th {\n",
       "          text-align: left;\n",
       "    }    #T_b87c42f2_0765_11ec_86eb_80c5f20e49e9row0_col0 {\n",
       "            text-align:  left;\n",
       "            text-align:  left;\n",
       "        }    #T_b87c42f2_0765_11ec_86eb_80c5f20e49e9row0_col1 {\n",
       "            text-align:  left;\n",
       "            text-align:  left;\n",
       "            background-color:  yellow;\n",
       "        }    #T_b87c42f2_0765_11ec_86eb_80c5f20e49e9row0_col2 {\n",
       "            text-align:  left;\n",
       "            text-align:  left;\n",
       "            background-color:  yellow;\n",
       "        }    #T_b87c42f2_0765_11ec_86eb_80c5f20e49e9row0_col3 {\n",
       "            text-align:  left;\n",
       "            text-align:  left;\n",
       "            background-color:  yellow;\n",
       "        }    #T_b87c42f2_0765_11ec_86eb_80c5f20e49e9row0_col4 {\n",
       "            text-align:  left;\n",
       "            text-align:  left;\n",
       "            background-color:  yellow;\n",
       "        }    #T_b87c42f2_0765_11ec_86eb_80c5f20e49e9row0_col5 {\n",
       "            text-align:  left;\n",
       "            text-align:  left;\n",
       "            background-color:  yellow;\n",
       "        }    #T_b87c42f2_0765_11ec_86eb_80c5f20e49e9row0_col6 {\n",
       "            text-align:  left;\n",
       "            text-align:  left;\n",
       "            background-color:  yellow;\n",
       "        }    #T_b87c42f2_0765_11ec_86eb_80c5f20e49e9row0_col7 {\n",
       "            text-align:  left;\n",
       "            text-align:  left;\n",
       "            : ;\n",
       "            background-color:  lightgrey;\n",
       "        }    #T_b87c42f2_0765_11ec_86eb_80c5f20e49e9row1_col0 {\n",
       "            text-align:  left;\n",
       "            text-align:  left;\n",
       "        }    #T_b87c42f2_0765_11ec_86eb_80c5f20e49e9row1_col1 {\n",
       "            text-align:  left;\n",
       "            text-align:  left;\n",
       "            : ;\n",
       "        }    #T_b87c42f2_0765_11ec_86eb_80c5f20e49e9row1_col2 {\n",
       "            text-align:  left;\n",
       "            text-align:  left;\n",
       "            : ;\n",
       "        }    #T_b87c42f2_0765_11ec_86eb_80c5f20e49e9row1_col3 {\n",
       "            text-align:  left;\n",
       "            text-align:  left;\n",
       "            : ;\n",
       "        }    #T_b87c42f2_0765_11ec_86eb_80c5f20e49e9row1_col4 {\n",
       "            text-align:  left;\n",
       "            text-align:  left;\n",
       "            : ;\n",
       "        }    #T_b87c42f2_0765_11ec_86eb_80c5f20e49e9row1_col5 {\n",
       "            text-align:  left;\n",
       "            text-align:  left;\n",
       "            : ;\n",
       "        }    #T_b87c42f2_0765_11ec_86eb_80c5f20e49e9row1_col6 {\n",
       "            text-align:  left;\n",
       "            text-align:  left;\n",
       "            : ;\n",
       "        }    #T_b87c42f2_0765_11ec_86eb_80c5f20e49e9row1_col7 {\n",
       "            text-align:  left;\n",
       "            text-align:  left;\n",
       "            : ;\n",
       "            background-color:  lightgrey;\n",
       "        }    #T_b87c42f2_0765_11ec_86eb_80c5f20e49e9row2_col0 {\n",
       "            text-align:  left;\n",
       "            text-align:  left;\n",
       "        }    #T_b87c42f2_0765_11ec_86eb_80c5f20e49e9row2_col1 {\n",
       "            text-align:  left;\n",
       "            text-align:  left;\n",
       "            : ;\n",
       "        }    #T_b87c42f2_0765_11ec_86eb_80c5f20e49e9row2_col2 {\n",
       "            text-align:  left;\n",
       "            text-align:  left;\n",
       "            : ;\n",
       "        }    #T_b87c42f2_0765_11ec_86eb_80c5f20e49e9row2_col3 {\n",
       "            text-align:  left;\n",
       "            text-align:  left;\n",
       "            : ;\n",
       "        }    #T_b87c42f2_0765_11ec_86eb_80c5f20e49e9row2_col4 {\n",
       "            text-align:  left;\n",
       "            text-align:  left;\n",
       "            : ;\n",
       "        }    #T_b87c42f2_0765_11ec_86eb_80c5f20e49e9row2_col5 {\n",
       "            text-align:  left;\n",
       "            text-align:  left;\n",
       "            : ;\n",
       "        }    #T_b87c42f2_0765_11ec_86eb_80c5f20e49e9row2_col6 {\n",
       "            text-align:  left;\n",
       "            text-align:  left;\n",
       "            : ;\n",
       "        }    #T_b87c42f2_0765_11ec_86eb_80c5f20e49e9row2_col7 {\n",
       "            text-align:  left;\n",
       "            text-align:  left;\n",
       "            : ;\n",
       "            background-color:  lightgrey;\n",
       "        }    #T_b87c42f2_0765_11ec_86eb_80c5f20e49e9row3_col0 {\n",
       "            text-align:  left;\n",
       "            text-align:  left;\n",
       "        }    #T_b87c42f2_0765_11ec_86eb_80c5f20e49e9row3_col1 {\n",
       "            text-align:  left;\n",
       "            text-align:  left;\n",
       "            : ;\n",
       "        }    #T_b87c42f2_0765_11ec_86eb_80c5f20e49e9row3_col2 {\n",
       "            text-align:  left;\n",
       "            text-align:  left;\n",
       "            : ;\n",
       "        }    #T_b87c42f2_0765_11ec_86eb_80c5f20e49e9row3_col3 {\n",
       "            text-align:  left;\n",
       "            text-align:  left;\n",
       "            : ;\n",
       "        }    #T_b87c42f2_0765_11ec_86eb_80c5f20e49e9row3_col4 {\n",
       "            text-align:  left;\n",
       "            text-align:  left;\n",
       "            : ;\n",
       "        }    #T_b87c42f2_0765_11ec_86eb_80c5f20e49e9row3_col5 {\n",
       "            text-align:  left;\n",
       "            text-align:  left;\n",
       "            : ;\n",
       "        }    #T_b87c42f2_0765_11ec_86eb_80c5f20e49e9row3_col6 {\n",
       "            text-align:  left;\n",
       "            text-align:  left;\n",
       "            : ;\n",
       "        }    #T_b87c42f2_0765_11ec_86eb_80c5f20e49e9row3_col7 {\n",
       "            text-align:  left;\n",
       "            text-align:  left;\n",
       "            : ;\n",
       "            background-color:  lightgrey;\n",
       "        }    #T_b87c42f2_0765_11ec_86eb_80c5f20e49e9row4_col0 {\n",
       "            text-align:  left;\n",
       "            text-align:  left;\n",
       "        }    #T_b87c42f2_0765_11ec_86eb_80c5f20e49e9row4_col1 {\n",
       "            text-align:  left;\n",
       "            text-align:  left;\n",
       "            : ;\n",
       "        }    #T_b87c42f2_0765_11ec_86eb_80c5f20e49e9row4_col2 {\n",
       "            text-align:  left;\n",
       "            text-align:  left;\n",
       "            : ;\n",
       "        }    #T_b87c42f2_0765_11ec_86eb_80c5f20e49e9row4_col3 {\n",
       "            text-align:  left;\n",
       "            text-align:  left;\n",
       "            : ;\n",
       "        }    #T_b87c42f2_0765_11ec_86eb_80c5f20e49e9row4_col4 {\n",
       "            text-align:  left;\n",
       "            text-align:  left;\n",
       "            : ;\n",
       "        }    #T_b87c42f2_0765_11ec_86eb_80c5f20e49e9row4_col5 {\n",
       "            text-align:  left;\n",
       "            text-align:  left;\n",
       "            : ;\n",
       "        }    #T_b87c42f2_0765_11ec_86eb_80c5f20e49e9row4_col6 {\n",
       "            text-align:  left;\n",
       "            text-align:  left;\n",
       "            : ;\n",
       "        }    #T_b87c42f2_0765_11ec_86eb_80c5f20e49e9row4_col7 {\n",
       "            text-align:  left;\n",
       "            text-align:  left;\n",
       "            : ;\n",
       "            background-color:  lightgrey;\n",
       "        }    #T_b87c42f2_0765_11ec_86eb_80c5f20e49e9row5_col0 {\n",
       "            text-align:  left;\n",
       "            text-align:  left;\n",
       "        }    #T_b87c42f2_0765_11ec_86eb_80c5f20e49e9row5_col1 {\n",
       "            text-align:  left;\n",
       "            text-align:  left;\n",
       "            : ;\n",
       "        }    #T_b87c42f2_0765_11ec_86eb_80c5f20e49e9row5_col2 {\n",
       "            text-align:  left;\n",
       "            text-align:  left;\n",
       "            : ;\n",
       "        }    #T_b87c42f2_0765_11ec_86eb_80c5f20e49e9row5_col3 {\n",
       "            text-align:  left;\n",
       "            text-align:  left;\n",
       "            : ;\n",
       "        }    #T_b87c42f2_0765_11ec_86eb_80c5f20e49e9row5_col4 {\n",
       "            text-align:  left;\n",
       "            text-align:  left;\n",
       "            : ;\n",
       "        }    #T_b87c42f2_0765_11ec_86eb_80c5f20e49e9row5_col5 {\n",
       "            text-align:  left;\n",
       "            text-align:  left;\n",
       "            : ;\n",
       "        }    #T_b87c42f2_0765_11ec_86eb_80c5f20e49e9row5_col6 {\n",
       "            text-align:  left;\n",
       "            text-align:  left;\n",
       "            : ;\n",
       "        }    #T_b87c42f2_0765_11ec_86eb_80c5f20e49e9row5_col7 {\n",
       "            text-align:  left;\n",
       "            text-align:  left;\n",
       "            : ;\n",
       "            background-color:  lightgrey;\n",
       "        }    #T_b87c42f2_0765_11ec_86eb_80c5f20e49e9row6_col0 {\n",
       "            text-align:  left;\n",
       "            text-align:  left;\n",
       "        }    #T_b87c42f2_0765_11ec_86eb_80c5f20e49e9row6_col1 {\n",
       "            text-align:  left;\n",
       "            text-align:  left;\n",
       "            : ;\n",
       "        }    #T_b87c42f2_0765_11ec_86eb_80c5f20e49e9row6_col2 {\n",
       "            text-align:  left;\n",
       "            text-align:  left;\n",
       "            : ;\n",
       "        }    #T_b87c42f2_0765_11ec_86eb_80c5f20e49e9row6_col3 {\n",
       "            text-align:  left;\n",
       "            text-align:  left;\n",
       "            : ;\n",
       "        }    #T_b87c42f2_0765_11ec_86eb_80c5f20e49e9row6_col4 {\n",
       "            text-align:  left;\n",
       "            text-align:  left;\n",
       "            : ;\n",
       "        }    #T_b87c42f2_0765_11ec_86eb_80c5f20e49e9row6_col5 {\n",
       "            text-align:  left;\n",
       "            text-align:  left;\n",
       "            : ;\n",
       "        }    #T_b87c42f2_0765_11ec_86eb_80c5f20e49e9row6_col6 {\n",
       "            text-align:  left;\n",
       "            text-align:  left;\n",
       "            : ;\n",
       "        }    #T_b87c42f2_0765_11ec_86eb_80c5f20e49e9row6_col7 {\n",
       "            text-align:  left;\n",
       "            text-align:  left;\n",
       "            : ;\n",
       "            background-color:  lightgrey;\n",
       "        }    #T_b87c42f2_0765_11ec_86eb_80c5f20e49e9row7_col0 {\n",
       "            text-align:  left;\n",
       "            text-align:  left;\n",
       "        }    #T_b87c42f2_0765_11ec_86eb_80c5f20e49e9row7_col1 {\n",
       "            text-align:  left;\n",
       "            text-align:  left;\n",
       "            : ;\n",
       "        }    #T_b87c42f2_0765_11ec_86eb_80c5f20e49e9row7_col2 {\n",
       "            text-align:  left;\n",
       "            text-align:  left;\n",
       "            : ;\n",
       "        }    #T_b87c42f2_0765_11ec_86eb_80c5f20e49e9row7_col3 {\n",
       "            text-align:  left;\n",
       "            text-align:  left;\n",
       "            : ;\n",
       "        }    #T_b87c42f2_0765_11ec_86eb_80c5f20e49e9row7_col4 {\n",
       "            text-align:  left;\n",
       "            text-align:  left;\n",
       "            : ;\n",
       "        }    #T_b87c42f2_0765_11ec_86eb_80c5f20e49e9row7_col5 {\n",
       "            text-align:  left;\n",
       "            text-align:  left;\n",
       "            : ;\n",
       "        }    #T_b87c42f2_0765_11ec_86eb_80c5f20e49e9row7_col6 {\n",
       "            text-align:  left;\n",
       "            text-align:  left;\n",
       "            : ;\n",
       "        }    #T_b87c42f2_0765_11ec_86eb_80c5f20e49e9row7_col7 {\n",
       "            text-align:  left;\n",
       "            text-align:  left;\n",
       "            : ;\n",
       "            background-color:  lightgrey;\n",
       "        }    #T_b87c42f2_0765_11ec_86eb_80c5f20e49e9row8_col0 {\n",
       "            text-align:  left;\n",
       "            text-align:  left;\n",
       "        }    #T_b87c42f2_0765_11ec_86eb_80c5f20e49e9row8_col1 {\n",
       "            text-align:  left;\n",
       "            text-align:  left;\n",
       "            : ;\n",
       "        }    #T_b87c42f2_0765_11ec_86eb_80c5f20e49e9row8_col2 {\n",
       "            text-align:  left;\n",
       "            text-align:  left;\n",
       "            : ;\n",
       "        }    #T_b87c42f2_0765_11ec_86eb_80c5f20e49e9row8_col3 {\n",
       "            text-align:  left;\n",
       "            text-align:  left;\n",
       "            : ;\n",
       "        }    #T_b87c42f2_0765_11ec_86eb_80c5f20e49e9row8_col4 {\n",
       "            text-align:  left;\n",
       "            text-align:  left;\n",
       "            : ;\n",
       "        }    #T_b87c42f2_0765_11ec_86eb_80c5f20e49e9row8_col5 {\n",
       "            text-align:  left;\n",
       "            text-align:  left;\n",
       "            : ;\n",
       "        }    #T_b87c42f2_0765_11ec_86eb_80c5f20e49e9row8_col6 {\n",
       "            text-align:  left;\n",
       "            text-align:  left;\n",
       "            : ;\n",
       "        }    #T_b87c42f2_0765_11ec_86eb_80c5f20e49e9row8_col7 {\n",
       "            text-align:  left;\n",
       "            text-align:  left;\n",
       "            : ;\n",
       "            background-color:  lightgrey;\n",
       "        }    #T_b87c42f2_0765_11ec_86eb_80c5f20e49e9row9_col0 {\n",
       "            text-align:  left;\n",
       "            text-align:  left;\n",
       "        }    #T_b87c42f2_0765_11ec_86eb_80c5f20e49e9row9_col1 {\n",
       "            text-align:  left;\n",
       "            text-align:  left;\n",
       "            : ;\n",
       "        }    #T_b87c42f2_0765_11ec_86eb_80c5f20e49e9row9_col2 {\n",
       "            text-align:  left;\n",
       "            text-align:  left;\n",
       "            : ;\n",
       "        }    #T_b87c42f2_0765_11ec_86eb_80c5f20e49e9row9_col3 {\n",
       "            text-align:  left;\n",
       "            text-align:  left;\n",
       "            : ;\n",
       "        }    #T_b87c42f2_0765_11ec_86eb_80c5f20e49e9row9_col4 {\n",
       "            text-align:  left;\n",
       "            text-align:  left;\n",
       "            : ;\n",
       "        }    #T_b87c42f2_0765_11ec_86eb_80c5f20e49e9row9_col5 {\n",
       "            text-align:  left;\n",
       "            text-align:  left;\n",
       "            : ;\n",
       "        }    #T_b87c42f2_0765_11ec_86eb_80c5f20e49e9row9_col6 {\n",
       "            text-align:  left;\n",
       "            text-align:  left;\n",
       "            : ;\n",
       "        }    #T_b87c42f2_0765_11ec_86eb_80c5f20e49e9row9_col7 {\n",
       "            text-align:  left;\n",
       "            text-align:  left;\n",
       "            : ;\n",
       "            background-color:  lightgrey;\n",
       "        }    #T_b87c42f2_0765_11ec_86eb_80c5f20e49e9row10_col0 {\n",
       "            text-align:  left;\n",
       "            text-align:  left;\n",
       "        }    #T_b87c42f2_0765_11ec_86eb_80c5f20e49e9row10_col1 {\n",
       "            text-align:  left;\n",
       "            text-align:  left;\n",
       "            : ;\n",
       "        }    #T_b87c42f2_0765_11ec_86eb_80c5f20e49e9row10_col2 {\n",
       "            text-align:  left;\n",
       "            text-align:  left;\n",
       "            : ;\n",
       "        }    #T_b87c42f2_0765_11ec_86eb_80c5f20e49e9row10_col3 {\n",
       "            text-align:  left;\n",
       "            text-align:  left;\n",
       "            : ;\n",
       "        }    #T_b87c42f2_0765_11ec_86eb_80c5f20e49e9row10_col4 {\n",
       "            text-align:  left;\n",
       "            text-align:  left;\n",
       "            : ;\n",
       "        }    #T_b87c42f2_0765_11ec_86eb_80c5f20e49e9row10_col5 {\n",
       "            text-align:  left;\n",
       "            text-align:  left;\n",
       "            : ;\n",
       "        }    #T_b87c42f2_0765_11ec_86eb_80c5f20e49e9row10_col6 {\n",
       "            text-align:  left;\n",
       "            text-align:  left;\n",
       "            : ;\n",
       "        }    #T_b87c42f2_0765_11ec_86eb_80c5f20e49e9row10_col7 {\n",
       "            text-align:  left;\n",
       "            text-align:  left;\n",
       "            : ;\n",
       "            background-color:  lightgrey;\n",
       "        }    #T_b87c42f2_0765_11ec_86eb_80c5f20e49e9row11_col0 {\n",
       "            text-align:  left;\n",
       "            text-align:  left;\n",
       "        }    #T_b87c42f2_0765_11ec_86eb_80c5f20e49e9row11_col1 {\n",
       "            text-align:  left;\n",
       "            text-align:  left;\n",
       "            : ;\n",
       "        }    #T_b87c42f2_0765_11ec_86eb_80c5f20e49e9row11_col2 {\n",
       "            text-align:  left;\n",
       "            text-align:  left;\n",
       "            : ;\n",
       "        }    #T_b87c42f2_0765_11ec_86eb_80c5f20e49e9row11_col3 {\n",
       "            text-align:  left;\n",
       "            text-align:  left;\n",
       "            : ;\n",
       "        }    #T_b87c42f2_0765_11ec_86eb_80c5f20e49e9row11_col4 {\n",
       "            text-align:  left;\n",
       "            text-align:  left;\n",
       "            : ;\n",
       "        }    #T_b87c42f2_0765_11ec_86eb_80c5f20e49e9row11_col5 {\n",
       "            text-align:  left;\n",
       "            text-align:  left;\n",
       "            : ;\n",
       "        }    #T_b87c42f2_0765_11ec_86eb_80c5f20e49e9row11_col6 {\n",
       "            text-align:  left;\n",
       "            text-align:  left;\n",
       "            : ;\n",
       "        }    #T_b87c42f2_0765_11ec_86eb_80c5f20e49e9row11_col7 {\n",
       "            text-align:  left;\n",
       "            text-align:  left;\n",
       "            : ;\n",
       "            background-color:  lightgrey;\n",
       "        }    #T_b87c42f2_0765_11ec_86eb_80c5f20e49e9row12_col0 {\n",
       "            text-align:  left;\n",
       "            text-align:  left;\n",
       "        }    #T_b87c42f2_0765_11ec_86eb_80c5f20e49e9row12_col1 {\n",
       "            text-align:  left;\n",
       "            text-align:  left;\n",
       "            : ;\n",
       "        }    #T_b87c42f2_0765_11ec_86eb_80c5f20e49e9row12_col2 {\n",
       "            text-align:  left;\n",
       "            text-align:  left;\n",
       "            : ;\n",
       "        }    #T_b87c42f2_0765_11ec_86eb_80c5f20e49e9row12_col3 {\n",
       "            text-align:  left;\n",
       "            text-align:  left;\n",
       "            : ;\n",
       "        }    #T_b87c42f2_0765_11ec_86eb_80c5f20e49e9row12_col4 {\n",
       "            text-align:  left;\n",
       "            text-align:  left;\n",
       "            : ;\n",
       "        }    #T_b87c42f2_0765_11ec_86eb_80c5f20e49e9row12_col5 {\n",
       "            text-align:  left;\n",
       "            text-align:  left;\n",
       "            : ;\n",
       "        }    #T_b87c42f2_0765_11ec_86eb_80c5f20e49e9row12_col6 {\n",
       "            text-align:  left;\n",
       "            text-align:  left;\n",
       "            : ;\n",
       "        }    #T_b87c42f2_0765_11ec_86eb_80c5f20e49e9row12_col7 {\n",
       "            text-align:  left;\n",
       "            text-align:  left;\n",
       "            : ;\n",
       "            background-color:  lightgrey;\n",
       "        }    #T_b87c42f2_0765_11ec_86eb_80c5f20e49e9row13_col0 {\n",
       "            text-align:  left;\n",
       "            text-align:  left;\n",
       "        }    #T_b87c42f2_0765_11ec_86eb_80c5f20e49e9row13_col1 {\n",
       "            text-align:  left;\n",
       "            text-align:  left;\n",
       "            : ;\n",
       "        }    #T_b87c42f2_0765_11ec_86eb_80c5f20e49e9row13_col2 {\n",
       "            text-align:  left;\n",
       "            text-align:  left;\n",
       "            : ;\n",
       "        }    #T_b87c42f2_0765_11ec_86eb_80c5f20e49e9row13_col3 {\n",
       "            text-align:  left;\n",
       "            text-align:  left;\n",
       "            : ;\n",
       "        }    #T_b87c42f2_0765_11ec_86eb_80c5f20e49e9row13_col4 {\n",
       "            text-align:  left;\n",
       "            text-align:  left;\n",
       "            : ;\n",
       "        }    #T_b87c42f2_0765_11ec_86eb_80c5f20e49e9row13_col5 {\n",
       "            text-align:  left;\n",
       "            text-align:  left;\n",
       "            : ;\n",
       "        }    #T_b87c42f2_0765_11ec_86eb_80c5f20e49e9row13_col6 {\n",
       "            text-align:  left;\n",
       "            text-align:  left;\n",
       "            : ;\n",
       "        }    #T_b87c42f2_0765_11ec_86eb_80c5f20e49e9row13_col7 {\n",
       "            text-align:  left;\n",
       "            text-align:  left;\n",
       "            : ;\n",
       "            background-color:  lightgrey;\n",
       "        }    #T_b87c42f2_0765_11ec_86eb_80c5f20e49e9row14_col0 {\n",
       "            text-align:  left;\n",
       "            text-align:  left;\n",
       "        }    #T_b87c42f2_0765_11ec_86eb_80c5f20e49e9row14_col1 {\n",
       "            text-align:  left;\n",
       "            text-align:  left;\n",
       "            : ;\n",
       "        }    #T_b87c42f2_0765_11ec_86eb_80c5f20e49e9row14_col2 {\n",
       "            text-align:  left;\n",
       "            text-align:  left;\n",
       "            : ;\n",
       "        }    #T_b87c42f2_0765_11ec_86eb_80c5f20e49e9row14_col3 {\n",
       "            text-align:  left;\n",
       "            text-align:  left;\n",
       "            : ;\n",
       "        }    #T_b87c42f2_0765_11ec_86eb_80c5f20e49e9row14_col4 {\n",
       "            text-align:  left;\n",
       "            text-align:  left;\n",
       "            : ;\n",
       "        }    #T_b87c42f2_0765_11ec_86eb_80c5f20e49e9row14_col5 {\n",
       "            text-align:  left;\n",
       "            text-align:  left;\n",
       "            : ;\n",
       "        }    #T_b87c42f2_0765_11ec_86eb_80c5f20e49e9row14_col6 {\n",
       "            text-align:  left;\n",
       "            text-align:  left;\n",
       "            : ;\n",
       "        }    #T_b87c42f2_0765_11ec_86eb_80c5f20e49e9row14_col7 {\n",
       "            text-align:  left;\n",
       "            text-align:  left;\n",
       "            : ;\n",
       "            background-color:  lightgrey;\n",
       "        }    #T_b87c42f2_0765_11ec_86eb_80c5f20e49e9row15_col0 {\n",
       "            text-align:  left;\n",
       "            text-align:  left;\n",
       "        }    #T_b87c42f2_0765_11ec_86eb_80c5f20e49e9row15_col1 {\n",
       "            text-align:  left;\n",
       "            text-align:  left;\n",
       "            : ;\n",
       "        }    #T_b87c42f2_0765_11ec_86eb_80c5f20e49e9row15_col2 {\n",
       "            text-align:  left;\n",
       "            text-align:  left;\n",
       "            : ;\n",
       "        }    #T_b87c42f2_0765_11ec_86eb_80c5f20e49e9row15_col3 {\n",
       "            text-align:  left;\n",
       "            text-align:  left;\n",
       "            : ;\n",
       "        }    #T_b87c42f2_0765_11ec_86eb_80c5f20e49e9row15_col4 {\n",
       "            text-align:  left;\n",
       "            text-align:  left;\n",
       "            : ;\n",
       "        }    #T_b87c42f2_0765_11ec_86eb_80c5f20e49e9row15_col5 {\n",
       "            text-align:  left;\n",
       "            text-align:  left;\n",
       "            : ;\n",
       "        }    #T_b87c42f2_0765_11ec_86eb_80c5f20e49e9row15_col6 {\n",
       "            text-align:  left;\n",
       "            text-align:  left;\n",
       "            : ;\n",
       "        }    #T_b87c42f2_0765_11ec_86eb_80c5f20e49e9row15_col7 {\n",
       "            text-align:  left;\n",
       "            text-align:  left;\n",
       "            background-color:  yellow;\n",
       "            background-color:  lightgrey;\n",
       "        }    #T_b87c42f2_0765_11ec_86eb_80c5f20e49e9row16_col0 {\n",
       "            text-align:  left;\n",
       "            text-align:  left;\n",
       "        }    #T_b87c42f2_0765_11ec_86eb_80c5f20e49e9row16_col1 {\n",
       "            text-align:  left;\n",
       "            text-align:  left;\n",
       "            : ;\n",
       "        }    #T_b87c42f2_0765_11ec_86eb_80c5f20e49e9row16_col2 {\n",
       "            text-align:  left;\n",
       "            text-align:  left;\n",
       "            : ;\n",
       "        }    #T_b87c42f2_0765_11ec_86eb_80c5f20e49e9row16_col3 {\n",
       "            text-align:  left;\n",
       "            text-align:  left;\n",
       "            : ;\n",
       "        }    #T_b87c42f2_0765_11ec_86eb_80c5f20e49e9row16_col4 {\n",
       "            text-align:  left;\n",
       "            text-align:  left;\n",
       "            : ;\n",
       "        }    #T_b87c42f2_0765_11ec_86eb_80c5f20e49e9row16_col5 {\n",
       "            text-align:  left;\n",
       "            text-align:  left;\n",
       "            : ;\n",
       "        }    #T_b87c42f2_0765_11ec_86eb_80c5f20e49e9row16_col6 {\n",
       "            text-align:  left;\n",
       "            text-align:  left;\n",
       "            : ;\n",
       "        }    #T_b87c42f2_0765_11ec_86eb_80c5f20e49e9row16_col7 {\n",
       "            text-align:  left;\n",
       "            text-align:  left;\n",
       "            : ;\n",
       "            background-color:  lightgrey;\n",
       "        }    #T_b87c42f2_0765_11ec_86eb_80c5f20e49e9row17_col0 {\n",
       "            text-align:  left;\n",
       "            text-align:  left;\n",
       "        }    #T_b87c42f2_0765_11ec_86eb_80c5f20e49e9row17_col1 {\n",
       "            text-align:  left;\n",
       "            text-align:  left;\n",
       "            : ;\n",
       "        }    #T_b87c42f2_0765_11ec_86eb_80c5f20e49e9row17_col2 {\n",
       "            text-align:  left;\n",
       "            text-align:  left;\n",
       "            : ;\n",
       "        }    #T_b87c42f2_0765_11ec_86eb_80c5f20e49e9row17_col3 {\n",
       "            text-align:  left;\n",
       "            text-align:  left;\n",
       "            : ;\n",
       "        }    #T_b87c42f2_0765_11ec_86eb_80c5f20e49e9row17_col4 {\n",
       "            text-align:  left;\n",
       "            text-align:  left;\n",
       "            : ;\n",
       "        }    #T_b87c42f2_0765_11ec_86eb_80c5f20e49e9row17_col5 {\n",
       "            text-align:  left;\n",
       "            text-align:  left;\n",
       "            : ;\n",
       "        }    #T_b87c42f2_0765_11ec_86eb_80c5f20e49e9row17_col6 {\n",
       "            text-align:  left;\n",
       "            text-align:  left;\n",
       "            : ;\n",
       "        }    #T_b87c42f2_0765_11ec_86eb_80c5f20e49e9row17_col7 {\n",
       "            text-align:  left;\n",
       "            text-align:  left;\n",
       "            : ;\n",
       "            background-color:  lightgrey;\n",
       "        }</style><table id=\"T_b87c42f2_0765_11ec_86eb_80c5f20e49e9\" ><thead>    <tr>        <th class=\"blank level0\" ></th>        <th class=\"col_heading level0 col0\" >Model</th>        <th class=\"col_heading level0 col1\" >MAE</th>        <th class=\"col_heading level0 col2\" >MSE</th>        <th class=\"col_heading level0 col3\" >RMSE</th>        <th class=\"col_heading level0 col4\" >R2</th>        <th class=\"col_heading level0 col5\" >RMSLE</th>        <th class=\"col_heading level0 col6\" >MAPE</th>        <th class=\"col_heading level0 col7\" >TT (Sec)</th>    </tr></thead><tbody>\n",
       "                <tr>\n",
       "                        <th id=\"T_b87c42f2_0765_11ec_86eb_80c5f20e49e9level0_row0\" class=\"row_heading level0 row0\" >xgboost</th>\n",
       "                        <td id=\"T_b87c42f2_0765_11ec_86eb_80c5f20e49e9row0_col0\" class=\"data row0 col0\" >Extreme Gradient Boosting</td>\n",
       "                        <td id=\"T_b87c42f2_0765_11ec_86eb_80c5f20e49e9row0_col1\" class=\"data row0 col1\" >670.3672</td>\n",
       "                        <td id=\"T_b87c42f2_0765_11ec_86eb_80c5f20e49e9row0_col2\" class=\"data row0 col2\" >2029551.7875</td>\n",
       "                        <td id=\"T_b87c42f2_0765_11ec_86eb_80c5f20e49e9row0_col3\" class=\"data row0 col3\" >1375.1968</td>\n",
       "                        <td id=\"T_b87c42f2_0765_11ec_86eb_80c5f20e49e9row0_col4\" class=\"data row0 col4\" >0.9808</td>\n",
       "                        <td id=\"T_b87c42f2_0765_11ec_86eb_80c5f20e49e9row0_col5\" class=\"data row0 col5\" >0.0720</td>\n",
       "                        <td id=\"T_b87c42f2_0765_11ec_86eb_80c5f20e49e9row0_col6\" class=\"data row0 col6\" >0.0534</td>\n",
       "                        <td id=\"T_b87c42f2_0765_11ec_86eb_80c5f20e49e9row0_col7\" class=\"data row0 col7\" >0.5930</td>\n",
       "            </tr>\n",
       "            <tr>\n",
       "                        <th id=\"T_b87c42f2_0765_11ec_86eb_80c5f20e49e9level0_row1\" class=\"row_heading level0 row1\" >et</th>\n",
       "                        <td id=\"T_b87c42f2_0765_11ec_86eb_80c5f20e49e9row1_col0\" class=\"data row1 col0\" >Extra Trees Regressor</td>\n",
       "                        <td id=\"T_b87c42f2_0765_11ec_86eb_80c5f20e49e9row1_col1\" class=\"data row1 col1\" >726.9144</td>\n",
       "                        <td id=\"T_b87c42f2_0765_11ec_86eb_80c5f20e49e9row1_col2\" class=\"data row1 col2\" >2506874.1460</td>\n",
       "                        <td id=\"T_b87c42f2_0765_11ec_86eb_80c5f20e49e9row1_col3\" class=\"data row1 col3\" >1510.9735</td>\n",
       "                        <td id=\"T_b87c42f2_0765_11ec_86eb_80c5f20e49e9row1_col4\" class=\"data row1 col4\" >0.9765</td>\n",
       "                        <td id=\"T_b87c42f2_0765_11ec_86eb_80c5f20e49e9row1_col5\" class=\"data row1 col5\" >0.0806</td>\n",
       "                        <td id=\"T_b87c42f2_0765_11ec_86eb_80c5f20e49e9row1_col6\" class=\"data row1 col6\" >0.0590</td>\n",
       "                        <td id=\"T_b87c42f2_0765_11ec_86eb_80c5f20e49e9row1_col7\" class=\"data row1 col7\" >0.3800</td>\n",
       "            </tr>\n",
       "            <tr>\n",
       "                        <th id=\"T_b87c42f2_0765_11ec_86eb_80c5f20e49e9level0_row2\" class=\"row_heading level0 row2\" >rf</th>\n",
       "                        <td id=\"T_b87c42f2_0765_11ec_86eb_80c5f20e49e9row2_col0\" class=\"data row2 col0\" >Random Forest Regressor</td>\n",
       "                        <td id=\"T_b87c42f2_0765_11ec_86eb_80c5f20e49e9row2_col1\" class=\"data row2 col1\" >737.4302</td>\n",
       "                        <td id=\"T_b87c42f2_0765_11ec_86eb_80c5f20e49e9row2_col2\" class=\"data row2 col2\" >2653351.0760</td>\n",
       "                        <td id=\"T_b87c42f2_0765_11ec_86eb_80c5f20e49e9row2_col3\" class=\"data row2 col3\" >1560.2395</td>\n",
       "                        <td id=\"T_b87c42f2_0765_11ec_86eb_80c5f20e49e9row2_col4\" class=\"data row2 col4\" >0.9751</td>\n",
       "                        <td id=\"T_b87c42f2_0765_11ec_86eb_80c5f20e49e9row2_col5\" class=\"data row2 col5\" >0.0799</td>\n",
       "                        <td id=\"T_b87c42f2_0765_11ec_86eb_80c5f20e49e9row2_col6\" class=\"data row2 col6\" >0.0588</td>\n",
       "                        <td id=\"T_b87c42f2_0765_11ec_86eb_80c5f20e49e9row2_col7\" class=\"data row2 col7\" >0.3410</td>\n",
       "            </tr>\n",
       "            <tr>\n",
       "                        <th id=\"T_b87c42f2_0765_11ec_86eb_80c5f20e49e9level0_row3\" class=\"row_heading level0 row3\" >lightgbm</th>\n",
       "                        <td id=\"T_b87c42f2_0765_11ec_86eb_80c5f20e49e9row3_col0\" class=\"data row3 col0\" >Light Gradient Boosting Machine</td>\n",
       "                        <td id=\"T_b87c42f2_0765_11ec_86eb_80c5f20e49e9row3_col1\" class=\"data row3 col1\" >743.8178</td>\n",
       "                        <td id=\"T_b87c42f2_0765_11ec_86eb_80c5f20e49e9row3_col2\" class=\"data row3 col2\" >3151504.1450</td>\n",
       "                        <td id=\"T_b87c42f2_0765_11ec_86eb_80c5f20e49e9row3_col3\" class=\"data row3 col3\" >1701.4942</td>\n",
       "                        <td id=\"T_b87c42f2_0765_11ec_86eb_80c5f20e49e9row3_col4\" class=\"data row3 col4\" >0.9706</td>\n",
       "                        <td id=\"T_b87c42f2_0765_11ec_86eb_80c5f20e49e9row3_col5\" class=\"data row3 col5\" >0.0776</td>\n",
       "                        <td id=\"T_b87c42f2_0765_11ec_86eb_80c5f20e49e9row3_col6\" class=\"data row3 col6\" >0.0565</td>\n",
       "                        <td id=\"T_b87c42f2_0765_11ec_86eb_80c5f20e49e9row3_col7\" class=\"data row3 col7\" >0.1140</td>\n",
       "            </tr>\n",
       "            <tr>\n",
       "                        <th id=\"T_b87c42f2_0765_11ec_86eb_80c5f20e49e9level0_row4\" class=\"row_heading level0 row4\" >gbr</th>\n",
       "                        <td id=\"T_b87c42f2_0765_11ec_86eb_80c5f20e49e9row4_col0\" class=\"data row4 col0\" >Gradient Boosting Regressor</td>\n",
       "                        <td id=\"T_b87c42f2_0765_11ec_86eb_80c5f20e49e9row4_col1\" class=\"data row4 col1\" >888.7229</td>\n",
       "                        <td id=\"T_b87c42f2_0765_11ec_86eb_80c5f20e49e9row4_col2\" class=\"data row4 col2\" >3302715.9988</td>\n",
       "                        <td id=\"T_b87c42f2_0765_11ec_86eb_80c5f20e49e9row4_col3\" class=\"data row4 col3\" >1768.8239</td>\n",
       "                        <td id=\"T_b87c42f2_0765_11ec_86eb_80c5f20e49e9row4_col4\" class=\"data row4 col4\" >0.9683</td>\n",
       "                        <td id=\"T_b87c42f2_0765_11ec_86eb_80c5f20e49e9row4_col5\" class=\"data row4 col5\" >0.1008</td>\n",
       "                        <td id=\"T_b87c42f2_0765_11ec_86eb_80c5f20e49e9row4_col6\" class=\"data row4 col6\" >0.0758</td>\n",
       "                        <td id=\"T_b87c42f2_0765_11ec_86eb_80c5f20e49e9row4_col7\" class=\"data row4 col7\" >0.0870</td>\n",
       "            </tr>\n",
       "            <tr>\n",
       "                        <th id=\"T_b87c42f2_0765_11ec_86eb_80c5f20e49e9level0_row5\" class=\"row_heading level0 row5\" >dt</th>\n",
       "                        <td id=\"T_b87c42f2_0765_11ec_86eb_80c5f20e49e9row5_col0\" class=\"data row5 col0\" >Decision Tree Regressor</td>\n",
       "                        <td id=\"T_b87c42f2_0765_11ec_86eb_80c5f20e49e9row5_col1\" class=\"data row5 col1\" >983.8926</td>\n",
       "                        <td id=\"T_b87c42f2_0765_11ec_86eb_80c5f20e49e9row5_col2\" class=\"data row5 col2\" >4514804.7055</td>\n",
       "                        <td id=\"T_b87c42f2_0765_11ec_86eb_80c5f20e49e9row5_col3\" class=\"data row5 col3\" >2089.6746</td>\n",
       "                        <td id=\"T_b87c42f2_0765_11ec_86eb_80c5f20e49e9row5_col4\" class=\"data row5 col4\" >0.9556</td>\n",
       "                        <td id=\"T_b87c42f2_0765_11ec_86eb_80c5f20e49e9row5_col5\" class=\"data row5 col5\" >0.1080</td>\n",
       "                        <td id=\"T_b87c42f2_0765_11ec_86eb_80c5f20e49e9row5_col6\" class=\"data row5 col6\" >0.0778</td>\n",
       "                        <td id=\"T_b87c42f2_0765_11ec_86eb_80c5f20e49e9row5_col7\" class=\"data row5 col7\" >0.0720</td>\n",
       "            </tr>\n",
       "            <tr>\n",
       "                        <th id=\"T_b87c42f2_0765_11ec_86eb_80c5f20e49e9level0_row6\" class=\"row_heading level0 row6\" >ridge</th>\n",
       "                        <td id=\"T_b87c42f2_0765_11ec_86eb_80c5f20e49e9row6_col0\" class=\"data row6 col0\" >Ridge Regression</td>\n",
       "                        <td id=\"T_b87c42f2_0765_11ec_86eb_80c5f20e49e9row6_col1\" class=\"data row6 col1\" >2421.6021</td>\n",
       "                        <td id=\"T_b87c42f2_0765_11ec_86eb_80c5f20e49e9row6_col2\" class=\"data row6 col2\" >14668356.3000</td>\n",
       "                        <td id=\"T_b87c42f2_0765_11ec_86eb_80c5f20e49e9row6_col3\" class=\"data row6 col3\" >3788.1559</td>\n",
       "                        <td id=\"T_b87c42f2_0765_11ec_86eb_80c5f20e49e9row6_col4\" class=\"data row6 col4\" >0.8574</td>\n",
       "                        <td id=\"T_b87c42f2_0765_11ec_86eb_80c5f20e49e9row6_col5\" class=\"data row6 col5\" >0.6507</td>\n",
       "                        <td id=\"T_b87c42f2_0765_11ec_86eb_80c5f20e49e9row6_col6\" class=\"data row6 col6\" >0.2861</td>\n",
       "                        <td id=\"T_b87c42f2_0765_11ec_86eb_80c5f20e49e9row6_col7\" class=\"data row6 col7\" >0.4070</td>\n",
       "            </tr>\n",
       "            <tr>\n",
       "                        <th id=\"T_b87c42f2_0765_11ec_86eb_80c5f20e49e9level0_row7\" class=\"row_heading level0 row7\" >br</th>\n",
       "                        <td id=\"T_b87c42f2_0765_11ec_86eb_80c5f20e49e9row7_col0\" class=\"data row7 col0\" >Bayesian Ridge</td>\n",
       "                        <td id=\"T_b87c42f2_0765_11ec_86eb_80c5f20e49e9row7_col1\" class=\"data row7 col1\" >2419.2538</td>\n",
       "                        <td id=\"T_b87c42f2_0765_11ec_86eb_80c5f20e49e9row7_col2\" class=\"data row7 col2\" >14665763.6246</td>\n",
       "                        <td id=\"T_b87c42f2_0765_11ec_86eb_80c5f20e49e9row7_col3\" class=\"data row7 col3\" >3787.7583</td>\n",
       "                        <td id=\"T_b87c42f2_0765_11ec_86eb_80c5f20e49e9row7_col4\" class=\"data row7 col4\" >0.8574</td>\n",
       "                        <td id=\"T_b87c42f2_0765_11ec_86eb_80c5f20e49e9row7_col5\" class=\"data row7 col5\" >0.6612</td>\n",
       "                        <td id=\"T_b87c42f2_0765_11ec_86eb_80c5f20e49e9row7_col6\" class=\"data row7 col6\" >0.2859</td>\n",
       "                        <td id=\"T_b87c42f2_0765_11ec_86eb_80c5f20e49e9row7_col7\" class=\"data row7 col7\" >0.2110</td>\n",
       "            </tr>\n",
       "            <tr>\n",
       "                        <th id=\"T_b87c42f2_0765_11ec_86eb_80c5f20e49e9level0_row8\" class=\"row_heading level0 row8\" >lasso</th>\n",
       "                        <td id=\"T_b87c42f2_0765_11ec_86eb_80c5f20e49e9row8_col0\" class=\"data row8 col0\" >Lasso Regression</td>\n",
       "                        <td id=\"T_b87c42f2_0765_11ec_86eb_80c5f20e49e9row8_col1\" class=\"data row8 col1\" >2415.8173</td>\n",
       "                        <td id=\"T_b87c42f2_0765_11ec_86eb_80c5f20e49e9row8_col2\" class=\"data row8 col2\" >14691505.1000</td>\n",
       "                        <td id=\"T_b87c42f2_0765_11ec_86eb_80c5f20e49e9row8_col3\" class=\"data row8 col3\" >3790.1108</td>\n",
       "                        <td id=\"T_b87c42f2_0765_11ec_86eb_80c5f20e49e9row8_col4\" class=\"data row8 col4\" >0.8572</td>\n",
       "                        <td id=\"T_b87c42f2_0765_11ec_86eb_80c5f20e49e9row8_col5\" class=\"data row8 col5\" >0.6653</td>\n",
       "                        <td id=\"T_b87c42f2_0765_11ec_86eb_80c5f20e49e9row8_col6\" class=\"data row8 col6\" >0.2851</td>\n",
       "                        <td id=\"T_b87c42f2_0765_11ec_86eb_80c5f20e49e9row8_col7\" class=\"data row8 col7\" >0.0600</td>\n",
       "            </tr>\n",
       "            <tr>\n",
       "                        <th id=\"T_b87c42f2_0765_11ec_86eb_80c5f20e49e9level0_row9\" class=\"row_heading level0 row9\" >llar</th>\n",
       "                        <td id=\"T_b87c42f2_0765_11ec_86eb_80c5f20e49e9row9_col0\" class=\"data row9 col0\" >Lasso Least Angle Regression</td>\n",
       "                        <td id=\"T_b87c42f2_0765_11ec_86eb_80c5f20e49e9row9_col1\" class=\"data row9 col1\" >2360.1435</td>\n",
       "                        <td id=\"T_b87c42f2_0765_11ec_86eb_80c5f20e49e9row9_col2\" class=\"data row9 col2\" >14741915.9212</td>\n",
       "                        <td id=\"T_b87c42f2_0765_11ec_86eb_80c5f20e49e9row9_col3\" class=\"data row9 col3\" >3793.6336</td>\n",
       "                        <td id=\"T_b87c42f2_0765_11ec_86eb_80c5f20e49e9row9_col4\" class=\"data row9 col4\" >0.8569</td>\n",
       "                        <td id=\"T_b87c42f2_0765_11ec_86eb_80c5f20e49e9row9_col5\" class=\"data row9 col5\" >0.6662</td>\n",
       "                        <td id=\"T_b87c42f2_0765_11ec_86eb_80c5f20e49e9row9_col6\" class=\"data row9 col6\" >0.2713</td>\n",
       "                        <td id=\"T_b87c42f2_0765_11ec_86eb_80c5f20e49e9row9_col7\" class=\"data row9 col7\" >0.0070</td>\n",
       "            </tr>\n",
       "            <tr>\n",
       "                        <th id=\"T_b87c42f2_0765_11ec_86eb_80c5f20e49e9level0_row10\" class=\"row_heading level0 row10\" >huber</th>\n",
       "                        <td id=\"T_b87c42f2_0765_11ec_86eb_80c5f20e49e9row10_col0\" class=\"data row10 col0\" >Huber Regressor</td>\n",
       "                        <td id=\"T_b87c42f2_0765_11ec_86eb_80c5f20e49e9row10_col1\" class=\"data row10 col1\" >1956.0659</td>\n",
       "                        <td id=\"T_b87c42f2_0765_11ec_86eb_80c5f20e49e9row10_col2\" class=\"data row10 col2\" >19337780.4569</td>\n",
       "                        <td id=\"T_b87c42f2_0765_11ec_86eb_80c5f20e49e9row10_col3\" class=\"data row10 col3\" >4326.7103</td>\n",
       "                        <td id=\"T_b87c42f2_0765_11ec_86eb_80c5f20e49e9row10_col4\" class=\"data row10 col4\" >0.8138</td>\n",
       "                        <td id=\"T_b87c42f2_0765_11ec_86eb_80c5f20e49e9row10_col5\" class=\"data row10 col5\" >0.4456</td>\n",
       "                        <td id=\"T_b87c42f2_0765_11ec_86eb_80c5f20e49e9row10_col6\" class=\"data row10 col6\" >0.1678</td>\n",
       "                        <td id=\"T_b87c42f2_0765_11ec_86eb_80c5f20e49e9row10_col7\" class=\"data row10 col7\" >0.1430</td>\n",
       "            </tr>\n",
       "            <tr>\n",
       "                        <th id=\"T_b87c42f2_0765_11ec_86eb_80c5f20e49e9level0_row11\" class=\"row_heading level0 row11\" >par</th>\n",
       "                        <td id=\"T_b87c42f2_0765_11ec_86eb_80c5f20e49e9row11_col0\" class=\"data row11 col0\" >Passive Aggressive Regressor</td>\n",
       "                        <td id=\"T_b87c42f2_0765_11ec_86eb_80c5f20e49e9row11_col1\" class=\"data row11 col1\" >1955.3846</td>\n",
       "                        <td id=\"T_b87c42f2_0765_11ec_86eb_80c5f20e49e9row11_col2\" class=\"data row11 col2\" >20121621.8051</td>\n",
       "                        <td id=\"T_b87c42f2_0765_11ec_86eb_80c5f20e49e9row11_col3\" class=\"data row11 col3\" >4415.2569</td>\n",
       "                        <td id=\"T_b87c42f2_0765_11ec_86eb_80c5f20e49e9row11_col4\" class=\"data row11 col4\" >0.8061</td>\n",
       "                        <td id=\"T_b87c42f2_0765_11ec_86eb_80c5f20e49e9row11_col5\" class=\"data row11 col5\" >0.4118</td>\n",
       "                        <td id=\"T_b87c42f2_0765_11ec_86eb_80c5f20e49e9row11_col6\" class=\"data row11 col6\" >0.1605</td>\n",
       "                        <td id=\"T_b87c42f2_0765_11ec_86eb_80c5f20e49e9row11_col7\" class=\"data row11 col7\" >0.1110</td>\n",
       "            </tr>\n",
       "            <tr>\n",
       "                        <th id=\"T_b87c42f2_0765_11ec_86eb_80c5f20e49e9level0_row12\" class=\"row_heading level0 row12\" >omp</th>\n",
       "                        <td id=\"T_b87c42f2_0765_11ec_86eb_80c5f20e49e9row12_col0\" class=\"data row12 col0\" >Orthogonal Matching Pursuit</td>\n",
       "                        <td id=\"T_b87c42f2_0765_11ec_86eb_80c5f20e49e9row12_col1\" class=\"data row12 col1\" >2788.6417</td>\n",
       "                        <td id=\"T_b87c42f2_0765_11ec_86eb_80c5f20e49e9row12_col2\" class=\"data row12 col2\" >23743875.9108</td>\n",
       "                        <td id=\"T_b87c42f2_0765_11ec_86eb_80c5f20e49e9row12_col3\" class=\"data row12 col3\" >4826.6766</td>\n",
       "                        <td id=\"T_b87c42f2_0765_11ec_86eb_80c5f20e49e9row12_col4\" class=\"data row12 col4\" >0.7682</td>\n",
       "                        <td id=\"T_b87c42f2_0765_11ec_86eb_80c5f20e49e9row12_col5\" class=\"data row12 col5\" >0.4899</td>\n",
       "                        <td id=\"T_b87c42f2_0765_11ec_86eb_80c5f20e49e9row12_col6\" class=\"data row12 col6\" >0.2617</td>\n",
       "                        <td id=\"T_b87c42f2_0765_11ec_86eb_80c5f20e49e9row12_col7\" class=\"data row12 col7\" >0.0380</td>\n",
       "            </tr>\n",
       "            <tr>\n",
       "                        <th id=\"T_b87c42f2_0765_11ec_86eb_80c5f20e49e9level0_row13\" class=\"row_heading level0 row13\" >ada</th>\n",
       "                        <td id=\"T_b87c42f2_0765_11ec_86eb_80c5f20e49e9row13_col0\" class=\"data row13 col0\" >AdaBoost Regressor</td>\n",
       "                        <td id=\"T_b87c42f2_0765_11ec_86eb_80c5f20e49e9row13_col1\" class=\"data row13 col1\" >4202.0620</td>\n",
       "                        <td id=\"T_b87c42f2_0765_11ec_86eb_80c5f20e49e9row13_col2\" class=\"data row13 col2\" >24179203.3188</td>\n",
       "                        <td id=\"T_b87c42f2_0765_11ec_86eb_80c5f20e49e9row13_col3\" class=\"data row13 col3\" >4898.7601</td>\n",
       "                        <td id=\"T_b87c42f2_0765_11ec_86eb_80c5f20e49e9row13_col4\" class=\"data row13 col4\" >0.7595</td>\n",
       "                        <td id=\"T_b87c42f2_0765_11ec_86eb_80c5f20e49e9row13_col5\" class=\"data row13 col5\" >0.4933</td>\n",
       "                        <td id=\"T_b87c42f2_0765_11ec_86eb_80c5f20e49e9row13_col6\" class=\"data row13 col6\" >0.5766</td>\n",
       "                        <td id=\"T_b87c42f2_0765_11ec_86eb_80c5f20e49e9row13_col7\" class=\"data row13 col7\" >0.1370</td>\n",
       "            </tr>\n",
       "            <tr>\n",
       "                        <th id=\"T_b87c42f2_0765_11ec_86eb_80c5f20e49e9level0_row14\" class=\"row_heading level0 row14\" >knn</th>\n",
       "                        <td id=\"T_b87c42f2_0765_11ec_86eb_80c5f20e49e9row14_col0\" class=\"data row14 col0\" >K Neighbors Regressor</td>\n",
       "                        <td id=\"T_b87c42f2_0765_11ec_86eb_80c5f20e49e9row14_col1\" class=\"data row14 col1\" >3055.4965</td>\n",
       "                        <td id=\"T_b87c42f2_0765_11ec_86eb_80c5f20e49e9row14_col2\" class=\"data row14 col2\" >31600876.0000</td>\n",
       "                        <td id=\"T_b87c42f2_0765_11ec_86eb_80c5f20e49e9row14_col3\" class=\"data row14 col3\" >5586.2324</td>\n",
       "                        <td id=\"T_b87c42f2_0765_11ec_86eb_80c5f20e49e9row14_col4\" class=\"data row14 col4\" >0.6867</td>\n",
       "                        <td id=\"T_b87c42f2_0765_11ec_86eb_80c5f20e49e9row14_col5\" class=\"data row14 col5\" >0.3713</td>\n",
       "                        <td id=\"T_b87c42f2_0765_11ec_86eb_80c5f20e49e9row14_col6\" class=\"data row14 col6\" >0.2810</td>\n",
       "                        <td id=\"T_b87c42f2_0765_11ec_86eb_80c5f20e49e9row14_col7\" class=\"data row14 col7\" >0.1190</td>\n",
       "            </tr>\n",
       "            <tr>\n",
       "                        <th id=\"T_b87c42f2_0765_11ec_86eb_80c5f20e49e9level0_row15\" class=\"row_heading level0 row15\" >en</th>\n",
       "                        <td id=\"T_b87c42f2_0765_11ec_86eb_80c5f20e49e9row15_col0\" class=\"data row15 col0\" >Elastic Net</td>\n",
       "                        <td id=\"T_b87c42f2_0765_11ec_86eb_80c5f20e49e9row15_col1\" class=\"data row15 col1\" >5053.5674</td>\n",
       "                        <td id=\"T_b87c42f2_0765_11ec_86eb_80c5f20e49e9row15_col2\" class=\"data row15 col2\" >56775402.0000</td>\n",
       "                        <td id=\"T_b87c42f2_0765_11ec_86eb_80c5f20e49e9row15_col3\" class=\"data row15 col3\" >7493.3589</td>\n",
       "                        <td id=\"T_b87c42f2_0765_11ec_86eb_80c5f20e49e9row15_col4\" class=\"data row15 col4\" >0.4408</td>\n",
       "                        <td id=\"T_b87c42f2_0765_11ec_86eb_80c5f20e49e9row15_col5\" class=\"data row15 col5\" >0.5402</td>\n",
       "                        <td id=\"T_b87c42f2_0765_11ec_86eb_80c5f20e49e9row15_col6\" class=\"data row15 col6\" >0.5884</td>\n",
       "                        <td id=\"T_b87c42f2_0765_11ec_86eb_80c5f20e49e9row15_col7\" class=\"data row15 col7\" >0.0060</td>\n",
       "            </tr>\n",
       "            <tr>\n",
       "                        <th id=\"T_b87c42f2_0765_11ec_86eb_80c5f20e49e9level0_row16\" class=\"row_heading level0 row16\" >lr</th>\n",
       "                        <td id=\"T_b87c42f2_0765_11ec_86eb_80c5f20e49e9row16_col0\" class=\"data row16 col0\" >Linear Regression</td>\n",
       "                        <td id=\"T_b87c42f2_0765_11ec_86eb_80c5f20e49e9row16_col1\" class=\"data row16 col1\" >3586.8837</td>\n",
       "                        <td id=\"T_b87c42f2_0765_11ec_86eb_80c5f20e49e9row16_col2\" class=\"data row16 col2\" >4733433660.5000</td>\n",
       "                        <td id=\"T_b87c42f2_0765_11ec_86eb_80c5f20e49e9row16_col3\" class=\"data row16 col3\" >25103.4132</td>\n",
       "                        <td id=\"T_b87c42f2_0765_11ec_86eb_80c5f20e49e9row16_col4\" class=\"data row16 col4\" >-35.6764</td>\n",
       "                        <td id=\"T_b87c42f2_0765_11ec_86eb_80c5f20e49e9row16_col5\" class=\"data row16 col5\" >0.6546</td>\n",
       "                        <td id=\"T_b87c42f2_0765_11ec_86eb_80c5f20e49e9row16_col6\" class=\"data row16 col6\" >0.3095</td>\n",
       "                        <td id=\"T_b87c42f2_0765_11ec_86eb_80c5f20e49e9row16_col7\" class=\"data row16 col7\" >0.6040</td>\n",
       "            </tr>\n",
       "            <tr>\n",
       "                        <th id=\"T_b87c42f2_0765_11ec_86eb_80c5f20e49e9level0_row17\" class=\"row_heading level0 row17\" >lar</th>\n",
       "                        <td id=\"T_b87c42f2_0765_11ec_86eb_80c5f20e49e9row17_col0\" class=\"data row17 col0\" >Least Angle Regression</td>\n",
       "                        <td id=\"T_b87c42f2_0765_11ec_86eb_80c5f20e49e9row17_col1\" class=\"data row17 col1\" >3888.5580</td>\n",
       "                        <td id=\"T_b87c42f2_0765_11ec_86eb_80c5f20e49e9row17_col2\" class=\"data row17 col2\" >7439756581.8249</td>\n",
       "                        <td id=\"T_b87c42f2_0765_11ec_86eb_80c5f20e49e9row17_col3\" class=\"data row17 col3\" >30615.0668</td>\n",
       "                        <td id=\"T_b87c42f2_0765_11ec_86eb_80c5f20e49e9row17_col4\" class=\"data row17 col4\" >-56.6288</td>\n",
       "                        <td id=\"T_b87c42f2_0765_11ec_86eb_80c5f20e49e9row17_col5\" class=\"data row17 col5\" >0.6719</td>\n",
       "                        <td id=\"T_b87c42f2_0765_11ec_86eb_80c5f20e49e9row17_col6\" class=\"data row17 col6\" >0.3152</td>\n",
       "                        <td id=\"T_b87c42f2_0765_11ec_86eb_80c5f20e49e9row17_col7\" class=\"data row17 col7\" >0.3530</td>\n",
       "            </tr>\n",
       "    </tbody></table>"
      ],
      "text/plain": [
       "<pandas.io.formats.style.Styler at 0x25f0533ae20>"
      ]
     },
     "metadata": {},
     "output_type": "display_data"
    }
   ],
   "source": [
    "best = compare_models()"
   ]
  },
  {
   "cell_type": "markdown",
   "metadata": {},
   "source": [
    "Métricas________________________________________________________________________________________________________________<BR>\n",
    "* #### [Regression: An Explanation of Regression Metrics And What Can Go Wrong](https://towardsdatascience.com/regression-an-explanation-of-regression-metrics-and-what-can-go-wrong-a39a9793d914)\n",
    "* #### [3 Best metrics to evaluate Regression Model?](https://towardsdatascience.com/what-are-the-best-metrics-to-evaluate-your-regression-model-418ca481755b)\n",
    "* #### [Know The Best Evaluation Metrics for Your Regression Model !](https://www.analyticsvidhya.com/blog/2021/05/know-the-best-evaluation-metrics-for-your-regression-model/)\n",
    "* #### [Error Cuadrático Medio para Regresión](https://www.iartificial.net/error-cuadratico-medio-para-regresion/)"
   ]
  },
  {
   "cell_type": "markdown",
   "metadata": {},
   "source": [
    "### Extreme Gradient Boosting"
   ]
  },
  {
   "cell_type": "code",
   "execution_count": 11,
   "metadata": {},
   "outputs": [
    {
     "data": {
      "text/html": [
       "<style  type=\"text/css\" >\n",
       "    #T_e7a3dac0_0765_11ec_bff1_80c5f20e49e9row10_col0 {\n",
       "            background:  yellow;\n",
       "        }    #T_e7a3dac0_0765_11ec_bff1_80c5f20e49e9row10_col1 {\n",
       "            background:  yellow;\n",
       "        }    #T_e7a3dac0_0765_11ec_bff1_80c5f20e49e9row10_col2 {\n",
       "            background:  yellow;\n",
       "        }    #T_e7a3dac0_0765_11ec_bff1_80c5f20e49e9row10_col3 {\n",
       "            background:  yellow;\n",
       "        }    #T_e7a3dac0_0765_11ec_bff1_80c5f20e49e9row10_col4 {\n",
       "            background:  yellow;\n",
       "        }    #T_e7a3dac0_0765_11ec_bff1_80c5f20e49e9row10_col5 {\n",
       "            background:  yellow;\n",
       "        }</style><table id=\"T_e7a3dac0_0765_11ec_bff1_80c5f20e49e9\" ><thead>    <tr>        <th class=\"blank level0\" ></th>        <th class=\"col_heading level0 col0\" >MAE</th>        <th class=\"col_heading level0 col1\" >MSE</th>        <th class=\"col_heading level0 col2\" >RMSE</th>        <th class=\"col_heading level0 col3\" >R2</th>        <th class=\"col_heading level0 col4\" >RMSLE</th>        <th class=\"col_heading level0 col5\" >MAPE</th>    </tr></thead><tbody>\n",
       "                <tr>\n",
       "                        <th id=\"T_e7a3dac0_0765_11ec_bff1_80c5f20e49e9level0_row0\" class=\"row_heading level0 row0\" >0</th>\n",
       "                        <td id=\"T_e7a3dac0_0765_11ec_bff1_80c5f20e49e9row0_col0\" class=\"data row0 col0\" >750.5492</td>\n",
       "                        <td id=\"T_e7a3dac0_0765_11ec_bff1_80c5f20e49e9row0_col1\" class=\"data row0 col1\" >5713528.0000</td>\n",
       "                        <td id=\"T_e7a3dac0_0765_11ec_bff1_80c5f20e49e9row0_col2\" class=\"data row0 col2\" >2390.2988</td>\n",
       "                        <td id=\"T_e7a3dac0_0765_11ec_bff1_80c5f20e49e9row0_col3\" class=\"data row0 col3\" >0.9558</td>\n",
       "                        <td id=\"T_e7a3dac0_0765_11ec_bff1_80c5f20e49e9row0_col4\" class=\"data row0 col4\" >0.0755</td>\n",
       "                        <td id=\"T_e7a3dac0_0765_11ec_bff1_80c5f20e49e9row0_col5\" class=\"data row0 col5\" >0.0525</td>\n",
       "            </tr>\n",
       "            <tr>\n",
       "                        <th id=\"T_e7a3dac0_0765_11ec_bff1_80c5f20e49e9level0_row1\" class=\"row_heading level0 row1\" >1</th>\n",
       "                        <td id=\"T_e7a3dac0_0765_11ec_bff1_80c5f20e49e9row1_col0\" class=\"data row1 col0\" >699.8638</td>\n",
       "                        <td id=\"T_e7a3dac0_0765_11ec_bff1_80c5f20e49e9row1_col1\" class=\"data row1 col1\" >2149327.0000</td>\n",
       "                        <td id=\"T_e7a3dac0_0765_11ec_bff1_80c5f20e49e9row1_col2\" class=\"data row1 col2\" >1466.0583</td>\n",
       "                        <td id=\"T_e7a3dac0_0765_11ec_bff1_80c5f20e49e9row1_col3\" class=\"data row1 col3\" >0.9784</td>\n",
       "                        <td id=\"T_e7a3dac0_0765_11ec_bff1_80c5f20e49e9row1_col4\" class=\"data row1 col4\" >0.0744</td>\n",
       "                        <td id=\"T_e7a3dac0_0765_11ec_bff1_80c5f20e49e9row1_col5\" class=\"data row1 col5\" >0.0556</td>\n",
       "            </tr>\n",
       "            <tr>\n",
       "                        <th id=\"T_e7a3dac0_0765_11ec_bff1_80c5f20e49e9level0_row2\" class=\"row_heading level0 row2\" >2</th>\n",
       "                        <td id=\"T_e7a3dac0_0765_11ec_bff1_80c5f20e49e9row2_col0\" class=\"data row2 col0\" >697.6198</td>\n",
       "                        <td id=\"T_e7a3dac0_0765_11ec_bff1_80c5f20e49e9row2_col1\" class=\"data row2 col1\" >1694377.0000</td>\n",
       "                        <td id=\"T_e7a3dac0_0765_11ec_bff1_80c5f20e49e9row2_col2\" class=\"data row2 col2\" >1301.6824</td>\n",
       "                        <td id=\"T_e7a3dac0_0765_11ec_bff1_80c5f20e49e9row2_col3\" class=\"data row2 col3\" >0.9851</td>\n",
       "                        <td id=\"T_e7a3dac0_0765_11ec_bff1_80c5f20e49e9row2_col4\" class=\"data row2 col4\" >0.0823</td>\n",
       "                        <td id=\"T_e7a3dac0_0765_11ec_bff1_80c5f20e49e9row2_col5\" class=\"data row2 col5\" >0.0587</td>\n",
       "            </tr>\n",
       "            <tr>\n",
       "                        <th id=\"T_e7a3dac0_0765_11ec_bff1_80c5f20e49e9level0_row3\" class=\"row_heading level0 row3\" >3</th>\n",
       "                        <td id=\"T_e7a3dac0_0765_11ec_bff1_80c5f20e49e9row3_col0\" class=\"data row3 col0\" >616.7447</td>\n",
       "                        <td id=\"T_e7a3dac0_0765_11ec_bff1_80c5f20e49e9row3_col1\" class=\"data row3 col1\" >1486155.6250</td>\n",
       "                        <td id=\"T_e7a3dac0_0765_11ec_bff1_80c5f20e49e9row3_col2\" class=\"data row3 col2\" >1219.0798</td>\n",
       "                        <td id=\"T_e7a3dac0_0765_11ec_bff1_80c5f20e49e9row3_col3\" class=\"data row3 col3\" >0.9845</td>\n",
       "                        <td id=\"T_e7a3dac0_0765_11ec_bff1_80c5f20e49e9row3_col4\" class=\"data row3 col4\" >0.0682</td>\n",
       "                        <td id=\"T_e7a3dac0_0765_11ec_bff1_80c5f20e49e9row3_col5\" class=\"data row3 col5\" >0.0507</td>\n",
       "            </tr>\n",
       "            <tr>\n",
       "                        <th id=\"T_e7a3dac0_0765_11ec_bff1_80c5f20e49e9level0_row4\" class=\"row_heading level0 row4\" >4</th>\n",
       "                        <td id=\"T_e7a3dac0_0765_11ec_bff1_80c5f20e49e9row4_col0\" class=\"data row4 col0\" >735.1243</td>\n",
       "                        <td id=\"T_e7a3dac0_0765_11ec_bff1_80c5f20e49e9row4_col1\" class=\"data row4 col1\" >2487427.7500</td>\n",
       "                        <td id=\"T_e7a3dac0_0765_11ec_bff1_80c5f20e49e9row4_col2\" class=\"data row4 col2\" >1577.1581</td>\n",
       "                        <td id=\"T_e7a3dac0_0765_11ec_bff1_80c5f20e49e9row4_col3\" class=\"data row4 col3\" >0.9797</td>\n",
       "                        <td id=\"T_e7a3dac0_0765_11ec_bff1_80c5f20e49e9row4_col4\" class=\"data row4 col4\" >0.0754</td>\n",
       "                        <td id=\"T_e7a3dac0_0765_11ec_bff1_80c5f20e49e9row4_col5\" class=\"data row4 col5\" >0.0570</td>\n",
       "            </tr>\n",
       "            <tr>\n",
       "                        <th id=\"T_e7a3dac0_0765_11ec_bff1_80c5f20e49e9level0_row5\" class=\"row_heading level0 row5\" >5</th>\n",
       "                        <td id=\"T_e7a3dac0_0765_11ec_bff1_80c5f20e49e9row5_col0\" class=\"data row5 col0\" >673.3153</td>\n",
       "                        <td id=\"T_e7a3dac0_0765_11ec_bff1_80c5f20e49e9row5_col1\" class=\"data row5 col1\" >1552934.6250</td>\n",
       "                        <td id=\"T_e7a3dac0_0765_11ec_bff1_80c5f20e49e9row5_col2\" class=\"data row5 col2\" >1246.1680</td>\n",
       "                        <td id=\"T_e7a3dac0_0765_11ec_bff1_80c5f20e49e9row5_col3\" class=\"data row5 col3\" >0.9838</td>\n",
       "                        <td id=\"T_e7a3dac0_0765_11ec_bff1_80c5f20e49e9row5_col4\" class=\"data row5 col4\" >0.0710</td>\n",
       "                        <td id=\"T_e7a3dac0_0765_11ec_bff1_80c5f20e49e9row5_col5\" class=\"data row5 col5\" >0.0531</td>\n",
       "            </tr>\n",
       "            <tr>\n",
       "                        <th id=\"T_e7a3dac0_0765_11ec_bff1_80c5f20e49e9level0_row6\" class=\"row_heading level0 row6\" >6</th>\n",
       "                        <td id=\"T_e7a3dac0_0765_11ec_bff1_80c5f20e49e9row6_col0\" class=\"data row6 col0\" >607.3341</td>\n",
       "                        <td id=\"T_e7a3dac0_0765_11ec_bff1_80c5f20e49e9row6_col1\" class=\"data row6 col1\" >1103893.6250</td>\n",
       "                        <td id=\"T_e7a3dac0_0765_11ec_bff1_80c5f20e49e9row6_col2\" class=\"data row6 col2\" >1050.6635</td>\n",
       "                        <td id=\"T_e7a3dac0_0765_11ec_bff1_80c5f20e49e9row6_col3\" class=\"data row6 col3\" >0.9872</td>\n",
       "                        <td id=\"T_e7a3dac0_0765_11ec_bff1_80c5f20e49e9row6_col4\" class=\"data row6 col4\" >0.0668</td>\n",
       "                        <td id=\"T_e7a3dac0_0765_11ec_bff1_80c5f20e49e9row6_col5\" class=\"data row6 col5\" >0.0506</td>\n",
       "            </tr>\n",
       "            <tr>\n",
       "                        <th id=\"T_e7a3dac0_0765_11ec_bff1_80c5f20e49e9level0_row7\" class=\"row_heading level0 row7\" >7</th>\n",
       "                        <td id=\"T_e7a3dac0_0765_11ec_bff1_80c5f20e49e9row7_col0\" class=\"data row7 col0\" >647.4861</td>\n",
       "                        <td id=\"T_e7a3dac0_0765_11ec_bff1_80c5f20e49e9row7_col1\" class=\"data row7 col1\" >1637996.3750</td>\n",
       "                        <td id=\"T_e7a3dac0_0765_11ec_bff1_80c5f20e49e9row7_col2\" class=\"data row7 col2\" >1279.8423</td>\n",
       "                        <td id=\"T_e7a3dac0_0765_11ec_bff1_80c5f20e49e9row7_col3\" class=\"data row7 col3\" >0.9825</td>\n",
       "                        <td id=\"T_e7a3dac0_0765_11ec_bff1_80c5f20e49e9row7_col4\" class=\"data row7 col4\" >0.0690</td>\n",
       "                        <td id=\"T_e7a3dac0_0765_11ec_bff1_80c5f20e49e9row7_col5\" class=\"data row7 col5\" >0.0509</td>\n",
       "            </tr>\n",
       "            <tr>\n",
       "                        <th id=\"T_e7a3dac0_0765_11ec_bff1_80c5f20e49e9level0_row8\" class=\"row_heading level0 row8\" >8</th>\n",
       "                        <td id=\"T_e7a3dac0_0765_11ec_bff1_80c5f20e49e9row8_col0\" class=\"data row8 col0\" >640.1541</td>\n",
       "                        <td id=\"T_e7a3dac0_0765_11ec_bff1_80c5f20e49e9row8_col1\" class=\"data row8 col1\" >1143097.7500</td>\n",
       "                        <td id=\"T_e7a3dac0_0765_11ec_bff1_80c5f20e49e9row8_col2\" class=\"data row8 col2\" >1069.1575</td>\n",
       "                        <td id=\"T_e7a3dac0_0765_11ec_bff1_80c5f20e49e9row8_col3\" class=\"data row8 col3\" >0.9853</td>\n",
       "                        <td id=\"T_e7a3dac0_0765_11ec_bff1_80c5f20e49e9row8_col4\" class=\"data row8 col4\" >0.0689</td>\n",
       "                        <td id=\"T_e7a3dac0_0765_11ec_bff1_80c5f20e49e9row8_col5\" class=\"data row8 col5\" >0.0526</td>\n",
       "            </tr>\n",
       "            <tr>\n",
       "                        <th id=\"T_e7a3dac0_0765_11ec_bff1_80c5f20e49e9level0_row9\" class=\"row_heading level0 row9\" >9</th>\n",
       "                        <td id=\"T_e7a3dac0_0765_11ec_bff1_80c5f20e49e9row9_col0\" class=\"data row9 col0\" >635.4803</td>\n",
       "                        <td id=\"T_e7a3dac0_0765_11ec_bff1_80c5f20e49e9row9_col1\" class=\"data row9 col1\" >1326780.1250</td>\n",
       "                        <td id=\"T_e7a3dac0_0765_11ec_bff1_80c5f20e49e9row9_col2\" class=\"data row9 col2\" >1151.8594</td>\n",
       "                        <td id=\"T_e7a3dac0_0765_11ec_bff1_80c5f20e49e9row9_col3\" class=\"data row9 col3\" >0.9857</td>\n",
       "                        <td id=\"T_e7a3dac0_0765_11ec_bff1_80c5f20e49e9row9_col4\" class=\"data row9 col4\" >0.0679</td>\n",
       "                        <td id=\"T_e7a3dac0_0765_11ec_bff1_80c5f20e49e9row9_col5\" class=\"data row9 col5\" >0.0519</td>\n",
       "            </tr>\n",
       "            <tr>\n",
       "                        <th id=\"T_e7a3dac0_0765_11ec_bff1_80c5f20e49e9level0_row10\" class=\"row_heading level0 row10\" >Mean</th>\n",
       "                        <td id=\"T_e7a3dac0_0765_11ec_bff1_80c5f20e49e9row10_col0\" class=\"data row10 col0\" >670.3672</td>\n",
       "                        <td id=\"T_e7a3dac0_0765_11ec_bff1_80c5f20e49e9row10_col1\" class=\"data row10 col1\" >2029551.7875</td>\n",
       "                        <td id=\"T_e7a3dac0_0765_11ec_bff1_80c5f20e49e9row10_col2\" class=\"data row10 col2\" >1375.1968</td>\n",
       "                        <td id=\"T_e7a3dac0_0765_11ec_bff1_80c5f20e49e9row10_col3\" class=\"data row10 col3\" >0.9808</td>\n",
       "                        <td id=\"T_e7a3dac0_0765_11ec_bff1_80c5f20e49e9row10_col4\" class=\"data row10 col4\" >0.0720</td>\n",
       "                        <td id=\"T_e7a3dac0_0765_11ec_bff1_80c5f20e49e9row10_col5\" class=\"data row10 col5\" >0.0534</td>\n",
       "            </tr>\n",
       "            <tr>\n",
       "                        <th id=\"T_e7a3dac0_0765_11ec_bff1_80c5f20e49e9level0_row11\" class=\"row_heading level0 row11\" >SD</th>\n",
       "                        <td id=\"T_e7a3dac0_0765_11ec_bff1_80c5f20e49e9row11_col0\" class=\"data row11 col0\" >46.6327</td>\n",
       "                        <td id=\"T_e7a3dac0_0765_11ec_bff1_80c5f20e49e9row11_col1\" class=\"data row11 col1\" >1293070.3819</td>\n",
       "                        <td id=\"T_e7a3dac0_0765_11ec_bff1_80c5f20e49e9row11_col2\" class=\"data row11 col2\" >372.0021</td>\n",
       "                        <td id=\"T_e7a3dac0_0765_11ec_bff1_80c5f20e49e9row11_col3\" class=\"data row11 col3\" >0.0087</td>\n",
       "                        <td id=\"T_e7a3dac0_0765_11ec_bff1_80c5f20e49e9row11_col4\" class=\"data row11 col4\" >0.0046</td>\n",
       "                        <td id=\"T_e7a3dac0_0765_11ec_bff1_80c5f20e49e9row11_col5\" class=\"data row11 col5\" >0.0027</td>\n",
       "            </tr>\n",
       "    </tbody></table>"
      ],
      "text/plain": [
       "<pandas.io.formats.style.Styler at 0x25f04f5d370>"
      ]
     },
     "metadata": {},
     "output_type": "display_data"
    }
   ],
   "source": [
    "xgboost = create_model('xgboost')"
   ]
  },
  {
   "cell_type": "code",
   "execution_count": 13,
   "metadata": {},
   "outputs": [
    {
     "name": "stdout",
     "output_type": "stream",
     "text": [
      "XGBRegressor(base_score=0.5, booster='gbtree', colsample_bylevel=1,\n",
      "             colsample_bynode=1, colsample_bytree=1, gamma=0, gpu_id=-1,\n",
      "             importance_type='gain', interaction_constraints='',\n",
      "             learning_rate=0.300000012, max_delta_step=0, max_depth=6,\n",
      "             min_child_weight=1, missing=nan, monotone_constraints='()',\n",
      "             n_estimators=100, n_jobs=-1, num_parallel_tree=1,\n",
      "             objective='reg:squarederror', random_state=1002, reg_alpha=0,\n",
      "             reg_lambda=1, scale_pos_weight=1, subsample=1, tree_method='auto',\n",
      "             validate_parameters=1, verbosity=0)\n"
     ]
    }
   ],
   "source": [
    "print(xgboost)"
   ]
  },
  {
   "cell_type": "markdown",
   "metadata": {},
   "source": [
    "### Extra Trees Regressor"
   ]
  },
  {
   "cell_type": "code",
   "execution_count": 14,
   "metadata": {},
   "outputs": [
    {
     "data": {
      "text/html": [
       "<style  type=\"text/css\" >\n",
       "    #T_40a819b4_0768_11ec_9b59_80c5f20e49e9row10_col0 {\n",
       "            background:  yellow;\n",
       "        }    #T_40a819b4_0768_11ec_9b59_80c5f20e49e9row10_col1 {\n",
       "            background:  yellow;\n",
       "        }    #T_40a819b4_0768_11ec_9b59_80c5f20e49e9row10_col2 {\n",
       "            background:  yellow;\n",
       "        }    #T_40a819b4_0768_11ec_9b59_80c5f20e49e9row10_col3 {\n",
       "            background:  yellow;\n",
       "        }    #T_40a819b4_0768_11ec_9b59_80c5f20e49e9row10_col4 {\n",
       "            background:  yellow;\n",
       "        }    #T_40a819b4_0768_11ec_9b59_80c5f20e49e9row10_col5 {\n",
       "            background:  yellow;\n",
       "        }</style><table id=\"T_40a819b4_0768_11ec_9b59_80c5f20e49e9\" ><thead>    <tr>        <th class=\"blank level0\" ></th>        <th class=\"col_heading level0 col0\" >MAE</th>        <th class=\"col_heading level0 col1\" >MSE</th>        <th class=\"col_heading level0 col2\" >RMSE</th>        <th class=\"col_heading level0 col3\" >R2</th>        <th class=\"col_heading level0 col4\" >RMSLE</th>        <th class=\"col_heading level0 col5\" >MAPE</th>    </tr></thead><tbody>\n",
       "                <tr>\n",
       "                        <th id=\"T_40a819b4_0768_11ec_9b59_80c5f20e49e9level0_row0\" class=\"row_heading level0 row0\" >0</th>\n",
       "                        <td id=\"T_40a819b4_0768_11ec_9b59_80c5f20e49e9row0_col0\" class=\"data row0 col0\" >816.6583</td>\n",
       "                        <td id=\"T_40a819b4_0768_11ec_9b59_80c5f20e49e9row0_col1\" class=\"data row0 col1\" >7699461.2879</td>\n",
       "                        <td id=\"T_40a819b4_0768_11ec_9b59_80c5f20e49e9row0_col2\" class=\"data row0 col2\" >2774.7903</td>\n",
       "                        <td id=\"T_40a819b4_0768_11ec_9b59_80c5f20e49e9row0_col3\" class=\"data row0 col3\" >0.9404</td>\n",
       "                        <td id=\"T_40a819b4_0768_11ec_9b59_80c5f20e49e9row0_col4\" class=\"data row0 col4\" >0.0864</td>\n",
       "                        <td id=\"T_40a819b4_0768_11ec_9b59_80c5f20e49e9row0_col5\" class=\"data row0 col5\" >0.0578</td>\n",
       "            </tr>\n",
       "            <tr>\n",
       "                        <th id=\"T_40a819b4_0768_11ec_9b59_80c5f20e49e9level0_row1\" class=\"row_heading level0 row1\" >1</th>\n",
       "                        <td id=\"T_40a819b4_0768_11ec_9b59_80c5f20e49e9row1_col0\" class=\"data row1 col0\" >802.6751</td>\n",
       "                        <td id=\"T_40a819b4_0768_11ec_9b59_80c5f20e49e9row1_col1\" class=\"data row1 col1\" >3053312.1183</td>\n",
       "                        <td id=\"T_40a819b4_0768_11ec_9b59_80c5f20e49e9row1_col2\" class=\"data row1 col2\" >1747.3729</td>\n",
       "                        <td id=\"T_40a819b4_0768_11ec_9b59_80c5f20e49e9row1_col3\" class=\"data row1 col3\" >0.9693</td>\n",
       "                        <td id=\"T_40a819b4_0768_11ec_9b59_80c5f20e49e9row1_col4\" class=\"data row1 col4\" >0.0845</td>\n",
       "                        <td id=\"T_40a819b4_0768_11ec_9b59_80c5f20e49e9row1_col5\" class=\"data row1 col5\" >0.0630</td>\n",
       "            </tr>\n",
       "            <tr>\n",
       "                        <th id=\"T_40a819b4_0768_11ec_9b59_80c5f20e49e9level0_row2\" class=\"row_heading level0 row2\" >2</th>\n",
       "                        <td id=\"T_40a819b4_0768_11ec_9b59_80c5f20e49e9row2_col0\" class=\"data row2 col0\" >762.0139</td>\n",
       "                        <td id=\"T_40a819b4_0768_11ec_9b59_80c5f20e49e9row2_col1\" class=\"data row2 col1\" >1791700.5416</td>\n",
       "                        <td id=\"T_40a819b4_0768_11ec_9b59_80c5f20e49e9row2_col2\" class=\"data row2 col2\" >1338.5442</td>\n",
       "                        <td id=\"T_40a819b4_0768_11ec_9b59_80c5f20e49e9row2_col3\" class=\"data row2 col3\" >0.9842</td>\n",
       "                        <td id=\"T_40a819b4_0768_11ec_9b59_80c5f20e49e9row2_col4\" class=\"data row2 col4\" >0.0885</td>\n",
       "                        <td id=\"T_40a819b4_0768_11ec_9b59_80c5f20e49e9row2_col5\" class=\"data row2 col5\" >0.0651</td>\n",
       "            </tr>\n",
       "            <tr>\n",
       "                        <th id=\"T_40a819b4_0768_11ec_9b59_80c5f20e49e9level0_row3\" class=\"row_heading level0 row3\" >3</th>\n",
       "                        <td id=\"T_40a819b4_0768_11ec_9b59_80c5f20e49e9row3_col0\" class=\"data row3 col0\" >650.4933</td>\n",
       "                        <td id=\"T_40a819b4_0768_11ec_9b59_80c5f20e49e9row3_col1\" class=\"data row3 col1\" >1374722.0178</td>\n",
       "                        <td id=\"T_40a819b4_0768_11ec_9b59_80c5f20e49e9row3_col2\" class=\"data row3 col2\" >1172.4854</td>\n",
       "                        <td id=\"T_40a819b4_0768_11ec_9b59_80c5f20e49e9row3_col3\" class=\"data row3 col3\" >0.9856</td>\n",
       "                        <td id=\"T_40a819b4_0768_11ec_9b59_80c5f20e49e9row3_col4\" class=\"data row3 col4\" >0.0734</td>\n",
       "                        <td id=\"T_40a819b4_0768_11ec_9b59_80c5f20e49e9row3_col5\" class=\"data row3 col5\" >0.0539</td>\n",
       "            </tr>\n",
       "            <tr>\n",
       "                        <th id=\"T_40a819b4_0768_11ec_9b59_80c5f20e49e9level0_row4\" class=\"row_heading level0 row4\" >4</th>\n",
       "                        <td id=\"T_40a819b4_0768_11ec_9b59_80c5f20e49e9row4_col0\" class=\"data row4 col0\" >739.1646</td>\n",
       "                        <td id=\"T_40a819b4_0768_11ec_9b59_80c5f20e49e9row4_col1\" class=\"data row4 col1\" >3258126.7088</td>\n",
       "                        <td id=\"T_40a819b4_0768_11ec_9b59_80c5f20e49e9row4_col2\" class=\"data row4 col2\" >1805.0282</td>\n",
       "                        <td id=\"T_40a819b4_0768_11ec_9b59_80c5f20e49e9row4_col3\" class=\"data row4 col3\" >0.9735</td>\n",
       "                        <td id=\"T_40a819b4_0768_11ec_9b59_80c5f20e49e9row4_col4\" class=\"data row4 col4\" >0.0761</td>\n",
       "                        <td id=\"T_40a819b4_0768_11ec_9b59_80c5f20e49e9row4_col5\" class=\"data row4 col5\" >0.0559</td>\n",
       "            </tr>\n",
       "            <tr>\n",
       "                        <th id=\"T_40a819b4_0768_11ec_9b59_80c5f20e49e9level0_row5\" class=\"row_heading level0 row5\" >5</th>\n",
       "                        <td id=\"T_40a819b4_0768_11ec_9b59_80c5f20e49e9row5_col0\" class=\"data row5 col0\" >714.3472</td>\n",
       "                        <td id=\"T_40a819b4_0768_11ec_9b59_80c5f20e49e9row5_col1\" class=\"data row5 col1\" >1716199.0095</td>\n",
       "                        <td id=\"T_40a819b4_0768_11ec_9b59_80c5f20e49e9row5_col2\" class=\"data row5 col2\" >1310.0378</td>\n",
       "                        <td id=\"T_40a819b4_0768_11ec_9b59_80c5f20e49e9row5_col3\" class=\"data row5 col3\" >0.9821</td>\n",
       "                        <td id=\"T_40a819b4_0768_11ec_9b59_80c5f20e49e9row5_col4\" class=\"data row5 col4\" >0.0825</td>\n",
       "                        <td id=\"T_40a819b4_0768_11ec_9b59_80c5f20e49e9row5_col5\" class=\"data row5 col5\" >0.0583</td>\n",
       "            </tr>\n",
       "            <tr>\n",
       "                        <th id=\"T_40a819b4_0768_11ec_9b59_80c5f20e49e9level0_row6\" class=\"row_heading level0 row6\" >6</th>\n",
       "                        <td id=\"T_40a819b4_0768_11ec_9b59_80c5f20e49e9row6_col0\" class=\"data row6 col0\" >709.3548</td>\n",
       "                        <td id=\"T_40a819b4_0768_11ec_9b59_80c5f20e49e9row6_col1\" class=\"data row6 col1\" >1573397.3542</td>\n",
       "                        <td id=\"T_40a819b4_0768_11ec_9b59_80c5f20e49e9row6_col2\" class=\"data row6 col2\" >1254.3514</td>\n",
       "                        <td id=\"T_40a819b4_0768_11ec_9b59_80c5f20e49e9row6_col3\" class=\"data row6 col3\" >0.9817</td>\n",
       "                        <td id=\"T_40a819b4_0768_11ec_9b59_80c5f20e49e9row6_col4\" class=\"data row6 col4\" >0.0792</td>\n",
       "                        <td id=\"T_40a819b4_0768_11ec_9b59_80c5f20e49e9row6_col5\" class=\"data row6 col5\" >0.0600</td>\n",
       "            </tr>\n",
       "            <tr>\n",
       "                        <th id=\"T_40a819b4_0768_11ec_9b59_80c5f20e49e9level0_row7\" class=\"row_heading level0 row7\" >7</th>\n",
       "                        <td id=\"T_40a819b4_0768_11ec_9b59_80c5f20e49e9row7_col0\" class=\"data row7 col0\" >703.7250</td>\n",
       "                        <td id=\"T_40a819b4_0768_11ec_9b59_80c5f20e49e9row7_col1\" class=\"data row7 col1\" >1692399.6722</td>\n",
       "                        <td id=\"T_40a819b4_0768_11ec_9b59_80c5f20e49e9row7_col2\" class=\"data row7 col2\" >1300.9226</td>\n",
       "                        <td id=\"T_40a819b4_0768_11ec_9b59_80c5f20e49e9row7_col3\" class=\"data row7 col3\" >0.9819</td>\n",
       "                        <td id=\"T_40a819b4_0768_11ec_9b59_80c5f20e49e9row7_col4\" class=\"data row7 col4\" >0.0765</td>\n",
       "                        <td id=\"T_40a819b4_0768_11ec_9b59_80c5f20e49e9row7_col5\" class=\"data row7 col5\" >0.0571</td>\n",
       "            </tr>\n",
       "            <tr>\n",
       "                        <th id=\"T_40a819b4_0768_11ec_9b59_80c5f20e49e9level0_row8\" class=\"row_heading level0 row8\" >8</th>\n",
       "                        <td id=\"T_40a819b4_0768_11ec_9b59_80c5f20e49e9row8_col0\" class=\"data row8 col0\" >653.6092</td>\n",
       "                        <td id=\"T_40a819b4_0768_11ec_9b59_80c5f20e49e9row8_col1\" class=\"data row8 col1\" >1249703.2686</td>\n",
       "                        <td id=\"T_40a819b4_0768_11ec_9b59_80c5f20e49e9row8_col2\" class=\"data row8 col2\" >1117.9013</td>\n",
       "                        <td id=\"T_40a819b4_0768_11ec_9b59_80c5f20e49e9row8_col3\" class=\"data row8 col3\" >0.9839</td>\n",
       "                        <td id=\"T_40a819b4_0768_11ec_9b59_80c5f20e49e9row8_col4\" class=\"data row8 col4\" >0.0776</td>\n",
       "                        <td id=\"T_40a819b4_0768_11ec_9b59_80c5f20e49e9row8_col5\" class=\"data row8 col5\" >0.0584</td>\n",
       "            </tr>\n",
       "            <tr>\n",
       "                        <th id=\"T_40a819b4_0768_11ec_9b59_80c5f20e49e9level0_row9\" class=\"row_heading level0 row9\" >9</th>\n",
       "                        <td id=\"T_40a819b4_0768_11ec_9b59_80c5f20e49e9row9_col0\" class=\"data row9 col0\" >717.1020</td>\n",
       "                        <td id=\"T_40a819b4_0768_11ec_9b59_80c5f20e49e9row9_col1\" class=\"data row9 col1\" >1659719.4813</td>\n",
       "                        <td id=\"T_40a819b4_0768_11ec_9b59_80c5f20e49e9row9_col2\" class=\"data row9 col2\" >1288.3010</td>\n",
       "                        <td id=\"T_40a819b4_0768_11ec_9b59_80c5f20e49e9row9_col3\" class=\"data row9 col3\" >0.9821</td>\n",
       "                        <td id=\"T_40a819b4_0768_11ec_9b59_80c5f20e49e9row9_col4\" class=\"data row9 col4\" >0.0817</td>\n",
       "                        <td id=\"T_40a819b4_0768_11ec_9b59_80c5f20e49e9row9_col5\" class=\"data row9 col5\" >0.0608</td>\n",
       "            </tr>\n",
       "            <tr>\n",
       "                        <th id=\"T_40a819b4_0768_11ec_9b59_80c5f20e49e9level0_row10\" class=\"row_heading level0 row10\" >Mean</th>\n",
       "                        <td id=\"T_40a819b4_0768_11ec_9b59_80c5f20e49e9row10_col0\" class=\"data row10 col0\" >726.9144</td>\n",
       "                        <td id=\"T_40a819b4_0768_11ec_9b59_80c5f20e49e9row10_col1\" class=\"data row10 col1\" >2506874.1460</td>\n",
       "                        <td id=\"T_40a819b4_0768_11ec_9b59_80c5f20e49e9row10_col2\" class=\"data row10 col2\" >1510.9735</td>\n",
       "                        <td id=\"T_40a819b4_0768_11ec_9b59_80c5f20e49e9row10_col3\" class=\"data row10 col3\" >0.9765</td>\n",
       "                        <td id=\"T_40a819b4_0768_11ec_9b59_80c5f20e49e9row10_col4\" class=\"data row10 col4\" >0.0806</td>\n",
       "                        <td id=\"T_40a819b4_0768_11ec_9b59_80c5f20e49e9row10_col5\" class=\"data row10 col5\" >0.0590</td>\n",
       "            </tr>\n",
       "            <tr>\n",
       "                        <th id=\"T_40a819b4_0768_11ec_9b59_80c5f20e49e9level0_row11\" class=\"row_heading level0 row11\" >SD</th>\n",
       "                        <td id=\"T_40a819b4_0768_11ec_9b59_80c5f20e49e9row11_col0\" class=\"data row11 col0\" >52.4308</td>\n",
       "                        <td id=\"T_40a819b4_0768_11ec_9b59_80c5f20e49e9row11_col1\" class=\"data row11 col1\" >1846002.2271</td>\n",
       "                        <td id=\"T_40a819b4_0768_11ec_9b59_80c5f20e49e9row11_col2\" class=\"data row11 col2\" >473.1101</td>\n",
       "                        <td id=\"T_40a819b4_0768_11ec_9b59_80c5f20e49e9row11_col3\" class=\"data row11 col3\" >0.0130</td>\n",
       "                        <td id=\"T_40a819b4_0768_11ec_9b59_80c5f20e49e9row11_col4\" class=\"data row11 col4\" >0.0046</td>\n",
       "                        <td id=\"T_40a819b4_0768_11ec_9b59_80c5f20e49e9row11_col5\" class=\"data row11 col5\" >0.0031</td>\n",
       "            </tr>\n",
       "    </tbody></table>"
      ],
      "text/plain": [
       "<pandas.io.formats.style.Styler at 0x25f0535ec10>"
      ]
     },
     "metadata": {},
     "output_type": "display_data"
    }
   ],
   "source": [
    "et = create_model('et')"
   ]
  },
  {
   "cell_type": "code",
   "execution_count": 15,
   "metadata": {},
   "outputs": [
    {
     "name": "stdout",
     "output_type": "stream",
     "text": [
      "ExtraTreesRegressor(bootstrap=False, ccp_alpha=0.0, criterion='mse',\n",
      "                    max_depth=None, max_features='auto', max_leaf_nodes=None,\n",
      "                    max_samples=None, min_impurity_decrease=0.0,\n",
      "                    min_impurity_split=None, min_samples_leaf=1,\n",
      "                    min_samples_split=2, min_weight_fraction_leaf=0.0,\n",
      "                    n_estimators=100, n_jobs=-1, oob_score=False,\n",
      "                    random_state=1002, verbose=0, warm_start=False)\n"
     ]
    }
   ],
   "source": [
    "print(et)"
   ]
  },
  {
   "cell_type": "markdown",
   "metadata": {},
   "source": [
    "### Random Forest Regressor"
   ]
  },
  {
   "cell_type": "code",
   "execution_count": 16,
   "metadata": {},
   "outputs": [
    {
     "data": {
      "text/html": [
       "<style  type=\"text/css\" >\n",
       "    #T_4802c559_0768_11ec_942c_80c5f20e49e9row10_col0 {\n",
       "            background:  yellow;\n",
       "        }    #T_4802c559_0768_11ec_942c_80c5f20e49e9row10_col1 {\n",
       "            background:  yellow;\n",
       "        }    #T_4802c559_0768_11ec_942c_80c5f20e49e9row10_col2 {\n",
       "            background:  yellow;\n",
       "        }    #T_4802c559_0768_11ec_942c_80c5f20e49e9row10_col3 {\n",
       "            background:  yellow;\n",
       "        }    #T_4802c559_0768_11ec_942c_80c5f20e49e9row10_col4 {\n",
       "            background:  yellow;\n",
       "        }    #T_4802c559_0768_11ec_942c_80c5f20e49e9row10_col5 {\n",
       "            background:  yellow;\n",
       "        }</style><table id=\"T_4802c559_0768_11ec_942c_80c5f20e49e9\" ><thead>    <tr>        <th class=\"blank level0\" ></th>        <th class=\"col_heading level0 col0\" >MAE</th>        <th class=\"col_heading level0 col1\" >MSE</th>        <th class=\"col_heading level0 col2\" >RMSE</th>        <th class=\"col_heading level0 col3\" >R2</th>        <th class=\"col_heading level0 col4\" >RMSLE</th>        <th class=\"col_heading level0 col5\" >MAPE</th>    </tr></thead><tbody>\n",
       "                <tr>\n",
       "                        <th id=\"T_4802c559_0768_11ec_942c_80c5f20e49e9level0_row0\" class=\"row_heading level0 row0\" >0</th>\n",
       "                        <td id=\"T_4802c559_0768_11ec_942c_80c5f20e49e9row0_col0\" class=\"data row0 col0\" >793.4597</td>\n",
       "                        <td id=\"T_4802c559_0768_11ec_942c_80c5f20e49e9row0_col1\" class=\"data row0 col1\" >7018187.3779</td>\n",
       "                        <td id=\"T_4802c559_0768_11ec_942c_80c5f20e49e9row0_col2\" class=\"data row0 col2\" >2649.1862</td>\n",
       "                        <td id=\"T_4802c559_0768_11ec_942c_80c5f20e49e9row0_col3\" class=\"data row0 col3\" >0.9457</td>\n",
       "                        <td id=\"T_4802c559_0768_11ec_942c_80c5f20e49e9row0_col4\" class=\"data row0 col4\" >0.0837</td>\n",
       "                        <td id=\"T_4802c559_0768_11ec_942c_80c5f20e49e9row0_col5\" class=\"data row0 col5\" >0.0565</td>\n",
       "            </tr>\n",
       "            <tr>\n",
       "                        <th id=\"T_4802c559_0768_11ec_942c_80c5f20e49e9level0_row1\" class=\"row_heading level0 row1\" >1</th>\n",
       "                        <td id=\"T_4802c559_0768_11ec_942c_80c5f20e49e9row1_col0\" class=\"data row1 col0\" >822.5519</td>\n",
       "                        <td id=\"T_4802c559_0768_11ec_942c_80c5f20e49e9row1_col1\" class=\"data row1 col1\" >3531172.1360</td>\n",
       "                        <td id=\"T_4802c559_0768_11ec_942c_80c5f20e49e9row1_col2\" class=\"data row1 col2\" >1879.1413</td>\n",
       "                        <td id=\"T_4802c559_0768_11ec_942c_80c5f20e49e9row1_col3\" class=\"data row1 col3\" >0.9645</td>\n",
       "                        <td id=\"T_4802c559_0768_11ec_942c_80c5f20e49e9row1_col4\" class=\"data row1 col4\" >0.0885</td>\n",
       "                        <td id=\"T_4802c559_0768_11ec_942c_80c5f20e49e9row1_col5\" class=\"data row1 col5\" >0.0638</td>\n",
       "            </tr>\n",
       "            <tr>\n",
       "                        <th id=\"T_4802c559_0768_11ec_942c_80c5f20e49e9level0_row2\" class=\"row_heading level0 row2\" >2</th>\n",
       "                        <td id=\"T_4802c559_0768_11ec_942c_80c5f20e49e9row2_col0\" class=\"data row2 col0\" >775.5879</td>\n",
       "                        <td id=\"T_4802c559_0768_11ec_942c_80c5f20e49e9row2_col1\" class=\"data row2 col1\" >2125863.3491</td>\n",
       "                        <td id=\"T_4802c559_0768_11ec_942c_80c5f20e49e9row2_col2\" class=\"data row2 col2\" >1458.0341</td>\n",
       "                        <td id=\"T_4802c559_0768_11ec_942c_80c5f20e49e9row2_col3\" class=\"data row2 col3\" >0.9813</td>\n",
       "                        <td id=\"T_4802c559_0768_11ec_942c_80c5f20e49e9row2_col4\" class=\"data row2 col4\" >0.0870</td>\n",
       "                        <td id=\"T_4802c559_0768_11ec_942c_80c5f20e49e9row2_col5\" class=\"data row2 col5\" >0.0652</td>\n",
       "            </tr>\n",
       "            <tr>\n",
       "                        <th id=\"T_4802c559_0768_11ec_942c_80c5f20e49e9level0_row3\" class=\"row_heading level0 row3\" >3</th>\n",
       "                        <td id=\"T_4802c559_0768_11ec_942c_80c5f20e49e9row3_col0\" class=\"data row3 col0\" >694.2880</td>\n",
       "                        <td id=\"T_4802c559_0768_11ec_942c_80c5f20e49e9row3_col1\" class=\"data row3 col1\" >1702494.6753</td>\n",
       "                        <td id=\"T_4802c559_0768_11ec_942c_80c5f20e49e9row3_col2\" class=\"data row3 col2\" >1304.7968</td>\n",
       "                        <td id=\"T_4802c559_0768_11ec_942c_80c5f20e49e9row3_col3\" class=\"data row3 col3\" >0.9822</td>\n",
       "                        <td id=\"T_4802c559_0768_11ec_942c_80c5f20e49e9row3_col4\" class=\"data row3 col4\" >0.0747</td>\n",
       "                        <td id=\"T_4802c559_0768_11ec_942c_80c5f20e49e9row3_col5\" class=\"data row3 col5\" >0.0565</td>\n",
       "            </tr>\n",
       "            <tr>\n",
       "                        <th id=\"T_4802c559_0768_11ec_942c_80c5f20e49e9level0_row4\" class=\"row_heading level0 row4\" >4</th>\n",
       "                        <td id=\"T_4802c559_0768_11ec_942c_80c5f20e49e9row4_col0\" class=\"data row4 col0\" >804.1349</td>\n",
       "                        <td id=\"T_4802c559_0768_11ec_942c_80c5f20e49e9row4_col1\" class=\"data row4 col1\" >4020854.1488</td>\n",
       "                        <td id=\"T_4802c559_0768_11ec_942c_80c5f20e49e9row4_col2\" class=\"data row4 col2\" >2005.2068</td>\n",
       "                        <td id=\"T_4802c559_0768_11ec_942c_80c5f20e49e9row4_col3\" class=\"data row4 col3\" >0.9672</td>\n",
       "                        <td id=\"T_4802c559_0768_11ec_942c_80c5f20e49e9row4_col4\" class=\"data row4 col4\" >0.0807</td>\n",
       "                        <td id=\"T_4802c559_0768_11ec_942c_80c5f20e49e9row4_col5\" class=\"data row4 col5\" >0.0587</td>\n",
       "            </tr>\n",
       "            <tr>\n",
       "                        <th id=\"T_4802c559_0768_11ec_942c_80c5f20e49e9level0_row5\" class=\"row_heading level0 row5\" >5</th>\n",
       "                        <td id=\"T_4802c559_0768_11ec_942c_80c5f20e49e9row5_col0\" class=\"data row5 col0\" >774.4832</td>\n",
       "                        <td id=\"T_4802c559_0768_11ec_942c_80c5f20e49e9row5_col1\" class=\"data row5 col1\" >2542700.0009</td>\n",
       "                        <td id=\"T_4802c559_0768_11ec_942c_80c5f20e49e9row5_col2\" class=\"data row5 col2\" >1594.5846</td>\n",
       "                        <td id=\"T_4802c559_0768_11ec_942c_80c5f20e49e9row5_col3\" class=\"data row5 col3\" >0.9735</td>\n",
       "                        <td id=\"T_4802c559_0768_11ec_942c_80c5f20e49e9row5_col4\" class=\"data row5 col4\" >0.0842</td>\n",
       "                        <td id=\"T_4802c559_0768_11ec_942c_80c5f20e49e9row5_col5\" class=\"data row5 col5\" >0.0600</td>\n",
       "            </tr>\n",
       "            <tr>\n",
       "                        <th id=\"T_4802c559_0768_11ec_942c_80c5f20e49e9level0_row6\" class=\"row_heading level0 row6\" >6</th>\n",
       "                        <td id=\"T_4802c559_0768_11ec_942c_80c5f20e49e9row6_col0\" class=\"data row6 col0\" >672.2366</td>\n",
       "                        <td id=\"T_4802c559_0768_11ec_942c_80c5f20e49e9row6_col1\" class=\"data row6 col1\" >1167366.7021</td>\n",
       "                        <td id=\"T_4802c559_0768_11ec_942c_80c5f20e49e9row6_col2\" class=\"data row6 col2\" >1080.4475</td>\n",
       "                        <td id=\"T_4802c559_0768_11ec_942c_80c5f20e49e9row6_col3\" class=\"data row6 col3\" >0.9864</td>\n",
       "                        <td id=\"T_4802c559_0768_11ec_942c_80c5f20e49e9row6_col4\" class=\"data row6 col4\" >0.0763</td>\n",
       "                        <td id=\"T_4802c559_0768_11ec_942c_80c5f20e49e9row6_col5\" class=\"data row6 col5\" >0.0584</td>\n",
       "            </tr>\n",
       "            <tr>\n",
       "                        <th id=\"T_4802c559_0768_11ec_942c_80c5f20e49e9level0_row7\" class=\"row_heading level0 row7\" >7</th>\n",
       "                        <td id=\"T_4802c559_0768_11ec_942c_80c5f20e49e9row7_col0\" class=\"data row7 col0\" >686.4392</td>\n",
       "                        <td id=\"T_4802c559_0768_11ec_942c_80c5f20e49e9row7_col1\" class=\"data row7 col1\" >1821689.7372</td>\n",
       "                        <td id=\"T_4802c559_0768_11ec_942c_80c5f20e49e9row7_col2\" class=\"data row7 col2\" >1349.6999</td>\n",
       "                        <td id=\"T_4802c559_0768_11ec_942c_80c5f20e49e9row7_col3\" class=\"data row7 col3\" >0.9805</td>\n",
       "                        <td id=\"T_4802c559_0768_11ec_942c_80c5f20e49e9row7_col4\" class=\"data row7 col4\" >0.0741</td>\n",
       "                        <td id=\"T_4802c559_0768_11ec_942c_80c5f20e49e9row7_col5\" class=\"data row7 col5\" >0.0541</td>\n",
       "            </tr>\n",
       "            <tr>\n",
       "                        <th id=\"T_4802c559_0768_11ec_942c_80c5f20e49e9level0_row8\" class=\"row_heading level0 row8\" >8</th>\n",
       "                        <td id=\"T_4802c559_0768_11ec_942c_80c5f20e49e9row8_col0\" class=\"data row8 col0\" >661.5065</td>\n",
       "                        <td id=\"T_4802c559_0768_11ec_942c_80c5f20e49e9row8_col1\" class=\"data row8 col1\" >1250021.6454</td>\n",
       "                        <td id=\"T_4802c559_0768_11ec_942c_80c5f20e49e9row8_col2\" class=\"data row8 col2\" >1118.0437</td>\n",
       "                        <td id=\"T_4802c559_0768_11ec_942c_80c5f20e49e9row8_col3\" class=\"data row8 col3\" >0.9839</td>\n",
       "                        <td id=\"T_4802c559_0768_11ec_942c_80c5f20e49e9row8_col4\" class=\"data row8 col4\" >0.0753</td>\n",
       "                        <td id=\"T_4802c559_0768_11ec_942c_80c5f20e49e9row8_col5\" class=\"data row8 col5\" >0.0569</td>\n",
       "            </tr>\n",
       "            <tr>\n",
       "                        <th id=\"T_4802c559_0768_11ec_942c_80c5f20e49e9level0_row9\" class=\"row_heading level0 row9\" >9</th>\n",
       "                        <td id=\"T_4802c559_0768_11ec_942c_80c5f20e49e9row9_col0\" class=\"data row9 col0\" >689.6142</td>\n",
       "                        <td id=\"T_4802c559_0768_11ec_942c_80c5f20e49e9row9_col1\" class=\"data row9 col1\" >1353160.9867</td>\n",
       "                        <td id=\"T_4802c559_0768_11ec_942c_80c5f20e49e9row9_col2\" class=\"data row9 col2\" >1163.2545</td>\n",
       "                        <td id=\"T_4802c559_0768_11ec_942c_80c5f20e49e9row9_col3\" class=\"data row9 col3\" >0.9854</td>\n",
       "                        <td id=\"T_4802c559_0768_11ec_942c_80c5f20e49e9row9_col4\" class=\"data row9 col4\" >0.0746</td>\n",
       "                        <td id=\"T_4802c559_0768_11ec_942c_80c5f20e49e9row9_col5\" class=\"data row9 col5\" >0.0579</td>\n",
       "            </tr>\n",
       "            <tr>\n",
       "                        <th id=\"T_4802c559_0768_11ec_942c_80c5f20e49e9level0_row10\" class=\"row_heading level0 row10\" >Mean</th>\n",
       "                        <td id=\"T_4802c559_0768_11ec_942c_80c5f20e49e9row10_col0\" class=\"data row10 col0\" >737.4302</td>\n",
       "                        <td id=\"T_4802c559_0768_11ec_942c_80c5f20e49e9row10_col1\" class=\"data row10 col1\" >2653351.0760</td>\n",
       "                        <td id=\"T_4802c559_0768_11ec_942c_80c5f20e49e9row10_col2\" class=\"data row10 col2\" >1560.2395</td>\n",
       "                        <td id=\"T_4802c559_0768_11ec_942c_80c5f20e49e9row10_col3\" class=\"data row10 col3\" >0.9751</td>\n",
       "                        <td id=\"T_4802c559_0768_11ec_942c_80c5f20e49e9row10_col4\" class=\"data row10 col4\" >0.0799</td>\n",
       "                        <td id=\"T_4802c559_0768_11ec_942c_80c5f20e49e9row10_col5\" class=\"data row10 col5\" >0.0588</td>\n",
       "            </tr>\n",
       "            <tr>\n",
       "                        <th id=\"T_4802c559_0768_11ec_942c_80c5f20e49e9level0_row11\" class=\"row_heading level0 row11\" >SD</th>\n",
       "                        <td id=\"T_4802c559_0768_11ec_942c_80c5f20e49e9row11_col0\" class=\"data row11 col0\" >58.6735</td>\n",
       "                        <td id=\"T_4802c559_0768_11ec_942c_80c5f20e49e9row11_col1\" class=\"data row11 col1\" >1716003.5888</td>\n",
       "                        <td id=\"T_4802c559_0768_11ec_942c_80c5f20e49e9row11_col2\" class=\"data row11 col2\" >467.9783</td>\n",
       "                        <td id=\"T_4802c559_0768_11ec_942c_80c5f20e49e9row11_col3\" class=\"data row11 col3\" >0.0121</td>\n",
       "                        <td id=\"T_4802c559_0768_11ec_942c_80c5f20e49e9row11_col4\" class=\"data row11 col4\" >0.0053</td>\n",
       "                        <td id=\"T_4802c559_0768_11ec_942c_80c5f20e49e9row11_col5\" class=\"data row11 col5\" >0.0032</td>\n",
       "            </tr>\n",
       "    </tbody></table>"
      ],
      "text/plain": [
       "<pandas.io.formats.style.Styler at 0x25f05344fa0>"
      ]
     },
     "metadata": {},
     "output_type": "display_data"
    }
   ],
   "source": [
    "rf = create_model('rf')"
   ]
  },
  {
   "cell_type": "code",
   "execution_count": 17,
   "metadata": {},
   "outputs": [
    {
     "name": "stdout",
     "output_type": "stream",
     "text": [
      "RandomForestRegressor(bootstrap=True, ccp_alpha=0.0, criterion='mse',\n",
      "                      max_depth=None, max_features='auto', max_leaf_nodes=None,\n",
      "                      max_samples=None, min_impurity_decrease=0.0,\n",
      "                      min_impurity_split=None, min_samples_leaf=1,\n",
      "                      min_samples_split=2, min_weight_fraction_leaf=0.0,\n",
      "                      n_estimators=100, n_jobs=-1, oob_score=False,\n",
      "                      random_state=1002, verbose=0, warm_start=False)\n"
     ]
    }
   ],
   "source": [
    "print(rf)"
   ]
  },
  {
   "cell_type": "markdown",
   "metadata": {},
   "source": [
    "### Light Gradient Boosting Machine"
   ]
  },
  {
   "cell_type": "code",
   "execution_count": 18,
   "metadata": {},
   "outputs": [
    {
     "data": {
      "text/html": [
       "<style  type=\"text/css\" >\n",
       "    #T_4a139fbc_0768_11ec_a991_80c5f20e49e9row10_col0 {\n",
       "            background:  yellow;\n",
       "        }    #T_4a139fbc_0768_11ec_a991_80c5f20e49e9row10_col1 {\n",
       "            background:  yellow;\n",
       "        }    #T_4a139fbc_0768_11ec_a991_80c5f20e49e9row10_col2 {\n",
       "            background:  yellow;\n",
       "        }    #T_4a139fbc_0768_11ec_a991_80c5f20e49e9row10_col3 {\n",
       "            background:  yellow;\n",
       "        }    #T_4a139fbc_0768_11ec_a991_80c5f20e49e9row10_col4 {\n",
       "            background:  yellow;\n",
       "        }    #T_4a139fbc_0768_11ec_a991_80c5f20e49e9row10_col5 {\n",
       "            background:  yellow;\n",
       "        }</style><table id=\"T_4a139fbc_0768_11ec_a991_80c5f20e49e9\" ><thead>    <tr>        <th class=\"blank level0\" ></th>        <th class=\"col_heading level0 col0\" >MAE</th>        <th class=\"col_heading level0 col1\" >MSE</th>        <th class=\"col_heading level0 col2\" >RMSE</th>        <th class=\"col_heading level0 col3\" >R2</th>        <th class=\"col_heading level0 col4\" >RMSLE</th>        <th class=\"col_heading level0 col5\" >MAPE</th>    </tr></thead><tbody>\n",
       "                <tr>\n",
       "                        <th id=\"T_4a139fbc_0768_11ec_a991_80c5f20e49e9level0_row0\" class=\"row_heading level0 row0\" >0</th>\n",
       "                        <td id=\"T_4a139fbc_0768_11ec_a991_80c5f20e49e9row0_col0\" class=\"data row0 col0\" >884.5358</td>\n",
       "                        <td id=\"T_4a139fbc_0768_11ec_a991_80c5f20e49e9row0_col1\" class=\"data row0 col1\" >8452267.8661</td>\n",
       "                        <td id=\"T_4a139fbc_0768_11ec_a991_80c5f20e49e9row0_col2\" class=\"data row0 col2\" >2907.2784</td>\n",
       "                        <td id=\"T_4a139fbc_0768_11ec_a991_80c5f20e49e9row0_col3\" class=\"data row0 col3\" >0.9346</td>\n",
       "                        <td id=\"T_4a139fbc_0768_11ec_a991_80c5f20e49e9row0_col4\" class=\"data row0 col4\" >0.0886</td>\n",
       "                        <td id=\"T_4a139fbc_0768_11ec_a991_80c5f20e49e9row0_col5\" class=\"data row0 col5\" >0.0571</td>\n",
       "            </tr>\n",
       "            <tr>\n",
       "                        <th id=\"T_4a139fbc_0768_11ec_a991_80c5f20e49e9level0_row1\" class=\"row_heading level0 row1\" >1</th>\n",
       "                        <td id=\"T_4a139fbc_0768_11ec_a991_80c5f20e49e9row1_col0\" class=\"data row1 col0\" >738.7621</td>\n",
       "                        <td id=\"T_4a139fbc_0768_11ec_a991_80c5f20e49e9row1_col1\" class=\"data row1 col1\" >2792529.4100</td>\n",
       "                        <td id=\"T_4a139fbc_0768_11ec_a991_80c5f20e49e9row1_col2\" class=\"data row1 col2\" >1671.0863</td>\n",
       "                        <td id=\"T_4a139fbc_0768_11ec_a991_80c5f20e49e9row1_col3\" class=\"data row1 col3\" >0.9720</td>\n",
       "                        <td id=\"T_4a139fbc_0768_11ec_a991_80c5f20e49e9row1_col4\" class=\"data row1 col4\" >0.0763</td>\n",
       "                        <td id=\"T_4a139fbc_0768_11ec_a991_80c5f20e49e9row1_col5\" class=\"data row1 col5\" >0.0567</td>\n",
       "            </tr>\n",
       "            <tr>\n",
       "                        <th id=\"T_4a139fbc_0768_11ec_a991_80c5f20e49e9level0_row2\" class=\"row_heading level0 row2\" >2</th>\n",
       "                        <td id=\"T_4a139fbc_0768_11ec_a991_80c5f20e49e9row2_col0\" class=\"data row2 col0\" >849.6339</td>\n",
       "                        <td id=\"T_4a139fbc_0768_11ec_a991_80c5f20e49e9row2_col1\" class=\"data row2 col1\" >3328931.1930</td>\n",
       "                        <td id=\"T_4a139fbc_0768_11ec_a991_80c5f20e49e9row2_col2\" class=\"data row2 col2\" >1824.5359</td>\n",
       "                        <td id=\"T_4a139fbc_0768_11ec_a991_80c5f20e49e9row2_col3\" class=\"data row2 col3\" >0.9707</td>\n",
       "                        <td id=\"T_4a139fbc_0768_11ec_a991_80c5f20e49e9row2_col4\" class=\"data row2 col4\" >0.0910</td>\n",
       "                        <td id=\"T_4a139fbc_0768_11ec_a991_80c5f20e49e9row2_col5\" class=\"data row2 col5\" >0.0643</td>\n",
       "            </tr>\n",
       "            <tr>\n",
       "                        <th id=\"T_4a139fbc_0768_11ec_a991_80c5f20e49e9level0_row3\" class=\"row_heading level0 row3\" >3</th>\n",
       "                        <td id=\"T_4a139fbc_0768_11ec_a991_80c5f20e49e9row3_col0\" class=\"data row3 col0\" >685.0858</td>\n",
       "                        <td id=\"T_4a139fbc_0768_11ec_a991_80c5f20e49e9row3_col1\" class=\"data row3 col1\" >2208804.3083</td>\n",
       "                        <td id=\"T_4a139fbc_0768_11ec_a991_80c5f20e49e9row3_col2\" class=\"data row3 col2\" >1486.2047</td>\n",
       "                        <td id=\"T_4a139fbc_0768_11ec_a991_80c5f20e49e9row3_col3\" class=\"data row3 col3\" >0.9769</td>\n",
       "                        <td id=\"T_4a139fbc_0768_11ec_a991_80c5f20e49e9row3_col4\" class=\"data row3 col4\" >0.0747</td>\n",
       "                        <td id=\"T_4a139fbc_0768_11ec_a991_80c5f20e49e9row3_col5\" class=\"data row3 col5\" >0.0561</td>\n",
       "            </tr>\n",
       "            <tr>\n",
       "                        <th id=\"T_4a139fbc_0768_11ec_a991_80c5f20e49e9level0_row4\" class=\"row_heading level0 row4\" >4</th>\n",
       "                        <td id=\"T_4a139fbc_0768_11ec_a991_80c5f20e49e9row4_col0\" class=\"data row4 col0\" >864.4685</td>\n",
       "                        <td id=\"T_4a139fbc_0768_11ec_a991_80c5f20e49e9row4_col1\" class=\"data row4 col1\" >5435439.5401</td>\n",
       "                        <td id=\"T_4a139fbc_0768_11ec_a991_80c5f20e49e9row4_col2\" class=\"data row4 col2\" >2331.4029</td>\n",
       "                        <td id=\"T_4a139fbc_0768_11ec_a991_80c5f20e49e9row4_col3\" class=\"data row4 col3\" >0.9557</td>\n",
       "                        <td id=\"T_4a139fbc_0768_11ec_a991_80c5f20e49e9row4_col4\" class=\"data row4 col4\" >0.0782</td>\n",
       "                        <td id=\"T_4a139fbc_0768_11ec_a991_80c5f20e49e9row4_col5\" class=\"data row4 col5\" >0.0582</td>\n",
       "            </tr>\n",
       "            <tr>\n",
       "                        <th id=\"T_4a139fbc_0768_11ec_a991_80c5f20e49e9level0_row5\" class=\"row_heading level0 row5\" >5</th>\n",
       "                        <td id=\"T_4a139fbc_0768_11ec_a991_80c5f20e49e9row5_col0\" class=\"data row5 col0\" >699.6071</td>\n",
       "                        <td id=\"T_4a139fbc_0768_11ec_a991_80c5f20e49e9row5_col1\" class=\"data row5 col1\" >2357632.4540</td>\n",
       "                        <td id=\"T_4a139fbc_0768_11ec_a991_80c5f20e49e9row5_col2\" class=\"data row5 col2\" >1535.4584</td>\n",
       "                        <td id=\"T_4a139fbc_0768_11ec_a991_80c5f20e49e9row5_col3\" class=\"data row5 col3\" >0.9754</td>\n",
       "                        <td id=\"T_4a139fbc_0768_11ec_a991_80c5f20e49e9row5_col4\" class=\"data row5 col4\" >0.0742</td>\n",
       "                        <td id=\"T_4a139fbc_0768_11ec_a991_80c5f20e49e9row5_col5\" class=\"data row5 col5\" >0.0538</td>\n",
       "            </tr>\n",
       "            <tr>\n",
       "                        <th id=\"T_4a139fbc_0768_11ec_a991_80c5f20e49e9level0_row6\" class=\"row_heading level0 row6\" >6</th>\n",
       "                        <td id=\"T_4a139fbc_0768_11ec_a991_80c5f20e49e9row6_col0\" class=\"data row6 col0\" >672.6809</td>\n",
       "                        <td id=\"T_4a139fbc_0768_11ec_a991_80c5f20e49e9row6_col1\" class=\"data row6 col1\" >1689223.3100</td>\n",
       "                        <td id=\"T_4a139fbc_0768_11ec_a991_80c5f20e49e9row6_col2\" class=\"data row6 col2\" >1299.7012</td>\n",
       "                        <td id=\"T_4a139fbc_0768_11ec_a991_80c5f20e49e9row6_col3\" class=\"data row6 col3\" >0.9803</td>\n",
       "                        <td id=\"T_4a139fbc_0768_11ec_a991_80c5f20e49e9row6_col4\" class=\"data row6 col4\" >0.0729</td>\n",
       "                        <td id=\"T_4a139fbc_0768_11ec_a991_80c5f20e49e9row6_col5\" class=\"data row6 col5\" >0.0553</td>\n",
       "            </tr>\n",
       "            <tr>\n",
       "                        <th id=\"T_4a139fbc_0768_11ec_a991_80c5f20e49e9level0_row7\" class=\"row_heading level0 row7\" >7</th>\n",
       "                        <td id=\"T_4a139fbc_0768_11ec_a991_80c5f20e49e9row7_col0\" class=\"data row7 col0\" >631.5034</td>\n",
       "                        <td id=\"T_4a139fbc_0768_11ec_a991_80c5f20e49e9row7_col1\" class=\"data row7 col1\" >1646114.3575</td>\n",
       "                        <td id=\"T_4a139fbc_0768_11ec_a991_80c5f20e49e9row7_col2\" class=\"data row7 col2\" >1283.0099</td>\n",
       "                        <td id=\"T_4a139fbc_0768_11ec_a991_80c5f20e49e9row7_col3\" class=\"data row7 col3\" >0.9824</td>\n",
       "                        <td id=\"T_4a139fbc_0768_11ec_a991_80c5f20e49e9row7_col4\" class=\"data row7 col4\" >0.0696</td>\n",
       "                        <td id=\"T_4a139fbc_0768_11ec_a991_80c5f20e49e9row7_col5\" class=\"data row7 col5\" >0.0512</td>\n",
       "            </tr>\n",
       "            <tr>\n",
       "                        <th id=\"T_4a139fbc_0768_11ec_a991_80c5f20e49e9level0_row8\" class=\"row_heading level0 row8\" >8</th>\n",
       "                        <td id=\"T_4a139fbc_0768_11ec_a991_80c5f20e49e9row8_col0\" class=\"data row8 col0\" >658.3341</td>\n",
       "                        <td id=\"T_4a139fbc_0768_11ec_a991_80c5f20e49e9row8_col1\" class=\"data row8 col1\" >1515660.8422</td>\n",
       "                        <td id=\"T_4a139fbc_0768_11ec_a991_80c5f20e49e9row8_col2\" class=\"data row8 col2\" >1231.1218</td>\n",
       "                        <td id=\"T_4a139fbc_0768_11ec_a991_80c5f20e49e9row8_col3\" class=\"data row8 col3\" >0.9805</td>\n",
       "                        <td id=\"T_4a139fbc_0768_11ec_a991_80c5f20e49e9row8_col4\" class=\"data row8 col4\" >0.0726</td>\n",
       "                        <td id=\"T_4a139fbc_0768_11ec_a991_80c5f20e49e9row8_col5\" class=\"data row8 col5\" >0.0542</td>\n",
       "            </tr>\n",
       "            <tr>\n",
       "                        <th id=\"T_4a139fbc_0768_11ec_a991_80c5f20e49e9level0_row9\" class=\"row_heading level0 row9\" >9</th>\n",
       "                        <td id=\"T_4a139fbc_0768_11ec_a991_80c5f20e49e9row9_col0\" class=\"data row9 col0\" >753.5660</td>\n",
       "                        <td id=\"T_4a139fbc_0768_11ec_a991_80c5f20e49e9row9_col1\" class=\"data row9 col1\" >2088438.1690</td>\n",
       "                        <td id=\"T_4a139fbc_0768_11ec_a991_80c5f20e49e9row9_col2\" class=\"data row9 col2\" >1445.1430</td>\n",
       "                        <td id=\"T_4a139fbc_0768_11ec_a991_80c5f20e49e9row9_col3\" class=\"data row9 col3\" >0.9775</td>\n",
       "                        <td id=\"T_4a139fbc_0768_11ec_a991_80c5f20e49e9row9_col4\" class=\"data row9 col4\" >0.0780</td>\n",
       "                        <td id=\"T_4a139fbc_0768_11ec_a991_80c5f20e49e9row9_col5\" class=\"data row9 col5\" >0.0577</td>\n",
       "            </tr>\n",
       "            <tr>\n",
       "                        <th id=\"T_4a139fbc_0768_11ec_a991_80c5f20e49e9level0_row10\" class=\"row_heading level0 row10\" >Mean</th>\n",
       "                        <td id=\"T_4a139fbc_0768_11ec_a991_80c5f20e49e9row10_col0\" class=\"data row10 col0\" >743.8178</td>\n",
       "                        <td id=\"T_4a139fbc_0768_11ec_a991_80c5f20e49e9row10_col1\" class=\"data row10 col1\" >3151504.1450</td>\n",
       "                        <td id=\"T_4a139fbc_0768_11ec_a991_80c5f20e49e9row10_col2\" class=\"data row10 col2\" >1701.4942</td>\n",
       "                        <td id=\"T_4a139fbc_0768_11ec_a991_80c5f20e49e9row10_col3\" class=\"data row10 col3\" >0.9706</td>\n",
       "                        <td id=\"T_4a139fbc_0768_11ec_a991_80c5f20e49e9row10_col4\" class=\"data row10 col4\" >0.0776</td>\n",
       "                        <td id=\"T_4a139fbc_0768_11ec_a991_80c5f20e49e9row10_col5\" class=\"data row10 col5\" >0.0565</td>\n",
       "            </tr>\n",
       "            <tr>\n",
       "                        <th id=\"T_4a139fbc_0768_11ec_a991_80c5f20e49e9level0_row11\" class=\"row_heading level0 row11\" >SD</th>\n",
       "                        <td id=\"T_4a139fbc_0768_11ec_a991_80c5f20e49e9row11_col0\" class=\"data row11 col0\" >87.2137</td>\n",
       "                        <td id=\"T_4a139fbc_0768_11ec_a991_80c5f20e49e9row11_col1\" class=\"data row11 col1\" >2078563.7255</td>\n",
       "                        <td id=\"T_4a139fbc_0768_11ec_a991_80c5f20e49e9row11_col2\" class=\"data row11 col2\" >506.3808</td>\n",
       "                        <td id=\"T_4a139fbc_0768_11ec_a991_80c5f20e49e9row11_col3\" class=\"data row11 col3\" >0.0140</td>\n",
       "                        <td id=\"T_4a139fbc_0768_11ec_a991_80c5f20e49e9row11_col4\" class=\"data row11 col4\" >0.0066</td>\n",
       "                        <td id=\"T_4a139fbc_0768_11ec_a991_80c5f20e49e9row11_col5\" class=\"data row11 col5\" >0.0033</td>\n",
       "            </tr>\n",
       "    </tbody></table>"
      ],
      "text/plain": [
       "<pandas.io.formats.style.Styler at 0x25f0533a520>"
      ]
     },
     "metadata": {},
     "output_type": "display_data"
    }
   ],
   "source": [
    "lightgbm = create_model('lightgbm')"
   ]
  },
  {
   "cell_type": "code",
   "execution_count": 19,
   "metadata": {},
   "outputs": [
    {
     "name": "stdout",
     "output_type": "stream",
     "text": [
      "LGBMRegressor(boosting_type='gbdt', class_weight=None, colsample_bytree=1.0,\n",
      "              importance_type='split', learning_rate=0.1, max_depth=-1,\n",
      "              min_child_samples=20, min_child_weight=0.001, min_split_gain=0.0,\n",
      "              n_estimators=100, n_jobs=-1, num_leaves=31, objective=None,\n",
      "              random_state=1002, reg_alpha=0.0, reg_lambda=0.0, silent=True,\n",
      "              subsample=1.0, subsample_for_bin=200000, subsample_freq=0)\n"
     ]
    }
   ],
   "source": [
    "print(lightgbm)"
   ]
  },
  {
   "cell_type": "markdown",
   "metadata": {},
   "source": [
    "### Tune"
   ]
  },
  {
   "cell_type": "code",
   "execution_count": 20,
   "metadata": {},
   "outputs": [
    {
     "data": {
      "text/html": [
       "<style  type=\"text/css\" >\n",
       "    #T_ed3309c3_0768_11ec_bc8b_80c5f20e49e9row10_col0 {\n",
       "            background:  yellow;\n",
       "        }    #T_ed3309c3_0768_11ec_bc8b_80c5f20e49e9row10_col1 {\n",
       "            background:  yellow;\n",
       "        }    #T_ed3309c3_0768_11ec_bc8b_80c5f20e49e9row10_col2 {\n",
       "            background:  yellow;\n",
       "        }    #T_ed3309c3_0768_11ec_bc8b_80c5f20e49e9row10_col3 {\n",
       "            background:  yellow;\n",
       "        }    #T_ed3309c3_0768_11ec_bc8b_80c5f20e49e9row10_col4 {\n",
       "            background:  yellow;\n",
       "        }    #T_ed3309c3_0768_11ec_bc8b_80c5f20e49e9row10_col5 {\n",
       "            background:  yellow;\n",
       "        }</style><table id=\"T_ed3309c3_0768_11ec_bc8b_80c5f20e49e9\" ><thead>    <tr>        <th class=\"blank level0\" ></th>        <th class=\"col_heading level0 col0\" >MAE</th>        <th class=\"col_heading level0 col1\" >MSE</th>        <th class=\"col_heading level0 col2\" >RMSE</th>        <th class=\"col_heading level0 col3\" >R2</th>        <th class=\"col_heading level0 col4\" >RMSLE</th>        <th class=\"col_heading level0 col5\" >MAPE</th>    </tr></thead><tbody>\n",
       "                <tr>\n",
       "                        <th id=\"T_ed3309c3_0768_11ec_bc8b_80c5f20e49e9level0_row0\" class=\"row_heading level0 row0\" >0</th>\n",
       "                        <td id=\"T_ed3309c3_0768_11ec_bc8b_80c5f20e49e9row0_col0\" class=\"data row0 col0\" >802.4375</td>\n",
       "                        <td id=\"T_ed3309c3_0768_11ec_bc8b_80c5f20e49e9row0_col1\" class=\"data row0 col1\" >5131378.0000</td>\n",
       "                        <td id=\"T_ed3309c3_0768_11ec_bc8b_80c5f20e49e9row0_col2\" class=\"data row0 col2\" >2265.2544</td>\n",
       "                        <td id=\"T_ed3309c3_0768_11ec_bc8b_80c5f20e49e9row0_col3\" class=\"data row0 col3\" >0.9603</td>\n",
       "                        <td id=\"T_ed3309c3_0768_11ec_bc8b_80c5f20e49e9row0_col4\" class=\"data row0 col4\" >0.0767</td>\n",
       "                        <td id=\"T_ed3309c3_0768_11ec_bc8b_80c5f20e49e9row0_col5\" class=\"data row0 col5\" >0.0562</td>\n",
       "            </tr>\n",
       "            <tr>\n",
       "                        <th id=\"T_ed3309c3_0768_11ec_bc8b_80c5f20e49e9level0_row1\" class=\"row_heading level0 row1\" >1</th>\n",
       "                        <td id=\"T_ed3309c3_0768_11ec_bc8b_80c5f20e49e9row1_col0\" class=\"data row1 col0\" >668.6154</td>\n",
       "                        <td id=\"T_ed3309c3_0768_11ec_bc8b_80c5f20e49e9row1_col1\" class=\"data row1 col1\" >1941837.2500</td>\n",
       "                        <td id=\"T_ed3309c3_0768_11ec_bc8b_80c5f20e49e9row1_col2\" class=\"data row1 col2\" >1393.4982</td>\n",
       "                        <td id=\"T_ed3309c3_0768_11ec_bc8b_80c5f20e49e9row1_col3\" class=\"data row1 col3\" >0.9805</td>\n",
       "                        <td id=\"T_ed3309c3_0768_11ec_bc8b_80c5f20e49e9row1_col4\" class=\"data row1 col4\" >0.0712</td>\n",
       "                        <td id=\"T_ed3309c3_0768_11ec_bc8b_80c5f20e49e9row1_col5\" class=\"data row1 col5\" >0.0531</td>\n",
       "            </tr>\n",
       "            <tr>\n",
       "                        <th id=\"T_ed3309c3_0768_11ec_bc8b_80c5f20e49e9level0_row2\" class=\"row_heading level0 row2\" >2</th>\n",
       "                        <td id=\"T_ed3309c3_0768_11ec_bc8b_80c5f20e49e9row2_col0\" class=\"data row2 col0\" >709.7005</td>\n",
       "                        <td id=\"T_ed3309c3_0768_11ec_bc8b_80c5f20e49e9row2_col1\" class=\"data row2 col1\" >1888138.0000</td>\n",
       "                        <td id=\"T_ed3309c3_0768_11ec_bc8b_80c5f20e49e9row2_col2\" class=\"data row2 col2\" >1374.0953</td>\n",
       "                        <td id=\"T_ed3309c3_0768_11ec_bc8b_80c5f20e49e9row2_col3\" class=\"data row2 col3\" >0.9834</td>\n",
       "                        <td id=\"T_ed3309c3_0768_11ec_bc8b_80c5f20e49e9row2_col4\" class=\"data row2 col4\" >0.0829</td>\n",
       "                        <td id=\"T_ed3309c3_0768_11ec_bc8b_80c5f20e49e9row2_col5\" class=\"data row2 col5\" >0.0589</td>\n",
       "            </tr>\n",
       "            <tr>\n",
       "                        <th id=\"T_ed3309c3_0768_11ec_bc8b_80c5f20e49e9level0_row3\" class=\"row_heading level0 row3\" >3</th>\n",
       "                        <td id=\"T_ed3309c3_0768_11ec_bc8b_80c5f20e49e9row3_col0\" class=\"data row3 col0\" >638.4428</td>\n",
       "                        <td id=\"T_ed3309c3_0768_11ec_bc8b_80c5f20e49e9row3_col1\" class=\"data row3 col1\" >1804860.6250</td>\n",
       "                        <td id=\"T_ed3309c3_0768_11ec_bc8b_80c5f20e49e9row3_col2\" class=\"data row3 col2\" >1343.4510</td>\n",
       "                        <td id=\"T_ed3309c3_0768_11ec_bc8b_80c5f20e49e9row3_col3\" class=\"data row3 col3\" >0.9811</td>\n",
       "                        <td id=\"T_ed3309c3_0768_11ec_bc8b_80c5f20e49e9row3_col4\" class=\"data row3 col4\" >0.0691</td>\n",
       "                        <td id=\"T_ed3309c3_0768_11ec_bc8b_80c5f20e49e9row3_col5\" class=\"data row3 col5\" >0.0513</td>\n",
       "            </tr>\n",
       "            <tr>\n",
       "                        <th id=\"T_ed3309c3_0768_11ec_bc8b_80c5f20e49e9level0_row4\" class=\"row_heading level0 row4\" >4</th>\n",
       "                        <td id=\"T_ed3309c3_0768_11ec_bc8b_80c5f20e49e9row4_col0\" class=\"data row4 col0\" >756.9039</td>\n",
       "                        <td id=\"T_ed3309c3_0768_11ec_bc8b_80c5f20e49e9row4_col1\" class=\"data row4 col1\" >2702988.5000</td>\n",
       "                        <td id=\"T_ed3309c3_0768_11ec_bc8b_80c5f20e49e9row4_col2\" class=\"data row4 col2\" >1644.0768</td>\n",
       "                        <td id=\"T_ed3309c3_0768_11ec_bc8b_80c5f20e49e9row4_col3\" class=\"data row4 col3\" >0.9780</td>\n",
       "                        <td id=\"T_ed3309c3_0768_11ec_bc8b_80c5f20e49e9row4_col4\" class=\"data row4 col4\" >0.0738</td>\n",
       "                        <td id=\"T_ed3309c3_0768_11ec_bc8b_80c5f20e49e9row4_col5\" class=\"data row4 col5\" >0.0564</td>\n",
       "            </tr>\n",
       "            <tr>\n",
       "                        <th id=\"T_ed3309c3_0768_11ec_bc8b_80c5f20e49e9level0_row5\" class=\"row_heading level0 row5\" >5</th>\n",
       "                        <td id=\"T_ed3309c3_0768_11ec_bc8b_80c5f20e49e9row5_col0\" class=\"data row5 col0\" >678.0309</td>\n",
       "                        <td id=\"T_ed3309c3_0768_11ec_bc8b_80c5f20e49e9row5_col1\" class=\"data row5 col1\" >1687906.7500</td>\n",
       "                        <td id=\"T_ed3309c3_0768_11ec_bc8b_80c5f20e49e9row5_col2\" class=\"data row5 col2\" >1299.1947</td>\n",
       "                        <td id=\"T_ed3309c3_0768_11ec_bc8b_80c5f20e49e9row5_col3\" class=\"data row5 col3\" >0.9824</td>\n",
       "                        <td id=\"T_ed3309c3_0768_11ec_bc8b_80c5f20e49e9row5_col4\" class=\"data row5 col4\" >0.0693</td>\n",
       "                        <td id=\"T_ed3309c3_0768_11ec_bc8b_80c5f20e49e9row5_col5\" class=\"data row5 col5\" >0.0523</td>\n",
       "            </tr>\n",
       "            <tr>\n",
       "                        <th id=\"T_ed3309c3_0768_11ec_bc8b_80c5f20e49e9level0_row6\" class=\"row_heading level0 row6\" >6</th>\n",
       "                        <td id=\"T_ed3309c3_0768_11ec_bc8b_80c5f20e49e9row6_col0\" class=\"data row6 col0\" >595.1127</td>\n",
       "                        <td id=\"T_ed3309c3_0768_11ec_bc8b_80c5f20e49e9row6_col1\" class=\"data row6 col1\" >945172.6250</td>\n",
       "                        <td id=\"T_ed3309c3_0768_11ec_bc8b_80c5f20e49e9row6_col2\" class=\"data row6 col2\" >972.1999</td>\n",
       "                        <td id=\"T_ed3309c3_0768_11ec_bc8b_80c5f20e49e9row6_col3\" class=\"data row6 col3\" >0.9890</td>\n",
       "                        <td id=\"T_ed3309c3_0768_11ec_bc8b_80c5f20e49e9row6_col4\" class=\"data row6 col4\" >0.0673</td>\n",
       "                        <td id=\"T_ed3309c3_0768_11ec_bc8b_80c5f20e49e9row6_col5\" class=\"data row6 col5\" >0.0510</td>\n",
       "            </tr>\n",
       "            <tr>\n",
       "                        <th id=\"T_ed3309c3_0768_11ec_bc8b_80c5f20e49e9level0_row7\" class=\"row_heading level0 row7\" >7</th>\n",
       "                        <td id=\"T_ed3309c3_0768_11ec_bc8b_80c5f20e49e9row7_col0\" class=\"data row7 col0\" >637.3273</td>\n",
       "                        <td id=\"T_ed3309c3_0768_11ec_bc8b_80c5f20e49e9row7_col1\" class=\"data row7 col1\" >1516786.2500</td>\n",
       "                        <td id=\"T_ed3309c3_0768_11ec_bc8b_80c5f20e49e9row7_col2\" class=\"data row7 col2\" >1231.5787</td>\n",
       "                        <td id=\"T_ed3309c3_0768_11ec_bc8b_80c5f20e49e9row7_col3\" class=\"data row7 col3\" >0.9838</td>\n",
       "                        <td id=\"T_ed3309c3_0768_11ec_bc8b_80c5f20e49e9row7_col4\" class=\"data row7 col4\" >0.0699</td>\n",
       "                        <td id=\"T_ed3309c3_0768_11ec_bc8b_80c5f20e49e9row7_col5\" class=\"data row7 col5\" >0.0511</td>\n",
       "            </tr>\n",
       "            <tr>\n",
       "                        <th id=\"T_ed3309c3_0768_11ec_bc8b_80c5f20e49e9level0_row8\" class=\"row_heading level0 row8\" >8</th>\n",
       "                        <td id=\"T_ed3309c3_0768_11ec_bc8b_80c5f20e49e9row8_col0\" class=\"data row8 col0\" >647.3177</td>\n",
       "                        <td id=\"T_ed3309c3_0768_11ec_bc8b_80c5f20e49e9row8_col1\" class=\"data row8 col1\" >1261205.1250</td>\n",
       "                        <td id=\"T_ed3309c3_0768_11ec_bc8b_80c5f20e49e9row8_col2\" class=\"data row8 col2\" >1123.0339</td>\n",
       "                        <td id=\"T_ed3309c3_0768_11ec_bc8b_80c5f20e49e9row8_col3\" class=\"data row8 col3\" >0.9838</td>\n",
       "                        <td id=\"T_ed3309c3_0768_11ec_bc8b_80c5f20e49e9row8_col4\" class=\"data row8 col4\" >0.0727</td>\n",
       "                        <td id=\"T_ed3309c3_0768_11ec_bc8b_80c5f20e49e9row8_col5\" class=\"data row8 col5\" >0.0531</td>\n",
       "            </tr>\n",
       "            <tr>\n",
       "                        <th id=\"T_ed3309c3_0768_11ec_bc8b_80c5f20e49e9level0_row9\" class=\"row_heading level0 row9\" >9</th>\n",
       "                        <td id=\"T_ed3309c3_0768_11ec_bc8b_80c5f20e49e9row9_col0\" class=\"data row9 col0\" >633.3726</td>\n",
       "                        <td id=\"T_ed3309c3_0768_11ec_bc8b_80c5f20e49e9row9_col1\" class=\"data row9 col1\" >1300349.2500</td>\n",
       "                        <td id=\"T_ed3309c3_0768_11ec_bc8b_80c5f20e49e9row9_col2\" class=\"data row9 col2\" >1140.3286</td>\n",
       "                        <td id=\"T_ed3309c3_0768_11ec_bc8b_80c5f20e49e9row9_col3\" class=\"data row9 col3\" >0.9860</td>\n",
       "                        <td id=\"T_ed3309c3_0768_11ec_bc8b_80c5f20e49e9row9_col4\" class=\"data row9 col4\" >0.0690</td>\n",
       "                        <td id=\"T_ed3309c3_0768_11ec_bc8b_80c5f20e49e9row9_col5\" class=\"data row9 col5\" >0.0525</td>\n",
       "            </tr>\n",
       "            <tr>\n",
       "                        <th id=\"T_ed3309c3_0768_11ec_bc8b_80c5f20e49e9level0_row10\" class=\"row_heading level0 row10\" >Mean</th>\n",
       "                        <td id=\"T_ed3309c3_0768_11ec_bc8b_80c5f20e49e9row10_col0\" class=\"data row10 col0\" >676.7261</td>\n",
       "                        <td id=\"T_ed3309c3_0768_11ec_bc8b_80c5f20e49e9row10_col1\" class=\"data row10 col1\" >2018062.2375</td>\n",
       "                        <td id=\"T_ed3309c3_0768_11ec_bc8b_80c5f20e49e9row10_col2\" class=\"data row10 col2\" >1378.6712</td>\n",
       "                        <td id=\"T_ed3309c3_0768_11ec_bc8b_80c5f20e49e9row10_col3\" class=\"data row10 col3\" >0.9808</td>\n",
       "                        <td id=\"T_ed3309c3_0768_11ec_bc8b_80c5f20e49e9row10_col4\" class=\"data row10 col4\" >0.0722</td>\n",
       "                        <td id=\"T_ed3309c3_0768_11ec_bc8b_80c5f20e49e9row10_col5\" class=\"data row10 col5\" >0.0536</td>\n",
       "            </tr>\n",
       "            <tr>\n",
       "                        <th id=\"T_ed3309c3_0768_11ec_bc8b_80c5f20e49e9level0_row11\" class=\"row_heading level0 row11\" >SD</th>\n",
       "                        <td id=\"T_ed3309c3_0768_11ec_bc8b_80c5f20e49e9row11_col0\" class=\"data row11 col0\" >59.8412</td>\n",
       "                        <td id=\"T_ed3309c3_0768_11ec_bc8b_80c5f20e49e9row11_col1\" class=\"data row11 col1\" >1132665.9485</td>\n",
       "                        <td id=\"T_ed3309c3_0768_11ec_bc8b_80c5f20e49e9row11_col2\" class=\"data row11 col2\" >342.5318</td>\n",
       "                        <td id=\"T_ed3309c3_0768_11ec_bc8b_80c5f20e49e9row11_col3\" class=\"data row11 col3\" >0.0074</td>\n",
       "                        <td id=\"T_ed3309c3_0768_11ec_bc8b_80c5f20e49e9row11_col4\" class=\"data row11 col4\" >0.0044</td>\n",
       "                        <td id=\"T_ed3309c3_0768_11ec_bc8b_80c5f20e49e9row11_col5\" class=\"data row11 col5\" >0.0025</td>\n",
       "            </tr>\n",
       "    </tbody></table>"
      ],
      "text/plain": [
       "<pandas.io.formats.style.Styler at 0x25f05394490>"
      ]
     },
     "metadata": {},
     "output_type": "display_data"
    }
   ],
   "source": [
    "xgboost_tuned = tune_model(xgboost)"
   ]
  },
  {
   "cell_type": "code",
   "execution_count": 23,
   "metadata": {},
   "outputs": [
    {
     "name": "stdout",
     "output_type": "stream",
     "text": [
      "XGBRegressor(base_score=0.5, booster='gbtree', colsample_bylevel=1,\n",
      "             colsample_bynode=1, colsample_bytree=1, gamma=0, gpu_id=-1,\n",
      "             importance_type='gain', interaction_constraints='',\n",
      "             learning_rate=0.2, max_delta_step=0, max_depth=5,\n",
      "             min_child_weight=1, missing=nan, monotone_constraints='()',\n",
      "             n_estimators=300, n_jobs=-1, num_parallel_tree=1,\n",
      "             objective='reg:squarederror', random_state=1002, reg_alpha=5,\n",
      "             reg_lambda=4, scale_pos_weight=35.800000000000004, subsample=0.5,\n",
      "             tree_method='auto', validate_parameters=1, verbosity=0)\n"
     ]
    }
   ],
   "source": [
    "print(xgboost_tuned)"
   ]
  },
  {
   "cell_type": "code",
   "execution_count": 21,
   "metadata": {},
   "outputs": [
    {
     "data": {
      "text/html": [
       "<style  type=\"text/css\" >\n",
       "    #T_72ab3fee_076a_11ec_825c_80c5f20e49e9row10_col0 {\n",
       "            background:  yellow;\n",
       "        }    #T_72ab3fee_076a_11ec_825c_80c5f20e49e9row10_col1 {\n",
       "            background:  yellow;\n",
       "        }    #T_72ab3fee_076a_11ec_825c_80c5f20e49e9row10_col2 {\n",
       "            background:  yellow;\n",
       "        }    #T_72ab3fee_076a_11ec_825c_80c5f20e49e9row10_col3 {\n",
       "            background:  yellow;\n",
       "        }    #T_72ab3fee_076a_11ec_825c_80c5f20e49e9row10_col4 {\n",
       "            background:  yellow;\n",
       "        }    #T_72ab3fee_076a_11ec_825c_80c5f20e49e9row10_col5 {\n",
       "            background:  yellow;\n",
       "        }</style><table id=\"T_72ab3fee_076a_11ec_825c_80c5f20e49e9\" ><thead>    <tr>        <th class=\"blank level0\" ></th>        <th class=\"col_heading level0 col0\" >MAE</th>        <th class=\"col_heading level0 col1\" >MSE</th>        <th class=\"col_heading level0 col2\" >RMSE</th>        <th class=\"col_heading level0 col3\" >R2</th>        <th class=\"col_heading level0 col4\" >RMSLE</th>        <th class=\"col_heading level0 col5\" >MAPE</th>    </tr></thead><tbody>\n",
       "                <tr>\n",
       "                        <th id=\"T_72ab3fee_076a_11ec_825c_80c5f20e49e9level0_row0\" class=\"row_heading level0 row0\" >0</th>\n",
       "                        <td id=\"T_72ab3fee_076a_11ec_825c_80c5f20e49e9row0_col0\" class=\"data row0 col0\" >1018.7607</td>\n",
       "                        <td id=\"T_72ab3fee_076a_11ec_825c_80c5f20e49e9row0_col1\" class=\"data row0 col1\" >7127706.3423</td>\n",
       "                        <td id=\"T_72ab3fee_076a_11ec_825c_80c5f20e49e9row0_col2\" class=\"data row0 col2\" >2669.7765</td>\n",
       "                        <td id=\"T_72ab3fee_076a_11ec_825c_80c5f20e49e9row0_col3\" class=\"data row0 col3\" >0.9448</td>\n",
       "                        <td id=\"T_72ab3fee_076a_11ec_825c_80c5f20e49e9row0_col4\" class=\"data row0 col4\" >0.1002</td>\n",
       "                        <td id=\"T_72ab3fee_076a_11ec_825c_80c5f20e49e9row0_col5\" class=\"data row0 col5\" >0.0705</td>\n",
       "            </tr>\n",
       "            <tr>\n",
       "                        <th id=\"T_72ab3fee_076a_11ec_825c_80c5f20e49e9level0_row1\" class=\"row_heading level0 row1\" >1</th>\n",
       "                        <td id=\"T_72ab3fee_076a_11ec_825c_80c5f20e49e9row1_col0\" class=\"data row1 col0\" >999.3399</td>\n",
       "                        <td id=\"T_72ab3fee_076a_11ec_825c_80c5f20e49e9row1_col1\" class=\"data row1 col1\" >5980274.7014</td>\n",
       "                        <td id=\"T_72ab3fee_076a_11ec_825c_80c5f20e49e9row1_col2\" class=\"data row1 col2\" >2445.4600</td>\n",
       "                        <td id=\"T_72ab3fee_076a_11ec_825c_80c5f20e49e9row1_col3\" class=\"data row1 col3\" >0.9399</td>\n",
       "                        <td id=\"T_72ab3fee_076a_11ec_825c_80c5f20e49e9row1_col4\" class=\"data row1 col4\" >0.0973</td>\n",
       "                        <td id=\"T_72ab3fee_076a_11ec_825c_80c5f20e49e9row1_col5\" class=\"data row1 col5\" >0.0729</td>\n",
       "            </tr>\n",
       "            <tr>\n",
       "                        <th id=\"T_72ab3fee_076a_11ec_825c_80c5f20e49e9level0_row2\" class=\"row_heading level0 row2\" >2</th>\n",
       "                        <td id=\"T_72ab3fee_076a_11ec_825c_80c5f20e49e9row2_col0\" class=\"data row2 col0\" >988.1693</td>\n",
       "                        <td id=\"T_72ab3fee_076a_11ec_825c_80c5f20e49e9row2_col1\" class=\"data row2 col1\" >4109663.0699</td>\n",
       "                        <td id=\"T_72ab3fee_076a_11ec_825c_80c5f20e49e9row2_col2\" class=\"data row2 col2\" >2027.2304</td>\n",
       "                        <td id=\"T_72ab3fee_076a_11ec_825c_80c5f20e49e9row2_col3\" class=\"data row2 col3\" >0.9638</td>\n",
       "                        <td id=\"T_72ab3fee_076a_11ec_825c_80c5f20e49e9row2_col4\" class=\"data row2 col4\" >0.1022</td>\n",
       "                        <td id=\"T_72ab3fee_076a_11ec_825c_80c5f20e49e9row2_col5\" class=\"data row2 col5\" >0.0769</td>\n",
       "            </tr>\n",
       "            <tr>\n",
       "                        <th id=\"T_72ab3fee_076a_11ec_825c_80c5f20e49e9level0_row3\" class=\"row_heading level0 row3\" >3</th>\n",
       "                        <td id=\"T_72ab3fee_076a_11ec_825c_80c5f20e49e9row3_col0\" class=\"data row3 col0\" >865.4620</td>\n",
       "                        <td id=\"T_72ab3fee_076a_11ec_825c_80c5f20e49e9row3_col1\" class=\"data row3 col1\" >2944962.7450</td>\n",
       "                        <td id=\"T_72ab3fee_076a_11ec_825c_80c5f20e49e9row3_col2\" class=\"data row3 col2\" >1716.0894</td>\n",
       "                        <td id=\"T_72ab3fee_076a_11ec_825c_80c5f20e49e9row3_col3\" class=\"data row3 col3\" >0.9692</td>\n",
       "                        <td id=\"T_72ab3fee_076a_11ec_825c_80c5f20e49e9row3_col4\" class=\"data row3 col4\" >0.0952</td>\n",
       "                        <td id=\"T_72ab3fee_076a_11ec_825c_80c5f20e49e9row3_col5\" class=\"data row3 col5\" >0.0734</td>\n",
       "            </tr>\n",
       "            <tr>\n",
       "                        <th id=\"T_72ab3fee_076a_11ec_825c_80c5f20e49e9level0_row4\" class=\"row_heading level0 row4\" >4</th>\n",
       "                        <td id=\"T_72ab3fee_076a_11ec_825c_80c5f20e49e9row4_col0\" class=\"data row4 col0\" >1061.2475</td>\n",
       "                        <td id=\"T_72ab3fee_076a_11ec_825c_80c5f20e49e9row4_col1\" class=\"data row4 col1\" >6915095.4509</td>\n",
       "                        <td id=\"T_72ab3fee_076a_11ec_825c_80c5f20e49e9row4_col2\" class=\"data row4 col2\" >2629.6569</td>\n",
       "                        <td id=\"T_72ab3fee_076a_11ec_825c_80c5f20e49e9row4_col3\" class=\"data row4 col3\" >0.9437</td>\n",
       "                        <td id=\"T_72ab3fee_076a_11ec_825c_80c5f20e49e9row4_col4\" class=\"data row4 col4\" >0.1052</td>\n",
       "                        <td id=\"T_72ab3fee_076a_11ec_825c_80c5f20e49e9row4_col5\" class=\"data row4 col5\" >0.0768</td>\n",
       "            </tr>\n",
       "            <tr>\n",
       "                        <th id=\"T_72ab3fee_076a_11ec_825c_80c5f20e49e9level0_row5\" class=\"row_heading level0 row5\" >5</th>\n",
       "                        <td id=\"T_72ab3fee_076a_11ec_825c_80c5f20e49e9row5_col0\" class=\"data row5 col0\" >941.2912</td>\n",
       "                        <td id=\"T_72ab3fee_076a_11ec_825c_80c5f20e49e9row5_col1\" class=\"data row5 col1\" >3808985.4193</td>\n",
       "                        <td id=\"T_72ab3fee_076a_11ec_825c_80c5f20e49e9row5_col2\" class=\"data row5 col2\" >1951.6622</td>\n",
       "                        <td id=\"T_72ab3fee_076a_11ec_825c_80c5f20e49e9row5_col3\" class=\"data row5 col3\" >0.9602</td>\n",
       "                        <td id=\"T_72ab3fee_076a_11ec_825c_80c5f20e49e9row5_col4\" class=\"data row5 col4\" >0.0990</td>\n",
       "                        <td id=\"T_72ab3fee_076a_11ec_825c_80c5f20e49e9row5_col5\" class=\"data row5 col5\" >0.0724</td>\n",
       "            </tr>\n",
       "            <tr>\n",
       "                        <th id=\"T_72ab3fee_076a_11ec_825c_80c5f20e49e9level0_row6\" class=\"row_heading level0 row6\" >6</th>\n",
       "                        <td id=\"T_72ab3fee_076a_11ec_825c_80c5f20e49e9row6_col0\" class=\"data row6 col0\" >862.5548</td>\n",
       "                        <td id=\"T_72ab3fee_076a_11ec_825c_80c5f20e49e9row6_col1\" class=\"data row6 col1\" >2147778.1420</td>\n",
       "                        <td id=\"T_72ab3fee_076a_11ec_825c_80c5f20e49e9row6_col2\" class=\"data row6 col2\" >1465.5300</td>\n",
       "                        <td id=\"T_72ab3fee_076a_11ec_825c_80c5f20e49e9row6_col3\" class=\"data row6 col3\" >0.9750</td>\n",
       "                        <td id=\"T_72ab3fee_076a_11ec_825c_80c5f20e49e9row6_col4\" class=\"data row6 col4\" >0.1039</td>\n",
       "                        <td id=\"T_72ab3fee_076a_11ec_825c_80c5f20e49e9row6_col5\" class=\"data row6 col5\" >0.0770</td>\n",
       "            </tr>\n",
       "            <tr>\n",
       "                        <th id=\"T_72ab3fee_076a_11ec_825c_80c5f20e49e9level0_row7\" class=\"row_heading level0 row7\" >7</th>\n",
       "                        <td id=\"T_72ab3fee_076a_11ec_825c_80c5f20e49e9row7_col0\" class=\"data row7 col0\" >921.4694</td>\n",
       "                        <td id=\"T_72ab3fee_076a_11ec_825c_80c5f20e49e9row7_col1\" class=\"data row7 col1\" >4004610.5369</td>\n",
       "                        <td id=\"T_72ab3fee_076a_11ec_825c_80c5f20e49e9row7_col2\" class=\"data row7 col2\" >2001.1523</td>\n",
       "                        <td id=\"T_72ab3fee_076a_11ec_825c_80c5f20e49e9row7_col3\" class=\"data row7 col3\" >0.9572</td>\n",
       "                        <td id=\"T_72ab3fee_076a_11ec_825c_80c5f20e49e9row7_col4\" class=\"data row7 col4\" >0.0911</td>\n",
       "                        <td id=\"T_72ab3fee_076a_11ec_825c_80c5f20e49e9row7_col5\" class=\"data row7 col5\" >0.0689</td>\n",
       "            </tr>\n",
       "            <tr>\n",
       "                        <th id=\"T_72ab3fee_076a_11ec_825c_80c5f20e49e9level0_row8\" class=\"row_heading level0 row8\" >8</th>\n",
       "                        <td id=\"T_72ab3fee_076a_11ec_825c_80c5f20e49e9row8_col0\" class=\"data row8 col0\" >845.6771</td>\n",
       "                        <td id=\"T_72ab3fee_076a_11ec_825c_80c5f20e49e9row8_col1\" class=\"data row8 col1\" >2296875.4837</td>\n",
       "                        <td id=\"T_72ab3fee_076a_11ec_825c_80c5f20e49e9row8_col2\" class=\"data row8 col2\" >1515.5446</td>\n",
       "                        <td id=\"T_72ab3fee_076a_11ec_825c_80c5f20e49e9row8_col3\" class=\"data row8 col3\" >0.9705</td>\n",
       "                        <td id=\"T_72ab3fee_076a_11ec_825c_80c5f20e49e9row8_col4\" class=\"data row8 col4\" >0.0993</td>\n",
       "                        <td id=\"T_72ab3fee_076a_11ec_825c_80c5f20e49e9row8_col5\" class=\"data row8 col5\" >0.0725</td>\n",
       "            </tr>\n",
       "            <tr>\n",
       "                        <th id=\"T_72ab3fee_076a_11ec_825c_80c5f20e49e9level0_row9\" class=\"row_heading level0 row9\" >9</th>\n",
       "                        <td id=\"T_72ab3fee_076a_11ec_825c_80c5f20e49e9row9_col0\" class=\"data row9 col0\" >873.0084</td>\n",
       "                        <td id=\"T_72ab3fee_076a_11ec_825c_80c5f20e49e9row9_col1\" class=\"data row9 col1\" >2706319.9744</td>\n",
       "                        <td id=\"T_72ab3fee_076a_11ec_825c_80c5f20e49e9row9_col2\" class=\"data row9 col2\" >1645.0897</td>\n",
       "                        <td id=\"T_72ab3fee_076a_11ec_825c_80c5f20e49e9row9_col3\" class=\"data row9 col3\" >0.9708</td>\n",
       "                        <td id=\"T_72ab3fee_076a_11ec_825c_80c5f20e49e9row9_col4\" class=\"data row9 col4\" >0.0962</td>\n",
       "                        <td id=\"T_72ab3fee_076a_11ec_825c_80c5f20e49e9row9_col5\" class=\"data row9 col5\" >0.0701</td>\n",
       "            </tr>\n",
       "            <tr>\n",
       "                        <th id=\"T_72ab3fee_076a_11ec_825c_80c5f20e49e9level0_row10\" class=\"row_heading level0 row10\" >Mean</th>\n",
       "                        <td id=\"T_72ab3fee_076a_11ec_825c_80c5f20e49e9row10_col0\" class=\"data row10 col0\" >937.6980</td>\n",
       "                        <td id=\"T_72ab3fee_076a_11ec_825c_80c5f20e49e9row10_col1\" class=\"data row10 col1\" >4204227.1866</td>\n",
       "                        <td id=\"T_72ab3fee_076a_11ec_825c_80c5f20e49e9row10_col2\" class=\"data row10 col2\" >2006.7192</td>\n",
       "                        <td id=\"T_72ab3fee_076a_11ec_825c_80c5f20e49e9row10_col3\" class=\"data row10 col3\" >0.9595</td>\n",
       "                        <td id=\"T_72ab3fee_076a_11ec_825c_80c5f20e49e9row10_col4\" class=\"data row10 col4\" >0.0990</td>\n",
       "                        <td id=\"T_72ab3fee_076a_11ec_825c_80c5f20e49e9row10_col5\" class=\"data row10 col5\" >0.0731</td>\n",
       "            </tr>\n",
       "            <tr>\n",
       "                        <th id=\"T_72ab3fee_076a_11ec_825c_80c5f20e49e9level0_row11\" class=\"row_heading level0 row11\" >SD</th>\n",
       "                        <td id=\"T_72ab3fee_076a_11ec_825c_80c5f20e49e9row11_col0\" class=\"data row11 col0\" >72.0945</td>\n",
       "                        <td id=\"T_72ab3fee_076a_11ec_825c_80c5f20e49e9row11_col1\" class=\"data row11 col1\" >1759299.1011</td>\n",
       "                        <td id=\"T_72ab3fee_076a_11ec_825c_80c5f20e49e9row11_col2\" class=\"data row11 col2\" >421.0763</td>\n",
       "                        <td id=\"T_72ab3fee_076a_11ec_825c_80c5f20e49e9row11_col3\" class=\"data row11 col3\" >0.0121</td>\n",
       "                        <td id=\"T_72ab3fee_076a_11ec_825c_80c5f20e49e9row11_col4\" class=\"data row11 col4\" >0.0040</td>\n",
       "                        <td id=\"T_72ab3fee_076a_11ec_825c_80c5f20e49e9row11_col5\" class=\"data row11 col5\" >0.0028</td>\n",
       "            </tr>\n",
       "    </tbody></table>"
      ],
      "text/plain": [
       "<pandas.io.formats.style.Styler at 0x25f05344fa0>"
      ]
     },
     "metadata": {},
     "output_type": "display_data"
    }
   ],
   "source": [
    "et_tuned = tune_model(et)"
   ]
  },
  {
   "cell_type": "code",
   "execution_count": 22,
   "metadata": {},
   "outputs": [
    {
     "name": "stdout",
     "output_type": "stream",
     "text": [
      "ExtraTreesRegressor(bootstrap=False, ccp_alpha=0.0, criterion='mae',\n",
      "                    max_depth=9, max_features=1.0, max_leaf_nodes=None,\n",
      "                    max_samples=None, min_impurity_decrease=0.05,\n",
      "                    min_impurity_split=None, min_samples_leaf=5,\n",
      "                    min_samples_split=9, min_weight_fraction_leaf=0.0,\n",
      "                    n_estimators=20, n_jobs=-1, oob_score=False,\n",
      "                    random_state=1002, verbose=0, warm_start=False)\n"
     ]
    }
   ],
   "source": [
    "print(et_tuned)"
   ]
  },
  {
   "cell_type": "code",
   "execution_count": 24,
   "metadata": {},
   "outputs": [
    {
     "data": {
      "text/html": [
       "<style  type=\"text/css\" >\n",
       "    #T_0f697696_076c_11ec_8291_80c5f20e49e9row10_col0 {\n",
       "            background:  yellow;\n",
       "        }    #T_0f697696_076c_11ec_8291_80c5f20e49e9row10_col1 {\n",
       "            background:  yellow;\n",
       "        }    #T_0f697696_076c_11ec_8291_80c5f20e49e9row10_col2 {\n",
       "            background:  yellow;\n",
       "        }    #T_0f697696_076c_11ec_8291_80c5f20e49e9row10_col3 {\n",
       "            background:  yellow;\n",
       "        }    #T_0f697696_076c_11ec_8291_80c5f20e49e9row10_col4 {\n",
       "            background:  yellow;\n",
       "        }    #T_0f697696_076c_11ec_8291_80c5f20e49e9row10_col5 {\n",
       "            background:  yellow;\n",
       "        }</style><table id=\"T_0f697696_076c_11ec_8291_80c5f20e49e9\" ><thead>    <tr>        <th class=\"blank level0\" ></th>        <th class=\"col_heading level0 col0\" >MAE</th>        <th class=\"col_heading level0 col1\" >MSE</th>        <th class=\"col_heading level0 col2\" >RMSE</th>        <th class=\"col_heading level0 col3\" >R2</th>        <th class=\"col_heading level0 col4\" >RMSLE</th>        <th class=\"col_heading level0 col5\" >MAPE</th>    </tr></thead><tbody>\n",
       "                <tr>\n",
       "                        <th id=\"T_0f697696_076c_11ec_8291_80c5f20e49e9level0_row0\" class=\"row_heading level0 row0\" >0</th>\n",
       "                        <td id=\"T_0f697696_076c_11ec_8291_80c5f20e49e9row0_col0\" class=\"data row0 col0\" >1319.2005</td>\n",
       "                        <td id=\"T_0f697696_076c_11ec_8291_80c5f20e49e9row0_col1\" class=\"data row0 col1\" >11489298.5591</td>\n",
       "                        <td id=\"T_0f697696_076c_11ec_8291_80c5f20e49e9row0_col2\" class=\"data row0 col2\" >3389.5868</td>\n",
       "                        <td id=\"T_0f697696_076c_11ec_8291_80c5f20e49e9row0_col3\" class=\"data row0 col3\" >0.9111</td>\n",
       "                        <td id=\"T_0f697696_076c_11ec_8291_80c5f20e49e9row0_col4\" class=\"data row0 col4\" >0.1249</td>\n",
       "                        <td id=\"T_0f697696_076c_11ec_8291_80c5f20e49e9row0_col5\" class=\"data row0 col5\" >0.0870</td>\n",
       "            </tr>\n",
       "            <tr>\n",
       "                        <th id=\"T_0f697696_076c_11ec_8291_80c5f20e49e9level0_row1\" class=\"row_heading level0 row1\" >1</th>\n",
       "                        <td id=\"T_0f697696_076c_11ec_8291_80c5f20e49e9row1_col0\" class=\"data row1 col0\" >1225.7581</td>\n",
       "                        <td id=\"T_0f697696_076c_11ec_8291_80c5f20e49e9row1_col1\" class=\"data row1 col1\" >6290095.6905</td>\n",
       "                        <td id=\"T_0f697696_076c_11ec_8291_80c5f20e49e9row1_col2\" class=\"data row1 col2\" >2508.0063</td>\n",
       "                        <td id=\"T_0f697696_076c_11ec_8291_80c5f20e49e9row1_col3\" class=\"data row1 col3\" >0.9368</td>\n",
       "                        <td id=\"T_0f697696_076c_11ec_8291_80c5f20e49e9row1_col4\" class=\"data row1 col4\" >0.1197</td>\n",
       "                        <td id=\"T_0f697696_076c_11ec_8291_80c5f20e49e9row1_col5\" class=\"data row1 col5\" >0.0917</td>\n",
       "            </tr>\n",
       "            <tr>\n",
       "                        <th id=\"T_0f697696_076c_11ec_8291_80c5f20e49e9level0_row2\" class=\"row_heading level0 row2\" >2</th>\n",
       "                        <td id=\"T_0f697696_076c_11ec_8291_80c5f20e49e9row2_col0\" class=\"data row2 col0\" >1234.8899</td>\n",
       "                        <td id=\"T_0f697696_076c_11ec_8291_80c5f20e49e9row2_col1\" class=\"data row2 col1\" >7040683.8151</td>\n",
       "                        <td id=\"T_0f697696_076c_11ec_8291_80c5f20e49e9row2_col2\" class=\"data row2 col2\" >2653.4287</td>\n",
       "                        <td id=\"T_0f697696_076c_11ec_8291_80c5f20e49e9row2_col3\" class=\"data row2 col3\" >0.9380</td>\n",
       "                        <td id=\"T_0f697696_076c_11ec_8291_80c5f20e49e9row2_col4\" class=\"data row2 col4\" >0.1300</td>\n",
       "                        <td id=\"T_0f697696_076c_11ec_8291_80c5f20e49e9row2_col5\" class=\"data row2 col5\" >0.0937</td>\n",
       "            </tr>\n",
       "            <tr>\n",
       "                        <th id=\"T_0f697696_076c_11ec_8291_80c5f20e49e9level0_row3\" class=\"row_heading level0 row3\" >3</th>\n",
       "                        <td id=\"T_0f697696_076c_11ec_8291_80c5f20e49e9row3_col0\" class=\"data row3 col0\" >917.5987</td>\n",
       "                        <td id=\"T_0f697696_076c_11ec_8291_80c5f20e49e9row3_col1\" class=\"data row3 col1\" >2835799.9735</td>\n",
       "                        <td id=\"T_0f697696_076c_11ec_8291_80c5f20e49e9row3_col2\" class=\"data row3 col2\" >1683.9834</td>\n",
       "                        <td id=\"T_0f697696_076c_11ec_8291_80c5f20e49e9row3_col3\" class=\"data row3 col3\" >0.9704</td>\n",
       "                        <td id=\"T_0f697696_076c_11ec_8291_80c5f20e49e9row3_col4\" class=\"data row3 col4\" >0.1105</td>\n",
       "                        <td id=\"T_0f697696_076c_11ec_8291_80c5f20e49e9row3_col5\" class=\"data row3 col5\" >0.0826</td>\n",
       "            </tr>\n",
       "            <tr>\n",
       "                        <th id=\"T_0f697696_076c_11ec_8291_80c5f20e49e9level0_row4\" class=\"row_heading level0 row4\" >4</th>\n",
       "                        <td id=\"T_0f697696_076c_11ec_8291_80c5f20e49e9row4_col0\" class=\"data row4 col0\" >1194.4034</td>\n",
       "                        <td id=\"T_0f697696_076c_11ec_8291_80c5f20e49e9row4_col1\" class=\"data row4 col1\" >7463441.3056</td>\n",
       "                        <td id=\"T_0f697696_076c_11ec_8291_80c5f20e49e9row4_col2\" class=\"data row4 col2\" >2731.9300</td>\n",
       "                        <td id=\"T_0f697696_076c_11ec_8291_80c5f20e49e9row4_col3\" class=\"data row4 col3\" >0.9392</td>\n",
       "                        <td id=\"T_0f697696_076c_11ec_8291_80c5f20e49e9row4_col4\" class=\"data row4 col4\" >0.1200</td>\n",
       "                        <td id=\"T_0f697696_076c_11ec_8291_80c5f20e49e9row4_col5\" class=\"data row4 col5\" >0.0893</td>\n",
       "            </tr>\n",
       "            <tr>\n",
       "                        <th id=\"T_0f697696_076c_11ec_8291_80c5f20e49e9level0_row5\" class=\"row_heading level0 row5\" >5</th>\n",
       "                        <td id=\"T_0f697696_076c_11ec_8291_80c5f20e49e9row5_col0\" class=\"data row5 col0\" >1133.1099</td>\n",
       "                        <td id=\"T_0f697696_076c_11ec_8291_80c5f20e49e9row5_col1\" class=\"data row5 col1\" >5540116.5333</td>\n",
       "                        <td id=\"T_0f697696_076c_11ec_8291_80c5f20e49e9row5_col2\" class=\"data row5 col2\" >2353.7452</td>\n",
       "                        <td id=\"T_0f697696_076c_11ec_8291_80c5f20e49e9row5_col3\" class=\"data row5 col3\" >0.9422</td>\n",
       "                        <td id=\"T_0f697696_076c_11ec_8291_80c5f20e49e9row5_col4\" class=\"data row5 col4\" >0.1223</td>\n",
       "                        <td id=\"T_0f697696_076c_11ec_8291_80c5f20e49e9row5_col5\" class=\"data row5 col5\" >0.0879</td>\n",
       "            </tr>\n",
       "            <tr>\n",
       "                        <th id=\"T_0f697696_076c_11ec_8291_80c5f20e49e9level0_row6\" class=\"row_heading level0 row6\" >6</th>\n",
       "                        <td id=\"T_0f697696_076c_11ec_8291_80c5f20e49e9row6_col0\" class=\"data row6 col0\" >1060.8283</td>\n",
       "                        <td id=\"T_0f697696_076c_11ec_8291_80c5f20e49e9row6_col1\" class=\"data row6 col1\" >3647025.5812</td>\n",
       "                        <td id=\"T_0f697696_076c_11ec_8291_80c5f20e49e9row6_col2\" class=\"data row6 col2\" >1909.7187</td>\n",
       "                        <td id=\"T_0f697696_076c_11ec_8291_80c5f20e49e9row6_col3\" class=\"data row6 col3\" >0.9576</td>\n",
       "                        <td id=\"T_0f697696_076c_11ec_8291_80c5f20e49e9row6_col4\" class=\"data row6 col4\" >0.1298</td>\n",
       "                        <td id=\"T_0f697696_076c_11ec_8291_80c5f20e49e9row6_col5\" class=\"data row6 col5\" >0.0919</td>\n",
       "            </tr>\n",
       "            <tr>\n",
       "                        <th id=\"T_0f697696_076c_11ec_8291_80c5f20e49e9level0_row7\" class=\"row_heading level0 row7\" >7</th>\n",
       "                        <td id=\"T_0f697696_076c_11ec_8291_80c5f20e49e9row7_col0\" class=\"data row7 col0\" >1102.6536</td>\n",
       "                        <td id=\"T_0f697696_076c_11ec_8291_80c5f20e49e9row7_col1\" class=\"data row7 col1\" >6602859.2864</td>\n",
       "                        <td id=\"T_0f697696_076c_11ec_8291_80c5f20e49e9row7_col2\" class=\"data row7 col2\" >2569.6029</td>\n",
       "                        <td id=\"T_0f697696_076c_11ec_8291_80c5f20e49e9row7_col3\" class=\"data row7 col3\" >0.9294</td>\n",
       "                        <td id=\"T_0f697696_076c_11ec_8291_80c5f20e49e9row7_col4\" class=\"data row7 col4\" >0.1185</td>\n",
       "                        <td id=\"T_0f697696_076c_11ec_8291_80c5f20e49e9row7_col5\" class=\"data row7 col5\" >0.0829</td>\n",
       "            </tr>\n",
       "            <tr>\n",
       "                        <th id=\"T_0f697696_076c_11ec_8291_80c5f20e49e9level0_row8\" class=\"row_heading level0 row8\" >8</th>\n",
       "                        <td id=\"T_0f697696_076c_11ec_8291_80c5f20e49e9row8_col0\" class=\"data row8 col0\" >1035.8444</td>\n",
       "                        <td id=\"T_0f697696_076c_11ec_8291_80c5f20e49e9row8_col1\" class=\"data row8 col1\" >3896329.1853</td>\n",
       "                        <td id=\"T_0f697696_076c_11ec_8291_80c5f20e49e9row8_col2\" class=\"data row8 col2\" >1973.9122</td>\n",
       "                        <td id=\"T_0f697696_076c_11ec_8291_80c5f20e49e9row8_col3\" class=\"data row8 col3\" >0.9499</td>\n",
       "                        <td id=\"T_0f697696_076c_11ec_8291_80c5f20e49e9row8_col4\" class=\"data row8 col4\" >0.1178</td>\n",
       "                        <td id=\"T_0f697696_076c_11ec_8291_80c5f20e49e9row8_col5\" class=\"data row8 col5\" >0.0833</td>\n",
       "            </tr>\n",
       "            <tr>\n",
       "                        <th id=\"T_0f697696_076c_11ec_8291_80c5f20e49e9level0_row9\" class=\"row_heading level0 row9\" >9</th>\n",
       "                        <td id=\"T_0f697696_076c_11ec_8291_80c5f20e49e9row9_col0\" class=\"data row9 col0\" >1064.4133</td>\n",
       "                        <td id=\"T_0f697696_076c_11ec_8291_80c5f20e49e9row9_col1\" class=\"data row9 col1\" >4329585.9375</td>\n",
       "                        <td id=\"T_0f697696_076c_11ec_8291_80c5f20e49e9row9_col2\" class=\"data row9 col2\" >2080.7657</td>\n",
       "                        <td id=\"T_0f697696_076c_11ec_8291_80c5f20e49e9row9_col3\" class=\"data row9 col3\" >0.9533</td>\n",
       "                        <td id=\"T_0f697696_076c_11ec_8291_80c5f20e49e9row9_col4\" class=\"data row9 col4\" >0.1172</td>\n",
       "                        <td id=\"T_0f697696_076c_11ec_8291_80c5f20e49e9row9_col5\" class=\"data row9 col5\" >0.0845</td>\n",
       "            </tr>\n",
       "            <tr>\n",
       "                        <th id=\"T_0f697696_076c_11ec_8291_80c5f20e49e9level0_row10\" class=\"row_heading level0 row10\" >Mean</th>\n",
       "                        <td id=\"T_0f697696_076c_11ec_8291_80c5f20e49e9row10_col0\" class=\"data row10 col0\" >1128.8700</td>\n",
       "                        <td id=\"T_0f697696_076c_11ec_8291_80c5f20e49e9row10_col1\" class=\"data row10 col1\" >5913523.5868</td>\n",
       "                        <td id=\"T_0f697696_076c_11ec_8291_80c5f20e49e9row10_col2\" class=\"data row10 col2\" >2385.4680</td>\n",
       "                        <td id=\"T_0f697696_076c_11ec_8291_80c5f20e49e9row10_col3\" class=\"data row10 col3\" >0.9428</td>\n",
       "                        <td id=\"T_0f697696_076c_11ec_8291_80c5f20e49e9row10_col4\" class=\"data row10 col4\" >0.1211</td>\n",
       "                        <td id=\"T_0f697696_076c_11ec_8291_80c5f20e49e9row10_col5\" class=\"data row10 col5\" >0.0875</td>\n",
       "            </tr>\n",
       "            <tr>\n",
       "                        <th id=\"T_0f697696_076c_11ec_8291_80c5f20e49e9level0_row11\" class=\"row_heading level0 row11\" >SD</th>\n",
       "                        <td id=\"T_0f697696_076c_11ec_8291_80c5f20e49e9row11_col0\" class=\"data row11 col0\" >111.3224</td>\n",
       "                        <td id=\"T_0f697696_076c_11ec_8291_80c5f20e49e9row11_col1\" class=\"data row11 col1\" >2381296.9643</td>\n",
       "                        <td id=\"T_0f697696_076c_11ec_8291_80c5f20e49e9row11_col2\" class=\"data row11 col2\" >472.2987</td>\n",
       "                        <td id=\"T_0f697696_076c_11ec_8291_80c5f20e49e9row11_col3\" class=\"data row11 col3\" >0.0155</td>\n",
       "                        <td id=\"T_0f697696_076c_11ec_8291_80c5f20e49e9row11_col4\" class=\"data row11 col4\" >0.0057</td>\n",
       "                        <td id=\"T_0f697696_076c_11ec_8291_80c5f20e49e9row11_col5\" class=\"data row11 col5\" >0.0039</td>\n",
       "            </tr>\n",
       "    </tbody></table>"
      ],
      "text/plain": [
       "<pandas.io.formats.style.Styler at 0x25f1fcd8310>"
      ]
     },
     "metadata": {},
     "output_type": "display_data"
    }
   ],
   "source": [
    "rf_tuned = tune_model(rf)"
   ]
  },
  {
   "cell_type": "code",
   "execution_count": 25,
   "metadata": {},
   "outputs": [
    {
     "name": "stdout",
     "output_type": "stream",
     "text": [
      "RandomForestRegressor(bootstrap=False, ccp_alpha=0.0, criterion='mae',\n",
      "                      max_depth=9, max_features=1.0, max_leaf_nodes=None,\n",
      "                      max_samples=None, min_impurity_decrease=0.05,\n",
      "                      min_impurity_split=None, min_samples_leaf=5,\n",
      "                      min_samples_split=9, min_weight_fraction_leaf=0.0,\n",
      "                      n_estimators=20, n_jobs=-1, oob_score=False,\n",
      "                      random_state=1002, verbose=0, warm_start=False)\n"
     ]
    }
   ],
   "source": [
    "print(rf_tuned)"
   ]
  },
  {
   "cell_type": "code",
   "execution_count": 26,
   "metadata": {},
   "outputs": [],
   "source": [
    "import numpy as np\n",
    "lgbm_params = {'num_leaves': np.arange(10,200,10),\n",
    "               'max_depth': [int(x) for x in np.linspace(10, 110, num = 11)],\n",
    "               'learning_rate': np.arange(0.1,1,0.1)\n",
    "              }"
   ]
  },
  {
   "cell_type": "code",
   "execution_count": 27,
   "metadata": {},
   "outputs": [
    {
     "data": {
      "text/html": [
       "<style  type=\"text/css\" >\n",
       "    #T_3b45837b_076c_11ec_ae85_80c5f20e49e9row10_col0 {\n",
       "            background:  yellow;\n",
       "        }    #T_3b45837b_076c_11ec_ae85_80c5f20e49e9row10_col1 {\n",
       "            background:  yellow;\n",
       "        }    #T_3b45837b_076c_11ec_ae85_80c5f20e49e9row10_col2 {\n",
       "            background:  yellow;\n",
       "        }    #T_3b45837b_076c_11ec_ae85_80c5f20e49e9row10_col3 {\n",
       "            background:  yellow;\n",
       "        }    #T_3b45837b_076c_11ec_ae85_80c5f20e49e9row10_col4 {\n",
       "            background:  yellow;\n",
       "        }    #T_3b45837b_076c_11ec_ae85_80c5f20e49e9row10_col5 {\n",
       "            background:  yellow;\n",
       "        }</style><table id=\"T_3b45837b_076c_11ec_ae85_80c5f20e49e9\" ><thead>    <tr>        <th class=\"blank level0\" ></th>        <th class=\"col_heading level0 col0\" >MAE</th>        <th class=\"col_heading level0 col1\" >MSE</th>        <th class=\"col_heading level0 col2\" >RMSE</th>        <th class=\"col_heading level0 col3\" >R2</th>        <th class=\"col_heading level0 col4\" >RMSLE</th>        <th class=\"col_heading level0 col5\" >MAPE</th>    </tr></thead><tbody>\n",
       "                <tr>\n",
       "                        <th id=\"T_3b45837b_076c_11ec_ae85_80c5f20e49e9level0_row0\" class=\"row_heading level0 row0\" >0</th>\n",
       "                        <td id=\"T_3b45837b_076c_11ec_ae85_80c5f20e49e9row0_col0\" class=\"data row0 col0\" >816.2894</td>\n",
       "                        <td id=\"T_3b45837b_076c_11ec_ae85_80c5f20e49e9row0_col1\" class=\"data row0 col1\" >8831475.8163</td>\n",
       "                        <td id=\"T_3b45837b_076c_11ec_ae85_80c5f20e49e9row0_col2\" class=\"data row0 col2\" >2971.7799</td>\n",
       "                        <td id=\"T_3b45837b_076c_11ec_ae85_80c5f20e49e9row0_col3\" class=\"data row0 col3\" >0.9316</td>\n",
       "                        <td id=\"T_3b45837b_076c_11ec_ae85_80c5f20e49e9row0_col4\" class=\"data row0 col4\" >0.0874</td>\n",
       "                        <td id=\"T_3b45837b_076c_11ec_ae85_80c5f20e49e9row0_col5\" class=\"data row0 col5\" >0.0544</td>\n",
       "            </tr>\n",
       "            <tr>\n",
       "                        <th id=\"T_3b45837b_076c_11ec_ae85_80c5f20e49e9level0_row1\" class=\"row_heading level0 row1\" >1</th>\n",
       "                        <td id=\"T_3b45837b_076c_11ec_ae85_80c5f20e49e9row1_col0\" class=\"data row1 col0\" >728.0740</td>\n",
       "                        <td id=\"T_3b45837b_076c_11ec_ae85_80c5f20e49e9row1_col1\" class=\"data row1 col1\" >2122825.9975</td>\n",
       "                        <td id=\"T_3b45837b_076c_11ec_ae85_80c5f20e49e9row1_col2\" class=\"data row1 col2\" >1456.9921</td>\n",
       "                        <td id=\"T_3b45837b_076c_11ec_ae85_80c5f20e49e9row1_col3\" class=\"data row1 col3\" >0.9787</td>\n",
       "                        <td id=\"T_3b45837b_076c_11ec_ae85_80c5f20e49e9row1_col4\" class=\"data row1 col4\" >0.0793</td>\n",
       "                        <td id=\"T_3b45837b_076c_11ec_ae85_80c5f20e49e9row1_col5\" class=\"data row1 col5\" >0.0592</td>\n",
       "            </tr>\n",
       "            <tr>\n",
       "                        <th id=\"T_3b45837b_076c_11ec_ae85_80c5f20e49e9level0_row2\" class=\"row_heading level0 row2\" >2</th>\n",
       "                        <td id=\"T_3b45837b_076c_11ec_ae85_80c5f20e49e9row2_col0\" class=\"data row2 col0\" >854.5776</td>\n",
       "                        <td id=\"T_3b45837b_076c_11ec_ae85_80c5f20e49e9row2_col1\" class=\"data row2 col1\" >2723295.3235</td>\n",
       "                        <td id=\"T_3b45837b_076c_11ec_ae85_80c5f20e49e9row2_col2\" class=\"data row2 col2\" >1650.2410</td>\n",
       "                        <td id=\"T_3b45837b_076c_11ec_ae85_80c5f20e49e9row2_col3\" class=\"data row2 col3\" >0.9760</td>\n",
       "                        <td id=\"T_3b45837b_076c_11ec_ae85_80c5f20e49e9row2_col4\" class=\"data row2 col4\" >0.0910</td>\n",
       "                        <td id=\"T_3b45837b_076c_11ec_ae85_80c5f20e49e9row2_col5\" class=\"data row2 col5\" >0.0671</td>\n",
       "            </tr>\n",
       "            <tr>\n",
       "                        <th id=\"T_3b45837b_076c_11ec_ae85_80c5f20e49e9level0_row3\" class=\"row_heading level0 row3\" >3</th>\n",
       "                        <td id=\"T_3b45837b_076c_11ec_ae85_80c5f20e49e9row3_col0\" class=\"data row3 col0\" >693.8473</td>\n",
       "                        <td id=\"T_3b45837b_076c_11ec_ae85_80c5f20e49e9row3_col1\" class=\"data row3 col1\" >1711627.8388</td>\n",
       "                        <td id=\"T_3b45837b_076c_11ec_ae85_80c5f20e49e9row3_col2\" class=\"data row3 col2\" >1308.2920</td>\n",
       "                        <td id=\"T_3b45837b_076c_11ec_ae85_80c5f20e49e9row3_col3\" class=\"data row3 col3\" >0.9821</td>\n",
       "                        <td id=\"T_3b45837b_076c_11ec_ae85_80c5f20e49e9row3_col4\" class=\"data row3 col4\" >0.0752</td>\n",
       "                        <td id=\"T_3b45837b_076c_11ec_ae85_80c5f20e49e9row3_col5\" class=\"data row3 col5\" >0.0561</td>\n",
       "            </tr>\n",
       "            <tr>\n",
       "                        <th id=\"T_3b45837b_076c_11ec_ae85_80c5f20e49e9level0_row4\" class=\"row_heading level0 row4\" >4</th>\n",
       "                        <td id=\"T_3b45837b_076c_11ec_ae85_80c5f20e49e9row4_col0\" class=\"data row4 col0\" >821.6138</td>\n",
       "                        <td id=\"T_3b45837b_076c_11ec_ae85_80c5f20e49e9row4_col1\" class=\"data row4 col1\" >3773753.3950</td>\n",
       "                        <td id=\"T_3b45837b_076c_11ec_ae85_80c5f20e49e9row4_col2\" class=\"data row4 col2\" >1942.6151</td>\n",
       "                        <td id=\"T_3b45837b_076c_11ec_ae85_80c5f20e49e9row4_col3\" class=\"data row4 col3\" >0.9692</td>\n",
       "                        <td id=\"T_3b45837b_076c_11ec_ae85_80c5f20e49e9row4_col4\" class=\"data row4 col4\" >0.0827</td>\n",
       "                        <td id=\"T_3b45837b_076c_11ec_ae85_80c5f20e49e9row4_col5\" class=\"data row4 col5\" >0.0584</td>\n",
       "            </tr>\n",
       "            <tr>\n",
       "                        <th id=\"T_3b45837b_076c_11ec_ae85_80c5f20e49e9level0_row5\" class=\"row_heading level0 row5\" >5</th>\n",
       "                        <td id=\"T_3b45837b_076c_11ec_ae85_80c5f20e49e9row5_col0\" class=\"data row5 col0\" >765.1471</td>\n",
       "                        <td id=\"T_3b45837b_076c_11ec_ae85_80c5f20e49e9row5_col1\" class=\"data row5 col1\" >2306610.6698</td>\n",
       "                        <td id=\"T_3b45837b_076c_11ec_ae85_80c5f20e49e9row5_col2\" class=\"data row5 col2\" >1518.7530</td>\n",
       "                        <td id=\"T_3b45837b_076c_11ec_ae85_80c5f20e49e9row5_col3\" class=\"data row5 col3\" >0.9759</td>\n",
       "                        <td id=\"T_3b45837b_076c_11ec_ae85_80c5f20e49e9row5_col4\" class=\"data row5 col4\" >0.0775</td>\n",
       "                        <td id=\"T_3b45837b_076c_11ec_ae85_80c5f20e49e9row5_col5\" class=\"data row5 col5\" >0.0582</td>\n",
       "            </tr>\n",
       "            <tr>\n",
       "                        <th id=\"T_3b45837b_076c_11ec_ae85_80c5f20e49e9level0_row6\" class=\"row_heading level0 row6\" >6</th>\n",
       "                        <td id=\"T_3b45837b_076c_11ec_ae85_80c5f20e49e9row6_col0\" class=\"data row6 col0\" >664.5386</td>\n",
       "                        <td id=\"T_3b45837b_076c_11ec_ae85_80c5f20e49e9row6_col1\" class=\"data row6 col1\" >1448013.7574</td>\n",
       "                        <td id=\"T_3b45837b_076c_11ec_ae85_80c5f20e49e9row6_col2\" class=\"data row6 col2\" >1203.3344</td>\n",
       "                        <td id=\"T_3b45837b_076c_11ec_ae85_80c5f20e49e9row6_col3\" class=\"data row6 col3\" >0.9831</td>\n",
       "                        <td id=\"T_3b45837b_076c_11ec_ae85_80c5f20e49e9row6_col4\" class=\"data row6 col4\" >0.0722</td>\n",
       "                        <td id=\"T_3b45837b_076c_11ec_ae85_80c5f20e49e9row6_col5\" class=\"data row6 col5\" >0.0550</td>\n",
       "            </tr>\n",
       "            <tr>\n",
       "                        <th id=\"T_3b45837b_076c_11ec_ae85_80c5f20e49e9level0_row7\" class=\"row_heading level0 row7\" >7</th>\n",
       "                        <td id=\"T_3b45837b_076c_11ec_ae85_80c5f20e49e9row7_col0\" class=\"data row7 col0\" >665.9127</td>\n",
       "                        <td id=\"T_3b45837b_076c_11ec_ae85_80c5f20e49e9row7_col1\" class=\"data row7 col1\" >1480676.1056</td>\n",
       "                        <td id=\"T_3b45837b_076c_11ec_ae85_80c5f20e49e9row7_col2\" class=\"data row7 col2\" >1216.8304</td>\n",
       "                        <td id=\"T_3b45837b_076c_11ec_ae85_80c5f20e49e9row7_col3\" class=\"data row7 col3\" >0.9842</td>\n",
       "                        <td id=\"T_3b45837b_076c_11ec_ae85_80c5f20e49e9row7_col4\" class=\"data row7 col4\" >0.0718</td>\n",
       "                        <td id=\"T_3b45837b_076c_11ec_ae85_80c5f20e49e9row7_col5\" class=\"data row7 col5\" >0.0546</td>\n",
       "            </tr>\n",
       "            <tr>\n",
       "                        <th id=\"T_3b45837b_076c_11ec_ae85_80c5f20e49e9level0_row8\" class=\"row_heading level0 row8\" >8</th>\n",
       "                        <td id=\"T_3b45837b_076c_11ec_ae85_80c5f20e49e9row8_col0\" class=\"data row8 col0\" >691.0351</td>\n",
       "                        <td id=\"T_3b45837b_076c_11ec_ae85_80c5f20e49e9row8_col1\" class=\"data row8 col1\" >1369656.8416</td>\n",
       "                        <td id=\"T_3b45837b_076c_11ec_ae85_80c5f20e49e9row8_col2\" class=\"data row8 col2\" >1170.3234</td>\n",
       "                        <td id=\"T_3b45837b_076c_11ec_ae85_80c5f20e49e9row8_col3\" class=\"data row8 col3\" >0.9824</td>\n",
       "                        <td id=\"T_3b45837b_076c_11ec_ae85_80c5f20e49e9row8_col4\" class=\"data row8 col4\" >0.0732</td>\n",
       "                        <td id=\"T_3b45837b_076c_11ec_ae85_80c5f20e49e9row8_col5\" class=\"data row8 col5\" >0.0566</td>\n",
       "            </tr>\n",
       "            <tr>\n",
       "                        <th id=\"T_3b45837b_076c_11ec_ae85_80c5f20e49e9level0_row9\" class=\"row_heading level0 row9\" >9</th>\n",
       "                        <td id=\"T_3b45837b_076c_11ec_ae85_80c5f20e49e9row9_col0\" class=\"data row9 col0\" >793.7454</td>\n",
       "                        <td id=\"T_3b45837b_076c_11ec_ae85_80c5f20e49e9row9_col1\" class=\"data row9 col1\" >2300254.9394</td>\n",
       "                        <td id=\"T_3b45837b_076c_11ec_ae85_80c5f20e49e9row9_col2\" class=\"data row9 col2\" >1516.6591</td>\n",
       "                        <td id=\"T_3b45837b_076c_11ec_ae85_80c5f20e49e9row9_col3\" class=\"data row9 col3\" >0.9752</td>\n",
       "                        <td id=\"T_3b45837b_076c_11ec_ae85_80c5f20e49e9row9_col4\" class=\"data row9 col4\" >0.0864</td>\n",
       "                        <td id=\"T_3b45837b_076c_11ec_ae85_80c5f20e49e9row9_col5\" class=\"data row9 col5\" >0.0628</td>\n",
       "            </tr>\n",
       "            <tr>\n",
       "                        <th id=\"T_3b45837b_076c_11ec_ae85_80c5f20e49e9level0_row10\" class=\"row_heading level0 row10\" >Mean</th>\n",
       "                        <td id=\"T_3b45837b_076c_11ec_ae85_80c5f20e49e9row10_col0\" class=\"data row10 col0\" >749.4781</td>\n",
       "                        <td id=\"T_3b45837b_076c_11ec_ae85_80c5f20e49e9row10_col1\" class=\"data row10 col1\" >2806819.0685</td>\n",
       "                        <td id=\"T_3b45837b_076c_11ec_ae85_80c5f20e49e9row10_col2\" class=\"data row10 col2\" >1595.5820</td>\n",
       "                        <td id=\"T_3b45837b_076c_11ec_ae85_80c5f20e49e9row10_col3\" class=\"data row10 col3\" >0.9738</td>\n",
       "                        <td id=\"T_3b45837b_076c_11ec_ae85_80c5f20e49e9row10_col4\" class=\"data row10 col4\" >0.0797</td>\n",
       "                        <td id=\"T_3b45837b_076c_11ec_ae85_80c5f20e49e9row10_col5\" class=\"data row10 col5\" >0.0582</td>\n",
       "            </tr>\n",
       "            <tr>\n",
       "                        <th id=\"T_3b45837b_076c_11ec_ae85_80c5f20e49e9level0_row11\" class=\"row_heading level0 row11\" >SD</th>\n",
       "                        <td id=\"T_3b45837b_076c_11ec_ae85_80c5f20e49e9row11_col0\" class=\"data row11 col0\" >66.3963</td>\n",
       "                        <td id=\"T_3b45837b_076c_11ec_ae85_80c5f20e49e9row11_col1\" class=\"data row11 col1\" >2123275.1928</td>\n",
       "                        <td id=\"T_3b45837b_076c_11ec_ae85_80c5f20e49e9row11_col2\" class=\"data row11 col2\" >510.8200</td>\n",
       "                        <td id=\"T_3b45837b_076c_11ec_ae85_80c5f20e49e9row11_col3\" class=\"data row11 col3\" >0.0147</td>\n",
       "                        <td id=\"T_3b45837b_076c_11ec_ae85_80c5f20e49e9row11_col4\" class=\"data row11 col4\" >0.0065</td>\n",
       "                        <td id=\"T_3b45837b_076c_11ec_ae85_80c5f20e49e9row11_col5\" class=\"data row11 col5\" >0.0038</td>\n",
       "            </tr>\n",
       "    </tbody></table>"
      ],
      "text/plain": [
       "<pandas.io.formats.style.Styler at 0x25f05344fa0>"
      ]
     },
     "metadata": {},
     "output_type": "display_data"
    }
   ],
   "source": [
    "lightgbm_tuned = tune_model(lightgbm, custom_grid = lgbm_params)"
   ]
  },
  {
   "cell_type": "code",
   "execution_count": 28,
   "metadata": {},
   "outputs": [
    {
     "name": "stdout",
     "output_type": "stream",
     "text": [
      "LGBMRegressor(boosting_type='gbdt', class_weight=None, colsample_bytree=1.0,\n",
      "              importance_type='split', learning_rate=0.30000000000000004,\n",
      "              max_depth=20, min_child_samples=20, min_child_weight=0.001,\n",
      "              min_split_gain=0.0, n_estimators=100, n_jobs=-1, num_leaves=130,\n",
      "              objective=None, random_state=1002, reg_alpha=0.0, reg_lambda=0.0,\n",
      "              silent=True, subsample=1.0, subsample_for_bin=200000,\n",
      "              subsample_freq=0)\n"
     ]
    }
   ],
   "source": [
    "print(lightgbm_tuned)"
   ]
  },
  {
   "cell_type": "markdown",
   "metadata": {},
   "source": [
    "### Residual Plot"
   ]
  },
  {
   "cell_type": "code",
   "execution_count": 29,
   "metadata": {},
   "outputs": [
    {
     "data": {
      "image/png": "[encoded data removed]",
      "text/plain": [
       "<Figure size 576x396 with 2 Axes>"
      ]
     },
     "metadata": {},
     "output_type": "display_data"
    }
   ],
   "source": [
    "plot_model(xgboost_tuned)"
   ]
  },
  {
   "cell_type": "markdown",
   "metadata": {},
   "source": [
    "### Prediction Error Plot"
   ]
  },
  {
   "cell_type": "code",
   "execution_count": 30,
   "metadata": {},
   "outputs": [
    {
     "data": {
      "image/png": "[encoded data removed]",
      "text/plain": [
       "<Figure size 576x396 with 1 Axes>"
      ]
     },
     "metadata": {},
     "output_type": "display_data"
    }
   ],
   "source": [
    "plot_model(xgboost_tuned, plot = 'error')"
   ]
  },
  {
   "cell_type": "markdown",
   "metadata": {},
   "source": [
    "### Feature Importance Plot"
   ]
  },
  {
   "cell_type": "code",
   "execution_count": 31,
   "metadata": {},
   "outputs": [
    {
     "data": {
      "image/png": "[encoded data removed]",
      "text/plain": [
       "<Figure size 800x500 with 1 Axes>"
      ]
     },
     "metadata": {},
     "output_type": "display_data"
    }
   ],
   "source": [
    "plot_model(xgboost_tuned, plot='feature')"
   ]
  },
  {
   "cell_type": "markdown",
   "metadata": {},
   "source": [
    "______________"
   ]
  },
  {
   "cell_type": "markdown",
   "metadata": {},
   "source": [
    "### Predict"
   ]
  },
  {
   "cell_type": "code",
   "execution_count": 32,
   "metadata": {},
   "outputs": [
    {
     "data": {
      "text/html": [
       "<style  type=\"text/css\" >\n",
       "</style><table id=\"T_848b0da0_076c_11ec_a0a3_80c5f20e49e9\" ><thead>    <tr>        <th class=\"blank level0\" ></th>        <th class=\"col_heading level0 col0\" >Model</th>        <th class=\"col_heading level0 col1\" >MAE</th>        <th class=\"col_heading level0 col2\" >MSE</th>        <th class=\"col_heading level0 col3\" >RMSE</th>        <th class=\"col_heading level0 col4\" >R2</th>        <th class=\"col_heading level0 col5\" >RMSLE</th>        <th class=\"col_heading level0 col6\" >MAPE</th>    </tr></thead><tbody>\n",
       "                <tr>\n",
       "                        <th id=\"T_848b0da0_076c_11ec_a0a3_80c5f20e49e9level0_row0\" class=\"row_heading level0 row0\" >0</th>\n",
       "                        <td id=\"T_848b0da0_076c_11ec_a0a3_80c5f20e49e9row0_col0\" class=\"data row0 col0\" >Extreme Gradient Boosting</td>\n",
       "                        <td id=\"T_848b0da0_076c_11ec_a0a3_80c5f20e49e9row0_col1\" class=\"data row0 col1\" >660.9804</td>\n",
       "                        <td id=\"T_848b0da0_076c_11ec_a0a3_80c5f20e49e9row0_col2\" class=\"data row0 col2\" >1649619.1250</td>\n",
       "                        <td id=\"T_848b0da0_076c_11ec_a0a3_80c5f20e49e9row0_col3\" class=\"data row0 col3\" >1284.3750</td>\n",
       "                        <td id=\"T_848b0da0_076c_11ec_a0a3_80c5f20e49e9row0_col4\" class=\"data row0 col4\" >0.9851</td>\n",
       "                        <td id=\"T_848b0da0_076c_11ec_a0a3_80c5f20e49e9row0_col5\" class=\"data row0 col5\" >0.0686</td>\n",
       "                        <td id=\"T_848b0da0_076c_11ec_a0a3_80c5f20e49e9row0_col6\" class=\"data row0 col6\" >0.0515</td>\n",
       "            </tr>\n",
       "    </tbody></table>"
      ],
      "text/plain": [
       "<pandas.io.formats.style.Styler at 0x25f053232b0>"
      ]
     },
     "metadata": {},
     "output_type": "display_data"
    },
    {
     "data": {
      "text/html": [
       "<div>\n",
       "<style scoped>\n",
       "    .dataframe tbody tr th:only-of-type {\n",
       "        vertical-align: middle;\n",
       "    }\n",
       "\n",
       "    .dataframe tbody tr th {\n",
       "        vertical-align: top;\n",
       "    }\n",
       "\n",
       "    .dataframe thead th {\n",
       "        text-align: right;\n",
       "    }\n",
       "</style>\n",
       "<table border=\"1\" class=\"dataframe\">\n",
       "  <thead>\n",
       "    <tr style=\"text-align: right;\">\n",
       "      <th></th>\n",
       "      <th>Carat Weight</th>\n",
       "      <th>Cut_Fair</th>\n",
       "      <th>Cut_Good</th>\n",
       "      <th>Cut_Ideal</th>\n",
       "      <th>Cut_Signature-Ideal</th>\n",
       "      <th>Cut_Very Good</th>\n",
       "      <th>Color_D</th>\n",
       "      <th>Color_E</th>\n",
       "      <th>Color_F</th>\n",
       "      <th>Color_G</th>\n",
       "      <th>...</th>\n",
       "      <th>Polish_G</th>\n",
       "      <th>Polish_ID</th>\n",
       "      <th>Polish_VG</th>\n",
       "      <th>Symmetry_EX</th>\n",
       "      <th>Symmetry_G</th>\n",
       "      <th>Symmetry_ID</th>\n",
       "      <th>Symmetry_VG</th>\n",
       "      <th>Report_GIA</th>\n",
       "      <th>Price</th>\n",
       "      <th>Label</th>\n",
       "    </tr>\n",
       "  </thead>\n",
       "  <tbody>\n",
       "    <tr>\n",
       "      <th>0</th>\n",
       "      <td>1.07</td>\n",
       "      <td>0.0</td>\n",
       "      <td>0.0</td>\n",
       "      <td>0.0</td>\n",
       "      <td>0.0</td>\n",
       "      <td>1.0</td>\n",
       "      <td>0.0</td>\n",
       "      <td>0.0</td>\n",
       "      <td>1.0</td>\n",
       "      <td>0.0</td>\n",
       "      <td>...</td>\n",
       "      <td>1.0</td>\n",
       "      <td>0.0</td>\n",
       "      <td>0.0</td>\n",
       "      <td>0.0</td>\n",
       "      <td>1.0</td>\n",
       "      <td>0.0</td>\n",
       "      <td>0.0</td>\n",
       "      <td>1.0</td>\n",
       "      <td>11019.0</td>\n",
       "      <td>10224.225586</td>\n",
       "    </tr>\n",
       "    <tr>\n",
       "      <th>1</th>\n",
       "      <td>1.80</td>\n",
       "      <td>0.0</td>\n",
       "      <td>0.0</td>\n",
       "      <td>0.0</td>\n",
       "      <td>0.0</td>\n",
       "      <td>1.0</td>\n",
       "      <td>0.0</td>\n",
       "      <td>0.0</td>\n",
       "      <td>0.0</td>\n",
       "      <td>0.0</td>\n",
       "      <td>...</td>\n",
       "      <td>0.0</td>\n",
       "      <td>0.0</td>\n",
       "      <td>1.0</td>\n",
       "      <td>0.0</td>\n",
       "      <td>0.0</td>\n",
       "      <td>0.0</td>\n",
       "      <td>1.0</td>\n",
       "      <td>1.0</td>\n",
       "      <td>16195.0</td>\n",
       "      <td>18267.029297</td>\n",
       "    </tr>\n",
       "    <tr>\n",
       "      <th>2</th>\n",
       "      <td>2.01</td>\n",
       "      <td>0.0</td>\n",
       "      <td>0.0</td>\n",
       "      <td>0.0</td>\n",
       "      <td>0.0</td>\n",
       "      <td>1.0</td>\n",
       "      <td>0.0</td>\n",
       "      <td>0.0</td>\n",
       "      <td>0.0</td>\n",
       "      <td>1.0</td>\n",
       "      <td>...</td>\n",
       "      <td>0.0</td>\n",
       "      <td>0.0</td>\n",
       "      <td>0.0</td>\n",
       "      <td>0.0</td>\n",
       "      <td>0.0</td>\n",
       "      <td>0.0</td>\n",
       "      <td>1.0</td>\n",
       "      <td>1.0</td>\n",
       "      <td>23652.0</td>\n",
       "      <td>25220.621094</td>\n",
       "    </tr>\n",
       "    <tr>\n",
       "      <th>3</th>\n",
       "      <td>1.03</td>\n",
       "      <td>0.0</td>\n",
       "      <td>1.0</td>\n",
       "      <td>0.0</td>\n",
       "      <td>0.0</td>\n",
       "      <td>0.0</td>\n",
       "      <td>0.0</td>\n",
       "      <td>1.0</td>\n",
       "      <td>0.0</td>\n",
       "      <td>0.0</td>\n",
       "      <td>...</td>\n",
       "      <td>0.0</td>\n",
       "      <td>0.0</td>\n",
       "      <td>0.0</td>\n",
       "      <td>0.0</td>\n",
       "      <td>0.0</td>\n",
       "      <td>0.0</td>\n",
       "      <td>1.0</td>\n",
       "      <td>1.0</td>\n",
       "      <td>7184.0</td>\n",
       "      <td>7175.066895</td>\n",
       "    </tr>\n",
       "    <tr>\n",
       "      <th>4</th>\n",
       "      <td>1.02</td>\n",
       "      <td>0.0</td>\n",
       "      <td>0.0</td>\n",
       "      <td>1.0</td>\n",
       "      <td>0.0</td>\n",
       "      <td>0.0</td>\n",
       "      <td>0.0</td>\n",
       "      <td>0.0</td>\n",
       "      <td>0.0</td>\n",
       "      <td>0.0</td>\n",
       "      <td>...</td>\n",
       "      <td>0.0</td>\n",
       "      <td>1.0</td>\n",
       "      <td>0.0</td>\n",
       "      <td>0.0</td>\n",
       "      <td>0.0</td>\n",
       "      <td>1.0</td>\n",
       "      <td>0.0</td>\n",
       "      <td>0.0</td>\n",
       "      <td>6613.0</td>\n",
       "      <td>6955.310547</td>\n",
       "    </tr>\n",
       "    <tr>\n",
       "      <th>...</th>\n",
       "      <td>...</td>\n",
       "      <td>...</td>\n",
       "      <td>...</td>\n",
       "      <td>...</td>\n",
       "      <td>...</td>\n",
       "      <td>...</td>\n",
       "      <td>...</td>\n",
       "      <td>...</td>\n",
       "      <td>...</td>\n",
       "      <td>...</td>\n",
       "      <td>...</td>\n",
       "      <td>...</td>\n",
       "      <td>...</td>\n",
       "      <td>...</td>\n",
       "      <td>...</td>\n",
       "      <td>...</td>\n",
       "      <td>...</td>\n",
       "      <td>...</td>\n",
       "      <td>...</td>\n",
       "      <td>...</td>\n",
       "      <td>...</td>\n",
       "    </tr>\n",
       "    <tr>\n",
       "      <th>1616</th>\n",
       "      <td>0.78</td>\n",
       "      <td>0.0</td>\n",
       "      <td>0.0</td>\n",
       "      <td>0.0</td>\n",
       "      <td>0.0</td>\n",
       "      <td>1.0</td>\n",
       "      <td>0.0</td>\n",
       "      <td>0.0</td>\n",
       "      <td>0.0</td>\n",
       "      <td>0.0</td>\n",
       "      <td>...</td>\n",
       "      <td>0.0</td>\n",
       "      <td>1.0</td>\n",
       "      <td>0.0</td>\n",
       "      <td>0.0</td>\n",
       "      <td>0.0</td>\n",
       "      <td>1.0</td>\n",
       "      <td>0.0</td>\n",
       "      <td>0.0</td>\n",
       "      <td>2816.0</td>\n",
       "      <td>2892.939209</td>\n",
       "    </tr>\n",
       "    <tr>\n",
       "      <th>1617</th>\n",
       "      <td>1.00</td>\n",
       "      <td>0.0</td>\n",
       "      <td>1.0</td>\n",
       "      <td>0.0</td>\n",
       "      <td>0.0</td>\n",
       "      <td>0.0</td>\n",
       "      <td>0.0</td>\n",
       "      <td>0.0</td>\n",
       "      <td>0.0</td>\n",
       "      <td>0.0</td>\n",
       "      <td>...</td>\n",
       "      <td>0.0</td>\n",
       "      <td>0.0</td>\n",
       "      <td>1.0</td>\n",
       "      <td>0.0</td>\n",
       "      <td>1.0</td>\n",
       "      <td>0.0</td>\n",
       "      <td>0.0</td>\n",
       "      <td>1.0</td>\n",
       "      <td>4447.0</td>\n",
       "      <td>4511.141602</td>\n",
       "    </tr>\n",
       "    <tr>\n",
       "      <th>1618</th>\n",
       "      <td>2.04</td>\n",
       "      <td>0.0</td>\n",
       "      <td>1.0</td>\n",
       "      <td>0.0</td>\n",
       "      <td>0.0</td>\n",
       "      <td>0.0</td>\n",
       "      <td>0.0</td>\n",
       "      <td>0.0</td>\n",
       "      <td>0.0</td>\n",
       "      <td>0.0</td>\n",
       "      <td>...</td>\n",
       "      <td>1.0</td>\n",
       "      <td>0.0</td>\n",
       "      <td>0.0</td>\n",
       "      <td>0.0</td>\n",
       "      <td>1.0</td>\n",
       "      <td>0.0</td>\n",
       "      <td>0.0</td>\n",
       "      <td>1.0</td>\n",
       "      <td>15511.0</td>\n",
       "      <td>16665.392578</td>\n",
       "    </tr>\n",
       "    <tr>\n",
       "      <th>1619</th>\n",
       "      <td>1.00</td>\n",
       "      <td>0.0</td>\n",
       "      <td>1.0</td>\n",
       "      <td>0.0</td>\n",
       "      <td>0.0</td>\n",
       "      <td>0.0</td>\n",
       "      <td>1.0</td>\n",
       "      <td>0.0</td>\n",
       "      <td>0.0</td>\n",
       "      <td>0.0</td>\n",
       "      <td>...</td>\n",
       "      <td>0.0</td>\n",
       "      <td>0.0</td>\n",
       "      <td>1.0</td>\n",
       "      <td>0.0</td>\n",
       "      <td>1.0</td>\n",
       "      <td>0.0</td>\n",
       "      <td>0.0</td>\n",
       "      <td>1.0</td>\n",
       "      <td>5642.0</td>\n",
       "      <td>5236.820312</td>\n",
       "    </tr>\n",
       "    <tr>\n",
       "      <th>1620</th>\n",
       "      <td>1.00</td>\n",
       "      <td>0.0</td>\n",
       "      <td>1.0</td>\n",
       "      <td>0.0</td>\n",
       "      <td>0.0</td>\n",
       "      <td>0.0</td>\n",
       "      <td>0.0</td>\n",
       "      <td>0.0</td>\n",
       "      <td>0.0</td>\n",
       "      <td>0.0</td>\n",
       "      <td>...</td>\n",
       "      <td>0.0</td>\n",
       "      <td>0.0</td>\n",
       "      <td>1.0</td>\n",
       "      <td>0.0</td>\n",
       "      <td>1.0</td>\n",
       "      <td>0.0</td>\n",
       "      <td>0.0</td>\n",
       "      <td>1.0</td>\n",
       "      <td>4273.0</td>\n",
       "      <td>4025.955811</td>\n",
       "    </tr>\n",
       "  </tbody>\n",
       "</table>\n",
       "<p>1621 rows × 30 columns</p>\n",
       "</div>"
      ],
      "text/plain": [
       "      Carat Weight  Cut_Fair  Cut_Good  Cut_Ideal  Cut_Signature-Ideal  \\\n",
       "0             1.07       0.0       0.0        0.0                  0.0   \n",
       "1             1.80       0.0       0.0        0.0                  0.0   \n",
       "2             2.01       0.0       0.0        0.0                  0.0   \n",
       "3             1.03       0.0       1.0        0.0                  0.0   \n",
       "4             1.02       0.0       0.0        1.0                  0.0   \n",
       "...            ...       ...       ...        ...                  ...   \n",
       "1616          0.78       0.0       0.0        0.0                  0.0   \n",
       "1617          1.00       0.0       1.0        0.0                  0.0   \n",
       "1618          2.04       0.0       1.0        0.0                  0.0   \n",
       "1619          1.00       0.0       1.0        0.0                  0.0   \n",
       "1620          1.00       0.0       1.0        0.0                  0.0   \n",
       "\n",
       "      Cut_Very Good  Color_D  Color_E  Color_F  Color_G  ...  Polish_G  \\\n",
       "0               1.0      0.0      0.0      1.0      0.0  ...       1.0   \n",
       "1               1.0      0.0      0.0      0.0      0.0  ...       0.0   \n",
       "2               1.0      0.0      0.0      0.0      1.0  ...       0.0   \n",
       "3               0.0      0.0      1.0      0.0      0.0  ...       0.0   \n",
       "4               0.0      0.0      0.0      0.0      0.0  ...       0.0   \n",
       "...             ...      ...      ...      ...      ...  ...       ...   \n",
       "1616            1.0      0.0      0.0      0.0      0.0  ...       0.0   \n",
       "1617            0.0      0.0      0.0      0.0      0.0  ...       0.0   \n",
       "1618            0.0      0.0      0.0      0.0      0.0  ...       1.0   \n",
       "1619            0.0      1.0      0.0      0.0      0.0  ...       0.0   \n",
       "1620            0.0      0.0      0.0      0.0      0.0  ...       0.0   \n",
       "\n",
       "      Polish_ID  Polish_VG  Symmetry_EX  Symmetry_G  Symmetry_ID  Symmetry_VG  \\\n",
       "0           0.0        0.0          0.0         1.0          0.0          0.0   \n",
       "1           0.0        1.0          0.0         0.0          0.0          1.0   \n",
       "2           0.0        0.0          0.0         0.0          0.0          1.0   \n",
       "3           0.0        0.0          0.0         0.0          0.0          1.0   \n",
       "4           1.0        0.0          0.0         0.0          1.0          0.0   \n",
       "...         ...        ...          ...         ...          ...          ...   \n",
       "1616        1.0        0.0          0.0         0.0          1.0          0.0   \n",
       "1617        0.0        1.0          0.0         1.0          0.0          0.0   \n",
       "1618        0.0        0.0          0.0         1.0          0.0          0.0   \n",
       "1619        0.0        1.0          0.0         1.0          0.0          0.0   \n",
       "1620        0.0        1.0          0.0         1.0          0.0          0.0   \n",
       "\n",
       "      Report_GIA    Price         Label  \n",
       "0            1.0  11019.0  10224.225586  \n",
       "1            1.0  16195.0  18267.029297  \n",
       "2            1.0  23652.0  25220.621094  \n",
       "3            1.0   7184.0   7175.066895  \n",
       "4            0.0   6613.0   6955.310547  \n",
       "...          ...      ...           ...  \n",
       "1616         0.0   2816.0   2892.939209  \n",
       "1617         1.0   4447.0   4511.141602  \n",
       "1618         1.0  15511.0  16665.392578  \n",
       "1619         1.0   5642.0   5236.820312  \n",
       "1620         1.0   4273.0   4025.955811  \n",
       "\n",
       "[1621 rows x 30 columns]"
      ]
     },
     "execution_count": 32,
     "metadata": {},
     "output_type": "execute_result"
    }
   ],
   "source": [
    "predict_model(xgboost_tuned)"
   ]
  },
  {
   "cell_type": "markdown",
   "metadata": {},
   "source": [
    "### Finalize"
   ]
  },
  {
   "cell_type": "code",
   "execution_count": 33,
   "metadata": {},
   "outputs": [],
   "source": [
    "xgboost_final = finalize_model(xgboost_tuned)"
   ]
  },
  {
   "cell_type": "code",
   "execution_count": 34,
   "metadata": {},
   "outputs": [
    {
     "name": "stdout",
     "output_type": "stream",
     "text": [
      "XGBRegressor(base_score=0.5, booster='gbtree', colsample_bylevel=1,\n",
      "             colsample_bynode=1, colsample_bytree=1, gamma=0, gpu_id=-1,\n",
      "             importance_type='gain', interaction_constraints='',\n",
      "             learning_rate=0.2, max_delta_step=0, max_depth=5,\n",
      "             min_child_weight=1, missing=nan, monotone_constraints='()',\n",
      "             n_estimators=300, n_jobs=-1, num_parallel_tree=1,\n",
      "             objective='reg:squarederror', random_state=1002, reg_alpha=5,\n",
      "             reg_lambda=4, scale_pos_weight=35.800000000000004, subsample=0.5,\n",
      "             tree_method='auto', validate_parameters=1, verbosity=0)\n"
     ]
    }
   ],
   "source": [
    "print(xgboost_final)"
   ]
  },
  {
   "cell_type": "code",
   "execution_count": 35,
   "metadata": {},
   "outputs": [
    {
     "data": {
      "text/html": [
       "<style  type=\"text/css\" >\n",
       "</style><table id=\"T_9dfd3bd3_076c_11ec_b550_80c5f20e49e9\" ><thead>    <tr>        <th class=\"blank level0\" ></th>        <th class=\"col_heading level0 col0\" >Model</th>        <th class=\"col_heading level0 col1\" >MAE</th>        <th class=\"col_heading level0 col2\" >MSE</th>        <th class=\"col_heading level0 col3\" >RMSE</th>        <th class=\"col_heading level0 col4\" >R2</th>        <th class=\"col_heading level0 col5\" >RMSLE</th>        <th class=\"col_heading level0 col6\" >MAPE</th>    </tr></thead><tbody>\n",
       "                <tr>\n",
       "                        <th id=\"T_9dfd3bd3_076c_11ec_b550_80c5f20e49e9level0_row0\" class=\"row_heading level0 row0\" >0</th>\n",
       "                        <td id=\"T_9dfd3bd3_076c_11ec_b550_80c5f20e49e9row0_col0\" class=\"data row0 col0\" >Extreme Gradient Boosting</td>\n",
       "                        <td id=\"T_9dfd3bd3_076c_11ec_b550_80c5f20e49e9row0_col1\" class=\"data row0 col1\" >375.9010</td>\n",
       "                        <td id=\"T_9dfd3bd3_076c_11ec_b550_80c5f20e49e9row0_col2\" class=\"data row0 col2\" >353468.8750</td>\n",
       "                        <td id=\"T_9dfd3bd3_076c_11ec_b550_80c5f20e49e9row0_col3\" class=\"data row0 col3\" >594.5324</td>\n",
       "                        <td id=\"T_9dfd3bd3_076c_11ec_b550_80c5f20e49e9row0_col4\" class=\"data row0 col4\" >0.9968</td>\n",
       "                        <td id=\"T_9dfd3bd3_076c_11ec_b550_80c5f20e49e9row0_col5\" class=\"data row0 col5\" >0.0504</td>\n",
       "                        <td id=\"T_9dfd3bd3_076c_11ec_b550_80c5f20e49e9row0_col6\" class=\"data row0 col6\" >0.0374</td>\n",
       "            </tr>\n",
       "    </tbody></table>"
      ],
      "text/plain": [
       "<pandas.io.formats.style.Styler at 0x25f0b6c2ee0>"
      ]
     },
     "metadata": {},
     "output_type": "display_data"
    },
    {
     "data": {
      "text/html": [
       "<div>\n",
       "<style scoped>\n",
       "    .dataframe tbody tr th:only-of-type {\n",
       "        vertical-align: middle;\n",
       "    }\n",
       "\n",
       "    .dataframe tbody tr th {\n",
       "        vertical-align: top;\n",
       "    }\n",
       "\n",
       "    .dataframe thead th {\n",
       "        text-align: right;\n",
       "    }\n",
       "</style>\n",
       "<table border=\"1\" class=\"dataframe\">\n",
       "  <thead>\n",
       "    <tr style=\"text-align: right;\">\n",
       "      <th></th>\n",
       "      <th>Carat Weight</th>\n",
       "      <th>Cut_Fair</th>\n",
       "      <th>Cut_Good</th>\n",
       "      <th>Cut_Ideal</th>\n",
       "      <th>Cut_Signature-Ideal</th>\n",
       "      <th>Cut_Very Good</th>\n",
       "      <th>Color_D</th>\n",
       "      <th>Color_E</th>\n",
       "      <th>Color_F</th>\n",
       "      <th>Color_G</th>\n",
       "      <th>...</th>\n",
       "      <th>Polish_G</th>\n",
       "      <th>Polish_ID</th>\n",
       "      <th>Polish_VG</th>\n",
       "      <th>Symmetry_EX</th>\n",
       "      <th>Symmetry_G</th>\n",
       "      <th>Symmetry_ID</th>\n",
       "      <th>Symmetry_VG</th>\n",
       "      <th>Report_GIA</th>\n",
       "      <th>Price</th>\n",
       "      <th>Label</th>\n",
       "    </tr>\n",
       "  </thead>\n",
       "  <tbody>\n",
       "    <tr>\n",
       "      <th>0</th>\n",
       "      <td>1.07</td>\n",
       "      <td>0.0</td>\n",
       "      <td>0.0</td>\n",
       "      <td>0.0</td>\n",
       "      <td>0.0</td>\n",
       "      <td>1.0</td>\n",
       "      <td>0.0</td>\n",
       "      <td>0.0</td>\n",
       "      <td>1.0</td>\n",
       "      <td>0.0</td>\n",
       "      <td>...</td>\n",
       "      <td>1.0</td>\n",
       "      <td>0.0</td>\n",
       "      <td>0.0</td>\n",
       "      <td>0.0</td>\n",
       "      <td>1.0</td>\n",
       "      <td>0.0</td>\n",
       "      <td>0.0</td>\n",
       "      <td>1.0</td>\n",
       "      <td>11019.0</td>\n",
       "      <td>10654.458984</td>\n",
       "    </tr>\n",
       "    <tr>\n",
       "      <th>1</th>\n",
       "      <td>1.80</td>\n",
       "      <td>0.0</td>\n",
       "      <td>0.0</td>\n",
       "      <td>0.0</td>\n",
       "      <td>0.0</td>\n",
       "      <td>1.0</td>\n",
       "      <td>0.0</td>\n",
       "      <td>0.0</td>\n",
       "      <td>0.0</td>\n",
       "      <td>0.0</td>\n",
       "      <td>...</td>\n",
       "      <td>0.0</td>\n",
       "      <td>0.0</td>\n",
       "      <td>1.0</td>\n",
       "      <td>0.0</td>\n",
       "      <td>0.0</td>\n",
       "      <td>0.0</td>\n",
       "      <td>1.0</td>\n",
       "      <td>1.0</td>\n",
       "      <td>16195.0</td>\n",
       "      <td>15888.664062</td>\n",
       "    </tr>\n",
       "    <tr>\n",
       "      <th>2</th>\n",
       "      <td>2.01</td>\n",
       "      <td>0.0</td>\n",
       "      <td>0.0</td>\n",
       "      <td>0.0</td>\n",
       "      <td>0.0</td>\n",
       "      <td>1.0</td>\n",
       "      <td>0.0</td>\n",
       "      <td>0.0</td>\n",
       "      <td>0.0</td>\n",
       "      <td>1.0</td>\n",
       "      <td>...</td>\n",
       "      <td>0.0</td>\n",
       "      <td>0.0</td>\n",
       "      <td>0.0</td>\n",
       "      <td>0.0</td>\n",
       "      <td>0.0</td>\n",
       "      <td>0.0</td>\n",
       "      <td>1.0</td>\n",
       "      <td>1.0</td>\n",
       "      <td>23652.0</td>\n",
       "      <td>24175.992188</td>\n",
       "    </tr>\n",
       "    <tr>\n",
       "      <th>3</th>\n",
       "      <td>1.03</td>\n",
       "      <td>0.0</td>\n",
       "      <td>1.0</td>\n",
       "      <td>0.0</td>\n",
       "      <td>0.0</td>\n",
       "      <td>0.0</td>\n",
       "      <td>0.0</td>\n",
       "      <td>1.0</td>\n",
       "      <td>0.0</td>\n",
       "      <td>0.0</td>\n",
       "      <td>...</td>\n",
       "      <td>0.0</td>\n",
       "      <td>0.0</td>\n",
       "      <td>0.0</td>\n",
       "      <td>0.0</td>\n",
       "      <td>0.0</td>\n",
       "      <td>0.0</td>\n",
       "      <td>1.0</td>\n",
       "      <td>1.0</td>\n",
       "      <td>7184.0</td>\n",
       "      <td>7304.087402</td>\n",
       "    </tr>\n",
       "    <tr>\n",
       "      <th>4</th>\n",
       "      <td>1.02</td>\n",
       "      <td>0.0</td>\n",
       "      <td>0.0</td>\n",
       "      <td>1.0</td>\n",
       "      <td>0.0</td>\n",
       "      <td>0.0</td>\n",
       "      <td>0.0</td>\n",
       "      <td>0.0</td>\n",
       "      <td>0.0</td>\n",
       "      <td>0.0</td>\n",
       "      <td>...</td>\n",
       "      <td>0.0</td>\n",
       "      <td>1.0</td>\n",
       "      <td>0.0</td>\n",
       "      <td>0.0</td>\n",
       "      <td>0.0</td>\n",
       "      <td>1.0</td>\n",
       "      <td>0.0</td>\n",
       "      <td>0.0</td>\n",
       "      <td>6613.0</td>\n",
       "      <td>7304.988770</td>\n",
       "    </tr>\n",
       "    <tr>\n",
       "      <th>...</th>\n",
       "      <td>...</td>\n",
       "      <td>...</td>\n",
       "      <td>...</td>\n",
       "      <td>...</td>\n",
       "      <td>...</td>\n",
       "      <td>...</td>\n",
       "      <td>...</td>\n",
       "      <td>...</td>\n",
       "      <td>...</td>\n",
       "      <td>...</td>\n",
       "      <td>...</td>\n",
       "      <td>...</td>\n",
       "      <td>...</td>\n",
       "      <td>...</td>\n",
       "      <td>...</td>\n",
       "      <td>...</td>\n",
       "      <td>...</td>\n",
       "      <td>...</td>\n",
       "      <td>...</td>\n",
       "      <td>...</td>\n",
       "      <td>...</td>\n",
       "    </tr>\n",
       "    <tr>\n",
       "      <th>1616</th>\n",
       "      <td>0.78</td>\n",
       "      <td>0.0</td>\n",
       "      <td>0.0</td>\n",
       "      <td>0.0</td>\n",
       "      <td>0.0</td>\n",
       "      <td>1.0</td>\n",
       "      <td>0.0</td>\n",
       "      <td>0.0</td>\n",
       "      <td>0.0</td>\n",
       "      <td>0.0</td>\n",
       "      <td>...</td>\n",
       "      <td>0.0</td>\n",
       "      <td>1.0</td>\n",
       "      <td>0.0</td>\n",
       "      <td>0.0</td>\n",
       "      <td>0.0</td>\n",
       "      <td>1.0</td>\n",
       "      <td>0.0</td>\n",
       "      <td>0.0</td>\n",
       "      <td>2816.0</td>\n",
       "      <td>2614.959473</td>\n",
       "    </tr>\n",
       "    <tr>\n",
       "      <th>1617</th>\n",
       "      <td>1.00</td>\n",
       "      <td>0.0</td>\n",
       "      <td>1.0</td>\n",
       "      <td>0.0</td>\n",
       "      <td>0.0</td>\n",
       "      <td>0.0</td>\n",
       "      <td>0.0</td>\n",
       "      <td>0.0</td>\n",
       "      <td>0.0</td>\n",
       "      <td>0.0</td>\n",
       "      <td>...</td>\n",
       "      <td>0.0</td>\n",
       "      <td>0.0</td>\n",
       "      <td>1.0</td>\n",
       "      <td>0.0</td>\n",
       "      <td>1.0</td>\n",
       "      <td>0.0</td>\n",
       "      <td>0.0</td>\n",
       "      <td>1.0</td>\n",
       "      <td>4447.0</td>\n",
       "      <td>4523.890137</td>\n",
       "    </tr>\n",
       "    <tr>\n",
       "      <th>1618</th>\n",
       "      <td>2.04</td>\n",
       "      <td>0.0</td>\n",
       "      <td>1.0</td>\n",
       "      <td>0.0</td>\n",
       "      <td>0.0</td>\n",
       "      <td>0.0</td>\n",
       "      <td>0.0</td>\n",
       "      <td>0.0</td>\n",
       "      <td>0.0</td>\n",
       "      <td>0.0</td>\n",
       "      <td>...</td>\n",
       "      <td>1.0</td>\n",
       "      <td>0.0</td>\n",
       "      <td>0.0</td>\n",
       "      <td>0.0</td>\n",
       "      <td>1.0</td>\n",
       "      <td>0.0</td>\n",
       "      <td>0.0</td>\n",
       "      <td>1.0</td>\n",
       "      <td>15511.0</td>\n",
       "      <td>15953.079102</td>\n",
       "    </tr>\n",
       "    <tr>\n",
       "      <th>1619</th>\n",
       "      <td>1.00</td>\n",
       "      <td>0.0</td>\n",
       "      <td>1.0</td>\n",
       "      <td>0.0</td>\n",
       "      <td>0.0</td>\n",
       "      <td>0.0</td>\n",
       "      <td>1.0</td>\n",
       "      <td>0.0</td>\n",
       "      <td>0.0</td>\n",
       "      <td>0.0</td>\n",
       "      <td>...</td>\n",
       "      <td>0.0</td>\n",
       "      <td>0.0</td>\n",
       "      <td>1.0</td>\n",
       "      <td>0.0</td>\n",
       "      <td>1.0</td>\n",
       "      <td>0.0</td>\n",
       "      <td>0.0</td>\n",
       "      <td>1.0</td>\n",
       "      <td>5642.0</td>\n",
       "      <td>5300.798340</td>\n",
       "    </tr>\n",
       "    <tr>\n",
       "      <th>1620</th>\n",
       "      <td>1.00</td>\n",
       "      <td>0.0</td>\n",
       "      <td>1.0</td>\n",
       "      <td>0.0</td>\n",
       "      <td>0.0</td>\n",
       "      <td>0.0</td>\n",
       "      <td>0.0</td>\n",
       "      <td>0.0</td>\n",
       "      <td>0.0</td>\n",
       "      <td>0.0</td>\n",
       "      <td>...</td>\n",
       "      <td>0.0</td>\n",
       "      <td>0.0</td>\n",
       "      <td>1.0</td>\n",
       "      <td>0.0</td>\n",
       "      <td>1.0</td>\n",
       "      <td>0.0</td>\n",
       "      <td>0.0</td>\n",
       "      <td>1.0</td>\n",
       "      <td>4273.0</td>\n",
       "      <td>4108.636719</td>\n",
       "    </tr>\n",
       "  </tbody>\n",
       "</table>\n",
       "<p>1621 rows × 30 columns</p>\n",
       "</div>"
      ],
      "text/plain": [
       "      Carat Weight  Cut_Fair  Cut_Good  Cut_Ideal  Cut_Signature-Ideal  \\\n",
       "0             1.07       0.0       0.0        0.0                  0.0   \n",
       "1             1.80       0.0       0.0        0.0                  0.0   \n",
       "2             2.01       0.0       0.0        0.0                  0.0   \n",
       "3             1.03       0.0       1.0        0.0                  0.0   \n",
       "4             1.02       0.0       0.0        1.0                  0.0   \n",
       "...            ...       ...       ...        ...                  ...   \n",
       "1616          0.78       0.0       0.0        0.0                  0.0   \n",
       "1617          1.00       0.0       1.0        0.0                  0.0   \n",
       "1618          2.04       0.0       1.0        0.0                  0.0   \n",
       "1619          1.00       0.0       1.0        0.0                  0.0   \n",
       "1620          1.00       0.0       1.0        0.0                  0.0   \n",
       "\n",
       "      Cut_Very Good  Color_D  Color_E  Color_F  Color_G  ...  Polish_G  \\\n",
       "0               1.0      0.0      0.0      1.0      0.0  ...       1.0   \n",
       "1               1.0      0.0      0.0      0.0      0.0  ...       0.0   \n",
       "2               1.0      0.0      0.0      0.0      1.0  ...       0.0   \n",
       "3               0.0      0.0      1.0      0.0      0.0  ...       0.0   \n",
       "4               0.0      0.0      0.0      0.0      0.0  ...       0.0   \n",
       "...             ...      ...      ...      ...      ...  ...       ...   \n",
       "1616            1.0      0.0      0.0      0.0      0.0  ...       0.0   \n",
       "1617            0.0      0.0      0.0      0.0      0.0  ...       0.0   \n",
       "1618            0.0      0.0      0.0      0.0      0.0  ...       1.0   \n",
       "1619            0.0      1.0      0.0      0.0      0.0  ...       0.0   \n",
       "1620            0.0      0.0      0.0      0.0      0.0  ...       0.0   \n",
       "\n",
       "      Polish_ID  Polish_VG  Symmetry_EX  Symmetry_G  Symmetry_ID  Symmetry_VG  \\\n",
       "0           0.0        0.0          0.0         1.0          0.0          0.0   \n",
       "1           0.0        1.0          0.0         0.0          0.0          1.0   \n",
       "2           0.0        0.0          0.0         0.0          0.0          1.0   \n",
       "3           0.0        0.0          0.0         0.0          0.0          1.0   \n",
       "4           1.0        0.0          0.0         0.0          1.0          0.0   \n",
       "...         ...        ...          ...         ...          ...          ...   \n",
       "1616        1.0        0.0          0.0         0.0          1.0          0.0   \n",
       "1617        0.0        1.0          0.0         1.0          0.0          0.0   \n",
       "1618        0.0        0.0          0.0         1.0          0.0          0.0   \n",
       "1619        0.0        1.0          0.0         1.0          0.0          0.0   \n",
       "1620        0.0        1.0          0.0         1.0          0.0          0.0   \n",
       "\n",
       "      Report_GIA    Price         Label  \n",
       "0            1.0  11019.0  10654.458984  \n",
       "1            1.0  16195.0  15888.664062  \n",
       "2            1.0  23652.0  24175.992188  \n",
       "3            1.0   7184.0   7304.087402  \n",
       "4            0.0   6613.0   7304.988770  \n",
       "...          ...      ...           ...  \n",
       "1616         0.0   2816.0   2614.959473  \n",
       "1617         1.0   4447.0   4523.890137  \n",
       "1618         1.0  15511.0  15953.079102  \n",
       "1619         1.0   5642.0   5300.798340  \n",
       "1620         1.0   4273.0   4108.636719  \n",
       "\n",
       "[1621 rows x 30 columns]"
      ]
     },
     "execution_count": 35,
     "metadata": {},
     "output_type": "execute_result"
    }
   ],
   "source": [
    "predict_model(xgboost_final)"
   ]
  },
  {
   "cell_type": "markdown",
   "metadata": {},
   "source": [
    "_____________"
   ]
  },
  {
   "cell_type": "code",
   "execution_count": 36,
   "metadata": {},
   "outputs": [
    {
     "data": {
      "text/html": [
       "<div>\n",
       "<style scoped>\n",
       "    .dataframe tbody tr th:only-of-type {\n",
       "        vertical-align: middle;\n",
       "    }\n",
       "\n",
       "    .dataframe tbody tr th {\n",
       "        vertical-align: top;\n",
       "    }\n",
       "\n",
       "    .dataframe thead th {\n",
       "        text-align: right;\n",
       "    }\n",
       "</style>\n",
       "<table border=\"1\" class=\"dataframe\">\n",
       "  <thead>\n",
       "    <tr style=\"text-align: right;\">\n",
       "      <th></th>\n",
       "      <th>Carat Weight</th>\n",
       "      <th>Cut</th>\n",
       "      <th>Color</th>\n",
       "      <th>Clarity</th>\n",
       "      <th>Polish</th>\n",
       "      <th>Symmetry</th>\n",
       "      <th>Report</th>\n",
       "      <th>Price</th>\n",
       "      <th>Label</th>\n",
       "    </tr>\n",
       "  </thead>\n",
       "  <tbody>\n",
       "    <tr>\n",
       "      <th>0</th>\n",
       "      <td>1.53</td>\n",
       "      <td>Ideal</td>\n",
       "      <td>E</td>\n",
       "      <td>SI1</td>\n",
       "      <td>ID</td>\n",
       "      <td>ID</td>\n",
       "      <td>AGSL</td>\n",
       "      <td>12791</td>\n",
       "      <td>12414.727539</td>\n",
       "    </tr>\n",
       "    <tr>\n",
       "      <th>1</th>\n",
       "      <td>1.50</td>\n",
       "      <td>Fair</td>\n",
       "      <td>F</td>\n",
       "      <td>SI1</td>\n",
       "      <td>VG</td>\n",
       "      <td>VG</td>\n",
       "      <td>GIA</td>\n",
       "      <td>10450</td>\n",
       "      <td>9506.720703</td>\n",
       "    </tr>\n",
       "    <tr>\n",
       "      <th>2</th>\n",
       "      <td>1.01</td>\n",
       "      <td>Good</td>\n",
       "      <td>E</td>\n",
       "      <td>SI1</td>\n",
       "      <td>G</td>\n",
       "      <td>G</td>\n",
       "      <td>GIA</td>\n",
       "      <td>5161</td>\n",
       "      <td>5075.627930</td>\n",
       "    </tr>\n",
       "    <tr>\n",
       "      <th>3</th>\n",
       "      <td>2.51</td>\n",
       "      <td>Very Good</td>\n",
       "      <td>G</td>\n",
       "      <td>VS2</td>\n",
       "      <td>VG</td>\n",
       "      <td>VG</td>\n",
       "      <td>GIA</td>\n",
       "      <td>34361</td>\n",
       "      <td>34400.054688</td>\n",
       "    </tr>\n",
       "    <tr>\n",
       "      <th>4</th>\n",
       "      <td>1.01</td>\n",
       "      <td>Good</td>\n",
       "      <td>I</td>\n",
       "      <td>SI1</td>\n",
       "      <td>VG</td>\n",
       "      <td>VG</td>\n",
       "      <td>GIA</td>\n",
       "      <td>4238</td>\n",
       "      <td>4097.317383</td>\n",
       "    </tr>\n",
       "  </tbody>\n",
       "</table>\n",
       "</div>"
      ],
      "text/plain": [
       "   Carat Weight        Cut Color Clarity Polish Symmetry Report  Price  \\\n",
       "0          1.53      Ideal     E     SI1     ID       ID   AGSL  12791   \n",
       "1          1.50       Fair     F     SI1     VG       VG    GIA  10450   \n",
       "2          1.01       Good     E     SI1      G        G    GIA   5161   \n",
       "3          2.51  Very Good     G     VS2     VG       VG    GIA  34361   \n",
       "4          1.01       Good     I     SI1     VG       VG    GIA   4238   \n",
       "\n",
       "          Label  \n",
       "0  12414.727539  \n",
       "1   9506.720703  \n",
       "2   5075.627930  \n",
       "3  34400.054688  \n",
       "4   4097.317383  "
      ]
     },
     "execution_count": 36,
     "metadata": {},
     "output_type": "execute_result"
    }
   ],
   "source": [
    "unseen_predictions = predict_model(xgboost_final, data=data_unseen)\n",
    "unseen_predictions.head()"
   ]
  },
  {
   "cell_type": "code",
   "execution_count": 37,
   "metadata": {},
   "outputs": [
    {
     "data": {
      "text/plain": [
       "0.9848"
      ]
     },
     "execution_count": 37,
     "metadata": {},
     "output_type": "execute_result"
    }
   ],
   "source": [
    "from pycaret.utils import check_metric\n",
    "check_metric(unseen_predictions.Price, unseen_predictions.Label, 'R2')"
   ]
  },
  {
   "cell_type": "markdown",
   "metadata": {},
   "source": [
    "___________________________________"
   ]
  },
  {
   "cell_type": "code",
   "execution_count": null,
   "metadata": {},
   "outputs": [],
   "source": []
  },
  {
   "cell_type": "code",
   "execution_count": 1,
   "metadata": {},
   "outputs": [
    {
     "data": {
      "text/html": [
       "<div>\n",
       "<style scoped>\n",
       "    .dataframe tbody tr th:only-of-type {\n",
       "        vertical-align: middle;\n",
       "    }\n",
       "\n",
       "    .dataframe tbody tr th {\n",
       "        vertical-align: top;\n",
       "    }\n",
       "\n",
       "    .dataframe thead th {\n",
       "        text-align: right;\n",
       "    }\n",
       "</style>\n",
       "<table border=\"1\" class=\"dataframe\">\n",
       "  <thead>\n",
       "    <tr style=\"text-align: right;\">\n",
       "      <th></th>\n",
       "      <th>country</th>\n",
       "      <th>en</th>\n",
       "      <th>gender</th>\n",
       "      <th>loan_amount</th>\n",
       "      <th>nonpayment</th>\n",
       "      <th>sector</th>\n",
       "      <th>status</th>\n",
       "    </tr>\n",
       "  </thead>\n",
       "  <tbody>\n",
       "    <tr>\n",
       "      <th>0</th>\n",
       "      <td>Dominican Republic</td>\n",
       "      <td>\"Banco Esperanza\" is a group of 10 women looki...</td>\n",
       "      <td>F</td>\n",
       "      <td>1225</td>\n",
       "      <td>partner</td>\n",
       "      <td>Retail</td>\n",
       "      <td>0</td>\n",
       "    </tr>\n",
       "    <tr>\n",
       "      <th>1</th>\n",
       "      <td>Dominican Republic</td>\n",
       "      <td>\"Caminemos Hacia Adelante\" or \"Walking Forward...</td>\n",
       "      <td>F</td>\n",
       "      <td>1975</td>\n",
       "      <td>lender</td>\n",
       "      <td>Clothing</td>\n",
       "      <td>0</td>\n",
       "    </tr>\n",
       "    <tr>\n",
       "      <th>2</th>\n",
       "      <td>Dominican Republic</td>\n",
       "      <td>\"Creciendo Por La Union\" is a group of 10 peop...</td>\n",
       "      <td>F</td>\n",
       "      <td>2175</td>\n",
       "      <td>partner</td>\n",
       "      <td>Clothing</td>\n",
       "      <td>0</td>\n",
       "    </tr>\n",
       "    <tr>\n",
       "      <th>3</th>\n",
       "      <td>Dominican Republic</td>\n",
       "      <td>\"Cristo Vive\" (\"Christ lives\" is a group of 10...</td>\n",
       "      <td>F</td>\n",
       "      <td>1425</td>\n",
       "      <td>partner</td>\n",
       "      <td>Clothing</td>\n",
       "      <td>0</td>\n",
       "    </tr>\n",
       "    <tr>\n",
       "      <th>4</th>\n",
       "      <td>Dominican Republic</td>\n",
       "      <td>\"Cristo Vive\" is a large group of 35 people, 2...</td>\n",
       "      <td>F</td>\n",
       "      <td>4025</td>\n",
       "      <td>partner</td>\n",
       "      <td>Food</td>\n",
       "      <td>0</td>\n",
       "    </tr>\n",
       "  </tbody>\n",
       "</table>\n",
       "</div>"
      ],
      "text/plain": [
       "              country                                                 en  \\\n",
       "0  Dominican Republic  \"Banco Esperanza\" is a group of 10 women looki...   \n",
       "1  Dominican Republic  \"Caminemos Hacia Adelante\" or \"Walking Forward...   \n",
       "2  Dominican Republic  \"Creciendo Por La Union\" is a group of 10 peop...   \n",
       "3  Dominican Republic  \"Cristo Vive\" (\"Christ lives\" is a group of 10...   \n",
       "4  Dominican Republic  \"Cristo Vive\" is a large group of 35 people, 2...   \n",
       "\n",
       "  gender  loan_amount nonpayment    sector  status  \n",
       "0      F         1225    partner    Retail       0  \n",
       "1      F         1975     lender  Clothing       0  \n",
       "2      F         2175    partner  Clothing       0  \n",
       "3      F         1425    partner  Clothing       0  \n",
       "4      F         4025    partner      Food       0  "
      ]
     },
     "metadata": {},
     "output_type": "display_data"
    }
   ],
   "source": [
    "from pycaret.datasets import get_data\n",
    "data = get_data('kiva')"
   ]
  },
  {
   "cell_type": "code",
   "execution_count": 2,
   "metadata": {},
   "outputs": [
    {
     "data": {
      "text/plain": [
       "(1000, 7)"
      ]
     },
     "execution_count": 2,
     "metadata": {},
     "output_type": "execute_result"
    }
   ],
   "source": [
    "data = data.sample(1000, random_state=786).reset_index(drop=True)\n",
    "data.shape"
   ]
  },
  {
   "cell_type": "code",
   "execution_count": 3,
   "metadata": {},
   "outputs": [
    {
     "data": {
      "text/html": [
       "<style  type=\"text/css\" >\n",
       "</style><table id=\"T_a04cfd97_0803_11ec_a444_80c5f20e49e9\" ><thead>    <tr>        <th class=\"col_heading level0 col0\" >Description</th>        <th class=\"col_heading level0 col1\" >Value</th>    </tr></thead><tbody>\n",
       "                <tr>\n",
       "                                <td id=\"T_a04cfd97_0803_11ec_a444_80c5f20e49e9row0_col0\" class=\"data row0 col0\" >session_id</td>\n",
       "                        <td id=\"T_a04cfd97_0803_11ec_a444_80c5f20e49e9row0_col1\" class=\"data row0 col1\" >1003</td>\n",
       "            </tr>\n",
       "            <tr>\n",
       "                                <td id=\"T_a04cfd97_0803_11ec_a444_80c5f20e49e9row1_col0\" class=\"data row1 col0\" >Documents</td>\n",
       "                        <td id=\"T_a04cfd97_0803_11ec_a444_80c5f20e49e9row1_col1\" class=\"data row1 col1\" >1000</td>\n",
       "            </tr>\n",
       "            <tr>\n",
       "                                <td id=\"T_a04cfd97_0803_11ec_a444_80c5f20e49e9row2_col0\" class=\"data row2 col0\" >Vocab Size</td>\n",
       "                        <td id=\"T_a04cfd97_0803_11ec_a444_80c5f20e49e9row2_col1\" class=\"data row2 col1\" >4615</td>\n",
       "            </tr>\n",
       "            <tr>\n",
       "                                <td id=\"T_a04cfd97_0803_11ec_a444_80c5f20e49e9row3_col0\" class=\"data row3 col0\" >Custom Stopwords</td>\n",
       "                        <td id=\"T_a04cfd97_0803_11ec_a444_80c5f20e49e9row3_col1\" class=\"data row3 col1\" >False</td>\n",
       "            </tr>\n",
       "    </tbody></table>"
      ],
      "text/plain": [
       "<pandas.io.formats.style.Styler at 0x13a9cefc340>"
      ]
     },
     "metadata": {},
     "output_type": "display_data"
    }
   ],
   "source": [
    "from pycaret.nlp import *\n",
    "exp_nlp101 = setup(data = data, target = 'en', session_id = 1003)"
   ]
  },
  {
   "cell_type": "markdown",
   "metadata": {},
   "source": [
    "[LDA: Latent Dirichlet Allocation](https://es.wikipedia.org/wiki/Latent_Dirichlet_Allocation):  Modelo generativo que permite que conjuntos de observaciones puedan ser explicados por grupos no observados que explican porqué algunas partes de los datos son similares (Wikipedia)"
   ]
  },
  {
   "cell_type": "code",
   "execution_count": 4,
   "metadata": {},
   "outputs": [],
   "source": [
    "lda = create_model('lda')"
   ]
  },
  {
   "cell_type": "code",
   "execution_count": 5,
   "metadata": {},
   "outputs": [
    {
     "name": "stdout",
     "output_type": "stream",
     "text": [
      "LdaModel(num_terms=4615, num_topics=4, decay=0.5, chunksize=100)\n"
     ]
    }
   ],
   "source": [
    "print(lda)"
   ]
  },
  {
   "cell_type": "code",
   "execution_count": 6,
   "metadata": {},
   "outputs": [],
   "source": [
    "lda2 = create_model('lda', num_topics = 6, multi_core = True)"
   ]
  },
  {
   "cell_type": "code",
   "execution_count": 7,
   "metadata": {},
   "outputs": [
    {
     "name": "stdout",
     "output_type": "stream",
     "text": [
      "LdaModel(num_terms=4615, num_topics=6, decay=0.5, chunksize=100)\n"
     ]
    }
   ],
   "source": [
    "print(lda2)"
   ]
  },
  {
   "cell_type": "code",
   "execution_count": 8,
   "metadata": {},
   "outputs": [
    {
     "data": {
      "text/html": [
       "<div>\n",
       "<style scoped>\n",
       "    .dataframe tbody tr th:only-of-type {\n",
       "        vertical-align: middle;\n",
       "    }\n",
       "\n",
       "    .dataframe tbody tr th {\n",
       "        vertical-align: top;\n",
       "    }\n",
       "\n",
       "    .dataframe thead th {\n",
       "        text-align: right;\n",
       "    }\n",
       "</style>\n",
       "<table border=\"1\" class=\"dataframe\">\n",
       "  <thead>\n",
       "    <tr style=\"text-align: right;\">\n",
       "      <th></th>\n",
       "      <th>country</th>\n",
       "      <th>en</th>\n",
       "      <th>gender</th>\n",
       "      <th>loan_amount</th>\n",
       "      <th>nonpayment</th>\n",
       "      <th>sector</th>\n",
       "      <th>status</th>\n",
       "      <th>Topic_0</th>\n",
       "      <th>Topic_1</th>\n",
       "      <th>Topic_2</th>\n",
       "      <th>Topic_3</th>\n",
       "      <th>Dominant_Topic</th>\n",
       "      <th>Perc_Dominant_Topic</th>\n",
       "    </tr>\n",
       "  </thead>\n",
       "  <tbody>\n",
       "    <tr>\n",
       "      <th>0</th>\n",
       "      <td>Kenya</td>\n",
       "      <td>praxide marry child primary school train tailo...</td>\n",
       "      <td>F</td>\n",
       "      <td>75</td>\n",
       "      <td>partner</td>\n",
       "      <td>Services</td>\n",
       "      <td>0</td>\n",
       "      <td>0.125544</td>\n",
       "      <td>0.871285</td>\n",
       "      <td>0.002718</td>\n",
       "      <td>0.000453</td>\n",
       "      <td>Topic 1</td>\n",
       "      <td>0.87</td>\n",
       "    </tr>\n",
       "    <tr>\n",
       "      <th>1</th>\n",
       "      <td>Kenya</td>\n",
       "      <td>gynaecology practitioner run year old life wif...</td>\n",
       "      <td>M</td>\n",
       "      <td>1200</td>\n",
       "      <td>partner</td>\n",
       "      <td>Health</td>\n",
       "      <td>0</td>\n",
       "      <td>0.158613</td>\n",
       "      <td>0.838336</td>\n",
       "      <td>0.002614</td>\n",
       "      <td>0.000437</td>\n",
       "      <td>Topic 1</td>\n",
       "      <td>0.84</td>\n",
       "    </tr>\n",
       "    <tr>\n",
       "      <th>2</th>\n",
       "      <td>Dominican Republic</td>\n",
       "      <td>live child boy girl range year old sell new us...</td>\n",
       "      <td>F</td>\n",
       "      <td>150</td>\n",
       "      <td>partner</td>\n",
       "      <td>Clothing</td>\n",
       "      <td>0</td>\n",
       "      <td>0.913306</td>\n",
       "      <td>0.082944</td>\n",
       "      <td>0.003214</td>\n",
       "      <td>0.000536</td>\n",
       "      <td>Topic 0</td>\n",
       "      <td>0.91</td>\n",
       "    </tr>\n",
       "    <tr>\n",
       "      <th>3</th>\n",
       "      <td>Kenya</td>\n",
       "      <td>phanice marry child daughter secondary school ...</td>\n",
       "      <td>F</td>\n",
       "      <td>150</td>\n",
       "      <td>lender</td>\n",
       "      <td>Services</td>\n",
       "      <td>1</td>\n",
       "      <td>0.277318</td>\n",
       "      <td>0.507453</td>\n",
       "      <td>0.214668</td>\n",
       "      <td>0.000561</td>\n",
       "      <td>Topic 1</td>\n",
       "      <td>0.51</td>\n",
       "    </tr>\n",
       "    <tr>\n",
       "      <th>4</th>\n",
       "      <td>Kenya</td>\n",
       "      <td>year old hotel last year get good return compe...</td>\n",
       "      <td>F</td>\n",
       "      <td>300</td>\n",
       "      <td>lender</td>\n",
       "      <td>Food</td>\n",
       "      <td>1</td>\n",
       "      <td>0.383501</td>\n",
       "      <td>0.450304</td>\n",
       "      <td>0.165715</td>\n",
       "      <td>0.000481</td>\n",
       "      <td>Topic 1</td>\n",
       "      <td>0.45</td>\n",
       "    </tr>\n",
       "  </tbody>\n",
       "</table>\n",
       "</div>"
      ],
      "text/plain": [
       "              country                                                 en  \\\n",
       "0               Kenya  praxide marry child primary school train tailo...   \n",
       "1               Kenya  gynaecology practitioner run year old life wif...   \n",
       "2  Dominican Republic  live child boy girl range year old sell new us...   \n",
       "3               Kenya  phanice marry child daughter secondary school ...   \n",
       "4               Kenya  year old hotel last year get good return compe...   \n",
       "\n",
       "  gender  loan_amount nonpayment    sector  status   Topic_0   Topic_1  \\\n",
       "0      F           75    partner  Services       0  0.125544  0.871285   \n",
       "1      M         1200    partner    Health       0  0.158613  0.838336   \n",
       "2      F          150    partner  Clothing       0  0.913306  0.082944   \n",
       "3      F          150     lender  Services       1  0.277318  0.507453   \n",
       "4      F          300     lender      Food       1  0.383501  0.450304   \n",
       "\n",
       "    Topic_2   Topic_3 Dominant_Topic  Perc_Dominant_Topic  \n",
       "0  0.002718  0.000453        Topic 1                 0.87  \n",
       "1  0.002614  0.000437        Topic 1                 0.84  \n",
       "2  0.003214  0.000536        Topic 0                 0.91  \n",
       "3  0.214668  0.000561        Topic 1                 0.51  \n",
       "4  0.165715  0.000481        Topic 1                 0.45  "
      ]
     },
     "execution_count": 8,
     "metadata": {},
     "output_type": "execute_result"
    }
   ],
   "source": [
    "lda_results = assign_model(lda)\n",
    "lda_results.head()"
   ]
  },
  {
   "cell_type": "code",
   "execution_count": 9,
   "metadata": {},
   "outputs": [
    {
     "data": {
      "text/html": [
       "        <script type=\"text/javascript\">\n",
       "        window.PlotlyConfig = {MathJaxConfig: 'local'};\n",
       "        if (window.MathJax) {MathJax.Hub.Config({SVG: {font: \"STIX-Web\"}});}\n",
       "        if (typeof require !== 'undefined') {\n",
       "        require.undef(\"plotly\");\n",
       "        requirejs.config({\n",
       "            paths: {\n",
       "                'plotly': ['https://cdn.plot.ly/plotly-latest.min']\n",
       "            }\n",
       "        });\n",
       "        require(['plotly'], function(Plotly) {\n",
       "            window._Plotly = Plotly;\n",
       "        });\n",
       "        }\n",
       "        </script>\n",
       "        "
      ]
     },
     "metadata": {},
     "output_type": "display_data"
    },
    {
     "data": {
      "application/vnd.plotly.v1+json": {
       "config": {
        "linkText": "Export to plot.ly",
        "plotlyServerURL": "https://plot.ly",
        "showLink": true
       },
       "data": [
        {
         "marker": {
          "color": "rgba(255, 153, 51, 0.6)",
          "line": {
           "color": "rgba(255, 153, 51, 1.0)",
           "width": 1
          }
         },
         "name": "count",
         "orientation": "v",
         "text": "",
         "type": "bar",
         "x": [
          "business",
          "loan",
          "child",
          "year",
          "sell",
          "buy",
          "school",
          "also",
          "work",
          "use",
          "old",
          "family",
          "make",
          "able",
          "start",
          "small",
          "help",
          "group",
          "husband",
          "live",
          "product",
          "purchase",
          "well",
          "income",
          "increase",
          "woman",
          "home",
          "customer",
          "good",
          "community",
          "need",
          "order",
          "member",
          "request",
          "pay",
          "expand",
          "hope",
          "stock",
          "grow",
          "want",
          "new",
          "time",
          "people",
          "provide",
          "farmer",
          "store",
          "marry",
          "many",
          "client",
          "money",
          "go",
          "area",
          "get",
          "entrepreneur",
          "rice",
          "support",
          "improve",
          "market",
          "give",
          "life",
          "hard",
          "sale",
          "clothing",
          "repay",
          "mother",
          "ago",
          "food",
          "shop",
          "run",
          "take",
          "profit",
          "plan",
          "clothe",
          "invest",
          "capital",
          "service",
          "first",
          "high",
          "continue",
          "farm",
          "education",
          "local",
          "young",
          "item",
          "house",
          "demand",
          "fee",
          "married",
          "large",
          "wife",
          "operate",
          "enable",
          "meet",
          "receive",
          "say",
          "day",
          "month",
          "age",
          "still",
          "offer"
         ],
         "y": [
          1913,
          1781,
          1201,
          1169,
          1078,
          780,
          647,
          646,
          605,
          604,
          583,
          560,
          530,
          523,
          486,
          469,
          467,
          462,
          418,
          411,
          390,
          375,
          361,
          360,
          351,
          329,
          320,
          316,
          312,
          305,
          298,
          285,
          269,
          268,
          264,
          260,
          259,
          255,
          247,
          246,
          244,
          238,
          235,
          234,
          232,
          232,
          221,
          217,
          215,
          212,
          212,
          212,
          209,
          208,
          204,
          203,
          202,
          200,
          200,
          196,
          191,
          187,
          186,
          185,
          183,
          181,
          181,
          177,
          175,
          171,
          171,
          168,
          165,
          164,
          163,
          162,
          161,
          159,
          158,
          156,
          156,
          146,
          142,
          142,
          140,
          139,
          139,
          138,
          136,
          133,
          133,
          133,
          133,
          132,
          132,
          131,
          128,
          127,
          126,
          125
         ]
        }
       ],
       "layout": {
        "legend": {
         "bgcolor": "#F5F6F9",
         "font": {
          "color": "#4D5663"
         }
        },
        "paper_bgcolor": "#F5F6F9",
        "plot_bgcolor": "#F5F6F9",
        "template": {
         "data": {
          "bar": [
           {
            "error_x": {
             "color": "#2a3f5f"
            },
            "error_y": {
             "color": "#2a3f5f"
            },
            "marker": {
             "line": {
              "color": "#E5ECF6",
              "width": 0.5
             }
            },
            "type": "bar"
           }
          ],
          "barpolar": [
           {
            "marker": {
             "line": {
              "color": "#E5ECF6",
              "width": 0.5
             }
            },
            "type": "barpolar"
           }
          ],
          "carpet": [
           {
            "aaxis": {
             "endlinecolor": "#2a3f5f",
             "gridcolor": "white",
             "linecolor": "white",
             "minorgridcolor": "white",
             "startlinecolor": "#2a3f5f"
            },
            "baxis": {
             "endlinecolor": "#2a3f5f",
             "gridcolor": "white",
             "linecolor": "white",
             "minorgridcolor": "white",
             "startlinecolor": "#2a3f5f"
            },
            "type": "carpet"
           }
          ],
          "choropleth": [
           {
            "colorbar": {
             "outlinewidth": 0,
             "ticks": ""
            },
            "type": "choropleth"
           }
          ],
          "contour": [
           {
            "colorbar": {
             "outlinewidth": 0,
             "ticks": ""
            },
            "colorscale": [
             [
              0,
              "#0d0887"
             ],
             [
              0.1111111111111111,
              "#46039f"
             ],
             [
              0.2222222222222222,
              "#7201a8"
             ],
             [
              0.3333333333333333,
              "#9c179e"
             ],
             [
              0.4444444444444444,
              "#bd3786"
             ],
             [
              0.5555555555555556,
              "#d8576b"
             ],
             [
              0.6666666666666666,
              "#ed7953"
             ],
             [
              0.7777777777777778,
              "#fb9f3a"
             ],
             [
              0.8888888888888888,
              "#fdca26"
             ],
             [
              1,
              "#f0f921"
             ]
            ],
            "type": "contour"
           }
          ],
          "contourcarpet": [
           {
            "colorbar": {
             "outlinewidth": 0,
             "ticks": ""
            },
            "type": "contourcarpet"
           }
          ],
          "heatmap": [
           {
            "colorbar": {
             "outlinewidth": 0,
             "ticks": ""
            },
            "colorscale": [
             [
              0,
              "#0d0887"
             ],
             [
              0.1111111111111111,
              "#46039f"
             ],
             [
              0.2222222222222222,
              "#7201a8"
             ],
             [
              0.3333333333333333,
              "#9c179e"
             ],
             [
              0.4444444444444444,
              "#bd3786"
             ],
             [
              0.5555555555555556,
              "#d8576b"
             ],
             [
              0.6666666666666666,
              "#ed7953"
             ],
             [
              0.7777777777777778,
              "#fb9f3a"
             ],
             [
              0.8888888888888888,
              "#fdca26"
             ],
             [
              1,
              "#f0f921"
             ]
            ],
            "type": "heatmap"
           }
          ],
          "heatmapgl": [
           {
            "colorbar": {
             "outlinewidth": 0,
             "ticks": ""
            },
            "colorscale": [
             [
              0,
              "#0d0887"
             ],
             [
              0.1111111111111111,
              "#46039f"
             ],
             [
              0.2222222222222222,
              "#7201a8"
             ],
             [
              0.3333333333333333,
              "#9c179e"
             ],
             [
              0.4444444444444444,
              "#bd3786"
             ],
             [
              0.5555555555555556,
              "#d8576b"
             ],
             [
              0.6666666666666666,
              "#ed7953"
             ],
             [
              0.7777777777777778,
              "#fb9f3a"
             ],
             [
              0.8888888888888888,
              "#fdca26"
             ],
             [
              1,
              "#f0f921"
             ]
            ],
            "type": "heatmapgl"
           }
          ],
          "histogram": [
           {
            "marker": {
             "colorbar": {
              "outlinewidth": 0,
              "ticks": ""
             }
            },
            "type": "histogram"
           }
          ],
          "histogram2d": [
           {
            "colorbar": {
             "outlinewidth": 0,
             "ticks": ""
            },
            "colorscale": [
             [
              0,
              "#0d0887"
             ],
             [
              0.1111111111111111,
              "#46039f"
             ],
             [
              0.2222222222222222,
              "#7201a8"
             ],
             [
              0.3333333333333333,
              "#9c179e"
             ],
             [
              0.4444444444444444,
              "#bd3786"
             ],
             [
              0.5555555555555556,
              "#d8576b"
             ],
             [
              0.6666666666666666,
              "#ed7953"
             ],
             [
              0.7777777777777778,
              "#fb9f3a"
             ],
             [
              0.8888888888888888,
              "#fdca26"
             ],
             [
              1,
              "#f0f921"
             ]
            ],
            "type": "histogram2d"
           }
          ],
          "histogram2dcontour": [
           {
            "colorbar": {
             "outlinewidth": 0,
             "ticks": ""
            },
            "colorscale": [
             [
              0,
              "#0d0887"
             ],
             [
              0.1111111111111111,
              "#46039f"
             ],
             [
              0.2222222222222222,
              "#7201a8"
             ],
             [
              0.3333333333333333,
              "#9c179e"
             ],
             [
              0.4444444444444444,
              "#bd3786"
             ],
             [
              0.5555555555555556,
              "#d8576b"
             ],
             [
              0.6666666666666666,
              "#ed7953"
             ],
             [
              0.7777777777777778,
              "#fb9f3a"
             ],
             [
              0.8888888888888888,
              "#fdca26"
             ],
             [
              1,
              "#f0f921"
             ]
            ],
            "type": "histogram2dcontour"
           }
          ],
          "mesh3d": [
           {
            "colorbar": {
             "outlinewidth": 0,
             "ticks": ""
            },
            "type": "mesh3d"
           }
          ],
          "parcoords": [
           {
            "line": {
             "colorbar": {
              "outlinewidth": 0,
              "ticks": ""
             }
            },
            "type": "parcoords"
           }
          ],
          "pie": [
           {
            "automargin": true,
            "type": "pie"
           }
          ],
          "scatter": [
           {
            "marker": {
             "colorbar": {
              "outlinewidth": 0,
              "ticks": ""
             }
            },
            "type": "scatter"
           }
          ],
          "scatter3d": [
           {
            "line": {
             "colorbar": {
              "outlinewidth": 0,
              "ticks": ""
             }
            },
            "marker": {
             "colorbar": {
              "outlinewidth": 0,
              "ticks": ""
             }
            },
            "type": "scatter3d"
           }
          ],
          "scattercarpet": [
           {
            "marker": {
             "colorbar": {
              "outlinewidth": 0,
              "ticks": ""
             }
            },
            "type": "scattercarpet"
           }
          ],
          "scattergeo": [
           {
            "marker": {
             "colorbar": {
              "outlinewidth": 0,
              "ticks": ""
             }
            },
            "type": "scattergeo"
           }
          ],
          "scattergl": [
           {
            "marker": {
             "colorbar": {
              "outlinewidth": 0,
              "ticks": ""
             }
            },
            "type": "scattergl"
           }
          ],
          "scattermapbox": [
           {
            "marker": {
             "colorbar": {
              "outlinewidth": 0,
              "ticks": ""
             }
            },
            "type": "scattermapbox"
           }
          ],
          "scatterpolar": [
           {
            "marker": {
             "colorbar": {
              "outlinewidth": 0,
              "ticks": ""
             }
            },
            "type": "scatterpolar"
           }
          ],
          "scatterpolargl": [
           {
            "marker": {
             "colorbar": {
              "outlinewidth": 0,
              "ticks": ""
             }
            },
            "type": "scatterpolargl"
           }
          ],
          "scatterternary": [
           {
            "marker": {
             "colorbar": {
              "outlinewidth": 0,
              "ticks": ""
             }
            },
            "type": "scatterternary"
           }
          ],
          "surface": [
           {
            "colorbar": {
             "outlinewidth": 0,
             "ticks": ""
            },
            "colorscale": [
             [
              0,
              "#0d0887"
             ],
             [
              0.1111111111111111,
              "#46039f"
             ],
             [
              0.2222222222222222,
              "#7201a8"
             ],
             [
              0.3333333333333333,
              "#9c179e"
             ],
             [
              0.4444444444444444,
              "#bd3786"
             ],
             [
              0.5555555555555556,
              "#d8576b"
             ],
             [
              0.6666666666666666,
              "#ed7953"
             ],
             [
              0.7777777777777778,
              "#fb9f3a"
             ],
             [
              0.8888888888888888,
              "#fdca26"
             ],
             [
              1,
              "#f0f921"
             ]
            ],
            "type": "surface"
           }
          ],
          "table": [
           {
            "cells": {
             "fill": {
              "color": "#EBF0F8"
             },
             "line": {
              "color": "white"
             }
            },
            "header": {
             "fill": {
              "color": "#C8D4E3"
             },
             "line": {
              "color": "white"
             }
            },
            "type": "table"
           }
          ]
         },
         "layout": {
          "annotationdefaults": {
           "arrowcolor": "#2a3f5f",
           "arrowhead": 0,
           "arrowwidth": 1
          },
          "autotypenumbers": "strict",
          "coloraxis": {
           "colorbar": {
            "outlinewidth": 0,
            "ticks": ""
           }
          },
          "colorscale": {
           "diverging": [
            [
             0,
             "#8e0152"
            ],
            [
             0.1,
             "#c51b7d"
            ],
            [
             0.2,
             "#de77ae"
            ],
            [
             0.3,
             "#f1b6da"
            ],
            [
             0.4,
             "#fde0ef"
            ],
            [
             0.5,
             "#f7f7f7"
            ],
            [
             0.6,
             "#e6f5d0"
            ],
            [
             0.7,
             "#b8e186"
            ],
            [
             0.8,
             "#7fbc41"
            ],
            [
             0.9,
             "#4d9221"
            ],
            [
             1,
             "#276419"
            ]
           ],
           "sequential": [
            [
             0,
             "#0d0887"
            ],
            [
             0.1111111111111111,
             "#46039f"
            ],
            [
             0.2222222222222222,
             "#7201a8"
            ],
            [
             0.3333333333333333,
             "#9c179e"
            ],
            [
             0.4444444444444444,
             "#bd3786"
            ],
            [
             0.5555555555555556,
             "#d8576b"
            ],
            [
             0.6666666666666666,
             "#ed7953"
            ],
            [
             0.7777777777777778,
             "#fb9f3a"
            ],
            [
             0.8888888888888888,
             "#fdca26"
            ],
            [
             1,
             "#f0f921"
            ]
           ],
           "sequentialminus": [
            [
             0,
             "#0d0887"
            ],
            [
             0.1111111111111111,
             "#46039f"
            ],
            [
             0.2222222222222222,
             "#7201a8"
            ],
            [
             0.3333333333333333,
             "#9c179e"
            ],
            [
             0.4444444444444444,
             "#bd3786"
            ],
            [
             0.5555555555555556,
             "#d8576b"
            ],
            [
             0.6666666666666666,
             "#ed7953"
            ],
            [
             0.7777777777777778,
             "#fb9f3a"
            ],
            [
             0.8888888888888888,
             "#fdca26"
            ],
            [
             1,
             "#f0f921"
            ]
           ]
          },
          "colorway": [
           "#636efa",
           "#EF553B",
           "#00cc96",
           "#ab63fa",
           "#FFA15A",
           "#19d3f3",
           "#FF6692",
           "#B6E880",
           "#FF97FF",
           "#FECB52"
          ],
          "font": {
           "color": "#2a3f5f"
          },
          "geo": {
           "bgcolor": "white",
           "lakecolor": "white",
           "landcolor": "#E5ECF6",
           "showlakes": true,
           "showland": true,
           "subunitcolor": "white"
          },
          "hoverlabel": {
           "align": "left"
          },
          "hovermode": "closest",
          "mapbox": {
           "style": "light"
          },
          "paper_bgcolor": "white",
          "plot_bgcolor": "#E5ECF6",
          "polar": {
           "angularaxis": {
            "gridcolor": "white",
            "linecolor": "white",
            "ticks": ""
           },
           "bgcolor": "#E5ECF6",
           "radialaxis": {
            "gridcolor": "white",
            "linecolor": "white",
            "ticks": ""
           }
          },
          "scene": {
           "xaxis": {
            "backgroundcolor": "#E5ECF6",
            "gridcolor": "white",
            "gridwidth": 2,
            "linecolor": "white",
            "showbackground": true,
            "ticks": "",
            "zerolinecolor": "white"
           },
           "yaxis": {
            "backgroundcolor": "#E5ECF6",
            "gridcolor": "white",
            "gridwidth": 2,
            "linecolor": "white",
            "showbackground": true,
            "ticks": "",
            "zerolinecolor": "white"
           },
           "zaxis": {
            "backgroundcolor": "#E5ECF6",
            "gridcolor": "white",
            "gridwidth": 2,
            "linecolor": "white",
            "showbackground": true,
            "ticks": "",
            "zerolinecolor": "white"
           }
          },
          "shapedefaults": {
           "line": {
            "color": "#2a3f5f"
           }
          },
          "ternary": {
           "aaxis": {
            "gridcolor": "white",
            "linecolor": "white",
            "ticks": ""
           },
           "baxis": {
            "gridcolor": "white",
            "linecolor": "white",
            "ticks": ""
           },
           "bgcolor": "#E5ECF6",
           "caxis": {
            "gridcolor": "white",
            "linecolor": "white",
            "ticks": ""
           }
          },
          "title": {
           "x": 0.05
          },
          "xaxis": {
           "automargin": true,
           "gridcolor": "white",
           "linecolor": "white",
           "ticks": "",
           "title": {
            "standoff": 15
           },
           "zerolinecolor": "white",
           "zerolinewidth": 2
          },
          "yaxis": {
           "automargin": true,
           "gridcolor": "white",
           "linecolor": "white",
           "ticks": "",
           "title": {
            "standoff": 15
           },
           "zerolinecolor": "white",
           "zerolinewidth": 2
          }
         }
        },
        "title": {
         "font": {
          "color": "#4D5663"
         },
         "text": "Top 100 words after removing stop words"
        },
        "xaxis": {
         "gridcolor": "#E1E5ED",
         "linecolor": "black",
         "showgrid": true,
         "tickfont": {
          "color": "#4D5663"
         },
         "title": {
          "font": {
           "color": "#4D5663"
          },
          "text": ""
         },
         "zerolinecolor": "#E1E5ED"
        },
        "yaxis": {
         "gridcolor": "#E1E5ED",
         "linecolor": "black",
         "showgrid": true,
         "tickfont": {
          "color": "#4D5663"
         },
         "title": {
          "font": {
           "color": "#4D5663"
          },
          "text": "Count"
         },
         "zerolinecolor": "#E1E5ED"
        }
       }
      },
      "text/html": [
       "<div>                            <div id=\"eaf3ddf0-52ed-41d3-a73b-3a882670b0ae\" class=\"plotly-graph-div\" style=\"height:525px; width:100%;\"></div>            <script type=\"text/javascript\">                require([\"plotly\"], function(Plotly) {                    window.PLOTLYENV=window.PLOTLYENV || {};\n",
       "                    window.PLOTLYENV.BASE_URL='https://plot.ly';                                    if (document.getElementById(\"eaf3ddf0-52ed-41d3-a73b-3a882670b0ae\")) {                    Plotly.newPlot(                        \"eaf3ddf0-52ed-41d3-a73b-3a882670b0ae\",                        [{\"marker\": {\"color\": \"rgba(255, 153, 51, 0.6)\", \"line\": {\"color\": \"rgba(255, 153, 51, 1.0)\", \"width\": 1}}, \"name\": \"count\", \"orientation\": \"v\", \"text\": \"\", \"type\": \"bar\", \"x\": [\"business\", \"loan\", \"child\", \"year\", \"sell\", \"buy\", \"school\", \"also\", \"work\", \"use\", \"old\", \"family\", \"make\", \"able\", \"start\", \"small\", \"help\", \"group\", \"husband\", \"live\", \"product\", \"purchase\", \"well\", \"income\", \"increase\", \"woman\", \"home\", \"customer\", \"good\", \"community\", \"need\", \"order\", \"member\", \"request\", \"pay\", \"expand\", \"hope\", \"stock\", \"grow\", \"want\", \"new\", \"time\", \"people\", \"provide\", \"farmer\", \"store\", \"marry\", \"many\", \"client\", \"money\", \"go\", \"area\", \"get\", \"entrepreneur\", \"rice\", \"support\", \"improve\", \"market\", \"give\", \"life\", \"hard\", \"sale\", \"clothing\", \"repay\", \"mother\", \"ago\", \"food\", \"shop\", \"run\", \"take\", \"profit\", \"plan\", \"clothe\", \"invest\", \"capital\", \"service\", \"first\", \"high\", \"continue\", \"farm\", \"education\", \"local\", \"young\", \"item\", \"house\", \"demand\", \"fee\", \"married\", \"large\", \"wife\", \"operate\", \"enable\", \"meet\", \"receive\", \"say\", \"day\", \"month\", \"age\", \"still\", \"offer\"], \"y\": [1913, 1781, 1201, 1169, 1078, 780, 647, 646, 605, 604, 583, 560, 530, 523, 486, 469, 467, 462, 418, 411, 390, 375, 361, 360, 351, 329, 320, 316, 312, 305, 298, 285, 269, 268, 264, 260, 259, 255, 247, 246, 244, 238, 235, 234, 232, 232, 221, 217, 215, 212, 212, 212, 209, 208, 204, 203, 202, 200, 200, 196, 191, 187, 186, 185, 183, 181, 181, 177, 175, 171, 171, 168, 165, 164, 163, 162, 161, 159, 158, 156, 156, 146, 142, 142, 140, 139, 139, 138, 136, 133, 133, 133, 133, 132, 132, 131, 128, 127, 126, 125]}],                        {\"legend\": {\"bgcolor\": \"#F5F6F9\", \"font\": {\"color\": \"#4D5663\"}}, \"paper_bgcolor\": \"#F5F6F9\", \"plot_bgcolor\": \"#F5F6F9\", \"template\": {\"data\": {\"bar\": [{\"error_x\": {\"color\": \"#2a3f5f\"}, \"error_y\": {\"color\": \"#2a3f5f\"}, \"marker\": {\"line\": {\"color\": \"#E5ECF6\", \"width\": 0.5}}, \"type\": \"bar\"}], \"barpolar\": [{\"marker\": {\"line\": {\"color\": \"#E5ECF6\", \"width\": 0.5}}, \"type\": \"barpolar\"}], \"carpet\": [{\"aaxis\": {\"endlinecolor\": \"#2a3f5f\", \"gridcolor\": \"white\", \"linecolor\": \"white\", \"minorgridcolor\": \"white\", \"startlinecolor\": \"#2a3f5f\"}, \"baxis\": {\"endlinecolor\": \"#2a3f5f\", \"gridcolor\": \"white\", \"linecolor\": \"white\", \"minorgridcolor\": \"white\", \"startlinecolor\": \"#2a3f5f\"}, \"type\": \"carpet\"}], \"choropleth\": [{\"colorbar\": {\"outlinewidth\": 0, \"ticks\": \"\"}, \"type\": \"choropleth\"}], \"contour\": [{\"colorbar\": {\"outlinewidth\": 0, \"ticks\": \"\"}, \"colorscale\": [[0.0, \"#0d0887\"], [0.1111111111111111, \"#46039f\"], [0.2222222222222222, \"#7201a8\"], [0.3333333333333333, \"#9c179e\"], [0.4444444444444444, \"#bd3786\"], [0.5555555555555556, \"#d8576b\"], [0.6666666666666666, \"#ed7953\"], [0.7777777777777778, \"#fb9f3a\"], [0.8888888888888888, \"#fdca26\"], [1.0, \"#f0f921\"]], \"type\": \"contour\"}], \"contourcarpet\": [{\"colorbar\": {\"outlinewidth\": 0, \"ticks\": \"\"}, \"type\": \"contourcarpet\"}], \"heatmap\": [{\"colorbar\": {\"outlinewidth\": 0, \"ticks\": \"\"}, \"colorscale\": [[0.0, \"#0d0887\"], [0.1111111111111111, \"#46039f\"], [0.2222222222222222, \"#7201a8\"], [0.3333333333333333, \"#9c179e\"], [0.4444444444444444, \"#bd3786\"], [0.5555555555555556, \"#d8576b\"], [0.6666666666666666, \"#ed7953\"], [0.7777777777777778, \"#fb9f3a\"], [0.8888888888888888, \"#fdca26\"], [1.0, \"#f0f921\"]], \"type\": \"heatmap\"}], \"heatmapgl\": [{\"colorbar\": {\"outlinewidth\": 0, \"ticks\": \"\"}, \"colorscale\": [[0.0, \"#0d0887\"], [0.1111111111111111, \"#46039f\"], [0.2222222222222222, \"#7201a8\"], [0.3333333333333333, \"#9c179e\"], [0.4444444444444444, \"#bd3786\"], [0.5555555555555556, \"#d8576b\"], [0.6666666666666666, \"#ed7953\"], [0.7777777777777778, \"#fb9f3a\"], [0.8888888888888888, \"#fdca26\"], [1.0, \"#f0f921\"]], \"type\": \"heatmapgl\"}], \"histogram\": [{\"marker\": {\"colorbar\": {\"outlinewidth\": 0, \"ticks\": \"\"}}, \"type\": \"histogram\"}], \"histogram2d\": [{\"colorbar\": {\"outlinewidth\": 0, \"ticks\": \"\"}, \"colorscale\": [[0.0, \"#0d0887\"], [0.1111111111111111, \"#46039f\"], [0.2222222222222222, \"#7201a8\"], [0.3333333333333333, \"#9c179e\"], [0.4444444444444444, \"#bd3786\"], [0.5555555555555556, \"#d8576b\"], [0.6666666666666666, \"#ed7953\"], [0.7777777777777778, \"#fb9f3a\"], [0.8888888888888888, \"#fdca26\"], [1.0, \"#f0f921\"]], \"type\": \"histogram2d\"}], \"histogram2dcontour\": [{\"colorbar\": {\"outlinewidth\": 0, \"ticks\": \"\"}, \"colorscale\": [[0.0, \"#0d0887\"], [0.1111111111111111, \"#46039f\"], [0.2222222222222222, \"#7201a8\"], [0.3333333333333333, \"#9c179e\"], [0.4444444444444444, \"#bd3786\"], [0.5555555555555556, \"#d8576b\"], [0.6666666666666666, \"#ed7953\"], [0.7777777777777778, \"#fb9f3a\"], [0.8888888888888888, \"#fdca26\"], [1.0, \"#f0f921\"]], \"type\": \"histogram2dcontour\"}], \"mesh3d\": [{\"colorbar\": {\"outlinewidth\": 0, \"ticks\": \"\"}, \"type\": \"mesh3d\"}], \"parcoords\": [{\"line\": {\"colorbar\": {\"outlinewidth\": 0, \"ticks\": \"\"}}, \"type\": \"parcoords\"}], \"pie\": [{\"automargin\": true, \"type\": \"pie\"}], \"scatter\": [{\"marker\": {\"colorbar\": {\"outlinewidth\": 0, \"ticks\": \"\"}}, \"type\": \"scatter\"}], \"scatter3d\": [{\"line\": {\"colorbar\": {\"outlinewidth\": 0, \"ticks\": \"\"}}, \"marker\": {\"colorbar\": {\"outlinewidth\": 0, \"ticks\": \"\"}}, \"type\": \"scatter3d\"}], \"scattercarpet\": [{\"marker\": {\"colorbar\": {\"outlinewidth\": 0, \"ticks\": \"\"}}, \"type\": \"scattercarpet\"}], \"scattergeo\": [{\"marker\": {\"colorbar\": {\"outlinewidth\": 0, \"ticks\": \"\"}}, \"type\": \"scattergeo\"}], \"scattergl\": [{\"marker\": {\"colorbar\": {\"outlinewidth\": 0, \"ticks\": \"\"}}, \"type\": \"scattergl\"}], \"scattermapbox\": [{\"marker\": {\"colorbar\": {\"outlinewidth\": 0, \"ticks\": \"\"}}, \"type\": \"scattermapbox\"}], \"scatterpolar\": [{\"marker\": {\"colorbar\": {\"outlinewidth\": 0, \"ticks\": \"\"}}, \"type\": \"scatterpolar\"}], \"scatterpolargl\": [{\"marker\": {\"colorbar\": {\"outlinewidth\": 0, \"ticks\": \"\"}}, \"type\": \"scatterpolargl\"}], \"scatterternary\": [{\"marker\": {\"colorbar\": {\"outlinewidth\": 0, \"ticks\": \"\"}}, \"type\": \"scatterternary\"}], \"surface\": [{\"colorbar\": {\"outlinewidth\": 0, \"ticks\": \"\"}, \"colorscale\": [[0.0, \"#0d0887\"], [0.1111111111111111, \"#46039f\"], [0.2222222222222222, \"#7201a8\"], [0.3333333333333333, \"#9c179e\"], [0.4444444444444444, \"#bd3786\"], [0.5555555555555556, \"#d8576b\"], [0.6666666666666666, \"#ed7953\"], [0.7777777777777778, \"#fb9f3a\"], [0.8888888888888888, \"#fdca26\"], [1.0, \"#f0f921\"]], \"type\": \"surface\"}], \"table\": [{\"cells\": {\"fill\": {\"color\": \"#EBF0F8\"}, \"line\": {\"color\": \"white\"}}, \"header\": {\"fill\": {\"color\": \"#C8D4E3\"}, \"line\": {\"color\": \"white\"}}, \"type\": \"table\"}]}, \"layout\": {\"annotationdefaults\": {\"arrowcolor\": \"#2a3f5f\", \"arrowhead\": 0, \"arrowwidth\": 1}, \"autotypenumbers\": \"strict\", \"coloraxis\": {\"colorbar\": {\"outlinewidth\": 0, \"ticks\": \"\"}}, \"colorscale\": {\"diverging\": [[0, \"#8e0152\"], [0.1, \"#c51b7d\"], [0.2, \"#de77ae\"], [0.3, \"#f1b6da\"], [0.4, \"#fde0ef\"], [0.5, \"#f7f7f7\"], [0.6, \"#e6f5d0\"], [0.7, \"#b8e186\"], [0.8, \"#7fbc41\"], [0.9, \"#4d9221\"], [1, \"#276419\"]], \"sequential\": [[0.0, \"#0d0887\"], [0.1111111111111111, \"#46039f\"], [0.2222222222222222, \"#7201a8\"], [0.3333333333333333, \"#9c179e\"], [0.4444444444444444, \"#bd3786\"], [0.5555555555555556, \"#d8576b\"], [0.6666666666666666, \"#ed7953\"], [0.7777777777777778, \"#fb9f3a\"], [0.8888888888888888, \"#fdca26\"], [1.0, \"#f0f921\"]], \"sequentialminus\": [[0.0, \"#0d0887\"], [0.1111111111111111, \"#46039f\"], [0.2222222222222222, \"#7201a8\"], [0.3333333333333333, \"#9c179e\"], [0.4444444444444444, \"#bd3786\"], [0.5555555555555556, \"#d8576b\"], [0.6666666666666666, \"#ed7953\"], [0.7777777777777778, \"#fb9f3a\"], [0.8888888888888888, \"#fdca26\"], [1.0, \"#f0f921\"]]}, \"colorway\": [\"#636efa\", \"#EF553B\", \"#00cc96\", \"#ab63fa\", \"#FFA15A\", \"#19d3f3\", \"#FF6692\", \"#B6E880\", \"#FF97FF\", \"#FECB52\"], \"font\": {\"color\": \"#2a3f5f\"}, \"geo\": {\"bgcolor\": \"white\", \"lakecolor\": \"white\", \"landcolor\": \"#E5ECF6\", \"showlakes\": true, \"showland\": true, \"subunitcolor\": \"white\"}, \"hoverlabel\": {\"align\": \"left\"}, \"hovermode\": \"closest\", \"mapbox\": {\"style\": \"light\"}, \"paper_bgcolor\": \"white\", \"plot_bgcolor\": \"#E5ECF6\", \"polar\": {\"angularaxis\": {\"gridcolor\": \"white\", \"linecolor\": \"white\", \"ticks\": \"\"}, \"bgcolor\": \"#E5ECF6\", \"radialaxis\": {\"gridcolor\": \"white\", \"linecolor\": \"white\", \"ticks\": \"\"}}, \"scene\": {\"xaxis\": {\"backgroundcolor\": \"#E5ECF6\", \"gridcolor\": \"white\", \"gridwidth\": 2, \"linecolor\": \"white\", \"showbackground\": true, \"ticks\": \"\", \"zerolinecolor\": \"white\"}, \"yaxis\": {\"backgroundcolor\": \"#E5ECF6\", \"gridcolor\": \"white\", \"gridwidth\": 2, \"linecolor\": \"white\", \"showbackground\": true, \"ticks\": \"\", \"zerolinecolor\": \"white\"}, \"zaxis\": {\"backgroundcolor\": \"#E5ECF6\", \"gridcolor\": \"white\", \"gridwidth\": 2, \"linecolor\": \"white\", \"showbackground\": true, \"ticks\": \"\", \"zerolinecolor\": \"white\"}}, \"shapedefaults\": {\"line\": {\"color\": \"#2a3f5f\"}}, \"ternary\": {\"aaxis\": {\"gridcolor\": \"white\", \"linecolor\": \"white\", \"ticks\": \"\"}, \"baxis\": {\"gridcolor\": \"white\", \"linecolor\": \"white\", \"ticks\": \"\"}, \"bgcolor\": \"#E5ECF6\", \"caxis\": {\"gridcolor\": \"white\", \"linecolor\": \"white\", \"ticks\": \"\"}}, \"title\": {\"x\": 0.05}, \"xaxis\": {\"automargin\": true, \"gridcolor\": \"white\", \"linecolor\": \"white\", \"ticks\": \"\", \"title\": {\"standoff\": 15}, \"zerolinecolor\": \"white\", \"zerolinewidth\": 2}, \"yaxis\": {\"automargin\": true, \"gridcolor\": \"white\", \"linecolor\": \"white\", \"ticks\": \"\", \"title\": {\"standoff\": 15}, \"zerolinecolor\": \"white\", \"zerolinewidth\": 2}}}, \"title\": {\"font\": {\"color\": \"#4D5663\"}, \"text\": \"Top 100 words after removing stop words\"}, \"xaxis\": {\"gridcolor\": \"#E1E5ED\", \"linecolor\": \"black\", \"showgrid\": true, \"tickfont\": {\"color\": \"#4D5663\"}, \"title\": {\"font\": {\"color\": \"#4D5663\"}, \"text\": \"\"}, \"zerolinecolor\": \"#E1E5ED\"}, \"yaxis\": {\"gridcolor\": \"#E1E5ED\", \"linecolor\": \"black\", \"showgrid\": true, \"tickfont\": {\"color\": \"#4D5663\"}, \"title\": {\"font\": {\"color\": \"#4D5663\"}, \"text\": \"Count\"}, \"zerolinecolor\": \"#E1E5ED\"}},                        {\"showLink\": true, \"linkText\": \"Export to plot.ly\", \"plotlyServerURL\": \"https://plot.ly\", \"responsive\": true}                    ).then(function(){\n",
       "                            \n",
       "var gd = document.getElementById('eaf3ddf0-52ed-41d3-a73b-3a882670b0ae');\n",
       "var x = new MutationObserver(function (mutations, observer) {{\n",
       "        var display = window.getComputedStyle(gd).display;\n",
       "        if (!display || display === 'none') {{\n",
       "            console.log([gd, 'removed!']);\n",
       "            Plotly.purge(gd);\n",
       "            observer.disconnect();\n",
       "        }}\n",
       "}});\n",
       "\n",
       "// Listen for the removal of the full notebook cells\n",
       "var notebookContainer = gd.closest('#notebook-container');\n",
       "if (notebookContainer) {{\n",
       "    x.observe(notebookContainer, {childList: true});\n",
       "}}\n",
       "\n",
       "// Listen for the clearing of the current output cell\n",
       "var outputEl = gd.closest('.output');\n",
       "if (outputEl) {{\n",
       "    x.observe(outputEl, {childList: true});\n",
       "}}\n",
       "\n",
       "                        })                };                });            </script>        </div>"
      ]
     },
     "metadata": {},
     "output_type": "display_data"
    }
   ],
   "source": [
    "plot_model()"
   ]
  },
  {
   "cell_type": "code",
   "execution_count": 10,
   "metadata": {},
   "outputs": [
    {
     "data": {
      "text/html": [
       "        <script type=\"text/javascript\">\n",
       "        window.PlotlyConfig = {MathJaxConfig: 'local'};\n",
       "        if (window.MathJax) {MathJax.Hub.Config({SVG: {font: \"STIX-Web\"}});}\n",
       "        if (typeof require !== 'undefined') {\n",
       "        require.undef(\"plotly\");\n",
       "        requirejs.config({\n",
       "            paths: {\n",
       "                'plotly': ['https://cdn.plot.ly/plotly-latest.min']\n",
       "            }\n",
       "        });\n",
       "        require(['plotly'], function(Plotly) {\n",
       "            window._Plotly = Plotly;\n",
       "        });\n",
       "        }\n",
       "        </script>\n",
       "        "
      ]
     },
     "metadata": {},
     "output_type": "display_data"
    },
    {
     "data": {
      "application/vnd.plotly.v1+json": {
       "config": {
        "linkText": "Export to plot.ly",
        "plotlyServerURL": "https://plot.ly",
        "showLink": true
       },
       "data": [
        {
         "marker": {
          "color": "rgba(255, 153, 51, 0.6)",
          "line": {
           "color": "rgba(255, 153, 51, 1.0)",
           "width": 1
          }
         },
         "name": "count",
         "orientation": "v",
         "text": "",
         "type": "bar",
         "x": [
          "year old",
          "request loan",
          "start business",
          "year ago",
          "loan buy",
          "expand business",
          "marry child",
          "use loan",
          "repay loan",
          "business year",
          "school fee",
          "child school",
          "loan use",
          "business sell",
          "old married",
          "old child",
          "second loan",
          "married child",
          "work hard",
          "loan purchase",
          "first loan",
          "primary school",
          "mother child",
          "small business",
          "educate child",
          "hard work",
          "business able",
          "pay school",
          "use buy",
          "old marry",
          "increase stock",
          "secondary school",
          "increase income",
          "child live",
          "loan able",
          "loan order",
          "last year",
          "need loan",
          "business grow",
          "start small",
          "husband work",
          "training_educational_programs_information microfinance_ecuador_services_please",
          "business training_educational_programs_information",
          "woman group",
          "support family",
          "mifex_org_www_mifex org",
          "microfinance_ecuador_services_please mifex_org_www_mifex",
          "group member",
          "start sell",
          "help business",
          "year experience",
          "husband child",
          "able buy",
          "farmer also",
          "run business",
          "operate business",
          "also sell",
          "sell product",
          "business help",
          "able repay",
          "sell clothing",
          "child age",
          "child child",
          "begin business",
          "live husband",
          "loan usd",
          "provide family",
          "loan help",
          "high school",
          "give loan",
          "receive loan",
          "apply loan",
          "go school",
          "loan intend",
          "member group",
          "rice farmer",
          "risk_making loan",
          "attend school",
          "person group",
          "kenya_security_situation_many communities_remains_unsettled_affecte",
          "communities_remains_unsettled_affecte many",
          "risk_willing_accept_additional risk_making",
          "loan risk_willing_accept_additional",
          "local_businesses_lender loan",
          "many local_businesses_lender",
          "child primary",
          "fee child",
          "able provide",
          "loan month",
          "loan invest",
          "business well",
          "grow business",
          "old mother",
          "run small",
          "high demand",
          "well life",
          "child also",
          "plan use",
          "loan together",
          "business loan"
         ],
         "y": [
          491,
          182,
          171,
          160,
          150,
          148,
          148,
          140,
          123,
          112,
          105,
          99,
          95,
          93,
          93,
          92,
          74,
          70,
          70,
          69,
          68,
          66,
          65,
          63,
          60,
          60,
          59,
          58,
          56,
          54,
          53,
          52,
          52,
          51,
          51,
          50,
          47,
          47,
          47,
          46,
          46,
          46,
          46,
          46,
          45,
          44,
          44,
          44,
          44,
          44,
          44,
          43,
          43,
          42,
          42,
          42,
          41,
          41,
          40,
          40,
          40,
          40,
          39,
          38,
          37,
          37,
          37,
          36,
          36,
          36,
          35,
          35,
          35,
          34,
          34,
          33,
          32,
          32,
          32,
          32,
          32,
          32,
          32,
          32,
          32,
          31,
          31,
          31,
          30,
          30,
          30,
          29,
          29,
          29,
          28,
          28,
          28,
          27,
          27,
          27
         ]
        }
       ],
       "layout": {
        "legend": {
         "bgcolor": "#F5F6F9",
         "font": {
          "color": "#4D5663"
         }
        },
        "paper_bgcolor": "#F5F6F9",
        "plot_bgcolor": "#F5F6F9",
        "template": {
         "data": {
          "bar": [
           {
            "error_x": {
             "color": "#2a3f5f"
            },
            "error_y": {
             "color": "#2a3f5f"
            },
            "marker": {
             "line": {
              "color": "#E5ECF6",
              "width": 0.5
             }
            },
            "type": "bar"
           }
          ],
          "barpolar": [
           {
            "marker": {
             "line": {
              "color": "#E5ECF6",
              "width": 0.5
             }
            },
            "type": "barpolar"
           }
          ],
          "carpet": [
           {
            "aaxis": {
             "endlinecolor": "#2a3f5f",
             "gridcolor": "white",
             "linecolor": "white",
             "minorgridcolor": "white",
             "startlinecolor": "#2a3f5f"
            },
            "baxis": {
             "endlinecolor": "#2a3f5f",
             "gridcolor": "white",
             "linecolor": "white",
             "minorgridcolor": "white",
             "startlinecolor": "#2a3f5f"
            },
            "type": "carpet"
           }
          ],
          "choropleth": [
           {
            "colorbar": {
             "outlinewidth": 0,
             "ticks": ""
            },
            "type": "choropleth"
           }
          ],
          "contour": [
           {
            "colorbar": {
             "outlinewidth": 0,
             "ticks": ""
            },
            "colorscale": [
             [
              0,
              "#0d0887"
             ],
             [
              0.1111111111111111,
              "#46039f"
             ],
             [
              0.2222222222222222,
              "#7201a8"
             ],
             [
              0.3333333333333333,
              "#9c179e"
             ],
             [
              0.4444444444444444,
              "#bd3786"
             ],
             [
              0.5555555555555556,
              "#d8576b"
             ],
             [
              0.6666666666666666,
              "#ed7953"
             ],
             [
              0.7777777777777778,
              "#fb9f3a"
             ],
             [
              0.8888888888888888,
              "#fdca26"
             ],
             [
              1,
              "#f0f921"
             ]
            ],
            "type": "contour"
           }
          ],
          "contourcarpet": [
           {
            "colorbar": {
             "outlinewidth": 0,
             "ticks": ""
            },
            "type": "contourcarpet"
           }
          ],
          "heatmap": [
           {
            "colorbar": {
             "outlinewidth": 0,
             "ticks": ""
            },
            "colorscale": [
             [
              0,
              "#0d0887"
             ],
             [
              0.1111111111111111,
              "#46039f"
             ],
             [
              0.2222222222222222,
              "#7201a8"
             ],
             [
              0.3333333333333333,
              "#9c179e"
             ],
             [
              0.4444444444444444,
              "#bd3786"
             ],
             [
              0.5555555555555556,
              "#d8576b"
             ],
             [
              0.6666666666666666,
              "#ed7953"
             ],
             [
              0.7777777777777778,
              "#fb9f3a"
             ],
             [
              0.8888888888888888,
              "#fdca26"
             ],
             [
              1,
              "#f0f921"
             ]
            ],
            "type": "heatmap"
           }
          ],
          "heatmapgl": [
           {
            "colorbar": {
             "outlinewidth": 0,
             "ticks": ""
            },
            "colorscale": [
             [
              0,
              "#0d0887"
             ],
             [
              0.1111111111111111,
              "#46039f"
             ],
             [
              0.2222222222222222,
              "#7201a8"
             ],
             [
              0.3333333333333333,
              "#9c179e"
             ],
             [
              0.4444444444444444,
              "#bd3786"
             ],
             [
              0.5555555555555556,
              "#d8576b"
             ],
             [
              0.6666666666666666,
              "#ed7953"
             ],
             [
              0.7777777777777778,
              "#fb9f3a"
             ],
             [
              0.8888888888888888,
              "#fdca26"
             ],
             [
              1,
              "#f0f921"
             ]
            ],
            "type": "heatmapgl"
           }
          ],
          "histogram": [
           {
            "marker": {
             "colorbar": {
              "outlinewidth": 0,
              "ticks": ""
             }
            },
            "type": "histogram"
           }
          ],
          "histogram2d": [
           {
            "colorbar": {
             "outlinewidth": 0,
             "ticks": ""
            },
            "colorscale": [
             [
              0,
              "#0d0887"
             ],
             [
              0.1111111111111111,
              "#46039f"
             ],
             [
              0.2222222222222222,
              "#7201a8"
             ],
             [
              0.3333333333333333,
              "#9c179e"
             ],
             [
              0.4444444444444444,
              "#bd3786"
             ],
             [
              0.5555555555555556,
              "#d8576b"
             ],
             [
              0.6666666666666666,
              "#ed7953"
             ],
             [
              0.7777777777777778,
              "#fb9f3a"
             ],
             [
              0.8888888888888888,
              "#fdca26"
             ],
             [
              1,
              "#f0f921"
             ]
            ],
            "type": "histogram2d"
           }
          ],
          "histogram2dcontour": [
           {
            "colorbar": {
             "outlinewidth": 0,
             "ticks": ""
            },
            "colorscale": [
             [
              0,
              "#0d0887"
             ],
             [
              0.1111111111111111,
              "#46039f"
             ],
             [
              0.2222222222222222,
              "#7201a8"
             ],
             [
              0.3333333333333333,
              "#9c179e"
             ],
             [
              0.4444444444444444,
              "#bd3786"
             ],
             [
              0.5555555555555556,
              "#d8576b"
             ],
             [
              0.6666666666666666,
              "#ed7953"
             ],
             [
              0.7777777777777778,
              "#fb9f3a"
             ],
             [
              0.8888888888888888,
              "#fdca26"
             ],
             [
              1,
              "#f0f921"
             ]
            ],
            "type": "histogram2dcontour"
           }
          ],
          "mesh3d": [
           {
            "colorbar": {
             "outlinewidth": 0,
             "ticks": ""
            },
            "type": "mesh3d"
           }
          ],
          "parcoords": [
           {
            "line": {
             "colorbar": {
              "outlinewidth": 0,
              "ticks": ""
             }
            },
            "type": "parcoords"
           }
          ],
          "pie": [
           {
            "automargin": true,
            "type": "pie"
           }
          ],
          "scatter": [
           {
            "marker": {
             "colorbar": {
              "outlinewidth": 0,
              "ticks": ""
             }
            },
            "type": "scatter"
           }
          ],
          "scatter3d": [
           {
            "line": {
             "colorbar": {
              "outlinewidth": 0,
              "ticks": ""
             }
            },
            "marker": {
             "colorbar": {
              "outlinewidth": 0,
              "ticks": ""
             }
            },
            "type": "scatter3d"
           }
          ],
          "scattercarpet": [
           {
            "marker": {
             "colorbar": {
              "outlinewidth": 0,
              "ticks": ""
             }
            },
            "type": "scattercarpet"
           }
          ],
          "scattergeo": [
           {
            "marker": {
             "colorbar": {
              "outlinewidth": 0,
              "ticks": ""
             }
            },
            "type": "scattergeo"
           }
          ],
          "scattergl": [
           {
            "marker": {
             "colorbar": {
              "outlinewidth": 0,
              "ticks": ""
             }
            },
            "type": "scattergl"
           }
          ],
          "scattermapbox": [
           {
            "marker": {
             "colorbar": {
              "outlinewidth": 0,
              "ticks": ""
             }
            },
            "type": "scattermapbox"
           }
          ],
          "scatterpolar": [
           {
            "marker": {
             "colorbar": {
              "outlinewidth": 0,
              "ticks": ""
             }
            },
            "type": "scatterpolar"
           }
          ],
          "scatterpolargl": [
           {
            "marker": {
             "colorbar": {
              "outlinewidth": 0,
              "ticks": ""
             }
            },
            "type": "scatterpolargl"
           }
          ],
          "scatterternary": [
           {
            "marker": {
             "colorbar": {
              "outlinewidth": 0,
              "ticks": ""
             }
            },
            "type": "scatterternary"
           }
          ],
          "surface": [
           {
            "colorbar": {
             "outlinewidth": 0,
             "ticks": ""
            },
            "colorscale": [
             [
              0,
              "#0d0887"
             ],
             [
              0.1111111111111111,
              "#46039f"
             ],
             [
              0.2222222222222222,
              "#7201a8"
             ],
             [
              0.3333333333333333,
              "#9c179e"
             ],
             [
              0.4444444444444444,
              "#bd3786"
             ],
             [
              0.5555555555555556,
              "#d8576b"
             ],
             [
              0.6666666666666666,
              "#ed7953"
             ],
             [
              0.7777777777777778,
              "#fb9f3a"
             ],
             [
              0.8888888888888888,
              "#fdca26"
             ],
             [
              1,
              "#f0f921"
             ]
            ],
            "type": "surface"
           }
          ],
          "table": [
           {
            "cells": {
             "fill": {
              "color": "#EBF0F8"
             },
             "line": {
              "color": "white"
             }
            },
            "header": {
             "fill": {
              "color": "#C8D4E3"
             },
             "line": {
              "color": "white"
             }
            },
            "type": "table"
           }
          ]
         },
         "layout": {
          "annotationdefaults": {
           "arrowcolor": "#2a3f5f",
           "arrowhead": 0,
           "arrowwidth": 1
          },
          "autotypenumbers": "strict",
          "coloraxis": {
           "colorbar": {
            "outlinewidth": 0,
            "ticks": ""
           }
          },
          "colorscale": {
           "diverging": [
            [
             0,
             "#8e0152"
            ],
            [
             0.1,
             "#c51b7d"
            ],
            [
             0.2,
             "#de77ae"
            ],
            [
             0.3,
             "#f1b6da"
            ],
            [
             0.4,
             "#fde0ef"
            ],
            [
             0.5,
             "#f7f7f7"
            ],
            [
             0.6,
             "#e6f5d0"
            ],
            [
             0.7,
             "#b8e186"
            ],
            [
             0.8,
             "#7fbc41"
            ],
            [
             0.9,
             "#4d9221"
            ],
            [
             1,
             "#276419"
            ]
           ],
           "sequential": [
            [
             0,
             "#0d0887"
            ],
            [
             0.1111111111111111,
             "#46039f"
            ],
            [
             0.2222222222222222,
             "#7201a8"
            ],
            [
             0.3333333333333333,
             "#9c179e"
            ],
            [
             0.4444444444444444,
             "#bd3786"
            ],
            [
             0.5555555555555556,
             "#d8576b"
            ],
            [
             0.6666666666666666,
             "#ed7953"
            ],
            [
             0.7777777777777778,
             "#fb9f3a"
            ],
            [
             0.8888888888888888,
             "#fdca26"
            ],
            [
             1,
             "#f0f921"
            ]
           ],
           "sequentialminus": [
            [
             0,
             "#0d0887"
            ],
            [
             0.1111111111111111,
             "#46039f"
            ],
            [
             0.2222222222222222,
             "#7201a8"
            ],
            [
             0.3333333333333333,
             "#9c179e"
            ],
            [
             0.4444444444444444,
             "#bd3786"
            ],
            [
             0.5555555555555556,
             "#d8576b"
            ],
            [
             0.6666666666666666,
             "#ed7953"
            ],
            [
             0.7777777777777778,
             "#fb9f3a"
            ],
            [
             0.8888888888888888,
             "#fdca26"
            ],
            [
             1,
             "#f0f921"
            ]
           ]
          },
          "colorway": [
           "#636efa",
           "#EF553B",
           "#00cc96",
           "#ab63fa",
           "#FFA15A",
           "#19d3f3",
           "#FF6692",
           "#B6E880",
           "#FF97FF",
           "#FECB52"
          ],
          "font": {
           "color": "#2a3f5f"
          },
          "geo": {
           "bgcolor": "white",
           "lakecolor": "white",
           "landcolor": "#E5ECF6",
           "showlakes": true,
           "showland": true,
           "subunitcolor": "white"
          },
          "hoverlabel": {
           "align": "left"
          },
          "hovermode": "closest",
          "mapbox": {
           "style": "light"
          },
          "paper_bgcolor": "white",
          "plot_bgcolor": "#E5ECF6",
          "polar": {
           "angularaxis": {
            "gridcolor": "white",
            "linecolor": "white",
            "ticks": ""
           },
           "bgcolor": "#E5ECF6",
           "radialaxis": {
            "gridcolor": "white",
            "linecolor": "white",
            "ticks": ""
           }
          },
          "scene": {
           "xaxis": {
            "backgroundcolor": "#E5ECF6",
            "gridcolor": "white",
            "gridwidth": 2,
            "linecolor": "white",
            "showbackground": true,
            "ticks": "",
            "zerolinecolor": "white"
           },
           "yaxis": {
            "backgroundcolor": "#E5ECF6",
            "gridcolor": "white",
            "gridwidth": 2,
            "linecolor": "white",
            "showbackground": true,
            "ticks": "",
            "zerolinecolor": "white"
           },
           "zaxis": {
            "backgroundcolor": "#E5ECF6",
            "gridcolor": "white",
            "gridwidth": 2,
            "linecolor": "white",
            "showbackground": true,
            "ticks": "",
            "zerolinecolor": "white"
           }
          },
          "shapedefaults": {
           "line": {
            "color": "#2a3f5f"
           }
          },
          "ternary": {
           "aaxis": {
            "gridcolor": "white",
            "linecolor": "white",
            "ticks": ""
           },
           "baxis": {
            "gridcolor": "white",
            "linecolor": "white",
            "ticks": ""
           },
           "bgcolor": "#E5ECF6",
           "caxis": {
            "gridcolor": "white",
            "linecolor": "white",
            "ticks": ""
           }
          },
          "title": {
           "x": 0.05
          },
          "xaxis": {
           "automargin": true,
           "gridcolor": "white",
           "linecolor": "white",
           "ticks": "",
           "title": {
            "standoff": 15
           },
           "zerolinecolor": "white",
           "zerolinewidth": 2
          },
          "yaxis": {
           "automargin": true,
           "gridcolor": "white",
           "linecolor": "white",
           "ticks": "",
           "title": {
            "standoff": 15
           },
           "zerolinecolor": "white",
           "zerolinewidth": 2
          }
         }
        },
        "title": {
         "font": {
          "color": "#4D5663"
         },
         "text": "Top 100 bigrams after removing stop words"
        },
        "xaxis": {
         "gridcolor": "#E1E5ED",
         "linecolor": "black",
         "showgrid": true,
         "tickfont": {
          "color": "#4D5663"
         },
         "title": {
          "font": {
           "color": "#4D5663"
          },
          "text": ""
         },
         "zerolinecolor": "#E1E5ED"
        },
        "yaxis": {
         "gridcolor": "#E1E5ED",
         "linecolor": "black",
         "showgrid": true,
         "tickfont": {
          "color": "#4D5663"
         },
         "title": {
          "font": {
           "color": "#4D5663"
          },
          "text": "Count"
         },
         "zerolinecolor": "#E1E5ED"
        }
       }
      },
      "text/html": [
       "<div>                            <div id=\"3d4462a2-b042-4c7b-8296-92ae8022b5a6\" class=\"plotly-graph-div\" style=\"height:525px; width:100%;\"></div>            <script type=\"text/javascript\">                require([\"plotly\"], function(Plotly) {                    window.PLOTLYENV=window.PLOTLYENV || {};\n",
       "                    window.PLOTLYENV.BASE_URL='https://plot.ly';                                    if (document.getElementById(\"3d4462a2-b042-4c7b-8296-92ae8022b5a6\")) {                    Plotly.newPlot(                        \"3d4462a2-b042-4c7b-8296-92ae8022b5a6\",                        [{\"marker\": {\"color\": \"rgba(255, 153, 51, 0.6)\", \"line\": {\"color\": \"rgba(255, 153, 51, 1.0)\", \"width\": 1}}, \"name\": \"count\", \"orientation\": \"v\", \"text\": \"\", \"type\": \"bar\", \"x\": [\"year old\", \"request loan\", \"start business\", \"year ago\", \"loan buy\", \"expand business\", \"marry child\", \"use loan\", \"repay loan\", \"business year\", \"school fee\", \"child school\", \"loan use\", \"business sell\", \"old married\", \"old child\", \"second loan\", \"married child\", \"work hard\", \"loan purchase\", \"first loan\", \"primary school\", \"mother child\", \"small business\", \"educate child\", \"hard work\", \"business able\", \"pay school\", \"use buy\", \"old marry\", \"increase stock\", \"secondary school\", \"increase income\", \"child live\", \"loan able\", \"loan order\", \"last year\", \"need loan\", \"business grow\", \"start small\", \"husband work\", \"training_educational_programs_information microfinance_ecuador_services_please\", \"business training_educational_programs_information\", \"woman group\", \"support family\", \"mifex_org_www_mifex org\", \"microfinance_ecuador_services_please mifex_org_www_mifex\", \"group member\", \"start sell\", \"help business\", \"year experience\", \"husband child\", \"able buy\", \"farmer also\", \"run business\", \"operate business\", \"also sell\", \"sell product\", \"business help\", \"able repay\", \"sell clothing\", \"child age\", \"child child\", \"begin business\", \"live husband\", \"loan usd\", \"provide family\", \"loan help\", \"high school\", \"give loan\", \"receive loan\", \"apply loan\", \"go school\", \"loan intend\", \"member group\", \"rice farmer\", \"risk_making loan\", \"attend school\", \"person group\", \"kenya_security_situation_many communities_remains_unsettled_affecte\", \"communities_remains_unsettled_affecte many\", \"risk_willing_accept_additional risk_making\", \"loan risk_willing_accept_additional\", \"local_businesses_lender loan\", \"many local_businesses_lender\", \"child primary\", \"fee child\", \"able provide\", \"loan month\", \"loan invest\", \"business well\", \"grow business\", \"old mother\", \"run small\", \"high demand\", \"well life\", \"child also\", \"plan use\", \"loan together\", \"business loan\"], \"y\": [491, 182, 171, 160, 150, 148, 148, 140, 123, 112, 105, 99, 95, 93, 93, 92, 74, 70, 70, 69, 68, 66, 65, 63, 60, 60, 59, 58, 56, 54, 53, 52, 52, 51, 51, 50, 47, 47, 47, 46, 46, 46, 46, 46, 45, 44, 44, 44, 44, 44, 44, 43, 43, 42, 42, 42, 41, 41, 40, 40, 40, 40, 39, 38, 37, 37, 37, 36, 36, 36, 35, 35, 35, 34, 34, 33, 32, 32, 32, 32, 32, 32, 32, 32, 32, 31, 31, 31, 30, 30, 30, 29, 29, 29, 28, 28, 28, 27, 27, 27]}],                        {\"legend\": {\"bgcolor\": \"#F5F6F9\", \"font\": {\"color\": \"#4D5663\"}}, \"paper_bgcolor\": \"#F5F6F9\", \"plot_bgcolor\": \"#F5F6F9\", \"template\": {\"data\": {\"bar\": [{\"error_x\": {\"color\": \"#2a3f5f\"}, \"error_y\": {\"color\": \"#2a3f5f\"}, \"marker\": {\"line\": {\"color\": \"#E5ECF6\", \"width\": 0.5}}, \"type\": \"bar\"}], \"barpolar\": [{\"marker\": {\"line\": {\"color\": \"#E5ECF6\", \"width\": 0.5}}, \"type\": \"barpolar\"}], \"carpet\": [{\"aaxis\": {\"endlinecolor\": \"#2a3f5f\", \"gridcolor\": \"white\", \"linecolor\": \"white\", \"minorgridcolor\": \"white\", \"startlinecolor\": \"#2a3f5f\"}, \"baxis\": {\"endlinecolor\": \"#2a3f5f\", \"gridcolor\": \"white\", \"linecolor\": \"white\", \"minorgridcolor\": \"white\", \"startlinecolor\": \"#2a3f5f\"}, \"type\": \"carpet\"}], \"choropleth\": [{\"colorbar\": {\"outlinewidth\": 0, \"ticks\": \"\"}, \"type\": \"choropleth\"}], \"contour\": [{\"colorbar\": {\"outlinewidth\": 0, \"ticks\": \"\"}, \"colorscale\": [[0.0, \"#0d0887\"], [0.1111111111111111, \"#46039f\"], [0.2222222222222222, \"#7201a8\"], [0.3333333333333333, \"#9c179e\"], [0.4444444444444444, \"#bd3786\"], [0.5555555555555556, \"#d8576b\"], [0.6666666666666666, \"#ed7953\"], [0.7777777777777778, \"#fb9f3a\"], [0.8888888888888888, \"#fdca26\"], [1.0, \"#f0f921\"]], \"type\": \"contour\"}], \"contourcarpet\": [{\"colorbar\": {\"outlinewidth\": 0, \"ticks\": \"\"}, \"type\": \"contourcarpet\"}], \"heatmap\": [{\"colorbar\": {\"outlinewidth\": 0, \"ticks\": \"\"}, \"colorscale\": [[0.0, \"#0d0887\"], [0.1111111111111111, \"#46039f\"], [0.2222222222222222, \"#7201a8\"], [0.3333333333333333, \"#9c179e\"], [0.4444444444444444, \"#bd3786\"], [0.5555555555555556, \"#d8576b\"], [0.6666666666666666, \"#ed7953\"], [0.7777777777777778, \"#fb9f3a\"], [0.8888888888888888, \"#fdca26\"], [1.0, \"#f0f921\"]], \"type\": \"heatmap\"}], \"heatmapgl\": [{\"colorbar\": {\"outlinewidth\": 0, \"ticks\": \"\"}, \"colorscale\": [[0.0, \"#0d0887\"], [0.1111111111111111, \"#46039f\"], [0.2222222222222222, \"#7201a8\"], [0.3333333333333333, \"#9c179e\"], [0.4444444444444444, \"#bd3786\"], [0.5555555555555556, \"#d8576b\"], [0.6666666666666666, \"#ed7953\"], [0.7777777777777778, \"#fb9f3a\"], [0.8888888888888888, \"#fdca26\"], [1.0, \"#f0f921\"]], \"type\": \"heatmapgl\"}], \"histogram\": [{\"marker\": {\"colorbar\": {\"outlinewidth\": 0, \"ticks\": \"\"}}, \"type\": \"histogram\"}], \"histogram2d\": [{\"colorbar\": {\"outlinewidth\": 0, \"ticks\": \"\"}, \"colorscale\": [[0.0, \"#0d0887\"], [0.1111111111111111, \"#46039f\"], [0.2222222222222222, \"#7201a8\"], [0.3333333333333333, \"#9c179e\"], [0.4444444444444444, \"#bd3786\"], [0.5555555555555556, \"#d8576b\"], [0.6666666666666666, \"#ed7953\"], [0.7777777777777778, \"#fb9f3a\"], [0.8888888888888888, \"#fdca26\"], [1.0, \"#f0f921\"]], \"type\": \"histogram2d\"}], \"histogram2dcontour\": [{\"colorbar\": {\"outlinewidth\": 0, \"ticks\": \"\"}, \"colorscale\": [[0.0, \"#0d0887\"], [0.1111111111111111, \"#46039f\"], [0.2222222222222222, \"#7201a8\"], [0.3333333333333333, \"#9c179e\"], [0.4444444444444444, \"#bd3786\"], [0.5555555555555556, \"#d8576b\"], [0.6666666666666666, \"#ed7953\"], [0.7777777777777778, \"#fb9f3a\"], [0.8888888888888888, \"#fdca26\"], [1.0, \"#f0f921\"]], \"type\": \"histogram2dcontour\"}], \"mesh3d\": [{\"colorbar\": {\"outlinewidth\": 0, \"ticks\": \"\"}, \"type\": \"mesh3d\"}], \"parcoords\": [{\"line\": {\"colorbar\": {\"outlinewidth\": 0, \"ticks\": \"\"}}, \"type\": \"parcoords\"}], \"pie\": [{\"automargin\": true, \"type\": \"pie\"}], \"scatter\": [{\"marker\": {\"colorbar\": {\"outlinewidth\": 0, \"ticks\": \"\"}}, \"type\": \"scatter\"}], \"scatter3d\": [{\"line\": {\"colorbar\": {\"outlinewidth\": 0, \"ticks\": \"\"}}, \"marker\": {\"colorbar\": {\"outlinewidth\": 0, \"ticks\": \"\"}}, \"type\": \"scatter3d\"}], \"scattercarpet\": [{\"marker\": {\"colorbar\": {\"outlinewidth\": 0, \"ticks\": \"\"}}, \"type\": \"scattercarpet\"}], \"scattergeo\": [{\"marker\": {\"colorbar\": {\"outlinewidth\": 0, \"ticks\": \"\"}}, \"type\": \"scattergeo\"}], \"scattergl\": [{\"marker\": {\"colorbar\": {\"outlinewidth\": 0, \"ticks\": \"\"}}, \"type\": \"scattergl\"}], \"scattermapbox\": [{\"marker\": {\"colorbar\": {\"outlinewidth\": 0, \"ticks\": \"\"}}, \"type\": \"scattermapbox\"}], \"scatterpolar\": [{\"marker\": {\"colorbar\": {\"outlinewidth\": 0, \"ticks\": \"\"}}, \"type\": \"scatterpolar\"}], \"scatterpolargl\": [{\"marker\": {\"colorbar\": {\"outlinewidth\": 0, \"ticks\": \"\"}}, \"type\": \"scatterpolargl\"}], \"scatterternary\": [{\"marker\": {\"colorbar\": {\"outlinewidth\": 0, \"ticks\": \"\"}}, \"type\": \"scatterternary\"}], \"surface\": [{\"colorbar\": {\"outlinewidth\": 0, \"ticks\": \"\"}, \"colorscale\": [[0.0, \"#0d0887\"], [0.1111111111111111, \"#46039f\"], [0.2222222222222222, \"#7201a8\"], [0.3333333333333333, \"#9c179e\"], [0.4444444444444444, \"#bd3786\"], [0.5555555555555556, \"#d8576b\"], [0.6666666666666666, \"#ed7953\"], [0.7777777777777778, \"#fb9f3a\"], [0.8888888888888888, \"#fdca26\"], [1.0, \"#f0f921\"]], \"type\": \"surface\"}], \"table\": [{\"cells\": {\"fill\": {\"color\": \"#EBF0F8\"}, \"line\": {\"color\": \"white\"}}, \"header\": {\"fill\": {\"color\": \"#C8D4E3\"}, \"line\": {\"color\": \"white\"}}, \"type\": \"table\"}]}, \"layout\": {\"annotationdefaults\": {\"arrowcolor\": \"#2a3f5f\", \"arrowhead\": 0, \"arrowwidth\": 1}, \"autotypenumbers\": \"strict\", \"coloraxis\": {\"colorbar\": {\"outlinewidth\": 0, \"ticks\": \"\"}}, \"colorscale\": {\"diverging\": [[0, \"#8e0152\"], [0.1, \"#c51b7d\"], [0.2, \"#de77ae\"], [0.3, \"#f1b6da\"], [0.4, \"#fde0ef\"], [0.5, \"#f7f7f7\"], [0.6, \"#e6f5d0\"], [0.7, \"#b8e186\"], [0.8, \"#7fbc41\"], [0.9, \"#4d9221\"], [1, \"#276419\"]], \"sequential\": [[0.0, \"#0d0887\"], [0.1111111111111111, \"#46039f\"], [0.2222222222222222, \"#7201a8\"], [0.3333333333333333, \"#9c179e\"], [0.4444444444444444, \"#bd3786\"], [0.5555555555555556, \"#d8576b\"], [0.6666666666666666, \"#ed7953\"], [0.7777777777777778, \"#fb9f3a\"], [0.8888888888888888, \"#fdca26\"], [1.0, \"#f0f921\"]], \"sequentialminus\": [[0.0, \"#0d0887\"], [0.1111111111111111, \"#46039f\"], [0.2222222222222222, \"#7201a8\"], [0.3333333333333333, \"#9c179e\"], [0.4444444444444444, \"#bd3786\"], [0.5555555555555556, \"#d8576b\"], [0.6666666666666666, \"#ed7953\"], [0.7777777777777778, \"#fb9f3a\"], [0.8888888888888888, \"#fdca26\"], [1.0, \"#f0f921\"]]}, \"colorway\": [\"#636efa\", \"#EF553B\", \"#00cc96\", \"#ab63fa\", \"#FFA15A\", \"#19d3f3\", \"#FF6692\", \"#B6E880\", \"#FF97FF\", \"#FECB52\"], \"font\": {\"color\": \"#2a3f5f\"}, \"geo\": {\"bgcolor\": \"white\", \"lakecolor\": \"white\", \"landcolor\": \"#E5ECF6\", \"showlakes\": true, \"showland\": true, \"subunitcolor\": \"white\"}, \"hoverlabel\": {\"align\": \"left\"}, \"hovermode\": \"closest\", \"mapbox\": {\"style\": \"light\"}, \"paper_bgcolor\": \"white\", \"plot_bgcolor\": \"#E5ECF6\", \"polar\": {\"angularaxis\": {\"gridcolor\": \"white\", \"linecolor\": \"white\", \"ticks\": \"\"}, \"bgcolor\": \"#E5ECF6\", \"radialaxis\": {\"gridcolor\": \"white\", \"linecolor\": \"white\", \"ticks\": \"\"}}, \"scene\": {\"xaxis\": {\"backgroundcolor\": \"#E5ECF6\", \"gridcolor\": \"white\", \"gridwidth\": 2, \"linecolor\": \"white\", \"showbackground\": true, \"ticks\": \"\", \"zerolinecolor\": \"white\"}, \"yaxis\": {\"backgroundcolor\": \"#E5ECF6\", \"gridcolor\": \"white\", \"gridwidth\": 2, \"linecolor\": \"white\", \"showbackground\": true, \"ticks\": \"\", \"zerolinecolor\": \"white\"}, \"zaxis\": {\"backgroundcolor\": \"#E5ECF6\", \"gridcolor\": \"white\", \"gridwidth\": 2, \"linecolor\": \"white\", \"showbackground\": true, \"ticks\": \"\", \"zerolinecolor\": \"white\"}}, \"shapedefaults\": {\"line\": {\"color\": \"#2a3f5f\"}}, \"ternary\": {\"aaxis\": {\"gridcolor\": \"white\", \"linecolor\": \"white\", \"ticks\": \"\"}, \"baxis\": {\"gridcolor\": \"white\", \"linecolor\": \"white\", \"ticks\": \"\"}, \"bgcolor\": \"#E5ECF6\", \"caxis\": {\"gridcolor\": \"white\", \"linecolor\": \"white\", \"ticks\": \"\"}}, \"title\": {\"x\": 0.05}, \"xaxis\": {\"automargin\": true, \"gridcolor\": \"white\", \"linecolor\": \"white\", \"ticks\": \"\", \"title\": {\"standoff\": 15}, \"zerolinecolor\": \"white\", \"zerolinewidth\": 2}, \"yaxis\": {\"automargin\": true, \"gridcolor\": \"white\", \"linecolor\": \"white\", \"ticks\": \"\", \"title\": {\"standoff\": 15}, \"zerolinecolor\": \"white\", \"zerolinewidth\": 2}}}, \"title\": {\"font\": {\"color\": \"#4D5663\"}, \"text\": \"Top 100 bigrams after removing stop words\"}, \"xaxis\": {\"gridcolor\": \"#E1E5ED\", \"linecolor\": \"black\", \"showgrid\": true, \"tickfont\": {\"color\": \"#4D5663\"}, \"title\": {\"font\": {\"color\": \"#4D5663\"}, \"text\": \"\"}, \"zerolinecolor\": \"#E1E5ED\"}, \"yaxis\": {\"gridcolor\": \"#E1E5ED\", \"linecolor\": \"black\", \"showgrid\": true, \"tickfont\": {\"color\": \"#4D5663\"}, \"title\": {\"font\": {\"color\": \"#4D5663\"}, \"text\": \"Count\"}, \"zerolinecolor\": \"#E1E5ED\"}},                        {\"showLink\": true, \"linkText\": \"Export to plot.ly\", \"plotlyServerURL\": \"https://plot.ly\", \"responsive\": true}                    ).then(function(){\n",
       "                            \n",
       "var gd = document.getElementById('3d4462a2-b042-4c7b-8296-92ae8022b5a6');\n",
       "var x = new MutationObserver(function (mutations, observer) {{\n",
       "        var display = window.getComputedStyle(gd).display;\n",
       "        if (!display || display === 'none') {{\n",
       "            console.log([gd, 'removed!']);\n",
       "            Plotly.purge(gd);\n",
       "            observer.disconnect();\n",
       "        }}\n",
       "}});\n",
       "\n",
       "// Listen for the removal of the full notebook cells\n",
       "var notebookContainer = gd.closest('#notebook-container');\n",
       "if (notebookContainer) {{\n",
       "    x.observe(notebookContainer, {childList: true});\n",
       "}}\n",
       "\n",
       "// Listen for the clearing of the current output cell\n",
       "var outputEl = gd.closest('.output');\n",
       "if (outputEl) {{\n",
       "    x.observe(outputEl, {childList: true});\n",
       "}}\n",
       "\n",
       "                        })                };                });            </script>        </div>"
      ]
     },
     "metadata": {},
     "output_type": "display_data"
    }
   ],
   "source": [
    "plot_model(plot = 'bigram')"
   ]
  },
  {
   "cell_type": "code",
   "execution_count": 11,
   "metadata": {},
   "outputs": [
    {
     "data": {
      "text/html": [
       "        <script type=\"text/javascript\">\n",
       "        window.PlotlyConfig = {MathJaxConfig: 'local'};\n",
       "        if (window.MathJax) {MathJax.Hub.Config({SVG: {font: \"STIX-Web\"}});}\n",
       "        if (typeof require !== 'undefined') {\n",
       "        require.undef(\"plotly\");\n",
       "        requirejs.config({\n",
       "            paths: {\n",
       "                'plotly': ['https://cdn.plot.ly/plotly-latest.min']\n",
       "            }\n",
       "        });\n",
       "        require(['plotly'], function(Plotly) {\n",
       "            window._Plotly = Plotly;\n",
       "        });\n",
       "        }\n",
       "        </script>\n",
       "        "
      ]
     },
     "metadata": {},
     "output_type": "display_data"
    },
    {
     "data": {
      "application/vnd.plotly.v1+json": {
       "config": {
        "linkText": "Export to plot.ly",
        "plotlyServerURL": "https://plot.ly",
        "showLink": true
       },
       "data": [
        {
         "marker": {
          "color": "rgba(255, 153, 51, 0.6)",
          "line": {
           "color": "rgba(255, 153, 51, 1.0)",
           "width": 1
          }
         },
         "name": "count",
         "orientation": "v",
         "text": "",
         "type": "bar",
         "x": [
          "business",
          "loan",
          "child",
          "year",
          "school",
          "buy",
          "family",
          "old",
          "able",
          "sell",
          "request",
          "expand",
          "purchase",
          "use",
          "stock",
          "also",
          "income",
          "increase",
          "pay",
          "start",
          "live",
          "work",
          "need",
          "make",
          "customer",
          "repay",
          "fee",
          "shop",
          "enable",
          "help",
          "meet",
          "well",
          "intend",
          "market",
          "many",
          "small",
          "marry",
          "support",
          "provide",
          "service",
          "go",
          "get",
          "husband",
          "time",
          "high",
          "good",
          "young",
          "demand",
          "want",
          "area",
          "community",
          "plan",
          "earn",
          "transport",
          "hard",
          "due",
          "operate",
          "married",
          "money",
          "clothe",
          "rent",
          "therefore",
          "wife",
          "town",
          "profit",
          "run",
          "capital",
          "enough",
          "local",
          "give",
          "farm",
          "age",
          "cater",
          "mother",
          "parent",
          "education",
          "farmer",
          "woman",
          "employ",
          "client",
          "cost",
          "educate",
          "grow",
          "improve",
          "still",
          "new",
          "supply",
          "care",
          "take",
          "license",
          "tailor",
          "premise",
          "ago",
          "maize",
          "single",
          "last",
          "large",
          "budget",
          "additional",
          "man"
         ],
         "y": [
          468,
          398,
          307,
          288,
          244,
          175,
          168,
          165,
          159,
          146,
          133,
          132,
          128,
          123,
          122,
          121,
          116,
          110,
          106,
          103,
          99,
          94,
          89,
          88,
          85,
          77,
          76,
          71,
          70,
          70,
          69,
          65,
          63,
          63,
          61,
          61,
          60,
          60,
          59,
          59,
          59,
          59,
          57,
          57,
          56,
          54,
          54,
          52,
          51,
          51,
          50,
          49,
          49,
          46,
          45,
          45,
          44,
          43,
          43,
          43,
          42,
          41,
          40,
          40,
          40,
          39,
          39,
          39,
          38,
          37,
          37,
          37,
          37,
          37,
          36,
          35,
          35,
          34,
          34,
          33,
          33,
          33,
          33,
          32,
          32,
          31,
          31,
          30,
          30,
          30,
          29,
          29,
          29,
          29,
          28,
          28,
          27,
          27,
          27,
          27
         ]
        }
       ],
       "layout": {
        "legend": {
         "bgcolor": "#F5F6F9",
         "font": {
          "color": "#4D5663"
         }
        },
        "paper_bgcolor": "#F5F6F9",
        "plot_bgcolor": "#F5F6F9",
        "template": {
         "data": {
          "bar": [
           {
            "error_x": {
             "color": "#2a3f5f"
            },
            "error_y": {
             "color": "#2a3f5f"
            },
            "marker": {
             "line": {
              "color": "#E5ECF6",
              "width": 0.5
             }
            },
            "type": "bar"
           }
          ],
          "barpolar": [
           {
            "marker": {
             "line": {
              "color": "#E5ECF6",
              "width": 0.5
             }
            },
            "type": "barpolar"
           }
          ],
          "carpet": [
           {
            "aaxis": {
             "endlinecolor": "#2a3f5f",
             "gridcolor": "white",
             "linecolor": "white",
             "minorgridcolor": "white",
             "startlinecolor": "#2a3f5f"
            },
            "baxis": {
             "endlinecolor": "#2a3f5f",
             "gridcolor": "white",
             "linecolor": "white",
             "minorgridcolor": "white",
             "startlinecolor": "#2a3f5f"
            },
            "type": "carpet"
           }
          ],
          "choropleth": [
           {
            "colorbar": {
             "outlinewidth": 0,
             "ticks": ""
            },
            "type": "choropleth"
           }
          ],
          "contour": [
           {
            "colorbar": {
             "outlinewidth": 0,
             "ticks": ""
            },
            "colorscale": [
             [
              0,
              "#0d0887"
             ],
             [
              0.1111111111111111,
              "#46039f"
             ],
             [
              0.2222222222222222,
              "#7201a8"
             ],
             [
              0.3333333333333333,
              "#9c179e"
             ],
             [
              0.4444444444444444,
              "#bd3786"
             ],
             [
              0.5555555555555556,
              "#d8576b"
             ],
             [
              0.6666666666666666,
              "#ed7953"
             ],
             [
              0.7777777777777778,
              "#fb9f3a"
             ],
             [
              0.8888888888888888,
              "#fdca26"
             ],
             [
              1,
              "#f0f921"
             ]
            ],
            "type": "contour"
           }
          ],
          "contourcarpet": [
           {
            "colorbar": {
             "outlinewidth": 0,
             "ticks": ""
            },
            "type": "contourcarpet"
           }
          ],
          "heatmap": [
           {
            "colorbar": {
             "outlinewidth": 0,
             "ticks": ""
            },
            "colorscale": [
             [
              0,
              "#0d0887"
             ],
             [
              0.1111111111111111,
              "#46039f"
             ],
             [
              0.2222222222222222,
              "#7201a8"
             ],
             [
              0.3333333333333333,
              "#9c179e"
             ],
             [
              0.4444444444444444,
              "#bd3786"
             ],
             [
              0.5555555555555556,
              "#d8576b"
             ],
             [
              0.6666666666666666,
              "#ed7953"
             ],
             [
              0.7777777777777778,
              "#fb9f3a"
             ],
             [
              0.8888888888888888,
              "#fdca26"
             ],
             [
              1,
              "#f0f921"
             ]
            ],
            "type": "heatmap"
           }
          ],
          "heatmapgl": [
           {
            "colorbar": {
             "outlinewidth": 0,
             "ticks": ""
            },
            "colorscale": [
             [
              0,
              "#0d0887"
             ],
             [
              0.1111111111111111,
              "#46039f"
             ],
             [
              0.2222222222222222,
              "#7201a8"
             ],
             [
              0.3333333333333333,
              "#9c179e"
             ],
             [
              0.4444444444444444,
              "#bd3786"
             ],
             [
              0.5555555555555556,
              "#d8576b"
             ],
             [
              0.6666666666666666,
              "#ed7953"
             ],
             [
              0.7777777777777778,
              "#fb9f3a"
             ],
             [
              0.8888888888888888,
              "#fdca26"
             ],
             [
              1,
              "#f0f921"
             ]
            ],
            "type": "heatmapgl"
           }
          ],
          "histogram": [
           {
            "marker": {
             "colorbar": {
              "outlinewidth": 0,
              "ticks": ""
             }
            },
            "type": "histogram"
           }
          ],
          "histogram2d": [
           {
            "colorbar": {
             "outlinewidth": 0,
             "ticks": ""
            },
            "colorscale": [
             [
              0,
              "#0d0887"
             ],
             [
              0.1111111111111111,
              "#46039f"
             ],
             [
              0.2222222222222222,
              "#7201a8"
             ],
             [
              0.3333333333333333,
              "#9c179e"
             ],
             [
              0.4444444444444444,
              "#bd3786"
             ],
             [
              0.5555555555555556,
              "#d8576b"
             ],
             [
              0.6666666666666666,
              "#ed7953"
             ],
             [
              0.7777777777777778,
              "#fb9f3a"
             ],
             [
              0.8888888888888888,
              "#fdca26"
             ],
             [
              1,
              "#f0f921"
             ]
            ],
            "type": "histogram2d"
           }
          ],
          "histogram2dcontour": [
           {
            "colorbar": {
             "outlinewidth": 0,
             "ticks": ""
            },
            "colorscale": [
             [
              0,
              "#0d0887"
             ],
             [
              0.1111111111111111,
              "#46039f"
             ],
             [
              0.2222222222222222,
              "#7201a8"
             ],
             [
              0.3333333333333333,
              "#9c179e"
             ],
             [
              0.4444444444444444,
              "#bd3786"
             ],
             [
              0.5555555555555556,
              "#d8576b"
             ],
             [
              0.6666666666666666,
              "#ed7953"
             ],
             [
              0.7777777777777778,
              "#fb9f3a"
             ],
             [
              0.8888888888888888,
              "#fdca26"
             ],
             [
              1,
              "#f0f921"
             ]
            ],
            "type": "histogram2dcontour"
           }
          ],
          "mesh3d": [
           {
            "colorbar": {
             "outlinewidth": 0,
             "ticks": ""
            },
            "type": "mesh3d"
           }
          ],
          "parcoords": [
           {
            "line": {
             "colorbar": {
              "outlinewidth": 0,
              "ticks": ""
             }
            },
            "type": "parcoords"
           }
          ],
          "pie": [
           {
            "automargin": true,
            "type": "pie"
           }
          ],
          "scatter": [
           {
            "marker": {
             "colorbar": {
              "outlinewidth": 0,
              "ticks": ""
             }
            },
            "type": "scatter"
           }
          ],
          "scatter3d": [
           {
            "line": {
             "colorbar": {
              "outlinewidth": 0,
              "ticks": ""
             }
            },
            "marker": {
             "colorbar": {
              "outlinewidth": 0,
              "ticks": ""
             }
            },
            "type": "scatter3d"
           }
          ],
          "scattercarpet": [
           {
            "marker": {
             "colorbar": {
              "outlinewidth": 0,
              "ticks": ""
             }
            },
            "type": "scattercarpet"
           }
          ],
          "scattergeo": [
           {
            "marker": {
             "colorbar": {
              "outlinewidth": 0,
              "ticks": ""
             }
            },
            "type": "scattergeo"
           }
          ],
          "scattergl": [
           {
            "marker": {
             "colorbar": {
              "outlinewidth": 0,
              "ticks": ""
             }
            },
            "type": "scattergl"
           }
          ],
          "scattermapbox": [
           {
            "marker": {
             "colorbar": {
              "outlinewidth": 0,
              "ticks": ""
             }
            },
            "type": "scattermapbox"
           }
          ],
          "scatterpolar": [
           {
            "marker": {
             "colorbar": {
              "outlinewidth": 0,
              "ticks": ""
             }
            },
            "type": "scatterpolar"
           }
          ],
          "scatterpolargl": [
           {
            "marker": {
             "colorbar": {
              "outlinewidth": 0,
              "ticks": ""
             }
            },
            "type": "scatterpolargl"
           }
          ],
          "scatterternary": [
           {
            "marker": {
             "colorbar": {
              "outlinewidth": 0,
              "ticks": ""
             }
            },
            "type": "scatterternary"
           }
          ],
          "surface": [
           {
            "colorbar": {
             "outlinewidth": 0,
             "ticks": ""
            },
            "colorscale": [
             [
              0,
              "#0d0887"
             ],
             [
              0.1111111111111111,
              "#46039f"
             ],
             [
              0.2222222222222222,
              "#7201a8"
             ],
             [
              0.3333333333333333,
              "#9c179e"
             ],
             [
              0.4444444444444444,
              "#bd3786"
             ],
             [
              0.5555555555555556,
              "#d8576b"
             ],
             [
              0.6666666666666666,
              "#ed7953"
             ],
             [
              0.7777777777777778,
              "#fb9f3a"
             ],
             [
              0.8888888888888888,
              "#fdca26"
             ],
             [
              1,
              "#f0f921"
             ]
            ],
            "type": "surface"
           }
          ],
          "table": [
           {
            "cells": {
             "fill": {
              "color": "#EBF0F8"
             },
             "line": {
              "color": "white"
             }
            },
            "header": {
             "fill": {
              "color": "#C8D4E3"
             },
             "line": {
              "color": "white"
             }
            },
            "type": "table"
           }
          ]
         },
         "layout": {
          "annotationdefaults": {
           "arrowcolor": "#2a3f5f",
           "arrowhead": 0,
           "arrowwidth": 1
          },
          "autotypenumbers": "strict",
          "coloraxis": {
           "colorbar": {
            "outlinewidth": 0,
            "ticks": ""
           }
          },
          "colorscale": {
           "diverging": [
            [
             0,
             "#8e0152"
            ],
            [
             0.1,
             "#c51b7d"
            ],
            [
             0.2,
             "#de77ae"
            ],
            [
             0.3,
             "#f1b6da"
            ],
            [
             0.4,
             "#fde0ef"
            ],
            [
             0.5,
             "#f7f7f7"
            ],
            [
             0.6,
             "#e6f5d0"
            ],
            [
             0.7,
             "#b8e186"
            ],
            [
             0.8,
             "#7fbc41"
            ],
            [
             0.9,
             "#4d9221"
            ],
            [
             1,
             "#276419"
            ]
           ],
           "sequential": [
            [
             0,
             "#0d0887"
            ],
            [
             0.1111111111111111,
             "#46039f"
            ],
            [
             0.2222222222222222,
             "#7201a8"
            ],
            [
             0.3333333333333333,
             "#9c179e"
            ],
            [
             0.4444444444444444,
             "#bd3786"
            ],
            [
             0.5555555555555556,
             "#d8576b"
            ],
            [
             0.6666666666666666,
             "#ed7953"
            ],
            [
             0.7777777777777778,
             "#fb9f3a"
            ],
            [
             0.8888888888888888,
             "#fdca26"
            ],
            [
             1,
             "#f0f921"
            ]
           ],
           "sequentialminus": [
            [
             0,
             "#0d0887"
            ],
            [
             0.1111111111111111,
             "#46039f"
            ],
            [
             0.2222222222222222,
             "#7201a8"
            ],
            [
             0.3333333333333333,
             "#9c179e"
            ],
            [
             0.4444444444444444,
             "#bd3786"
            ],
            [
             0.5555555555555556,
             "#d8576b"
            ],
            [
             0.6666666666666666,
             "#ed7953"
            ],
            [
             0.7777777777777778,
             "#fb9f3a"
            ],
            [
             0.8888888888888888,
             "#fdca26"
            ],
            [
             1,
             "#f0f921"
            ]
           ]
          },
          "colorway": [
           "#636efa",
           "#EF553B",
           "#00cc96",
           "#ab63fa",
           "#FFA15A",
           "#19d3f3",
           "#FF6692",
           "#B6E880",
           "#FF97FF",
           "#FECB52"
          ],
          "font": {
           "color": "#2a3f5f"
          },
          "geo": {
           "bgcolor": "white",
           "lakecolor": "white",
           "landcolor": "#E5ECF6",
           "showlakes": true,
           "showland": true,
           "subunitcolor": "white"
          },
          "hoverlabel": {
           "align": "left"
          },
          "hovermode": "closest",
          "mapbox": {
           "style": "light"
          },
          "paper_bgcolor": "white",
          "plot_bgcolor": "#E5ECF6",
          "polar": {
           "angularaxis": {
            "gridcolor": "white",
            "linecolor": "white",
            "ticks": ""
           },
           "bgcolor": "#E5ECF6",
           "radialaxis": {
            "gridcolor": "white",
            "linecolor": "white",
            "ticks": ""
           }
          },
          "scene": {
           "xaxis": {
            "backgroundcolor": "#E5ECF6",
            "gridcolor": "white",
            "gridwidth": 2,
            "linecolor": "white",
            "showbackground": true,
            "ticks": "",
            "zerolinecolor": "white"
           },
           "yaxis": {
            "backgroundcolor": "#E5ECF6",
            "gridcolor": "white",
            "gridwidth": 2,
            "linecolor": "white",
            "showbackground": true,
            "ticks": "",
            "zerolinecolor": "white"
           },
           "zaxis": {
            "backgroundcolor": "#E5ECF6",
            "gridcolor": "white",
            "gridwidth": 2,
            "linecolor": "white",
            "showbackground": true,
            "ticks": "",
            "zerolinecolor": "white"
           }
          },
          "shapedefaults": {
           "line": {
            "color": "#2a3f5f"
           }
          },
          "ternary": {
           "aaxis": {
            "gridcolor": "white",
            "linecolor": "white",
            "ticks": ""
           },
           "baxis": {
            "gridcolor": "white",
            "linecolor": "white",
            "ticks": ""
           },
           "bgcolor": "#E5ECF6",
           "caxis": {
            "gridcolor": "white",
            "linecolor": "white",
            "ticks": ""
           }
          },
          "title": {
           "x": 0.05
          },
          "xaxis": {
           "automargin": true,
           "gridcolor": "white",
           "linecolor": "white",
           "ticks": "",
           "title": {
            "standoff": 15
           },
           "zerolinecolor": "white",
           "zerolinewidth": 2
          },
          "yaxis": {
           "automargin": true,
           "gridcolor": "white",
           "linecolor": "white",
           "ticks": "",
           "title": {
            "standoff": 15
           },
           "zerolinecolor": "white",
           "zerolinewidth": 2
          }
         }
        },
        "title": {
         "font": {
          "color": "#4D5663"
         },
         "text": "Topic 1: Top 100 words after removing stop words"
        },
        "xaxis": {
         "gridcolor": "#E1E5ED",
         "linecolor": "black",
         "showgrid": true,
         "tickfont": {
          "color": "#4D5663"
         },
         "title": {
          "font": {
           "color": "#4D5663"
          },
          "text": ""
         },
         "zerolinecolor": "#E1E5ED"
        },
        "yaxis": {
         "gridcolor": "#E1E5ED",
         "linecolor": "black",
         "showgrid": true,
         "tickfont": {
          "color": "#4D5663"
         },
         "title": {
          "font": {
           "color": "#4D5663"
          },
          "text": "Count"
         },
         "zerolinecolor": "#E1E5ED"
        }
       }
      },
      "text/html": [
       "<div>                            <div id=\"ce8c238a-7be6-411b-b444-2b04de01162b\" class=\"plotly-graph-div\" style=\"height:525px; width:100%;\"></div>            <script type=\"text/javascript\">                require([\"plotly\"], function(Plotly) {                    window.PLOTLYENV=window.PLOTLYENV || {};\n",
       "                    window.PLOTLYENV.BASE_URL='https://plot.ly';                                    if (document.getElementById(\"ce8c238a-7be6-411b-b444-2b04de01162b\")) {                    Plotly.newPlot(                        \"ce8c238a-7be6-411b-b444-2b04de01162b\",                        [{\"marker\": {\"color\": \"rgba(255, 153, 51, 0.6)\", \"line\": {\"color\": \"rgba(255, 153, 51, 1.0)\", \"width\": 1}}, \"name\": \"count\", \"orientation\": \"v\", \"text\": \"\", \"type\": \"bar\", \"x\": [\"business\", \"loan\", \"child\", \"year\", \"school\", \"buy\", \"family\", \"old\", \"able\", \"sell\", \"request\", \"expand\", \"purchase\", \"use\", \"stock\", \"also\", \"income\", \"increase\", \"pay\", \"start\", \"live\", \"work\", \"need\", \"make\", \"customer\", \"repay\", \"fee\", \"shop\", \"enable\", \"help\", \"meet\", \"well\", \"intend\", \"market\", \"many\", \"small\", \"marry\", \"support\", \"provide\", \"service\", \"go\", \"get\", \"husband\", \"time\", \"high\", \"good\", \"young\", \"demand\", \"want\", \"area\", \"community\", \"plan\", \"earn\", \"transport\", \"hard\", \"due\", \"operate\", \"married\", \"money\", \"clothe\", \"rent\", \"therefore\", \"wife\", \"town\", \"profit\", \"run\", \"capital\", \"enough\", \"local\", \"give\", \"farm\", \"age\", \"cater\", \"mother\", \"parent\", \"education\", \"farmer\", \"woman\", \"employ\", \"client\", \"cost\", \"educate\", \"grow\", \"improve\", \"still\", \"new\", \"supply\", \"care\", \"take\", \"license\", \"tailor\", \"premise\", \"ago\", \"maize\", \"single\", \"last\", \"large\", \"budget\", \"additional\", \"man\"], \"y\": [468, 398, 307, 288, 244, 175, 168, 165, 159, 146, 133, 132, 128, 123, 122, 121, 116, 110, 106, 103, 99, 94, 89, 88, 85, 77, 76, 71, 70, 70, 69, 65, 63, 63, 61, 61, 60, 60, 59, 59, 59, 59, 57, 57, 56, 54, 54, 52, 51, 51, 50, 49, 49, 46, 45, 45, 44, 43, 43, 43, 42, 41, 40, 40, 40, 39, 39, 39, 38, 37, 37, 37, 37, 37, 36, 35, 35, 34, 34, 33, 33, 33, 33, 32, 32, 31, 31, 30, 30, 30, 29, 29, 29, 29, 28, 28, 27, 27, 27, 27]}],                        {\"legend\": {\"bgcolor\": \"#F5F6F9\", \"font\": {\"color\": \"#4D5663\"}}, \"paper_bgcolor\": \"#F5F6F9\", \"plot_bgcolor\": \"#F5F6F9\", \"template\": {\"data\": {\"bar\": [{\"error_x\": {\"color\": \"#2a3f5f\"}, \"error_y\": {\"color\": \"#2a3f5f\"}, \"marker\": {\"line\": {\"color\": \"#E5ECF6\", \"width\": 0.5}}, \"type\": \"bar\"}], \"barpolar\": [{\"marker\": {\"line\": {\"color\": \"#E5ECF6\", \"width\": 0.5}}, \"type\": \"barpolar\"}], \"carpet\": [{\"aaxis\": {\"endlinecolor\": \"#2a3f5f\", \"gridcolor\": \"white\", \"linecolor\": \"white\", \"minorgridcolor\": \"white\", \"startlinecolor\": \"#2a3f5f\"}, \"baxis\": {\"endlinecolor\": \"#2a3f5f\", \"gridcolor\": \"white\", \"linecolor\": \"white\", \"minorgridcolor\": \"white\", \"startlinecolor\": \"#2a3f5f\"}, \"type\": \"carpet\"}], \"choropleth\": [{\"colorbar\": {\"outlinewidth\": 0, \"ticks\": \"\"}, \"type\": \"choropleth\"}], \"contour\": [{\"colorbar\": {\"outlinewidth\": 0, \"ticks\": \"\"}, \"colorscale\": [[0.0, \"#0d0887\"], [0.1111111111111111, \"#46039f\"], [0.2222222222222222, \"#7201a8\"], [0.3333333333333333, \"#9c179e\"], [0.4444444444444444, \"#bd3786\"], [0.5555555555555556, \"#d8576b\"], [0.6666666666666666, \"#ed7953\"], [0.7777777777777778, \"#fb9f3a\"], [0.8888888888888888, \"#fdca26\"], [1.0, \"#f0f921\"]], \"type\": \"contour\"}], \"contourcarpet\": [{\"colorbar\": {\"outlinewidth\": 0, \"ticks\": \"\"}, \"type\": \"contourcarpet\"}], \"heatmap\": [{\"colorbar\": {\"outlinewidth\": 0, \"ticks\": \"\"}, \"colorscale\": [[0.0, \"#0d0887\"], [0.1111111111111111, \"#46039f\"], [0.2222222222222222, \"#7201a8\"], [0.3333333333333333, \"#9c179e\"], [0.4444444444444444, \"#bd3786\"], [0.5555555555555556, \"#d8576b\"], [0.6666666666666666, \"#ed7953\"], [0.7777777777777778, \"#fb9f3a\"], [0.8888888888888888, \"#fdca26\"], [1.0, \"#f0f921\"]], \"type\": \"heatmap\"}], \"heatmapgl\": [{\"colorbar\": {\"outlinewidth\": 0, \"ticks\": \"\"}, \"colorscale\": [[0.0, \"#0d0887\"], [0.1111111111111111, \"#46039f\"], [0.2222222222222222, \"#7201a8\"], [0.3333333333333333, \"#9c179e\"], [0.4444444444444444, \"#bd3786\"], [0.5555555555555556, \"#d8576b\"], [0.6666666666666666, \"#ed7953\"], [0.7777777777777778, \"#fb9f3a\"], [0.8888888888888888, \"#fdca26\"], [1.0, \"#f0f921\"]], \"type\": \"heatmapgl\"}], \"histogram\": [{\"marker\": {\"colorbar\": {\"outlinewidth\": 0, \"ticks\": \"\"}}, \"type\": \"histogram\"}], \"histogram2d\": [{\"colorbar\": {\"outlinewidth\": 0, \"ticks\": \"\"}, \"colorscale\": [[0.0, \"#0d0887\"], [0.1111111111111111, \"#46039f\"], [0.2222222222222222, \"#7201a8\"], [0.3333333333333333, \"#9c179e\"], [0.4444444444444444, \"#bd3786\"], [0.5555555555555556, \"#d8576b\"], [0.6666666666666666, \"#ed7953\"], [0.7777777777777778, \"#fb9f3a\"], [0.8888888888888888, \"#fdca26\"], [1.0, \"#f0f921\"]], \"type\": \"histogram2d\"}], \"histogram2dcontour\": [{\"colorbar\": {\"outlinewidth\": 0, \"ticks\": \"\"}, \"colorscale\": [[0.0, \"#0d0887\"], [0.1111111111111111, \"#46039f\"], [0.2222222222222222, \"#7201a8\"], [0.3333333333333333, \"#9c179e\"], [0.4444444444444444, \"#bd3786\"], [0.5555555555555556, \"#d8576b\"], [0.6666666666666666, \"#ed7953\"], [0.7777777777777778, \"#fb9f3a\"], [0.8888888888888888, \"#fdca26\"], [1.0, \"#f0f921\"]], \"type\": \"histogram2dcontour\"}], \"mesh3d\": [{\"colorbar\": {\"outlinewidth\": 0, \"ticks\": \"\"}, \"type\": \"mesh3d\"}], \"parcoords\": [{\"line\": {\"colorbar\": {\"outlinewidth\": 0, \"ticks\": \"\"}}, \"type\": \"parcoords\"}], \"pie\": [{\"automargin\": true, \"type\": \"pie\"}], \"scatter\": [{\"marker\": {\"colorbar\": {\"outlinewidth\": 0, \"ticks\": \"\"}}, \"type\": \"scatter\"}], \"scatter3d\": [{\"line\": {\"colorbar\": {\"outlinewidth\": 0, \"ticks\": \"\"}}, \"marker\": {\"colorbar\": {\"outlinewidth\": 0, \"ticks\": \"\"}}, \"type\": \"scatter3d\"}], \"scattercarpet\": [{\"marker\": {\"colorbar\": {\"outlinewidth\": 0, \"ticks\": \"\"}}, \"type\": \"scattercarpet\"}], \"scattergeo\": [{\"marker\": {\"colorbar\": {\"outlinewidth\": 0, \"ticks\": \"\"}}, \"type\": \"scattergeo\"}], \"scattergl\": [{\"marker\": {\"colorbar\": {\"outlinewidth\": 0, \"ticks\": \"\"}}, \"type\": \"scattergl\"}], \"scattermapbox\": [{\"marker\": {\"colorbar\": {\"outlinewidth\": 0, \"ticks\": \"\"}}, \"type\": \"scattermapbox\"}], \"scatterpolar\": [{\"marker\": {\"colorbar\": {\"outlinewidth\": 0, \"ticks\": \"\"}}, \"type\": \"scatterpolar\"}], \"scatterpolargl\": [{\"marker\": {\"colorbar\": {\"outlinewidth\": 0, \"ticks\": \"\"}}, \"type\": \"scatterpolargl\"}], \"scatterternary\": [{\"marker\": {\"colorbar\": {\"outlinewidth\": 0, \"ticks\": \"\"}}, \"type\": \"scatterternary\"}], \"surface\": [{\"colorbar\": {\"outlinewidth\": 0, \"ticks\": \"\"}, \"colorscale\": [[0.0, \"#0d0887\"], [0.1111111111111111, \"#46039f\"], [0.2222222222222222, \"#7201a8\"], [0.3333333333333333, \"#9c179e\"], [0.4444444444444444, \"#bd3786\"], [0.5555555555555556, \"#d8576b\"], [0.6666666666666666, \"#ed7953\"], [0.7777777777777778, \"#fb9f3a\"], [0.8888888888888888, \"#fdca26\"], [1.0, \"#f0f921\"]], \"type\": \"surface\"}], \"table\": [{\"cells\": {\"fill\": {\"color\": \"#EBF0F8\"}, \"line\": {\"color\": \"white\"}}, \"header\": {\"fill\": {\"color\": \"#C8D4E3\"}, \"line\": {\"color\": \"white\"}}, \"type\": \"table\"}]}, \"layout\": {\"annotationdefaults\": {\"arrowcolor\": \"#2a3f5f\", \"arrowhead\": 0, \"arrowwidth\": 1}, \"autotypenumbers\": \"strict\", \"coloraxis\": {\"colorbar\": {\"outlinewidth\": 0, \"ticks\": \"\"}}, \"colorscale\": {\"diverging\": [[0, \"#8e0152\"], [0.1, \"#c51b7d\"], [0.2, \"#de77ae\"], [0.3, \"#f1b6da\"], [0.4, \"#fde0ef\"], [0.5, \"#f7f7f7\"], [0.6, \"#e6f5d0\"], [0.7, \"#b8e186\"], [0.8, \"#7fbc41\"], [0.9, \"#4d9221\"], [1, \"#276419\"]], \"sequential\": [[0.0, \"#0d0887\"], [0.1111111111111111, \"#46039f\"], [0.2222222222222222, \"#7201a8\"], [0.3333333333333333, \"#9c179e\"], [0.4444444444444444, \"#bd3786\"], [0.5555555555555556, \"#d8576b\"], [0.6666666666666666, \"#ed7953\"], [0.7777777777777778, \"#fb9f3a\"], [0.8888888888888888, \"#fdca26\"], [1.0, \"#f0f921\"]], \"sequentialminus\": [[0.0, \"#0d0887\"], [0.1111111111111111, \"#46039f\"], [0.2222222222222222, \"#7201a8\"], [0.3333333333333333, \"#9c179e\"], [0.4444444444444444, \"#bd3786\"], [0.5555555555555556, \"#d8576b\"], [0.6666666666666666, \"#ed7953\"], [0.7777777777777778, \"#fb9f3a\"], [0.8888888888888888, \"#fdca26\"], [1.0, \"#f0f921\"]]}, \"colorway\": [\"#636efa\", \"#EF553B\", \"#00cc96\", \"#ab63fa\", \"#FFA15A\", \"#19d3f3\", \"#FF6692\", \"#B6E880\", \"#FF97FF\", \"#FECB52\"], \"font\": {\"color\": \"#2a3f5f\"}, \"geo\": {\"bgcolor\": \"white\", \"lakecolor\": \"white\", \"landcolor\": \"#E5ECF6\", \"showlakes\": true, \"showland\": true, \"subunitcolor\": \"white\"}, \"hoverlabel\": {\"align\": \"left\"}, \"hovermode\": \"closest\", \"mapbox\": {\"style\": \"light\"}, \"paper_bgcolor\": \"white\", \"plot_bgcolor\": \"#E5ECF6\", \"polar\": {\"angularaxis\": {\"gridcolor\": \"white\", \"linecolor\": \"white\", \"ticks\": \"\"}, \"bgcolor\": \"#E5ECF6\", \"radialaxis\": {\"gridcolor\": \"white\", \"linecolor\": \"white\", \"ticks\": \"\"}}, \"scene\": {\"xaxis\": {\"backgroundcolor\": \"#E5ECF6\", \"gridcolor\": \"white\", \"gridwidth\": 2, \"linecolor\": \"white\", \"showbackground\": true, \"ticks\": \"\", \"zerolinecolor\": \"white\"}, \"yaxis\": {\"backgroundcolor\": \"#E5ECF6\", \"gridcolor\": \"white\", \"gridwidth\": 2, \"linecolor\": \"white\", \"showbackground\": true, \"ticks\": \"\", \"zerolinecolor\": \"white\"}, \"zaxis\": {\"backgroundcolor\": \"#E5ECF6\", \"gridcolor\": \"white\", \"gridwidth\": 2, \"linecolor\": \"white\", \"showbackground\": true, \"ticks\": \"\", \"zerolinecolor\": \"white\"}}, \"shapedefaults\": {\"line\": {\"color\": \"#2a3f5f\"}}, \"ternary\": {\"aaxis\": {\"gridcolor\": \"white\", \"linecolor\": \"white\", \"ticks\": \"\"}, \"baxis\": {\"gridcolor\": \"white\", \"linecolor\": \"white\", \"ticks\": \"\"}, \"bgcolor\": \"#E5ECF6\", \"caxis\": {\"gridcolor\": \"white\", \"linecolor\": \"white\", \"ticks\": \"\"}}, \"title\": {\"x\": 0.05}, \"xaxis\": {\"automargin\": true, \"gridcolor\": \"white\", \"linecolor\": \"white\", \"ticks\": \"\", \"title\": {\"standoff\": 15}, \"zerolinecolor\": \"white\", \"zerolinewidth\": 2}, \"yaxis\": {\"automargin\": true, \"gridcolor\": \"white\", \"linecolor\": \"white\", \"ticks\": \"\", \"title\": {\"standoff\": 15}, \"zerolinecolor\": \"white\", \"zerolinewidth\": 2}}}, \"title\": {\"font\": {\"color\": \"#4D5663\"}, \"text\": \"Topic 1: Top 100 words after removing stop words\"}, \"xaxis\": {\"gridcolor\": \"#E1E5ED\", \"linecolor\": \"black\", \"showgrid\": true, \"tickfont\": {\"color\": \"#4D5663\"}, \"title\": {\"font\": {\"color\": \"#4D5663\"}, \"text\": \"\"}, \"zerolinecolor\": \"#E1E5ED\"}, \"yaxis\": {\"gridcolor\": \"#E1E5ED\", \"linecolor\": \"black\", \"showgrid\": true, \"tickfont\": {\"color\": \"#4D5663\"}, \"title\": {\"font\": {\"color\": \"#4D5663\"}, \"text\": \"Count\"}, \"zerolinecolor\": \"#E1E5ED\"}},                        {\"showLink\": true, \"linkText\": \"Export to plot.ly\", \"plotlyServerURL\": \"https://plot.ly\", \"responsive\": true}                    ).then(function(){\n",
       "                            \n",
       "var gd = document.getElementById('ce8c238a-7be6-411b-b444-2b04de01162b');\n",
       "var x = new MutationObserver(function (mutations, observer) {{\n",
       "        var display = window.getComputedStyle(gd).display;\n",
       "        if (!display || display === 'none') {{\n",
       "            console.log([gd, 'removed!']);\n",
       "            Plotly.purge(gd);\n",
       "            observer.disconnect();\n",
       "        }}\n",
       "}});\n",
       "\n",
       "// Listen for the removal of the full notebook cells\n",
       "var notebookContainer = gd.closest('#notebook-container');\n",
       "if (notebookContainer) {{\n",
       "    x.observe(notebookContainer, {childList: true});\n",
       "}}\n",
       "\n",
       "// Listen for the clearing of the current output cell\n",
       "var outputEl = gd.closest('.output');\n",
       "if (outputEl) {{\n",
       "    x.observe(outputEl, {childList: true});\n",
       "}}\n",
       "\n",
       "                        })                };                });            </script>        </div>"
      ]
     },
     "metadata": {},
     "output_type": "display_data"
    }
   ],
   "source": [
    "plot_model(lda, plot = 'frequency', topic_num = 'Topic 1')"
   ]
  },
  {
   "cell_type": "code",
   "execution_count": 12,
   "metadata": {},
   "outputs": [
    {
     "data": {
      "text/html": [
       "        <script type=\"text/javascript\">\n",
       "        window.PlotlyConfig = {MathJaxConfig: 'local'};\n",
       "        if (window.MathJax) {MathJax.Hub.Config({SVG: {font: \"STIX-Web\"}});}\n",
       "        if (typeof require !== 'undefined') {\n",
       "        require.undef(\"plotly\");\n",
       "        requirejs.config({\n",
       "            paths: {\n",
       "                'plotly': ['https://cdn.plot.ly/plotly-latest.min']\n",
       "            }\n",
       "        });\n",
       "        require(['plotly'], function(Plotly) {\n",
       "            window._Plotly = Plotly;\n",
       "        });\n",
       "        }\n",
       "        </script>\n",
       "        "
      ]
     },
     "metadata": {},
     "output_type": "display_data"
    },
    {
     "data": {
      "application/vnd.plotly.v1+json": {
       "config": {
        "plotlyServerURL": "https://plot.ly"
       },
       "data": [
        {
         "alignmentgroup": "True",
         "customdata": [
          [
           "business, loan, sell, year, child, work, buy, make, product, help"
          ],
          [
           "business, loan, year, school, child, able, family, stock, expand, old"
          ],
          [
           "child, loan, group, school, member, buy, year, milk, sell, farm"
          ],
          [
           "rice, loan, farmer, also, use, land, small, area, many, sector"
          ]
         ],
         "hovertemplate": "Topic=%{x}<br>Documents=%{y}<br>Keyword=%{customdata[0]}<extra></extra>",
         "legendgroup": "",
         "marker": {
          "color": "#636efa"
         },
         "name": "",
         "offsetgroup": "",
         "orientation": "v",
         "showlegend": false,
         "textposition": "auto",
         "type": "bar",
         "x": [
          "Topic 0",
          "Topic 1",
          "Topic 2",
          "Topic 3"
         ],
         "xaxis": "x",
         "y": [
          588,
          229,
          154,
          29
         ],
         "yaxis": "y"
        }
       ],
       "layout": {
        "barmode": "relative",
        "legend": {
         "tracegroupgap": 0
        },
        "template": {
         "data": {
          "bar": [
           {
            "error_x": {
             "color": "#2a3f5f"
            },
            "error_y": {
             "color": "#2a3f5f"
            },
            "marker": {
             "line": {
              "color": "#E5ECF6",
              "width": 0.5
             }
            },
            "type": "bar"
           }
          ],
          "barpolar": [
           {
            "marker": {
             "line": {
              "color": "#E5ECF6",
              "width": 0.5
             }
            },
            "type": "barpolar"
           }
          ],
          "carpet": [
           {
            "aaxis": {
             "endlinecolor": "#2a3f5f",
             "gridcolor": "white",
             "linecolor": "white",
             "minorgridcolor": "white",
             "startlinecolor": "#2a3f5f"
            },
            "baxis": {
             "endlinecolor": "#2a3f5f",
             "gridcolor": "white",
             "linecolor": "white",
             "minorgridcolor": "white",
             "startlinecolor": "#2a3f5f"
            },
            "type": "carpet"
           }
          ],
          "choropleth": [
           {
            "colorbar": {
             "outlinewidth": 0,
             "ticks": ""
            },
            "type": "choropleth"
           }
          ],
          "contour": [
           {
            "colorbar": {
             "outlinewidth": 0,
             "ticks": ""
            },
            "colorscale": [
             [
              0,
              "#0d0887"
             ],
             [
              0.1111111111111111,
              "#46039f"
             ],
             [
              0.2222222222222222,
              "#7201a8"
             ],
             [
              0.3333333333333333,
              "#9c179e"
             ],
             [
              0.4444444444444444,
              "#bd3786"
             ],
             [
              0.5555555555555556,
              "#d8576b"
             ],
             [
              0.6666666666666666,
              "#ed7953"
             ],
             [
              0.7777777777777778,
              "#fb9f3a"
             ],
             [
              0.8888888888888888,
              "#fdca26"
             ],
             [
              1,
              "#f0f921"
             ]
            ],
            "type": "contour"
           }
          ],
          "contourcarpet": [
           {
            "colorbar": {
             "outlinewidth": 0,
             "ticks": ""
            },
            "type": "contourcarpet"
           }
          ],
          "heatmap": [
           {
            "colorbar": {
             "outlinewidth": 0,
             "ticks": ""
            },
            "colorscale": [
             [
              0,
              "#0d0887"
             ],
             [
              0.1111111111111111,
              "#46039f"
             ],
             [
              0.2222222222222222,
              "#7201a8"
             ],
             [
              0.3333333333333333,
              "#9c179e"
             ],
             [
              0.4444444444444444,
              "#bd3786"
             ],
             [
              0.5555555555555556,
              "#d8576b"
             ],
             [
              0.6666666666666666,
              "#ed7953"
             ],
             [
              0.7777777777777778,
              "#fb9f3a"
             ],
             [
              0.8888888888888888,
              "#fdca26"
             ],
             [
              1,
              "#f0f921"
             ]
            ],
            "type": "heatmap"
           }
          ],
          "heatmapgl": [
           {
            "colorbar": {
             "outlinewidth": 0,
             "ticks": ""
            },
            "colorscale": [
             [
              0,
              "#0d0887"
             ],
             [
              0.1111111111111111,
              "#46039f"
             ],
             [
              0.2222222222222222,
              "#7201a8"
             ],
             [
              0.3333333333333333,
              "#9c179e"
             ],
             [
              0.4444444444444444,
              "#bd3786"
             ],
             [
              0.5555555555555556,
              "#d8576b"
             ],
             [
              0.6666666666666666,
              "#ed7953"
             ],
             [
              0.7777777777777778,
              "#fb9f3a"
             ],
             [
              0.8888888888888888,
              "#fdca26"
             ],
             [
              1,
              "#f0f921"
             ]
            ],
            "type": "heatmapgl"
           }
          ],
          "histogram": [
           {
            "marker": {
             "colorbar": {
              "outlinewidth": 0,
              "ticks": ""
             }
            },
            "type": "histogram"
           }
          ],
          "histogram2d": [
           {
            "colorbar": {
             "outlinewidth": 0,
             "ticks": ""
            },
            "colorscale": [
             [
              0,
              "#0d0887"
             ],
             [
              0.1111111111111111,
              "#46039f"
             ],
             [
              0.2222222222222222,
              "#7201a8"
             ],
             [
              0.3333333333333333,
              "#9c179e"
             ],
             [
              0.4444444444444444,
              "#bd3786"
             ],
             [
              0.5555555555555556,
              "#d8576b"
             ],
             [
              0.6666666666666666,
              "#ed7953"
             ],
             [
              0.7777777777777778,
              "#fb9f3a"
             ],
             [
              0.8888888888888888,
              "#fdca26"
             ],
             [
              1,
              "#f0f921"
             ]
            ],
            "type": "histogram2d"
           }
          ],
          "histogram2dcontour": [
           {
            "colorbar": {
             "outlinewidth": 0,
             "ticks": ""
            },
            "colorscale": [
             [
              0,
              "#0d0887"
             ],
             [
              0.1111111111111111,
              "#46039f"
             ],
             [
              0.2222222222222222,
              "#7201a8"
             ],
             [
              0.3333333333333333,
              "#9c179e"
             ],
             [
              0.4444444444444444,
              "#bd3786"
             ],
             [
              0.5555555555555556,
              "#d8576b"
             ],
             [
              0.6666666666666666,
              "#ed7953"
             ],
             [
              0.7777777777777778,
              "#fb9f3a"
             ],
             [
              0.8888888888888888,
              "#fdca26"
             ],
             [
              1,
              "#f0f921"
             ]
            ],
            "type": "histogram2dcontour"
           }
          ],
          "mesh3d": [
           {
            "colorbar": {
             "outlinewidth": 0,
             "ticks": ""
            },
            "type": "mesh3d"
           }
          ],
          "parcoords": [
           {
            "line": {
             "colorbar": {
              "outlinewidth": 0,
              "ticks": ""
             }
            },
            "type": "parcoords"
           }
          ],
          "pie": [
           {
            "automargin": true,
            "type": "pie"
           }
          ],
          "scatter": [
           {
            "marker": {
             "colorbar": {
              "outlinewidth": 0,
              "ticks": ""
             }
            },
            "type": "scatter"
           }
          ],
          "scatter3d": [
           {
            "line": {
             "colorbar": {
              "outlinewidth": 0,
              "ticks": ""
             }
            },
            "marker": {
             "colorbar": {
              "outlinewidth": 0,
              "ticks": ""
             }
            },
            "type": "scatter3d"
           }
          ],
          "scattercarpet": [
           {
            "marker": {
             "colorbar": {
              "outlinewidth": 0,
              "ticks": ""
             }
            },
            "type": "scattercarpet"
           }
          ],
          "scattergeo": [
           {
            "marker": {
             "colorbar": {
              "outlinewidth": 0,
              "ticks": ""
             }
            },
            "type": "scattergeo"
           }
          ],
          "scattergl": [
           {
            "marker": {
             "colorbar": {
              "outlinewidth": 0,
              "ticks": ""
             }
            },
            "type": "scattergl"
           }
          ],
          "scattermapbox": [
           {
            "marker": {
             "colorbar": {
              "outlinewidth": 0,
              "ticks": ""
             }
            },
            "type": "scattermapbox"
           }
          ],
          "scatterpolar": [
           {
            "marker": {
             "colorbar": {
              "outlinewidth": 0,
              "ticks": ""
             }
            },
            "type": "scatterpolar"
           }
          ],
          "scatterpolargl": [
           {
            "marker": {
             "colorbar": {
              "outlinewidth": 0,
              "ticks": ""
             }
            },
            "type": "scatterpolargl"
           }
          ],
          "scatterternary": [
           {
            "marker": {
             "colorbar": {
              "outlinewidth": 0,
              "ticks": ""
             }
            },
            "type": "scatterternary"
           }
          ],
          "surface": [
           {
            "colorbar": {
             "outlinewidth": 0,
             "ticks": ""
            },
            "colorscale": [
             [
              0,
              "#0d0887"
             ],
             [
              0.1111111111111111,
              "#46039f"
             ],
             [
              0.2222222222222222,
              "#7201a8"
             ],
             [
              0.3333333333333333,
              "#9c179e"
             ],
             [
              0.4444444444444444,
              "#bd3786"
             ],
             [
              0.5555555555555556,
              "#d8576b"
             ],
             [
              0.6666666666666666,
              "#ed7953"
             ],
             [
              0.7777777777777778,
              "#fb9f3a"
             ],
             [
              0.8888888888888888,
              "#fdca26"
             ],
             [
              1,
              "#f0f921"
             ]
            ],
            "type": "surface"
           }
          ],
          "table": [
           {
            "cells": {
             "fill": {
              "color": "#EBF0F8"
             },
             "line": {
              "color": "white"
             }
            },
            "header": {
             "fill": {
              "color": "#C8D4E3"
             },
             "line": {
              "color": "white"
             }
            },
            "type": "table"
           }
          ]
         },
         "layout": {
          "annotationdefaults": {
           "arrowcolor": "#2a3f5f",
           "arrowhead": 0,
           "arrowwidth": 1
          },
          "autotypenumbers": "strict",
          "coloraxis": {
           "colorbar": {
            "outlinewidth": 0,
            "ticks": ""
           }
          },
          "colorscale": {
           "diverging": [
            [
             0,
             "#8e0152"
            ],
            [
             0.1,
             "#c51b7d"
            ],
            [
             0.2,
             "#de77ae"
            ],
            [
             0.3,
             "#f1b6da"
            ],
            [
             0.4,
             "#fde0ef"
            ],
            [
             0.5,
             "#f7f7f7"
            ],
            [
             0.6,
             "#e6f5d0"
            ],
            [
             0.7,
             "#b8e186"
            ],
            [
             0.8,
             "#7fbc41"
            ],
            [
             0.9,
             "#4d9221"
            ],
            [
             1,
             "#276419"
            ]
           ],
           "sequential": [
            [
             0,
             "#0d0887"
            ],
            [
             0.1111111111111111,
             "#46039f"
            ],
            [
             0.2222222222222222,
             "#7201a8"
            ],
            [
             0.3333333333333333,
             "#9c179e"
            ],
            [
             0.4444444444444444,
             "#bd3786"
            ],
            [
             0.5555555555555556,
             "#d8576b"
            ],
            [
             0.6666666666666666,
             "#ed7953"
            ],
            [
             0.7777777777777778,
             "#fb9f3a"
            ],
            [
             0.8888888888888888,
             "#fdca26"
            ],
            [
             1,
             "#f0f921"
            ]
           ],
           "sequentialminus": [
            [
             0,
             "#0d0887"
            ],
            [
             0.1111111111111111,
             "#46039f"
            ],
            [
             0.2222222222222222,
             "#7201a8"
            ],
            [
             0.3333333333333333,
             "#9c179e"
            ],
            [
             0.4444444444444444,
             "#bd3786"
            ],
            [
             0.5555555555555556,
             "#d8576b"
            ],
            [
             0.6666666666666666,
             "#ed7953"
            ],
            [
             0.7777777777777778,
             "#fb9f3a"
            ],
            [
             0.8888888888888888,
             "#fdca26"
            ],
            [
             1,
             "#f0f921"
            ]
           ]
          },
          "colorway": [
           "#636efa",
           "#EF553B",
           "#00cc96",
           "#ab63fa",
           "#FFA15A",
           "#19d3f3",
           "#FF6692",
           "#B6E880",
           "#FF97FF",
           "#FECB52"
          ],
          "font": {
           "color": "#2a3f5f"
          },
          "geo": {
           "bgcolor": "white",
           "lakecolor": "white",
           "landcolor": "#E5ECF6",
           "showlakes": true,
           "showland": true,
           "subunitcolor": "white"
          },
          "hoverlabel": {
           "align": "left"
          },
          "hovermode": "closest",
          "mapbox": {
           "style": "light"
          },
          "paper_bgcolor": "white",
          "plot_bgcolor": "#E5ECF6",
          "polar": {
           "angularaxis": {
            "gridcolor": "white",
            "linecolor": "white",
            "ticks": ""
           },
           "bgcolor": "#E5ECF6",
           "radialaxis": {
            "gridcolor": "white",
            "linecolor": "white",
            "ticks": ""
           }
          },
          "scene": {
           "xaxis": {
            "backgroundcolor": "#E5ECF6",
            "gridcolor": "white",
            "gridwidth": 2,
            "linecolor": "white",
            "showbackground": true,
            "ticks": "",
            "zerolinecolor": "white"
           },
           "yaxis": {
            "backgroundcolor": "#E5ECF6",
            "gridcolor": "white",
            "gridwidth": 2,
            "linecolor": "white",
            "showbackground": true,
            "ticks": "",
            "zerolinecolor": "white"
           },
           "zaxis": {
            "backgroundcolor": "#E5ECF6",
            "gridcolor": "white",
            "gridwidth": 2,
            "linecolor": "white",
            "showbackground": true,
            "ticks": "",
            "zerolinecolor": "white"
           }
          },
          "shapedefaults": {
           "line": {
            "color": "#2a3f5f"
           }
          },
          "ternary": {
           "aaxis": {
            "gridcolor": "white",
            "linecolor": "white",
            "ticks": ""
           },
           "baxis": {
            "gridcolor": "white",
            "linecolor": "white",
            "ticks": ""
           },
           "bgcolor": "#E5ECF6",
           "caxis": {
            "gridcolor": "white",
            "linecolor": "white",
            "ticks": ""
           }
          },
          "title": {
           "x": 0.05
          },
          "xaxis": {
           "automargin": true,
           "gridcolor": "white",
           "linecolor": "white",
           "ticks": "",
           "title": {
            "standoff": 15
           },
           "zerolinecolor": "white",
           "zerolinewidth": 2
          },
          "yaxis": {
           "automargin": true,
           "gridcolor": "white",
           "linecolor": "white",
           "ticks": "",
           "title": {
            "standoff": 15
           },
           "zerolinecolor": "white",
           "zerolinewidth": 2
          }
         }
        },
        "title": {
         "text": "Document Distribution by Topics"
        },
        "xaxis": {
         "anchor": "y",
         "domain": [
          0,
          1
         ],
         "title": {
          "text": "Topic"
         }
        },
        "yaxis": {
         "anchor": "x",
         "domain": [
          0,
          1
         ],
         "title": {
          "text": "Documents"
         }
        }
       }
      },
      "text/html": [
       "<div>                            <div id=\"9402359e-f751-4c12-9919-131fec1e848b\" class=\"plotly-graph-div\" style=\"height:525px; width:100%;\"></div>            <script type=\"text/javascript\">                require([\"plotly\"], function(Plotly) {                    window.PLOTLYENV=window.PLOTLYENV || {};                                    if (document.getElementById(\"9402359e-f751-4c12-9919-131fec1e848b\")) {                    Plotly.newPlot(                        \"9402359e-f751-4c12-9919-131fec1e848b\",                        [{\"alignmentgroup\": \"True\", \"customdata\": [[\"business, loan, sell, year, child, work, buy, make, product, help\"], [\"business, loan, year, school, child, able, family, stock, expand, old\"], [\"child, loan, group, school, member, buy, year, milk, sell, farm\"], [\"rice, loan, farmer, also, use, land, small, area, many, sector\"]], \"hovertemplate\": \"Topic=%{x}<br>Documents=%{y}<br>Keyword=%{customdata[0]}<extra></extra>\", \"legendgroup\": \"\", \"marker\": {\"color\": \"#636efa\"}, \"name\": \"\", \"offsetgroup\": \"\", \"orientation\": \"v\", \"showlegend\": false, \"textposition\": \"auto\", \"type\": \"bar\", \"x\": [\"Topic 0\", \"Topic 1\", \"Topic 2\", \"Topic 3\"], \"xaxis\": \"x\", \"y\": [588, 229, 154, 29], \"yaxis\": \"y\"}],                        {\"barmode\": \"relative\", \"legend\": {\"tracegroupgap\": 0}, \"template\": {\"data\": {\"bar\": [{\"error_x\": {\"color\": \"#2a3f5f\"}, \"error_y\": {\"color\": \"#2a3f5f\"}, \"marker\": {\"line\": {\"color\": \"#E5ECF6\", \"width\": 0.5}}, \"type\": \"bar\"}], \"barpolar\": [{\"marker\": {\"line\": {\"color\": \"#E5ECF6\", \"width\": 0.5}}, \"type\": \"barpolar\"}], \"carpet\": [{\"aaxis\": {\"endlinecolor\": \"#2a3f5f\", \"gridcolor\": \"white\", \"linecolor\": \"white\", \"minorgridcolor\": \"white\", \"startlinecolor\": \"#2a3f5f\"}, \"baxis\": {\"endlinecolor\": \"#2a3f5f\", \"gridcolor\": \"white\", \"linecolor\": \"white\", \"minorgridcolor\": \"white\", \"startlinecolor\": \"#2a3f5f\"}, \"type\": \"carpet\"}], \"choropleth\": [{\"colorbar\": {\"outlinewidth\": 0, \"ticks\": \"\"}, \"type\": \"choropleth\"}], \"contour\": [{\"colorbar\": {\"outlinewidth\": 0, \"ticks\": \"\"}, \"colorscale\": [[0.0, \"#0d0887\"], [0.1111111111111111, \"#46039f\"], [0.2222222222222222, \"#7201a8\"], [0.3333333333333333, \"#9c179e\"], [0.4444444444444444, \"#bd3786\"], [0.5555555555555556, \"#d8576b\"], [0.6666666666666666, \"#ed7953\"], [0.7777777777777778, \"#fb9f3a\"], [0.8888888888888888, \"#fdca26\"], [1.0, \"#f0f921\"]], \"type\": \"contour\"}], \"contourcarpet\": [{\"colorbar\": {\"outlinewidth\": 0, \"ticks\": \"\"}, \"type\": \"contourcarpet\"}], \"heatmap\": [{\"colorbar\": {\"outlinewidth\": 0, \"ticks\": \"\"}, \"colorscale\": [[0.0, \"#0d0887\"], [0.1111111111111111, \"#46039f\"], [0.2222222222222222, \"#7201a8\"], [0.3333333333333333, \"#9c179e\"], [0.4444444444444444, \"#bd3786\"], [0.5555555555555556, \"#d8576b\"], [0.6666666666666666, \"#ed7953\"], [0.7777777777777778, \"#fb9f3a\"], [0.8888888888888888, \"#fdca26\"], [1.0, \"#f0f921\"]], \"type\": \"heatmap\"}], \"heatmapgl\": [{\"colorbar\": {\"outlinewidth\": 0, \"ticks\": \"\"}, \"colorscale\": [[0.0, \"#0d0887\"], [0.1111111111111111, \"#46039f\"], [0.2222222222222222, \"#7201a8\"], [0.3333333333333333, \"#9c179e\"], [0.4444444444444444, \"#bd3786\"], [0.5555555555555556, \"#d8576b\"], [0.6666666666666666, \"#ed7953\"], [0.7777777777777778, \"#fb9f3a\"], [0.8888888888888888, \"#fdca26\"], [1.0, \"#f0f921\"]], \"type\": \"heatmapgl\"}], \"histogram\": [{\"marker\": {\"colorbar\": {\"outlinewidth\": 0, \"ticks\": \"\"}}, \"type\": \"histogram\"}], \"histogram2d\": [{\"colorbar\": {\"outlinewidth\": 0, \"ticks\": \"\"}, \"colorscale\": [[0.0, \"#0d0887\"], [0.1111111111111111, \"#46039f\"], [0.2222222222222222, \"#7201a8\"], [0.3333333333333333, \"#9c179e\"], [0.4444444444444444, \"#bd3786\"], [0.5555555555555556, \"#d8576b\"], [0.6666666666666666, \"#ed7953\"], [0.7777777777777778, \"#fb9f3a\"], [0.8888888888888888, \"#fdca26\"], [1.0, \"#f0f921\"]], \"type\": \"histogram2d\"}], \"histogram2dcontour\": [{\"colorbar\": {\"outlinewidth\": 0, \"ticks\": \"\"}, \"colorscale\": [[0.0, \"#0d0887\"], [0.1111111111111111, \"#46039f\"], [0.2222222222222222, \"#7201a8\"], [0.3333333333333333, \"#9c179e\"], [0.4444444444444444, \"#bd3786\"], [0.5555555555555556, \"#d8576b\"], [0.6666666666666666, \"#ed7953\"], [0.7777777777777778, \"#fb9f3a\"], [0.8888888888888888, \"#fdca26\"], [1.0, \"#f0f921\"]], \"type\": \"histogram2dcontour\"}], \"mesh3d\": [{\"colorbar\": {\"outlinewidth\": 0, \"ticks\": \"\"}, \"type\": \"mesh3d\"}], \"parcoords\": [{\"line\": {\"colorbar\": {\"outlinewidth\": 0, \"ticks\": \"\"}}, \"type\": \"parcoords\"}], \"pie\": [{\"automargin\": true, \"type\": \"pie\"}], \"scatter\": [{\"marker\": {\"colorbar\": {\"outlinewidth\": 0, \"ticks\": \"\"}}, \"type\": \"scatter\"}], \"scatter3d\": [{\"line\": {\"colorbar\": {\"outlinewidth\": 0, \"ticks\": \"\"}}, \"marker\": {\"colorbar\": {\"outlinewidth\": 0, \"ticks\": \"\"}}, \"type\": \"scatter3d\"}], \"scattercarpet\": [{\"marker\": {\"colorbar\": {\"outlinewidth\": 0, \"ticks\": \"\"}}, \"type\": \"scattercarpet\"}], \"scattergeo\": [{\"marker\": {\"colorbar\": {\"outlinewidth\": 0, \"ticks\": \"\"}}, \"type\": \"scattergeo\"}], \"scattergl\": [{\"marker\": {\"colorbar\": {\"outlinewidth\": 0, \"ticks\": \"\"}}, \"type\": \"scattergl\"}], \"scattermapbox\": [{\"marker\": {\"colorbar\": {\"outlinewidth\": 0, \"ticks\": \"\"}}, \"type\": \"scattermapbox\"}], \"scatterpolar\": [{\"marker\": {\"colorbar\": {\"outlinewidth\": 0, \"ticks\": \"\"}}, \"type\": \"scatterpolar\"}], \"scatterpolargl\": [{\"marker\": {\"colorbar\": {\"outlinewidth\": 0, \"ticks\": \"\"}}, \"type\": \"scatterpolargl\"}], \"scatterternary\": [{\"marker\": {\"colorbar\": {\"outlinewidth\": 0, \"ticks\": \"\"}}, \"type\": \"scatterternary\"}], \"surface\": [{\"colorbar\": {\"outlinewidth\": 0, \"ticks\": \"\"}, \"colorscale\": [[0.0, \"#0d0887\"], [0.1111111111111111, \"#46039f\"], [0.2222222222222222, \"#7201a8\"], [0.3333333333333333, \"#9c179e\"], [0.4444444444444444, \"#bd3786\"], [0.5555555555555556, \"#d8576b\"], [0.6666666666666666, \"#ed7953\"], [0.7777777777777778, \"#fb9f3a\"], [0.8888888888888888, \"#fdca26\"], [1.0, \"#f0f921\"]], \"type\": \"surface\"}], \"table\": [{\"cells\": {\"fill\": {\"color\": \"#EBF0F8\"}, \"line\": {\"color\": \"white\"}}, \"header\": {\"fill\": {\"color\": \"#C8D4E3\"}, \"line\": {\"color\": \"white\"}}, \"type\": \"table\"}]}, \"layout\": {\"annotationdefaults\": {\"arrowcolor\": \"#2a3f5f\", \"arrowhead\": 0, \"arrowwidth\": 1}, \"autotypenumbers\": \"strict\", \"coloraxis\": {\"colorbar\": {\"outlinewidth\": 0, \"ticks\": \"\"}}, \"colorscale\": {\"diverging\": [[0, \"#8e0152\"], [0.1, \"#c51b7d\"], [0.2, \"#de77ae\"], [0.3, \"#f1b6da\"], [0.4, \"#fde0ef\"], [0.5, \"#f7f7f7\"], [0.6, \"#e6f5d0\"], [0.7, \"#b8e186\"], [0.8, \"#7fbc41\"], [0.9, \"#4d9221\"], [1, \"#276419\"]], \"sequential\": [[0.0, \"#0d0887\"], [0.1111111111111111, \"#46039f\"], [0.2222222222222222, \"#7201a8\"], [0.3333333333333333, \"#9c179e\"], [0.4444444444444444, \"#bd3786\"], [0.5555555555555556, \"#d8576b\"], [0.6666666666666666, \"#ed7953\"], [0.7777777777777778, \"#fb9f3a\"], [0.8888888888888888, \"#fdca26\"], [1.0, \"#f0f921\"]], \"sequentialminus\": [[0.0, \"#0d0887\"], [0.1111111111111111, \"#46039f\"], [0.2222222222222222, \"#7201a8\"], [0.3333333333333333, \"#9c179e\"], [0.4444444444444444, \"#bd3786\"], [0.5555555555555556, \"#d8576b\"], [0.6666666666666666, \"#ed7953\"], [0.7777777777777778, \"#fb9f3a\"], [0.8888888888888888, \"#fdca26\"], [1.0, \"#f0f921\"]]}, \"colorway\": [\"#636efa\", \"#EF553B\", \"#00cc96\", \"#ab63fa\", \"#FFA15A\", \"#19d3f3\", \"#FF6692\", \"#B6E880\", \"#FF97FF\", \"#FECB52\"], \"font\": {\"color\": \"#2a3f5f\"}, \"geo\": {\"bgcolor\": \"white\", \"lakecolor\": \"white\", \"landcolor\": \"#E5ECF6\", \"showlakes\": true, \"showland\": true, \"subunitcolor\": \"white\"}, \"hoverlabel\": {\"align\": \"left\"}, \"hovermode\": \"closest\", \"mapbox\": {\"style\": \"light\"}, \"paper_bgcolor\": \"white\", \"plot_bgcolor\": \"#E5ECF6\", \"polar\": {\"angularaxis\": {\"gridcolor\": \"white\", \"linecolor\": \"white\", \"ticks\": \"\"}, \"bgcolor\": \"#E5ECF6\", \"radialaxis\": {\"gridcolor\": \"white\", \"linecolor\": \"white\", \"ticks\": \"\"}}, \"scene\": {\"xaxis\": {\"backgroundcolor\": \"#E5ECF6\", \"gridcolor\": \"white\", \"gridwidth\": 2, \"linecolor\": \"white\", \"showbackground\": true, \"ticks\": \"\", \"zerolinecolor\": \"white\"}, \"yaxis\": {\"backgroundcolor\": \"#E5ECF6\", \"gridcolor\": \"white\", \"gridwidth\": 2, \"linecolor\": \"white\", \"showbackground\": true, \"ticks\": \"\", \"zerolinecolor\": \"white\"}, \"zaxis\": {\"backgroundcolor\": \"#E5ECF6\", \"gridcolor\": \"white\", \"gridwidth\": 2, \"linecolor\": \"white\", \"showbackground\": true, \"ticks\": \"\", \"zerolinecolor\": \"white\"}}, \"shapedefaults\": {\"line\": {\"color\": \"#2a3f5f\"}}, \"ternary\": {\"aaxis\": {\"gridcolor\": \"white\", \"linecolor\": \"white\", \"ticks\": \"\"}, \"baxis\": {\"gridcolor\": \"white\", \"linecolor\": \"white\", \"ticks\": \"\"}, \"bgcolor\": \"#E5ECF6\", \"caxis\": {\"gridcolor\": \"white\", \"linecolor\": \"white\", \"ticks\": \"\"}}, \"title\": {\"x\": 0.05}, \"xaxis\": {\"automargin\": true, \"gridcolor\": \"white\", \"linecolor\": \"white\", \"ticks\": \"\", \"title\": {\"standoff\": 15}, \"zerolinecolor\": \"white\", \"zerolinewidth\": 2}, \"yaxis\": {\"automargin\": true, \"gridcolor\": \"white\", \"linecolor\": \"white\", \"ticks\": \"\", \"title\": {\"standoff\": 15}, \"zerolinecolor\": \"white\", \"zerolinewidth\": 2}}}, \"title\": {\"text\": \"Document Distribution by Topics\"}, \"xaxis\": {\"anchor\": \"y\", \"domain\": [0.0, 1.0], \"title\": {\"text\": \"Topic\"}}, \"yaxis\": {\"anchor\": \"x\", \"domain\": [0.0, 1.0], \"title\": {\"text\": \"Documents\"}}},                        {\"responsive\": true}                    ).then(function(){\n",
       "                            \n",
       "var gd = document.getElementById('9402359e-f751-4c12-9919-131fec1e848b');\n",
       "var x = new MutationObserver(function (mutations, observer) {{\n",
       "        var display = window.getComputedStyle(gd).display;\n",
       "        if (!display || display === 'none') {{\n",
       "            console.log([gd, 'removed!']);\n",
       "            Plotly.purge(gd);\n",
       "            observer.disconnect();\n",
       "        }}\n",
       "}});\n",
       "\n",
       "// Listen for the removal of the full notebook cells\n",
       "var notebookContainer = gd.closest('#notebook-container');\n",
       "if (notebookContainer) {{\n",
       "    x.observe(notebookContainer, {childList: true});\n",
       "}}\n",
       "\n",
       "// Listen for the clearing of the current output cell\n",
       "var outputEl = gd.closest('.output');\n",
       "if (outputEl) {{\n",
       "    x.observe(outputEl, {childList: true});\n",
       "}}\n",
       "\n",
       "                        })                };                });            </script>        </div>"
      ]
     },
     "metadata": {},
     "output_type": "display_data"
    }
   ],
   "source": [
    "plot_model(lda, plot = 'topic_distribution')"
   ]
  },
  {
   "cell_type": "markdown",
   "metadata": {},
   "source": [
    "***[t-distributed stochastic neighbor embedding (t-SNE)](https://en.wikipedia.org/wiki/T-distributed_stochastic_neighbor_embedding)***:método estadístico para visualizar datos de alta dimensión dando a cada punto de datos una ubicación en un mapa bidimensional o tridimensional (Wikipedia)"
   ]
  },
  {
   "cell_type": "code",
   "execution_count": 13,
   "metadata": {},
   "outputs": [
    {
     "data": {
      "text/html": [
       "        <script type=\"text/javascript\">\n",
       "        window.PlotlyConfig = {MathJaxConfig: 'local'};\n",
       "        if (window.MathJax) {MathJax.Hub.Config({SVG: {font: \"STIX-Web\"}});}\n",
       "        if (typeof require !== 'undefined') {\n",
       "        require.undef(\"plotly\");\n",
       "        requirejs.config({\n",
       "            paths: {\n",
       "                'plotly': ['https://cdn.plot.ly/plotly-latest.min']\n",
       "            }\n",
       "        });\n",
       "        require(['plotly'], function(Plotly) {\n",
       "            window._Plotly = Plotly;\n",
       "        });\n",
       "        }\n",
       "        </script>\n",
       "        "
      ]
     },
     "metadata": {},
     "output_type": "display_data"
    },
    {
     "data": {
      "application/vnd.plotly.v1+json": {
       "config": {
        "plotlyServerURL": "https://plot.ly"
       },
       "data": [
        {
         "hovertemplate": "Dominant_Topic=Topic 0<br>0=%{x}<br>1=%{y}<br>2=%{z}<extra></extra>",
         "legendgroup": "Topic 0",
         "marker": {
          "color": "#636efa",
          "opacity": 0.7,
          "symbol": "circle"
         },
         "mode": "markers",
         "name": "Topic 0",
         "scene": "scene",
         "showlegend": true,
         "type": "scatter3d",
         "x": [
          0.22565336525440216,
          -1.7964262962341309,
          6.987843036651611,
          0.48590797185897827,
          6.1794538497924805,
          -0.43047913908958435,
          3.2008087635040283,
          -2.0061798095703125,
          0.9407607913017273,
          4.291135311126709,
          10.362591743469238,
          7.475479602813721,
          -1.3445937633514404,
          -3.3358311653137207,
          0.24498096108436584,
          10.095874786376953,
          7.969733238220215,
          -2.516145944595337,
          -1.6025208234786987,
          5.025486946105957,
          -2.0956783294677734,
          2.5999157428741455,
          -1.2492892742156982,
          0.30097103118896484,
          0.16417542099952698,
          2.387861967086792,
          3.9616847038269043,
          -0.4058550000190735,
          4.0675950050354,
          1.7033369541168213,
          0.704282820224762,
          -1.0398234128952026,
          1.8503800630569458,
          10.139578819274902,
          -2.017911672592163,
          3.1002724170684814,
          1.1111557483673096,
          -1.6513224840164185,
          1.1957887411117554,
          8.596132278442383,
          -2.1063778400421143,
          3.1183440685272217,
          10.485367774963379,
          -1.4357026815414429,
          -3.6222848892211914,
          10.320127487182617,
          -1.1987875699996948,
          3.3203654289245605,
          3.3306632041931152,
          -1.153892993927002,
          5.31606912612915,
          -1.7357112169265747,
          10.339519500732422,
          9.725647926330566,
          -2.1826460361480713,
          10.253750801086426,
          -2.82322096824646,
          1.6929908990859985,
          8.104969024658203,
          10.362144470214844,
          2.587031602859497,
          9.804410934448242,
          3.2425689697265625,
          3.673321485519409,
          3.799501657485962,
          3.6085729598999023,
          3.457383632659912,
          9.301032066345215,
          2.415548801422119,
          3.1896567344665527,
          4.230583190917969,
          4.518704891204834,
          -2.0183041095733643,
          3.441894054412842,
          9.403485298156738,
          -0.05159978196024895,
          0.580590546131134,
          1.2764606475830078,
          7.757138252258301,
          -0.009923158213496208,
          9.98434829711914,
          9.458114624023438,
          1.4705711603164673,
          -0.03827416151762009,
          3.0078063011169434,
          -4.140812873840332,
          2.0873336791992188,
          2.042888641357422,
          1.345150113105774,
          2.5728414058685303,
          0.7093048691749573,
          3.4879114627838135,
          7.966659069061279,
          -3.4476726055145264,
          1.458414077758789,
          10.331308364868164,
          -1.7720258235931396,
          -1.2706834077835083,
          8.095393180847168,
          -1.0210003852844238,
          0.8357071280479431,
          7.057785987854004,
          -1.4018653631210327,
          1.3805180788040161,
          0.8990111947059631,
          1.5479506254196167,
          -4.037720680236816,
          2.776211738586426,
          2.3310883045196533,
          1.367079257965088,
          1.4690113067626953,
          -1.6593984365463257,
          9.798418045043945,
          -1.4960970878601074,
          5.3233442306518555,
          2.9072463512420654,
          8.824787139892578,
          1.0826921463012695,
          3.2601919174194336,
          2.3341329097747803,
          1.4567946195602417,
          1.2902300357818604,
          -2.1982479095458984,
          3.8570704460144043,
          -0.29051584005355835,
          4.544234275817871,
          0.8517422676086426,
          7.2650675773620605,
          2.8065547943115234,
          4.161504745483398,
          -1.8091133832931519,
          -0.8688242435455322,
          2.911346673965454,
          1.3239206075668335,
          6.490309238433838,
          -1.2226743698120117,
          0.2734907567501068,
          10.093303680419922,
          -0.02427651919424534,
          -2.3520331382751465,
          8.506708145141602,
          -0.20919348299503326,
          2.8684818744659424,
          -1.8377388715744019,
          0.02035144716501236,
          3.4927611351013184,
          8.634916305541992,
          3.0214319229125977,
          -2.2434113025665283,
          4.92924690246582,
          -0.43244481086730957,
          -1.2987022399902344,
          2.5025060176849365,
          -0.34620949625968933,
          -1.3931256532669067,
          8.064208030700684,
          1.7849184274673462,
          -0.1954633742570877,
          1.2713792324066162,
          1.1707578897476196,
          3.4672462940216064,
          1.5411372184753418,
          -1.0773720741271973,
          -2.119905948638916,
          2.7765889167785645,
          -0.3534099757671356,
          3.027747392654419,
          2.3307719230651855,
          -4.1026787757873535,
          4.238312244415283,
          -2.296987295150757,
          3.400066614151001,
          2.8456828594207764,
          -2.0174996852874756,
          3.808791399002075,
          9.358722686767578,
          1.311435341835022,
          2.773024797439575,
          3.333172082901001,
          -0.9086217880249023,
          1.6484003067016602,
          -0.9649275541305542,
          -0.6830856800079346,
          5.744902610778809,
          2.676957368850708,
          -1.761588454246521,
          9.58634090423584,
          -3.389119863510132,
          -1.3934963941574097,
          2.2523818016052246,
          2.6714508533477783,
          9.357151985168457,
          5.572981834411621,
          -1.8818222284317017,
          10.28998851776123,
          -1.817039966583252,
          10.264453887939453,
          0.6462827324867249,
          0.6725346446037292,
          1.3441871404647827,
          -2.009800910949707,
          4.331989765167236,
          -4.127928256988525,
          -1.2817976474761963,
          0.0196157768368721,
          3.8052494525909424,
          -1.7157235145568848,
          -2.046306848526001,
          3.2342333793640137,
          1.7168630361557007,
          6.895578861236572,
          -1.2815649509429932,
          2.9024429321289062,
          -1.4897546768188477,
          -1.0296064615249634,
          8.562248229980469,
          -1.2614312171936035,
          8.779500007629395,
          -0.7193581461906433,
          3.2832577228546143,
          4.093507289886475,
          3.776477813720703,
          -1.3706834316253662,
          4.119856357574463,
          5.195587635040283,
          1.6601145267486572,
          9.248361587524414,
          3.383106231689453,
          2.0345346927642822,
          4.5431227684021,
          3.4333643913269043,
          -0.813020646572113,
          -0.45132166147232056,
          10.061013221740723,
          2.697246551513672,
          -0.8960716724395752,
          -0.2759009301662445,
          1.1574289798736572,
          -1.1657583713531494,
          5.401135444641113,
          6.060632228851318,
          2.8628485202789307,
          5.425846099853516,
          4.222687721252441,
          3.970214605331421,
          5.538669109344482,
          4.068405628204346,
          2.1498162746429443,
          -3.2325003147125244,
          6.635843753814697,
          -1.2725623846054077,
          -1.9324085712432861,
          -0.2732205390930176,
          7.130631923675537,
          -1.16892671585083,
          -0.3319309651851654,
          3.6381101608276367,
          3.973693370819092,
          8.292872428894043,
          1.293644666671753,
          2.5914976596832275,
          -2.768301486968994,
          -1.237056016921997,
          9.80593204498291,
          -2.0773112773895264,
          10.231244087219238,
          0.15513677895069122,
          8.895298957824707,
          -2.445669412612915,
          5.424413204193115,
          -2.2082951068878174,
          7.630876064300537,
          -0.8115294575691223,
          4.7231221199035645,
          4.226517200469971,
          -2.0783557891845703,
          -1.4902490377426147,
          3.464503288269043,
          -3.284102439880371,
          -0.3143678903579712,
          3.4239585399627686,
          0.03085075318813324,
          4.031177043914795,
          2.144517421722412,
          3.459651231765747,
          9.146618843078613,
          -0.06617511808872223,
          3.4278464317321777,
          0.6232518553733826,
          8.120268821716309,
          -1.0587036609649658,
          -2.4224841594696045,
          0.3546959459781647,
          5.476845741271973,
          3.19695782661438,
          8.071859359741211,
          0.0958058089017868,
          10.36285400390625,
          -0.2985895872116089,
          -0.30817711353302,
          3.066122055053711,
          0.09254221618175507,
          2.0188701152801514,
          -0.4337891936302185,
          9.060995101928711,
          0.07930385321378708,
          3.5987906455993652,
          -2.0496163368225098,
          3.499906301498413,
          4.602625370025635,
          3.8642003536224365,
          -0.18719735741615295,
          10.35860538482666,
          3.9127984046936035,
          3.3712844848632812,
          -0.10929647088050842,
          3.849738597869873,
          3.0490057468414307,
          1.5113903284072876,
          -0.30416053533554077,
          1.5197149515151978,
          4.658407688140869,
          3.8101582527160645,
          -1.3314979076385498,
          3.898080825805664,
          -0.9059768915176392,
          6.992362976074219,
          -1.7294461727142334,
          7.134095191955566,
          1.7852931022644043,
          -1.1062959432601929,
          -1.698582410812378,
          3.949188709259033,
          3.354743480682373,
          -2.3545873165130615,
          9.798726081848145,
          5.734146595001221,
          3.0127055644989014,
          9.111814498901367,
          2.3303065299987793,
          5.886632919311523,
          1.1340433359146118,
          -0.6135860681533813,
          4.4136576652526855,
          -1.7623440027236938,
          -1.030551791191101,
          5.28728723526001,
          -0.6046029329299927,
          10.075485229492188,
          0.16055040061473846,
          6.592329025268555,
          -1.3222702741622925,
          2.86923885345459,
          5.631259918212891,
          0.12756218016147614,
          1.250373125076294,
          6.316473484039307,
          4.635944843292236,
          0.03335520625114441,
          3.4581832885742188,
          -0.44751715660095215,
          3.5840208530426025,
          -1.2675570249557495,
          -1.3616400957107544,
          4.996496200561523,
          2.5995752811431885,
          1.7461942434310913,
          -0.6043834686279297,
          -1.339219570159912,
          -0.24647895991802216,
          0.7427416443824768,
          -0.6994498372077942,
          -2.114286184310913,
          3.3963606357574463,
          3.223140001296997,
          0.09897968173027039,
          -0.39764201641082764,
          4.323023796081543,
          -0.05101880431175232,
          8.334938049316406,
          -1.0843881368637085,
          -2.1560490131378174,
          -3.174097776412964,
          -1.2408429384231567,
          9.283902168273926,
          5.647877216339111,
          2.1415793895721436,
          2.4790732860565186,
          10.209951400756836,
          5.342926502227783,
          3.505782127380371,
          10.37217903137207,
          2.6984217166900635,
          1.3044681549072266,
          5.383695602416992,
          -2.0466973781585693,
          9.17968463897705,
          9.98758602142334,
          -1.3272037506103516,
          -1.257415771484375,
          5.469239711761475,
          10.296195030212402,
          -1.496289849281311,
          1.292731523513794,
          -0.5236363410949707,
          -1.627042531967163,
          2.9634952545166016,
          4.475948810577393,
          3.3932745456695557,
          9.709181785583496,
          1.609608769416809,
          2.670671224594116,
          -0.07115350663661957,
          2.013883113861084,
          10.348662376403809,
          5.033393859863281,
          -1.8471035957336426,
          10.059950828552246,
          -1.1997907161712646,
          7.011865139007568,
          1.5657936334609985,
          -1.219078779220581,
          -0.6790749430656433,
          -2.8627254962921143,
          8.42565631866455,
          -2.114727258682251,
          -2.0112087726593018,
          0.6899130940437317,
          5.645358562469482,
          -1.1833103895187378,
          -0.7340399622917175,
          3.1031384468078613,
          2.2940187454223633,
          -0.42432233691215515,
          1.3173019886016846,
          0.015298369340598583,
          -1.5833998918533325,
          0.17417515814304352,
          3.5448415279388428,
          4.680398464202881,
          1.2684093713760376,
          0.14186888933181763,
          4.983232021331787,
          -0.3964940309524536,
          -0.40382909774780273,
          3.001786231994629,
          5.697709560394287,
          1.7184178829193115,
          7.0593414306640625,
          2.2815628051757812,
          0.5335121154785156,
          -2.1120059490203857,
          -1.8097608089447021,
          2.581519603729248,
          8.233708381652832,
          5.082866668701172,
          -2.0334339141845703,
          3.823194742202759,
          9.543641090393066,
          2.6787075996398926,
          6.008227348327637,
          -2.0585896968841553,
          -1.102392315864563,
          0.9390605092048645,
          -1.0647636651992798,
          3.9005227088928223,
          10.119820594787598,
          9.929014205932617,
          7.437466621398926,
          10.314759254455566,
          4.614381790161133,
          4.214179515838623,
          -1.9760491847991943,
          6.862029075622559,
          3.5936152935028076,
          1.9627594947814941,
          2.4997737407684326,
          -1.0287854671478271,
          5.052591323852539,
          -2.010441303253174,
          -1.35017728805542,
          8.383772850036621,
          2.0165133476257324,
          1.1708228588104248,
          4.480119705200195,
          9.844635009765625,
          10.08364200592041,
          -3.854597806930542,
          -2.115924119949341,
          -2.5713584423065186,
          1.5805047750473022,
          0.20508314669132233,
          1.291136384010315,
          -0.8087322115898132,
          10.360031127929688,
          5.244072437286377,
          0.3739463686943054,
          -1.2248071432113647,
          10.175888061523438,
          1.2503325939178467,
          7.153282642364502,
          -0.8388811349868774,
          -0.6055026650428772,
          5.728204250335693,
          -0.6500697731971741,
          3.413769006729126,
          -1.8473026752471924,
          3.4921014308929443,
          9.677401542663574,
          -0.5273438096046448,
          -2.1334340572357178,
          3.2805137634277344,
          -1.0890430212020874,
          2.3949196338653564,
          -2.122504234313965,
          4.3110785484313965,
          4.449898719787598,
          2.7117326259613037,
          0.6446431875228882,
          -0.3487527668476105,
          0.002509062411263585,
          1.829318642616272,
          8.717352867126465,
          2.8396737575531006,
          3.40112042427063,
          -1.457220435142517,
          -0.026360560208559036,
          3.441267967224121,
          2.1567609310150146,
          9.815868377685547,
          1.4038565158843994,
          -0.2751075029373169,
          7.878943920135498,
          -0.23846285045146942,
          -1.8210549354553223,
          1.8058946132659912,
          1.4037210941314697,
          8.819379806518555,
          1.7376435995101929,
          -0.30501115322113037,
          1.6944526433944702,
          7.03123140335083,
          8.933670043945312,
          3.603851079940796,
          3.8120274543762207,
          -1.494246482849121,
          10.385854721069336,
          2.900939464569092,
          4.1867218017578125,
          0.25628137588500977,
          3.4280428886413574,
          -0.353149950504303,
          4.9963812828063965,
          3.503159761428833,
          -2.3707163333892822,
          9.816171646118164,
          -0.16668984293937683,
          -1.2598309516906738,
          -1.047093152999878,
          -0.6982616782188416,
          -2.1172688007354736,
          9.903360366821289,
          -1.7300480604171753,
          10.372284889221191,
          3.964601993560791,
          -1.1040371656417847,
          7.86981725692749,
          6.168689250946045,
          1.381156086921692,
          10.102940559387207,
          -3.7617478370666504,
          -4.475168228149414,
          -0.9057419896125793,
          -1.3051620721817017,
          1.9067801237106323,
          0.9375091791152954,
          -2.0292561054229736,
          1.6280767917633057,
          2.5464234352111816,
          -1.7398626804351807,
          6.755062103271484,
          0.32229679822921753,
          1.256491780281067,
          1.7249222993850708,
          -0.7298470735549927,
          3.111732006072998,
          -1.1729615926742554,
          1.4000368118286133
         ],
         "y": [
          -10.922514915466309,
          -1.4948590993881226,
          10.957257270812988,
          -10.801239013671875,
          9.470458984375,
          -10.656472206115723,
          2.0535619258880615,
          -3.2192187309265137,
          -3.5410563945770264,
          9.483630180358887,
          9.684430122375488,
          9.419028282165527,
          -6.534075736999512,
          -3.874168634414673,
          -2.9336071014404297,
          9.493339538574219,
          10.70101547241211,
          -4.1499834060668945,
          0.5269562005996704,
          11.588593482971191,
          -4.247067451477051,
          9.134833335876465,
          1.5652213096618652,
          -6.975218772888184,
          -3.0921151638031006,
          -3.9971182346343994,
          5.91867208480835,
          -4.057858943939209,
          -6.447237968444824,
          -8.610371589660645,
          -6.279727935791016,
          -4.392853736877441,
          -4.894498348236084,
          9.50737190246582,
          -3.33805251121521,
          -5.123234272003174,
          -5.843619346618652,
          0.06245556101202965,
          -10.239663124084473,
          10.528610229492188,
          -4.249374866485596,
          -8.359044075012207,
          9.527726173400879,
          -5.482546806335449,
          -3.1412150859832764,
          9.573721885681152,
          1.6793798208236694,
          -1.3107300996780396,
          1.5386604070663452,
          1.7842512130737305,
          9.49587345123291,
          -4.300191879272461,
          9.73293685913086,
          10.131430625915527,
          -4.216136455535889,
          9.491620063781738,
          -3.160975217819214,
          -5.153163433074951,
          9.402645111083984,
          9.6511812210083,
          -8.898975372314453,
          9.444387435913086,
          -1.585378646850586,
          -7.4879469871521,
          9.434823036193848,
          -7.588847637176514,
          -1.0602132081985474,
          9.41448974609375,
          9.04501724243164,
          -2.070589065551758,
          -6.452391147613525,
          -5.9043731689453125,
          -3.134014129638672,
          -1.1305361986160278,
          10.26165771484375,
          -7.256560325622559,
          -10.011696815490723,
          7.027210235595703,
          10.7572021484375,
          -5.9846296310424805,
          10.0092134475708,
          10.242229461669922,
          -7.190732955932617,
          -7.435537815093994,
          -8.503570556640625,
          -3.382411479949951,
          8.828104972839355,
          8.79323673248291,
          7.8405303955078125,
          2.8582279682159424,
          -6.538668155670166,
          -0.4146707355976105,
          9.40510082244873,
          -3.1720616817474365,
          -10.056516647338867,
          9.594411849975586,
          -0.063321553170681,
          -9.267918586730957,
          9.402856826782227,
          2.0885913372039795,
          -6.332146644592285,
          10.938028335571289,
          -4.336221694946289,
          -10.115838050842285,
          -6.1977128982543945,
          -7.198556900024414,
          -3.1757490634918213,
          -3.259187698364258,
          -9.229161262512207,
          7.91903829574585,
          6.389640808105469,
          -4.297830581665039,
          9.443855285644531,
          -5.2432169914245605,
          9.50227165222168,
          -2.843925714492798,
          9.40259075164795,
          -6.004666805267334,
          -1.4334862232208252,
          -4.087518692016602,
          -5.487810134887695,
          7.647347927093506,
          -4.228966236114502,
          9.44126033782959,
          3.5519754886627197,
          11.553679466247559,
          -3.6455371379852295,
          9.426702499389648,
          -3.135376214981079,
          11.83085823059082,
          -0.20171377062797546,
          2.3924765586853027,
          -8.525724411010742,
          -5.695374965667725,
          9.460746765136719,
          -9.459049224853516,
          -10.944391250610352,
          9.948721885681152,
          -7.388876914978027,
          -4.1904377937316895,
          10.554600715637207,
          -3.24991774559021,
          -8.642065048217773,
          -0.18669652938842773,
          -7.238995552062988,
          -0.2629289925098419,
          9.39961051940918,
          -2.6506145000457764,
          -3.2593932151794434,
          9.511069297790527,
          -11.065693855285645,
          -9.298781394958496,
          -9.00542163848877,
          -3.5494637489318848,
          -6.01663875579834,
          9.403441429138184,
          5.714996337890625,
          -3.8471932411193848,
          7.074967861175537,
          -7.644309043884277,
          12.485007286071777,
          8.241371154785156,
          -8.893631935119629,
          -1.6253719329833984,
          -3.323204755783081,
          -4.308159828186035,
          -2.5042028427124023,
          -9.229166984558105,
          -3.17172908782959,
          -6.222385406494141,
          -3.2820873260498047,
          -0.5524922609329224,
          9.220722198486328,
          -3.050128221511841,
          4.695985317230225,
          9.416743278503418,
          -5.681308746337891,
          9.196749687194824,
          1.5909454822540283,
          -9.944746971130371,
          -9.910720825195312,
          -4.216118335723877,
          -4.344893932342529,
          11.293912887573242,
          -9.017146110534668,
          -3.9678239822387695,
          10.190967559814453,
          -3.8577258586883545,
          1.1863809823989868,
          8.949780464172363,
          -3.4730327129364014,
          9.416609764099121,
          11.574832916259766,
          -3.563342809677124,
          9.788520812988281,
          -0.19951245188713074,
          9.804889678955078,
          -10.634533882141113,
          -6.524879455566406,
          6.70197057723999,
          -3.281365394592285,
          -6.223093032836914,
          -3.5761666297912598,
          -9.293781280517578,
          -10.96761417388916,
          4.641539573669434,
          -4.80899715423584,
          -1.1823508739471436,
          1.8619078397750854,
          5.868447303771973,
          10.980552673339844,
          -9.508405685424805,
          2.994386672973633,
          -5.547216415405273,
          -4.637607574462891,
          10.5378999710083,
          -9.210205078125,
          9.400691032409668,
          2.705512523651123,
          1.8230499029159546,
          11.878942489624023,
          12.185123443603516,
          1.2006208896636963,
          9.468259811401367,
          11.181783676147461,
          -7.425064563751221,
          10.316448211669922,
          -0.8433219194412231,
          -9.008946418762207,
          -5.87232780456543,
          -5.62237548828125,
          2.509676456451416,
          -7.9491353034973145,
          9.47949504852295,
          -3.398526906967163,
          -9.952078819274902,
          -7.6930718421936035,
          -5.7941741943359375,
          -9.585494995117188,
          9.492180824279785,
          11.197422981262207,
          -8.742393493652344,
          11.086370468139648,
          -6.449836254119873,
          5.945498466491699,
          11.197023391723633,
          -6.446057319641113,
          8.875752449035645,
          -3.9150984287261963,
          11.050045013427734,
          -9.251404762268066,
          -0.7392308712005615,
          -4.636700630187988,
          9.431513786315918,
          -4.181752681732178,
          3.4685966968536377,
          -7.543237686157227,
          5.95797061920166,
          10.613944053649902,
          7.663078308105469,
          9.131131172180176,
          -3.101552963256836,
          -9.167673110961914,
          10.094104766845703,
          -1.290302038192749,
          9.841922760009766,
          -3.8134379386901855,
          10.433377265930176,
          -4.067737102508545,
          11.441699981689453,
          -4.226344108581543,
          9.41375732421875,
          -10.132497787475586,
          -5.484475612640381,
          -1.9373964071273804,
          -1.2587306499481201,
          -5.08980655670166,
          0.4423428475856781,
          -3.8863143920898438,
          -2.972398519515991,
          0.9671960473060608,
          -10.977130889892578,
          9.461273193359375,
          -9.500741958618164,
          0.48845139145851135,
          10.355358123779297,
          -3.360126256942749,
          0.9361665844917297,
          -6.512136459350586,
          9.402350425720215,
          -9.736681938171387,
          -4.173587322235107,
          -6.84256649017334,
          11.61022663116455,
          1.949650526046753,
          9.403341293334961,
          -3.1258010864257812,
          9.68487548828125,
          -7.7566375732421875,
          -7.729615688323975,
          2.3647537231445312,
          -8.609580993652344,
          -9.593812942504883,
          -10.674463272094727,
          9.406986236572266,
          -7.134787082672119,
          -7.608588218688965,
          -4.05299186706543,
          -0.669906735420227,
          11.518332481384277,
          12.098864555358887,
          -10.695666313171387,
          9.709370613098145,
          -7.059632778167725,
          -1.6146396398544312,
          -10.90744400024414,
          -7.104959011077881,
          2.565312385559082,
          -7.30229377746582,
          -5.059158802032471,
          -5.402108192443848,
          9.500069618225098,
          4.407682418823242,
          1.3317235708236694,
          -6.971335411071777,
          -9.964845657348633,
          9.438277244567871,
          0.16481536626815796,
          9.431092262268066,
          5.714209079742432,
          -4.283014297485352,
          -3.7846531867980957,
          12.01361083984375,
          1.382431149482727,
          -4.189682483673096,
          9.443897247314453,
          11.25529670715332,
          2.6831881999969482,
          9.408515930175781,
          -9.229623794555664,
          9.493207931518555,
          -7.711926460266113,
          -10.47078800201416,
          11.693816184997559,
          0.12689431011676788,
          -4.345583915710449,
          9.507548332214355,
          2.9274723529815674,
          9.954440116882324,
          -8.868675231933594,
          11.062346458435059,
          -7.788992881774902,
          9.227899551391602,
          9.583231925964355,
          -10.91875171661377,
          -10.202240943908691,
          9.465873718261719,
          -5.679286956787109,
          -10.927878379821777,
          0.7222766876220703,
          -7.957939624786377,
          12.362879753112793,
          -9.255837440490723,
          -4.481106281280518,
          11.234527587890625,
          -3.6034038066864014,
          -9.83343505859375,
          -10.48523998260498,
          1.2985819578170776,
          -4.480720043182373,
          -6.360954284667969,
          -10.319643020629883,
          -1.528923749923706,
          -0.8258459568023682,
          1.869131088256836,
          -11.005435943603516,
          3.3378260135650635,
          11.733283042907715,
          -10.929937362670898,
          9.399439811706543,
          1.9417389631271362,
          -4.2408318519592285,
          -3.1923720836639404,
          -4.197893142700195,
          10.306159019470215,
          9.486076354980469,
          -4.428948402404785,
          -3.826014757156372,
          9.514087677001953,
          9.49888801574707,
          -0.10420235991477966,
          9.610869407653809,
          -3.3246164321899414,
          6.862504005432129,
          11.690485000610352,
          -4.7951579093933105,
          10.343003273010254,
          10.007379531860352,
          1.3545756340026855,
          -9.371149063110352,
          9.470681190490723,
          9.785258293151855,
          -5.505692481994629,
          7.659137725830078,
          -10.577302932739258,
          0.35315796732902527,
          -2.85298228263855,
          -5.979648590087891,
          1.2726775407791138,
          9.435770034790039,
          8.345568656921387,
          -3.4556596279144287,
          -5.0058722496032715,
          -3.9070045948028564,
          9.614842414855957,
          11.729472160339355,
          -0.29805898666381836,
          9.965950012207031,
          -9.493119239807129,
          10.950213432312012,
          -7.438118934631348,
          1.6341569423675537,
          -9.981097221374512,
          -3.063727617263794,
          10.577140808105469,
          -2.191359043121338,
          -3.840010404586792,
          -6.307971477508545,
          9.47467041015625,
          -4.361730098724365,
          -10.275992393493652,
          -8.3866548538208,
          -4.558412075042725,
          3.2807765007019043,
          -5.675263404846191,
          -10.952970504760742,
          -5.266087532043457,
          -8.821969032287598,
          -7.654417514801025,
          -5.584540367126465,
          7.508328914642334,
          -10.2327299118042,
          9.512040138244629,
          -10.707558631896973,
          -7.896545886993408,
          -2.768610715866089,
          11.317965507507324,
          -9.842691421508789,
          9.434929847717285,
          4.561673164367676,
          -5.496778964996338,
          -2.0445475578308105,
          -4.75844144821167,
          2.6354105472564697,
          10.629816055297852,
          11.176403045654297,
          -1.2077206373214722,
          9.436729431152344,
          10.209338188171387,
          -9.047112464904785,
          9.479540824890137,
          -4.276185512542725,
          -4.751512050628662,
          -5.755086421966553,
          -4.258007049560547,
          -7.074579238891602,
          9.926040649414062,
          9.452858924865723,
          9.42041015625,
          9.569963455200195,
          11.49577522277832,
          9.475340843200684,
          -0.9079444408416748,
          10.989266395568848,
          12.35146713256836,
          -4.726585388183594,
          9.091193199157715,
          -8.820940971374512,
          11.540471076965332,
          -3.6644527912139893,
          -6.461604118347168,
          10.589750289916992,
          -8.827903747558594,
          -5.822856903076172,
          -5.715655326843262,
          9.44822883605957,
          9.949589729309082,
          -3.677039861679077,
          -1.436110496520996,
          -4.1342644691467285,
          -9.972220420837402,
          -6.947343349456787,
          6.941147327423096,
          -4.415245532989502,
          9.668736457824707,
          11.40544319152832,
          -10.812150955200195,
          -9.139786720275879,
          9.502486228942871,
          -5.958590984344482,
          10.913756370544434,
          -4.224308490753174,
          -10.482720375061035,
          11.26783561706543,
          -10.41363525390625,
          1.100537657737732,
          -4.250615119934082,
          -0.28380343317985535,
          10.152518272399902,
          3.076774835586548,
          -1.586372971534729,
          9.33242130279541,
          -9.654013633728027,
          -3.9834823608398438,
          -1.8276101350784302,
          9.483545303344727,
          9.499401092529297,
          -8.989456176757812,
          -10.679832458496094,
          3.434828758239746,
          -10.957697868347168,
          -4.928407192230225,
          9.400041580200195,
          -8.7586669921875,
          -0.7609142661094666,
          0.9997432827949524,
          -8.506251335144043,
          0.8195682168006897,
          8.880690574645996,
          9.44544506072998,
          6.534414291381836,
          -4.477461338043213,
          10.724653244018555,
          -3.29321026802063,
          -0.10082514584064484,
          8.580451965332031,
          -7.399589538574219,
          10.455920219421387,
          8.507568359375,
          -10.776141166687012,
          -7.356446266174316,
          9.436274528503418,
          10.422378540039062,
          -7.507343292236328,
          9.436932563781738,
          -4.229879856109619,
          9.672558784484863,
          9.235145568847656,
          9.474016189575195,
          -6.964269161224365,
          0.8906238675117493,
          3.4260048866271973,
          11.491273880004883,
          -0.37818989157676697,
          -3.2645986080169678,
          10.089487075805664,
          -7.489776611328125,
          -9.45628547668457,
          -8.847475051879883,
          -10.329987525939941,
          -2.1283819675445557,
          9.452608108520508,
          0.15592175722122192,
          9.580565452575684,
          5.911812782287598,
          -8.935781478881836,
          10.726227760314941,
          9.470926284790039,
          -5.603109359741211,
          9.937446594238281,
          -3.207496404647827,
          -3.4525508880615234,
          -8.641242027282715,
          -9.42803955078125,
          5.4079203605651855,
          -10.425297737121582,
          -2.836394786834717,
          -9.926595687866211,
          2.979846239089966,
          -3.629162073135376,
          9.449738502502441,
          -10.894048690795898,
          7.322343349456787,
          8.484476089477539,
          -8.379121780395508,
          9.294379234313965,
          -9.538982391357422,
          7.99494743347168
         ],
         "z": [
          -3.273136854171753,
          -7.497419834136963,
          4.765978813171387,
          -2.767223834991455,
          -7.461846351623535,
          -4.789577007293701,
          -13.675557136535645,
          -5.747766017913818,
          3.7664685249328613,
          -8.823904991149902,
          -0.9265367984771729,
          -6.422855854034424,
          -5.866746425628662,
          -0.9198233485221863,
          -9.815296173095703,
          -2.6918954849243164,
          3.9635965824127197,
          -1.8493269681930542,
          -8.131638526916504,
          5.988664150238037,
          -3.0000696182250977,
          -10.100626945495605,
          -8.650185585021973,
          -11.447122573852539,
          -9.721495628356934,
          -13.068414688110352,
          -10.059795379638672,
          -8.888602256774902,
          2.9648938179016113,
          0.40702956914901733,
          -11.654537200927734,
          -7.446697235107422,
          -12.672313690185547,
          -2.5162601470947266,
          -5.5151567459106445,
          3.4992992877960205,
          -1.2733689546585083,
          -8.014764785766602,
          -1.4943994283676147,
          3.3924720287323,
          -2.9158530235290527,
          1.3454535007476807,
          -1.2028037309646606,
          -5.723191261291504,
          1.908272385597229,
          -1.7499501705169678,
          -8.713380813598633,
          -13.753385543823242,
          -13.745615005493164,
          -8.767099380493164,
          -8.096941947937012,
          -1.114296317100525,
          -0.43704476952552795,
          1.7481766939163208,
          -1.867631435394287,
          -2.3126373291015625,
          2.4054930210113525,
          -12.559168815612793,
          -5.8105340003967285,
          -1.145930290222168,
          0.7227254509925842,
          -3.4340858459472656,
          -13.707850456237793,
          2.1517765522003174,
          -9.170002937316895,
          2.059317111968994,
          -13.719626426696777,
          -4.2945170402526855,
          -10.263338088989258,
          -13.562749862670898,
          3.0179877281188965,
          3.4663779735565186,
          -5.808012008666992,
          -13.710049629211426,
          2.33988618850708,
          -11.010157585144043,
          -2.0748355388641357,
          -11.980895042419434,
          4.147439479827881,
          -10.41254711151123,
          1.1482670307159424,
          2.2616875171661377,
          1.280647873878479,
          -11.137006759643555,
          1.199568510055542,
          0.6117913126945496,
          -10.579243659973145,
          -10.625043869018555,
          -11.540021896362305,
          -12.86138916015625,
          -11.817699432373047,
          -13.804278373718262,
          -5.945091724395752,
          1.946373462677002,
          -1.0764219760894775,
          -1.632851004600525,
          -7.820226669311523,
          -8.676647186279297,
          -5.820717811584473,
          -8.916986465454102,
          -11.889920234680176,
          4.710005283355713,
          -0.600946843624115,
          -1.1986064910888672,
          -11.905610084533691,
          1.3294745683670044,
          1.4931844472885132,
          -13.282116889953613,
          0.31108322739601135,
          -11.488093376159668,
          -12.171025276184082,
          -1.3097342252731323,
          -3.446864604949951,
          -5.552028656005859,
          -8.09314250946045,
          -13.43274211883545,
          -4.96213436126709,
          -12.0774507522583,
          -13.756082534790039,
          -13.014472007751465,
          -12.368675231933594,
          -11.668865203857422,
          -2.4919166564941406,
          -9.12770938873291,
          -9.663565635681152,
          6.719067573547363,
          3.582552433013916,
          -6.606227874755859,
          -13.352940559387207,
          7.131816864013672,
          -7.745429515838623,
          -9.08089828491211,
          1.136061191558838,
          -12.271271705627441,
          -7.2235894203186035,
          -7.777825832366943,
          -3.231645107269287,
          0.8212265372276306,
          -11.13119888305664,
          -2.1129708290100098,
          3.485095500946045,
          -9.248324394226074,
          1.0389150381088257,
          -7.70965051651001,
          -11.114968299865723,
          -13.826355934143066,
          -5.2047224044799805,
          -13.432243347167969,
          2.548771619796753,
          -8.378547668457031,
          -4.217233657836914,
          -8.475061416625977,
          0.5910001993179321,
          3.0828421115875244,
          -5.715061187744141,
          -5.8524088859558105,
          -12.30432415008545,
          2.5879127979278564,
          -11.959515571594238,
          -7.737139701843262,
          7.3436455726623535,
          -11.216880798339844,
          -9.452804565429688,
          -6.785637378692627,
          -13.2067289352417,
          -9.01506519317627,
          -13.496076583862305,
          0.3103041350841522,
          1.457871913909912,
          3.152606725692749,
          2.4592411518096924,
          -13.879949569702148,
          -9.89926815032959,
          -5.910143852233887,
          -10.411947250366211,
          -4.206267356872559,
          -12.246991157531738,
          -9.959733963012695,
          -13.7785062789917,
          -6.619391441345215,
          -0.774311363697052,
          1.1379083395004272,
          -8.254598617553711,
          5.765806198120117,
          0.6831066608428955,
          0.783699095249176,
          2.025696277618408,
          -0.8820316791534424,
          -8.455747604370117,
          -10.411103248596191,
          -13.217192649841309,
          -4.209864616394043,
          5.897377967834473,
          -5.831347942352295,
          -0.12701472640037537,
          -7.7347493171691895,
          -0.015057330951094627,
          -2.4358787536621094,
          -11.753805160522461,
          -12.097003936767578,
          -5.645589351654053,
          3.196582078933716,
          -0.18203605711460114,
          -8.592779159545898,
          -3.7883379459381104,
          -10.425912857055664,
          -4.632618427276611,
          -7.115694522857666,
          -13.687108039855957,
          -12.268500328063965,
          4.837988376617432,
          -8.084359169006348,
          -13.418590545654297,
          -4.6277337074279785,
          -7.371835231781006,
          3.4282655715942383,
          -8.826743125915527,
          -5.02278470993042,
          -9.234436988830566,
          -13.763888359069824,
          7.1718974113464355,
          7.2911906242370605,
          -8.48609447479248,
          -8.94769287109375,
          5.919398307800293,
          1.2350192070007324,
          2.584841728210449,
          -13.845458030700684,
          0.31089505553245544,
          3.4956674575805664,
          3.277068614959717,
          -9.138054847717285,
          -10.581507682800293,
          -2.8206701278686523,
          -13.279980659484863,
          -6.585250377655029,
          -10.826733589172363,
          -1.4556885957717896,
          -7.555861473083496,
          -8.050162315368652,
          5.489737033843994,
          0.9714892506599426,
          6.042742729187012,
          3.017359733581543,
          -10.047863960266113,
          6.302924156188965,
          2.9658265113830566,
          -10.516317367553711,
          -1.0357774496078491,
          5.036732196807861,
          -8.660283088684082,
          -7.439572811126709,
          -9.261513710021973,
          -6.7114362716674805,
          0.8941683173179626,
          -9.622618675231934,
          2.1003222465515137,
          -10.042830467224121,
          3.691570281982422,
          -11.659055709838867,
          -10.107982635498047,
          2.5857841968536377,
          -8.915118217468262,
          1.5660334825515747,
          -7.014889717102051,
          0.20765118300914764,
          2.9044878482818604,
          3.059473752975464,
          -0.7486938834190369,
          5.731538772583008,
          -2.462299346923828,
          -6.278410911560059,
          -6.225762844085693,
          3.8205924034118652,
          -13.074813842773438,
          -7.024395942687988,
          -5.746510028839111,
          -13.892362594604492,
          -0.9080867171287537,
          -9.146810531616211,
          -13.857576370239258,
          -3.822531223297119,
          -9.009435653686523,
          -0.03799660503864288,
          -13.862202644348145,
          2.7364392280578613,
          -9.43458080291748,
          -13.844439506530762,
          -11.669742584228516,
          -5.793030261993408,
          -7.13990592956543,
          -1.995638370513916,
          -11.450531005859375,
          6.255606174468994,
          -13.64453125,
          -5.844316005706787,
          -9.635469436645508,
          -0.9235610365867615,
          -10.814517974853516,
          -10.776942253112793,
          -13.524123191833496,
          -1.9230941534042358,
          -0.20917358994483948,
          -4.946587085723877,
          -4.637938022613525,
          -11.174703598022461,
          2.042442560195923,
          -0.024898918345570564,
          -13.754242897033691,
          6.642010688781738,
          7.269834518432617,
          -3.6255381107330322,
          -0.6346889734268188,
          2.516915798187256,
          -13.611802101135254,
          -4.127994537353516,
          2.4639995098114014,
          -13.546106338500977,
          -8.421131134033203,
          0.9494397640228271,
          -12.41746997833252,
          -8.5617094039917,
          -10.460352897644043,
          -8.541261672973633,
          2.567150592803955,
          -6.59667444229126,
          -6.829963207244873,
          -7.91785192489624,
          -6.70556116104126,
          -12.304671287536621,
          0.6335878968238831,
          1.5640685558319092,
          7.2464919090271,
          -13.733264923095703,
          -2.1191413402557373,
          -3.4462571144104004,
          5.715607643127441,
          -13.516079902648926,
          -4.571858882904053,
          0.3096151649951935,
          -7.682397365570068,
          -7.939652442932129,
          -5.477624416351318,
          6.976373195648193,
          -7.869965076446533,
          0.5844224691390991,
          -8.122530937194824,
          -9.350787162780762,
          0.8439863920211792,
          -7.022192478179932,
          5.07310152053833,
          -6.869789123535156,
          -9.878838539123535,
          -7.948654651641846,
          -3.3878467082977295,
          -1.4015151262283325,
          -7.357473373413086,
          3.656981945037842,
          -3.553452253341675,
          -13.857338905334473,
          -10.592644691467285,
          7.333927631378174,
          -8.70535945892334,
          -6.603076934814453,
          6.084591388702393,
          -13.222187042236328,
          -0.627595067024231,
          -5.448873996734619,
          -8.529716491699219,
          -9.285290718078613,
          -11.767616271972656,
          -5.7949652671813965,
          -6.841207504272461,
          -13.836377143859863,
          -13.66916275024414,
          -3.6810591220855713,
          -9.557364463806152,
          7.02691650390625,
          -4.041520118713379,
          -5.5616888999938965,
          -8.84657096862793,
          -2.6752769947052,
          2.0848679542541504,
          0.6813156604766846,
          2.5352909564971924,
          -7.850615978240967,
          -12.89173698425293,
          -13.142147064208984,
          -2.298614978790283,
          -8.077744483947754,
          -13.831460952758789,
          -1.343543291091919,
          -13.430252075195312,
          -12.042420387268066,
          6.136781215667725,
          -1.663998007774353,
          2.6885571479797363,
          1.135465383529663,
          -8.546136856079102,
          -7.9311442375183105,
          -7.942179203033447,
          -0.10086972266435623,
          -5.029362678527832,
          -11.661459922790527,
          -5.192378520965576,
          -8.078990936279297,
          -13.37553596496582,
          3.4020533561706543,
          -13.862356185913086,
          -3.619661569595337,
          -11.122000694274902,
          -13.268220901489258,
          -9.811346054077148,
          3.972470998764038,
          -1.5637946128845215,
          6.287669658660889,
          -7.676581382751465,
          0.9241275787353516,
          -7.691681385040283,
          4.746275901794434,
          1.1671427488327026,
          -8.688197135925293,
          -5.952024936676025,
          2.614572525024414,
          3.564666986465454,
          -6.4296674728393555,
          -4.5829267501831055,
          -11.64873218536377,
          -7.855181694030762,
          0.0034713689237833023,
          -5.920825004577637,
          1.320216178894043,
          3.5714516639709473,
          -9.531222343444824,
          -12.253801345825195,
          -3.7146615982055664,
          -4.63094425201416,
          -1.940229058265686,
          1.9881170988082886,
          3.7357115745544434,
          -11.754581451416016,
          -2.7195732593536377,
          -8.33319091796875,
          -4.854198455810547,
          -10.662171363830566,
          -13.394679069519043,
          6.081972122192383,
          -0.660692036151886,
          -6.773514270782471,
          -12.835275650024414,
          -1.207068920135498,
          -6.550380229949951,
          -3.8595595359802246,
          -12.824396133422852,
          3.743868827819824,
          6.327273368835449,
          -7.130431175231934,
          -9.152667045593262,
          2.1081838607788086,
          0.6607251167297363,
          -7.5844926834106445,
          -2.3465991020202637,
          -7.151791572570801,
          -1.220984697341919,
          0.8380739688873291,
          2.5032200813293457,
          0.688786506652832,
          -3.190121650695801,
          -6.456920623779297,
          -1.7864623069763184,
          6.6236772537231445,
          -8.881889343261719,
          -7.320760726928711,
          4.8643388748168945,
          7.334024906158447,
          -12.760173797607422,
          -10.185002326965332,
          -9.564445495605469,
          6.576167583465576,
          -4.953697204589844,
          -5.833207130432129,
          3.6122422218322754,
          0.4492156207561493,
          -1.368142008781433,
          3.5781376361846924,
          -3.351240396499634,
          0.8165066242218018,
          -0.4225504398345947,
          -6.88046407699585,
          -1.7770453691482544,
          -0.8839954733848572,
          -11.261507987976074,
          -12.014416694641113,
          0.9482041597366333,
          -1.0456876754760742,
          6.501446723937988,
          -2.913888454437256,
          -8.97122573852539,
          -2.4480814933776855,
          -1.0870352983474731,
          4.63527774810791,
          1.2944107055664062,
          -5.4525299072265625,
          5.7104902267456055,
          -5.605267524719238,
          -13.84826374053955,
          -1.220730185508728,
          -13.828032493591309,
          1.8469806909561157,
          -9.42875862121582,
          -6.778138160705566,
          -9.56296157836914,
          -7.270442485809326,
          -13.072452545166016,
          -6.667669296264648,
          -8.812193870544434,
          -8.703073501586914,
          0.7219712138175964,
          -2.4747753143310547,
          -9.605804443359375,
          -3.8830254077911377,
          -12.657608985900879,
          -5.104044437408447,
          0.9482475519180298,
          -13.845394134521484,
          -8.36209487915039,
          -2.0799524784088135,
          -13.847064971923828,
          -10.510416030883789,
          -3.4120168685913086,
          -12.139142036437988,
          -9.220370292663574,
          4.040539264678955,
          -9.206954956054688,
          -7.748164176940918,
          -10.883501052856445,
          -8.36161994934082,
          3.145516872406006,
          -10.96092700958252,
          -4.607938289642334,
          1.3025943040847778,
          -6.7968268394470215,
          3.0141751766204834,
          2.107078790664673,
          -9.159753799438477,
          -0.041054703295230865,
          -0.7957702279090881,
          -9.854446411132812,
          -8.89980697631836,
          -11.36890983581543,
          -13.840873718261719,
          -9.601456642150879,
          5.972753524780273,
          -13.821115493774414,
          2.452406644821167,
          1.5434422492980957,
          -10.930809020996094,
          -7.959164619445801,
          -9.514857292175293,
          -5.788714408874512,
          -6.473095417022705,
          -3.2384591102600098,
          -7.911897659301758,
          -1.5071783065795898,
          -10.05928897857666,
          -9.385534286499023,
          4.050841331481934,
          -7.469832897186279,
          -12.319158554077148,
          0.7492427229881287,
          1.6051462888717651,
          0.11350036412477493,
          -9.816915512084961,
          -8.19257640838623,
          -12.399772644042969,
          -1.9263205528259277,
          -6.100787162780762,
          -0.8077711462974548,
          -12.847427368164062,
          -6.250316143035889,
          -7.0148091316223145,
          -3.1004855632781982,
          -11.854361534118652,
          -10.981339454650879,
          -10.136131286621094,
          -9.689363479614258,
          -7.5895280838012695,
          -11.4298095703125
         ]
        },
        {
         "hovertemplate": "Dominant_Topic=Topic 1<br>0=%{x}<br>1=%{y}<br>2=%{z}<extra></extra>",
         "legendgroup": "Topic 1",
         "marker": {
          "color": "#EF553B",
          "opacity": 0.7,
          "symbol": "circle"
         },
         "mode": "markers",
         "name": "Topic 1",
         "scene": "scene",
         "showlegend": true,
         "type": "scatter3d",
         "x": [
          0.724777340888977,
          5.326934337615967,
          5.507290840148926,
          0.3556389808654785,
          4.758191108703613,
          5.687931060791016,
          -0.5740708708763123,
          4.828277587890625,
          5.002652168273926,
          6.171299934387207,
          5.545727252960205,
          6.283512115478516,
          -2.200251579284668,
          -0.4773092567920685,
          4.511263847351074,
          1.7963876724243164,
          2.0214552879333496,
          5.740328311920166,
          4.122246742248535,
          2.391700506210327,
          3.9886600971221924,
          5.71815824508667,
          5.782435417175293,
          3.852898359298706,
          4.6019768714904785,
          0.3925567865371704,
          3.4060027599334717,
          1.8299516439437866,
          5.458615779876709,
          0.3325156271457672,
          -4.006851673126221,
          1.3276584148406982,
          1.253888487815857,
          0.3360835313796997,
          5.499908447265625,
          2.047866106033325,
          -3.0793445110321045,
          0.561863899230957,
          -2.0024631023406982,
          -0.17957894504070282,
          5.818915843963623,
          -3.0150582790374756,
          0.8905676603317261,
          4.00319242477417,
          -0.48172250390052795,
          5.986363410949707,
          6.148451805114746,
          6.0781450271606445,
          6.217571258544922,
          1.367527961730957,
          1.1953785419464111,
          5.107531547546387,
          0.8994584083557129,
          0.5512317419052124,
          -2.1708762645721436,
          4.874199390411377,
          -2.6348719596862793,
          -2.637596845626831,
          4.845814228057861,
          3.4994611740112305,
          0.3508588671684265,
          1.5261204242706299,
          1.2881147861480713,
          0.8715223073959351,
          0.5667824745178223,
          0.8655625581741333,
          -1.484290361404419,
          1.558564305305481,
          -2.9987452030181885,
          0.3925652503967285,
          -1.2598962783813477,
          4.906681060791016,
          6.244643211364746,
          5.913201808929443,
          5.891240119934082,
          5.539617538452148,
          4.742997646331787,
          1.176447868347168,
          5.965671539306641,
          -3.483128070831299,
          0.7538598775863647,
          0.4986235797405243,
          1.7096556425094604,
          5.424430847167969,
          1.1051841974258423,
          4.9604573249816895,
          2.887225866317749,
          -0.6027507781982422,
          5.552150726318359,
          1.8097766637802124,
          2.8394081592559814,
          1.5678730010986328,
          0.6781190037727356,
          2.766799211502075,
          4.84969425201416,
          1.5640950202941895,
          3.2645838260650635,
          -3.005821704864502,
          0.21927721798419952,
          0.05234144255518913,
          2.84928822517395,
          5.153303146362305,
          1.2129631042480469,
          5.957326412200928,
          4.74074125289917,
          3.282865047454834,
          0.589796781539917,
          3.414313316345215,
          1.9824066162109375,
          1.4882851839065552,
          0.7093937993049622,
          5.242290496826172,
          -1.9674376249313354,
          5.766186714172363,
          6.283213138580322,
          3.823171615600586,
          -2.6867239475250244,
          6.307436943054199,
          1.5425283908843994,
          -2.5088982582092285,
          2.8536391258239746,
          -1.7256516218185425,
          3.808990955352783,
          -2.009399175643921,
          1.8896474838256836,
          5.642364501953125,
          1.0116382837295532,
          4.983175277709961,
          -1.9022349119186401,
          -2.73525071144104,
          6.199984550476074,
          5.268509864807129,
          6.315989971160889,
          6.265497207641602,
          0.06547508388757706,
          0.9340991973876953,
          6.251510143280029,
          0.1540444791316986,
          6.185293197631836,
          2.9429666996002197,
          4.845521450042725,
          1.458886742591858,
          2.532896041870117,
          5.697778224945068,
          3.36875319480896,
          4.260649681091309,
          -2.1503384113311768,
          -0.0638880580663681,
          6.041749000549316,
          4.1966753005981445,
          6.161777973175049,
          5.178835868835449,
          3.096616744995117,
          1.5260584354400635,
          1.8671300411224365,
          2.0016586780548096,
          -2.3719499111175537,
          1.3361231088638306,
          4.669261455535889,
          0.9520766735076904,
          6.160646915435791,
          0.19376561045646667,
          1.4293676614761353,
          -1.6153570413589478,
          0.8536573648452759,
          6.2480010986328125,
          2.928891658782959,
          4.559286117553711,
          1.622345209121704,
          4.752147197723389,
          4.218693733215332,
          0.1438085436820984,
          -2.3386592864990234,
          -2.3868765830993652,
          5.224393844604492,
          -2.142496109008789,
          1.36878502368927,
          4.121045112609863,
          3.731905937194824,
          0.15863396227359772,
          5.80655574798584,
          4.429052829742432,
          2.1537046432495117,
          4.4397735595703125,
          5.228135585784912,
          1.6730923652648926,
          1.6351418495178223,
          4.194757461547852,
          1.634045124053955,
          2.347156524658203,
          -2.7705469131469727,
          -2.1243083477020264,
          4.493862152099609,
          6.326709747314453,
          3.6170220375061035,
          0.49723899364471436,
          2.7818639278411865,
          4.831252098083496,
          -3.1003365516662598,
          2.4811387062072754,
          5.836012840270996,
          6.230867385864258,
          1.9920532703399658,
          1.311090111732483,
          3.2818193435668945,
          0.2921315133571625,
          -2.568056344985962,
          5.1453375816345215,
          2.499016761779785,
          6.179773330688477,
          0.8544158935546875,
          5.742393493652344,
          0.9928513169288635,
          -1.2385977506637573,
          5.060042858123779,
          2.317692518234253,
          5.651556968688965,
          3.9898509979248047,
          1.3919998407363892,
          4.3532891273498535,
          5.798954010009766,
          6.2202348709106445,
          -1.56890070438385,
          5.660948276519775,
          5.6509833335876465,
          0.6936818361282349,
          -2.5206458568573,
          -2.567060947418213,
          0.18929407000541687
         ],
         "y": [
          -1.0495338439941406,
          1.4631489515304565,
          -1.809935212135315,
          3.5494022369384766,
          2.0768911838531494,
          -3.20131254196167,
          -1.5631669759750366,
          2.037506341934204,
          1.7622044086456299,
          -0.14524231851100922,
          1.1576552391052246,
          -1.431449055671692,
          0.5192093253135681,
          0.09381286054849625,
          2.2455503940582275,
          -1.1366620063781738,
          -2.1865415573120117,
          0.7987063527107239,
          -3.998033046722412,
          -3.5989415645599365,
          -3.7650253772735596,
          0.7606727480888367,
          -2.9630839824676514,
          0.34118789434432983,
          -3.417428731918335,
          0.7971073985099792,
          2.9076411724090576,
          -1.3722660541534424,
          -3.4400832653045654,
          -0.2916019558906555,
          -0.18524079024791718,
          -2.6276557445526123,
          -1.1699285507202148,
          -1.3819531202316284,
          1.2250134944915771,
          3.4443676471710205,
          -0.11162827908992767,
          3.778916120529175,
          0.4390399158000946,
          0.38420137763023376,
          -2.8964478969573975,
          -1.2205959558486938,
          0.69820237159729,
          -1.2976114749908447,
          0.963363528251648,
          0.032097507268190384,
          -0.10327956080436707,
          -0.8274562358856201,
          -1.6787902116775513,
          3.702942371368408,
          1.118554711341858,
          -4.3956298828125,
          3.767636775970459,
          2.9980974197387695,
          -2.117711305618286,
          -1.9896365404129028,
          -1.2392460107803345,
          -1.4121211767196655,
          2.0287156105041504,
          2.8481924533843994,
          -1.465157151222229,
          -2.9881670475006104,
          0.7786092162132263,
          -0.42946746945381165,
          3.776940107345581,
          0.8397864699363708,
          -2.2400319576263428,
          -1.5823780298233032,
          -0.44500213861465454,
          3.7856719493865967,
          0.8992481827735901,
          -4.369919300079346,
          -0.36759138107299805,
          0.40194523334503174,
          -1.2607402801513672,
          -1.0248020887374878,
          2.0637853145599365,
          3.7380177974700928,
          -1.8752766847610474,
          -0.016318228095769882,
          2.3543524742126465,
          -1.141148328781128,
          3.577415704727173,
          -3.4508469104766846,
          2.2469379901885986,
          1.8974275588989258,
          3.162019968032837,
          -0.13794389367103577,
          -3.4883008003234863,
          -1.0964537858963013,
          3.1880016326904297,
          3.648599624633789,
          1.1905806064605713,
          3.1734185218811035,
          1.8327977657318115,
          3.656075954437256,
          -1.8321759700775146,
          -0.8060488104820251,
          -1.8881562948226929,
          -0.6884722709655762,
          -3.8991410732269287,
          -4.262943267822266,
          2.06333065032959,
          0.3680956959724426,
          -1.5517148971557617,
          2.9588139057159424,
          -0.5886788368225098,
          -3.9299373626708984,
          -1.1149675846099854,
          3.6681325435638428,
          -1.127658486366272,
          1.5743532180786133,
          -0.07929486781358719,
          -2.717109441757202,
          -0.6008416414260864,
          2.66797137260437,
          -1.547491192817688,
          -1.1316899061203003,
          -1.2557628154754639,
          -1.443987488746643,
          -3.4241838455200195,
          -0.2416989952325821,
          -4.026106834411621,
          -1.6412105560302734,
          -1.537472128868103,
          0.9110876321792603,
          3.6787309646606445,
          -4.668891429901123,
          -2.007957935333252,
          0.028756339102983475,
          -0.4058658480644226,
          1.5364819765090942,
          -1.0277587175369263,
          -1.5319576263427734,
          -0.35387563705444336,
          2.100306749343872,
          -1.6297553777694702,
          -2.813847541809082,
          -0.40222716331481934,
          3.1422994136810303,
          1.990224838256836,
          -2.746483564376831,
          -1.0853816270828247,
          -0.851301372051239,
          -3.8141064643859863,
          2.3824069499969482,
          -1.597152590751648,
          -0.5625351071357727,
          0.15767331421375275,
          -1.3526090383529663,
          -1.7316638231277466,
          -3.944871187210083,
          3.0633320808410645,
          1.1596547365188599,
          3.5564005374908447,
          -1.5373167991638184,
          0.1593419462442398,
          2.0073280334472656,
          -5.262375354766846,
          0.7845571041107178,
          -0.9592917561531067,
          3.802961587905884,
          -2.1883888244628906,
          -0.2713112533092499,
          -1.356873631477356,
          -0.3946312963962555,
          3.142045736312866,
          -3.1304919719696045,
          3.6322972774505615,
          -5.4078874588012695,
          -1.7893764972686768,
          0.26660290360450745,
          -1.672860860824585,
          -1.8035842180252075,
          1.598751425743103,
          0.2649814188480377,
          -0.14996768534183502,
          2.310692310333252,
          2.712688446044922,
          3.8045308589935303,
          0.6559798717498779,
          2.3043315410614014,
          -2.933804512023926,
          2.3039958477020264,
          -4.137191295623779,
          -2.6874165534973145,
          1.431358814239502,
          2.4476044178009033,
          1.5399240255355835,
          -1.8057992458343506,
          0.08226653933525085,
          0.6081669330596924,
          2.145172357559204,
          -1.056662917137146,
          -3.7527613639831543,
          -0.5305566191673279,
          3.2075657844543457,
          -5.089710235595703,
          -1.0863066911697388,
          3.3251426219940186,
          -1.6367155313491821,
          -0.3674498498439789,
          -0.8024921417236328,
          -0.5077692866325378,
          2.9276838302612305,
          3.778618574142456,
          -0.2922096848487854,
          -2.2144367694854736,
          3.3230226039886475,
          -0.1846493035554886,
          3.7604053020477295,
          -3.017082929611206,
          -0.34551113843917847,
          0.6404092311859131,
          -4.336785316467285,
          -1.0328377485275269,
          0.9050881266593933,
          0.39892351627349854,
          1.7472894191741943,
          -2.9678242206573486,
          -2.930990219116211,
          -1.6716023683547974,
          0.5148330330848694,
          -2.9174718856811523,
          0.9509029984474182,
          0.19375130534172058,
          -0.07117429375648499,
          -0.36537081003189087,
          -1.1774253845214844
         ],
         "z": [
          7.053926467895508,
          12.039116859436035,
          7.556521892547607,
          14.392406463623047,
          12.877068519592285,
          6.046577453613281,
          6.0556416511535645,
          12.833688735961914,
          12.421618461608887,
          9.91113567352295,
          11.62804126739502,
          8.256905555725098,
          8.884445190429688,
          8.594393730163574,
          13.08269214630127,
          7.307712554931641,
          5.931933403015137,
          11.1492919921875,
          4.685255527496338,
          4.434372901916504,
          4.836759567260742,
          11.084992408752441,
          6.329570770263672,
          10.034530639648438,
          5.398196220397949,
          9.895766258239746,
          13.937028884887695,
          6.959700584411621,
          5.725208282470703,
          8.271697044372559,
          7.383925914764404,
          5.153314590454102,
          7.051177501678467,
          6.465991020202637,
          11.719621658325195,
          14.556572914123535,
          7.74600887298584,
          14.815998077392578,
          8.806572914123535,
          9.11448860168457,
          6.413935661315918,
          6.1254777908325195,
          9.860156059265137,
          7.776925086975098,
          9.955449104309082,
          10.106315612792969,
          9.966443061828613,
          8.95854663848877,
          7.938411712646484,
          14.850177764892578,
          10.587995529174805,
          4.751078128814697,
          14.859098434448242,
          13.51892375946045,
          4.92283296585083,
          7.137176513671875,
          6.221947193145752,
          5.962194442749023,
          12.802072525024414,
          13.856616020202637,
          6.357814311981201,
          4.768369197845459,
          10.079936981201172,
          8.10325813293457,
          14.813253402709961,
          10.072282791137695,
          5.903311252593994,
          6.563684463500977,
          7.28009557723999,
          14.791327476501465,
          9.67685604095459,
          4.692407608032227,
          9.630812644958496,
          10.613775253295898,
          8.347061157226562,
          8.542116165161133,
          12.841190338134766,
          14.872042655944824,
          7.6251301765441895,
          7.777786731719971,
          12.496967315673828,
          6.851869106292725,
          14.71037483215332,
          5.702710151672363,
          12.393152236938477,
          12.613784790039062,
          14.252633094787598,
          8.209168434143066,
          5.718186855316162,
          7.369457721710205,
          14.28660774230957,
          14.798545837402344,
          10.587275505065918,
          14.247865676879883,
          12.482390403747559,
          14.809496879577637,
          6.791003704071045,
          6.751900672912598,
          5.833518981933594,
          7.657954216003418,
          4.317935943603516,
          4.875032424926758,
          12.115293502807617,
          10.575942039489746,
          7.6427998542785645,
          13.99571704864502,
          7.762423038482666,
          4.486745834350586,
          7.612120628356934,
          14.814125061035156,
          6.932826042175293,
          12.191508293151855,
          8.05349063873291,
          6.593381881713867,
          9.325040817260742,
          13.626215934753418,
          5.727673053741455,
          8.641826629638672,
          7.026576042175293,
          5.9566240310668945,
          4.778686046600342,
          7.843332767486572,
          4.546957015991211,
          5.786520004272461,
          6.741495609283447,
          11.28586483001709,
          14.731057167053223,
          4.494551181793213,
          5.236083984375,
          8.036894798278809,
          9.556005477905273,
          12.133674621582031,
          8.779149055480957,
          8.131160736083984,
          8.013117790222168,
          12.118084907531738,
          8.006507873535156,
          7.213887691497803,
          9.557539939880371,
          14.230721473693848,
          12.736809730529785,
          5.046550273895264,
          8.083100318908691,
          8.809538841247559,
          4.567987442016602,
          13.249619483947754,
          5.826515197753906,
          7.6473517417907715,
          10.299102783203125,
          7.7538743019104,
          7.857483386993408,
          5.152669906616211,
          14.131613731384277,
          10.729720115661621,
          14.704641342163086,
          6.778842449188232,
          8.318702697753906,
          12.04887866973877,
          3.952500820159912,
          10.008831977844238,
          8.815640449523926,
          14.783687591552734,
          5.745410442352295,
          7.873198509216309,
          6.637155055999756,
          9.579554557800293,
          14.229071617126465,
          5.671633720397949,
          14.783838272094727,
          3.8830695152282715,
          7.1732659339904785,
          9.009291648864746,
          5.661877632141113,
          5.419752597808838,
          12.222984313964844,
          8.515222549438477,
          8.694223403930664,
          13.096762657165527,
          13.681577682495117,
          14.778355598449707,
          10.955842018127441,
          13.157543182373047,
          5.081491947174072,
          13.156790733337402,
          5.010642051696777,
          5.198090553283691,
          11.18085765838623,
          13.345457077026367,
          11.352797508239746,
          6.521662712097168,
          8.108637809753418,
          9.036030769348145,
          12.897079467773438,
          8.742706298828125,
          4.711964130401611,
          7.835176467895508,
          14.307385444641113,
          4.134404182434082,
          6.305924892425537,
          14.446836471557617,
          7.868370056152344,
          9.621588706970215,
          7.905135631561279,
          8.121294021606445,
          13.943202018737793,
          14.760833740234375,
          7.605687141418457,
          6.9599738121032715,
          14.444425582885742,
          9.857586860656738,
          14.838292121887207,
          6.257266998291016,
          8.272390365600586,
          9.275707244873047,
          4.778249263763428,
          7.657538890838623,
          11.280268669128418,
          10.1491117477417,
          11.638520240783691,
          5.773371696472168,
          6.370412826538086,
          7.947957992553711,
          9.01278305053711,
          6.335678577423096,
          11.346868515014648,
          9.03213119506836,
          7.939047336578369,
          7.500006675720215,
          7.242147445678711
         ]
        },
        {
         "hovertemplate": "Dominant_Topic=Topic 2<br>0=%{x}<br>1=%{y}<br>2=%{z}<extra></extra>",
         "legendgroup": "Topic 2",
         "marker": {
          "color": "#00cc96",
          "opacity": 0.7,
          "symbol": "circle"
         },
         "mode": "markers",
         "name": "Topic 2",
         "scene": "scene",
         "showlegend": true,
         "type": "scatter3d",
         "x": [
          -3.3645784854888916,
          -13.815497398376465,
          -13.003671646118164,
          -11.880078315734863,
          -7.065893173217773,
          -7.285486698150635,
          -12.06624698638916,
          -6.151973724365234,
          -4.577315807342529,
          -7.312582015991211,
          -10.479098320007324,
          -13.318933486938477,
          -13.755514144897461,
          -13.111766815185547,
          -4.572813510894775,
          -11.982083320617676,
          -7.436629295349121,
          -4.620588779449463,
          -11.76470947265625,
          -9.251419067382812,
          -11.55205249786377,
          -7.530324459075928,
          -8.904083251953125,
          -9.477855682373047,
          -7.1971893310546875,
          -6.202873706817627,
          -4.899866580963135,
          -5.020071506500244,
          -13.637774467468262,
          -12.668590545654297,
          -7.544816970825195,
          -6.551502704620361,
          -2.9207370281219482,
          -8.590967178344727,
          -12.856691360473633,
          -13.889933586120605,
          -7.076420783996582,
          -10.730846405029297,
          -10.206774711608887,
          -12.472883224487305,
          -14.095561981201172,
          -4.435403347015381,
          -12.316851615905762,
          -7.9060235023498535,
          -5.490055084228516,
          -12.4849271774292,
          -9.842041015625,
          -7.655994892120361,
          -11.926432609558105,
          -3.9110686779022217,
          -12.194418907165527,
          -9.28049087524414,
          -10.791166305541992,
          -6.133693695068359,
          -5.811223030090332,
          -13.775139808654785,
          -12.78763484954834,
          -9.269262313842773,
          -13.380552291870117,
          -9.395977973937988,
          -9.356587409973145,
          -6.575133800506592,
          -13.7636137008667,
          -9.435604095458984,
          -7.750823497772217,
          -4.820460796356201,
          -7.1718430519104,
          -10.306696891784668,
          -7.4292168617248535,
          -11.457761764526367,
          -5.019831657409668,
          -6.601852893829346,
          -13.067113876342773,
          -6.018615245819092,
          -4.91327428817749,
          -12.690702438354492,
          -6.020627975463867,
          -11.521146774291992,
          -7.680984973907471,
          -10.919686317443848,
          -9.776906967163086,
          -13.494457244873047,
          -4.0865278244018555,
          -5.155517578125,
          -8.533286094665527,
          -7.954534530639648,
          -13.834360122680664,
          -7.774238586425781,
          -11.594285011291504,
          -11.679533004760742,
          -7.9166035652160645,
          -9.990297317504883,
          -4.621192455291748,
          -6.104821681976318,
          -14.002878189086914,
          -9.52756118774414,
          -12.848926544189453,
          -9.831828117370605,
          -5.636642932891846,
          -7.1924357414245605,
          -7.655343532562256,
          -10.808822631835938,
          -10.799805641174316,
          -9.609489440917969,
          -5.485578536987305,
          -12.356795310974121,
          -9.525359153747559,
          -12.151988983154297,
          -9.399361610412598,
          -12.527026176452637,
          -12.331929206848145,
          -5.190757751464844,
          -12.297450065612793,
          -5.269654273986816,
          -12.147740364074707,
          -6.04837703704834,
          -13.763656616210938,
          -7.496801853179932,
          -13.92387866973877,
          -6.660713195800781,
          -13.494596481323242,
          -12.280628204345703,
          -4.279045104980469,
          -13.259064674377441,
          -5.077214241027832,
          -6.996853828430176,
          -7.27585506439209,
          -9.30848503112793,
          -9.037370681762695,
          -5.9302449226379395,
          -13.84787368774414,
          -7.680078029632568,
          -9.50249195098877,
          -8.733280181884766,
          -12.7044038772583,
          -12.702190399169922,
          -7.549384593963623,
          -7.551262855529785,
          -11.8309326171875,
          -5.199309349060059,
          -8.004008293151855,
          -4.573060989379883,
          -13.838969230651855,
          -8.415900230407715,
          -9.853670120239258,
          -5.7219109535217285,
          -4.219638347625732,
          -4.639692783355713,
          -9.721136093139648,
          -6.173137187957764,
          -6.0567626953125,
          -14.12019157409668,
          -4.967343330383301,
          -11.297528266906738
         ],
         "y": [
          -1.716402530670166,
          0.4303821325302124,
          0.12573088705539703,
          -0.1384626179933548,
          -0.9191594123840332,
          -1.5958572626113892,
          -1.1743216514587402,
          -3.1344707012176514,
          -1.9057681560516357,
          -2.8841392993927,
          -1.2102130651474,
          -0.15207208693027496,
          0.3674919009208679,
          -0.30331215262413025,
          -2.994002342224121,
          -1.1821681261062622,
          -2.616142749786377,
          -1.6363189220428467,
          -0.11779725551605225,
          -2.091035842895508,
          -1.3457367420196533,
          -2.0822343826293945,
          -1.6077972650527954,
          -1.0386689901351929,
          -2.82731556892395,
          -0.7774448990821838,
          -0.7616591453552246,
          -2.552856683731079,
          0.39324790239334106,
          -0.8190050721168518,
          -1.3096470832824707,
          -2.0934863090515137,
          -2.278991937637329,
          -2.373967409133911,
          0.06676306575536728,
          0.010493260808289051,
          -1.030112862586975,
          -0.12879857420921326,
          -1.0996748208999634,
          -0.7894723415374756,
          0.2780342400074005,
          -3.127185583114624,
          -0.4466230273246765,
          -1.3974149227142334,
          -2.041552782058716,
          -0.9522068500518799,
          -0.2681397497653961,
          -0.5321898460388184,
          -1.256308674812317,
          -1.727473497390747,
          -0.20997250080108643,
          -2.0731194019317627,
          -0.14916492998600006,
          -1.4432481527328491,
          -1.2438580989837646,
          0.09599265456199646,
          0.09511176496744156,
          -0.5018085241317749,
          -0.11281600594520569,
          -1.75834059715271,
          -2.0427591800689697,
          -3.05889892578125,
          0.010003861971199512,
          -1.6551100015640259,
          -0.5296158194541931,
          -2.000748634338379,
          -2.8031232357025146,
          -1.712272047996521,
          -1.9876708984375,
          -1.3826075792312622,
          -0.8747129440307617,
          -1.2374967336654663,
          -0.3378610908985138,
          -2.1057605743408203,
          -3.108541965484619,
          -0.7637375593185425,
          -1.0403497219085693,
          -0.04920826479792595,
          -1.7259275913238525,
          -0.14920461177825928,
          -0.5030025243759155,
          -0.05260700359940529,
          -3.134505271911621,
          -0.585547685623169,
          -2.3983376026153564,
          -2.6293811798095703,
          0.03303024172782898,
          -2.714759349822998,
          -1.3331092596054077,
          -1.2982721328735352,
          -1.176530122756958,
          -0.7548671364784241,
          -3.0756776332855225,
          -1.079012393951416,
          0.46805912256240845,
          -1.9576756954193115,
          -0.5537179708480835,
          -0.9386618137359619,
          -0.8486666083335876,
          -2.916130542755127,
          -2.745020627975464,
          -1.5760023593902588,
          -0.07779105007648468,
          -0.29734957218170166,
          -1.3980947732925415,
          -1.0675485134124756,
          -0.3923017978668213,
          -1.119701862335205,
          -2.033679485321045,
          -0.8548189997673035,
          -1.0566710233688354,
          -1.2801148891448975,
          -0.09997822344303131,
          -0.915692925453186,
          -0.5325196981430054,
          -2.142613649368286,
          0.240021213889122,
          -2.6320295333862305,
          0.46830156445503235,
          -3.0406081676483154,
          -0.019943878054618835,
          -1.1151208877563477,
          -0.2580025792121887,
          -0.18222548067569733,
          -2.3392608165740967,
          -2.9623425006866455,
          -2.8848283290863037,
          -0.6623556017875671,
          -1.399235486984253,
          -2.020092248916626,
          0.476484090089798,
          -1.4112776517868042,
          -1.2523353099822998,
          -1.1327544450759888,
          -0.7464321851730347,
          -0.7036833167076111,
          -2.126633405685425,
          -2.7979838848114014,
          -1.27559494972229,
          -2.7950901985168457,
          -2.5975022315979004,
          -0.5308090448379517,
          0.01969398371875286,
          -2.4332993030548096,
          -0.2494736611843109,
          -2.4228060245513916,
          -2.453786611557007,
          -1.9108085632324219,
          -0.2951490879058838,
          -1.7513810396194458,
          -2.6546647548675537,
          0.2726520895957947,
          -0.5476173758506775,
          -1.4476914405822754
         ],
         "z": [
          5.1358537673950195,
          7.06705904006958,
          6.733373641967773,
          5.9484734535217285,
          5.265767574310303,
          3.674142599105835,
          3.158461809158325,
          0.4997285008430481,
          4.217387676239014,
          0.6764748692512512,
          2.4354569911956787,
          5.767460823059082,
          6.6163649559021,
          5.317704677581787,
          1.6704866886138916,
          3.1348302364349365,
          1.2761695384979248,
          4.751204490661621,
          6.034435272216797,
          1.7469838857650757,
          2.8584184646606445,
          2.471100330352783,
          2.971315383911133,
          4.102912902832031,
          0.8693659901618958,
          5.817151069641113,
          6.221746921539307,
          2.5420644283294678,
          6.716549396514893,
          3.9103753566741943,
          4.206538677215576,
          2.8877816200256348,
          4.2345685958862305,
          1.3554816246032715,
          6.528076171875,
          6.982187747955322,
          5.010601997375488,
          6.1922760009765625,
          3.6974895000457764,
          3.936551570892334,
          7.01131010055542,
          1.3668793439865112,
          3.626915693283081,
          3.8443994522094727,
          3.487262725830078,
          3.6011366844177246,
          6.008204460144043,
          5.965888023376465,
          3.007598876953125,
          4.878420352935791,
          5.519564628601074,
          1.7770836353302002,
          6.111688137054443,
          4.483607769012451,
          5.0269341468811035,
          6.466854572296143,
          6.626664638519287,
          5.557737827301025,
          5.8935394287109375,
          2.428814172744751,
          1.8173125982284546,
          0.5355865955352783,
          6.6291399002075195,
          2.6431925296783447,
          5.946625709533691,
          3.897765636444092,
          0.9441275596618652,
          2.286059856414795,
          2.7324390411376953,
          2.800804376602173,
          5.990085124969482,
          4.649539470672607,
          5.2133002281188965,
          3.1005609035491943,
          1.1452583074569702,
          4.0291619300842285,
          5.355642795562744,
          2.976288080215454,
          3.2152531147003174,
          6.0838799476623535,
          5.383157253265381,
          6.085467338562012,
          1.5892177820205688,
          6.439182281494141,
          1.3230092525482178,
          1.0144411325454712,
          7.024770736694336,
          0.8915947079658508,
          2.877230167388916,
          2.937833070755005,
          4.3711090087890625,
          4.6297430992126465,
          1.4093800783157349,
          5.250396728515625,
          6.932777404785156,
          1.9451926946640015,
          4.580916404724121,
          4.215214252471924,
          5.839157581329346,
          0.6484427452087402,
          0.8692265152931213,
          2.49855899810791,
          6.018136501312256,
          5.994926452636719,
          4.8499040603637695,
          3.384050130844116,
          5.76406717300415,
          3.265615463256836,
          1.8236057758331299,
          3.7876672744750977,
          3.392927408218384,
          5.198145866394043,
          6.02290678024292,
          5.832469940185547,
          3.3726766109466553,
          3.0034234523773193,
          7.125003337860107,
          1.2146676778793335,
          6.781331539154053,
          0.5493714809417725,
          6.22091007232666,
          3.291447639465332,
          7.199038982391357,
          5.678606986999512,
          3.0116429328918457,
          0.6136326193809509,
          0.6909111142158508,
          5.12770414352417,
          3.4028429985046387,
          3.332442283630371,
          7.015133857727051,
          3.924684524536133,
          3.568779945373535,
          4.1641621589660645,
          4.0702595710754395,
          4.163140773773193,
          2.359933853149414,
          0.7861548066139221,
          2.9737348556518555,
          1.8449733257293701,
          1.0687272548675537,
          6.695012092590332,
          7.0054216384887695,
          1.2914692163467407,
          6.057535648345947,
          2.499614953994751,
          3.2091050148010254,
          4.17762565612793,
          5.96829891204834,
          3.8081467151641846,
          1.7909517288208008,
          6.951083660125732,
          6.552674293518066,
          2.698352098464966
         ]
        },
        {
         "hovertemplate": "Dominant_Topic=Topic 3<br>0=%{x}<br>1=%{y}<br>2=%{z}<extra></extra>",
         "legendgroup": "Topic 3",
         "marker": {
          "color": "#ab63fa",
          "opacity": 0.7,
          "symbol": "circle"
         },
         "mode": "markers",
         "name": "Topic 3",
         "scene": "scene",
         "showlegend": true,
         "type": "scatter3d",
         "x": [
          -12.248682975769043,
          -11.874711990356445,
          -11.465171813964844,
          -12.038154602050781,
          -11.778656959533691,
          -11.839869499206543,
          -12.472214698791504,
          -11.30211353302002,
          -11.197495460510254,
          -11.526423454284668,
          -11.471620559692383,
          -12.494088172912598,
          -11.815350532531738,
          -11.536248207092285,
          -12.369691848754883,
          -12.052978515625,
          -12.298151016235352,
          -12.07982063293457,
          -12.26742935180664,
          -11.332796096801758,
          -11.555618286132812,
          -11.732728958129883,
          -12.18051815032959,
          -12.190319061279297,
          -12.21363353729248,
          -11.542290687561035,
          -11.828404426574707,
          -11.805412292480469,
          -12.393448829650879
         ],
         "y": [
          3.705185651779175,
          3.3199992179870605,
          3.6121015548706055,
          2.9147560596466064,
          3.7627463340759277,
          3.099915027618408,
          3.547290563583374,
          3.1482064723968506,
          2.8567874431610107,
          3.0512115955352783,
          3.326802968978882,
          3.345440626144409,
          3.899689197540283,
          3.0899569988250732,
          3.8302626609802246,
          3.5210728645324707,
          3.096818685531616,
          3.8681931495666504,
          3.4127790927886963,
          2.953599691390991,
          2.8938660621643066,
          3.663464069366455,
          3.0026309490203857,
          3.87129545211792,
          3.3655972480773926,
          3.5267579555511475,
          3.730027914047241,
          2.9594197273254395,
          3.3370540142059326
         ],
         "z": [
          -7.467813491821289,
          -7.327071666717529,
          -7.91023588180542,
          -7.963418483734131,
          -7.5470967292785645,
          -8.339372634887695,
          -8.006986618041992,
          -8.065716743469238,
          -8.248859405517578,
          -7.6602606773376465,
          -7.622989177703857,
          -7.793510437011719,
          -7.87397575378418,
          -8.33810806274414,
          -7.879002094268799,
          -8.326292037963867,
          -8.054794311523438,
          -8.061927795410156,
          -8.260113716125488,
          -8.190112113952637,
          -8.08942699432373,
          -7.491621971130371,
          -7.69985818862915,
          -7.598291397094727,
          -7.38052225112915,
          -8.230223655700684,
          -8.20753002166748,
          -7.610254764556885,
          -7.51509428024292
         ]
        }
       ],
       "layout": {
        "height": 800,
        "legend": {
         "title": {
          "text": "Dominant_Topic"
         },
         "tracegroupgap": 0
        },
        "scene": {
         "domain": {
          "x": [
           0,
           1
          ],
          "y": [
           0,
           1
          ]
         },
         "xaxis": {
          "title": {
           "text": "0"
          }
         },
         "yaxis": {
          "title": {
           "text": "1"
          }
         },
         "zaxis": {
          "title": {
           "text": "2"
          }
         }
        },
        "template": {
         "data": {
          "bar": [
           {
            "error_x": {
             "color": "#2a3f5f"
            },
            "error_y": {
             "color": "#2a3f5f"
            },
            "marker": {
             "line": {
              "color": "#E5ECF6",
              "width": 0.5
             }
            },
            "type": "bar"
           }
          ],
          "barpolar": [
           {
            "marker": {
             "line": {
              "color": "#E5ECF6",
              "width": 0.5
             }
            },
            "type": "barpolar"
           }
          ],
          "carpet": [
           {
            "aaxis": {
             "endlinecolor": "#2a3f5f",
             "gridcolor": "white",
             "linecolor": "white",
             "minorgridcolor": "white",
             "startlinecolor": "#2a3f5f"
            },
            "baxis": {
             "endlinecolor": "#2a3f5f",
             "gridcolor": "white",
             "linecolor": "white",
             "minorgridcolor": "white",
             "startlinecolor": "#2a3f5f"
            },
            "type": "carpet"
           }
          ],
          "choropleth": [
           {
            "colorbar": {
             "outlinewidth": 0,
             "ticks": ""
            },
            "type": "choropleth"
           }
          ],
          "contour": [
           {
            "colorbar": {
             "outlinewidth": 0,
             "ticks": ""
            },
            "colorscale": [
             [
              0,
              "#0d0887"
             ],
             [
              0.1111111111111111,
              "#46039f"
             ],
             [
              0.2222222222222222,
              "#7201a8"
             ],
             [
              0.3333333333333333,
              "#9c179e"
             ],
             [
              0.4444444444444444,
              "#bd3786"
             ],
             [
              0.5555555555555556,
              "#d8576b"
             ],
             [
              0.6666666666666666,
              "#ed7953"
             ],
             [
              0.7777777777777778,
              "#fb9f3a"
             ],
             [
              0.8888888888888888,
              "#fdca26"
             ],
             [
              1,
              "#f0f921"
             ]
            ],
            "type": "contour"
           }
          ],
          "contourcarpet": [
           {
            "colorbar": {
             "outlinewidth": 0,
             "ticks": ""
            },
            "type": "contourcarpet"
           }
          ],
          "heatmap": [
           {
            "colorbar": {
             "outlinewidth": 0,
             "ticks": ""
            },
            "colorscale": [
             [
              0,
              "#0d0887"
             ],
             [
              0.1111111111111111,
              "#46039f"
             ],
             [
              0.2222222222222222,
              "#7201a8"
             ],
             [
              0.3333333333333333,
              "#9c179e"
             ],
             [
              0.4444444444444444,
              "#bd3786"
             ],
             [
              0.5555555555555556,
              "#d8576b"
             ],
             [
              0.6666666666666666,
              "#ed7953"
             ],
             [
              0.7777777777777778,
              "#fb9f3a"
             ],
             [
              0.8888888888888888,
              "#fdca26"
             ],
             [
              1,
              "#f0f921"
             ]
            ],
            "type": "heatmap"
           }
          ],
          "heatmapgl": [
           {
            "colorbar": {
             "outlinewidth": 0,
             "ticks": ""
            },
            "colorscale": [
             [
              0,
              "#0d0887"
             ],
             [
              0.1111111111111111,
              "#46039f"
             ],
             [
              0.2222222222222222,
              "#7201a8"
             ],
             [
              0.3333333333333333,
              "#9c179e"
             ],
             [
              0.4444444444444444,
              "#bd3786"
             ],
             [
              0.5555555555555556,
              "#d8576b"
             ],
             [
              0.6666666666666666,
              "#ed7953"
             ],
             [
              0.7777777777777778,
              "#fb9f3a"
             ],
             [
              0.8888888888888888,
              "#fdca26"
             ],
             [
              1,
              "#f0f921"
             ]
            ],
            "type": "heatmapgl"
           }
          ],
          "histogram": [
           {
            "marker": {
             "colorbar": {
              "outlinewidth": 0,
              "ticks": ""
             }
            },
            "type": "histogram"
           }
          ],
          "histogram2d": [
           {
            "colorbar": {
             "outlinewidth": 0,
             "ticks": ""
            },
            "colorscale": [
             [
              0,
              "#0d0887"
             ],
             [
              0.1111111111111111,
              "#46039f"
             ],
             [
              0.2222222222222222,
              "#7201a8"
             ],
             [
              0.3333333333333333,
              "#9c179e"
             ],
             [
              0.4444444444444444,
              "#bd3786"
             ],
             [
              0.5555555555555556,
              "#d8576b"
             ],
             [
              0.6666666666666666,
              "#ed7953"
             ],
             [
              0.7777777777777778,
              "#fb9f3a"
             ],
             [
              0.8888888888888888,
              "#fdca26"
             ],
             [
              1,
              "#f0f921"
             ]
            ],
            "type": "histogram2d"
           }
          ],
          "histogram2dcontour": [
           {
            "colorbar": {
             "outlinewidth": 0,
             "ticks": ""
            },
            "colorscale": [
             [
              0,
              "#0d0887"
             ],
             [
              0.1111111111111111,
              "#46039f"
             ],
             [
              0.2222222222222222,
              "#7201a8"
             ],
             [
              0.3333333333333333,
              "#9c179e"
             ],
             [
              0.4444444444444444,
              "#bd3786"
             ],
             [
              0.5555555555555556,
              "#d8576b"
             ],
             [
              0.6666666666666666,
              "#ed7953"
             ],
             [
              0.7777777777777778,
              "#fb9f3a"
             ],
             [
              0.8888888888888888,
              "#fdca26"
             ],
             [
              1,
              "#f0f921"
             ]
            ],
            "type": "histogram2dcontour"
           }
          ],
          "mesh3d": [
           {
            "colorbar": {
             "outlinewidth": 0,
             "ticks": ""
            },
            "type": "mesh3d"
           }
          ],
          "parcoords": [
           {
            "line": {
             "colorbar": {
              "outlinewidth": 0,
              "ticks": ""
             }
            },
            "type": "parcoords"
           }
          ],
          "pie": [
           {
            "automargin": true,
            "type": "pie"
           }
          ],
          "scatter": [
           {
            "marker": {
             "colorbar": {
              "outlinewidth": 0,
              "ticks": ""
             }
            },
            "type": "scatter"
           }
          ],
          "scatter3d": [
           {
            "line": {
             "colorbar": {
              "outlinewidth": 0,
              "ticks": ""
             }
            },
            "marker": {
             "colorbar": {
              "outlinewidth": 0,
              "ticks": ""
             }
            },
            "type": "scatter3d"
           }
          ],
          "scattercarpet": [
           {
            "marker": {
             "colorbar": {
              "outlinewidth": 0,
              "ticks": ""
             }
            },
            "type": "scattercarpet"
           }
          ],
          "scattergeo": [
           {
            "marker": {
             "colorbar": {
              "outlinewidth": 0,
              "ticks": ""
             }
            },
            "type": "scattergeo"
           }
          ],
          "scattergl": [
           {
            "marker": {
             "colorbar": {
              "outlinewidth": 0,
              "ticks": ""
             }
            },
            "type": "scattergl"
           }
          ],
          "scattermapbox": [
           {
            "marker": {
             "colorbar": {
              "outlinewidth": 0,
              "ticks": ""
             }
            },
            "type": "scattermapbox"
           }
          ],
          "scatterpolar": [
           {
            "marker": {
             "colorbar": {
              "outlinewidth": 0,
              "ticks": ""
             }
            },
            "type": "scatterpolar"
           }
          ],
          "scatterpolargl": [
           {
            "marker": {
             "colorbar": {
              "outlinewidth": 0,
              "ticks": ""
             }
            },
            "type": "scatterpolargl"
           }
          ],
          "scatterternary": [
           {
            "marker": {
             "colorbar": {
              "outlinewidth": 0,
              "ticks": ""
             }
            },
            "type": "scatterternary"
           }
          ],
          "surface": [
           {
            "colorbar": {
             "outlinewidth": 0,
             "ticks": ""
            },
            "colorscale": [
             [
              0,
              "#0d0887"
             ],
             [
              0.1111111111111111,
              "#46039f"
             ],
             [
              0.2222222222222222,
              "#7201a8"
             ],
             [
              0.3333333333333333,
              "#9c179e"
             ],
             [
              0.4444444444444444,
              "#bd3786"
             ],
             [
              0.5555555555555556,
              "#d8576b"
             ],
             [
              0.6666666666666666,
              "#ed7953"
             ],
             [
              0.7777777777777778,
              "#fb9f3a"
             ],
             [
              0.8888888888888888,
              "#fdca26"
             ],
             [
              1,
              "#f0f921"
             ]
            ],
            "type": "surface"
           }
          ],
          "table": [
           {
            "cells": {
             "fill": {
              "color": "#EBF0F8"
             },
             "line": {
              "color": "white"
             }
            },
            "header": {
             "fill": {
              "color": "#C8D4E3"
             },
             "line": {
              "color": "white"
             }
            },
            "type": "table"
           }
          ]
         },
         "layout": {
          "annotationdefaults": {
           "arrowcolor": "#2a3f5f",
           "arrowhead": 0,
           "arrowwidth": 1
          },
          "autotypenumbers": "strict",
          "coloraxis": {
           "colorbar": {
            "outlinewidth": 0,
            "ticks": ""
           }
          },
          "colorscale": {
           "diverging": [
            [
             0,
             "#8e0152"
            ],
            [
             0.1,
             "#c51b7d"
            ],
            [
             0.2,
             "#de77ae"
            ],
            [
             0.3,
             "#f1b6da"
            ],
            [
             0.4,
             "#fde0ef"
            ],
            [
             0.5,
             "#f7f7f7"
            ],
            [
             0.6,
             "#e6f5d0"
            ],
            [
             0.7,
             "#b8e186"
            ],
            [
             0.8,
             "#7fbc41"
            ],
            [
             0.9,
             "#4d9221"
            ],
            [
             1,
             "#276419"
            ]
           ],
           "sequential": [
            [
             0,
             "#0d0887"
            ],
            [
             0.1111111111111111,
             "#46039f"
            ],
            [
             0.2222222222222222,
             "#7201a8"
            ],
            [
             0.3333333333333333,
             "#9c179e"
            ],
            [
             0.4444444444444444,
             "#bd3786"
            ],
            [
             0.5555555555555556,
             "#d8576b"
            ],
            [
             0.6666666666666666,
             "#ed7953"
            ],
            [
             0.7777777777777778,
             "#fb9f3a"
            ],
            [
             0.8888888888888888,
             "#fdca26"
            ],
            [
             1,
             "#f0f921"
            ]
           ],
           "sequentialminus": [
            [
             0,
             "#0d0887"
            ],
            [
             0.1111111111111111,
             "#46039f"
            ],
            [
             0.2222222222222222,
             "#7201a8"
            ],
            [
             0.3333333333333333,
             "#9c179e"
            ],
            [
             0.4444444444444444,
             "#bd3786"
            ],
            [
             0.5555555555555556,
             "#d8576b"
            ],
            [
             0.6666666666666666,
             "#ed7953"
            ],
            [
             0.7777777777777778,
             "#fb9f3a"
            ],
            [
             0.8888888888888888,
             "#fdca26"
            ],
            [
             1,
             "#f0f921"
            ]
           ]
          },
          "colorway": [
           "#636efa",
           "#EF553B",
           "#00cc96",
           "#ab63fa",
           "#FFA15A",
           "#19d3f3",
           "#FF6692",
           "#B6E880",
           "#FF97FF",
           "#FECB52"
          ],
          "font": {
           "color": "#2a3f5f"
          },
          "geo": {
           "bgcolor": "white",
           "lakecolor": "white",
           "landcolor": "#E5ECF6",
           "showlakes": true,
           "showland": true,
           "subunitcolor": "white"
          },
          "hoverlabel": {
           "align": "left"
          },
          "hovermode": "closest",
          "mapbox": {
           "style": "light"
          },
          "paper_bgcolor": "white",
          "plot_bgcolor": "#E5ECF6",
          "polar": {
           "angularaxis": {
            "gridcolor": "white",
            "linecolor": "white",
            "ticks": ""
           },
           "bgcolor": "#E5ECF6",
           "radialaxis": {
            "gridcolor": "white",
            "linecolor": "white",
            "ticks": ""
           }
          },
          "scene": {
           "xaxis": {
            "backgroundcolor": "#E5ECF6",
            "gridcolor": "white",
            "gridwidth": 2,
            "linecolor": "white",
            "showbackground": true,
            "ticks": "",
            "zerolinecolor": "white"
           },
           "yaxis": {
            "backgroundcolor": "#E5ECF6",
            "gridcolor": "white",
            "gridwidth": 2,
            "linecolor": "white",
            "showbackground": true,
            "ticks": "",
            "zerolinecolor": "white"
           },
           "zaxis": {
            "backgroundcolor": "#E5ECF6",
            "gridcolor": "white",
            "gridwidth": 2,
            "linecolor": "white",
            "showbackground": true,
            "ticks": "",
            "zerolinecolor": "white"
           }
          },
          "shapedefaults": {
           "line": {
            "color": "#2a3f5f"
           }
          },
          "ternary": {
           "aaxis": {
            "gridcolor": "white",
            "linecolor": "white",
            "ticks": ""
           },
           "baxis": {
            "gridcolor": "white",
            "linecolor": "white",
            "ticks": ""
           },
           "bgcolor": "#E5ECF6",
           "caxis": {
            "gridcolor": "white",
            "linecolor": "white",
            "ticks": ""
           }
          },
          "title": {
           "x": 0.05
          },
          "xaxis": {
           "automargin": true,
           "gridcolor": "white",
           "linecolor": "white",
           "ticks": "",
           "title": {
            "standoff": 15
           },
           "zerolinecolor": "white",
           "zerolinewidth": 2
          },
          "yaxis": {
           "automargin": true,
           "gridcolor": "white",
           "linecolor": "white",
           "ticks": "",
           "title": {
            "standoff": 15
           },
           "zerolinecolor": "white",
           "zerolinewidth": 2
          }
         }
        },
        "title": {
         "text": "3d TSNE Plot for Topic Model"
        },
        "width": 900
       }
      },
      "text/html": [
       "<div>                            <div id=\"315a7dd3-a458-440b-ba99-49f0170cf847\" class=\"plotly-graph-div\" style=\"height:800px; width:900px;\"></div>            <script type=\"text/javascript\">                require([\"plotly\"], function(Plotly) {                    window.PLOTLYENV=window.PLOTLYENV || {};                                    if (document.getElementById(\"315a7dd3-a458-440b-ba99-49f0170cf847\")) {                    Plotly.newPlot(                        \"315a7dd3-a458-440b-ba99-49f0170cf847\",                        [{\"hovertemplate\": \"Dominant_Topic=Topic 0<br>0=%{x}<br>1=%{y}<br>2=%{z}<extra></extra>\", \"legendgroup\": \"Topic 0\", \"marker\": {\"color\": \"#636efa\", \"opacity\": 0.7, \"symbol\": \"circle\"}, \"mode\": \"markers\", \"name\": \"Topic 0\", \"scene\": \"scene\", \"showlegend\": true, \"type\": \"scatter3d\", \"x\": [0.22565336525440216, -1.7964262962341309, 6.987843036651611, 0.48590797185897827, 6.1794538497924805, -0.43047913908958435, 3.2008087635040283, -2.0061798095703125, 0.9407607913017273, 4.291135311126709, 10.362591743469238, 7.475479602813721, -1.3445937633514404, -3.3358311653137207, 0.24498096108436584, 10.095874786376953, 7.969733238220215, -2.516145944595337, -1.6025208234786987, 5.025486946105957, -2.0956783294677734, 2.5999157428741455, -1.2492892742156982, 0.30097103118896484, 0.16417542099952698, 2.387861967086792, 3.9616847038269043, -0.4058550000190735, 4.0675950050354, 1.7033369541168213, 0.704282820224762, -1.0398234128952026, 1.8503800630569458, 10.139578819274902, -2.017911672592163, 3.1002724170684814, 1.1111557483673096, -1.6513224840164185, 1.1957887411117554, 8.596132278442383, -2.1063778400421143, 3.1183440685272217, 10.485367774963379, -1.4357026815414429, -3.6222848892211914, 10.320127487182617, -1.1987875699996948, 3.3203654289245605, 3.3306632041931152, -1.153892993927002, 5.31606912612915, -1.7357112169265747, 10.339519500732422, 9.725647926330566, -2.1826460361480713, 10.253750801086426, -2.82322096824646, 1.6929908990859985, 8.104969024658203, 10.362144470214844, 2.587031602859497, 9.804410934448242, 3.2425689697265625, 3.673321485519409, 3.799501657485962, 3.6085729598999023, 3.457383632659912, 9.301032066345215, 2.415548801422119, 3.1896567344665527, 4.230583190917969, 4.518704891204834, -2.0183041095733643, 3.441894054412842, 9.403485298156738, -0.05159978196024895, 0.580590546131134, 1.2764606475830078, 7.757138252258301, -0.009923158213496208, 9.98434829711914, 9.458114624023438, 1.4705711603164673, -0.03827416151762009, 3.0078063011169434, -4.140812873840332, 2.0873336791992188, 2.042888641357422, 1.345150113105774, 2.5728414058685303, 0.7093048691749573, 3.4879114627838135, 7.966659069061279, -3.4476726055145264, 1.458414077758789, 10.331308364868164, -1.7720258235931396, -1.2706834077835083, 8.095393180847168, -1.0210003852844238, 0.8357071280479431, 7.057785987854004, -1.4018653631210327, 1.3805180788040161, 0.8990111947059631, 1.5479506254196167, -4.037720680236816, 2.776211738586426, 2.3310883045196533, 1.367079257965088, 1.4690113067626953, -1.6593984365463257, 9.798418045043945, -1.4960970878601074, 5.3233442306518555, 2.9072463512420654, 8.824787139892578, 1.0826921463012695, 3.2601919174194336, 2.3341329097747803, 1.4567946195602417, 1.2902300357818604, -2.1982479095458984, 3.8570704460144043, -0.29051584005355835, 4.544234275817871, 0.8517422676086426, 7.2650675773620605, 2.8065547943115234, 4.161504745483398, -1.8091133832931519, -0.8688242435455322, 2.911346673965454, 1.3239206075668335, 6.490309238433838, -1.2226743698120117, 0.2734907567501068, 10.093303680419922, -0.02427651919424534, -2.3520331382751465, 8.506708145141602, -0.20919348299503326, 2.8684818744659424, -1.8377388715744019, 0.02035144716501236, 3.4927611351013184, 8.634916305541992, 3.0214319229125977, -2.2434113025665283, 4.92924690246582, -0.43244481086730957, -1.2987022399902344, 2.5025060176849365, -0.34620949625968933, -1.3931256532669067, 8.064208030700684, 1.7849184274673462, -0.1954633742570877, 1.2713792324066162, 1.1707578897476196, 3.4672462940216064, 1.5411372184753418, -1.0773720741271973, -2.119905948638916, 2.7765889167785645, -0.3534099757671356, 3.027747392654419, 2.3307719230651855, -4.1026787757873535, 4.238312244415283, -2.296987295150757, 3.400066614151001, 2.8456828594207764, -2.0174996852874756, 3.808791399002075, 9.358722686767578, 1.311435341835022, 2.773024797439575, 3.333172082901001, -0.9086217880249023, 1.6484003067016602, -0.9649275541305542, -0.6830856800079346, 5.744902610778809, 2.676957368850708, -1.761588454246521, 9.58634090423584, -3.389119863510132, -1.3934963941574097, 2.2523818016052246, 2.6714508533477783, 9.357151985168457, 5.572981834411621, -1.8818222284317017, 10.28998851776123, -1.817039966583252, 10.264453887939453, 0.6462827324867249, 0.6725346446037292, 1.3441871404647827, -2.009800910949707, 4.331989765167236, -4.127928256988525, -1.2817976474761963, 0.0196157768368721, 3.8052494525909424, -1.7157235145568848, -2.046306848526001, 3.2342333793640137, 1.7168630361557007, 6.895578861236572, -1.2815649509429932, 2.9024429321289062, -1.4897546768188477, -1.0296064615249634, 8.562248229980469, -1.2614312171936035, 8.779500007629395, -0.7193581461906433, 3.2832577228546143, 4.093507289886475, 3.776477813720703, -1.3706834316253662, 4.119856357574463, 5.195587635040283, 1.6601145267486572, 9.248361587524414, 3.383106231689453, 2.0345346927642822, 4.5431227684021, 3.4333643913269043, -0.813020646572113, -0.45132166147232056, 10.061013221740723, 2.697246551513672, -0.8960716724395752, -0.2759009301662445, 1.1574289798736572, -1.1657583713531494, 5.401135444641113, 6.060632228851318, 2.8628485202789307, 5.425846099853516, 4.222687721252441, 3.970214605331421, 5.538669109344482, 4.068405628204346, 2.1498162746429443, -3.2325003147125244, 6.635843753814697, -1.2725623846054077, -1.9324085712432861, -0.2732205390930176, 7.130631923675537, -1.16892671585083, -0.3319309651851654, 3.6381101608276367, 3.973693370819092, 8.292872428894043, 1.293644666671753, 2.5914976596832275, -2.768301486968994, -1.237056016921997, 9.80593204498291, -2.0773112773895264, 10.231244087219238, 0.15513677895069122, 8.895298957824707, -2.445669412612915, 5.424413204193115, -2.2082951068878174, 7.630876064300537, -0.8115294575691223, 4.7231221199035645, 4.226517200469971, -2.0783557891845703, -1.4902490377426147, 3.464503288269043, -3.284102439880371, -0.3143678903579712, 3.4239585399627686, 0.03085075318813324, 4.031177043914795, 2.144517421722412, 3.459651231765747, 9.146618843078613, -0.06617511808872223, 3.4278464317321777, 0.6232518553733826, 8.120268821716309, -1.0587036609649658, -2.4224841594696045, 0.3546959459781647, 5.476845741271973, 3.19695782661438, 8.071859359741211, 0.0958058089017868, 10.36285400390625, -0.2985895872116089, -0.30817711353302, 3.066122055053711, 0.09254221618175507, 2.0188701152801514, -0.4337891936302185, 9.060995101928711, 0.07930385321378708, 3.5987906455993652, -2.0496163368225098, 3.499906301498413, 4.602625370025635, 3.8642003536224365, -0.18719735741615295, 10.35860538482666, 3.9127984046936035, 3.3712844848632812, -0.10929647088050842, 3.849738597869873, 3.0490057468414307, 1.5113903284072876, -0.30416053533554077, 1.5197149515151978, 4.658407688140869, 3.8101582527160645, -1.3314979076385498, 3.898080825805664, -0.9059768915176392, 6.992362976074219, -1.7294461727142334, 7.134095191955566, 1.7852931022644043, -1.1062959432601929, -1.698582410812378, 3.949188709259033, 3.354743480682373, -2.3545873165130615, 9.798726081848145, 5.734146595001221, 3.0127055644989014, 9.111814498901367, 2.3303065299987793, 5.886632919311523, 1.1340433359146118, -0.6135860681533813, 4.4136576652526855, -1.7623440027236938, -1.030551791191101, 5.28728723526001, -0.6046029329299927, 10.075485229492188, 0.16055040061473846, 6.592329025268555, -1.3222702741622925, 2.86923885345459, 5.631259918212891, 0.12756218016147614, 1.250373125076294, 6.316473484039307, 4.635944843292236, 0.03335520625114441, 3.4581832885742188, -0.44751715660095215, 3.5840208530426025, -1.2675570249557495, -1.3616400957107544, 4.996496200561523, 2.5995752811431885, 1.7461942434310913, -0.6043834686279297, -1.339219570159912, -0.24647895991802216, 0.7427416443824768, -0.6994498372077942, -2.114286184310913, 3.3963606357574463, 3.223140001296997, 0.09897968173027039, -0.39764201641082764, 4.323023796081543, -0.05101880431175232, 8.334938049316406, -1.0843881368637085, -2.1560490131378174, -3.174097776412964, -1.2408429384231567, 9.283902168273926, 5.647877216339111, 2.1415793895721436, 2.4790732860565186, 10.209951400756836, 5.342926502227783, 3.505782127380371, 10.37217903137207, 2.6984217166900635, 1.3044681549072266, 5.383695602416992, -2.0466973781585693, 9.17968463897705, 9.98758602142334, -1.3272037506103516, -1.257415771484375, 5.469239711761475, 10.296195030212402, -1.496289849281311, 1.292731523513794, -0.5236363410949707, -1.627042531967163, 2.9634952545166016, 4.475948810577393, 3.3932745456695557, 9.709181785583496, 1.609608769416809, 2.670671224594116, -0.07115350663661957, 2.013883113861084, 10.348662376403809, 5.033393859863281, -1.8471035957336426, 10.059950828552246, -1.1997907161712646, 7.011865139007568, 1.5657936334609985, -1.219078779220581, -0.6790749430656433, -2.8627254962921143, 8.42565631866455, -2.114727258682251, -2.0112087726593018, 0.6899130940437317, 5.645358562469482, -1.1833103895187378, -0.7340399622917175, 3.1031384468078613, 2.2940187454223633, -0.42432233691215515, 1.3173019886016846, 0.015298369340598583, -1.5833998918533325, 0.17417515814304352, 3.5448415279388428, 4.680398464202881, 1.2684093713760376, 0.14186888933181763, 4.983232021331787, -0.3964940309524536, -0.40382909774780273, 3.001786231994629, 5.697709560394287, 1.7184178829193115, 7.0593414306640625, 2.2815628051757812, 0.5335121154785156, -2.1120059490203857, -1.8097608089447021, 2.581519603729248, 8.233708381652832, 5.082866668701172, -2.0334339141845703, 3.823194742202759, 9.543641090393066, 2.6787075996398926, 6.008227348327637, -2.0585896968841553, -1.102392315864563, 0.9390605092048645, -1.0647636651992798, 3.9005227088928223, 10.119820594787598, 9.929014205932617, 7.437466621398926, 10.314759254455566, 4.614381790161133, 4.214179515838623, -1.9760491847991943, 6.862029075622559, 3.5936152935028076, 1.9627594947814941, 2.4997737407684326, -1.0287854671478271, 5.052591323852539, -2.010441303253174, -1.35017728805542, 8.383772850036621, 2.0165133476257324, 1.1708228588104248, 4.480119705200195, 9.844635009765625, 10.08364200592041, -3.854597806930542, -2.115924119949341, -2.5713584423065186, 1.5805047750473022, 0.20508314669132233, 1.291136384010315, -0.8087322115898132, 10.360031127929688, 5.244072437286377, 0.3739463686943054, -1.2248071432113647, 10.175888061523438, 1.2503325939178467, 7.153282642364502, -0.8388811349868774, -0.6055026650428772, 5.728204250335693, -0.6500697731971741, 3.413769006729126, -1.8473026752471924, 3.4921014308929443, 9.677401542663574, -0.5273438096046448, -2.1334340572357178, 3.2805137634277344, -1.0890430212020874, 2.3949196338653564, -2.122504234313965, 4.3110785484313965, 4.449898719787598, 2.7117326259613037, 0.6446431875228882, -0.3487527668476105, 0.002509062411263585, 1.829318642616272, 8.717352867126465, 2.8396737575531006, 3.40112042427063, -1.457220435142517, -0.026360560208559036, 3.441267967224121, 2.1567609310150146, 9.815868377685547, 1.4038565158843994, -0.2751075029373169, 7.878943920135498, -0.23846285045146942, -1.8210549354553223, 1.8058946132659912, 1.4037210941314697, 8.819379806518555, 1.7376435995101929, -0.30501115322113037, 1.6944526433944702, 7.03123140335083, 8.933670043945312, 3.603851079940796, 3.8120274543762207, -1.494246482849121, 10.385854721069336, 2.900939464569092, 4.1867218017578125, 0.25628137588500977, 3.4280428886413574, -0.353149950504303, 4.9963812828063965, 3.503159761428833, -2.3707163333892822, 9.816171646118164, -0.16668984293937683, -1.2598309516906738, -1.047093152999878, -0.6982616782188416, -2.1172688007354736, 9.903360366821289, -1.7300480604171753, 10.372284889221191, 3.964601993560791, -1.1040371656417847, 7.86981725692749, 6.168689250946045, 1.381156086921692, 10.102940559387207, -3.7617478370666504, -4.475168228149414, -0.9057419896125793, -1.3051620721817017, 1.9067801237106323, 0.9375091791152954, -2.0292561054229736, 1.6280767917633057, 2.5464234352111816, -1.7398626804351807, 6.755062103271484, 0.32229679822921753, 1.256491780281067, 1.7249222993850708, -0.7298470735549927, 3.111732006072998, -1.1729615926742554, 1.4000368118286133], \"y\": [-10.922514915466309, -1.4948590993881226, 10.957257270812988, -10.801239013671875, 9.470458984375, -10.656472206115723, 2.0535619258880615, -3.2192187309265137, -3.5410563945770264, 9.483630180358887, 9.684430122375488, 9.419028282165527, -6.534075736999512, -3.874168634414673, -2.9336071014404297, 9.493339538574219, 10.70101547241211, -4.1499834060668945, 0.5269562005996704, 11.588593482971191, -4.247067451477051, 9.134833335876465, 1.5652213096618652, -6.975218772888184, -3.0921151638031006, -3.9971182346343994, 5.91867208480835, -4.057858943939209, -6.447237968444824, -8.610371589660645, -6.279727935791016, -4.392853736877441, -4.894498348236084, 9.50737190246582, -3.33805251121521, -5.123234272003174, -5.843619346618652, 0.06245556101202965, -10.239663124084473, 10.528610229492188, -4.249374866485596, -8.359044075012207, 9.527726173400879, -5.482546806335449, -3.1412150859832764, 9.573721885681152, 1.6793798208236694, -1.3107300996780396, 1.5386604070663452, 1.7842512130737305, 9.49587345123291, -4.300191879272461, 9.73293685913086, 10.131430625915527, -4.216136455535889, 9.491620063781738, -3.160975217819214, -5.153163433074951, 9.402645111083984, 9.6511812210083, -8.898975372314453, 9.444387435913086, -1.585378646850586, -7.4879469871521, 9.434823036193848, -7.588847637176514, -1.0602132081985474, 9.41448974609375, 9.04501724243164, -2.070589065551758, -6.452391147613525, -5.9043731689453125, -3.134014129638672, -1.1305361986160278, 10.26165771484375, -7.256560325622559, -10.011696815490723, 7.027210235595703, 10.7572021484375, -5.9846296310424805, 10.0092134475708, 10.242229461669922, -7.190732955932617, -7.435537815093994, -8.503570556640625, -3.382411479949951, 8.828104972839355, 8.79323673248291, 7.8405303955078125, 2.8582279682159424, -6.538668155670166, -0.4146707355976105, 9.40510082244873, -3.1720616817474365, -10.056516647338867, 9.594411849975586, -0.063321553170681, -9.267918586730957, 9.402856826782227, 2.0885913372039795, -6.332146644592285, 10.938028335571289, -4.336221694946289, -10.115838050842285, -6.1977128982543945, -7.198556900024414, -3.1757490634918213, -3.259187698364258, -9.229161262512207, 7.91903829574585, 6.389640808105469, -4.297830581665039, 9.443855285644531, -5.2432169914245605, 9.50227165222168, -2.843925714492798, 9.40259075164795, -6.004666805267334, -1.4334862232208252, -4.087518692016602, -5.487810134887695, 7.647347927093506, -4.228966236114502, 9.44126033782959, 3.5519754886627197, 11.553679466247559, -3.6455371379852295, 9.426702499389648, -3.135376214981079, 11.83085823059082, -0.20171377062797546, 2.3924765586853027, -8.525724411010742, -5.695374965667725, 9.460746765136719, -9.459049224853516, -10.944391250610352, 9.948721885681152, -7.388876914978027, -4.1904377937316895, 10.554600715637207, -3.24991774559021, -8.642065048217773, -0.18669652938842773, -7.238995552062988, -0.2629289925098419, 9.39961051940918, -2.6506145000457764, -3.2593932151794434, 9.511069297790527, -11.065693855285645, -9.298781394958496, -9.00542163848877, -3.5494637489318848, -6.01663875579834, 9.403441429138184, 5.714996337890625, -3.8471932411193848, 7.074967861175537, -7.644309043884277, 12.485007286071777, 8.241371154785156, -8.893631935119629, -1.6253719329833984, -3.323204755783081, -4.308159828186035, -2.5042028427124023, -9.229166984558105, -3.17172908782959, -6.222385406494141, -3.2820873260498047, -0.5524922609329224, 9.220722198486328, -3.050128221511841, 4.695985317230225, 9.416743278503418, -5.681308746337891, 9.196749687194824, 1.5909454822540283, -9.944746971130371, -9.910720825195312, -4.216118335723877, -4.344893932342529, 11.293912887573242, -9.017146110534668, -3.9678239822387695, 10.190967559814453, -3.8577258586883545, 1.1863809823989868, 8.949780464172363, -3.4730327129364014, 9.416609764099121, 11.574832916259766, -3.563342809677124, 9.788520812988281, -0.19951245188713074, 9.804889678955078, -10.634533882141113, -6.524879455566406, 6.70197057723999, -3.281365394592285, -6.223093032836914, -3.5761666297912598, -9.293781280517578, -10.96761417388916, 4.641539573669434, -4.80899715423584, -1.1823508739471436, 1.8619078397750854, 5.868447303771973, 10.980552673339844, -9.508405685424805, 2.994386672973633, -5.547216415405273, -4.637607574462891, 10.5378999710083, -9.210205078125, 9.400691032409668, 2.705512523651123, 1.8230499029159546, 11.878942489624023, 12.185123443603516, 1.2006208896636963, 9.468259811401367, 11.181783676147461, -7.425064563751221, 10.316448211669922, -0.8433219194412231, -9.008946418762207, -5.87232780456543, -5.62237548828125, 2.509676456451416, -7.9491353034973145, 9.47949504852295, -3.398526906967163, -9.952078819274902, -7.6930718421936035, -5.7941741943359375, -9.585494995117188, 9.492180824279785, 11.197422981262207, -8.742393493652344, 11.086370468139648, -6.449836254119873, 5.945498466491699, 11.197023391723633, -6.446057319641113, 8.875752449035645, -3.9150984287261963, 11.050045013427734, -9.251404762268066, -0.7392308712005615, -4.636700630187988, 9.431513786315918, -4.181752681732178, 3.4685966968536377, -7.543237686157227, 5.95797061920166, 10.613944053649902, 7.663078308105469, 9.131131172180176, -3.101552963256836, -9.167673110961914, 10.094104766845703, -1.290302038192749, 9.841922760009766, -3.8134379386901855, 10.433377265930176, -4.067737102508545, 11.441699981689453, -4.226344108581543, 9.41375732421875, -10.132497787475586, -5.484475612640381, -1.9373964071273804, -1.2587306499481201, -5.08980655670166, 0.4423428475856781, -3.8863143920898438, -2.972398519515991, 0.9671960473060608, -10.977130889892578, 9.461273193359375, -9.500741958618164, 0.48845139145851135, 10.355358123779297, -3.360126256942749, 0.9361665844917297, -6.512136459350586, 9.402350425720215, -9.736681938171387, -4.173587322235107, -6.84256649017334, 11.61022663116455, 1.949650526046753, 9.403341293334961, -3.1258010864257812, 9.68487548828125, -7.7566375732421875, -7.729615688323975, 2.3647537231445312, -8.609580993652344, -9.593812942504883, -10.674463272094727, 9.406986236572266, -7.134787082672119, -7.608588218688965, -4.05299186706543, -0.669906735420227, 11.518332481384277, 12.098864555358887, -10.695666313171387, 9.709370613098145, -7.059632778167725, -1.6146396398544312, -10.90744400024414, -7.104959011077881, 2.565312385559082, -7.30229377746582, -5.059158802032471, -5.402108192443848, 9.500069618225098, 4.407682418823242, 1.3317235708236694, -6.971335411071777, -9.964845657348633, 9.438277244567871, 0.16481536626815796, 9.431092262268066, 5.714209079742432, -4.283014297485352, -3.7846531867980957, 12.01361083984375, 1.382431149482727, -4.189682483673096, 9.443897247314453, 11.25529670715332, 2.6831881999969482, 9.408515930175781, -9.229623794555664, 9.493207931518555, -7.711926460266113, -10.47078800201416, 11.693816184997559, 0.12689431011676788, -4.345583915710449, 9.507548332214355, 2.9274723529815674, 9.954440116882324, -8.868675231933594, 11.062346458435059, -7.788992881774902, 9.227899551391602, 9.583231925964355, -10.91875171661377, -10.202240943908691, 9.465873718261719, -5.679286956787109, -10.927878379821777, 0.7222766876220703, -7.957939624786377, 12.362879753112793, -9.255837440490723, -4.481106281280518, 11.234527587890625, -3.6034038066864014, -9.83343505859375, -10.48523998260498, 1.2985819578170776, -4.480720043182373, -6.360954284667969, -10.319643020629883, -1.528923749923706, -0.8258459568023682, 1.869131088256836, -11.005435943603516, 3.3378260135650635, 11.733283042907715, -10.929937362670898, 9.399439811706543, 1.9417389631271362, -4.2408318519592285, -3.1923720836639404, -4.197893142700195, 10.306159019470215, 9.486076354980469, -4.428948402404785, -3.826014757156372, 9.514087677001953, 9.49888801574707, -0.10420235991477966, 9.610869407653809, -3.3246164321899414, 6.862504005432129, 11.690485000610352, -4.7951579093933105, 10.343003273010254, 10.007379531860352, 1.3545756340026855, -9.371149063110352, 9.470681190490723, 9.785258293151855, -5.505692481994629, 7.659137725830078, -10.577302932739258, 0.35315796732902527, -2.85298228263855, -5.979648590087891, 1.2726775407791138, 9.435770034790039, 8.345568656921387, -3.4556596279144287, -5.0058722496032715, -3.9070045948028564, 9.614842414855957, 11.729472160339355, -0.29805898666381836, 9.965950012207031, -9.493119239807129, 10.950213432312012, -7.438118934631348, 1.6341569423675537, -9.981097221374512, -3.063727617263794, 10.577140808105469, -2.191359043121338, -3.840010404586792, -6.307971477508545, 9.47467041015625, -4.361730098724365, -10.275992393493652, -8.3866548538208, -4.558412075042725, 3.2807765007019043, -5.675263404846191, -10.952970504760742, -5.266087532043457, -8.821969032287598, -7.654417514801025, -5.584540367126465, 7.508328914642334, -10.2327299118042, 9.512040138244629, -10.707558631896973, -7.896545886993408, -2.768610715866089, 11.317965507507324, -9.842691421508789, 9.434929847717285, 4.561673164367676, -5.496778964996338, -2.0445475578308105, -4.75844144821167, 2.6354105472564697, 10.629816055297852, 11.176403045654297, -1.2077206373214722, 9.436729431152344, 10.209338188171387, -9.047112464904785, 9.479540824890137, -4.276185512542725, -4.751512050628662, -5.755086421966553, -4.258007049560547, -7.074579238891602, 9.926040649414062, 9.452858924865723, 9.42041015625, 9.569963455200195, 11.49577522277832, 9.475340843200684, -0.9079444408416748, 10.989266395568848, 12.35146713256836, -4.726585388183594, 9.091193199157715, -8.820940971374512, 11.540471076965332, -3.6644527912139893, -6.461604118347168, 10.589750289916992, -8.827903747558594, -5.822856903076172, -5.715655326843262, 9.44822883605957, 9.949589729309082, -3.677039861679077, -1.436110496520996, -4.1342644691467285, -9.972220420837402, -6.947343349456787, 6.941147327423096, -4.415245532989502, 9.668736457824707, 11.40544319152832, -10.812150955200195, -9.139786720275879, 9.502486228942871, -5.958590984344482, 10.913756370544434, -4.224308490753174, -10.482720375061035, 11.26783561706543, -10.41363525390625, 1.100537657737732, -4.250615119934082, -0.28380343317985535, 10.152518272399902, 3.076774835586548, -1.586372971534729, 9.33242130279541, -9.654013633728027, -3.9834823608398438, -1.8276101350784302, 9.483545303344727, 9.499401092529297, -8.989456176757812, -10.679832458496094, 3.434828758239746, -10.957697868347168, -4.928407192230225, 9.400041580200195, -8.7586669921875, -0.7609142661094666, 0.9997432827949524, -8.506251335144043, 0.8195682168006897, 8.880690574645996, 9.44544506072998, 6.534414291381836, -4.477461338043213, 10.724653244018555, -3.29321026802063, -0.10082514584064484, 8.580451965332031, -7.399589538574219, 10.455920219421387, 8.507568359375, -10.776141166687012, -7.356446266174316, 9.436274528503418, 10.422378540039062, -7.507343292236328, 9.436932563781738, -4.229879856109619, 9.672558784484863, 9.235145568847656, 9.474016189575195, -6.964269161224365, 0.8906238675117493, 3.4260048866271973, 11.491273880004883, -0.37818989157676697, -3.2645986080169678, 10.089487075805664, -7.489776611328125, -9.45628547668457, -8.847475051879883, -10.329987525939941, -2.1283819675445557, 9.452608108520508, 0.15592175722122192, 9.580565452575684, 5.911812782287598, -8.935781478881836, 10.726227760314941, 9.470926284790039, -5.603109359741211, 9.937446594238281, -3.207496404647827, -3.4525508880615234, -8.641242027282715, -9.42803955078125, 5.4079203605651855, -10.425297737121582, -2.836394786834717, -9.926595687866211, 2.979846239089966, -3.629162073135376, 9.449738502502441, -10.894048690795898, 7.322343349456787, 8.484476089477539, -8.379121780395508, 9.294379234313965, -9.538982391357422, 7.99494743347168], \"z\": [-3.273136854171753, -7.497419834136963, 4.765978813171387, -2.767223834991455, -7.461846351623535, -4.789577007293701, -13.675557136535645, -5.747766017913818, 3.7664685249328613, -8.823904991149902, -0.9265367984771729, -6.422855854034424, -5.866746425628662, -0.9198233485221863, -9.815296173095703, -2.6918954849243164, 3.9635965824127197, -1.8493269681930542, -8.131638526916504, 5.988664150238037, -3.0000696182250977, -10.100626945495605, -8.650185585021973, -11.447122573852539, -9.721495628356934, -13.068414688110352, -10.059795379638672, -8.888602256774902, 2.9648938179016113, 0.40702956914901733, -11.654537200927734, -7.446697235107422, -12.672313690185547, -2.5162601470947266, -5.5151567459106445, 3.4992992877960205, -1.2733689546585083, -8.014764785766602, -1.4943994283676147, 3.3924720287323, -2.9158530235290527, 1.3454535007476807, -1.2028037309646606, -5.723191261291504, 1.908272385597229, -1.7499501705169678, -8.713380813598633, -13.753385543823242, -13.745615005493164, -8.767099380493164, -8.096941947937012, -1.114296317100525, -0.43704476952552795, 1.7481766939163208, -1.867631435394287, -2.3126373291015625, 2.4054930210113525, -12.559168815612793, -5.8105340003967285, -1.145930290222168, 0.7227254509925842, -3.4340858459472656, -13.707850456237793, 2.1517765522003174, -9.170002937316895, 2.059317111968994, -13.719626426696777, -4.2945170402526855, -10.263338088989258, -13.562749862670898, 3.0179877281188965, 3.4663779735565186, -5.808012008666992, -13.710049629211426, 2.33988618850708, -11.010157585144043, -2.0748355388641357, -11.980895042419434, 4.147439479827881, -10.41254711151123, 1.1482670307159424, 2.2616875171661377, 1.280647873878479, -11.137006759643555, 1.199568510055542, 0.6117913126945496, -10.579243659973145, -10.625043869018555, -11.540021896362305, -12.86138916015625, -11.817699432373047, -13.804278373718262, -5.945091724395752, 1.946373462677002, -1.0764219760894775, -1.632851004600525, -7.820226669311523, -8.676647186279297, -5.820717811584473, -8.916986465454102, -11.889920234680176, 4.710005283355713, -0.600946843624115, -1.1986064910888672, -11.905610084533691, 1.3294745683670044, 1.4931844472885132, -13.282116889953613, 0.31108322739601135, -11.488093376159668, -12.171025276184082, -1.3097342252731323, -3.446864604949951, -5.552028656005859, -8.09314250946045, -13.43274211883545, -4.96213436126709, -12.0774507522583, -13.756082534790039, -13.014472007751465, -12.368675231933594, -11.668865203857422, -2.4919166564941406, -9.12770938873291, -9.663565635681152, 6.719067573547363, 3.582552433013916, -6.606227874755859, -13.352940559387207, 7.131816864013672, -7.745429515838623, -9.08089828491211, 1.136061191558838, -12.271271705627441, -7.2235894203186035, -7.777825832366943, -3.231645107269287, 0.8212265372276306, -11.13119888305664, -2.1129708290100098, 3.485095500946045, -9.248324394226074, 1.0389150381088257, -7.70965051651001, -11.114968299865723, -13.826355934143066, -5.2047224044799805, -13.432243347167969, 2.548771619796753, -8.378547668457031, -4.217233657836914, -8.475061416625977, 0.5910001993179321, 3.0828421115875244, -5.715061187744141, -5.8524088859558105, -12.30432415008545, 2.5879127979278564, -11.959515571594238, -7.737139701843262, 7.3436455726623535, -11.216880798339844, -9.452804565429688, -6.785637378692627, -13.2067289352417, -9.01506519317627, -13.496076583862305, 0.3103041350841522, 1.457871913909912, 3.152606725692749, 2.4592411518096924, -13.879949569702148, -9.89926815032959, -5.910143852233887, -10.411947250366211, -4.206267356872559, -12.246991157531738, -9.959733963012695, -13.7785062789917, -6.619391441345215, -0.774311363697052, 1.1379083395004272, -8.254598617553711, 5.765806198120117, 0.6831066608428955, 0.783699095249176, 2.025696277618408, -0.8820316791534424, -8.455747604370117, -10.411103248596191, -13.217192649841309, -4.209864616394043, 5.897377967834473, -5.831347942352295, -0.12701472640037537, -7.7347493171691895, -0.015057330951094627, -2.4358787536621094, -11.753805160522461, -12.097003936767578, -5.645589351654053, 3.196582078933716, -0.18203605711460114, -8.592779159545898, -3.7883379459381104, -10.425912857055664, -4.632618427276611, -7.115694522857666, -13.687108039855957, -12.268500328063965, 4.837988376617432, -8.084359169006348, -13.418590545654297, -4.6277337074279785, -7.371835231781006, 3.4282655715942383, -8.826743125915527, -5.02278470993042, -9.234436988830566, -13.763888359069824, 7.1718974113464355, 7.2911906242370605, -8.48609447479248, -8.94769287109375, 5.919398307800293, 1.2350192070007324, 2.584841728210449, -13.845458030700684, 0.31089505553245544, 3.4956674575805664, 3.277068614959717, -9.138054847717285, -10.581507682800293, -2.8206701278686523, -13.279980659484863, -6.585250377655029, -10.826733589172363, -1.4556885957717896, -7.555861473083496, -8.050162315368652, 5.489737033843994, 0.9714892506599426, 6.042742729187012, 3.017359733581543, -10.047863960266113, 6.302924156188965, 2.9658265113830566, -10.516317367553711, -1.0357774496078491, 5.036732196807861, -8.660283088684082, -7.439572811126709, -9.261513710021973, -6.7114362716674805, 0.8941683173179626, -9.622618675231934, 2.1003222465515137, -10.042830467224121, 3.691570281982422, -11.659055709838867, -10.107982635498047, 2.5857841968536377, -8.915118217468262, 1.5660334825515747, -7.014889717102051, 0.20765118300914764, 2.9044878482818604, 3.059473752975464, -0.7486938834190369, 5.731538772583008, -2.462299346923828, -6.278410911560059, -6.225762844085693, 3.8205924034118652, -13.074813842773438, -7.024395942687988, -5.746510028839111, -13.892362594604492, -0.9080867171287537, -9.146810531616211, -13.857576370239258, -3.822531223297119, -9.009435653686523, -0.03799660503864288, -13.862202644348145, 2.7364392280578613, -9.43458080291748, -13.844439506530762, -11.669742584228516, -5.793030261993408, -7.13990592956543, -1.995638370513916, -11.450531005859375, 6.255606174468994, -13.64453125, -5.844316005706787, -9.635469436645508, -0.9235610365867615, -10.814517974853516, -10.776942253112793, -13.524123191833496, -1.9230941534042358, -0.20917358994483948, -4.946587085723877, -4.637938022613525, -11.174703598022461, 2.042442560195923, -0.024898918345570564, -13.754242897033691, 6.642010688781738, 7.269834518432617, -3.6255381107330322, -0.6346889734268188, 2.516915798187256, -13.611802101135254, -4.127994537353516, 2.4639995098114014, -13.546106338500977, -8.421131134033203, 0.9494397640228271, -12.41746997833252, -8.5617094039917, -10.460352897644043, -8.541261672973633, 2.567150592803955, -6.59667444229126, -6.829963207244873, -7.91785192489624, -6.70556116104126, -12.304671287536621, 0.6335878968238831, 1.5640685558319092, 7.2464919090271, -13.733264923095703, -2.1191413402557373, -3.4462571144104004, 5.715607643127441, -13.516079902648926, -4.571858882904053, 0.3096151649951935, -7.682397365570068, -7.939652442932129, -5.477624416351318, 6.976373195648193, -7.869965076446533, 0.5844224691390991, -8.122530937194824, -9.350787162780762, 0.8439863920211792, -7.022192478179932, 5.07310152053833, -6.869789123535156, -9.878838539123535, -7.948654651641846, -3.3878467082977295, -1.4015151262283325, -7.357473373413086, 3.656981945037842, -3.553452253341675, -13.857338905334473, -10.592644691467285, 7.333927631378174, -8.70535945892334, -6.603076934814453, 6.084591388702393, -13.222187042236328, -0.627595067024231, -5.448873996734619, -8.529716491699219, -9.285290718078613, -11.767616271972656, -5.7949652671813965, -6.841207504272461, -13.836377143859863, -13.66916275024414, -3.6810591220855713, -9.557364463806152, 7.02691650390625, -4.041520118713379, -5.5616888999938965, -8.84657096862793, -2.6752769947052, 2.0848679542541504, 0.6813156604766846, 2.5352909564971924, -7.850615978240967, -12.89173698425293, -13.142147064208984, -2.298614978790283, -8.077744483947754, -13.831460952758789, -1.343543291091919, -13.430252075195312, -12.042420387268066, 6.136781215667725, -1.663998007774353, 2.6885571479797363, 1.135465383529663, -8.546136856079102, -7.9311442375183105, -7.942179203033447, -0.10086972266435623, -5.029362678527832, -11.661459922790527, -5.192378520965576, -8.078990936279297, -13.37553596496582, 3.4020533561706543, -13.862356185913086, -3.619661569595337, -11.122000694274902, -13.268220901489258, -9.811346054077148, 3.972470998764038, -1.5637946128845215, 6.287669658660889, -7.676581382751465, 0.9241275787353516, -7.691681385040283, 4.746275901794434, 1.1671427488327026, -8.688197135925293, -5.952024936676025, 2.614572525024414, 3.564666986465454, -6.4296674728393555, -4.5829267501831055, -11.64873218536377, -7.855181694030762, 0.0034713689237833023, -5.920825004577637, 1.320216178894043, 3.5714516639709473, -9.531222343444824, -12.253801345825195, -3.7146615982055664, -4.63094425201416, -1.940229058265686, 1.9881170988082886, 3.7357115745544434, -11.754581451416016, -2.7195732593536377, -8.33319091796875, -4.854198455810547, -10.662171363830566, -13.394679069519043, 6.081972122192383, -0.660692036151886, -6.773514270782471, -12.835275650024414, -1.207068920135498, -6.550380229949951, -3.8595595359802246, -12.824396133422852, 3.743868827819824, 6.327273368835449, -7.130431175231934, -9.152667045593262, 2.1081838607788086, 0.6607251167297363, -7.5844926834106445, -2.3465991020202637, -7.151791572570801, -1.220984697341919, 0.8380739688873291, 2.5032200813293457, 0.688786506652832, -3.190121650695801, -6.456920623779297, -1.7864623069763184, 6.6236772537231445, -8.881889343261719, -7.320760726928711, 4.8643388748168945, 7.334024906158447, -12.760173797607422, -10.185002326965332, -9.564445495605469, 6.576167583465576, -4.953697204589844, -5.833207130432129, 3.6122422218322754, 0.4492156207561493, -1.368142008781433, 3.5781376361846924, -3.351240396499634, 0.8165066242218018, -0.4225504398345947, -6.88046407699585, -1.7770453691482544, -0.8839954733848572, -11.261507987976074, -12.014416694641113, 0.9482041597366333, -1.0456876754760742, 6.501446723937988, -2.913888454437256, -8.97122573852539, -2.4480814933776855, -1.0870352983474731, 4.63527774810791, 1.2944107055664062, -5.4525299072265625, 5.7104902267456055, -5.605267524719238, -13.84826374053955, -1.220730185508728, -13.828032493591309, 1.8469806909561157, -9.42875862121582, -6.778138160705566, -9.56296157836914, -7.270442485809326, -13.072452545166016, -6.667669296264648, -8.812193870544434, -8.703073501586914, 0.7219712138175964, -2.4747753143310547, -9.605804443359375, -3.8830254077911377, -12.657608985900879, -5.104044437408447, 0.9482475519180298, -13.845394134521484, -8.36209487915039, -2.0799524784088135, -13.847064971923828, -10.510416030883789, -3.4120168685913086, -12.139142036437988, -9.220370292663574, 4.040539264678955, -9.206954956054688, -7.748164176940918, -10.883501052856445, -8.36161994934082, 3.145516872406006, -10.96092700958252, -4.607938289642334, 1.3025943040847778, -6.7968268394470215, 3.0141751766204834, 2.107078790664673, -9.159753799438477, -0.041054703295230865, -0.7957702279090881, -9.854446411132812, -8.89980697631836, -11.36890983581543, -13.840873718261719, -9.601456642150879, 5.972753524780273, -13.821115493774414, 2.452406644821167, 1.5434422492980957, -10.930809020996094, -7.959164619445801, -9.514857292175293, -5.788714408874512, -6.473095417022705, -3.2384591102600098, -7.911897659301758, -1.5071783065795898, -10.05928897857666, -9.385534286499023, 4.050841331481934, -7.469832897186279, -12.319158554077148, 0.7492427229881287, 1.6051462888717651, 0.11350036412477493, -9.816915512084961, -8.19257640838623, -12.399772644042969, -1.9263205528259277, -6.100787162780762, -0.8077711462974548, -12.847427368164062, -6.250316143035889, -7.0148091316223145, -3.1004855632781982, -11.854361534118652, -10.981339454650879, -10.136131286621094, -9.689363479614258, -7.5895280838012695, -11.4298095703125]}, {\"hovertemplate\": \"Dominant_Topic=Topic 1<br>0=%{x}<br>1=%{y}<br>2=%{z}<extra></extra>\", \"legendgroup\": \"Topic 1\", \"marker\": {\"color\": \"#EF553B\", \"opacity\": 0.7, \"symbol\": \"circle\"}, \"mode\": \"markers\", \"name\": \"Topic 1\", \"scene\": \"scene\", \"showlegend\": true, \"type\": \"scatter3d\", \"x\": [0.724777340888977, 5.326934337615967, 5.507290840148926, 0.3556389808654785, 4.758191108703613, 5.687931060791016, -0.5740708708763123, 4.828277587890625, 5.002652168273926, 6.171299934387207, 5.545727252960205, 6.283512115478516, -2.200251579284668, -0.4773092567920685, 4.511263847351074, 1.7963876724243164, 2.0214552879333496, 5.740328311920166, 4.122246742248535, 2.391700506210327, 3.9886600971221924, 5.71815824508667, 5.782435417175293, 3.852898359298706, 4.6019768714904785, 0.3925567865371704, 3.4060027599334717, 1.8299516439437866, 5.458615779876709, 0.3325156271457672, -4.006851673126221, 1.3276584148406982, 1.253888487815857, 0.3360835313796997, 5.499908447265625, 2.047866106033325, -3.0793445110321045, 0.561863899230957, -2.0024631023406982, -0.17957894504070282, 5.818915843963623, -3.0150582790374756, 0.8905676603317261, 4.00319242477417, -0.48172250390052795, 5.986363410949707, 6.148451805114746, 6.0781450271606445, 6.217571258544922, 1.367527961730957, 1.1953785419464111, 5.107531547546387, 0.8994584083557129, 0.5512317419052124, -2.1708762645721436, 4.874199390411377, -2.6348719596862793, -2.637596845626831, 4.845814228057861, 3.4994611740112305, 0.3508588671684265, 1.5261204242706299, 1.2881147861480713, 0.8715223073959351, 0.5667824745178223, 0.8655625581741333, -1.484290361404419, 1.558564305305481, -2.9987452030181885, 0.3925652503967285, -1.2598962783813477, 4.906681060791016, 6.244643211364746, 5.913201808929443, 5.891240119934082, 5.539617538452148, 4.742997646331787, 1.176447868347168, 5.965671539306641, -3.483128070831299, 0.7538598775863647, 0.4986235797405243, 1.7096556425094604, 5.424430847167969, 1.1051841974258423, 4.9604573249816895, 2.887225866317749, -0.6027507781982422, 5.552150726318359, 1.8097766637802124, 2.8394081592559814, 1.5678730010986328, 0.6781190037727356, 2.766799211502075, 4.84969425201416, 1.5640950202941895, 3.2645838260650635, -3.005821704864502, 0.21927721798419952, 0.05234144255518913, 2.84928822517395, 5.153303146362305, 1.2129631042480469, 5.957326412200928, 4.74074125289917, 3.282865047454834, 0.589796781539917, 3.414313316345215, 1.9824066162109375, 1.4882851839065552, 0.7093937993049622, 5.242290496826172, -1.9674376249313354, 5.766186714172363, 6.283213138580322, 3.823171615600586, -2.6867239475250244, 6.307436943054199, 1.5425283908843994, -2.5088982582092285, 2.8536391258239746, -1.7256516218185425, 3.808990955352783, -2.009399175643921, 1.8896474838256836, 5.642364501953125, 1.0116382837295532, 4.983175277709961, -1.9022349119186401, -2.73525071144104, 6.199984550476074, 5.268509864807129, 6.315989971160889, 6.265497207641602, 0.06547508388757706, 0.9340991973876953, 6.251510143280029, 0.1540444791316986, 6.185293197631836, 2.9429666996002197, 4.845521450042725, 1.458886742591858, 2.532896041870117, 5.697778224945068, 3.36875319480896, 4.260649681091309, -2.1503384113311768, -0.0638880580663681, 6.041749000549316, 4.1966753005981445, 6.161777973175049, 5.178835868835449, 3.096616744995117, 1.5260584354400635, 1.8671300411224365, 2.0016586780548096, -2.3719499111175537, 1.3361231088638306, 4.669261455535889, 0.9520766735076904, 6.160646915435791, 0.19376561045646667, 1.4293676614761353, -1.6153570413589478, 0.8536573648452759, 6.2480010986328125, 2.928891658782959, 4.559286117553711, 1.622345209121704, 4.752147197723389, 4.218693733215332, 0.1438085436820984, -2.3386592864990234, -2.3868765830993652, 5.224393844604492, -2.142496109008789, 1.36878502368927, 4.121045112609863, 3.731905937194824, 0.15863396227359772, 5.80655574798584, 4.429052829742432, 2.1537046432495117, 4.4397735595703125, 5.228135585784912, 1.6730923652648926, 1.6351418495178223, 4.194757461547852, 1.634045124053955, 2.347156524658203, -2.7705469131469727, -2.1243083477020264, 4.493862152099609, 6.326709747314453, 3.6170220375061035, 0.49723899364471436, 2.7818639278411865, 4.831252098083496, -3.1003365516662598, 2.4811387062072754, 5.836012840270996, 6.230867385864258, 1.9920532703399658, 1.311090111732483, 3.2818193435668945, 0.2921315133571625, -2.568056344985962, 5.1453375816345215, 2.499016761779785, 6.179773330688477, 0.8544158935546875, 5.742393493652344, 0.9928513169288635, -1.2385977506637573, 5.060042858123779, 2.317692518234253, 5.651556968688965, 3.9898509979248047, 1.3919998407363892, 4.3532891273498535, 5.798954010009766, 6.2202348709106445, -1.56890070438385, 5.660948276519775, 5.6509833335876465, 0.6936818361282349, -2.5206458568573, -2.567060947418213, 0.18929407000541687], \"y\": [-1.0495338439941406, 1.4631489515304565, -1.809935212135315, 3.5494022369384766, 2.0768911838531494, -3.20131254196167, -1.5631669759750366, 2.037506341934204, 1.7622044086456299, -0.14524231851100922, 1.1576552391052246, -1.431449055671692, 0.5192093253135681, 0.09381286054849625, 2.2455503940582275, -1.1366620063781738, -2.1865415573120117, 0.7987063527107239, -3.998033046722412, -3.5989415645599365, -3.7650253772735596, 0.7606727480888367, -2.9630839824676514, 0.34118789434432983, -3.417428731918335, 0.7971073985099792, 2.9076411724090576, -1.3722660541534424, -3.4400832653045654, -0.2916019558906555, -0.18524079024791718, -2.6276557445526123, -1.1699285507202148, -1.3819531202316284, 1.2250134944915771, 3.4443676471710205, -0.11162827908992767, 3.778916120529175, 0.4390399158000946, 0.38420137763023376, -2.8964478969573975, -1.2205959558486938, 0.69820237159729, -1.2976114749908447, 0.963363528251648, 0.032097507268190384, -0.10327956080436707, -0.8274562358856201, -1.6787902116775513, 3.702942371368408, 1.118554711341858, -4.3956298828125, 3.767636775970459, 2.9980974197387695, -2.117711305618286, -1.9896365404129028, -1.2392460107803345, -1.4121211767196655, 2.0287156105041504, 2.8481924533843994, -1.465157151222229, -2.9881670475006104, 0.7786092162132263, -0.42946746945381165, 3.776940107345581, 0.8397864699363708, -2.2400319576263428, -1.5823780298233032, -0.44500213861465454, 3.7856719493865967, 0.8992481827735901, -4.369919300079346, -0.36759138107299805, 0.40194523334503174, -1.2607402801513672, -1.0248020887374878, 2.0637853145599365, 3.7380177974700928, -1.8752766847610474, -0.016318228095769882, 2.3543524742126465, -1.141148328781128, 3.577415704727173, -3.4508469104766846, 2.2469379901885986, 1.8974275588989258, 3.162019968032837, -0.13794389367103577, -3.4883008003234863, -1.0964537858963013, 3.1880016326904297, 3.648599624633789, 1.1905806064605713, 3.1734185218811035, 1.8327977657318115, 3.656075954437256, -1.8321759700775146, -0.8060488104820251, -1.8881562948226929, -0.6884722709655762, -3.8991410732269287, -4.262943267822266, 2.06333065032959, 0.3680956959724426, -1.5517148971557617, 2.9588139057159424, -0.5886788368225098, -3.9299373626708984, -1.1149675846099854, 3.6681325435638428, -1.127658486366272, 1.5743532180786133, -0.07929486781358719, -2.717109441757202, -0.6008416414260864, 2.66797137260437, -1.547491192817688, -1.1316899061203003, -1.2557628154754639, -1.443987488746643, -3.4241838455200195, -0.2416989952325821, -4.026106834411621, -1.6412105560302734, -1.537472128868103, 0.9110876321792603, 3.6787309646606445, -4.668891429901123, -2.007957935333252, 0.028756339102983475, -0.4058658480644226, 1.5364819765090942, -1.0277587175369263, -1.5319576263427734, -0.35387563705444336, 2.100306749343872, -1.6297553777694702, -2.813847541809082, -0.40222716331481934, 3.1422994136810303, 1.990224838256836, -2.746483564376831, -1.0853816270828247, -0.851301372051239, -3.8141064643859863, 2.3824069499969482, -1.597152590751648, -0.5625351071357727, 0.15767331421375275, -1.3526090383529663, -1.7316638231277466, -3.944871187210083, 3.0633320808410645, 1.1596547365188599, 3.5564005374908447, -1.5373167991638184, 0.1593419462442398, 2.0073280334472656, -5.262375354766846, 0.7845571041107178, -0.9592917561531067, 3.802961587905884, -2.1883888244628906, -0.2713112533092499, -1.356873631477356, -0.3946312963962555, 3.142045736312866, -3.1304919719696045, 3.6322972774505615, -5.4078874588012695, -1.7893764972686768, 0.26660290360450745, -1.672860860824585, -1.8035842180252075, 1.598751425743103, 0.2649814188480377, -0.14996768534183502, 2.310692310333252, 2.712688446044922, 3.8045308589935303, 0.6559798717498779, 2.3043315410614014, -2.933804512023926, 2.3039958477020264, -4.137191295623779, -2.6874165534973145, 1.431358814239502, 2.4476044178009033, 1.5399240255355835, -1.8057992458343506, 0.08226653933525085, 0.6081669330596924, 2.145172357559204, -1.056662917137146, -3.7527613639831543, -0.5305566191673279, 3.2075657844543457, -5.089710235595703, -1.0863066911697388, 3.3251426219940186, -1.6367155313491821, -0.3674498498439789, -0.8024921417236328, -0.5077692866325378, 2.9276838302612305, 3.778618574142456, -0.2922096848487854, -2.2144367694854736, 3.3230226039886475, -0.1846493035554886, 3.7604053020477295, -3.017082929611206, -0.34551113843917847, 0.6404092311859131, -4.336785316467285, -1.0328377485275269, 0.9050881266593933, 0.39892351627349854, 1.7472894191741943, -2.9678242206573486, -2.930990219116211, -1.6716023683547974, 0.5148330330848694, -2.9174718856811523, 0.9509029984474182, 0.19375130534172058, -0.07117429375648499, -0.36537081003189087, -1.1774253845214844], \"z\": [7.053926467895508, 12.039116859436035, 7.556521892547607, 14.392406463623047, 12.877068519592285, 6.046577453613281, 6.0556416511535645, 12.833688735961914, 12.421618461608887, 9.91113567352295, 11.62804126739502, 8.256905555725098, 8.884445190429688, 8.594393730163574, 13.08269214630127, 7.307712554931641, 5.931933403015137, 11.1492919921875, 4.685255527496338, 4.434372901916504, 4.836759567260742, 11.084992408752441, 6.329570770263672, 10.034530639648438, 5.398196220397949, 9.895766258239746, 13.937028884887695, 6.959700584411621, 5.725208282470703, 8.271697044372559, 7.383925914764404, 5.153314590454102, 7.051177501678467, 6.465991020202637, 11.719621658325195, 14.556572914123535, 7.74600887298584, 14.815998077392578, 8.806572914123535, 9.11448860168457, 6.413935661315918, 6.1254777908325195, 9.860156059265137, 7.776925086975098, 9.955449104309082, 10.106315612792969, 9.966443061828613, 8.95854663848877, 7.938411712646484, 14.850177764892578, 10.587995529174805, 4.751078128814697, 14.859098434448242, 13.51892375946045, 4.92283296585083, 7.137176513671875, 6.221947193145752, 5.962194442749023, 12.802072525024414, 13.856616020202637, 6.357814311981201, 4.768369197845459, 10.079936981201172, 8.10325813293457, 14.813253402709961, 10.072282791137695, 5.903311252593994, 6.563684463500977, 7.28009557723999, 14.791327476501465, 9.67685604095459, 4.692407608032227, 9.630812644958496, 10.613775253295898, 8.347061157226562, 8.542116165161133, 12.841190338134766, 14.872042655944824, 7.6251301765441895, 7.777786731719971, 12.496967315673828, 6.851869106292725, 14.71037483215332, 5.702710151672363, 12.393152236938477, 12.613784790039062, 14.252633094787598, 8.209168434143066, 5.718186855316162, 7.369457721710205, 14.28660774230957, 14.798545837402344, 10.587275505065918, 14.247865676879883, 12.482390403747559, 14.809496879577637, 6.791003704071045, 6.751900672912598, 5.833518981933594, 7.657954216003418, 4.317935943603516, 4.875032424926758, 12.115293502807617, 10.575942039489746, 7.6427998542785645, 13.99571704864502, 7.762423038482666, 4.486745834350586, 7.612120628356934, 14.814125061035156, 6.932826042175293, 12.191508293151855, 8.05349063873291, 6.593381881713867, 9.325040817260742, 13.626215934753418, 5.727673053741455, 8.641826629638672, 7.026576042175293, 5.9566240310668945, 4.778686046600342, 7.843332767486572, 4.546957015991211, 5.786520004272461, 6.741495609283447, 11.28586483001709, 14.731057167053223, 4.494551181793213, 5.236083984375, 8.036894798278809, 9.556005477905273, 12.133674621582031, 8.779149055480957, 8.131160736083984, 8.013117790222168, 12.118084907531738, 8.006507873535156, 7.213887691497803, 9.557539939880371, 14.230721473693848, 12.736809730529785, 5.046550273895264, 8.083100318908691, 8.809538841247559, 4.567987442016602, 13.249619483947754, 5.826515197753906, 7.6473517417907715, 10.299102783203125, 7.7538743019104, 7.857483386993408, 5.152669906616211, 14.131613731384277, 10.729720115661621, 14.704641342163086, 6.778842449188232, 8.318702697753906, 12.04887866973877, 3.952500820159912, 10.008831977844238, 8.815640449523926, 14.783687591552734, 5.745410442352295, 7.873198509216309, 6.637155055999756, 9.579554557800293, 14.229071617126465, 5.671633720397949, 14.783838272094727, 3.8830695152282715, 7.1732659339904785, 9.009291648864746, 5.661877632141113, 5.419752597808838, 12.222984313964844, 8.515222549438477, 8.694223403930664, 13.096762657165527, 13.681577682495117, 14.778355598449707, 10.955842018127441, 13.157543182373047, 5.081491947174072, 13.156790733337402, 5.010642051696777, 5.198090553283691, 11.18085765838623, 13.345457077026367, 11.352797508239746, 6.521662712097168, 8.108637809753418, 9.036030769348145, 12.897079467773438, 8.742706298828125, 4.711964130401611, 7.835176467895508, 14.307385444641113, 4.134404182434082, 6.305924892425537, 14.446836471557617, 7.868370056152344, 9.621588706970215, 7.905135631561279, 8.121294021606445, 13.943202018737793, 14.760833740234375, 7.605687141418457, 6.9599738121032715, 14.444425582885742, 9.857586860656738, 14.838292121887207, 6.257266998291016, 8.272390365600586, 9.275707244873047, 4.778249263763428, 7.657538890838623, 11.280268669128418, 10.1491117477417, 11.638520240783691, 5.773371696472168, 6.370412826538086, 7.947957992553711, 9.01278305053711, 6.335678577423096, 11.346868515014648, 9.03213119506836, 7.939047336578369, 7.500006675720215, 7.242147445678711]}, {\"hovertemplate\": \"Dominant_Topic=Topic 2<br>0=%{x}<br>1=%{y}<br>2=%{z}<extra></extra>\", \"legendgroup\": \"Topic 2\", \"marker\": {\"color\": \"#00cc96\", \"opacity\": 0.7, \"symbol\": \"circle\"}, \"mode\": \"markers\", \"name\": \"Topic 2\", \"scene\": \"scene\", \"showlegend\": true, \"type\": \"scatter3d\", \"x\": [-3.3645784854888916, -13.815497398376465, -13.003671646118164, -11.880078315734863, -7.065893173217773, -7.285486698150635, -12.06624698638916, -6.151973724365234, -4.577315807342529, -7.312582015991211, -10.479098320007324, -13.318933486938477, -13.755514144897461, -13.111766815185547, -4.572813510894775, -11.982083320617676, -7.436629295349121, -4.620588779449463, -11.76470947265625, -9.251419067382812, -11.55205249786377, -7.530324459075928, -8.904083251953125, -9.477855682373047, -7.1971893310546875, -6.202873706817627, -4.899866580963135, -5.020071506500244, -13.637774467468262, -12.668590545654297, -7.544816970825195, -6.551502704620361, -2.9207370281219482, -8.590967178344727, -12.856691360473633, -13.889933586120605, -7.076420783996582, -10.730846405029297, -10.206774711608887, -12.472883224487305, -14.095561981201172, -4.435403347015381, -12.316851615905762, -7.9060235023498535, -5.490055084228516, -12.4849271774292, -9.842041015625, -7.655994892120361, -11.926432609558105, -3.9110686779022217, -12.194418907165527, -9.28049087524414, -10.791166305541992, -6.133693695068359, -5.811223030090332, -13.775139808654785, -12.78763484954834, -9.269262313842773, -13.380552291870117, -9.395977973937988, -9.356587409973145, -6.575133800506592, -13.7636137008667, -9.435604095458984, -7.750823497772217, -4.820460796356201, -7.1718430519104, -10.306696891784668, -7.4292168617248535, -11.457761764526367, -5.019831657409668, -6.601852893829346, -13.067113876342773, -6.018615245819092, -4.91327428817749, -12.690702438354492, -6.020627975463867, -11.521146774291992, -7.680984973907471, -10.919686317443848, -9.776906967163086, -13.494457244873047, -4.0865278244018555, -5.155517578125, -8.533286094665527, -7.954534530639648, -13.834360122680664, -7.774238586425781, -11.594285011291504, -11.679533004760742, -7.9166035652160645, -9.990297317504883, -4.621192455291748, -6.104821681976318, -14.002878189086914, -9.52756118774414, -12.848926544189453, -9.831828117370605, -5.636642932891846, -7.1924357414245605, -7.655343532562256, -10.808822631835938, -10.799805641174316, -9.609489440917969, -5.485578536987305, -12.356795310974121, -9.525359153747559, -12.151988983154297, -9.399361610412598, -12.527026176452637, -12.331929206848145, -5.190757751464844, -12.297450065612793, -5.269654273986816, -12.147740364074707, -6.04837703704834, -13.763656616210938, -7.496801853179932, -13.92387866973877, -6.660713195800781, -13.494596481323242, -12.280628204345703, -4.279045104980469, -13.259064674377441, -5.077214241027832, -6.996853828430176, -7.27585506439209, -9.30848503112793, -9.037370681762695, -5.9302449226379395, -13.84787368774414, -7.680078029632568, -9.50249195098877, -8.733280181884766, -12.7044038772583, -12.702190399169922, -7.549384593963623, -7.551262855529785, -11.8309326171875, -5.199309349060059, -8.004008293151855, -4.573060989379883, -13.838969230651855, -8.415900230407715, -9.853670120239258, -5.7219109535217285, -4.219638347625732, -4.639692783355713, -9.721136093139648, -6.173137187957764, -6.0567626953125, -14.12019157409668, -4.967343330383301, -11.297528266906738], \"y\": [-1.716402530670166, 0.4303821325302124, 0.12573088705539703, -0.1384626179933548, -0.9191594123840332, -1.5958572626113892, -1.1743216514587402, -3.1344707012176514, -1.9057681560516357, -2.8841392993927, -1.2102130651474, -0.15207208693027496, 0.3674919009208679, -0.30331215262413025, -2.994002342224121, -1.1821681261062622, -2.616142749786377, -1.6363189220428467, -0.11779725551605225, -2.091035842895508, -1.3457367420196533, -2.0822343826293945, -1.6077972650527954, -1.0386689901351929, -2.82731556892395, -0.7774448990821838, -0.7616591453552246, -2.552856683731079, 0.39324790239334106, -0.8190050721168518, -1.3096470832824707, -2.0934863090515137, -2.278991937637329, -2.373967409133911, 0.06676306575536728, 0.010493260808289051, -1.030112862586975, -0.12879857420921326, -1.0996748208999634, -0.7894723415374756, 0.2780342400074005, -3.127185583114624, -0.4466230273246765, -1.3974149227142334, -2.041552782058716, -0.9522068500518799, -0.2681397497653961, -0.5321898460388184, -1.256308674812317, -1.727473497390747, -0.20997250080108643, -2.0731194019317627, -0.14916492998600006, -1.4432481527328491, -1.2438580989837646, 0.09599265456199646, 0.09511176496744156, -0.5018085241317749, -0.11281600594520569, -1.75834059715271, -2.0427591800689697, -3.05889892578125, 0.010003861971199512, -1.6551100015640259, -0.5296158194541931, -2.000748634338379, -2.8031232357025146, -1.712272047996521, -1.9876708984375, -1.3826075792312622, -0.8747129440307617, -1.2374967336654663, -0.3378610908985138, -2.1057605743408203, -3.108541965484619, -0.7637375593185425, -1.0403497219085693, -0.04920826479792595, -1.7259275913238525, -0.14920461177825928, -0.5030025243759155, -0.05260700359940529, -3.134505271911621, -0.585547685623169, -2.3983376026153564, -2.6293811798095703, 0.03303024172782898, -2.714759349822998, -1.3331092596054077, -1.2982721328735352, -1.176530122756958, -0.7548671364784241, -3.0756776332855225, -1.079012393951416, 0.46805912256240845, -1.9576756954193115, -0.5537179708480835, -0.9386618137359619, -0.8486666083335876, -2.916130542755127, -2.745020627975464, -1.5760023593902588, -0.07779105007648468, -0.29734957218170166, -1.3980947732925415, -1.0675485134124756, -0.3923017978668213, -1.119701862335205, -2.033679485321045, -0.8548189997673035, -1.0566710233688354, -1.2801148891448975, -0.09997822344303131, -0.915692925453186, -0.5325196981430054, -2.142613649368286, 0.240021213889122, -2.6320295333862305, 0.46830156445503235, -3.0406081676483154, -0.019943878054618835, -1.1151208877563477, -0.2580025792121887, -0.18222548067569733, -2.3392608165740967, -2.9623425006866455, -2.8848283290863037, -0.6623556017875671, -1.399235486984253, -2.020092248916626, 0.476484090089798, -1.4112776517868042, -1.2523353099822998, -1.1327544450759888, -0.7464321851730347, -0.7036833167076111, -2.126633405685425, -2.7979838848114014, -1.27559494972229, -2.7950901985168457, -2.5975022315979004, -0.5308090448379517, 0.01969398371875286, -2.4332993030548096, -0.2494736611843109, -2.4228060245513916, -2.453786611557007, -1.9108085632324219, -0.2951490879058838, -1.7513810396194458, -2.6546647548675537, 0.2726520895957947, -0.5476173758506775, -1.4476914405822754], \"z\": [5.1358537673950195, 7.06705904006958, 6.733373641967773, 5.9484734535217285, 5.265767574310303, 3.674142599105835, 3.158461809158325, 0.4997285008430481, 4.217387676239014, 0.6764748692512512, 2.4354569911956787, 5.767460823059082, 6.6163649559021, 5.317704677581787, 1.6704866886138916, 3.1348302364349365, 1.2761695384979248, 4.751204490661621, 6.034435272216797, 1.7469838857650757, 2.8584184646606445, 2.471100330352783, 2.971315383911133, 4.102912902832031, 0.8693659901618958, 5.817151069641113, 6.221746921539307, 2.5420644283294678, 6.716549396514893, 3.9103753566741943, 4.206538677215576, 2.8877816200256348, 4.2345685958862305, 1.3554816246032715, 6.528076171875, 6.982187747955322, 5.010601997375488, 6.1922760009765625, 3.6974895000457764, 3.936551570892334, 7.01131010055542, 1.3668793439865112, 3.626915693283081, 3.8443994522094727, 3.487262725830078, 3.6011366844177246, 6.008204460144043, 5.965888023376465, 3.007598876953125, 4.878420352935791, 5.519564628601074, 1.7770836353302002, 6.111688137054443, 4.483607769012451, 5.0269341468811035, 6.466854572296143, 6.626664638519287, 5.557737827301025, 5.8935394287109375, 2.428814172744751, 1.8173125982284546, 0.5355865955352783, 6.6291399002075195, 2.6431925296783447, 5.946625709533691, 3.897765636444092, 0.9441275596618652, 2.286059856414795, 2.7324390411376953, 2.800804376602173, 5.990085124969482, 4.649539470672607, 5.2133002281188965, 3.1005609035491943, 1.1452583074569702, 4.0291619300842285, 5.355642795562744, 2.976288080215454, 3.2152531147003174, 6.0838799476623535, 5.383157253265381, 6.085467338562012, 1.5892177820205688, 6.439182281494141, 1.3230092525482178, 1.0144411325454712, 7.024770736694336, 0.8915947079658508, 2.877230167388916, 2.937833070755005, 4.3711090087890625, 4.6297430992126465, 1.4093800783157349, 5.250396728515625, 6.932777404785156, 1.9451926946640015, 4.580916404724121, 4.215214252471924, 5.839157581329346, 0.6484427452087402, 0.8692265152931213, 2.49855899810791, 6.018136501312256, 5.994926452636719, 4.8499040603637695, 3.384050130844116, 5.76406717300415, 3.265615463256836, 1.8236057758331299, 3.7876672744750977, 3.392927408218384, 5.198145866394043, 6.02290678024292, 5.832469940185547, 3.3726766109466553, 3.0034234523773193, 7.125003337860107, 1.2146676778793335, 6.781331539154053, 0.5493714809417725, 6.22091007232666, 3.291447639465332, 7.199038982391357, 5.678606986999512, 3.0116429328918457, 0.6136326193809509, 0.6909111142158508, 5.12770414352417, 3.4028429985046387, 3.332442283630371, 7.015133857727051, 3.924684524536133, 3.568779945373535, 4.1641621589660645, 4.0702595710754395, 4.163140773773193, 2.359933853149414, 0.7861548066139221, 2.9737348556518555, 1.8449733257293701, 1.0687272548675537, 6.695012092590332, 7.0054216384887695, 1.2914692163467407, 6.057535648345947, 2.499614953994751, 3.2091050148010254, 4.17762565612793, 5.96829891204834, 3.8081467151641846, 1.7909517288208008, 6.951083660125732, 6.552674293518066, 2.698352098464966]}, {\"hovertemplate\": \"Dominant_Topic=Topic 3<br>0=%{x}<br>1=%{y}<br>2=%{z}<extra></extra>\", \"legendgroup\": \"Topic 3\", \"marker\": {\"color\": \"#ab63fa\", \"opacity\": 0.7, \"symbol\": \"circle\"}, \"mode\": \"markers\", \"name\": \"Topic 3\", \"scene\": \"scene\", \"showlegend\": true, \"type\": \"scatter3d\", \"x\": [-12.248682975769043, -11.874711990356445, -11.465171813964844, -12.038154602050781, -11.778656959533691, -11.839869499206543, -12.472214698791504, -11.30211353302002, -11.197495460510254, -11.526423454284668, -11.471620559692383, -12.494088172912598, -11.815350532531738, -11.536248207092285, -12.369691848754883, -12.052978515625, -12.298151016235352, -12.07982063293457, -12.26742935180664, -11.332796096801758, -11.555618286132812, -11.732728958129883, -12.18051815032959, -12.190319061279297, -12.21363353729248, -11.542290687561035, -11.828404426574707, -11.805412292480469, -12.393448829650879], \"y\": [3.705185651779175, 3.3199992179870605, 3.6121015548706055, 2.9147560596466064, 3.7627463340759277, 3.099915027618408, 3.547290563583374, 3.1482064723968506, 2.8567874431610107, 3.0512115955352783, 3.326802968978882, 3.345440626144409, 3.899689197540283, 3.0899569988250732, 3.8302626609802246, 3.5210728645324707, 3.096818685531616, 3.8681931495666504, 3.4127790927886963, 2.953599691390991, 2.8938660621643066, 3.663464069366455, 3.0026309490203857, 3.87129545211792, 3.3655972480773926, 3.5267579555511475, 3.730027914047241, 2.9594197273254395, 3.3370540142059326], \"z\": [-7.467813491821289, -7.327071666717529, -7.91023588180542, -7.963418483734131, -7.5470967292785645, -8.339372634887695, -8.006986618041992, -8.065716743469238, -8.248859405517578, -7.6602606773376465, -7.622989177703857, -7.793510437011719, -7.87397575378418, -8.33810806274414, -7.879002094268799, -8.326292037963867, -8.054794311523438, -8.061927795410156, -8.260113716125488, -8.190112113952637, -8.08942699432373, -7.491621971130371, -7.69985818862915, -7.598291397094727, -7.38052225112915, -8.230223655700684, -8.20753002166748, -7.610254764556885, -7.51509428024292]}],                        {\"height\": 800, \"legend\": {\"title\": {\"text\": \"Dominant_Topic\"}, \"tracegroupgap\": 0}, \"scene\": {\"domain\": {\"x\": [0.0, 1.0], \"y\": [0.0, 1.0]}, \"xaxis\": {\"title\": {\"text\": \"0\"}}, \"yaxis\": {\"title\": {\"text\": \"1\"}}, \"zaxis\": {\"title\": {\"text\": \"2\"}}}, \"template\": {\"data\": {\"bar\": [{\"error_x\": {\"color\": \"#2a3f5f\"}, \"error_y\": {\"color\": \"#2a3f5f\"}, \"marker\": {\"line\": {\"color\": \"#E5ECF6\", \"width\": 0.5}}, \"type\": \"bar\"}], \"barpolar\": [{\"marker\": {\"line\": {\"color\": \"#E5ECF6\", \"width\": 0.5}}, \"type\": \"barpolar\"}], \"carpet\": [{\"aaxis\": {\"endlinecolor\": \"#2a3f5f\", \"gridcolor\": \"white\", \"linecolor\": \"white\", \"minorgridcolor\": \"white\", \"startlinecolor\": \"#2a3f5f\"}, \"baxis\": {\"endlinecolor\": \"#2a3f5f\", \"gridcolor\": \"white\", \"linecolor\": \"white\", \"minorgridcolor\": \"white\", \"startlinecolor\": \"#2a3f5f\"}, \"type\": \"carpet\"}], \"choropleth\": [{\"colorbar\": {\"outlinewidth\": 0, \"ticks\": \"\"}, \"type\": \"choropleth\"}], \"contour\": [{\"colorbar\": {\"outlinewidth\": 0, \"ticks\": \"\"}, \"colorscale\": [[0.0, \"#0d0887\"], [0.1111111111111111, \"#46039f\"], [0.2222222222222222, \"#7201a8\"], [0.3333333333333333, \"#9c179e\"], [0.4444444444444444, \"#bd3786\"], [0.5555555555555556, \"#d8576b\"], [0.6666666666666666, \"#ed7953\"], [0.7777777777777778, \"#fb9f3a\"], [0.8888888888888888, \"#fdca26\"], [1.0, \"#f0f921\"]], \"type\": \"contour\"}], \"contourcarpet\": [{\"colorbar\": {\"outlinewidth\": 0, \"ticks\": \"\"}, \"type\": \"contourcarpet\"}], \"heatmap\": [{\"colorbar\": {\"outlinewidth\": 0, \"ticks\": \"\"}, \"colorscale\": [[0.0, \"#0d0887\"], [0.1111111111111111, \"#46039f\"], [0.2222222222222222, \"#7201a8\"], [0.3333333333333333, \"#9c179e\"], [0.4444444444444444, \"#bd3786\"], [0.5555555555555556, \"#d8576b\"], [0.6666666666666666, \"#ed7953\"], [0.7777777777777778, \"#fb9f3a\"], [0.8888888888888888, \"#fdca26\"], [1.0, \"#f0f921\"]], \"type\": \"heatmap\"}], \"heatmapgl\": [{\"colorbar\": {\"outlinewidth\": 0, \"ticks\": \"\"}, \"colorscale\": [[0.0, \"#0d0887\"], [0.1111111111111111, \"#46039f\"], [0.2222222222222222, \"#7201a8\"], [0.3333333333333333, \"#9c179e\"], [0.4444444444444444, \"#bd3786\"], [0.5555555555555556, \"#d8576b\"], [0.6666666666666666, \"#ed7953\"], [0.7777777777777778, \"#fb9f3a\"], [0.8888888888888888, \"#fdca26\"], [1.0, \"#f0f921\"]], \"type\": \"heatmapgl\"}], \"histogram\": [{\"marker\": {\"colorbar\": {\"outlinewidth\": 0, \"ticks\": \"\"}}, \"type\": \"histogram\"}], \"histogram2d\": [{\"colorbar\": {\"outlinewidth\": 0, \"ticks\": \"\"}, \"colorscale\": [[0.0, \"#0d0887\"], [0.1111111111111111, \"#46039f\"], [0.2222222222222222, \"#7201a8\"], [0.3333333333333333, \"#9c179e\"], [0.4444444444444444, \"#bd3786\"], [0.5555555555555556, \"#d8576b\"], [0.6666666666666666, \"#ed7953\"], [0.7777777777777778, \"#fb9f3a\"], [0.8888888888888888, \"#fdca26\"], [1.0, \"#f0f921\"]], \"type\": \"histogram2d\"}], \"histogram2dcontour\": [{\"colorbar\": {\"outlinewidth\": 0, \"ticks\": \"\"}, \"colorscale\": [[0.0, \"#0d0887\"], [0.1111111111111111, \"#46039f\"], [0.2222222222222222, \"#7201a8\"], [0.3333333333333333, \"#9c179e\"], [0.4444444444444444, \"#bd3786\"], [0.5555555555555556, \"#d8576b\"], [0.6666666666666666, \"#ed7953\"], [0.7777777777777778, \"#fb9f3a\"], [0.8888888888888888, \"#fdca26\"], [1.0, \"#f0f921\"]], \"type\": \"histogram2dcontour\"}], \"mesh3d\": [{\"colorbar\": {\"outlinewidth\": 0, \"ticks\": \"\"}, \"type\": \"mesh3d\"}], \"parcoords\": [{\"line\": {\"colorbar\": {\"outlinewidth\": 0, \"ticks\": \"\"}}, \"type\": \"parcoords\"}], \"pie\": [{\"automargin\": true, \"type\": \"pie\"}], \"scatter\": [{\"marker\": {\"colorbar\": {\"outlinewidth\": 0, \"ticks\": \"\"}}, \"type\": \"scatter\"}], \"scatter3d\": [{\"line\": {\"colorbar\": {\"outlinewidth\": 0, \"ticks\": \"\"}}, \"marker\": {\"colorbar\": {\"outlinewidth\": 0, \"ticks\": \"\"}}, \"type\": \"scatter3d\"}], \"scattercarpet\": [{\"marker\": {\"colorbar\": {\"outlinewidth\": 0, \"ticks\": \"\"}}, \"type\": \"scattercarpet\"}], \"scattergeo\": [{\"marker\": {\"colorbar\": {\"outlinewidth\": 0, \"ticks\": \"\"}}, \"type\": \"scattergeo\"}], \"scattergl\": [{\"marker\": {\"colorbar\": {\"outlinewidth\": 0, \"ticks\": \"\"}}, \"type\": \"scattergl\"}], \"scattermapbox\": [{\"marker\": {\"colorbar\": {\"outlinewidth\": 0, \"ticks\": \"\"}}, \"type\": \"scattermapbox\"}], \"scatterpolar\": [{\"marker\": {\"colorbar\": {\"outlinewidth\": 0, \"ticks\": \"\"}}, \"type\": \"scatterpolar\"}], \"scatterpolargl\": [{\"marker\": {\"colorbar\": {\"outlinewidth\": 0, \"ticks\": \"\"}}, \"type\": \"scatterpolargl\"}], \"scatterternary\": [{\"marker\": {\"colorbar\": {\"outlinewidth\": 0, \"ticks\": \"\"}}, \"type\": \"scatterternary\"}], \"surface\": [{\"colorbar\": {\"outlinewidth\": 0, \"ticks\": \"\"}, \"colorscale\": [[0.0, \"#0d0887\"], [0.1111111111111111, \"#46039f\"], [0.2222222222222222, \"#7201a8\"], [0.3333333333333333, \"#9c179e\"], [0.4444444444444444, \"#bd3786\"], [0.5555555555555556, \"#d8576b\"], [0.6666666666666666, \"#ed7953\"], [0.7777777777777778, \"#fb9f3a\"], [0.8888888888888888, \"#fdca26\"], [1.0, \"#f0f921\"]], \"type\": \"surface\"}], \"table\": [{\"cells\": {\"fill\": {\"color\": \"#EBF0F8\"}, \"line\": {\"color\": \"white\"}}, \"header\": {\"fill\": {\"color\": \"#C8D4E3\"}, \"line\": {\"color\": \"white\"}}, \"type\": \"table\"}]}, \"layout\": {\"annotationdefaults\": {\"arrowcolor\": \"#2a3f5f\", \"arrowhead\": 0, \"arrowwidth\": 1}, \"autotypenumbers\": \"strict\", \"coloraxis\": {\"colorbar\": {\"outlinewidth\": 0, \"ticks\": \"\"}}, \"colorscale\": {\"diverging\": [[0, \"#8e0152\"], [0.1, \"#c51b7d\"], [0.2, \"#de77ae\"], [0.3, \"#f1b6da\"], [0.4, \"#fde0ef\"], [0.5, \"#f7f7f7\"], [0.6, \"#e6f5d0\"], [0.7, \"#b8e186\"], [0.8, \"#7fbc41\"], [0.9, \"#4d9221\"], [1, \"#276419\"]], \"sequential\": [[0.0, \"#0d0887\"], [0.1111111111111111, \"#46039f\"], [0.2222222222222222, \"#7201a8\"], [0.3333333333333333, \"#9c179e\"], [0.4444444444444444, \"#bd3786\"], [0.5555555555555556, \"#d8576b\"], [0.6666666666666666, \"#ed7953\"], [0.7777777777777778, \"#fb9f3a\"], [0.8888888888888888, \"#fdca26\"], [1.0, \"#f0f921\"]], \"sequentialminus\": [[0.0, \"#0d0887\"], [0.1111111111111111, \"#46039f\"], [0.2222222222222222, \"#7201a8\"], [0.3333333333333333, \"#9c179e\"], [0.4444444444444444, \"#bd3786\"], [0.5555555555555556, \"#d8576b\"], [0.6666666666666666, \"#ed7953\"], [0.7777777777777778, \"#fb9f3a\"], [0.8888888888888888, \"#fdca26\"], [1.0, \"#f0f921\"]]}, \"colorway\": [\"#636efa\", \"#EF553B\", \"#00cc96\", \"#ab63fa\", \"#FFA15A\", \"#19d3f3\", \"#FF6692\", \"#B6E880\", \"#FF97FF\", \"#FECB52\"], \"font\": {\"color\": \"#2a3f5f\"}, \"geo\": {\"bgcolor\": \"white\", \"lakecolor\": \"white\", \"landcolor\": \"#E5ECF6\", \"showlakes\": true, \"showland\": true, \"subunitcolor\": \"white\"}, \"hoverlabel\": {\"align\": \"left\"}, \"hovermode\": \"closest\", \"mapbox\": {\"style\": \"light\"}, \"paper_bgcolor\": \"white\", \"plot_bgcolor\": \"#E5ECF6\", \"polar\": {\"angularaxis\": {\"gridcolor\": \"white\", \"linecolor\": \"white\", \"ticks\": \"\"}, \"bgcolor\": \"#E5ECF6\", \"radialaxis\": {\"gridcolor\": \"white\", \"linecolor\": \"white\", \"ticks\": \"\"}}, \"scene\": {\"xaxis\": {\"backgroundcolor\": \"#E5ECF6\", \"gridcolor\": \"white\", \"gridwidth\": 2, \"linecolor\": \"white\", \"showbackground\": true, \"ticks\": \"\", \"zerolinecolor\": \"white\"}, \"yaxis\": {\"backgroundcolor\": \"#E5ECF6\", \"gridcolor\": \"white\", \"gridwidth\": 2, \"linecolor\": \"white\", \"showbackground\": true, \"ticks\": \"\", \"zerolinecolor\": \"white\"}, \"zaxis\": {\"backgroundcolor\": \"#E5ECF6\", \"gridcolor\": \"white\", \"gridwidth\": 2, \"linecolor\": \"white\", \"showbackground\": true, \"ticks\": \"\", \"zerolinecolor\": \"white\"}}, \"shapedefaults\": {\"line\": {\"color\": \"#2a3f5f\"}}, \"ternary\": {\"aaxis\": {\"gridcolor\": \"white\", \"linecolor\": \"white\", \"ticks\": \"\"}, \"baxis\": {\"gridcolor\": \"white\", \"linecolor\": \"white\", \"ticks\": \"\"}, \"bgcolor\": \"#E5ECF6\", \"caxis\": {\"gridcolor\": \"white\", \"linecolor\": \"white\", \"ticks\": \"\"}}, \"title\": {\"x\": 0.05}, \"xaxis\": {\"automargin\": true, \"gridcolor\": \"white\", \"linecolor\": \"white\", \"ticks\": \"\", \"title\": {\"standoff\": 15}, \"zerolinecolor\": \"white\", \"zerolinewidth\": 2}, \"yaxis\": {\"automargin\": true, \"gridcolor\": \"white\", \"linecolor\": \"white\", \"ticks\": \"\", \"title\": {\"standoff\": 15}, \"zerolinecolor\": \"white\", \"zerolinewidth\": 2}}}, \"title\": {\"text\": \"3d TSNE Plot for Topic Model\"}, \"width\": 900},                        {\"responsive\": true}                    ).then(function(){\n",
       "                            \n",
       "var gd = document.getElementById('315a7dd3-a458-440b-ba99-49f0170cf847');\n",
       "var x = new MutationObserver(function (mutations, observer) {{\n",
       "        var display = window.getComputedStyle(gd).display;\n",
       "        if (!display || display === 'none') {{\n",
       "            console.log([gd, 'removed!']);\n",
       "            Plotly.purge(gd);\n",
       "            observer.disconnect();\n",
       "        }}\n",
       "}});\n",
       "\n",
       "// Listen for the removal of the full notebook cells\n",
       "var notebookContainer = gd.closest('#notebook-container');\n",
       "if (notebookContainer) {{\n",
       "    x.observe(notebookContainer, {childList: true});\n",
       "}}\n",
       "\n",
       "// Listen for the clearing of the current output cell\n",
       "var outputEl = gd.closest('.output');\n",
       "if (outputEl) {{\n",
       "    x.observe(outputEl, {childList: true});\n",
       "}}\n",
       "\n",
       "                        })                };                });            </script>        </div>"
      ]
     },
     "metadata": {},
     "output_type": "display_data"
    }
   ],
   "source": [
    "plot_model(lda, plot = 'tsne')"
   ]
  },
  {
   "cell_type": "markdown",
   "metadata": {},
   "source": [
    "***[How Exactly UMAP Works](https://towardsdatascience.com/how-exactly-umap-works-13e3040e1668)***"
   ]
  },
  {
   "cell_type": "code",
   "execution_count": 14,
   "metadata": {},
   "outputs": [
    {
     "data": {
      "text/html": [
       "        <script type=\"text/javascript\">\n",
       "        window.PlotlyConfig = {MathJaxConfig: 'local'};\n",
       "        if (window.MathJax) {MathJax.Hub.Config({SVG: {font: \"STIX-Web\"}});}\n",
       "        if (typeof require !== 'undefined') {\n",
       "        require.undef(\"plotly\");\n",
       "        requirejs.config({\n",
       "            paths: {\n",
       "                'plotly': ['https://cdn.plot.ly/plotly-latest.min']\n",
       "            }\n",
       "        });\n",
       "        require(['plotly'], function(Plotly) {\n",
       "            window._Plotly = Plotly;\n",
       "        });\n",
       "        }\n",
       "        </script>\n",
       "        "
      ]
     },
     "metadata": {},
     "output_type": "display_data"
    },
    {
     "data": {
      "image/png": "[encoded data removed]",
      "text/plain": [
       "<Figure size 720x432 with 1 Axes>"
      ]
     },
     "metadata": {},
     "output_type": "display_data"
    }
   ],
   "source": [
    "plot_model(lda, plot = 'umap')"
   ]
  },
  {
   "cell_type": "code",
   "execution_count": 26,
   "metadata": {},
   "outputs": [
    {
     "data": {
      "application/vnd.jupyter.widget-view+json": {
       "model_id": "e7edb59b663544b084c639c4f7c40aad",
       "version_major": 2,
       "version_minor": 0
      },
      "text/plain": [
       "interactive(children=(ToggleButtons(description='Plot Type:', icons=('',), options=(('Hyperparameters', 'param…"
      ]
     },
     "metadata": {},
     "output_type": "display_data"
    }
   ],
   "source": [
    "evaluate_model(lda)"
   ]
  },
  {
   "cell_type": "markdown",
   "metadata": {},
   "source": [
    "______________"
   ]
  },
  {
   "cell_type": "markdown",
   "metadata": {},
   "source": [
    "***Otros Modelos en PyCaret***\n",
    "* [Anomaly Detection](https://github.com/pycaret/pycaret/blob/master/tutorials/Anomaly%20Detection%20Tutorial%20Level%20Beginner%20-%20ANO101.ipynb)\n",
    "* [Association Rule](https://github.com/pycaret/pycaret/blob/master/tutorials/Association%20Rule%20Mining%20Tutorial%20-%20ARUL01.ipynb)\n",
    "* [Binary Classification](https://github.com/pycaret/pycaret/blob/master/tutorials/Binary%20Classification%20Tutorial%20Level%20Beginner%20-%20%20CLF101.ipynb)\n",
    "* [Clustering](https://github.com/pycaret/pycaret/blob/master/tutorials/Clustering%20Tutorial%20Level%20Beginner%20-%20CLU101.ipynb)\n",
    "* [Multiclass Classification](https://github.com/pycaret/pycaret/blob/master/tutorials/Multiclass%20Classification%20Tutorial%20Level%20Beginner%20-%20MCLF101.ipynb)"
   ]
  },
  {
   "cell_type": "markdown",
   "metadata": {},
   "source": [
    "_______________________"
   ]
  },
  {
   "cell_type": "markdown",
   "metadata": {},
   "source": [
    "## [MLFlow: Open ource platform for the machine learning lifecycle](https://mlflow.org/)"
   ]
  },
  {
   "cell_type": "code",
   "execution_count": 16,
   "metadata": {},
   "outputs": [
    {
     "data": {
      "text/html": [
       "<div>\n",
       "<style scoped>\n",
       "    .dataframe tbody tr th:only-of-type {\n",
       "        vertical-align: middle;\n",
       "    }\n",
       "\n",
       "    .dataframe tbody tr th {\n",
       "        vertical-align: top;\n",
       "    }\n",
       "\n",
       "    .dataframe thead th {\n",
       "        text-align: right;\n",
       "    }\n",
       "</style>\n",
       "<table border=\"1\" class=\"dataframe\">\n",
       "  <thead>\n",
       "    <tr style=\"text-align: right;\">\n",
       "      <th></th>\n",
       "      <th>Number of times pregnant</th>\n",
       "      <th>Plasma glucose concentration a 2 hours in an oral glucose tolerance test</th>\n",
       "      <th>Diastolic blood pressure (mm Hg)</th>\n",
       "      <th>Triceps skin fold thickness (mm)</th>\n",
       "      <th>2-Hour serum insulin (mu U/ml)</th>\n",
       "      <th>Body mass index (weight in kg/(height in m)^2)</th>\n",
       "      <th>Diabetes pedigree function</th>\n",
       "      <th>Age (years)</th>\n",
       "      <th>Class variable</th>\n",
       "    </tr>\n",
       "  </thead>\n",
       "  <tbody>\n",
       "    <tr>\n",
       "      <th>0</th>\n",
       "      <td>6</td>\n",
       "      <td>148</td>\n",
       "      <td>72</td>\n",
       "      <td>35</td>\n",
       "      <td>0</td>\n",
       "      <td>33.6</td>\n",
       "      <td>0.627</td>\n",
       "      <td>50</td>\n",
       "      <td>1</td>\n",
       "    </tr>\n",
       "    <tr>\n",
       "      <th>1</th>\n",
       "      <td>1</td>\n",
       "      <td>85</td>\n",
       "      <td>66</td>\n",
       "      <td>29</td>\n",
       "      <td>0</td>\n",
       "      <td>26.6</td>\n",
       "      <td>0.351</td>\n",
       "      <td>31</td>\n",
       "      <td>0</td>\n",
       "    </tr>\n",
       "    <tr>\n",
       "      <th>2</th>\n",
       "      <td>8</td>\n",
       "      <td>183</td>\n",
       "      <td>64</td>\n",
       "      <td>0</td>\n",
       "      <td>0</td>\n",
       "      <td>23.3</td>\n",
       "      <td>0.672</td>\n",
       "      <td>32</td>\n",
       "      <td>1</td>\n",
       "    </tr>\n",
       "    <tr>\n",
       "      <th>3</th>\n",
       "      <td>1</td>\n",
       "      <td>89</td>\n",
       "      <td>66</td>\n",
       "      <td>23</td>\n",
       "      <td>94</td>\n",
       "      <td>28.1</td>\n",
       "      <td>0.167</td>\n",
       "      <td>21</td>\n",
       "      <td>0</td>\n",
       "    </tr>\n",
       "    <tr>\n",
       "      <th>4</th>\n",
       "      <td>0</td>\n",
       "      <td>137</td>\n",
       "      <td>40</td>\n",
       "      <td>35</td>\n",
       "      <td>168</td>\n",
       "      <td>43.1</td>\n",
       "      <td>2.288</td>\n",
       "      <td>33</td>\n",
       "      <td>1</td>\n",
       "    </tr>\n",
       "  </tbody>\n",
       "</table>\n",
       "</div>"
      ],
      "text/plain": [
       "   Number of times pregnant  \\\n",
       "0                         6   \n",
       "1                         1   \n",
       "2                         8   \n",
       "3                         1   \n",
       "4                         0   \n",
       "\n",
       "   Plasma glucose concentration a 2 hours in an oral glucose tolerance test  \\\n",
       "0                                                148                          \n",
       "1                                                 85                          \n",
       "2                                                183                          \n",
       "3                                                 89                          \n",
       "4                                                137                          \n",
       "\n",
       "   Diastolic blood pressure (mm Hg)  Triceps skin fold thickness (mm)  \\\n",
       "0                                72                                35   \n",
       "1                                66                                29   \n",
       "2                                64                                 0   \n",
       "3                                66                                23   \n",
       "4                                40                                35   \n",
       "\n",
       "   2-Hour serum insulin (mu U/ml)  \\\n",
       "0                               0   \n",
       "1                               0   \n",
       "2                               0   \n",
       "3                              94   \n",
       "4                             168   \n",
       "\n",
       "   Body mass index (weight in kg/(height in m)^2)  Diabetes pedigree function  \\\n",
       "0                                            33.6                       0.627   \n",
       "1                                            26.6                       0.351   \n",
       "2                                            23.3                       0.672   \n",
       "3                                            28.1                       0.167   \n",
       "4                                            43.1                       2.288   \n",
       "\n",
       "   Age (years)  Class variable  \n",
       "0           50               1  \n",
       "1           31               0  \n",
       "2           32               1  \n",
       "3           21               0  \n",
       "4           33               1  "
      ]
     },
     "metadata": {},
     "output_type": "display_data"
    }
   ],
   "source": [
    "from pycaret.datasets import get_data\n",
    "data = get_data('diabetes')"
   ]
  },
  {
   "cell_type": "code",
   "execution_count": 17,
   "metadata": {},
   "outputs": [],
   "source": [
    "from pycaret.classification import *"
   ]
  },
  {
   "cell_type": "code",
   "execution_count": 18,
   "metadata": {},
   "outputs": [
    {
     "data": {
      "text/html": [
       "<style  type=\"text/css\" >\n",
       "    #T_6b7bdc7c_0804_11ec_ae26_80c5f20e49e9row19_col1 {\n",
       "            background-color:  lightgreen;\n",
       "        }</style><table id=\"T_6b7bdc7c_0804_11ec_ae26_80c5f20e49e9\" ><thead>    <tr>        <th class=\"blank level0\" ></th>        <th class=\"col_heading level0 col0\" >Description</th>        <th class=\"col_heading level0 col1\" >Value</th>    </tr></thead><tbody>\n",
       "                <tr>\n",
       "                        <th id=\"T_6b7bdc7c_0804_11ec_ae26_80c5f20e49e9level0_row0\" class=\"row_heading level0 row0\" >0</th>\n",
       "                        <td id=\"T_6b7bdc7c_0804_11ec_ae26_80c5f20e49e9row0_col0\" class=\"data row0 col0\" >session_id</td>\n",
       "                        <td id=\"T_6b7bdc7c_0804_11ec_ae26_80c5f20e49e9row0_col1\" class=\"data row0 col1\" >1004</td>\n",
       "            </tr>\n",
       "            <tr>\n",
       "                        <th id=\"T_6b7bdc7c_0804_11ec_ae26_80c5f20e49e9level0_row1\" class=\"row_heading level0 row1\" >1</th>\n",
       "                        <td id=\"T_6b7bdc7c_0804_11ec_ae26_80c5f20e49e9row1_col0\" class=\"data row1 col0\" >Target</td>\n",
       "                        <td id=\"T_6b7bdc7c_0804_11ec_ae26_80c5f20e49e9row1_col1\" class=\"data row1 col1\" >Class variable</td>\n",
       "            </tr>\n",
       "            <tr>\n",
       "                        <th id=\"T_6b7bdc7c_0804_11ec_ae26_80c5f20e49e9level0_row2\" class=\"row_heading level0 row2\" >2</th>\n",
       "                        <td id=\"T_6b7bdc7c_0804_11ec_ae26_80c5f20e49e9row2_col0\" class=\"data row2 col0\" >Target Type</td>\n",
       "                        <td id=\"T_6b7bdc7c_0804_11ec_ae26_80c5f20e49e9row2_col1\" class=\"data row2 col1\" >Binary</td>\n",
       "            </tr>\n",
       "            <tr>\n",
       "                        <th id=\"T_6b7bdc7c_0804_11ec_ae26_80c5f20e49e9level0_row3\" class=\"row_heading level0 row3\" >3</th>\n",
       "                        <td id=\"T_6b7bdc7c_0804_11ec_ae26_80c5f20e49e9row3_col0\" class=\"data row3 col0\" >Label Encoded</td>\n",
       "                        <td id=\"T_6b7bdc7c_0804_11ec_ae26_80c5f20e49e9row3_col1\" class=\"data row3 col1\" >0: 0, 1: 1</td>\n",
       "            </tr>\n",
       "            <tr>\n",
       "                        <th id=\"T_6b7bdc7c_0804_11ec_ae26_80c5f20e49e9level0_row4\" class=\"row_heading level0 row4\" >4</th>\n",
       "                        <td id=\"T_6b7bdc7c_0804_11ec_ae26_80c5f20e49e9row4_col0\" class=\"data row4 col0\" >Original Data</td>\n",
       "                        <td id=\"T_6b7bdc7c_0804_11ec_ae26_80c5f20e49e9row4_col1\" class=\"data row4 col1\" >(768, 9)</td>\n",
       "            </tr>\n",
       "            <tr>\n",
       "                        <th id=\"T_6b7bdc7c_0804_11ec_ae26_80c5f20e49e9level0_row5\" class=\"row_heading level0 row5\" >5</th>\n",
       "                        <td id=\"T_6b7bdc7c_0804_11ec_ae26_80c5f20e49e9row5_col0\" class=\"data row5 col0\" >Missing Values</td>\n",
       "                        <td id=\"T_6b7bdc7c_0804_11ec_ae26_80c5f20e49e9row5_col1\" class=\"data row5 col1\" >False</td>\n",
       "            </tr>\n",
       "            <tr>\n",
       "                        <th id=\"T_6b7bdc7c_0804_11ec_ae26_80c5f20e49e9level0_row6\" class=\"row_heading level0 row6\" >6</th>\n",
       "                        <td id=\"T_6b7bdc7c_0804_11ec_ae26_80c5f20e49e9row6_col0\" class=\"data row6 col0\" >Numeric Features</td>\n",
       "                        <td id=\"T_6b7bdc7c_0804_11ec_ae26_80c5f20e49e9row6_col1\" class=\"data row6 col1\" >7</td>\n",
       "            </tr>\n",
       "            <tr>\n",
       "                        <th id=\"T_6b7bdc7c_0804_11ec_ae26_80c5f20e49e9level0_row7\" class=\"row_heading level0 row7\" >7</th>\n",
       "                        <td id=\"T_6b7bdc7c_0804_11ec_ae26_80c5f20e49e9row7_col0\" class=\"data row7 col0\" >Categorical Features</td>\n",
       "                        <td id=\"T_6b7bdc7c_0804_11ec_ae26_80c5f20e49e9row7_col1\" class=\"data row7 col1\" >1</td>\n",
       "            </tr>\n",
       "            <tr>\n",
       "                        <th id=\"T_6b7bdc7c_0804_11ec_ae26_80c5f20e49e9level0_row8\" class=\"row_heading level0 row8\" >8</th>\n",
       "                        <td id=\"T_6b7bdc7c_0804_11ec_ae26_80c5f20e49e9row8_col0\" class=\"data row8 col0\" >Ordinal Features</td>\n",
       "                        <td id=\"T_6b7bdc7c_0804_11ec_ae26_80c5f20e49e9row8_col1\" class=\"data row8 col1\" >False</td>\n",
       "            </tr>\n",
       "            <tr>\n",
       "                        <th id=\"T_6b7bdc7c_0804_11ec_ae26_80c5f20e49e9level0_row9\" class=\"row_heading level0 row9\" >9</th>\n",
       "                        <td id=\"T_6b7bdc7c_0804_11ec_ae26_80c5f20e49e9row9_col0\" class=\"data row9 col0\" >High Cardinality Features</td>\n",
       "                        <td id=\"T_6b7bdc7c_0804_11ec_ae26_80c5f20e49e9row9_col1\" class=\"data row9 col1\" >False</td>\n",
       "            </tr>\n",
       "            <tr>\n",
       "                        <th id=\"T_6b7bdc7c_0804_11ec_ae26_80c5f20e49e9level0_row10\" class=\"row_heading level0 row10\" >10</th>\n",
       "                        <td id=\"T_6b7bdc7c_0804_11ec_ae26_80c5f20e49e9row10_col0\" class=\"data row10 col0\" >High Cardinality Method</td>\n",
       "                        <td id=\"T_6b7bdc7c_0804_11ec_ae26_80c5f20e49e9row10_col1\" class=\"data row10 col1\" >None</td>\n",
       "            </tr>\n",
       "            <tr>\n",
       "                        <th id=\"T_6b7bdc7c_0804_11ec_ae26_80c5f20e49e9level0_row11\" class=\"row_heading level0 row11\" >11</th>\n",
       "                        <td id=\"T_6b7bdc7c_0804_11ec_ae26_80c5f20e49e9row11_col0\" class=\"data row11 col0\" >Transformed Train Set</td>\n",
       "                        <td id=\"T_6b7bdc7c_0804_11ec_ae26_80c5f20e49e9row11_col1\" class=\"data row11 col1\" >(537, 24)</td>\n",
       "            </tr>\n",
       "            <tr>\n",
       "                        <th id=\"T_6b7bdc7c_0804_11ec_ae26_80c5f20e49e9level0_row12\" class=\"row_heading level0 row12\" >12</th>\n",
       "                        <td id=\"T_6b7bdc7c_0804_11ec_ae26_80c5f20e49e9row12_col0\" class=\"data row12 col0\" >Transformed Test Set</td>\n",
       "                        <td id=\"T_6b7bdc7c_0804_11ec_ae26_80c5f20e49e9row12_col1\" class=\"data row12 col1\" >(231, 24)</td>\n",
       "            </tr>\n",
       "            <tr>\n",
       "                        <th id=\"T_6b7bdc7c_0804_11ec_ae26_80c5f20e49e9level0_row13\" class=\"row_heading level0 row13\" >13</th>\n",
       "                        <td id=\"T_6b7bdc7c_0804_11ec_ae26_80c5f20e49e9row13_col0\" class=\"data row13 col0\" >Shuffle Train-Test</td>\n",
       "                        <td id=\"T_6b7bdc7c_0804_11ec_ae26_80c5f20e49e9row13_col1\" class=\"data row13 col1\" >True</td>\n",
       "            </tr>\n",
       "            <tr>\n",
       "                        <th id=\"T_6b7bdc7c_0804_11ec_ae26_80c5f20e49e9level0_row14\" class=\"row_heading level0 row14\" >14</th>\n",
       "                        <td id=\"T_6b7bdc7c_0804_11ec_ae26_80c5f20e49e9row14_col0\" class=\"data row14 col0\" >Stratify Train-Test</td>\n",
       "                        <td id=\"T_6b7bdc7c_0804_11ec_ae26_80c5f20e49e9row14_col1\" class=\"data row14 col1\" >False</td>\n",
       "            </tr>\n",
       "            <tr>\n",
       "                        <th id=\"T_6b7bdc7c_0804_11ec_ae26_80c5f20e49e9level0_row15\" class=\"row_heading level0 row15\" >15</th>\n",
       "                        <td id=\"T_6b7bdc7c_0804_11ec_ae26_80c5f20e49e9row15_col0\" class=\"data row15 col0\" >Fold Generator</td>\n",
       "                        <td id=\"T_6b7bdc7c_0804_11ec_ae26_80c5f20e49e9row15_col1\" class=\"data row15 col1\" >StratifiedKFold</td>\n",
       "            </tr>\n",
       "            <tr>\n",
       "                        <th id=\"T_6b7bdc7c_0804_11ec_ae26_80c5f20e49e9level0_row16\" class=\"row_heading level0 row16\" >16</th>\n",
       "                        <td id=\"T_6b7bdc7c_0804_11ec_ae26_80c5f20e49e9row16_col0\" class=\"data row16 col0\" >Fold Number</td>\n",
       "                        <td id=\"T_6b7bdc7c_0804_11ec_ae26_80c5f20e49e9row16_col1\" class=\"data row16 col1\" >10</td>\n",
       "            </tr>\n",
       "            <tr>\n",
       "                        <th id=\"T_6b7bdc7c_0804_11ec_ae26_80c5f20e49e9level0_row17\" class=\"row_heading level0 row17\" >17</th>\n",
       "                        <td id=\"T_6b7bdc7c_0804_11ec_ae26_80c5f20e49e9row17_col0\" class=\"data row17 col0\" >CPU Jobs</td>\n",
       "                        <td id=\"T_6b7bdc7c_0804_11ec_ae26_80c5f20e49e9row17_col1\" class=\"data row17 col1\" >-1</td>\n",
       "            </tr>\n",
       "            <tr>\n",
       "                        <th id=\"T_6b7bdc7c_0804_11ec_ae26_80c5f20e49e9level0_row18\" class=\"row_heading level0 row18\" >18</th>\n",
       "                        <td id=\"T_6b7bdc7c_0804_11ec_ae26_80c5f20e49e9row18_col0\" class=\"data row18 col0\" >Use GPU</td>\n",
       "                        <td id=\"T_6b7bdc7c_0804_11ec_ae26_80c5f20e49e9row18_col1\" class=\"data row18 col1\" >False</td>\n",
       "            </tr>\n",
       "            <tr>\n",
       "                        <th id=\"T_6b7bdc7c_0804_11ec_ae26_80c5f20e49e9level0_row19\" class=\"row_heading level0 row19\" >19</th>\n",
       "                        <td id=\"T_6b7bdc7c_0804_11ec_ae26_80c5f20e49e9row19_col0\" class=\"data row19 col0\" >Log Experiment</td>\n",
       "                        <td id=\"T_6b7bdc7c_0804_11ec_ae26_80c5f20e49e9row19_col1\" class=\"data row19 col1\" >True</td>\n",
       "            </tr>\n",
       "            <tr>\n",
       "                        <th id=\"T_6b7bdc7c_0804_11ec_ae26_80c5f20e49e9level0_row20\" class=\"row_heading level0 row20\" >20</th>\n",
       "                        <td id=\"T_6b7bdc7c_0804_11ec_ae26_80c5f20e49e9row20_col0\" class=\"data row20 col0\" >Experiment Name</td>\n",
       "                        <td id=\"T_6b7bdc7c_0804_11ec_ae26_80c5f20e49e9row20_col1\" class=\"data row20 col1\" >diabetes_01</td>\n",
       "            </tr>\n",
       "            <tr>\n",
       "                        <th id=\"T_6b7bdc7c_0804_11ec_ae26_80c5f20e49e9level0_row21\" class=\"row_heading level0 row21\" >21</th>\n",
       "                        <td id=\"T_6b7bdc7c_0804_11ec_ae26_80c5f20e49e9row21_col0\" class=\"data row21 col0\" >USI</td>\n",
       "                        <td id=\"T_6b7bdc7c_0804_11ec_ae26_80c5f20e49e9row21_col1\" class=\"data row21 col1\" >7071</td>\n",
       "            </tr>\n",
       "            <tr>\n",
       "                        <th id=\"T_6b7bdc7c_0804_11ec_ae26_80c5f20e49e9level0_row22\" class=\"row_heading level0 row22\" >22</th>\n",
       "                        <td id=\"T_6b7bdc7c_0804_11ec_ae26_80c5f20e49e9row22_col0\" class=\"data row22 col0\" >Imputation Type</td>\n",
       "                        <td id=\"T_6b7bdc7c_0804_11ec_ae26_80c5f20e49e9row22_col1\" class=\"data row22 col1\" >simple</td>\n",
       "            </tr>\n",
       "            <tr>\n",
       "                        <th id=\"T_6b7bdc7c_0804_11ec_ae26_80c5f20e49e9level0_row23\" class=\"row_heading level0 row23\" >23</th>\n",
       "                        <td id=\"T_6b7bdc7c_0804_11ec_ae26_80c5f20e49e9row23_col0\" class=\"data row23 col0\" >Iterative Imputation Iteration</td>\n",
       "                        <td id=\"T_6b7bdc7c_0804_11ec_ae26_80c5f20e49e9row23_col1\" class=\"data row23 col1\" >None</td>\n",
       "            </tr>\n",
       "            <tr>\n",
       "                        <th id=\"T_6b7bdc7c_0804_11ec_ae26_80c5f20e49e9level0_row24\" class=\"row_heading level0 row24\" >24</th>\n",
       "                        <td id=\"T_6b7bdc7c_0804_11ec_ae26_80c5f20e49e9row24_col0\" class=\"data row24 col0\" >Numeric Imputer</td>\n",
       "                        <td id=\"T_6b7bdc7c_0804_11ec_ae26_80c5f20e49e9row24_col1\" class=\"data row24 col1\" >mean</td>\n",
       "            </tr>\n",
       "            <tr>\n",
       "                        <th id=\"T_6b7bdc7c_0804_11ec_ae26_80c5f20e49e9level0_row25\" class=\"row_heading level0 row25\" >25</th>\n",
       "                        <td id=\"T_6b7bdc7c_0804_11ec_ae26_80c5f20e49e9row25_col0\" class=\"data row25 col0\" >Iterative Imputation Numeric Model</td>\n",
       "                        <td id=\"T_6b7bdc7c_0804_11ec_ae26_80c5f20e49e9row25_col1\" class=\"data row25 col1\" >None</td>\n",
       "            </tr>\n",
       "            <tr>\n",
       "                        <th id=\"T_6b7bdc7c_0804_11ec_ae26_80c5f20e49e9level0_row26\" class=\"row_heading level0 row26\" >26</th>\n",
       "                        <td id=\"T_6b7bdc7c_0804_11ec_ae26_80c5f20e49e9row26_col0\" class=\"data row26 col0\" >Categorical Imputer</td>\n",
       "                        <td id=\"T_6b7bdc7c_0804_11ec_ae26_80c5f20e49e9row26_col1\" class=\"data row26 col1\" >constant</td>\n",
       "            </tr>\n",
       "            <tr>\n",
       "                        <th id=\"T_6b7bdc7c_0804_11ec_ae26_80c5f20e49e9level0_row27\" class=\"row_heading level0 row27\" >27</th>\n",
       "                        <td id=\"T_6b7bdc7c_0804_11ec_ae26_80c5f20e49e9row27_col0\" class=\"data row27 col0\" >Iterative Imputation Categorical Model</td>\n",
       "                        <td id=\"T_6b7bdc7c_0804_11ec_ae26_80c5f20e49e9row27_col1\" class=\"data row27 col1\" >None</td>\n",
       "            </tr>\n",
       "            <tr>\n",
       "                        <th id=\"T_6b7bdc7c_0804_11ec_ae26_80c5f20e49e9level0_row28\" class=\"row_heading level0 row28\" >28</th>\n",
       "                        <td id=\"T_6b7bdc7c_0804_11ec_ae26_80c5f20e49e9row28_col0\" class=\"data row28 col0\" >Unknown Categoricals Handling</td>\n",
       "                        <td id=\"T_6b7bdc7c_0804_11ec_ae26_80c5f20e49e9row28_col1\" class=\"data row28 col1\" >least_frequent</td>\n",
       "            </tr>\n",
       "            <tr>\n",
       "                        <th id=\"T_6b7bdc7c_0804_11ec_ae26_80c5f20e49e9level0_row29\" class=\"row_heading level0 row29\" >29</th>\n",
       "                        <td id=\"T_6b7bdc7c_0804_11ec_ae26_80c5f20e49e9row29_col0\" class=\"data row29 col0\" >Normalize</td>\n",
       "                        <td id=\"T_6b7bdc7c_0804_11ec_ae26_80c5f20e49e9row29_col1\" class=\"data row29 col1\" >False</td>\n",
       "            </tr>\n",
       "            <tr>\n",
       "                        <th id=\"T_6b7bdc7c_0804_11ec_ae26_80c5f20e49e9level0_row30\" class=\"row_heading level0 row30\" >30</th>\n",
       "                        <td id=\"T_6b7bdc7c_0804_11ec_ae26_80c5f20e49e9row30_col0\" class=\"data row30 col0\" >Normalize Method</td>\n",
       "                        <td id=\"T_6b7bdc7c_0804_11ec_ae26_80c5f20e49e9row30_col1\" class=\"data row30 col1\" >None</td>\n",
       "            </tr>\n",
       "            <tr>\n",
       "                        <th id=\"T_6b7bdc7c_0804_11ec_ae26_80c5f20e49e9level0_row31\" class=\"row_heading level0 row31\" >31</th>\n",
       "                        <td id=\"T_6b7bdc7c_0804_11ec_ae26_80c5f20e49e9row31_col0\" class=\"data row31 col0\" >Transformation</td>\n",
       "                        <td id=\"T_6b7bdc7c_0804_11ec_ae26_80c5f20e49e9row31_col1\" class=\"data row31 col1\" >False</td>\n",
       "            </tr>\n",
       "            <tr>\n",
       "                        <th id=\"T_6b7bdc7c_0804_11ec_ae26_80c5f20e49e9level0_row32\" class=\"row_heading level0 row32\" >32</th>\n",
       "                        <td id=\"T_6b7bdc7c_0804_11ec_ae26_80c5f20e49e9row32_col0\" class=\"data row32 col0\" >Transformation Method</td>\n",
       "                        <td id=\"T_6b7bdc7c_0804_11ec_ae26_80c5f20e49e9row32_col1\" class=\"data row32 col1\" >None</td>\n",
       "            </tr>\n",
       "            <tr>\n",
       "                        <th id=\"T_6b7bdc7c_0804_11ec_ae26_80c5f20e49e9level0_row33\" class=\"row_heading level0 row33\" >33</th>\n",
       "                        <td id=\"T_6b7bdc7c_0804_11ec_ae26_80c5f20e49e9row33_col0\" class=\"data row33 col0\" >PCA</td>\n",
       "                        <td id=\"T_6b7bdc7c_0804_11ec_ae26_80c5f20e49e9row33_col1\" class=\"data row33 col1\" >False</td>\n",
       "            </tr>\n",
       "            <tr>\n",
       "                        <th id=\"T_6b7bdc7c_0804_11ec_ae26_80c5f20e49e9level0_row34\" class=\"row_heading level0 row34\" >34</th>\n",
       "                        <td id=\"T_6b7bdc7c_0804_11ec_ae26_80c5f20e49e9row34_col0\" class=\"data row34 col0\" >PCA Method</td>\n",
       "                        <td id=\"T_6b7bdc7c_0804_11ec_ae26_80c5f20e49e9row34_col1\" class=\"data row34 col1\" >None</td>\n",
       "            </tr>\n",
       "            <tr>\n",
       "                        <th id=\"T_6b7bdc7c_0804_11ec_ae26_80c5f20e49e9level0_row35\" class=\"row_heading level0 row35\" >35</th>\n",
       "                        <td id=\"T_6b7bdc7c_0804_11ec_ae26_80c5f20e49e9row35_col0\" class=\"data row35 col0\" >PCA Components</td>\n",
       "                        <td id=\"T_6b7bdc7c_0804_11ec_ae26_80c5f20e49e9row35_col1\" class=\"data row35 col1\" >None</td>\n",
       "            </tr>\n",
       "            <tr>\n",
       "                        <th id=\"T_6b7bdc7c_0804_11ec_ae26_80c5f20e49e9level0_row36\" class=\"row_heading level0 row36\" >36</th>\n",
       "                        <td id=\"T_6b7bdc7c_0804_11ec_ae26_80c5f20e49e9row36_col0\" class=\"data row36 col0\" >Ignore Low Variance</td>\n",
       "                        <td id=\"T_6b7bdc7c_0804_11ec_ae26_80c5f20e49e9row36_col1\" class=\"data row36 col1\" >False</td>\n",
       "            </tr>\n",
       "            <tr>\n",
       "                        <th id=\"T_6b7bdc7c_0804_11ec_ae26_80c5f20e49e9level0_row37\" class=\"row_heading level0 row37\" >37</th>\n",
       "                        <td id=\"T_6b7bdc7c_0804_11ec_ae26_80c5f20e49e9row37_col0\" class=\"data row37 col0\" >Combine Rare Levels</td>\n",
       "                        <td id=\"T_6b7bdc7c_0804_11ec_ae26_80c5f20e49e9row37_col1\" class=\"data row37 col1\" >False</td>\n",
       "            </tr>\n",
       "            <tr>\n",
       "                        <th id=\"T_6b7bdc7c_0804_11ec_ae26_80c5f20e49e9level0_row38\" class=\"row_heading level0 row38\" >38</th>\n",
       "                        <td id=\"T_6b7bdc7c_0804_11ec_ae26_80c5f20e49e9row38_col0\" class=\"data row38 col0\" >Rare Level Threshold</td>\n",
       "                        <td id=\"T_6b7bdc7c_0804_11ec_ae26_80c5f20e49e9row38_col1\" class=\"data row38 col1\" >None</td>\n",
       "            </tr>\n",
       "            <tr>\n",
       "                        <th id=\"T_6b7bdc7c_0804_11ec_ae26_80c5f20e49e9level0_row39\" class=\"row_heading level0 row39\" >39</th>\n",
       "                        <td id=\"T_6b7bdc7c_0804_11ec_ae26_80c5f20e49e9row39_col0\" class=\"data row39 col0\" >Numeric Binning</td>\n",
       "                        <td id=\"T_6b7bdc7c_0804_11ec_ae26_80c5f20e49e9row39_col1\" class=\"data row39 col1\" >False</td>\n",
       "            </tr>\n",
       "            <tr>\n",
       "                        <th id=\"T_6b7bdc7c_0804_11ec_ae26_80c5f20e49e9level0_row40\" class=\"row_heading level0 row40\" >40</th>\n",
       "                        <td id=\"T_6b7bdc7c_0804_11ec_ae26_80c5f20e49e9row40_col0\" class=\"data row40 col0\" >Remove Outliers</td>\n",
       "                        <td id=\"T_6b7bdc7c_0804_11ec_ae26_80c5f20e49e9row40_col1\" class=\"data row40 col1\" >False</td>\n",
       "            </tr>\n",
       "            <tr>\n",
       "                        <th id=\"T_6b7bdc7c_0804_11ec_ae26_80c5f20e49e9level0_row41\" class=\"row_heading level0 row41\" >41</th>\n",
       "                        <td id=\"T_6b7bdc7c_0804_11ec_ae26_80c5f20e49e9row41_col0\" class=\"data row41 col0\" >Outliers Threshold</td>\n",
       "                        <td id=\"T_6b7bdc7c_0804_11ec_ae26_80c5f20e49e9row41_col1\" class=\"data row41 col1\" >None</td>\n",
       "            </tr>\n",
       "            <tr>\n",
       "                        <th id=\"T_6b7bdc7c_0804_11ec_ae26_80c5f20e49e9level0_row42\" class=\"row_heading level0 row42\" >42</th>\n",
       "                        <td id=\"T_6b7bdc7c_0804_11ec_ae26_80c5f20e49e9row42_col0\" class=\"data row42 col0\" >Remove Multicollinearity</td>\n",
       "                        <td id=\"T_6b7bdc7c_0804_11ec_ae26_80c5f20e49e9row42_col1\" class=\"data row42 col1\" >False</td>\n",
       "            </tr>\n",
       "            <tr>\n",
       "                        <th id=\"T_6b7bdc7c_0804_11ec_ae26_80c5f20e49e9level0_row43\" class=\"row_heading level0 row43\" >43</th>\n",
       "                        <td id=\"T_6b7bdc7c_0804_11ec_ae26_80c5f20e49e9row43_col0\" class=\"data row43 col0\" >Multicollinearity Threshold</td>\n",
       "                        <td id=\"T_6b7bdc7c_0804_11ec_ae26_80c5f20e49e9row43_col1\" class=\"data row43 col1\" >None</td>\n",
       "            </tr>\n",
       "            <tr>\n",
       "                        <th id=\"T_6b7bdc7c_0804_11ec_ae26_80c5f20e49e9level0_row44\" class=\"row_heading level0 row44\" >44</th>\n",
       "                        <td id=\"T_6b7bdc7c_0804_11ec_ae26_80c5f20e49e9row44_col0\" class=\"data row44 col0\" >Clustering</td>\n",
       "                        <td id=\"T_6b7bdc7c_0804_11ec_ae26_80c5f20e49e9row44_col1\" class=\"data row44 col1\" >False</td>\n",
       "            </tr>\n",
       "            <tr>\n",
       "                        <th id=\"T_6b7bdc7c_0804_11ec_ae26_80c5f20e49e9level0_row45\" class=\"row_heading level0 row45\" >45</th>\n",
       "                        <td id=\"T_6b7bdc7c_0804_11ec_ae26_80c5f20e49e9row45_col0\" class=\"data row45 col0\" >Clustering Iteration</td>\n",
       "                        <td id=\"T_6b7bdc7c_0804_11ec_ae26_80c5f20e49e9row45_col1\" class=\"data row45 col1\" >None</td>\n",
       "            </tr>\n",
       "            <tr>\n",
       "                        <th id=\"T_6b7bdc7c_0804_11ec_ae26_80c5f20e49e9level0_row46\" class=\"row_heading level0 row46\" >46</th>\n",
       "                        <td id=\"T_6b7bdc7c_0804_11ec_ae26_80c5f20e49e9row46_col0\" class=\"data row46 col0\" >Polynomial Features</td>\n",
       "                        <td id=\"T_6b7bdc7c_0804_11ec_ae26_80c5f20e49e9row46_col1\" class=\"data row46 col1\" >False</td>\n",
       "            </tr>\n",
       "            <tr>\n",
       "                        <th id=\"T_6b7bdc7c_0804_11ec_ae26_80c5f20e49e9level0_row47\" class=\"row_heading level0 row47\" >47</th>\n",
       "                        <td id=\"T_6b7bdc7c_0804_11ec_ae26_80c5f20e49e9row47_col0\" class=\"data row47 col0\" >Polynomial Degree</td>\n",
       "                        <td id=\"T_6b7bdc7c_0804_11ec_ae26_80c5f20e49e9row47_col1\" class=\"data row47 col1\" >None</td>\n",
       "            </tr>\n",
       "            <tr>\n",
       "                        <th id=\"T_6b7bdc7c_0804_11ec_ae26_80c5f20e49e9level0_row48\" class=\"row_heading level0 row48\" >48</th>\n",
       "                        <td id=\"T_6b7bdc7c_0804_11ec_ae26_80c5f20e49e9row48_col0\" class=\"data row48 col0\" >Trignometry Features</td>\n",
       "                        <td id=\"T_6b7bdc7c_0804_11ec_ae26_80c5f20e49e9row48_col1\" class=\"data row48 col1\" >False</td>\n",
       "            </tr>\n",
       "            <tr>\n",
       "                        <th id=\"T_6b7bdc7c_0804_11ec_ae26_80c5f20e49e9level0_row49\" class=\"row_heading level0 row49\" >49</th>\n",
       "                        <td id=\"T_6b7bdc7c_0804_11ec_ae26_80c5f20e49e9row49_col0\" class=\"data row49 col0\" >Polynomial Threshold</td>\n",
       "                        <td id=\"T_6b7bdc7c_0804_11ec_ae26_80c5f20e49e9row49_col1\" class=\"data row49 col1\" >None</td>\n",
       "            </tr>\n",
       "            <tr>\n",
       "                        <th id=\"T_6b7bdc7c_0804_11ec_ae26_80c5f20e49e9level0_row50\" class=\"row_heading level0 row50\" >50</th>\n",
       "                        <td id=\"T_6b7bdc7c_0804_11ec_ae26_80c5f20e49e9row50_col0\" class=\"data row50 col0\" >Group Features</td>\n",
       "                        <td id=\"T_6b7bdc7c_0804_11ec_ae26_80c5f20e49e9row50_col1\" class=\"data row50 col1\" >False</td>\n",
       "            </tr>\n",
       "            <tr>\n",
       "                        <th id=\"T_6b7bdc7c_0804_11ec_ae26_80c5f20e49e9level0_row51\" class=\"row_heading level0 row51\" >51</th>\n",
       "                        <td id=\"T_6b7bdc7c_0804_11ec_ae26_80c5f20e49e9row51_col0\" class=\"data row51 col0\" >Feature Selection</td>\n",
       "                        <td id=\"T_6b7bdc7c_0804_11ec_ae26_80c5f20e49e9row51_col1\" class=\"data row51 col1\" >False</td>\n",
       "            </tr>\n",
       "            <tr>\n",
       "                        <th id=\"T_6b7bdc7c_0804_11ec_ae26_80c5f20e49e9level0_row52\" class=\"row_heading level0 row52\" >52</th>\n",
       "                        <td id=\"T_6b7bdc7c_0804_11ec_ae26_80c5f20e49e9row52_col0\" class=\"data row52 col0\" >Feature Selection Method</td>\n",
       "                        <td id=\"T_6b7bdc7c_0804_11ec_ae26_80c5f20e49e9row52_col1\" class=\"data row52 col1\" >classic</td>\n",
       "            </tr>\n",
       "            <tr>\n",
       "                        <th id=\"T_6b7bdc7c_0804_11ec_ae26_80c5f20e49e9level0_row53\" class=\"row_heading level0 row53\" >53</th>\n",
       "                        <td id=\"T_6b7bdc7c_0804_11ec_ae26_80c5f20e49e9row53_col0\" class=\"data row53 col0\" >Features Selection Threshold</td>\n",
       "                        <td id=\"T_6b7bdc7c_0804_11ec_ae26_80c5f20e49e9row53_col1\" class=\"data row53 col1\" >None</td>\n",
       "            </tr>\n",
       "            <tr>\n",
       "                        <th id=\"T_6b7bdc7c_0804_11ec_ae26_80c5f20e49e9level0_row54\" class=\"row_heading level0 row54\" >54</th>\n",
       "                        <td id=\"T_6b7bdc7c_0804_11ec_ae26_80c5f20e49e9row54_col0\" class=\"data row54 col0\" >Feature Interaction</td>\n",
       "                        <td id=\"T_6b7bdc7c_0804_11ec_ae26_80c5f20e49e9row54_col1\" class=\"data row54 col1\" >False</td>\n",
       "            </tr>\n",
       "            <tr>\n",
       "                        <th id=\"T_6b7bdc7c_0804_11ec_ae26_80c5f20e49e9level0_row55\" class=\"row_heading level0 row55\" >55</th>\n",
       "                        <td id=\"T_6b7bdc7c_0804_11ec_ae26_80c5f20e49e9row55_col0\" class=\"data row55 col0\" >Feature Ratio</td>\n",
       "                        <td id=\"T_6b7bdc7c_0804_11ec_ae26_80c5f20e49e9row55_col1\" class=\"data row55 col1\" >False</td>\n",
       "            </tr>\n",
       "            <tr>\n",
       "                        <th id=\"T_6b7bdc7c_0804_11ec_ae26_80c5f20e49e9level0_row56\" class=\"row_heading level0 row56\" >56</th>\n",
       "                        <td id=\"T_6b7bdc7c_0804_11ec_ae26_80c5f20e49e9row56_col0\" class=\"data row56 col0\" >Interaction Threshold</td>\n",
       "                        <td id=\"T_6b7bdc7c_0804_11ec_ae26_80c5f20e49e9row56_col1\" class=\"data row56 col1\" >None</td>\n",
       "            </tr>\n",
       "            <tr>\n",
       "                        <th id=\"T_6b7bdc7c_0804_11ec_ae26_80c5f20e49e9level0_row57\" class=\"row_heading level0 row57\" >57</th>\n",
       "                        <td id=\"T_6b7bdc7c_0804_11ec_ae26_80c5f20e49e9row57_col0\" class=\"data row57 col0\" >Fix Imbalance</td>\n",
       "                        <td id=\"T_6b7bdc7c_0804_11ec_ae26_80c5f20e49e9row57_col1\" class=\"data row57 col1\" >False</td>\n",
       "            </tr>\n",
       "            <tr>\n",
       "                        <th id=\"T_6b7bdc7c_0804_11ec_ae26_80c5f20e49e9level0_row58\" class=\"row_heading level0 row58\" >58</th>\n",
       "                        <td id=\"T_6b7bdc7c_0804_11ec_ae26_80c5f20e49e9row58_col0\" class=\"data row58 col0\" >Fix Imbalance Method</td>\n",
       "                        <td id=\"T_6b7bdc7c_0804_11ec_ae26_80c5f20e49e9row58_col1\" class=\"data row58 col1\" >SMOTE</td>\n",
       "            </tr>\n",
       "    </tbody></table>"
      ],
      "text/plain": [
       "<pandas.io.formats.style.Styler at 0x13af650e940>"
      ]
     },
     "metadata": {},
     "output_type": "display_data"
    }
   ],
   "source": [
    "clf1 = setup(data, target = 'Class variable', session_id = 1004, log_experiment = True, experiment_name = 'diabetes_01')"
   ]
  },
  {
   "cell_type": "code",
   "execution_count": 19,
   "metadata": {},
   "outputs": [
    {
     "data": {
      "text/html": [
       "<style  type=\"text/css\" >\n",
       "    #T_a1af6df2_0804_11ec_b4d1_80c5f20e49e9 th {\n",
       "          text-align: left;\n",
       "    }    #T_a1af6df2_0804_11ec_b4d1_80c5f20e49e9row0_col0 {\n",
       "            text-align:  left;\n",
       "            text-align:  left;\n",
       "        }    #T_a1af6df2_0804_11ec_b4d1_80c5f20e49e9row0_col1 {\n",
       "            text-align:  left;\n",
       "            text-align:  left;\n",
       "            background-color:  yellow;\n",
       "        }    #T_a1af6df2_0804_11ec_b4d1_80c5f20e49e9row0_col2 {\n",
       "            text-align:  left;\n",
       "            text-align:  left;\n",
       "            : ;\n",
       "        }    #T_a1af6df2_0804_11ec_b4d1_80c5f20e49e9row0_col3 {\n",
       "            text-align:  left;\n",
       "            text-align:  left;\n",
       "            : ;\n",
       "        }    #T_a1af6df2_0804_11ec_b4d1_80c5f20e49e9row0_col4 {\n",
       "            text-align:  left;\n",
       "            text-align:  left;\n",
       "            background-color:  yellow;\n",
       "        }    #T_a1af6df2_0804_11ec_b4d1_80c5f20e49e9row0_col5 {\n",
       "            text-align:  left;\n",
       "            text-align:  left;\n",
       "            : ;\n",
       "        }    #T_a1af6df2_0804_11ec_b4d1_80c5f20e49e9row0_col6 {\n",
       "            text-align:  left;\n",
       "            text-align:  left;\n",
       "            : ;\n",
       "        }    #T_a1af6df2_0804_11ec_b4d1_80c5f20e49e9row0_col7 {\n",
       "            text-align:  left;\n",
       "            text-align:  left;\n",
       "            background-color:  yellow;\n",
       "        }    #T_a1af6df2_0804_11ec_b4d1_80c5f20e49e9row0_col8 {\n",
       "            text-align:  left;\n",
       "            text-align:  left;\n",
       "            : ;\n",
       "            background-color:  lightgrey;\n",
       "        }    #T_a1af6df2_0804_11ec_b4d1_80c5f20e49e9row1_col0 {\n",
       "            text-align:  left;\n",
       "            text-align:  left;\n",
       "        }    #T_a1af6df2_0804_11ec_b4d1_80c5f20e49e9row1_col1 {\n",
       "            text-align:  left;\n",
       "            text-align:  left;\n",
       "            : ;\n",
       "        }    #T_a1af6df2_0804_11ec_b4d1_80c5f20e49e9row1_col2 {\n",
       "            text-align:  left;\n",
       "            text-align:  left;\n",
       "            : ;\n",
       "        }    #T_a1af6df2_0804_11ec_b4d1_80c5f20e49e9row1_col3 {\n",
       "            text-align:  left;\n",
       "            text-align:  left;\n",
       "            : ;\n",
       "        }    #T_a1af6df2_0804_11ec_b4d1_80c5f20e49e9row1_col4 {\n",
       "            text-align:  left;\n",
       "            text-align:  left;\n",
       "            : ;\n",
       "        }    #T_a1af6df2_0804_11ec_b4d1_80c5f20e49e9row1_col5 {\n",
       "            text-align:  left;\n",
       "            text-align:  left;\n",
       "            : ;\n",
       "        }    #T_a1af6df2_0804_11ec_b4d1_80c5f20e49e9row1_col6 {\n",
       "            text-align:  left;\n",
       "            text-align:  left;\n",
       "            background-color:  yellow;\n",
       "        }    #T_a1af6df2_0804_11ec_b4d1_80c5f20e49e9row1_col7 {\n",
       "            text-align:  left;\n",
       "            text-align:  left;\n",
       "            : ;\n",
       "        }    #T_a1af6df2_0804_11ec_b4d1_80c5f20e49e9row1_col8 {\n",
       "            text-align:  left;\n",
       "            text-align:  left;\n",
       "            : ;\n",
       "            background-color:  lightgrey;\n",
       "        }    #T_a1af6df2_0804_11ec_b4d1_80c5f20e49e9row2_col0 {\n",
       "            text-align:  left;\n",
       "            text-align:  left;\n",
       "        }    #T_a1af6df2_0804_11ec_b4d1_80c5f20e49e9row2_col1 {\n",
       "            text-align:  left;\n",
       "            text-align:  left;\n",
       "            : ;\n",
       "        }    #T_a1af6df2_0804_11ec_b4d1_80c5f20e49e9row2_col2 {\n",
       "            text-align:  left;\n",
       "            text-align:  left;\n",
       "            background-color:  yellow;\n",
       "        }    #T_a1af6df2_0804_11ec_b4d1_80c5f20e49e9row2_col3 {\n",
       "            text-align:  left;\n",
       "            text-align:  left;\n",
       "            : ;\n",
       "        }    #T_a1af6df2_0804_11ec_b4d1_80c5f20e49e9row2_col4 {\n",
       "            text-align:  left;\n",
       "            text-align:  left;\n",
       "            : ;\n",
       "        }    #T_a1af6df2_0804_11ec_b4d1_80c5f20e49e9row2_col5 {\n",
       "            text-align:  left;\n",
       "            text-align:  left;\n",
       "            background-color:  yellow;\n",
       "        }    #T_a1af6df2_0804_11ec_b4d1_80c5f20e49e9row2_col6 {\n",
       "            text-align:  left;\n",
       "            text-align:  left;\n",
       "            : ;\n",
       "        }    #T_a1af6df2_0804_11ec_b4d1_80c5f20e49e9row2_col7 {\n",
       "            text-align:  left;\n",
       "            text-align:  left;\n",
       "            : ;\n",
       "        }    #T_a1af6df2_0804_11ec_b4d1_80c5f20e49e9row2_col8 {\n",
       "            text-align:  left;\n",
       "            text-align:  left;\n",
       "            : ;\n",
       "            background-color:  lightgrey;\n",
       "        }    #T_a1af6df2_0804_11ec_b4d1_80c5f20e49e9row3_col0 {\n",
       "            text-align:  left;\n",
       "            text-align:  left;\n",
       "        }    #T_a1af6df2_0804_11ec_b4d1_80c5f20e49e9row3_col1 {\n",
       "            text-align:  left;\n",
       "            text-align:  left;\n",
       "            : ;\n",
       "        }    #T_a1af6df2_0804_11ec_b4d1_80c5f20e49e9row3_col2 {\n",
       "            text-align:  left;\n",
       "            text-align:  left;\n",
       "            : ;\n",
       "        }    #T_a1af6df2_0804_11ec_b4d1_80c5f20e49e9row3_col3 {\n",
       "            text-align:  left;\n",
       "            text-align:  left;\n",
       "            : ;\n",
       "        }    #T_a1af6df2_0804_11ec_b4d1_80c5f20e49e9row3_col4 {\n",
       "            text-align:  left;\n",
       "            text-align:  left;\n",
       "            : ;\n",
       "        }    #T_a1af6df2_0804_11ec_b4d1_80c5f20e49e9row3_col5 {\n",
       "            text-align:  left;\n",
       "            text-align:  left;\n",
       "            : ;\n",
       "        }    #T_a1af6df2_0804_11ec_b4d1_80c5f20e49e9row3_col6 {\n",
       "            text-align:  left;\n",
       "            text-align:  left;\n",
       "            : ;\n",
       "        }    #T_a1af6df2_0804_11ec_b4d1_80c5f20e49e9row3_col7 {\n",
       "            text-align:  left;\n",
       "            text-align:  left;\n",
       "            : ;\n",
       "        }    #T_a1af6df2_0804_11ec_b4d1_80c5f20e49e9row3_col8 {\n",
       "            text-align:  left;\n",
       "            text-align:  left;\n",
       "            : ;\n",
       "            background-color:  lightgrey;\n",
       "        }    #T_a1af6df2_0804_11ec_b4d1_80c5f20e49e9row4_col0 {\n",
       "            text-align:  left;\n",
       "            text-align:  left;\n",
       "        }    #T_a1af6df2_0804_11ec_b4d1_80c5f20e49e9row4_col1 {\n",
       "            text-align:  left;\n",
       "            text-align:  left;\n",
       "            : ;\n",
       "        }    #T_a1af6df2_0804_11ec_b4d1_80c5f20e49e9row4_col2 {\n",
       "            text-align:  left;\n",
       "            text-align:  left;\n",
       "            : ;\n",
       "        }    #T_a1af6df2_0804_11ec_b4d1_80c5f20e49e9row4_col3 {\n",
       "            text-align:  left;\n",
       "            text-align:  left;\n",
       "            : ;\n",
       "        }    #T_a1af6df2_0804_11ec_b4d1_80c5f20e49e9row4_col4 {\n",
       "            text-align:  left;\n",
       "            text-align:  left;\n",
       "            : ;\n",
       "        }    #T_a1af6df2_0804_11ec_b4d1_80c5f20e49e9row4_col5 {\n",
       "            text-align:  left;\n",
       "            text-align:  left;\n",
       "            : ;\n",
       "        }    #T_a1af6df2_0804_11ec_b4d1_80c5f20e49e9row4_col6 {\n",
       "            text-align:  left;\n",
       "            text-align:  left;\n",
       "            : ;\n",
       "        }    #T_a1af6df2_0804_11ec_b4d1_80c5f20e49e9row4_col7 {\n",
       "            text-align:  left;\n",
       "            text-align:  left;\n",
       "            : ;\n",
       "        }    #T_a1af6df2_0804_11ec_b4d1_80c5f20e49e9row4_col8 {\n",
       "            text-align:  left;\n",
       "            text-align:  left;\n",
       "            : ;\n",
       "            background-color:  lightgrey;\n",
       "        }    #T_a1af6df2_0804_11ec_b4d1_80c5f20e49e9row5_col0 {\n",
       "            text-align:  left;\n",
       "            text-align:  left;\n",
       "        }    #T_a1af6df2_0804_11ec_b4d1_80c5f20e49e9row5_col1 {\n",
       "            text-align:  left;\n",
       "            text-align:  left;\n",
       "            : ;\n",
       "        }    #T_a1af6df2_0804_11ec_b4d1_80c5f20e49e9row5_col2 {\n",
       "            text-align:  left;\n",
       "            text-align:  left;\n",
       "            : ;\n",
       "        }    #T_a1af6df2_0804_11ec_b4d1_80c5f20e49e9row5_col3 {\n",
       "            text-align:  left;\n",
       "            text-align:  left;\n",
       "            : ;\n",
       "        }    #T_a1af6df2_0804_11ec_b4d1_80c5f20e49e9row5_col4 {\n",
       "            text-align:  left;\n",
       "            text-align:  left;\n",
       "            : ;\n",
       "        }    #T_a1af6df2_0804_11ec_b4d1_80c5f20e49e9row5_col5 {\n",
       "            text-align:  left;\n",
       "            text-align:  left;\n",
       "            : ;\n",
       "        }    #T_a1af6df2_0804_11ec_b4d1_80c5f20e49e9row5_col6 {\n",
       "            text-align:  left;\n",
       "            text-align:  left;\n",
       "            : ;\n",
       "        }    #T_a1af6df2_0804_11ec_b4d1_80c5f20e49e9row5_col7 {\n",
       "            text-align:  left;\n",
       "            text-align:  left;\n",
       "            : ;\n",
       "        }    #T_a1af6df2_0804_11ec_b4d1_80c5f20e49e9row5_col8 {\n",
       "            text-align:  left;\n",
       "            text-align:  left;\n",
       "            : ;\n",
       "            background-color:  lightgrey;\n",
       "        }    #T_a1af6df2_0804_11ec_b4d1_80c5f20e49e9row6_col0 {\n",
       "            text-align:  left;\n",
       "            text-align:  left;\n",
       "        }    #T_a1af6df2_0804_11ec_b4d1_80c5f20e49e9row6_col1 {\n",
       "            text-align:  left;\n",
       "            text-align:  left;\n",
       "            : ;\n",
       "        }    #T_a1af6df2_0804_11ec_b4d1_80c5f20e49e9row6_col2 {\n",
       "            text-align:  left;\n",
       "            text-align:  left;\n",
       "            : ;\n",
       "        }    #T_a1af6df2_0804_11ec_b4d1_80c5f20e49e9row6_col3 {\n",
       "            text-align:  left;\n",
       "            text-align:  left;\n",
       "            : ;\n",
       "        }    #T_a1af6df2_0804_11ec_b4d1_80c5f20e49e9row6_col4 {\n",
       "            text-align:  left;\n",
       "            text-align:  left;\n",
       "            : ;\n",
       "        }    #T_a1af6df2_0804_11ec_b4d1_80c5f20e49e9row6_col5 {\n",
       "            text-align:  left;\n",
       "            text-align:  left;\n",
       "            : ;\n",
       "        }    #T_a1af6df2_0804_11ec_b4d1_80c5f20e49e9row6_col6 {\n",
       "            text-align:  left;\n",
       "            text-align:  left;\n",
       "            : ;\n",
       "        }    #T_a1af6df2_0804_11ec_b4d1_80c5f20e49e9row6_col7 {\n",
       "            text-align:  left;\n",
       "            text-align:  left;\n",
       "            : ;\n",
       "        }    #T_a1af6df2_0804_11ec_b4d1_80c5f20e49e9row6_col8 {\n",
       "            text-align:  left;\n",
       "            text-align:  left;\n",
       "            : ;\n",
       "            background-color:  lightgrey;\n",
       "        }    #T_a1af6df2_0804_11ec_b4d1_80c5f20e49e9row7_col0 {\n",
       "            text-align:  left;\n",
       "            text-align:  left;\n",
       "        }    #T_a1af6df2_0804_11ec_b4d1_80c5f20e49e9row7_col1 {\n",
       "            text-align:  left;\n",
       "            text-align:  left;\n",
       "            : ;\n",
       "        }    #T_a1af6df2_0804_11ec_b4d1_80c5f20e49e9row7_col2 {\n",
       "            text-align:  left;\n",
       "            text-align:  left;\n",
       "            : ;\n",
       "        }    #T_a1af6df2_0804_11ec_b4d1_80c5f20e49e9row7_col3 {\n",
       "            text-align:  left;\n",
       "            text-align:  left;\n",
       "            : ;\n",
       "        }    #T_a1af6df2_0804_11ec_b4d1_80c5f20e49e9row7_col4 {\n",
       "            text-align:  left;\n",
       "            text-align:  left;\n",
       "            : ;\n",
       "        }    #T_a1af6df2_0804_11ec_b4d1_80c5f20e49e9row7_col5 {\n",
       "            text-align:  left;\n",
       "            text-align:  left;\n",
       "            : ;\n",
       "        }    #T_a1af6df2_0804_11ec_b4d1_80c5f20e49e9row7_col6 {\n",
       "            text-align:  left;\n",
       "            text-align:  left;\n",
       "            : ;\n",
       "        }    #T_a1af6df2_0804_11ec_b4d1_80c5f20e49e9row7_col7 {\n",
       "            text-align:  left;\n",
       "            text-align:  left;\n",
       "            : ;\n",
       "        }    #T_a1af6df2_0804_11ec_b4d1_80c5f20e49e9row7_col8 {\n",
       "            text-align:  left;\n",
       "            text-align:  left;\n",
       "            : ;\n",
       "            background-color:  lightgrey;\n",
       "        }    #T_a1af6df2_0804_11ec_b4d1_80c5f20e49e9row8_col0 {\n",
       "            text-align:  left;\n",
       "            text-align:  left;\n",
       "        }    #T_a1af6df2_0804_11ec_b4d1_80c5f20e49e9row8_col1 {\n",
       "            text-align:  left;\n",
       "            text-align:  left;\n",
       "            : ;\n",
       "        }    #T_a1af6df2_0804_11ec_b4d1_80c5f20e49e9row8_col2 {\n",
       "            text-align:  left;\n",
       "            text-align:  left;\n",
       "            : ;\n",
       "        }    #T_a1af6df2_0804_11ec_b4d1_80c5f20e49e9row8_col3 {\n",
       "            text-align:  left;\n",
       "            text-align:  left;\n",
       "            : ;\n",
       "        }    #T_a1af6df2_0804_11ec_b4d1_80c5f20e49e9row8_col4 {\n",
       "            text-align:  left;\n",
       "            text-align:  left;\n",
       "            : ;\n",
       "        }    #T_a1af6df2_0804_11ec_b4d1_80c5f20e49e9row8_col5 {\n",
       "            text-align:  left;\n",
       "            text-align:  left;\n",
       "            : ;\n",
       "        }    #T_a1af6df2_0804_11ec_b4d1_80c5f20e49e9row8_col6 {\n",
       "            text-align:  left;\n",
       "            text-align:  left;\n",
       "            : ;\n",
       "        }    #T_a1af6df2_0804_11ec_b4d1_80c5f20e49e9row8_col7 {\n",
       "            text-align:  left;\n",
       "            text-align:  left;\n",
       "            : ;\n",
       "        }    #T_a1af6df2_0804_11ec_b4d1_80c5f20e49e9row8_col8 {\n",
       "            text-align:  left;\n",
       "            text-align:  left;\n",
       "            : ;\n",
       "            background-color:  lightgrey;\n",
       "        }    #T_a1af6df2_0804_11ec_b4d1_80c5f20e49e9row9_col0 {\n",
       "            text-align:  left;\n",
       "            text-align:  left;\n",
       "        }    #T_a1af6df2_0804_11ec_b4d1_80c5f20e49e9row9_col1 {\n",
       "            text-align:  left;\n",
       "            text-align:  left;\n",
       "            : ;\n",
       "        }    #T_a1af6df2_0804_11ec_b4d1_80c5f20e49e9row9_col2 {\n",
       "            text-align:  left;\n",
       "            text-align:  left;\n",
       "            : ;\n",
       "        }    #T_a1af6df2_0804_11ec_b4d1_80c5f20e49e9row9_col3 {\n",
       "            text-align:  left;\n",
       "            text-align:  left;\n",
       "            : ;\n",
       "        }    #T_a1af6df2_0804_11ec_b4d1_80c5f20e49e9row9_col4 {\n",
       "            text-align:  left;\n",
       "            text-align:  left;\n",
       "            : ;\n",
       "        }    #T_a1af6df2_0804_11ec_b4d1_80c5f20e49e9row9_col5 {\n",
       "            text-align:  left;\n",
       "            text-align:  left;\n",
       "            : ;\n",
       "        }    #T_a1af6df2_0804_11ec_b4d1_80c5f20e49e9row9_col6 {\n",
       "            text-align:  left;\n",
       "            text-align:  left;\n",
       "            : ;\n",
       "        }    #T_a1af6df2_0804_11ec_b4d1_80c5f20e49e9row9_col7 {\n",
       "            text-align:  left;\n",
       "            text-align:  left;\n",
       "            : ;\n",
       "        }    #T_a1af6df2_0804_11ec_b4d1_80c5f20e49e9row9_col8 {\n",
       "            text-align:  left;\n",
       "            text-align:  left;\n",
       "            : ;\n",
       "            background-color:  lightgrey;\n",
       "        }    #T_a1af6df2_0804_11ec_b4d1_80c5f20e49e9row10_col0 {\n",
       "            text-align:  left;\n",
       "            text-align:  left;\n",
       "        }    #T_a1af6df2_0804_11ec_b4d1_80c5f20e49e9row10_col1 {\n",
       "            text-align:  left;\n",
       "            text-align:  left;\n",
       "            : ;\n",
       "        }    #T_a1af6df2_0804_11ec_b4d1_80c5f20e49e9row10_col2 {\n",
       "            text-align:  left;\n",
       "            text-align:  left;\n",
       "            : ;\n",
       "        }    #T_a1af6df2_0804_11ec_b4d1_80c5f20e49e9row10_col3 {\n",
       "            text-align:  left;\n",
       "            text-align:  left;\n",
       "            : ;\n",
       "        }    #T_a1af6df2_0804_11ec_b4d1_80c5f20e49e9row10_col4 {\n",
       "            text-align:  left;\n",
       "            text-align:  left;\n",
       "            : ;\n",
       "        }    #T_a1af6df2_0804_11ec_b4d1_80c5f20e49e9row10_col5 {\n",
       "            text-align:  left;\n",
       "            text-align:  left;\n",
       "            : ;\n",
       "        }    #T_a1af6df2_0804_11ec_b4d1_80c5f20e49e9row10_col6 {\n",
       "            text-align:  left;\n",
       "            text-align:  left;\n",
       "            : ;\n",
       "        }    #T_a1af6df2_0804_11ec_b4d1_80c5f20e49e9row10_col7 {\n",
       "            text-align:  left;\n",
       "            text-align:  left;\n",
       "            : ;\n",
       "        }    #T_a1af6df2_0804_11ec_b4d1_80c5f20e49e9row10_col8 {\n",
       "            text-align:  left;\n",
       "            text-align:  left;\n",
       "            background-color:  yellow;\n",
       "            background-color:  lightgrey;\n",
       "        }    #T_a1af6df2_0804_11ec_b4d1_80c5f20e49e9row11_col0 {\n",
       "            text-align:  left;\n",
       "            text-align:  left;\n",
       "        }    #T_a1af6df2_0804_11ec_b4d1_80c5f20e49e9row11_col1 {\n",
       "            text-align:  left;\n",
       "            text-align:  left;\n",
       "            : ;\n",
       "        }    #T_a1af6df2_0804_11ec_b4d1_80c5f20e49e9row11_col2 {\n",
       "            text-align:  left;\n",
       "            text-align:  left;\n",
       "            : ;\n",
       "        }    #T_a1af6df2_0804_11ec_b4d1_80c5f20e49e9row11_col3 {\n",
       "            text-align:  left;\n",
       "            text-align:  left;\n",
       "            : ;\n",
       "        }    #T_a1af6df2_0804_11ec_b4d1_80c5f20e49e9row11_col4 {\n",
       "            text-align:  left;\n",
       "            text-align:  left;\n",
       "            : ;\n",
       "        }    #T_a1af6df2_0804_11ec_b4d1_80c5f20e49e9row11_col5 {\n",
       "            text-align:  left;\n",
       "            text-align:  left;\n",
       "            : ;\n",
       "        }    #T_a1af6df2_0804_11ec_b4d1_80c5f20e49e9row11_col6 {\n",
       "            text-align:  left;\n",
       "            text-align:  left;\n",
       "            : ;\n",
       "        }    #T_a1af6df2_0804_11ec_b4d1_80c5f20e49e9row11_col7 {\n",
       "            text-align:  left;\n",
       "            text-align:  left;\n",
       "            : ;\n",
       "        }    #T_a1af6df2_0804_11ec_b4d1_80c5f20e49e9row11_col8 {\n",
       "            text-align:  left;\n",
       "            text-align:  left;\n",
       "            background-color:  yellow;\n",
       "            background-color:  lightgrey;\n",
       "        }    #T_a1af6df2_0804_11ec_b4d1_80c5f20e49e9row12_col0 {\n",
       "            text-align:  left;\n",
       "            text-align:  left;\n",
       "        }    #T_a1af6df2_0804_11ec_b4d1_80c5f20e49e9row12_col1 {\n",
       "            text-align:  left;\n",
       "            text-align:  left;\n",
       "            : ;\n",
       "        }    #T_a1af6df2_0804_11ec_b4d1_80c5f20e49e9row12_col2 {\n",
       "            text-align:  left;\n",
       "            text-align:  left;\n",
       "            : ;\n",
       "        }    #T_a1af6df2_0804_11ec_b4d1_80c5f20e49e9row12_col3 {\n",
       "            text-align:  left;\n",
       "            text-align:  left;\n",
       "            background-color:  yellow;\n",
       "        }    #T_a1af6df2_0804_11ec_b4d1_80c5f20e49e9row12_col4 {\n",
       "            text-align:  left;\n",
       "            text-align:  left;\n",
       "            : ;\n",
       "        }    #T_a1af6df2_0804_11ec_b4d1_80c5f20e49e9row12_col5 {\n",
       "            text-align:  left;\n",
       "            text-align:  left;\n",
       "            : ;\n",
       "        }    #T_a1af6df2_0804_11ec_b4d1_80c5f20e49e9row12_col6 {\n",
       "            text-align:  left;\n",
       "            text-align:  left;\n",
       "            : ;\n",
       "        }    #T_a1af6df2_0804_11ec_b4d1_80c5f20e49e9row12_col7 {\n",
       "            text-align:  left;\n",
       "            text-align:  left;\n",
       "            : ;\n",
       "        }    #T_a1af6df2_0804_11ec_b4d1_80c5f20e49e9row12_col8 {\n",
       "            text-align:  left;\n",
       "            text-align:  left;\n",
       "            : ;\n",
       "            background-color:  lightgrey;\n",
       "        }    #T_a1af6df2_0804_11ec_b4d1_80c5f20e49e9row13_col0 {\n",
       "            text-align:  left;\n",
       "            text-align:  left;\n",
       "        }    #T_a1af6df2_0804_11ec_b4d1_80c5f20e49e9row13_col1 {\n",
       "            text-align:  left;\n",
       "            text-align:  left;\n",
       "            : ;\n",
       "        }    #T_a1af6df2_0804_11ec_b4d1_80c5f20e49e9row13_col2 {\n",
       "            text-align:  left;\n",
       "            text-align:  left;\n",
       "            : ;\n",
       "        }    #T_a1af6df2_0804_11ec_b4d1_80c5f20e49e9row13_col3 {\n",
       "            text-align:  left;\n",
       "            text-align:  left;\n",
       "            : ;\n",
       "        }    #T_a1af6df2_0804_11ec_b4d1_80c5f20e49e9row13_col4 {\n",
       "            text-align:  left;\n",
       "            text-align:  left;\n",
       "            : ;\n",
       "        }    #T_a1af6df2_0804_11ec_b4d1_80c5f20e49e9row13_col5 {\n",
       "            text-align:  left;\n",
       "            text-align:  left;\n",
       "            : ;\n",
       "        }    #T_a1af6df2_0804_11ec_b4d1_80c5f20e49e9row13_col6 {\n",
       "            text-align:  left;\n",
       "            text-align:  left;\n",
       "            : ;\n",
       "        }    #T_a1af6df2_0804_11ec_b4d1_80c5f20e49e9row13_col7 {\n",
       "            text-align:  left;\n",
       "            text-align:  left;\n",
       "            : ;\n",
       "        }    #T_a1af6df2_0804_11ec_b4d1_80c5f20e49e9row13_col8 {\n",
       "            text-align:  left;\n",
       "            text-align:  left;\n",
       "            : ;\n",
       "            background-color:  lightgrey;\n",
       "        }</style><table id=\"T_a1af6df2_0804_11ec_b4d1_80c5f20e49e9\" ><thead>    <tr>        <th class=\"blank level0\" ></th>        <th class=\"col_heading level0 col0\" >Model</th>        <th class=\"col_heading level0 col1\" >Accuracy</th>        <th class=\"col_heading level0 col2\" >AUC</th>        <th class=\"col_heading level0 col3\" >Recall</th>        <th class=\"col_heading level0 col4\" >Prec.</th>        <th class=\"col_heading level0 col5\" >F1</th>        <th class=\"col_heading level0 col6\" >Kappa</th>        <th class=\"col_heading level0 col7\" >MCC</th>        <th class=\"col_heading level0 col8\" >TT (Sec)</th>    </tr></thead><tbody>\n",
       "                <tr>\n",
       "                        <th id=\"T_a1af6df2_0804_11ec_b4d1_80c5f20e49e9level0_row0\" class=\"row_heading level0 row0\" >ridge</th>\n",
       "                        <td id=\"T_a1af6df2_0804_11ec_b4d1_80c5f20e49e9row0_col0\" class=\"data row0 col0\" >Ridge Classifier</td>\n",
       "                        <td id=\"T_a1af6df2_0804_11ec_b4d1_80c5f20e49e9row0_col1\" class=\"data row0 col1\" >0.7581</td>\n",
       "                        <td id=\"T_a1af6df2_0804_11ec_b4d1_80c5f20e49e9row0_col2\" class=\"data row0 col2\" >0.0000</td>\n",
       "                        <td id=\"T_a1af6df2_0804_11ec_b4d1_80c5f20e49e9row0_col3\" class=\"data row0 col3\" >0.5383</td>\n",
       "                        <td id=\"T_a1af6df2_0804_11ec_b4d1_80c5f20e49e9row0_col4\" class=\"data row0 col4\" >0.7098</td>\n",
       "                        <td id=\"T_a1af6df2_0804_11ec_b4d1_80c5f20e49e9row0_col5\" class=\"data row0 col5\" >0.6056</td>\n",
       "                        <td id=\"T_a1af6df2_0804_11ec_b4d1_80c5f20e49e9row0_col6\" class=\"data row0 col6\" >0.4369</td>\n",
       "                        <td id=\"T_a1af6df2_0804_11ec_b4d1_80c5f20e49e9row0_col7\" class=\"data row0 col7\" >0.4498</td>\n",
       "                        <td id=\"T_a1af6df2_0804_11ec_b4d1_80c5f20e49e9row0_col8\" class=\"data row0 col8\" >0.0580</td>\n",
       "            </tr>\n",
       "            <tr>\n",
       "                        <th id=\"T_a1af6df2_0804_11ec_b4d1_80c5f20e49e9level0_row1\" class=\"row_heading level0 row1\" >rf</th>\n",
       "                        <td id=\"T_a1af6df2_0804_11ec_b4d1_80c5f20e49e9row1_col0\" class=\"data row1 col0\" >Random Forest Classifier</td>\n",
       "                        <td id=\"T_a1af6df2_0804_11ec_b4d1_80c5f20e49e9row1_col1\" class=\"data row1 col1\" >0.7563</td>\n",
       "                        <td id=\"T_a1af6df2_0804_11ec_b4d1_80c5f20e49e9row1_col2\" class=\"data row1 col2\" >0.8036</td>\n",
       "                        <td id=\"T_a1af6df2_0804_11ec_b4d1_80c5f20e49e9row1_col3\" class=\"data row1 col3\" >0.5547</td>\n",
       "                        <td id=\"T_a1af6df2_0804_11ec_b4d1_80c5f20e49e9row1_col4\" class=\"data row1 col4\" >0.6948</td>\n",
       "                        <td id=\"T_a1af6df2_0804_11ec_b4d1_80c5f20e49e9row1_col5\" class=\"data row1 col5\" >0.6097</td>\n",
       "                        <td id=\"T_a1af6df2_0804_11ec_b4d1_80c5f20e49e9row1_col6\" class=\"data row1 col6\" >0.4371</td>\n",
       "                        <td id=\"T_a1af6df2_0804_11ec_b4d1_80c5f20e49e9row1_col7\" class=\"data row1 col7\" >0.4474</td>\n",
       "                        <td id=\"T_a1af6df2_0804_11ec_b4d1_80c5f20e49e9row1_col8\" class=\"data row1 col8\" >0.1890</td>\n",
       "            </tr>\n",
       "            <tr>\n",
       "                        <th id=\"T_a1af6df2_0804_11ec_b4d1_80c5f20e49e9level0_row2\" class=\"row_heading level0 row2\" >lr</th>\n",
       "                        <td id=\"T_a1af6df2_0804_11ec_b4d1_80c5f20e49e9row2_col0\" class=\"data row2 col0\" >Logistic Regression</td>\n",
       "                        <td id=\"T_a1af6df2_0804_11ec_b4d1_80c5f20e49e9row2_col1\" class=\"data row2 col1\" >0.7544</td>\n",
       "                        <td id=\"T_a1af6df2_0804_11ec_b4d1_80c5f20e49e9row2_col2\" class=\"data row2 col2\" >0.8059</td>\n",
       "                        <td id=\"T_a1af6df2_0804_11ec_b4d1_80c5f20e49e9row2_col3\" class=\"data row2 col3\" >0.5599</td>\n",
       "                        <td id=\"T_a1af6df2_0804_11ec_b4d1_80c5f20e49e9row2_col4\" class=\"data row2 col4\" >0.6886</td>\n",
       "                        <td id=\"T_a1af6df2_0804_11ec_b4d1_80c5f20e49e9row2_col5\" class=\"data row2 col5\" >0.6126</td>\n",
       "                        <td id=\"T_a1af6df2_0804_11ec_b4d1_80c5f20e49e9row2_col6\" class=\"data row2 col6\" >0.4365</td>\n",
       "                        <td id=\"T_a1af6df2_0804_11ec_b4d1_80c5f20e49e9row2_col7\" class=\"data row2 col7\" >0.4449</td>\n",
       "                        <td id=\"T_a1af6df2_0804_11ec_b4d1_80c5f20e49e9row2_col8\" class=\"data row2 col8\" >3.3770</td>\n",
       "            </tr>\n",
       "            <tr>\n",
       "                        <th id=\"T_a1af6df2_0804_11ec_b4d1_80c5f20e49e9level0_row3\" class=\"row_heading level0 row3\" >lda</th>\n",
       "                        <td id=\"T_a1af6df2_0804_11ec_b4d1_80c5f20e49e9row3_col0\" class=\"data row3 col0\" >Linear Discriminant Analysis</td>\n",
       "                        <td id=\"T_a1af6df2_0804_11ec_b4d1_80c5f20e49e9row3_col1\" class=\"data row3 col1\" >0.7525</td>\n",
       "                        <td id=\"T_a1af6df2_0804_11ec_b4d1_80c5f20e49e9row3_col2\" class=\"data row3 col2\" >0.8016</td>\n",
       "                        <td id=\"T_a1af6df2_0804_11ec_b4d1_80c5f20e49e9row3_col3\" class=\"data row3 col3\" >0.5439</td>\n",
       "                        <td id=\"T_a1af6df2_0804_11ec_b4d1_80c5f20e49e9row3_col4\" class=\"data row3 col4\" >0.6873</td>\n",
       "                        <td id=\"T_a1af6df2_0804_11ec_b4d1_80c5f20e49e9row3_col5\" class=\"data row3 col5\" >0.6010</td>\n",
       "                        <td id=\"T_a1af6df2_0804_11ec_b4d1_80c5f20e49e9row3_col6\" class=\"data row3 col6\" >0.4267</td>\n",
       "                        <td id=\"T_a1af6df2_0804_11ec_b4d1_80c5f20e49e9row3_col7\" class=\"data row3 col7\" >0.4365</td>\n",
       "                        <td id=\"T_a1af6df2_0804_11ec_b4d1_80c5f20e49e9row3_col8\" class=\"data row3 col8\" >0.0280</td>\n",
       "            </tr>\n",
       "            <tr>\n",
       "                        <th id=\"T_a1af6df2_0804_11ec_b4d1_80c5f20e49e9level0_row4\" class=\"row_heading level0 row4\" >et</th>\n",
       "                        <td id=\"T_a1af6df2_0804_11ec_b4d1_80c5f20e49e9row4_col0\" class=\"data row4 col0\" >Extra Trees Classifier</td>\n",
       "                        <td id=\"T_a1af6df2_0804_11ec_b4d1_80c5f20e49e9row4_col1\" class=\"data row4 col1\" >0.7414</td>\n",
       "                        <td id=\"T_a1af6df2_0804_11ec_b4d1_80c5f20e49e9row4_col2\" class=\"data row4 col2\" >0.7818</td>\n",
       "                        <td id=\"T_a1af6df2_0804_11ec_b4d1_80c5f20e49e9row4_col3\" class=\"data row4 col3\" >0.5605</td>\n",
       "                        <td id=\"T_a1af6df2_0804_11ec_b4d1_80c5f20e49e9row4_col4\" class=\"data row4 col4\" >0.6612</td>\n",
       "                        <td id=\"T_a1af6df2_0804_11ec_b4d1_80c5f20e49e9row4_col5\" class=\"data row4 col5\" >0.5977</td>\n",
       "                        <td id=\"T_a1af6df2_0804_11ec_b4d1_80c5f20e49e9row4_col6\" class=\"data row4 col6\" >0.4112</td>\n",
       "                        <td id=\"T_a1af6df2_0804_11ec_b4d1_80c5f20e49e9row4_col7\" class=\"data row4 col7\" >0.4201</td>\n",
       "                        <td id=\"T_a1af6df2_0804_11ec_b4d1_80c5f20e49e9row4_col8\" class=\"data row4 col8\" >0.1280</td>\n",
       "            </tr>\n",
       "            <tr>\n",
       "                        <th id=\"T_a1af6df2_0804_11ec_b4d1_80c5f20e49e9level0_row5\" class=\"row_heading level0 row5\" >ada</th>\n",
       "                        <td id=\"T_a1af6df2_0804_11ec_b4d1_80c5f20e49e9row5_col0\" class=\"data row5 col0\" >Ada Boost Classifier</td>\n",
       "                        <td id=\"T_a1af6df2_0804_11ec_b4d1_80c5f20e49e9row5_col1\" class=\"data row5 col1\" >0.7395</td>\n",
       "                        <td id=\"T_a1af6df2_0804_11ec_b4d1_80c5f20e49e9row5_col2\" class=\"data row5 col2\" >0.7822</td>\n",
       "                        <td id=\"T_a1af6df2_0804_11ec_b4d1_80c5f20e49e9row5_col3\" class=\"data row5 col3\" >0.5488</td>\n",
       "                        <td id=\"T_a1af6df2_0804_11ec_b4d1_80c5f20e49e9row5_col4\" class=\"data row5 col4\" >0.6588</td>\n",
       "                        <td id=\"T_a1af6df2_0804_11ec_b4d1_80c5f20e49e9row5_col5\" class=\"data row5 col5\" >0.5908</td>\n",
       "                        <td id=\"T_a1af6df2_0804_11ec_b4d1_80c5f20e49e9row5_col6\" class=\"data row5 col6\" >0.4041</td>\n",
       "                        <td id=\"T_a1af6df2_0804_11ec_b4d1_80c5f20e49e9row5_col7\" class=\"data row5 col7\" >0.4124</td>\n",
       "                        <td id=\"T_a1af6df2_0804_11ec_b4d1_80c5f20e49e9row5_col8\" class=\"data row5 col8\" >0.0490</td>\n",
       "            </tr>\n",
       "            <tr>\n",
       "                        <th id=\"T_a1af6df2_0804_11ec_b4d1_80c5f20e49e9level0_row6\" class=\"row_heading level0 row6\" >gbc</th>\n",
       "                        <td id=\"T_a1af6df2_0804_11ec_b4d1_80c5f20e49e9row6_col0\" class=\"data row6 col0\" >Gradient Boosting Classifier</td>\n",
       "                        <td id=\"T_a1af6df2_0804_11ec_b4d1_80c5f20e49e9row6_col1\" class=\"data row6 col1\" >0.7357</td>\n",
       "                        <td id=\"T_a1af6df2_0804_11ec_b4d1_80c5f20e49e9row6_col2\" class=\"data row6 col2\" >0.7937</td>\n",
       "                        <td id=\"T_a1af6df2_0804_11ec_b4d1_80c5f20e49e9row6_col3\" class=\"data row6 col3\" >0.5433</td>\n",
       "                        <td id=\"T_a1af6df2_0804_11ec_b4d1_80c5f20e49e9row6_col4\" class=\"data row6 col4\" >0.6536</td>\n",
       "                        <td id=\"T_a1af6df2_0804_11ec_b4d1_80c5f20e49e9row6_col5\" class=\"data row6 col5\" >0.5831</td>\n",
       "                        <td id=\"T_a1af6df2_0804_11ec_b4d1_80c5f20e49e9row6_col6\" class=\"data row6 col6\" >0.3944</td>\n",
       "                        <td id=\"T_a1af6df2_0804_11ec_b4d1_80c5f20e49e9row6_col7\" class=\"data row6 col7\" >0.4041</td>\n",
       "                        <td id=\"T_a1af6df2_0804_11ec_b4d1_80c5f20e49e9row6_col8\" class=\"data row6 col8\" >0.0660</td>\n",
       "            </tr>\n",
       "            <tr>\n",
       "                        <th id=\"T_a1af6df2_0804_11ec_b4d1_80c5f20e49e9level0_row7\" class=\"row_heading level0 row7\" >xgboost</th>\n",
       "                        <td id=\"T_a1af6df2_0804_11ec_b4d1_80c5f20e49e9row7_col0\" class=\"data row7 col0\" >Extreme Gradient Boosting</td>\n",
       "                        <td id=\"T_a1af6df2_0804_11ec_b4d1_80c5f20e49e9row7_col1\" class=\"data row7 col1\" >0.7301</td>\n",
       "                        <td id=\"T_a1af6df2_0804_11ec_b4d1_80c5f20e49e9row7_col2\" class=\"data row7 col2\" >0.7843</td>\n",
       "                        <td id=\"T_a1af6df2_0804_11ec_b4d1_80c5f20e49e9row7_col3\" class=\"data row7 col3\" >0.5804</td>\n",
       "                        <td id=\"T_a1af6df2_0804_11ec_b4d1_80c5f20e49e9row7_col4\" class=\"data row7 col4\" >0.6292</td>\n",
       "                        <td id=\"T_a1af6df2_0804_11ec_b4d1_80c5f20e49e9row7_col5\" class=\"data row7 col5\" >0.5949</td>\n",
       "                        <td id=\"T_a1af6df2_0804_11ec_b4d1_80c5f20e49e9row7_col6\" class=\"data row7 col6\" >0.3952</td>\n",
       "                        <td id=\"T_a1af6df2_0804_11ec_b4d1_80c5f20e49e9row7_col7\" class=\"data row7 col7\" >0.4021</td>\n",
       "                        <td id=\"T_a1af6df2_0804_11ec_b4d1_80c5f20e49e9row7_col8\" class=\"data row7 col8\" >0.3070</td>\n",
       "            </tr>\n",
       "            <tr>\n",
       "                        <th id=\"T_a1af6df2_0804_11ec_b4d1_80c5f20e49e9level0_row8\" class=\"row_heading level0 row8\" >lightgbm</th>\n",
       "                        <td id=\"T_a1af6df2_0804_11ec_b4d1_80c5f20e49e9row8_col0\" class=\"data row8 col0\" >Light Gradient Boosting Machine</td>\n",
       "                        <td id=\"T_a1af6df2_0804_11ec_b4d1_80c5f20e49e9row8_col1\" class=\"data row8 col1\" >0.7300</td>\n",
       "                        <td id=\"T_a1af6df2_0804_11ec_b4d1_80c5f20e49e9row8_col2\" class=\"data row8 col2\" >0.7957</td>\n",
       "                        <td id=\"T_a1af6df2_0804_11ec_b4d1_80c5f20e49e9row8_col3\" class=\"data row8 col3\" >0.5643</td>\n",
       "                        <td id=\"T_a1af6df2_0804_11ec_b4d1_80c5f20e49e9row8_col4\" class=\"data row8 col4\" >0.6323</td>\n",
       "                        <td id=\"T_a1af6df2_0804_11ec_b4d1_80c5f20e49e9row8_col5\" class=\"data row8 col5\" >0.5873</td>\n",
       "                        <td id=\"T_a1af6df2_0804_11ec_b4d1_80c5f20e49e9row8_col6\" class=\"data row8 col6\" >0.3900</td>\n",
       "                        <td id=\"T_a1af6df2_0804_11ec_b4d1_80c5f20e49e9row8_col7\" class=\"data row8 col7\" >0.3972</td>\n",
       "                        <td id=\"T_a1af6df2_0804_11ec_b4d1_80c5f20e49e9row8_col8\" class=\"data row8 col8\" >0.1130</td>\n",
       "            </tr>\n",
       "            <tr>\n",
       "                        <th id=\"T_a1af6df2_0804_11ec_b4d1_80c5f20e49e9level0_row9\" class=\"row_heading level0 row9\" >knn</th>\n",
       "                        <td id=\"T_a1af6df2_0804_11ec_b4d1_80c5f20e49e9row9_col0\" class=\"data row9 col0\" >K Neighbors Classifier</td>\n",
       "                        <td id=\"T_a1af6df2_0804_11ec_b4d1_80c5f20e49e9row9_col1\" class=\"data row9 col1\" >0.7152</td>\n",
       "                        <td id=\"T_a1af6df2_0804_11ec_b4d1_80c5f20e49e9row9_col2\" class=\"data row9 col2\" >0.7420</td>\n",
       "                        <td id=\"T_a1af6df2_0804_11ec_b4d1_80c5f20e49e9row9_col3\" class=\"data row9 col3\" >0.5494</td>\n",
       "                        <td id=\"T_a1af6df2_0804_11ec_b4d1_80c5f20e49e9row9_col4\" class=\"data row9 col4\" >0.6084</td>\n",
       "                        <td id=\"T_a1af6df2_0804_11ec_b4d1_80c5f20e49e9row9_col5\" class=\"data row9 col5\" >0.5706</td>\n",
       "                        <td id=\"T_a1af6df2_0804_11ec_b4d1_80c5f20e49e9row9_col6\" class=\"data row9 col6\" >0.3605</td>\n",
       "                        <td id=\"T_a1af6df2_0804_11ec_b4d1_80c5f20e49e9row9_col7\" class=\"data row9 col7\" >0.3664</td>\n",
       "                        <td id=\"T_a1af6df2_0804_11ec_b4d1_80c5f20e49e9row9_col8\" class=\"data row9 col8\" >0.0250</td>\n",
       "            </tr>\n",
       "            <tr>\n",
       "                        <th id=\"T_a1af6df2_0804_11ec_b4d1_80c5f20e49e9level0_row10\" class=\"row_heading level0 row10\" >dt</th>\n",
       "                        <td id=\"T_a1af6df2_0804_11ec_b4d1_80c5f20e49e9row10_col0\" class=\"data row10 col0\" >Decision Tree Classifier</td>\n",
       "                        <td id=\"T_a1af6df2_0804_11ec_b4d1_80c5f20e49e9row10_col1\" class=\"data row10 col1\" >0.6986</td>\n",
       "                        <td id=\"T_a1af6df2_0804_11ec_b4d1_80c5f20e49e9row10_col2\" class=\"data row10 col2\" >0.6654</td>\n",
       "                        <td id=\"T_a1af6df2_0804_11ec_b4d1_80c5f20e49e9row10_col3\" class=\"data row10 col3\" >0.5558</td>\n",
       "                        <td id=\"T_a1af6df2_0804_11ec_b4d1_80c5f20e49e9row10_col4\" class=\"data row10 col4\" >0.5629</td>\n",
       "                        <td id=\"T_a1af6df2_0804_11ec_b4d1_80c5f20e49e9row10_col5\" class=\"data row10 col5\" >0.5565</td>\n",
       "                        <td id=\"T_a1af6df2_0804_11ec_b4d1_80c5f20e49e9row10_col6\" class=\"data row10 col6\" >0.3294</td>\n",
       "                        <td id=\"T_a1af6df2_0804_11ec_b4d1_80c5f20e49e9row10_col7\" class=\"data row10 col7\" >0.3312</td>\n",
       "                        <td id=\"T_a1af6df2_0804_11ec_b4d1_80c5f20e49e9row10_col8\" class=\"data row10 col8\" >0.0120</td>\n",
       "            </tr>\n",
       "            <tr>\n",
       "                        <th id=\"T_a1af6df2_0804_11ec_b4d1_80c5f20e49e9level0_row11\" class=\"row_heading level0 row11\" >nb</th>\n",
       "                        <td id=\"T_a1af6df2_0804_11ec_b4d1_80c5f20e49e9row11_col0\" class=\"data row11 col0\" >Naive Bayes</td>\n",
       "                        <td id=\"T_a1af6df2_0804_11ec_b4d1_80c5f20e49e9row11_col1\" class=\"data row11 col1\" >0.6444</td>\n",
       "                        <td id=\"T_a1af6df2_0804_11ec_b4d1_80c5f20e49e9row11_col2\" class=\"data row11 col2\" >0.7090</td>\n",
       "                        <td id=\"T_a1af6df2_0804_11ec_b4d1_80c5f20e49e9row11_col3\" class=\"data row11 col3\" >0.1175</td>\n",
       "                        <td id=\"T_a1af6df2_0804_11ec_b4d1_80c5f20e49e9row11_col4\" class=\"data row11 col4\" >0.3983</td>\n",
       "                        <td id=\"T_a1af6df2_0804_11ec_b4d1_80c5f20e49e9row11_col5\" class=\"data row11 col5\" >0.1759</td>\n",
       "                        <td id=\"T_a1af6df2_0804_11ec_b4d1_80c5f20e49e9row11_col6\" class=\"data row11 col6\" >0.0493</td>\n",
       "                        <td id=\"T_a1af6df2_0804_11ec_b4d1_80c5f20e49e9row11_col7\" class=\"data row11 col7\" >0.0650</td>\n",
       "                        <td id=\"T_a1af6df2_0804_11ec_b4d1_80c5f20e49e9row11_col8\" class=\"data row11 col8\" >0.0120</td>\n",
       "            </tr>\n",
       "            <tr>\n",
       "                        <th id=\"T_a1af6df2_0804_11ec_b4d1_80c5f20e49e9level0_row12\" class=\"row_heading level0 row12\" >svm</th>\n",
       "                        <td id=\"T_a1af6df2_0804_11ec_b4d1_80c5f20e49e9row12_col0\" class=\"data row12 col0\" >SVM - Linear Kernel</td>\n",
       "                        <td id=\"T_a1af6df2_0804_11ec_b4d1_80c5f20e49e9row12_col1\" class=\"data row12 col1\" >0.5432</td>\n",
       "                        <td id=\"T_a1af6df2_0804_11ec_b4d1_80c5f20e49e9row12_col2\" class=\"data row12 col2\" >0.0000</td>\n",
       "                        <td id=\"T_a1af6df2_0804_11ec_b4d1_80c5f20e49e9row12_col3\" class=\"data row12 col3\" >0.7199</td>\n",
       "                        <td id=\"T_a1af6df2_0804_11ec_b4d1_80c5f20e49e9row12_col4\" class=\"data row12 col4\" >0.4861</td>\n",
       "                        <td id=\"T_a1af6df2_0804_11ec_b4d1_80c5f20e49e9row12_col5\" class=\"data row12 col5\" >0.5024</td>\n",
       "                        <td id=\"T_a1af6df2_0804_11ec_b4d1_80c5f20e49e9row12_col6\" class=\"data row12 col6\" >0.1579</td>\n",
       "                        <td id=\"T_a1af6df2_0804_11ec_b4d1_80c5f20e49e9row12_col7\" class=\"data row12 col7\" >0.2008</td>\n",
       "                        <td id=\"T_a1af6df2_0804_11ec_b4d1_80c5f20e49e9row12_col8\" class=\"data row12 col8\" >0.0720</td>\n",
       "            </tr>\n",
       "            <tr>\n",
       "                        <th id=\"T_a1af6df2_0804_11ec_b4d1_80c5f20e49e9level0_row13\" class=\"row_heading level0 row13\" >qda</th>\n",
       "                        <td id=\"T_a1af6df2_0804_11ec_b4d1_80c5f20e49e9row13_col0\" class=\"data row13 col0\" >Quadratic Discriminant Analysis</td>\n",
       "                        <td id=\"T_a1af6df2_0804_11ec_b4d1_80c5f20e49e9row13_col1\" class=\"data row13 col1\" >0.5376</td>\n",
       "                        <td id=\"T_a1af6df2_0804_11ec_b4d1_80c5f20e49e9row13_col2\" class=\"data row13 col2\" >0.5439</td>\n",
       "                        <td id=\"T_a1af6df2_0804_11ec_b4d1_80c5f20e49e9row13_col3\" class=\"data row13 col3\" >0.4760</td>\n",
       "                        <td id=\"T_a1af6df2_0804_11ec_b4d1_80c5f20e49e9row13_col4\" class=\"data row13 col4\" >0.4215</td>\n",
       "                        <td id=\"T_a1af6df2_0804_11ec_b4d1_80c5f20e49e9row13_col5\" class=\"data row13 col5\" >0.3658</td>\n",
       "                        <td id=\"T_a1af6df2_0804_11ec_b4d1_80c5f20e49e9row13_col6\" class=\"data row13 col6\" >0.0603</td>\n",
       "                        <td id=\"T_a1af6df2_0804_11ec_b4d1_80c5f20e49e9row13_col7\" class=\"data row13 col7\" >0.0775</td>\n",
       "                        <td id=\"T_a1af6df2_0804_11ec_b4d1_80c5f20e49e9row13_col8\" class=\"data row13 col8\" >0.0200</td>\n",
       "            </tr>\n",
       "    </tbody></table>"
      ],
      "text/plain": [
       "<pandas.io.formats.style.Styler at 0x13aaf787ca0>"
      ]
     },
     "metadata": {},
     "output_type": "display_data"
    }
   ],
   "source": [
    "top5 = compare_models(n_select = 5) "
   ]
  },
  {
   "cell_type": "code",
   "execution_count": 21,
   "metadata": {},
   "outputs": [
    {
     "data": {
      "text/html": [
       "<style  type=\"text/css\" >\n",
       "    #T_08442edc_0805_11ec_a5c5_80c5f20e49e9row10_col0 {\n",
       "            background:  yellow;\n",
       "        }    #T_08442edc_0805_11ec_a5c5_80c5f20e49e9row10_col1 {\n",
       "            background:  yellow;\n",
       "        }    #T_08442edc_0805_11ec_a5c5_80c5f20e49e9row10_col2 {\n",
       "            background:  yellow;\n",
       "        }    #T_08442edc_0805_11ec_a5c5_80c5f20e49e9row10_col3 {\n",
       "            background:  yellow;\n",
       "        }    #T_08442edc_0805_11ec_a5c5_80c5f20e49e9row10_col4 {\n",
       "            background:  yellow;\n",
       "        }    #T_08442edc_0805_11ec_a5c5_80c5f20e49e9row10_col5 {\n",
       "            background:  yellow;\n",
       "        }    #T_08442edc_0805_11ec_a5c5_80c5f20e49e9row10_col6 {\n",
       "            background:  yellow;\n",
       "        }</style><table id=\"T_08442edc_0805_11ec_a5c5_80c5f20e49e9\" ><thead>    <tr>        <th class=\"blank level0\" ></th>        <th class=\"col_heading level0 col0\" >Accuracy</th>        <th class=\"col_heading level0 col1\" >AUC</th>        <th class=\"col_heading level0 col2\" >Recall</th>        <th class=\"col_heading level0 col3\" >Prec.</th>        <th class=\"col_heading level0 col4\" >F1</th>        <th class=\"col_heading level0 col5\" >Kappa</th>        <th class=\"col_heading level0 col6\" >MCC</th>    </tr></thead><tbody>\n",
       "                <tr>\n",
       "                        <th id=\"T_08442edc_0805_11ec_a5c5_80c5f20e49e9level0_row0\" class=\"row_heading level0 row0\" >0</th>\n",
       "                        <td id=\"T_08442edc_0805_11ec_a5c5_80c5f20e49e9row0_col0\" class=\"data row0 col0\" >0.6111</td>\n",
       "                        <td id=\"T_08442edc_0805_11ec_a5c5_80c5f20e49e9row0_col1\" class=\"data row0 col1\" >0.7160</td>\n",
       "                        <td id=\"T_08442edc_0805_11ec_a5c5_80c5f20e49e9row0_col2\" class=\"data row0 col2\" >0.7222</td>\n",
       "                        <td id=\"T_08442edc_0805_11ec_a5c5_80c5f20e49e9row0_col3\" class=\"data row0 col3\" >0.4483</td>\n",
       "                        <td id=\"T_08442edc_0805_11ec_a5c5_80c5f20e49e9row0_col4\" class=\"data row0 col4\" >0.5532</td>\n",
       "                        <td id=\"T_08442edc_0805_11ec_a5c5_80c5f20e49e9row0_col5\" class=\"data row0 col5\" >0.2410</td>\n",
       "                        <td id=\"T_08442edc_0805_11ec_a5c5_80c5f20e49e9row0_col6\" class=\"data row0 col6\" >0.2626</td>\n",
       "            </tr>\n",
       "            <tr>\n",
       "                        <th id=\"T_08442edc_0805_11ec_a5c5_80c5f20e49e9level0_row1\" class=\"row_heading level0 row1\" >1</th>\n",
       "                        <td id=\"T_08442edc_0805_11ec_a5c5_80c5f20e49e9row1_col0\" class=\"data row1 col0\" >0.7593</td>\n",
       "                        <td id=\"T_08442edc_0805_11ec_a5c5_80c5f20e49e9row1_col1\" class=\"data row1 col1\" >0.7895</td>\n",
       "                        <td id=\"T_08442edc_0805_11ec_a5c5_80c5f20e49e9row1_col2\" class=\"data row1 col2\" >0.6842</td>\n",
       "                        <td id=\"T_08442edc_0805_11ec_a5c5_80c5f20e49e9row1_col3\" class=\"data row1 col3\" >0.6500</td>\n",
       "                        <td id=\"T_08442edc_0805_11ec_a5c5_80c5f20e49e9row1_col4\" class=\"data row1 col4\" >0.6667</td>\n",
       "                        <td id=\"T_08442edc_0805_11ec_a5c5_80c5f20e49e9row1_col5\" class=\"data row1 col5\" >0.4785</td>\n",
       "                        <td id=\"T_08442edc_0805_11ec_a5c5_80c5f20e49e9row1_col6\" class=\"data row1 col6\" >0.4788</td>\n",
       "            </tr>\n",
       "            <tr>\n",
       "                        <th id=\"T_08442edc_0805_11ec_a5c5_80c5f20e49e9level0_row2\" class=\"row_heading level0 row2\" >2</th>\n",
       "                        <td id=\"T_08442edc_0805_11ec_a5c5_80c5f20e49e9row2_col0\" class=\"data row2 col0\" >0.7593</td>\n",
       "                        <td id=\"T_08442edc_0805_11ec_a5c5_80c5f20e49e9row2_col1\" class=\"data row2 col1\" >0.8737</td>\n",
       "                        <td id=\"T_08442edc_0805_11ec_a5c5_80c5f20e49e9row2_col2\" class=\"data row2 col2\" >0.7895</td>\n",
       "                        <td id=\"T_08442edc_0805_11ec_a5c5_80c5f20e49e9row2_col3\" class=\"data row2 col3\" >0.6250</td>\n",
       "                        <td id=\"T_08442edc_0805_11ec_a5c5_80c5f20e49e9row2_col4\" class=\"data row2 col4\" >0.6977</td>\n",
       "                        <td id=\"T_08442edc_0805_11ec_a5c5_80c5f20e49e9row2_col5\" class=\"data row2 col5\" >0.5021</td>\n",
       "                        <td id=\"T_08442edc_0805_11ec_a5c5_80c5f20e49e9row2_col6\" class=\"data row2 col6\" >0.5116</td>\n",
       "            </tr>\n",
       "            <tr>\n",
       "                        <th id=\"T_08442edc_0805_11ec_a5c5_80c5f20e49e9level0_row3\" class=\"row_heading level0 row3\" >3</th>\n",
       "                        <td id=\"T_08442edc_0805_11ec_a5c5_80c5f20e49e9row3_col0\" class=\"data row3 col0\" >0.7222</td>\n",
       "                        <td id=\"T_08442edc_0805_11ec_a5c5_80c5f20e49e9row3_col1\" class=\"data row3 col1\" >0.8075</td>\n",
       "                        <td id=\"T_08442edc_0805_11ec_a5c5_80c5f20e49e9row3_col2\" class=\"data row3 col2\" >0.7368</td>\n",
       "                        <td id=\"T_08442edc_0805_11ec_a5c5_80c5f20e49e9row3_col3\" class=\"data row3 col3\" >0.5833</td>\n",
       "                        <td id=\"T_08442edc_0805_11ec_a5c5_80c5f20e49e9row3_col4\" class=\"data row3 col4\" >0.6512</td>\n",
       "                        <td id=\"T_08442edc_0805_11ec_a5c5_80c5f20e49e9row3_col5\" class=\"data row3 col5\" >0.4255</td>\n",
       "                        <td id=\"T_08442edc_0805_11ec_a5c5_80c5f20e49e9row3_col6\" class=\"data row3 col6\" >0.4336</td>\n",
       "            </tr>\n",
       "            <tr>\n",
       "                        <th id=\"T_08442edc_0805_11ec_a5c5_80c5f20e49e9level0_row4\" class=\"row_heading level0 row4\" >4</th>\n",
       "                        <td id=\"T_08442edc_0805_11ec_a5c5_80c5f20e49e9row4_col0\" class=\"data row4 col0\" >0.7222</td>\n",
       "                        <td id=\"T_08442edc_0805_11ec_a5c5_80c5f20e49e9row4_col1\" class=\"data row4 col1\" >0.7714</td>\n",
       "                        <td id=\"T_08442edc_0805_11ec_a5c5_80c5f20e49e9row4_col2\" class=\"data row4 col2\" >0.6316</td>\n",
       "                        <td id=\"T_08442edc_0805_11ec_a5c5_80c5f20e49e9row4_col3\" class=\"data row4 col3\" >0.6000</td>\n",
       "                        <td id=\"T_08442edc_0805_11ec_a5c5_80c5f20e49e9row4_col4\" class=\"data row4 col4\" >0.6154</td>\n",
       "                        <td id=\"T_08442edc_0805_11ec_a5c5_80c5f20e49e9row4_col5\" class=\"data row4 col5\" >0.3982</td>\n",
       "                        <td id=\"T_08442edc_0805_11ec_a5c5_80c5f20e49e9row4_col6\" class=\"data row4 col6\" >0.3985</td>\n",
       "            </tr>\n",
       "            <tr>\n",
       "                        <th id=\"T_08442edc_0805_11ec_a5c5_80c5f20e49e9level0_row5\" class=\"row_heading level0 row5\" >5</th>\n",
       "                        <td id=\"T_08442edc_0805_11ec_a5c5_80c5f20e49e9row5_col0\" class=\"data row5 col0\" >0.7222</td>\n",
       "                        <td id=\"T_08442edc_0805_11ec_a5c5_80c5f20e49e9row5_col1\" class=\"data row5 col1\" >0.7113</td>\n",
       "                        <td id=\"T_08442edc_0805_11ec_a5c5_80c5f20e49e9row5_col2\" class=\"data row5 col2\" >0.7895</td>\n",
       "                        <td id=\"T_08442edc_0805_11ec_a5c5_80c5f20e49e9row5_col3\" class=\"data row5 col3\" >0.5769</td>\n",
       "                        <td id=\"T_08442edc_0805_11ec_a5c5_80c5f20e49e9row5_col4\" class=\"data row5 col4\" >0.6667</td>\n",
       "                        <td id=\"T_08442edc_0805_11ec_a5c5_80c5f20e49e9row5_col5\" class=\"data row5 col5\" >0.4383</td>\n",
       "                        <td id=\"T_08442edc_0805_11ec_a5c5_80c5f20e49e9row5_col6\" class=\"data row5 col6\" >0.4542</td>\n",
       "            </tr>\n",
       "            <tr>\n",
       "                        <th id=\"T_08442edc_0805_11ec_a5c5_80c5f20e49e9level0_row6\" class=\"row_heading level0 row6\" >6</th>\n",
       "                        <td id=\"T_08442edc_0805_11ec_a5c5_80c5f20e49e9row6_col0\" class=\"data row6 col0\" >0.8148</td>\n",
       "                        <td id=\"T_08442edc_0805_11ec_a5c5_80c5f20e49e9row6_col1\" class=\"data row6 col1\" >0.8632</td>\n",
       "                        <td id=\"T_08442edc_0805_11ec_a5c5_80c5f20e49e9row6_col2\" class=\"data row6 col2\" >0.8421</td>\n",
       "                        <td id=\"T_08442edc_0805_11ec_a5c5_80c5f20e49e9row6_col3\" class=\"data row6 col3\" >0.6957</td>\n",
       "                        <td id=\"T_08442edc_0805_11ec_a5c5_80c5f20e49e9row6_col4\" class=\"data row6 col4\" >0.7619</td>\n",
       "                        <td id=\"T_08442edc_0805_11ec_a5c5_80c5f20e49e9row6_col5\" class=\"data row6 col5\" >0.6126</td>\n",
       "                        <td id=\"T_08442edc_0805_11ec_a5c5_80c5f20e49e9row6_col6\" class=\"data row6 col6\" >0.6201</td>\n",
       "            </tr>\n",
       "            <tr>\n",
       "                        <th id=\"T_08442edc_0805_11ec_a5c5_80c5f20e49e9level0_row7\" class=\"row_heading level0 row7\" >7</th>\n",
       "                        <td id=\"T_08442edc_0805_11ec_a5c5_80c5f20e49e9row7_col0\" class=\"data row7 col0\" >0.7547</td>\n",
       "                        <td id=\"T_08442edc_0805_11ec_a5c5_80c5f20e49e9row7_col1\" class=\"data row7 col1\" >0.8730</td>\n",
       "                        <td id=\"T_08442edc_0805_11ec_a5c5_80c5f20e49e9row7_col2\" class=\"data row7 col2\" >0.7778</td>\n",
       "                        <td id=\"T_08442edc_0805_11ec_a5c5_80c5f20e49e9row7_col3\" class=\"data row7 col3\" >0.6087</td>\n",
       "                        <td id=\"T_08442edc_0805_11ec_a5c5_80c5f20e49e9row7_col4\" class=\"data row7 col4\" >0.6829</td>\n",
       "                        <td id=\"T_08442edc_0805_11ec_a5c5_80c5f20e49e9row7_col5\" class=\"data row7 col5\" >0.4877</td>\n",
       "                        <td id=\"T_08442edc_0805_11ec_a5c5_80c5f20e49e9row7_col6\" class=\"data row7 col6\" >0.4975</td>\n",
       "            </tr>\n",
       "            <tr>\n",
       "                        <th id=\"T_08442edc_0805_11ec_a5c5_80c5f20e49e9level0_row8\" class=\"row_heading level0 row8\" >8</th>\n",
       "                        <td id=\"T_08442edc_0805_11ec_a5c5_80c5f20e49e9row8_col0\" class=\"data row8 col0\" >0.6981</td>\n",
       "                        <td id=\"T_08442edc_0805_11ec_a5c5_80c5f20e49e9row8_col1\" class=\"data row8 col1\" >0.7397</td>\n",
       "                        <td id=\"T_08442edc_0805_11ec_a5c5_80c5f20e49e9row8_col2\" class=\"data row8 col2\" >0.6111</td>\n",
       "                        <td id=\"T_08442edc_0805_11ec_a5c5_80c5f20e49e9row8_col3\" class=\"data row8 col3\" >0.5500</td>\n",
       "                        <td id=\"T_08442edc_0805_11ec_a5c5_80c5f20e49e9row8_col4\" class=\"data row8 col4\" >0.5789</td>\n",
       "                        <td id=\"T_08442edc_0805_11ec_a5c5_80c5f20e49e9row8_col5\" class=\"data row8 col5\" >0.3447</td>\n",
       "                        <td id=\"T_08442edc_0805_11ec_a5c5_80c5f20e49e9row8_col6\" class=\"data row8 col6\" >0.3458</td>\n",
       "            </tr>\n",
       "            <tr>\n",
       "                        <th id=\"T_08442edc_0805_11ec_a5c5_80c5f20e49e9level0_row9\" class=\"row_heading level0 row9\" >9</th>\n",
       "                        <td id=\"T_08442edc_0805_11ec_a5c5_80c5f20e49e9row9_col0\" class=\"data row9 col0\" >0.8491</td>\n",
       "                        <td id=\"T_08442edc_0805_11ec_a5c5_80c5f20e49e9row9_col1\" class=\"data row9 col1\" >0.8794</td>\n",
       "                        <td id=\"T_08442edc_0805_11ec_a5c5_80c5f20e49e9row9_col2\" class=\"data row9 col2\" >0.8333</td>\n",
       "                        <td id=\"T_08442edc_0805_11ec_a5c5_80c5f20e49e9row9_col3\" class=\"data row9 col3\" >0.7500</td>\n",
       "                        <td id=\"T_08442edc_0805_11ec_a5c5_80c5f20e49e9row9_col4\" class=\"data row9 col4\" >0.7895</td>\n",
       "                        <td id=\"T_08442edc_0805_11ec_a5c5_80c5f20e49e9row9_col5\" class=\"data row9 col5\" >0.6723</td>\n",
       "                        <td id=\"T_08442edc_0805_11ec_a5c5_80c5f20e49e9row9_col6\" class=\"data row9 col6\" >0.6746</td>\n",
       "            </tr>\n",
       "            <tr>\n",
       "                        <th id=\"T_08442edc_0805_11ec_a5c5_80c5f20e49e9level0_row10\" class=\"row_heading level0 row10\" >Mean</th>\n",
       "                        <td id=\"T_08442edc_0805_11ec_a5c5_80c5f20e49e9row10_col0\" class=\"data row10 col0\" >0.7413</td>\n",
       "                        <td id=\"T_08442edc_0805_11ec_a5c5_80c5f20e49e9row10_col1\" class=\"data row10 col1\" >0.8025</td>\n",
       "                        <td id=\"T_08442edc_0805_11ec_a5c5_80c5f20e49e9row10_col2\" class=\"data row10 col2\" >0.7418</td>\n",
       "                        <td id=\"T_08442edc_0805_11ec_a5c5_80c5f20e49e9row10_col3\" class=\"data row10 col3\" >0.6088</td>\n",
       "                        <td id=\"T_08442edc_0805_11ec_a5c5_80c5f20e49e9row10_col4\" class=\"data row10 col4\" >0.6664</td>\n",
       "                        <td id=\"T_08442edc_0805_11ec_a5c5_80c5f20e49e9row10_col5\" class=\"data row10 col5\" >0.4601</td>\n",
       "                        <td id=\"T_08442edc_0805_11ec_a5c5_80c5f20e49e9row10_col6\" class=\"data row10 col6\" >0.4677</td>\n",
       "            </tr>\n",
       "            <tr>\n",
       "                        <th id=\"T_08442edc_0805_11ec_a5c5_80c5f20e49e9level0_row11\" class=\"row_heading level0 row11\" >SD</th>\n",
       "                        <td id=\"T_08442edc_0805_11ec_a5c5_80c5f20e49e9row11_col0\" class=\"data row11 col0\" >0.0614</td>\n",
       "                        <td id=\"T_08442edc_0805_11ec_a5c5_80c5f20e49e9row11_col1\" class=\"data row11 col1\" >0.0637</td>\n",
       "                        <td id=\"T_08442edc_0805_11ec_a5c5_80c5f20e49e9row11_col2\" class=\"data row11 col2\" >0.0757</td>\n",
       "                        <td id=\"T_08442edc_0805_11ec_a5c5_80c5f20e49e9row11_col3\" class=\"data row11 col3\" >0.0777</td>\n",
       "                        <td id=\"T_08442edc_0805_11ec_a5c5_80c5f20e49e9row11_col4\" class=\"data row11 col4\" >0.0699</td>\n",
       "                        <td id=\"T_08442edc_0805_11ec_a5c5_80c5f20e49e9row11_col5\" class=\"data row11 col5\" >0.1175</td>\n",
       "                        <td id=\"T_08442edc_0805_11ec_a5c5_80c5f20e49e9row11_col6\" class=\"data row11 col6\" >0.1149</td>\n",
       "            </tr>\n",
       "    </tbody></table>"
      ],
      "text/plain": [
       "<pandas.io.formats.style.Styler at 0x13b018ff220>"
      ]
     },
     "metadata": {},
     "output_type": "display_data"
    }
   ],
   "source": [
    "tuned_top5 = [tune_model(i) for i in top5]"
   ]
  },
  {
   "cell_type": "markdown",
   "metadata": {},
   "source": [
    "#### [Ensemble Model](https://pycaret.org/ensemble-model/)"
   ]
  },
  {
   "cell_type": "code",
   "execution_count": 22,
   "metadata": {},
   "outputs": [
    {
     "data": {
      "text/html": [
       "<style  type=\"text/css\" >\n",
       "    #T_6f3caded_0805_11ec_ab06_80c5f20e49e9row10_col0 {\n",
       "            background:  yellow;\n",
       "        }    #T_6f3caded_0805_11ec_ab06_80c5f20e49e9row10_col1 {\n",
       "            background:  yellow;\n",
       "        }    #T_6f3caded_0805_11ec_ab06_80c5f20e49e9row10_col2 {\n",
       "            background:  yellow;\n",
       "        }    #T_6f3caded_0805_11ec_ab06_80c5f20e49e9row10_col3 {\n",
       "            background:  yellow;\n",
       "        }    #T_6f3caded_0805_11ec_ab06_80c5f20e49e9row10_col4 {\n",
       "            background:  yellow;\n",
       "        }    #T_6f3caded_0805_11ec_ab06_80c5f20e49e9row10_col5 {\n",
       "            background:  yellow;\n",
       "        }    #T_6f3caded_0805_11ec_ab06_80c5f20e49e9row10_col6 {\n",
       "            background:  yellow;\n",
       "        }</style><table id=\"T_6f3caded_0805_11ec_ab06_80c5f20e49e9\" ><thead>    <tr>        <th class=\"blank level0\" ></th>        <th class=\"col_heading level0 col0\" >Accuracy</th>        <th class=\"col_heading level0 col1\" >AUC</th>        <th class=\"col_heading level0 col2\" >Recall</th>        <th class=\"col_heading level0 col3\" >Prec.</th>        <th class=\"col_heading level0 col4\" >F1</th>        <th class=\"col_heading level0 col5\" >Kappa</th>        <th class=\"col_heading level0 col6\" >MCC</th>    </tr></thead><tbody>\n",
       "                <tr>\n",
       "                        <th id=\"T_6f3caded_0805_11ec_ab06_80c5f20e49e9level0_row0\" class=\"row_heading level0 row0\" >0</th>\n",
       "                        <td id=\"T_6f3caded_0805_11ec_ab06_80c5f20e49e9row0_col0\" class=\"data row0 col0\" >0.5741</td>\n",
       "                        <td id=\"T_6f3caded_0805_11ec_ab06_80c5f20e49e9row0_col1\" class=\"data row0 col1\" >0.6759</td>\n",
       "                        <td id=\"T_6f3caded_0805_11ec_ab06_80c5f20e49e9row0_col2\" class=\"data row0 col2\" >0.6111</td>\n",
       "                        <td id=\"T_6f3caded_0805_11ec_ab06_80c5f20e49e9row0_col3\" class=\"data row0 col3\" >0.4074</td>\n",
       "                        <td id=\"T_6f3caded_0805_11ec_ab06_80c5f20e49e9row0_col4\" class=\"data row0 col4\" >0.4889</td>\n",
       "                        <td id=\"T_6f3caded_0805_11ec_ab06_80c5f20e49e9row0_col5\" class=\"data row0 col5\" >0.1481</td>\n",
       "                        <td id=\"T_6f3caded_0805_11ec_ab06_80c5f20e49e9row0_col6\" class=\"data row0 col6\" >0.1571</td>\n",
       "            </tr>\n",
       "            <tr>\n",
       "                        <th id=\"T_6f3caded_0805_11ec_ab06_80c5f20e49e9level0_row1\" class=\"row_heading level0 row1\" >1</th>\n",
       "                        <td id=\"T_6f3caded_0805_11ec_ab06_80c5f20e49e9row1_col0\" class=\"data row1 col0\" >0.7407</td>\n",
       "                        <td id=\"T_6f3caded_0805_11ec_ab06_80c5f20e49e9row1_col1\" class=\"data row1 col1\" >0.8060</td>\n",
       "                        <td id=\"T_6f3caded_0805_11ec_ab06_80c5f20e49e9row1_col2\" class=\"data row1 col2\" >0.6842</td>\n",
       "                        <td id=\"T_6f3caded_0805_11ec_ab06_80c5f20e49e9row1_col3\" class=\"data row1 col3\" >0.6190</td>\n",
       "                        <td id=\"T_6f3caded_0805_11ec_ab06_80c5f20e49e9row1_col4\" class=\"data row1 col4\" >0.6500</td>\n",
       "                        <td id=\"T_6f3caded_0805_11ec_ab06_80c5f20e49e9row1_col5\" class=\"data row1 col5\" >0.4449</td>\n",
       "                        <td id=\"T_6f3caded_0805_11ec_ab06_80c5f20e49e9row1_col6\" class=\"data row1 col6\" >0.4463</td>\n",
       "            </tr>\n",
       "            <tr>\n",
       "                        <th id=\"T_6f3caded_0805_11ec_ab06_80c5f20e49e9level0_row2\" class=\"row_heading level0 row2\" >2</th>\n",
       "                        <td id=\"T_6f3caded_0805_11ec_ab06_80c5f20e49e9row2_col0\" class=\"data row2 col0\" >0.7963</td>\n",
       "                        <td id=\"T_6f3caded_0805_11ec_ab06_80c5f20e49e9row2_col1\" class=\"data row2 col1\" >0.8902</td>\n",
       "                        <td id=\"T_6f3caded_0805_11ec_ab06_80c5f20e49e9row2_col2\" class=\"data row2 col2\" >0.7368</td>\n",
       "                        <td id=\"T_6f3caded_0805_11ec_ab06_80c5f20e49e9row2_col3\" class=\"data row2 col3\" >0.7000</td>\n",
       "                        <td id=\"T_6f3caded_0805_11ec_ab06_80c5f20e49e9row2_col4\" class=\"data row2 col4\" >0.7179</td>\n",
       "                        <td id=\"T_6f3caded_0805_11ec_ab06_80c5f20e49e9row2_col5\" class=\"data row2 col5\" >0.5587</td>\n",
       "                        <td id=\"T_6f3caded_0805_11ec_ab06_80c5f20e49e9row2_col6\" class=\"data row2 col6\" >0.5591</td>\n",
       "            </tr>\n",
       "            <tr>\n",
       "                        <th id=\"T_6f3caded_0805_11ec_ab06_80c5f20e49e9level0_row3\" class=\"row_heading level0 row3\" >3</th>\n",
       "                        <td id=\"T_6f3caded_0805_11ec_ab06_80c5f20e49e9row3_col0\" class=\"data row3 col0\" >0.7407</td>\n",
       "                        <td id=\"T_6f3caded_0805_11ec_ab06_80c5f20e49e9row3_col1\" class=\"data row3 col1\" >0.8180</td>\n",
       "                        <td id=\"T_6f3caded_0805_11ec_ab06_80c5f20e49e9row3_col2\" class=\"data row3 col2\" >0.7368</td>\n",
       "                        <td id=\"T_6f3caded_0805_11ec_ab06_80c5f20e49e9row3_col3\" class=\"data row3 col3\" >0.6087</td>\n",
       "                        <td id=\"T_6f3caded_0805_11ec_ab06_80c5f20e49e9row3_col4\" class=\"data row3 col4\" >0.6667</td>\n",
       "                        <td id=\"T_6f3caded_0805_11ec_ab06_80c5f20e49e9row3_col5\" class=\"data row3 col5\" >0.4577</td>\n",
       "                        <td id=\"T_6f3caded_0805_11ec_ab06_80c5f20e49e9row3_col6\" class=\"data row3 col6\" >0.4633</td>\n",
       "            </tr>\n",
       "            <tr>\n",
       "                        <th id=\"T_6f3caded_0805_11ec_ab06_80c5f20e49e9level0_row4\" class=\"row_heading level0 row4\" >4</th>\n",
       "                        <td id=\"T_6f3caded_0805_11ec_ab06_80c5f20e49e9row4_col0\" class=\"data row4 col0\" >0.7037</td>\n",
       "                        <td id=\"T_6f3caded_0805_11ec_ab06_80c5f20e49e9row4_col1\" class=\"data row4 col1\" >0.7624</td>\n",
       "                        <td id=\"T_6f3caded_0805_11ec_ab06_80c5f20e49e9row4_col2\" class=\"data row4 col2\" >0.5789</td>\n",
       "                        <td id=\"T_6f3caded_0805_11ec_ab06_80c5f20e49e9row4_col3\" class=\"data row4 col3\" >0.5789</td>\n",
       "                        <td id=\"T_6f3caded_0805_11ec_ab06_80c5f20e49e9row4_col4\" class=\"data row4 col4\" >0.5789</td>\n",
       "                        <td id=\"T_6f3caded_0805_11ec_ab06_80c5f20e49e9row4_col5\" class=\"data row4 col5\" >0.3504</td>\n",
       "                        <td id=\"T_6f3caded_0805_11ec_ab06_80c5f20e49e9row4_col6\" class=\"data row4 col6\" >0.3504</td>\n",
       "            </tr>\n",
       "            <tr>\n",
       "                        <th id=\"T_6f3caded_0805_11ec_ab06_80c5f20e49e9level0_row5\" class=\"row_heading level0 row5\" >5</th>\n",
       "                        <td id=\"T_6f3caded_0805_11ec_ab06_80c5f20e49e9row5_col0\" class=\"data row5 col0\" >0.6852</td>\n",
       "                        <td id=\"T_6f3caded_0805_11ec_ab06_80c5f20e49e9row5_col1\" class=\"data row5 col1\" >0.7353</td>\n",
       "                        <td id=\"T_6f3caded_0805_11ec_ab06_80c5f20e49e9row5_col2\" class=\"data row5 col2\" >0.6316</td>\n",
       "                        <td id=\"T_6f3caded_0805_11ec_ab06_80c5f20e49e9row5_col3\" class=\"data row5 col3\" >0.5455</td>\n",
       "                        <td id=\"T_6f3caded_0805_11ec_ab06_80c5f20e49e9row5_col4\" class=\"data row5 col4\" >0.5854</td>\n",
       "                        <td id=\"T_6f3caded_0805_11ec_ab06_80c5f20e49e9row5_col5\" class=\"data row5 col5\" >0.3338</td>\n",
       "                        <td id=\"T_6f3caded_0805_11ec_ab06_80c5f20e49e9row5_col6\" class=\"data row5 col6\" >0.3361</td>\n",
       "            </tr>\n",
       "            <tr>\n",
       "                        <th id=\"T_6f3caded_0805_11ec_ab06_80c5f20e49e9level0_row6\" class=\"row_heading level0 row6\" >6</th>\n",
       "                        <td id=\"T_6f3caded_0805_11ec_ab06_80c5f20e49e9row6_col0\" class=\"data row6 col0\" >0.7778</td>\n",
       "                        <td id=\"T_6f3caded_0805_11ec_ab06_80c5f20e49e9row6_col1\" class=\"data row6 col1\" >0.8677</td>\n",
       "                        <td id=\"T_6f3caded_0805_11ec_ab06_80c5f20e49e9row6_col2\" class=\"data row6 col2\" >0.6316</td>\n",
       "                        <td id=\"T_6f3caded_0805_11ec_ab06_80c5f20e49e9row6_col3\" class=\"data row6 col3\" >0.7059</td>\n",
       "                        <td id=\"T_6f3caded_0805_11ec_ab06_80c5f20e49e9row6_col4\" class=\"data row6 col4\" >0.6667</td>\n",
       "                        <td id=\"T_6f3caded_0805_11ec_ab06_80c5f20e49e9row6_col5\" class=\"data row6 col5\" >0.5008</td>\n",
       "                        <td id=\"T_6f3caded_0805_11ec_ab06_80c5f20e49e9row6_col6\" class=\"data row6 col6\" >0.5025</td>\n",
       "            </tr>\n",
       "            <tr>\n",
       "                        <th id=\"T_6f3caded_0805_11ec_ab06_80c5f20e49e9level0_row7\" class=\"row_heading level0 row7\" >7</th>\n",
       "                        <td id=\"T_6f3caded_0805_11ec_ab06_80c5f20e49e9row7_col0\" class=\"data row7 col0\" >0.7736</td>\n",
       "                        <td id=\"T_6f3caded_0805_11ec_ab06_80c5f20e49e9row7_col1\" class=\"data row7 col1\" >0.8651</td>\n",
       "                        <td id=\"T_6f3caded_0805_11ec_ab06_80c5f20e49e9row7_col2\" class=\"data row7 col2\" >0.7222</td>\n",
       "                        <td id=\"T_6f3caded_0805_11ec_ab06_80c5f20e49e9row7_col3\" class=\"data row7 col3\" >0.6500</td>\n",
       "                        <td id=\"T_6f3caded_0805_11ec_ab06_80c5f20e49e9row7_col4\" class=\"data row7 col4\" >0.6842</td>\n",
       "                        <td id=\"T_6f3caded_0805_11ec_ab06_80c5f20e49e9row7_col5\" class=\"data row7 col5\" >0.5085</td>\n",
       "                        <td id=\"T_6f3caded_0805_11ec_ab06_80c5f20e49e9row7_col6\" class=\"data row7 col6\" >0.5102</td>\n",
       "            </tr>\n",
       "            <tr>\n",
       "                        <th id=\"T_6f3caded_0805_11ec_ab06_80c5f20e49e9level0_row8\" class=\"row_heading level0 row8\" >8</th>\n",
       "                        <td id=\"T_6f3caded_0805_11ec_ab06_80c5f20e49e9row8_col0\" class=\"data row8 col0\" >0.6792</td>\n",
       "                        <td id=\"T_6f3caded_0805_11ec_ab06_80c5f20e49e9row8_col1\" class=\"data row8 col1\" >0.7175</td>\n",
       "                        <td id=\"T_6f3caded_0805_11ec_ab06_80c5f20e49e9row8_col2\" class=\"data row8 col2\" >0.3889</td>\n",
       "                        <td id=\"T_6f3caded_0805_11ec_ab06_80c5f20e49e9row8_col3\" class=\"data row8 col3\" >0.5385</td>\n",
       "                        <td id=\"T_6f3caded_0805_11ec_ab06_80c5f20e49e9row8_col4\" class=\"data row8 col4\" >0.4516</td>\n",
       "                        <td id=\"T_6f3caded_0805_11ec_ab06_80c5f20e49e9row8_col5\" class=\"data row8 col5\" >0.2332</td>\n",
       "                        <td id=\"T_6f3caded_0805_11ec_ab06_80c5f20e49e9row8_col6\" class=\"data row8 col6\" >0.2394</td>\n",
       "            </tr>\n",
       "            <tr>\n",
       "                        <th id=\"T_6f3caded_0805_11ec_ab06_80c5f20e49e9level0_row9\" class=\"row_heading level0 row9\" >9</th>\n",
       "                        <td id=\"T_6f3caded_0805_11ec_ab06_80c5f20e49e9row9_col0\" class=\"data row9 col0\" >0.8491</td>\n",
       "                        <td id=\"T_6f3caded_0805_11ec_ab06_80c5f20e49e9row9_col1\" class=\"data row9 col1\" >0.8778</td>\n",
       "                        <td id=\"T_6f3caded_0805_11ec_ab06_80c5f20e49e9row9_col2\" class=\"data row9 col2\" >0.7778</td>\n",
       "                        <td id=\"T_6f3caded_0805_11ec_ab06_80c5f20e49e9row9_col3\" class=\"data row9 col3\" >0.7778</td>\n",
       "                        <td id=\"T_6f3caded_0805_11ec_ab06_80c5f20e49e9row9_col4\" class=\"data row9 col4\" >0.7778</td>\n",
       "                        <td id=\"T_6f3caded_0805_11ec_ab06_80c5f20e49e9row9_col5\" class=\"data row9 col5\" >0.6635</td>\n",
       "                        <td id=\"T_6f3caded_0805_11ec_ab06_80c5f20e49e9row9_col6\" class=\"data row9 col6\" >0.6635</td>\n",
       "            </tr>\n",
       "            <tr>\n",
       "                        <th id=\"T_6f3caded_0805_11ec_ab06_80c5f20e49e9level0_row10\" class=\"row_heading level0 row10\" >Mean</th>\n",
       "                        <td id=\"T_6f3caded_0805_11ec_ab06_80c5f20e49e9row10_col0\" class=\"data row10 col0\" >0.7320</td>\n",
       "                        <td id=\"T_6f3caded_0805_11ec_ab06_80c5f20e49e9row10_col1\" class=\"data row10 col1\" >0.8016</td>\n",
       "                        <td id=\"T_6f3caded_0805_11ec_ab06_80c5f20e49e9row10_col2\" class=\"data row10 col2\" >0.6500</td>\n",
       "                        <td id=\"T_6f3caded_0805_11ec_ab06_80c5f20e49e9row10_col3\" class=\"data row10 col3\" >0.6132</td>\n",
       "                        <td id=\"T_6f3caded_0805_11ec_ab06_80c5f20e49e9row10_col4\" class=\"data row10 col4\" >0.6268</td>\n",
       "                        <td id=\"T_6f3caded_0805_11ec_ab06_80c5f20e49e9row10_col5\" class=\"data row10 col5\" >0.4200</td>\n",
       "                        <td id=\"T_6f3caded_0805_11ec_ab06_80c5f20e49e9row10_col6\" class=\"data row10 col6\" >0.4228</td>\n",
       "            </tr>\n",
       "            <tr>\n",
       "                        <th id=\"T_6f3caded_0805_11ec_ab06_80c5f20e49e9level0_row11\" class=\"row_heading level0 row11\" >SD</th>\n",
       "                        <td id=\"T_6f3caded_0805_11ec_ab06_80c5f20e49e9row11_col0\" class=\"data row11 col0\" >0.0725</td>\n",
       "                        <td id=\"T_6f3caded_0805_11ec_ab06_80c5f20e49e9row11_col1\" class=\"data row11 col1\" >0.0715</td>\n",
       "                        <td id=\"T_6f3caded_0805_11ec_ab06_80c5f20e49e9row11_col2\" class=\"data row11 col2\" >0.1064</td>\n",
       "                        <td id=\"T_6f3caded_0805_11ec_ab06_80c5f20e49e9row11_col3\" class=\"data row11 col3\" >0.0992</td>\n",
       "                        <td id=\"T_6f3caded_0805_11ec_ab06_80c5f20e49e9row11_col4\" class=\"data row11 col4\" >0.0958</td>\n",
       "                        <td id=\"T_6f3caded_0805_11ec_ab06_80c5f20e49e9row11_col5\" class=\"data row11 col5\" >0.1470</td>\n",
       "                        <td id=\"T_6f3caded_0805_11ec_ab06_80c5f20e49e9row11_col6\" class=\"data row11 col6\" >0.1448</td>\n",
       "            </tr>\n",
       "    </tbody></table>"
      ],
      "text/plain": [
       "<pandas.io.formats.style.Styler at 0x13aaf86c220>"
      ]
     },
     "metadata": {},
     "output_type": "display_data"
    }
   ],
   "source": [
    "bagged_top5 = [ensemble_model(i) for i in tuned_top5]"
   ]
  },
  {
   "cell_type": "markdown",
   "metadata": {},
   "source": [
    "#### [Blend Models](https://pycaret.org/blend-models/) \n",
    "<BR>Combinar diferentes algoritmos de ML y usar el voto mayoritario o las probabilidades promedio predichas en caso de clasificación para predecir el resultado final."
   ]
  },
  {
   "cell_type": "code",
   "execution_count": 23,
   "metadata": {},
   "outputs": [
    {
     "data": {
      "text/html": [
       "<style  type=\"text/css\" >\n",
       "    #T_75b830e1_0805_11ec_84a7_80c5f20e49e9row10_col0 {\n",
       "            background:  yellow;\n",
       "        }    #T_75b830e1_0805_11ec_84a7_80c5f20e49e9row10_col1 {\n",
       "            background:  yellow;\n",
       "        }    #T_75b830e1_0805_11ec_84a7_80c5f20e49e9row10_col2 {\n",
       "            background:  yellow;\n",
       "        }    #T_75b830e1_0805_11ec_84a7_80c5f20e49e9row10_col3 {\n",
       "            background:  yellow;\n",
       "        }    #T_75b830e1_0805_11ec_84a7_80c5f20e49e9row10_col4 {\n",
       "            background:  yellow;\n",
       "        }    #T_75b830e1_0805_11ec_84a7_80c5f20e49e9row10_col5 {\n",
       "            background:  yellow;\n",
       "        }    #T_75b830e1_0805_11ec_84a7_80c5f20e49e9row10_col6 {\n",
       "            background:  yellow;\n",
       "        }</style><table id=\"T_75b830e1_0805_11ec_84a7_80c5f20e49e9\" ><thead>    <tr>        <th class=\"blank level0\" ></th>        <th class=\"col_heading level0 col0\" >Accuracy</th>        <th class=\"col_heading level0 col1\" >AUC</th>        <th class=\"col_heading level0 col2\" >Recall</th>        <th class=\"col_heading level0 col3\" >Prec.</th>        <th class=\"col_heading level0 col4\" >F1</th>        <th class=\"col_heading level0 col5\" >Kappa</th>        <th class=\"col_heading level0 col6\" >MCC</th>    </tr></thead><tbody>\n",
       "                <tr>\n",
       "                        <th id=\"T_75b830e1_0805_11ec_84a7_80c5f20e49e9level0_row0\" class=\"row_heading level0 row0\" >0</th>\n",
       "                        <td id=\"T_75b830e1_0805_11ec_84a7_80c5f20e49e9row0_col0\" class=\"data row0 col0\" >0.6481</td>\n",
       "                        <td id=\"T_75b830e1_0805_11ec_84a7_80c5f20e49e9row0_col1\" class=\"data row0 col1\" >0.0000</td>\n",
       "                        <td id=\"T_75b830e1_0805_11ec_84a7_80c5f20e49e9row0_col2\" class=\"data row0 col2\" >0.5556</td>\n",
       "                        <td id=\"T_75b830e1_0805_11ec_84a7_80c5f20e49e9row0_col3\" class=\"data row0 col3\" >0.4762</td>\n",
       "                        <td id=\"T_75b830e1_0805_11ec_84a7_80c5f20e49e9row0_col4\" class=\"data row0 col4\" >0.5128</td>\n",
       "                        <td id=\"T_75b830e1_0805_11ec_84a7_80c5f20e49e9row0_col5\" class=\"data row0 col5\" >0.2400</td>\n",
       "                        <td id=\"T_75b830e1_0805_11ec_84a7_80c5f20e49e9row0_col6\" class=\"data row0 col6\" >0.2417</td>\n",
       "            </tr>\n",
       "            <tr>\n",
       "                        <th id=\"T_75b830e1_0805_11ec_84a7_80c5f20e49e9level0_row1\" class=\"row_heading level0 row1\" >1</th>\n",
       "                        <td id=\"T_75b830e1_0805_11ec_84a7_80c5f20e49e9row1_col0\" class=\"data row1 col0\" >0.7407</td>\n",
       "                        <td id=\"T_75b830e1_0805_11ec_84a7_80c5f20e49e9row1_col1\" class=\"data row1 col1\" >0.0000</td>\n",
       "                        <td id=\"T_75b830e1_0805_11ec_84a7_80c5f20e49e9row1_col2\" class=\"data row1 col2\" >0.5263</td>\n",
       "                        <td id=\"T_75b830e1_0805_11ec_84a7_80c5f20e49e9row1_col3\" class=\"data row1 col3\" >0.6667</td>\n",
       "                        <td id=\"T_75b830e1_0805_11ec_84a7_80c5f20e49e9row1_col4\" class=\"data row1 col4\" >0.5882</td>\n",
       "                        <td id=\"T_75b830e1_0805_11ec_84a7_80c5f20e49e9row1_col5\" class=\"data row1 col5\" >0.4028</td>\n",
       "                        <td id=\"T_75b830e1_0805_11ec_84a7_80c5f20e49e9row1_col6\" class=\"data row1 col6\" >0.4088</td>\n",
       "            </tr>\n",
       "            <tr>\n",
       "                        <th id=\"T_75b830e1_0805_11ec_84a7_80c5f20e49e9level0_row2\" class=\"row_heading level0 row2\" >2</th>\n",
       "                        <td id=\"T_75b830e1_0805_11ec_84a7_80c5f20e49e9row2_col0\" class=\"data row2 col0\" >0.7963</td>\n",
       "                        <td id=\"T_75b830e1_0805_11ec_84a7_80c5f20e49e9row2_col1\" class=\"data row2 col1\" >0.0000</td>\n",
       "                        <td id=\"T_75b830e1_0805_11ec_84a7_80c5f20e49e9row2_col2\" class=\"data row2 col2\" >0.5789</td>\n",
       "                        <td id=\"T_75b830e1_0805_11ec_84a7_80c5f20e49e9row2_col3\" class=\"data row2 col3\" >0.7857</td>\n",
       "                        <td id=\"T_75b830e1_0805_11ec_84a7_80c5f20e49e9row2_col4\" class=\"data row2 col4\" >0.6667</td>\n",
       "                        <td id=\"T_75b830e1_0805_11ec_84a7_80c5f20e49e9row2_col5\" class=\"data row2 col5\" >0.5248</td>\n",
       "                        <td id=\"T_75b830e1_0805_11ec_84a7_80c5f20e49e9row2_col6\" class=\"data row2 col6\" >0.5375</td>\n",
       "            </tr>\n",
       "            <tr>\n",
       "                        <th id=\"T_75b830e1_0805_11ec_84a7_80c5f20e49e9level0_row3\" class=\"row_heading level0 row3\" >3</th>\n",
       "                        <td id=\"T_75b830e1_0805_11ec_84a7_80c5f20e49e9row3_col0\" class=\"data row3 col0\" >0.7963</td>\n",
       "                        <td id=\"T_75b830e1_0805_11ec_84a7_80c5f20e49e9row3_col1\" class=\"data row3 col1\" >0.0000</td>\n",
       "                        <td id=\"T_75b830e1_0805_11ec_84a7_80c5f20e49e9row3_col2\" class=\"data row3 col2\" >0.6316</td>\n",
       "                        <td id=\"T_75b830e1_0805_11ec_84a7_80c5f20e49e9row3_col3\" class=\"data row3 col3\" >0.7500</td>\n",
       "                        <td id=\"T_75b830e1_0805_11ec_84a7_80c5f20e49e9row3_col4\" class=\"data row3 col4\" >0.6857</td>\n",
       "                        <td id=\"T_75b830e1_0805_11ec_84a7_80c5f20e49e9row3_col5\" class=\"data row3 col5\" >0.5367</td>\n",
       "                        <td id=\"T_75b830e1_0805_11ec_84a7_80c5f20e49e9row3_col6\" class=\"data row3 col6\" >0.5410</td>\n",
       "            </tr>\n",
       "            <tr>\n",
       "                        <th id=\"T_75b830e1_0805_11ec_84a7_80c5f20e49e9level0_row4\" class=\"row_heading level0 row4\" >4</th>\n",
       "                        <td id=\"T_75b830e1_0805_11ec_84a7_80c5f20e49e9row4_col0\" class=\"data row4 col0\" >0.7593</td>\n",
       "                        <td id=\"T_75b830e1_0805_11ec_84a7_80c5f20e49e9row4_col1\" class=\"data row4 col1\" >0.0000</td>\n",
       "                        <td id=\"T_75b830e1_0805_11ec_84a7_80c5f20e49e9row4_col2\" class=\"data row4 col2\" >0.3684</td>\n",
       "                        <td id=\"T_75b830e1_0805_11ec_84a7_80c5f20e49e9row4_col3\" class=\"data row4 col3\" >0.8750</td>\n",
       "                        <td id=\"T_75b830e1_0805_11ec_84a7_80c5f20e49e9row4_col4\" class=\"data row4 col4\" >0.5185</td>\n",
       "                        <td id=\"T_75b830e1_0805_11ec_84a7_80c5f20e49e9row4_col5\" class=\"data row4 col5\" >0.3917</td>\n",
       "                        <td id=\"T_75b830e1_0805_11ec_84a7_80c5f20e49e9row4_col6\" class=\"data row4 col6\" >0.4569</td>\n",
       "            </tr>\n",
       "            <tr>\n",
       "                        <th id=\"T_75b830e1_0805_11ec_84a7_80c5f20e49e9level0_row5\" class=\"row_heading level0 row5\" >5</th>\n",
       "                        <td id=\"T_75b830e1_0805_11ec_84a7_80c5f20e49e9row5_col0\" class=\"data row5 col0\" >0.6667</td>\n",
       "                        <td id=\"T_75b830e1_0805_11ec_84a7_80c5f20e49e9row5_col1\" class=\"data row5 col1\" >0.0000</td>\n",
       "                        <td id=\"T_75b830e1_0805_11ec_84a7_80c5f20e49e9row5_col2\" class=\"data row5 col2\" >0.4737</td>\n",
       "                        <td id=\"T_75b830e1_0805_11ec_84a7_80c5f20e49e9row5_col3\" class=\"data row5 col3\" >0.5294</td>\n",
       "                        <td id=\"T_75b830e1_0805_11ec_84a7_80c5f20e49e9row5_col4\" class=\"data row5 col4\" >0.5000</td>\n",
       "                        <td id=\"T_75b830e1_0805_11ec_84a7_80c5f20e49e9row5_col5\" class=\"data row5 col5\" >0.2512</td>\n",
       "                        <td id=\"T_75b830e1_0805_11ec_84a7_80c5f20e49e9row5_col6\" class=\"data row5 col6\" >0.2520</td>\n",
       "            </tr>\n",
       "            <tr>\n",
       "                        <th id=\"T_75b830e1_0805_11ec_84a7_80c5f20e49e9level0_row6\" class=\"row_heading level0 row6\" >6</th>\n",
       "                        <td id=\"T_75b830e1_0805_11ec_84a7_80c5f20e49e9row6_col0\" class=\"data row6 col0\" >0.7407</td>\n",
       "                        <td id=\"T_75b830e1_0805_11ec_84a7_80c5f20e49e9row6_col1\" class=\"data row6 col1\" >0.0000</td>\n",
       "                        <td id=\"T_75b830e1_0805_11ec_84a7_80c5f20e49e9row6_col2\" class=\"data row6 col2\" >0.4737</td>\n",
       "                        <td id=\"T_75b830e1_0805_11ec_84a7_80c5f20e49e9row6_col3\" class=\"data row6 col3\" >0.6923</td>\n",
       "                        <td id=\"T_75b830e1_0805_11ec_84a7_80c5f20e49e9row6_col4\" class=\"data row6 col4\" >0.5625</td>\n",
       "                        <td id=\"T_75b830e1_0805_11ec_84a7_80c5f20e49e9row6_col5\" class=\"data row6 col5\" >0.3874</td>\n",
       "                        <td id=\"T_75b830e1_0805_11ec_84a7_80c5f20e49e9row6_col6\" class=\"data row6 col6\" >0.4014</td>\n",
       "            </tr>\n",
       "            <tr>\n",
       "                        <th id=\"T_75b830e1_0805_11ec_84a7_80c5f20e49e9level0_row7\" class=\"row_heading level0 row7\" >7</th>\n",
       "                        <td id=\"T_75b830e1_0805_11ec_84a7_80c5f20e49e9row7_col0\" class=\"data row7 col0\" >0.8679</td>\n",
       "                        <td id=\"T_75b830e1_0805_11ec_84a7_80c5f20e49e9row7_col1\" class=\"data row7 col1\" >0.0000</td>\n",
       "                        <td id=\"T_75b830e1_0805_11ec_84a7_80c5f20e49e9row7_col2\" class=\"data row7 col2\" >0.7778</td>\n",
       "                        <td id=\"T_75b830e1_0805_11ec_84a7_80c5f20e49e9row7_col3\" class=\"data row7 col3\" >0.8235</td>\n",
       "                        <td id=\"T_75b830e1_0805_11ec_84a7_80c5f20e49e9row7_col4\" class=\"data row7 col4\" >0.8000</td>\n",
       "                        <td id=\"T_75b830e1_0805_11ec_84a7_80c5f20e49e9row7_col5\" class=\"data row7 col5\" >0.7015</td>\n",
       "                        <td id=\"T_75b830e1_0805_11ec_84a7_80c5f20e49e9row7_col6\" class=\"data row7 col6\" >0.7022</td>\n",
       "            </tr>\n",
       "            <tr>\n",
       "                        <th id=\"T_75b830e1_0805_11ec_84a7_80c5f20e49e9level0_row8\" class=\"row_heading level0 row8\" >8</th>\n",
       "                        <td id=\"T_75b830e1_0805_11ec_84a7_80c5f20e49e9row8_col0\" class=\"data row8 col0\" >0.6792</td>\n",
       "                        <td id=\"T_75b830e1_0805_11ec_84a7_80c5f20e49e9row8_col1\" class=\"data row8 col1\" >0.0000</td>\n",
       "                        <td id=\"T_75b830e1_0805_11ec_84a7_80c5f20e49e9row8_col2\" class=\"data row8 col2\" >0.3889</td>\n",
       "                        <td id=\"T_75b830e1_0805_11ec_84a7_80c5f20e49e9row8_col3\" class=\"data row8 col3\" >0.5385</td>\n",
       "                        <td id=\"T_75b830e1_0805_11ec_84a7_80c5f20e49e9row8_col4\" class=\"data row8 col4\" >0.4516</td>\n",
       "                        <td id=\"T_75b830e1_0805_11ec_84a7_80c5f20e49e9row8_col5\" class=\"data row8 col5\" >0.2332</td>\n",
       "                        <td id=\"T_75b830e1_0805_11ec_84a7_80c5f20e49e9row8_col6\" class=\"data row8 col6\" >0.2394</td>\n",
       "            </tr>\n",
       "            <tr>\n",
       "                        <th id=\"T_75b830e1_0805_11ec_84a7_80c5f20e49e9level0_row9\" class=\"row_heading level0 row9\" >9</th>\n",
       "                        <td id=\"T_75b830e1_0805_11ec_84a7_80c5f20e49e9row9_col0\" class=\"data row9 col0\" >0.8113</td>\n",
       "                        <td id=\"T_75b830e1_0805_11ec_84a7_80c5f20e49e9row9_col1\" class=\"data row9 col1\" >0.0000</td>\n",
       "                        <td id=\"T_75b830e1_0805_11ec_84a7_80c5f20e49e9row9_col2\" class=\"data row9 col2\" >0.6111</td>\n",
       "                        <td id=\"T_75b830e1_0805_11ec_84a7_80c5f20e49e9row9_col3\" class=\"data row9 col3\" >0.7857</td>\n",
       "                        <td id=\"T_75b830e1_0805_11ec_84a7_80c5f20e49e9row9_col4\" class=\"data row9 col4\" >0.6875</td>\n",
       "                        <td id=\"T_75b830e1_0805_11ec_84a7_80c5f20e49e9row9_col5\" class=\"data row9 col5\" >0.5554</td>\n",
       "                        <td id=\"T_75b830e1_0805_11ec_84a7_80c5f20e49e9row9_col6\" class=\"data row9 col6\" >0.5644</td>\n",
       "            </tr>\n",
       "            <tr>\n",
       "                        <th id=\"T_75b830e1_0805_11ec_84a7_80c5f20e49e9level0_row10\" class=\"row_heading level0 row10\" >Mean</th>\n",
       "                        <td id=\"T_75b830e1_0805_11ec_84a7_80c5f20e49e9row10_col0\" class=\"data row10 col0\" >0.7507</td>\n",
       "                        <td id=\"T_75b830e1_0805_11ec_84a7_80c5f20e49e9row10_col1\" class=\"data row10 col1\" >0.0000</td>\n",
       "                        <td id=\"T_75b830e1_0805_11ec_84a7_80c5f20e49e9row10_col2\" class=\"data row10 col2\" >0.5386</td>\n",
       "                        <td id=\"T_75b830e1_0805_11ec_84a7_80c5f20e49e9row10_col3\" class=\"data row10 col3\" >0.6923</td>\n",
       "                        <td id=\"T_75b830e1_0805_11ec_84a7_80c5f20e49e9row10_col4\" class=\"data row10 col4\" >0.5974</td>\n",
       "                        <td id=\"T_75b830e1_0805_11ec_84a7_80c5f20e49e9row10_col5\" class=\"data row10 col5\" >0.4225</td>\n",
       "                        <td id=\"T_75b830e1_0805_11ec_84a7_80c5f20e49e9row10_col6\" class=\"data row10 col6\" >0.4345</td>\n",
       "            </tr>\n",
       "            <tr>\n",
       "                        <th id=\"T_75b830e1_0805_11ec_84a7_80c5f20e49e9level0_row11\" class=\"row_heading level0 row11\" >SD</th>\n",
       "                        <td id=\"T_75b830e1_0805_11ec_84a7_80c5f20e49e9row11_col0\" class=\"data row11 col0\" >0.0667</td>\n",
       "                        <td id=\"T_75b830e1_0805_11ec_84a7_80c5f20e49e9row11_col1\" class=\"data row11 col1\" >0.0000</td>\n",
       "                        <td id=\"T_75b830e1_0805_11ec_84a7_80c5f20e49e9row11_col2\" class=\"data row11 col2\" >0.1153</td>\n",
       "                        <td id=\"T_75b830e1_0805_11ec_84a7_80c5f20e49e9row11_col3\" class=\"data row11 col3\" >0.1300</td>\n",
       "                        <td id=\"T_75b830e1_0805_11ec_84a7_80c5f20e49e9row11_col4\" class=\"data row11 col4\" >0.1035</td>\n",
       "                        <td id=\"T_75b830e1_0805_11ec_84a7_80c5f20e49e9row11_col5\" class=\"data row11 col5\" >0.1484</td>\n",
       "                        <td id=\"T_75b830e1_0805_11ec_84a7_80c5f20e49e9row11_col6\" class=\"data row11 col6\" >0.1487</td>\n",
       "            </tr>\n",
       "    </tbody></table>"
      ],
      "text/plain": [
       "<pandas.io.formats.style.Styler at 0x13aaf676b20>"
      ]
     },
     "metadata": {},
     "output_type": "display_data"
    }
   ],
   "source": [
    "blender = blend_models(estimator_list = top5) "
   ]
  },
  {
   "cell_type": "code",
   "execution_count": null,
   "metadata": {},
   "outputs": [],
   "source": [
    "!mlflow ui"
   ]
  },
  {
   "cell_type": "code",
   "execution_count": null,
   "metadata": {},
   "outputs": [],
   "source": [
    "#http://localhost:5000"
   ]
  }
 ],
 "metadata": {
  "kernelspec": {
   "display_name": "Austral",
   "language": "python",
   "name": "austral"
  },
  "language_info": {
   "codemirror_mode": {
    "name": "ipython",
    "version": 3
   },
   "file_extension": ".py",
   "mimetype": "text/x-python",
   "name": "python",
   "nbconvert_exporter": "python",
   "pygments_lexer": "ipython3",
   "version": "3.8.5"
  }
 },
 "nbformat": 4,
 "nbformat_minor": 4
}

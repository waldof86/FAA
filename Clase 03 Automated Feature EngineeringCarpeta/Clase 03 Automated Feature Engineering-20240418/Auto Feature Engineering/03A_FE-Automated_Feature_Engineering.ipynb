{
 "cells": [
  {
   "cell_type": "markdown",
   "metadata": {},
   "source": [
    "<a id = \"1.0\"></a>\n",
    "<p style=\"font-size:15px;color:#34656d;font-family:'Comic Sans MS';text-align:right;border-radius:5px 5px;\">\n",
    "    <i>Proponer características es difícil, lleva mucho tiempo y requiere conocimiento experto.<br>El \"Automated Machine Learning\" es básicamente ingeniería de características.</i><br><b>Andrew Ng</b></p>  "
   ]
  },
  {
   "cell_type": "markdown",
   "metadata": {},
   "source": [
    "<a id = \"1.0\"></a>\n",
    "<p style=\"font-size:15px;color:#34656d;font-family:'Comic Sans MS';text-align:right;border-radius:5px 5px;\">\n",
    "<i>Material curado y organizado por el Prof. Dr. Hernán D. Merlino</i><br> \n",
    "<i>Automated Feature Engineering Versión 1.0 - 2022 Q2</i></p> \n",
    "<a id = \"1.0\"></a>\n",
    "<p style=\"font-size:15px;color:#34656d;font-family:'Comic Sans MS';text-align:center;border-radius:5px 5px;\">\n",
    "<strong>_____________________________________________________________</strong></p> "
   ]
  },
  {
   "cell_type": "markdown",
   "metadata": {},
   "source": [
    "<a id = \"1.0\"></a>\n",
    "<p style=\"font-size:25px;color:#34656d;font-family:'Comic Sans MS';text-align:center;border-radius:5px 5px;\">\n",
    "<strong>Automated Feature Engineering</strong></p> "
   ]
  },
  {
   "cell_type": "markdown",
   "metadata": {},
   "source": [
    "<a id = \"1.0\"></a>\n",
    "<p style=\"font-size:15px;color:#34656d;font-family:'Comic Sans MS';text-align:left;border-radius:5px 5px;\">\n",
    "<strong><u>Importancia</u></strong>:\n",
    "<ul style=\"font-size:15px;color:#34656d;font-family:'Comic Sans MS';text-align:left;border-radius:5px 5px;\">\n",
    "<li><i>Muy Alta - Máxima Prioridad</i></li>\n",
    "</ul></p>\n",
    "\n",
    "<p style=\"font-size:15px;color:#34656d;font-family:'Comic Sans MS';text-align:left;border-radius:5px 5px;\">\n",
    "<strong><u>Otros Nombre Utilizados como Sinonimos:</u></strong><br> \n",
    "<ul style=\"font-size:15px;color:#34656d;font-family:'Comic Sans MS';text-align:left;border-radius:5px 5px;\">\n",
    "<li><i>Data Aumentation</i></li>\n",
    "<li><i>Ingeniería de Características</i></li>\n",
    "</ul></p>\n",
    "    \n",
    "<p style=\"font-size:15px;color:#34656d;font-family:'Comic Sans MS';text-align:left;border-radius:5px 5px;\">\n",
    "<strong><u>Secuencia en el proceso de Ciencia de Datos:</u></strong><br> \n",
    "<ul style=\"font-size:15px;color:#34656d;font-family:'Comic Sans MS';text-align:left;border-radius:5px 5px;\">\n",
    "<li>Luego del <b><i>Data Cleaning</i></b></li>\n",
    "<li>Antes del <b><i>Algorithmic Selection</i></b></li> \n",
    "</ul></p>\n",
    "\n",
    "<p style=\"font-size:15px;color:#34656d;font-family:'Comic Sans MS';text-align:left;border-radius:5px 5px;\">\n",
    "<strong><u>Definición:</u></strong><br>     \n",
    "El Feature Engineering (<b><i>FE</i></b>), es crear nuevas características para representar la mayor cantidad de información de un conjunto de datos.<BR></p> \n",
    " \n",
    "<p style=\"font-size:15px;color:#34656d;font-family:'Comic Sans MS';text-align:left;border-radius:5px 5px;\">\n",
    "En el contexto de <b><i>ML</i></b>, una <strong><i>característica</i></strong>, o un <strong><i>conjunto de características</i></strong>,  puede describirse como algo que explica la ocurrencia de un fenómeno.&nbsp;&nbsp;Cuando este <b><i>\"algo\"</i></b> puede ser mensurable/medible, se denominan características.</p>\n",
    "<p style=\"font-size:14px;color:#34656d;font-family:'Comic Sans MS';text-align:right;border-radius:5px 5px;\">    \n",
    "<i>Fuente:&nbsp;&nbsp;<a href=\"https://www.analyticsvidhya.com/blog/2018/08/guide-automated-feature-engineering-featuretools-python/\" target=\\\"_blank\\\">A Hands-On Guide to Automated Feature Engineering using Featuretools in Python</a></i></p> \n",
    "\n",
    "<a id = \"1.0\"></a>\n",
    "<p style=\"font-size:15px;color:#34656d;font-family:'Comic Sans MS';text-align:left;border-radius:5px 5px;\">\n",
    "El <b><i>Automated Feature Engineering</i></b> (<b><i>AutoFE</i></b>) tiene como objetivo ayudar al científico de datos con el problema de la creación de características, mediante la creación automática de cientos o miles de características nuevas a partir de un conjunto de datos.<BR></p>\n",
    "<p style=\"font-size:14px;color:#34656d;font-family:'Comic Sans MS';text-align:right;border-radius:5px 5px;\">    \n",
    "<i>Fuente:&nbsp;&nbsp;<a href=\"https://www.kaggle.com/willkoehrsen/automated-feature-engineering-basics\" target=\\\"_blank\\\">Automated Feature Engineering Basics</a></i></p>        \n",
    "\n",
    "<p style=\"font-size:15px;color:#34656d;font-family:'Comic Sans MS';text-align:left;border-radius:5px 5px;\">\n",
    "<strong><u>Otras definiciones:</u></strong><br>\n",
    "<b><i>AutoFE</i></b> es el proceso de generar nuevas características y seleccionar el mejor subconjunto de estas, utilizando un entorno de trabajo eficiente que ahorra tiempo y sea independiente del problema.<BR>\n",
    "<p style=\"font-size:14px;color:#34656d;font-family:'Comic Sans MS';text-align:right;border-radius:5px 5px;\">    \n",
    "<i>Fuente:&nbsp;&nbsp;<a href=\"https://medium.com/@patil.shru/understanding-automated-feature-engineering-autofe-ca9f2be6f9c\" target=\\\"_blank\\\">Understanding Automated Feature Engineering Tools| AutoFE</a></i></p> \n",
    "    \n",
    "<p style=\"font-size:15px;color:#34656d;font-family:'Comic Sans MS';text-align:left;border-radius:5px 5px;\">\n",
    "<strong><u>Nivel de Conocimiento Necesario:</u></strong><br>\n",
    "Cuando mas experticia se obtenga en esta estapa sera mejor el resultado obtenido en el proceso de <b><i>ciencia de datos</i></b>.<BR> La manera práctica de obtener experticia es buscando dataset en Internet y probar.<BR>\n",
    "También, es necesario estar actualizado de lo reportado por la comunidad sobre que funciona mejor y/o peor.<BR>\n",
    "La idea es poder evaluar que características mejoran la sensibilidad de los algoritmos, no todos responden de la misma manera.</p>\n",
    "\n",
    "<p style=\"font-size:15px;color:#34656d;font-family:'Comic Sans MS';text-align:left;border-radius:5px 5px;\">\n",
    "<strong><u>Comentario:</u></strong><br>    \n",
    "El <b><i>FE</i></b> manual está limitada tanto por el tiempo del proyecto como por la imaginación/experticia del científico de datos.</p>"
   ]
  },
  {
   "cell_type": "markdown",
   "metadata": {},
   "source": [
    "<a id = \"1.0\"></a>\n",
    "<p style=\"font-size:15px;color:#34656d;font-family:'Comic Sans MS';text-align:center;border-radius:5px 5px;\">\n",
    "<strong>_____________________________________________________________</strong></p> "
   ]
  },
  {
   "cell_type": "markdown",
   "metadata": {},
   "source": [
    "<p style=\"font-size:15px;color:#34656d;font-family:'Comic Sans MS';text-align:left;border-radius:5px 5px;\">\n",
    "<strong><u>Sub divisiones:</u></strong><br> \n",
    "<ul style=\"font-size:15px;color:#34656d;font-family:'Comic Sans MS';text-align:left;border-radius:5px 5px;\">\n",
    "<li><i><B>Feature Extraction:</B></i>&nbsp;&nbsp;Creación de nuevas características a partir de existentes, ejemplo <B>Reducción de dimensionalidad</B> (<a href=\"https://builtin.com/data-science/step-step-explanation-principal-component-analysis\" target=\\\"_blank\\\">PCA</a>, <a href=\"https://datascientest.com/es/comprende-el-algoritmo-t-sne-en-3-pasos\" target=\\\"_blank\\\">T-SNE</a>)</li>\n",
    "<li><i><B>Feature Selection:</B></i>&nbsp;&nbsp;Seleción de características importantes, técnicas usadas <a href=\"https://machinelearningmastery.com/information-gain-and-mutual-information/\" target=\\\"_blank\\\">F-score</a>,&nbsp;<a href=\"https://machinelearningmastery.com/information-gain-and-mutual-information/\" target=\\\"_blank\\\">Mutual information score</a>,&nbsp;<a href=\"https://towardsdatascience.com/chi-square-test-for-feature-selection-in-machine-learning-206b1f0b8223\" target=\\\"_blank\\\">Chi-square score</a></li>\n",
    "<li><i><B>Feature Construction:</B></i>&nbsp;&nbsp;Generar características que ayuden al modelo, ejemplo <a href=\"https://towardsdatascience.com/feature-engineering-of-datetime-variables-for-data-science-machine-learning-45e611c632ad\" target=\\\"_blank\\\">desagregación de fecha-hora</a></li>    \n",
    "</ul>\n",
    "<p style=\"font-size:14px;color:#34656d;font-family:'Comic Sans MS';text-align:right;border-radius:5px 5px;\">    \n",
    "<i>Fuente:&nbsp;&nbsp;<a href=\"https://neptune.ai/blog/feature-engineering-tools\" target=\\\"_blank\\\">The Best Feature Engineering Tools</a></i></p>"
   ]
  },
  {
   "cell_type": "markdown",
   "metadata": {},
   "source": [
    "<p style=\"font-size:15px;color:#34656d;font-family:'Comic Sans MS';text-align:left;border-radius:5px 5px;\">\n",
    "<strong><u>Comentario 1:</u></strong><br>    \n",
    "Artículo que además de dar una implementación de T-SNE en Python, presenta una comparación entre PCA y T-SNE (<a href=\"https://towardsdatascience.com/an-introduction-to-t-sne-with-python-example-5a3a293108d1\" target=\\\"_blank\\\">An Introduction to t-SNE with Python Example</a>).</p>\n",
    "\n",
    "<p style=\"font-size:15px;color:#34656d;font-family:'Comic Sans MS';text-align:left;border-radius:5px 5px;\">\n",
    "<strong><u>Comentario 2:</u></strong><br>    \n",
    "El proceso de selección de características, aunque existan técnicas que ayudan a seleccionarlas no son definitorias, a estas técnicas se le debe sumar el proceso llamado <i><B>\"recursive feature selection\"</B></i> que consiste en iterar entrenamiento y selección de diversos grupos de características hasta encontrar el conjunto óptimo de características para entrenar el modelo.</p>\n",
    "<a id = \"1.0\"></a>\n",
    "<p style=\"font-size:15px;color:#34656d;font-family:'Comic Sans MS';text-align:center;border-radius:5px 5px;\">\n",
    "<strong>_____________________________________________________________</strong></p> "
   ]
  },
  {
   "cell_type": "markdown",
   "metadata": {},
   "source": [
    "<a id = \"1.0\"></a>\n",
    "<p style=\"font-size:15px;color:#34656d;font-family:'Comic Sans MS';text-align:left;border-radius:5px 5px;\">\n",
    "<strong><u>Comparación de tiempos asignados a cada etapa</u></strong>:<BR>\n",
    "El tiempo que se le dedica a la ingeniería de características es el mayor en comparación al resto de etapas del proceso de <b><i>ciencia de datos</i></b>. \n",
    "Resulta común que en los proyectos de <b><i>ciencia de datos</i></b> no se estime de manera aporpiada el tiempo que requiere el <b><i>FE</i></b> (Figura 1).    \n",
    "</p>"
   ]
  },
  {
   "cell_type": "markdown",
   "metadata": {},
   "source": [
    "![Alt Text](./img/01.png)\n",
    "<a id = \"1.0\"></a>\n",
    "<p style=\"font-size:14px;color:#34656d;font-family:'Comic Sans MS';text-align:center;border-radius:5px 5px;\">\n",
    "<strong>Figura 1</strong>: Tiempo real consumido por cada etapa en los proyectos de ciencia de datos</p>"
   ]
  },
  {
   "cell_type": "markdown",
   "metadata": {},
   "source": [
    "<a id = \"1.0\"></a>\n",
    "<p style=\"font-size:14px;color:#34656d;font-family:'Comic Sans MS';text-align:right;border-radius:5px 5px;\">\n",
    "<i>Fuente:&nbsp;&nbsp;<a href=\"https://heartbeat.fritz.ai/introduction-to-automated-feature-engineering-using-deep-feature-synthesis-dfs-3feb69a7c00b\" target=\\\"_blank\\\">Feature Engineering Using Deep Feature Synthesis</a><br></p> \n",
    "<p style=\"font-size:15px;color:#34656d;font-family:'Comic Sans MS';text-align:center;border-radius:5px 5px;\"></i>\n",
    "<strong>_____________________________________________________________</strong></p> "
   ]
  },
  {
   "cell_type": "markdown",
   "metadata": {},
   "source": [
    "<a id = \"1.0\"></a>\n",
    "<p style=\"font-size:15px;color:#34656d;font-family:'Comic Sans MS';text-align:left;border-radius:5px 5px;\">\n",
    "<strong><u>Ventajas del AutoFE</u></strong>:\n",
    "<ul style=\"font-size:15px;color:#34656d;font-family:'Comic Sans MS';text-align:left;border-radius:5px 5px;\">\n",
    "<li><i>Los científicos pueden centrarse en otros pasos del ML</i></li>\n",
    "<li><i>Obviar la necesidad de la intuición humana y el conocimiento específico del dominio</i></li>\n",
    "<li><i>Los no expertos pueden extraer valor de sus datos rápidamente</i></li>    \n",
    "</ul></p>"
   ]
  },
  {
   "cell_type": "markdown",
   "metadata": {},
   "source": [
    "<a id = \"1.0\"></a>\n",
    "<p style=\"font-size:15px;color:#34656d;font-family:'Comic Sans MS';text-align:left;border-radius:5px 5px;\">\n",
    "<strong><u>Algunas Herramientas de AutoFE</u></strong>:\n",
    "<ul style=\"font-size:15px;color:#34656d;font-family:'Comic Sans MS';text-align:left;border-radius:5px 5px;\">\n",
    "<li><i>Featuretools</i></li>\n",
    "<li><i>AutoFeat</i></li>\n",
    "<li><i>TsFresh</i></li>    \n",
    "<li><i>Feature Selector</i></li>   \n",
    "</ul></p>    "
   ]
  },
  {
   "cell_type": "markdown",
   "metadata": {},
   "source": [
    "<a id = \"1.0\"></a>\n",
    "<p style=\"font-size:15px;color:#34656d;font-family:'Comic Sans MS';text-align:left;border-radius:5px 5px;\">\n",
    "<strong><u>Featuretools</u></strong>:<BR>\n",
    "Framework para generación y selección de características<BR>\n",
    "Trabaja con bases de datos relacionales y series temporales de datos.<BR>\n",
    "Ampliamente utilizada, con una comunidad activa.<BR>\n",
    "<i>Link:&nbsp;&nbsp;<a href=\"https://featuretools.alteryx.com/en/stable/getting_started/getting_started_index.html\" target=\\\"_blank\\\">Featuretools </a></i>\n",
    "</p>\n",
    "    \n",
    "<p style=\"font-size:15px;color:#34656d;font-family:'Comic Sans MS';text-align:left;border-radius:5px 5px;\">\n",
    "<strong><u>AutoFeat</u></strong>:<BR>\n",
    "Framework para generación y selección de características.<BR>\n",
    "Tambien permite generar procesos automáticos especificamente para regresiones y clasificaciones.<BR>\n",
    "Se recomienda utilizar y seguir la evolución de esta librería.<BR>\n",
    "<i>Link:&nbsp;&nbsp;<a href=\"https://github.com/cod3licious/autofeat\" target=\\\"_blank\\\">Autofeat</a></i>\n",
    "</p> \n",
    "    \n",
    "<p style=\"font-size:15px;color:#34656d;font-family:'Comic Sans MS';text-align:left;border-radius:5px 5px;\">\n",
    "<strong><u>TsFresh</u></strong>:<BR>\n",
    "Framework para cálculo automatico de características en seris de tiempo.<BR>\n",
    "Permite evaluar la importancia de una caractersitica para una regresión o clasificación.<BR>\n",
    "Se recomienda utilizar y seguir la evolución de esta librería.<BR>\n",
    "<i>Link:&nbsp;&nbsp;<a href=\"https://github.com/cod3licious/autofeat\" target=\\\"_blank\\\">Tsfresh</a></i>\n",
    "</p> \n",
    "\n",
    "<p style=\"font-size:15px;color:#34656d;font-family:'Comic Sans MS';text-align:left;border-radius:5px 5px;\">\n",
    "<strong><u>Feature Selector</u></strong>:<BR>\n",
    "Framework para reducción de dimensionalidad en datasets.<BR>\n",
    "Permite: <i>Detectar valores nulos, valores únicos, colinealidad, caractersiticas con baja o nula importancia</i>.<BR>\n",
    "Herramienta recomendable, pero su comunidad no es activa.<BR>\n",
    "<i>Link:&nbsp;&nbsp;<a href=\"https://github.com/WillKoehrsen/feature-selector\" target=\\\"_blank\\\">feature-selector</a></i>\n",
    "</p> \n",
    "    \n",
    "<p style=\"font-size:15px;color:#34656d;font-family:'Comic Sans MS';text-align:center;border-radius:5px 5px;\">\n",
    "<strong>_____________________________________________________________</strong></p> "
   ]
  },
  {
   "cell_type": "markdown",
   "metadata": {},
   "source": [
    "<a id = \"1.0\"></a>\n",
    "<p style=\"font-size:15px;color:#34656d;font-family:'Comic Sans MS';text-align:left;border-radius:5px 5px;\">\n",
    "<strong><u>Artículos Recomendado</u></strong>:\n",
    "<ul style=\"font-size:15px;color:#34656d;font-family:'Comic Sans MS';text-align:left;border-radius:5px 5px;\">\n",
    "<li><i><a href=\"https://ieeexplore.ieee.org/abstract/document/8955651\" target=\\\"_blank\\\">Automated Feature Enhancement for Predictive Modeling using External Knowledge</a></i></li>\n",
    "<li><i><a href=\"https://arxiv.org/abs/1801.05372\" target=\\\"_blank\\\">Neural Feature Learning From Relational Database</a></i></li>\n",
    "<li><i><a href=\"https://arxiv.org/abs/1706.00327\" target=\\\"_blank\\\">One button machine for automating feature engineering in relational databases</a></i></li>    \n",
    "<li><i><a href=\"https://ieeexplore.ieee.org/abstract/document/7837936\" target=\\\"_blank\\\">ExploreKit: Automatic Feature Generation and Selection</a></i></li>       \n",
    "<li><i><a href=\"https://udayankhurana.com/wp-content/uploads/2018/07/FEbook-Chapter9.pdf\" target=\\\"_blank\\\">Automating Feature Engineering in\n",
    "Supervised Learning\n",
    "</a></i></li>   \n",
    "</ul></p>    "
   ]
  },
  {
   "cell_type": "markdown",
   "metadata": {},
   "source": [
    "<a id = \"1.0\"></a>\n",
    "<p style=\"font-size:15px;color:#34656d;font-family:'Comic Sans MS';text-align:center;border-radius:5px 5px;\">\n",
    "<strong>_____________________________________________________________</strong></p> "
   ]
  },
  {
   "cell_type": "markdown",
   "metadata": {},
   "source": [
    "<a id = \"1.0\"></a>\n",
    "<p style=\"font-size:15px;color:#34656d;font-family:'Comic Sans MS';text-align:left;border-radius:5px 5px;\">\n",
    "<strong><u>Cierre:</u></strong><br>    \n",
    "Se ha dado una aproximación al <b><i>AutoFE</i></b>, como se ha dicho esta etapa de la <b><i>ciencia de datos</i></b> es de suma importancia.</p>"
   ]
  },
  {
   "cell_type": "markdown",
   "metadata": {},
   "source": [
    "<a id = \"1.0\"></a>\n",
    "<p style=\"font-size:15px;color:#34656d;font-family:'Comic Sans MS';text-align:center;border-radius:5px 5px;\">\n",
    "<strong>_____________________________________________________________</strong></p> "
   ]
  },
  {
   "cell_type": "markdown",
   "metadata": {},
   "source": [
    "<a id = \"1.0\"></a>\n",
    "<p style=\"font-size:15px;color:#34656d;font-family:'Comic Sans MS';text-align:left;border-radius:5px 5px;\">\n",
    "<strong><u>Comentario:</u></strong><br>    \n",
    "Esto a sido una introduccion a la librería Featuretools, se recomienda acceder a la Web y seguir profundizando sobre la misma.</p>"
   ]
  },
  {
   "cell_type": "markdown",
   "metadata": {},
   "source": [
    "<a id = \"1.0\"></a>\n",
    "<p style=\"font-size:15px;color:#34656d;font-family:'Comic Sans MS';text-align:center;border-radius:5px 5px;\">\n",
    "<strong>_____________________________________________________________</strong></p> "
   ]
  },
  {
   "cell_type": "markdown",
   "metadata": {},
   "source": [
    "<a id = \"1.0\"></a>\n",
    "<p style=\"font-size:15px;color:#34656d;font-family:'Comic Sans MS';text-align:center;border-radius:5px 5px;\">\n",
    "<strong>_____________________________________________________________</strong></p> "
   ]
  }
 ],
 "metadata": {
  "kernelspec": {
   "display_name": "Austral",
   "language": "python",
   "name": "austral"
  },
  "language_info": {
   "codemirror_mode": {
    "name": "ipython",
    "version": 3
   },
   "file_extension": ".py",
   "mimetype": "text/x-python",
   "name": "python",
   "nbconvert_exporter": "python",
   "pygments_lexer": "ipython3",
   "version": "3.8.5"
  }
 },
 "nbformat": 4,
 "nbformat_minor": 4
}
